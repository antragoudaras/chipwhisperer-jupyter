{
 "cells": [
  {
   "cell_type": "markdown",
   "metadata": {},
   "source": [
    "# Part 3, Topic 3: DPA on Firmware Implementation of AES"
   ]
  },
  {
   "cell_type": "markdown",
   "metadata": {},
   "source": [
    "---\n",
    "NOTE: This lab references some (commercial) training material on [ChipWhisperer.io](https://www.ChipWhisperer.io). You can freely execute and use the lab per the open-source license (including using it in your own courses if you distribute similarly), but you must maintain notice about this source location. Consider joining our training course to enjoy the full experience.\n",
    "\n",
    "---"
   ]
  },
  {
   "cell_type": "markdown",
   "metadata": {},
   "source": [
    "**SUMMARY:** *In the previous lab, you saw how a single bit of information can be used to recover an entire byte of the AES key. Remember, this works due to the S-Box being present in the data flow that we are attacking.*\n",
    "\n",
    "*Next, we'll see how to use power analysis instead of an actual bit value. With this technique, the goal is to separate the traces by a bit in the result of the SBox output (it doesn't matter which one): if that bit is 1, its group of traces should, on average, have higher power consumption during the SBox operation than the other set.*\n",
    "\n",
    "*This is all based on the assumption we discussed in the slides and saw in earlier labs: there is some consistent relationship between the value of bits on the data bus and the power consumption in the device.*\n",
    "\n",
    "**LEARNING OUTCOMES:**\n",
    "\n",
    "* Using a power measurement to 'validate' a possible device model.\n",
    "* Detecting the value of a single bit using power measurement.\n",
    "* Breaking AES using the classic DPA attack.\n"
   ]
  },
  {
   "cell_type": "markdown",
   "metadata": {},
   "source": [
    "## Prerequisites"
   ]
  },
  {
   "cell_type": "markdown",
   "metadata": {},
   "source": [
    "Hold up! Before you continue, check you've done the following tutorials:\n",
    "\n",
    "* ☑ Jupyter Notebook Intro (you should be OK with plotting & running blocks).\n",
    "* ☑ SCA101 Intro (you should have an idea of how to get hardware-specific versions running).\n",
    "* ☑ Breaking AES Using a Single Bit (we'll build on your previous work)."
   ]
  },
  {
   "cell_type": "markdown",
   "metadata": {},
   "source": [
    "## AES Model"
   ]
  },
  {
   "cell_type": "code",
   "execution_count": 1,
   "metadata": {},
   "outputs": [],
   "source": [
    "SCOPETYPE = 'OPENADC'\n",
    "PLATFORM = 'CWLITEXMEGA'\n",
    "CRYPTO_TARGET = 'AVRCRYPTOLIB'\n",
    "VERSION = 'HARDWARE'"
   ]
  },
  {
   "cell_type": "code",
   "execution_count": 2,
   "metadata": {},
   "outputs": [
    {
     "name": "stdout",
     "output_type": "stream",
     "text": [
      "INFO: Found ChipWhisperer😍\n",
      "Building for platform CWLITEXMEGA with CRYPTO_TARGET=AVRCRYPTOLIB\n",
      "SS_VER set to SS_VER_1_1\n",
      "Blank crypto options, building for AES128\n",
      "rm -f -- simpleserial-aes-CWLITEXMEGA.hex\n",
      "rm -f -- simpleserial-aes-CWLITEXMEGA.eep\n",
      "rm -f -- simpleserial-aes-CWLITEXMEGA.cof\n",
      "rm -f -- simpleserial-aes-CWLITEXMEGA.elf\n",
      "rm -f -- simpleserial-aes-CWLITEXMEGA.map\n",
      "rm -f -- simpleserial-aes-CWLITEXMEGA.sym\n",
      "rm -f -- simpleserial-aes-CWLITEXMEGA.lss\n",
      "rm -f -- objdir-CWLITEXMEGA/*.o\n",
      "rm -f -- objdir-CWLITEXMEGA/*.lst\n",
      "rm -f -- simpleserial-aes.s simpleserial.s XMEGA_AES_driver.s uart.s usart_driver.s xmega_hal.s aes-independant.s aes_enc.s aes_keyschedule.s aes_sbox.s aes128_enc.s\n",
      "rm -f -- simpleserial-aes.d simpleserial.d XMEGA_AES_driver.d uart.d usart_driver.d xmega_hal.d aes-independant.d aes_enc.d aes_keyschedule.d aes_sbox.d aes128_enc.d\n",
      "rm -f -- simpleserial-aes.i simpleserial.i XMEGA_AES_driver.i uart.i usart_driver.i xmega_hal.i aes-independant.i aes_enc.i aes_keyschedule.i aes_sbox.i aes128_enc.i\n",
      ".\n",
      "Welcome to another exciting ChipWhisperer target build!!\n",
      "avr-gcc (GCC) 5.4.0\n",
      "Copyright (C) 2015 Free Software Foundation, Inc.\n",
      "This is free software; see the source for copying conditions.  There is NO\n",
      "warranty; not even for MERCHANTABILITY or FITNESS FOR A PARTICULAR PURPOSE.\n",
      "\n",
      ".\n",
      "Compiling C: simpleserial-aes.c\n",
      "avr-gcc -c -mmcu=atxmega128d3 -I. -DNO_EXTRA_OPTS -fpack-struct -gdwarf-2 -DSS_VER=SS_VER_1_1 -DHAL_TYPE=HAL_xmega -DPLATFORM=CWLITEXMEGA -DAVRCRYPTOLIB -DF_CPU=7372800UL -DSS_VER_2_0=2 -DSS_VER_2_1=3 -DSS_VER_1_1=1 -DSS_VER_1_0=0 -Os -funsigned-char -funsigned-bitfields -fshort-enums -Wall -Wstrict-prototypes -Wa,-adhlns=objdir-CWLITEXMEGA/simpleserial-aes.lst -I.././simpleserial/ -I.././hal -I.././hal/xmega -I.././crypto/ -I.././crypto/avrcryptolib//aes -I.././crypto/avrcryptolib//gf256mul -std=gnu99  -MMD -MP -MF .dep/simpleserial-aes.o.d simpleserial-aes.c -o objdir-CWLITEXMEGA/simpleserial-aes.o\n",
      ".\n",
      "Compiling C: .././simpleserial/simpleserial.c\n",
      "avr-gcc -c -mmcu=atxmega128d3 -I. -DNO_EXTRA_OPTS -fpack-struct -gdwarf-2 -DSS_VER=SS_VER_1_1 -DHAL_TYPE=HAL_xmega -DPLATFORM=CWLITEXMEGA -DAVRCRYPTOLIB -DF_CPU=7372800UL -DSS_VER_2_0=2 -DSS_VER_2_1=3 -DSS_VER_1_1=1 -DSS_VER_1_0=0 -Os -funsigned-char -funsigned-bitfields -fshort-enums -Wall -Wstrict-prototypes -Wa,-adhlns=objdir-CWLITEXMEGA/simpleserial.lst -I.././simpleserial/ -I.././hal -I.././hal/xmega -I.././crypto/ -I.././crypto/avrcryptolib//aes -I.././crypto/avrcryptolib//gf256mul -std=gnu99  -MMD -MP -MF .dep/simpleserial.o.d .././simpleserial/simpleserial.c -o objdir-CWLITEXMEGA/simpleserial.o\n",
      ".\n",
      "Compiling C: .././hal/xmega/XMEGA_AES_driver.c\n",
      "avr-gcc -c -mmcu=atxmega128d3 -I. -DNO_EXTRA_OPTS -fpack-struct -gdwarf-2 -DSS_VER=SS_VER_1_1 -DHAL_TYPE=HAL_xmega -DPLATFORM=CWLITEXMEGA -DAVRCRYPTOLIB -DF_CPU=7372800UL -DSS_VER_2_0=2 -DSS_VER_2_1=3 -DSS_VER_1_1=1 -DSS_VER_1_0=0 -Os -funsigned-char -funsigned-bitfields -fshort-enums -Wall -Wstrict-prototypes -Wa,-adhlns=objdir-CWLITEXMEGA/XMEGA_AES_driver.lst -I.././simpleserial/ -I.././hal -I.././hal/xmega -I.././crypto/ -I.././crypto/avrcryptolib//aes -I.././crypto/avrcryptolib//gf256mul -std=gnu99  -MMD -MP -MF .dep/XMEGA_AES_driver.o.d .././hal/xmega/XMEGA_AES_driver.c -o objdir-CWLITEXMEGA/XMEGA_AES_driver.o\n",
      ".\n",
      "Compiling C: .././hal/xmega/uart.c\n",
      "avr-gcc -c -mmcu=atxmega128d3 -I. -DNO_EXTRA_OPTS -fpack-struct -gdwarf-2 -DSS_VER=SS_VER_1_1 -DHAL_TYPE=HAL_xmega -DPLATFORM=CWLITEXMEGA -DAVRCRYPTOLIB -DF_CPU=7372800UL -DSS_VER_2_0=2 -DSS_VER_2_1=3 -DSS_VER_1_1=1 -DSS_VER_1_0=0 -Os -funsigned-char -funsigned-bitfields -fshort-enums -Wall -Wstrict-prototypes -Wa,-adhlns=objdir-CWLITEXMEGA/uart.lst -I.././simpleserial/ -I.././hal -I.././hal/xmega -I.././crypto/ -I.././crypto/avrcryptolib//aes -I.././crypto/avrcryptolib//gf256mul -std=gnu99  -MMD -MP -MF .dep/uart.o.d .././hal/xmega/uart.c -o objdir-CWLITEXMEGA/uart.o\n",
      ".\n",
      "Compiling C: .././hal/xmega/usart_driver.c\n",
      "avr-gcc -c -mmcu=atxmega128d3 -I. -DNO_EXTRA_OPTS -fpack-struct -gdwarf-2 -DSS_VER=SS_VER_1_1 -DHAL_TYPE=HAL_xmega -DPLATFORM=CWLITEXMEGA -DAVRCRYPTOLIB -DF_CPU=7372800UL -DSS_VER_2_0=2 -DSS_VER_2_1=3 -DSS_VER_1_1=1 -DSS_VER_1_0=0 -Os -funsigned-char -funsigned-bitfields -fshort-enums -Wall -Wstrict-prototypes -Wa,-adhlns=objdir-CWLITEXMEGA/usart_driver.lst -I.././simpleserial/ -I.././hal -I.././hal/xmega -I.././crypto/ -I.././crypto/avrcryptolib//aes -I.././crypto/avrcryptolib//gf256mul -std=gnu99  -MMD -MP -MF .dep/usart_driver.o.d .././hal/xmega/usart_driver.c -o objdir-CWLITEXMEGA/usart_driver.o\n",
      ".\n",
      "Compiling C: .././hal/xmega/xmega_hal.c\n",
      "avr-gcc -c -mmcu=atxmega128d3 -I. -DNO_EXTRA_OPTS -fpack-struct -gdwarf-2 -DSS_VER=SS_VER_1_1 -DHAL_TYPE=HAL_xmega -DPLATFORM=CWLITEXMEGA -DAVRCRYPTOLIB -DF_CPU=7372800UL -DSS_VER_2_0=2 -DSS_VER_2_1=3 -DSS_VER_1_1=1 -DSS_VER_1_0=0 -Os -funsigned-char -funsigned-bitfields -fshort-enums -Wall -Wstrict-prototypes -Wa,-adhlns=objdir-CWLITEXMEGA/xmega_hal.lst -I.././simpleserial/ -I.././hal -I.././hal/xmega -I.././crypto/ -I.././crypto/avrcryptolib//aes -I.././crypto/avrcryptolib//gf256mul -std=gnu99  -MMD -MP -MF .dep/xmega_hal.o.d .././hal/xmega/xmega_hal.c -o objdir-CWLITEXMEGA/xmega_hal.o\n",
      ".\n",
      "Compiling C: .././crypto/aes-independant.c\n",
      "avr-gcc -c -mmcu=atxmega128d3 -I. -DNO_EXTRA_OPTS -fpack-struct -gdwarf-2 -DSS_VER=SS_VER_1_1 -DHAL_TYPE=HAL_xmega -DPLATFORM=CWLITEXMEGA -DAVRCRYPTOLIB -DF_CPU=7372800UL -DSS_VER_2_0=2 -DSS_VER_2_1=3 -DSS_VER_1_1=1 -DSS_VER_1_0=0 -Os -funsigned-char -funsigned-bitfields -fshort-enums -Wall -Wstrict-prototypes -Wa,-adhlns=objdir-CWLITEXMEGA/aes-independant.lst -I.././simpleserial/ -I.././hal -I.././hal/xmega -I.././crypto/ -I.././crypto/avrcryptolib//aes -I.././crypto/avrcryptolib//gf256mul -std=gnu99  -MMD -MP -MF .dep/aes-independant.o.d .././crypto/aes-independant.c -o objdir-CWLITEXMEGA/aes-independant.o\n",
      ".\n",
      "Compiling C: .././crypto/avrcryptolib//aes/aes_enc.c\n",
      "avr-gcc -c -mmcu=atxmega128d3 -I. -DNO_EXTRA_OPTS -fpack-struct -gdwarf-2 -DSS_VER=SS_VER_1_1 -DHAL_TYPE=HAL_xmega -DPLATFORM=CWLITEXMEGA -DAVRCRYPTOLIB -DF_CPU=7372800UL -DSS_VER_2_0=2 -DSS_VER_2_1=3 -DSS_VER_1_1=1 -DSS_VER_1_0=0 -Os -funsigned-char -funsigned-bitfields -fshort-enums -Wall -Wstrict-prototypes -Wa,-adhlns=objdir-CWLITEXMEGA/aes_enc.lst -I.././simpleserial/ -I.././hal -I.././hal/xmega -I.././crypto/ -I.././crypto/avrcryptolib//aes -I.././crypto/avrcryptolib//gf256mul -std=gnu99  -MMD -MP -MF .dep/aes_enc.o.d .././crypto/avrcryptolib//aes/aes_enc.c -o objdir-CWLITEXMEGA/aes_enc.o\n",
      ".\n",
      "Compiling C: .././crypto/avrcryptolib//aes/aes_keyschedule.c\n",
      "avr-gcc -c -mmcu=atxmega128d3 -I. -DNO_EXTRA_OPTS -fpack-struct -gdwarf-2 -DSS_VER=SS_VER_1_1 -DHAL_TYPE=HAL_xmega -DPLATFORM=CWLITEXMEGA -DAVRCRYPTOLIB -DF_CPU=7372800UL -DSS_VER_2_0=2 -DSS_VER_2_1=3 -DSS_VER_1_1=1 -DSS_VER_1_0=0 -Os -funsigned-char -funsigned-bitfields -fshort-enums -Wall -Wstrict-prototypes -Wa,-adhlns=objdir-CWLITEXMEGA/aes_keyschedule.lst -I.././simpleserial/ -I.././hal -I.././hal/xmega -I.././crypto/ -I.././crypto/avrcryptolib//aes -I.././crypto/avrcryptolib//gf256mul -std=gnu99  -MMD -MP -MF .dep/aes_keyschedule.o.d .././crypto/avrcryptolib//aes/aes_keyschedule.c -o objdir-CWLITEXMEGA/aes_keyschedule.o\n",
      ".\n",
      "Compiling C: .././crypto/avrcryptolib//aes/aes_sbox.c\n",
      "avr-gcc -c -mmcu=atxmega128d3 -I. -DNO_EXTRA_OPTS -fpack-struct -gdwarf-2 -DSS_VER=SS_VER_1_1 -DHAL_TYPE=HAL_xmega -DPLATFORM=CWLITEXMEGA -DAVRCRYPTOLIB -DF_CPU=7372800UL -DSS_VER_2_0=2 -DSS_VER_2_1=3 -DSS_VER_1_1=1 -DSS_VER_1_0=0 -Os -funsigned-char -funsigned-bitfields -fshort-enums -Wall -Wstrict-prototypes -Wa,-adhlns=objdir-CWLITEXMEGA/aes_sbox.lst -I.././simpleserial/ -I.././hal -I.././hal/xmega -I.././crypto/ -I.././crypto/avrcryptolib//aes -I.././crypto/avrcryptolib//gf256mul -std=gnu99  -MMD -MP -MF .dep/aes_sbox.o.d .././crypto/avrcryptolib//aes/aes_sbox.c -o objdir-CWLITEXMEGA/aes_sbox.o\n",
      ".\n",
      "Compiling C: .././crypto/avrcryptolib//aes/aes128_enc.c\n",
      "avr-gcc -c -mmcu=atxmega128d3 -I. -DNO_EXTRA_OPTS -fpack-struct -gdwarf-2 -DSS_VER=SS_VER_1_1 -DHAL_TYPE=HAL_xmega -DPLATFORM=CWLITEXMEGA -DAVRCRYPTOLIB -DF_CPU=7372800UL -DSS_VER_2_0=2 -DSS_VER_2_1=3 -DSS_VER_1_1=1 -DSS_VER_1_0=0 -Os -funsigned-char -funsigned-bitfields -fshort-enums -Wall -Wstrict-prototypes -Wa,-adhlns=objdir-CWLITEXMEGA/aes128_enc.lst -I.././simpleserial/ -I.././hal -I.././hal/xmega -I.././crypto/ -I.././crypto/avrcryptolib//aes -I.././crypto/avrcryptolib//gf256mul -std=gnu99  -MMD -MP -MF .dep/aes128_enc.o.d .././crypto/avrcryptolib//aes/aes128_enc.c -o objdir-CWLITEXMEGA/aes128_enc.o\n",
      ".\n",
      "Assembling: .././crypto/avrcryptolib//gf256mul/gf256mul.S\n",
      "avr-gcc -c -mmcu=atxmega128d3 -I. -x assembler-with-cpp -DF_CPU=7372800 -Wa,-gstabs,-adhlns=objdir-CWLITEXMEGA/gf256mul.lst -I.././simpleserial/ -I.././hal -I.././hal/xmega -I.././crypto/ -I.././crypto/avrcryptolib//aes -I.././crypto/avrcryptolib//gf256mul .././crypto/avrcryptolib//gf256mul/gf256mul.S -o objdir-CWLITEXMEGA/gf256mul.o\n",
      ".\n",
      "Linking: simpleserial-aes-CWLITEXMEGA.elf\n",
      "avr-gcc -mmcu=atxmega128d3 -I. -DNO_EXTRA_OPTS -fpack-struct -gdwarf-2 -DSS_VER=SS_VER_1_1 -DHAL_TYPE=HAL_xmega -DPLATFORM=CWLITEXMEGA -DAVRCRYPTOLIB -DF_CPU=7372800UL -DSS_VER_2_0=2 -DSS_VER_2_1=3 -DSS_VER_1_1=1 -DSS_VER_1_0=0 -Os -funsigned-char -funsigned-bitfields -fshort-enums -Wall -Wstrict-prototypes -Wa,-adhlns=objdir-CWLITEXMEGA/simpleserial-aes.o -I.././simpleserial/ -I.././hal -I.././hal/xmega -I.././crypto/ -I.././crypto/avrcryptolib//aes -I.././crypto/avrcryptolib//gf256mul -std=gnu99  -MMD -MP -MF .dep/simpleserial-aes-CWLITEXMEGA.elf.d objdir-CWLITEXMEGA/simpleserial-aes.o objdir-CWLITEXMEGA/simpleserial.o objdir-CWLITEXMEGA/XMEGA_AES_driver.o objdir-CWLITEXMEGA/uart.o objdir-CWLITEXMEGA/usart_driver.o objdir-CWLITEXMEGA/xmega_hal.o objdir-CWLITEXMEGA/aes-independant.o objdir-CWLITEXMEGA/aes_enc.o objdir-CWLITEXMEGA/aes_keyschedule.o objdir-CWLITEXMEGA/aes_sbox.o objdir-CWLITEXMEGA/aes128_enc.o objdir-CWLITEXMEGA/gf256mul.o --output simpleserial-aes-CWLITEXMEGA.elf -Wl,-Map=simpleserial-aes-CWLITEXMEGA.map,--cref   -lm  \n",
      ".\n",
      "Creating load file for Flash: simpleserial-aes-CWLITEXMEGA.hex\n",
      "avr-objcopy -O ihex -R .eeprom -R .fuse -R .lock -R .signature simpleserial-aes-CWLITEXMEGA.elf simpleserial-aes-CWLITEXMEGA.hex\n",
      ".\n",
      "Creating load file for EEPROM: simpleserial-aes-CWLITEXMEGA.eep\n",
      "avr-objcopy -j .eeprom --set-section-flags=.eeprom=\"alloc,load\" \\\n",
      "--change-section-lma .eeprom=0 --no-change-warnings -O ihex simpleserial-aes-CWLITEXMEGA.elf simpleserial-aes-CWLITEXMEGA.eep || exit 0\n",
      ".\n",
      "Creating Extended Listing: simpleserial-aes-CWLITEXMEGA.lss\n",
      "avr-objdump -h -S -z simpleserial-aes-CWLITEXMEGA.elf > simpleserial-aes-CWLITEXMEGA.lss\n",
      ".\n",
      "Creating Symbol Table: simpleserial-aes-CWLITEXMEGA.sym\n",
      "avr-nm -n simpleserial-aes-CWLITEXMEGA.elf > simpleserial-aes-CWLITEXMEGA.sym\n",
      "Size after:\n",
      "   text\t   data\t    bss\t    dec\t    hex\tfilename\n",
      "   3728\t     34\t    274\t   4036\t    fc4\tsimpleserial-aes-CWLITEXMEGA.elf\n",
      "+--------------------------------------------------------\n",
      "+ Default target does full rebuild each time.\n",
      "+ Specify buildtarget == allquick == to avoid full rebuild\n",
      "+--------------------------------------------------------\n",
      "+--------------------------------------------------------\n",
      "+ Built for platform CW-Lite XMEGA with:\n",
      "+ CRYPTO_TARGET = AVRCRYPTOLIB\n",
      "+ CRYPTO_OPTIONS = AES128C\n",
      "+--------------------------------------------------------\n",
      "XMEGA Programming flash...\n",
      "XMEGA Reading flash...\n",
      "Verified flash OK, 3761 bytes\n"
     ]
    },
    {
     "name": "stderr",
     "output_type": "stream",
     "text": [
      "Lab 3_3 - DPA on Firmware Implementation of AES (HARDWARE).ipynb:14: TqdmDeprecationWarning: Please use `tqdm.notebook.trange` instead of `tqdm.tnrange`\n",
      "  \"---\\n\",\n"
     ]
    },
    {
     "data": {
      "application/vnd.jupyter.widget-view+json": {
       "model_id": "f0b6faeb6d97402a9edce243b12da2ac",
       "version_major": 2,
       "version_minor": 0
      },
      "text/plain": [
       "Capturing traces:   0%|          | 0/5000 [00:00<?, ?it/s]"
      ]
     },
     "metadata": {},
     "output_type": "display_data"
    }
   ],
   "source": [
    "if VERSION == 'HARDWARE':\n",
    "    %run \"Lab 3_3 - DPA on Firmware Implementation of AES (HARDWARE).ipynb\"\n",
    "elif VERSION == 'SIMULATED':\n",
    "    %run \"Lab 3_3 - DPA on Firmware Implementation of AES (SIMULATED).ipynb\""
   ]
  },
  {
   "cell_type": "markdown",
   "metadata": {},
   "source": [
    "No need to remember the complex model from before - we can instead just jump right into the AES model! Copy your AES model you developed in the previous lab below & run it:"
   ]
  },
  {
   "cell_type": "code",
   "execution_count": 3,
   "metadata": {},
   "outputs": [],
   "source": [
    "sbox = [\n",
    "    # 0    1    2    3    4    5    6    7    8    9    a    b    c    d    e    f \n",
    "    0x63,0x7c,0x77,0x7b,0xf2,0x6b,0x6f,0xc5,0x30,0x01,0x67,0x2b,0xfe,0xd7,0xab,0x76, # 0\n",
    "    0xca,0x82,0xc9,0x7d,0xfa,0x59,0x47,0xf0,0xad,0xd4,0xa2,0xaf,0x9c,0xa4,0x72,0xc0, # 1\n",
    "    0xb7,0xfd,0x93,0x26,0x36,0x3f,0xf7,0xcc,0x34,0xa5,0xe5,0xf1,0x71,0xd8,0x31,0x15, # 2\n",
    "    0x04,0xc7,0x23,0xc3,0x18,0x96,0x05,0x9a,0x07,0x12,0x80,0xe2,0xeb,0x27,0xb2,0x75, # 3\n",
    "    0x09,0x83,0x2c,0x1a,0x1b,0x6e,0x5a,0xa0,0x52,0x3b,0xd6,0xb3,0x29,0xe3,0x2f,0x84, # 4\n",
    "    0x53,0xd1,0x00,0xed,0x20,0xfc,0xb1,0x5b,0x6a,0xcb,0xbe,0x39,0x4a,0x4c,0x58,0xcf, # 5\n",
    "    0xd0,0xef,0xaa,0xfb,0x43,0x4d,0x33,0x85,0x45,0xf9,0x02,0x7f,0x50,0x3c,0x9f,0xa8, # 6\n",
    "    0x51,0xa3,0x40,0x8f,0x92,0x9d,0x38,0xf5,0xbc,0xb6,0xda,0x21,0x10,0xff,0xf3,0xd2, # 7\n",
    "    0xcd,0x0c,0x13,0xec,0x5f,0x97,0x44,0x17,0xc4,0xa7,0x7e,0x3d,0x64,0x5d,0x19,0x73, # 8\n",
    "    0x60,0x81,0x4f,0xdc,0x22,0x2a,0x90,0x88,0x46,0xee,0xb8,0x14,0xde,0x5e,0x0b,0xdb, # 9\n",
    "    0xe0,0x32,0x3a,0x0a,0x49,0x06,0x24,0x5c,0xc2,0xd3,0xac,0x62,0x91,0x95,0xe4,0x79, # a\n",
    "    0xe7,0xc8,0x37,0x6d,0x8d,0xd5,0x4e,0xa9,0x6c,0x56,0xf4,0xea,0x65,0x7a,0xae,0x08, # b\n",
    "    0xba,0x78,0x25,0x2e,0x1c,0xa6,0xb4,0xc6,0xe8,0xdd,0x74,0x1f,0x4b,0xbd,0x8b,0x8a, # c\n",
    "    0x70,0x3e,0xb5,0x66,0x48,0x03,0xf6,0x0e,0x61,0x35,0x57,0xb9,0x86,0xc1,0x1d,0x9e, # d\n",
    "    0xe1,0xf8,0x98,0x11,0x69,0xd9,0x8e,0x94,0x9b,0x1e,0x87,0xe9,0xce,0x55,0x28,0xdf, # e\n",
    "    0x8c,0xa1,0x89,0x0d,0xbf,0xe6,0x42,0x68,0x41,0x99,0x2d,0x0f,0xb0,0x54,0xbb,0x16  # f\n",
    "]\n",
    "\n",
    "def aes_internal(inputdata, key):\n",
    "    return sbox[inputdata ^ key]"
   ]
  },
  {
   "cell_type": "markdown",
   "metadata": {},
   "source": [
    "You can verify the model works by running the following blocks, just like last time:"
   ]
  },
  {
   "cell_type": "code",
   "execution_count": 4,
   "metadata": {},
   "outputs": [
    {
     "name": "stdout",
     "output_type": "stream",
     "text": [
      "✔️ OK to continue!\n"
     ]
    }
   ],
   "source": [
    "#Simple test vectors - if you get the check-mark printed all OK.\n",
    "assert(aes_internal(0xAB, 0xEF) == 0x1B)\n",
    "assert(aes_internal(0x22, 0x01) == 0x26)\n",
    "print(\"✔️ OK to continue!\")"
   ]
  },
  {
   "cell_type": "markdown",
   "metadata": {},
   "source": [
    "## AES Power Watcher"
   ]
  },
  {
   "cell_type": "markdown",
   "metadata": {},
   "source": [
    "The next step is to send random data to the device, and observe the power consumption during the encryption.\n",
    "\n",
    "The idea is that we will use a capture loop like this:\n",
    "\n",
    "    print(scope)\n",
    "    for i in trange(N, desc='Capturing traces'):\n",
    "        key, text = ktp.next()  # manual creation of a key, text pair can be substituted here\n",
    "\n",
    "        trace = cw.capture_trace(scope, target, text, key)\n",
    "        if trace is None:\n",
    "            continue\n",
    "        traces.append(trace)\n",
    "        plot.send(trace)\n",
    "\n",
    "    #Convert traces to numpy arrays\n",
    "    trace_array = np.asarray([trace.wave for trace in traces])\n",
    "    textin_array = np.asarray([trace.textin for trace in traces])\n",
    "    known_keys = np.asarray([trace.key for trace in traces])  # for fixed key, these keys are all the same\n",
    "\n",
    "Depending what you are using, you can complete this either by:\n",
    "\n",
    "* Capturing new traces from a physical device.\n",
    "* Reading pre-recorded data from a file.\n",
    "\n",
    "You get to choose your adventure - see the two notebooks with the same name of this, but called `(SIMULATED)` or `(HARDWARE)` to continue. Inside those notebooks you should get some code to copy into the following section, which will define the capture function.\n",
    "\n",
    "Be sure you get the `\"✔️ OK to continue!\"` print once you run the next cell, otherwise things will fail later on!"
   ]
  },
  {
   "cell_type": "code",
   "execution_count": 5,
   "metadata": {},
   "outputs": [
    {
     "name": "stdout",
     "output_type": "stream",
     "text": [
      "✔️ OK to continue!\n"
     ]
    }
   ],
   "source": [
    "assert(len(trace_array) == 5000)\n",
    "print(\"✔️ OK to continue!\")"
   ]
  },
  {
   "cell_type": "markdown",
   "metadata": {},
   "source": [
    "What's this data look like? Try plotting a trace or two here:"
   ]
  },
  {
   "cell_type": "code",
   "execution_count": 6,
   "metadata": {},
   "outputs": [
    {
     "data": {
      "application/vnd.jupyter.widget-view+json": {
       "model_id": "b08a43cb17f04a97ba4d5ea12b8bc784",
       "version_major": 2,
       "version_minor": 0
      },
      "image/png": "[encoded data removed]",
      "text/plain": [
       "Canvas(toolbar=Toolbar(toolitems=[('Home', 'Reset original view', 'home', 'home'), ('Back', 'Back to previous …"
      ]
     },
     "metadata": {},
     "output_type": "display_data"
    }
   ],
   "source": [
    "%matplotlib ipympl\n",
    "import matplotlib.pylab as plt\n",
    "\n",
    "# ###################\n",
    "# START SOLUTION\n",
    "# ###################\n",
    "plt.figure()\n",
    "plt.plot(trace_array[0], 'r')\n",
    "plt.plot(trace_array[1], 'g')\n",
    "plt.show()\n",
    "# ###################\n",
    "# END SOLUTION\n",
    "# ###################"
   ]
  },
  {
   "cell_type": "markdown",
   "metadata": {},
   "source": [
    "OK interesting - so we've got data! And what about the format of the input data?"
   ]
  },
  {
   "cell_type": "code",
   "execution_count": 7,
   "metadata": {},
   "outputs": [
    {
     "name": "stdout",
     "output_type": "stream",
     "text": [
      "CWbytearray(b'71 30 e6 92 79 28 e0 72 38 d2 a0 04 e7 db c5 86')\n",
      "CWbytearray(b'65 97 e4 e0 c2 ce 4e 84 2b 4a 2b 74 83 86 b8 91')\n"
     ]
    }
   ],
   "source": [
    "print(textin_array[0])\n",
    "print(textin_array[1])"
   ]
  },
  {
   "cell_type": "markdown",
   "metadata": {},
   "source": [
    "## AES Guesser - One Byte"
   ]
  },
  {
   "cell_type": "markdown",
   "metadata": {},
   "source": [
    "The attack now needs a way of splitting traces into two groups, depending on the state of a bit in our \"guessed\" value. We're going to start easy by guessing a single byte of the AES key at a time.\n",
    "\n",
    "To start with - define the number of traces & number of points in each trace. You can use the following example code, just run this block:"
   ]
  },
  {
   "cell_type": "code",
   "execution_count": 8,
   "metadata": {},
   "outputs": [],
   "source": [
    "numtraces = np.shape(trace_array)[0] #total number of traces\"\n",
    "numpoints = np.shape(trace_array)[1] #samples per trace"
   ]
  },
  {
   "cell_type": "markdown",
   "metadata": {},
   "source": [
    "If you remember from the slides - our algorithm looks like this:    \n",
    "\n",
    "    for key_byte_guess_value in [0, 1, 2, 3, ... 253, 254, 255]:\n",
    "        \n",
    "        one_list = empty list\n",
    "        zero_list = empty list\n",
    "        \n",
    "        for trace_index in [0, 1, 2, 3, ..., numtraces]:\n",
    "        \n",
    "            input_byte = textin_array[trace_index][byte_to_attack]\n",
    "            \n",
    "            #Get a hypothetical leakage list - use aes_internal(guess, input_byte)          \n",
    "\n",
    "            if hypothetical_leakage bit 0 is 1:\n",
    "                append trace_array[trace_index] to one_list\n",
    "            else:\n",
    "                append trace_array[trace_index] to zero_list\n",
    "                \n",
    "        one_avg = average of one_list\n",
    "        zero_avg = average of zero_list\n",
    "\n",
    "        max_diff_value = maximum of ABS(one_avg - zero_avg)\n",
    "        \n",
    "To get the average of your `one_list` and `zero_list` you can use numpy:\n",
    "\n",
    "    import numpy as np\n",
    "    avg_one_list = np.asarray(one_list).mean(axis=0)\n",
    "\n",
    "The important thing here is the `axis=0`, which does an average so the resulting array is done across all traces (not just the average value of one trace, but the average of each point index *across all traces*).\n",
    "\n",
    "To help you do some testing - let me tell you that the correct value of byte 0 is `0x2B`. You can use this to validate that your solution is working on the first byte. If you get stuck - see some hints below (but give it a try first).\n",
    "\n",
    "What you should see is an output of the maximum value between the two average groups be higher for the `0x2B` value. For example, priting the maximum SAD value from an example loop looks like this for me:\n",
    "\n",
    "    Guessing 28: 0.001397\n",
    "    Guessing 29: 0.000927\n",
    "    Guessing 2a: 0.001953\n",
    "    Guessing 2b: 0.005278\n",
    "    Guessing 2c: 0.000919\n",
    "    Guessing 2d: 0.002510\n",
    "    Guessing 2e: 0.001241\n",
    "    Guessing 2f: 0.001242\n",
    "\n",
    "Note the value of `0.005278` for `0x2B` - this is higher than the others which range from `0.000927` to `0.002510`."
   ]
  },
  {
   "cell_type": "code",
   "execution_count": 9,
   "metadata": {},
   "outputs": [
    {
     "name": "stdout",
     "output_type": "stream",
     "text": [
      "Guessing 00: 0.002523\n",
      "Guessing 01: 0.001778\n",
      "Guessing 02: 0.002214\n",
      "Guessing 03: 0.001693\n",
      "Guessing 04: 0.001884\n",
      "Guessing 05: 0.001523\n",
      "Guessing 06: 0.001682\n",
      "Guessing 07: 0.001685\n",
      "Guessing 08: 0.001773\n",
      "Guessing 09: 0.002449\n",
      "Guessing 0a: 0.002156\n",
      "Guessing 0b: 0.002615\n",
      "Guessing 0c: 0.001980\n",
      "Guessing 0d: 0.001717\n",
      "Guessing 0e: 0.001997\n",
      "Guessing 0f: 0.002337\n",
      "Guessing 10: 0.002482\n",
      "Guessing 11: 0.002376\n",
      "Guessing 12: 0.001964\n",
      "Guessing 13: 0.001814\n",
      "Guessing 14: 0.002069\n",
      "Guessing 15: 0.003014\n",
      "Guessing 16: 0.001879\n",
      "Guessing 17: 0.001719\n",
      "Guessing 18: 0.001593\n",
      "Guessing 19: 0.002022\n",
      "Guessing 1a: 0.001363\n",
      "Guessing 1b: 0.001995\n",
      "Guessing 1c: 0.001953\n",
      "Guessing 1d: 0.001701\n",
      "Guessing 1e: 0.002260\n",
      "Guessing 1f: 0.001860\n",
      "Guessing 20: 0.002497\n",
      "Guessing 21: 0.001990\n",
      "Guessing 22: 0.002571\n",
      "Guessing 23: 0.002106\n",
      "Guessing 24: 0.001677\n",
      "Guessing 25: 0.001453\n",
      "Guessing 26: 0.001799\n",
      "Guessing 27: 0.002438\n",
      "Guessing 28: 0.001859\n",
      "Guessing 29: 0.001612\n",
      "Guessing 2a: 0.003624\n",
      "Guessing 2b: 0.004924\n",
      "Guessing 2c: 0.001813\n",
      "Guessing 2d: 0.002392\n",
      "Guessing 2e: 0.001482\n",
      "Guessing 2f: 0.001765\n",
      "Guessing 30: 0.002325\n",
      "Guessing 31: 0.001434\n",
      "Guessing 32: 0.001760\n",
      "Guessing 33: 0.001501\n",
      "Guessing 34: 0.002442\n",
      "Guessing 35: 0.002704\n",
      "Guessing 36: 0.002113\n",
      "Guessing 37: 0.001800\n",
      "Guessing 38: 0.002084\n",
      "Guessing 39: 0.002003\n",
      "Guessing 3a: 0.002033\n",
      "Guessing 3b: 0.002131\n",
      "Guessing 3c: 0.002312\n",
      "Guessing 3d: 0.002007\n",
      "Guessing 3e: 0.002185\n",
      "Guessing 3f: 0.002182\n",
      "Guessing 40: 0.002705\n",
      "Guessing 41: 0.001732\n",
      "Guessing 42: 0.002745\n",
      "Guessing 43: 0.002239\n",
      "Guessing 44: 0.002943\n",
      "Guessing 45: 0.002165\n",
      "Guessing 46: 0.001737\n",
      "Guessing 47: 0.001656\n",
      "Guessing 48: 0.002685\n",
      "Guessing 49: 0.002500\n",
      "Guessing 4a: 0.002954\n",
      "Guessing 4b: 0.001892\n",
      "Guessing 4c: 0.002140\n",
      "Guessing 4d: 0.001964\n",
      "Guessing 4e: 0.002823\n",
      "Guessing 4f: 0.003459\n",
      "Guessing 50: 0.002134\n",
      "Guessing 51: 0.001807\n",
      "Guessing 52: 0.002468\n",
      "Guessing 53: 0.003266\n",
      "Guessing 54: 0.002191\n",
      "Guessing 55: 0.001710\n",
      "Guessing 56: 0.001802\n",
      "Guessing 57: 0.001839\n",
      "Guessing 58: 0.001832\n",
      "Guessing 59: 0.001678\n",
      "Guessing 5a: 0.001481\n",
      "Guessing 5b: 0.002300\n",
      "Guessing 5c: 0.002101\n",
      "Guessing 5d: 0.002110\n",
      "Guessing 5e: 0.001748\n",
      "Guessing 5f: 0.002057\n",
      "Guessing 60: 0.002745\n",
      "Guessing 61: 0.002399\n",
      "Guessing 62: 0.002809\n",
      "Guessing 63: 0.002103\n",
      "Guessing 64: 0.001783\n",
      "Guessing 65: 0.001664\n",
      "Guessing 66: 0.002230\n",
      "Guessing 67: 0.001558\n",
      "Guessing 68: 0.002400\n",
      "Guessing 69: 0.002487\n",
      "Guessing 6a: 0.002077\n",
      "Guessing 6b: 0.001988\n",
      "Guessing 6c: 0.001741\n",
      "Guessing 6d: 0.001852\n",
      "Guessing 6e: 0.002205\n",
      "Guessing 6f: 0.001853\n",
      "Guessing 70: 0.001970\n",
      "Guessing 71: 0.001366\n",
      "Guessing 72: 0.002066\n",
      "Guessing 73: 0.001499\n",
      "Guessing 74: 0.001563\n",
      "Guessing 75: 0.001817\n",
      "Guessing 76: 0.001843\n",
      "Guessing 77: 0.001678\n",
      "Guessing 78: 0.001657\n",
      "Guessing 79: 0.002530\n",
      "Guessing 7a: 0.001805\n",
      "Guessing 7b: 0.001752\n",
      "Guessing 7c: 0.001825\n",
      "Guessing 7d: 0.001505\n",
      "Guessing 7e: 0.001718\n",
      "Guessing 7f: 0.002435\n",
      "Guessing 80: 0.001843\n",
      "Guessing 81: 0.002260\n",
      "Guessing 82: 0.002309\n",
      "Guessing 83: 0.001347\n",
      "Guessing 84: 0.002539\n",
      "Guessing 85: 0.002226\n",
      "Guessing 86: 0.001619\n",
      "Guessing 87: 0.001915\n",
      "Guessing 88: 0.001943\n",
      "Guessing 89: 0.001972\n",
      "Guessing 8a: 0.002254\n",
      "Guessing 8b: 0.002062\n",
      "Guessing 8c: 0.002205\n",
      "Guessing 8d: 0.001878\n",
      "Guessing 8e: 0.002435\n",
      "Guessing 8f: 0.002546\n",
      "Guessing 90: 0.001583\n",
      "Guessing 91: 0.001791\n",
      "Guessing 92: 0.001776\n",
      "Guessing 93: 0.001949\n",
      "Guessing 94: 0.001909\n",
      "Guessing 95: 0.002641\n",
      "Guessing 96: 0.003021\n",
      "Guessing 97: 0.002217\n",
      "Guessing 98: 0.001786\n",
      "Guessing 99: 0.002114\n",
      "Guessing 9a: 0.001911\n",
      "Guessing 9b: 0.002164\n",
      "Guessing 9c: 0.002184\n",
      "Guessing 9d: 0.002891\n",
      "Guessing 9e: 0.002088\n",
      "Guessing 9f: 0.002230\n",
      "Guessing a0: 0.001806\n",
      "Guessing a1: 0.001981\n",
      "Guessing a2: 0.002100\n",
      "Guessing a3: 0.002066\n",
      "Guessing a4: 0.001940\n",
      "Guessing a5: 0.001940\n",
      "Guessing a6: 0.001855\n",
      "Guessing a7: 0.002264\n",
      "Guessing a8: 0.001680\n",
      "Guessing a9: 0.002327\n",
      "Guessing aa: 0.002143\n",
      "Guessing ab: 0.001921\n",
      "Guessing ac: 0.001873\n",
      "Guessing ad: 0.002355\n",
      "Guessing ae: 0.002134\n",
      "Guessing af: 0.001988\n",
      "Guessing b0: 0.001248\n",
      "Guessing b1: 0.002157\n",
      "Guessing b2: 0.002790\n",
      "Guessing b3: 0.002560\n",
      "Guessing b4: 0.002187\n",
      "Guessing b5: 0.002812\n",
      "Guessing b6: 0.002045\n",
      "Guessing b7: 0.003280\n",
      "Guessing b8: 0.002409\n",
      "Guessing b9: 0.002423\n",
      "Guessing ba: 0.001750\n",
      "Guessing bb: 0.002594\n",
      "Guessing bc: 0.002512\n",
      "Guessing bd: 0.002134\n",
      "Guessing be: 0.001808\n",
      "Guessing bf: 0.003365\n",
      "Guessing c0: 0.001778\n",
      "Guessing c1: 0.002158\n",
      "Guessing c2: 0.001946\n",
      "Guessing c3: 0.002429\n",
      "Guessing c4: 0.002049\n",
      "Guessing c5: 0.001348\n",
      "Guessing c6: 0.002381\n",
      "Guessing c7: 0.002280\n",
      "Guessing c8: 0.002018\n",
      "Guessing c9: 0.002208\n",
      "Guessing ca: 0.001683\n",
      "Guessing cb: 0.002159\n",
      "Guessing cc: 0.002177\n",
      "Guessing cd: 0.002291\n",
      "Guessing ce: 0.001692\n",
      "Guessing cf: 0.001516\n",
      "Guessing d0: 0.002031\n",
      "Guessing d1: 0.002114\n",
      "Guessing d2: 0.001999\n",
      "Guessing d3: 0.002495\n",
      "Guessing d4: 0.003100\n",
      "Guessing d5: 0.002468\n",
      "Guessing d6: 0.002097\n",
      "Guessing d7: 0.001831\n",
      "Guessing d8: 0.002396\n",
      "Guessing d9: 0.003254\n",
      "Guessing da: 0.002515\n",
      "Guessing db: 0.002368\n",
      "Guessing dc: 0.002016\n",
      "Guessing dd: 0.001686\n",
      "Guessing de: 0.002348\n",
      "Guessing df: 0.001775\n",
      "Guessing e0: 0.001947\n",
      "Guessing e1: 0.002216\n",
      "Guessing e2: 0.001719\n",
      "Guessing e3: 0.002207\n",
      "Guessing e4: 0.002123\n",
      "Guessing e5: 0.001917\n",
      "Guessing e6: 0.002561\n",
      "Guessing e7: 0.002478\n",
      "Guessing e8: 0.002353\n",
      "Guessing e9: 0.002118\n",
      "Guessing ea: 0.002288\n",
      "Guessing eb: 0.001978\n",
      "Guessing ec: 0.002251\n",
      "Guessing ed: 0.002101\n",
      "Guessing ee: 0.001819\n",
      "Guessing ef: 0.001672\n",
      "Guessing f0: 0.002171\n",
      "Guessing f1: 0.001635\n",
      "Guessing f2: 0.001651\n",
      "Guessing f3: 0.001864\n",
      "Guessing f4: 0.002169\n",
      "Guessing f5: 0.001632\n",
      "Guessing f6: 0.001581\n",
      "Guessing f7: 0.002192\n",
      "Guessing f8: 0.002082\n",
      "Guessing f9: 0.001555\n",
      "Guessing fa: 0.001930\n",
      "Guessing fb: 0.002076\n",
      "Guessing fc: 0.002039\n",
      "Guessing fd: 0.002242\n",
      "Guessing fe: 0.002961\n",
      "Guessing ff: 0.003039\n"
     ]
    }
   ],
   "source": [
    "# ###################\n",
    "# Add your code here\n",
    "# ###################\n",
    "#raise NotImplementedError(\"Add Your Code Here\")\n",
    "\n",
    "# ###################\n",
    "# START SOLUTION\n",
    "# ###################\n",
    "import numpy as np\n",
    "mean_diffs = np.zeros(256)\n",
    "\n",
    "guessed_byte = 0\n",
    "\n",
    "for guess in range(0, 256):\n",
    "    \n",
    "    one_list = []\n",
    "    zero_list = []\n",
    "    \n",
    "    for trace_index in range(numtraces):\n",
    "        \n",
    "        #Get a hypothetical leakage list - use aes_internal(guess, input_byte)\n",
    "        hypothetical_leakage = aes_internal(guess, textin_array[trace_index][guessed_byte])\n",
    "    \n",
    "        #Mask off the lowest bit - is it 0 or 1? Depending on that add trace to array\n",
    "        if hypothetical_leakage & 0x01:        \n",
    "            one_list.append(trace_array[trace_index])\n",
    "        else:\n",
    "            zero_list.append(trace_array[trace_index])\n",
    "            \n",
    "    one_avg = np.asarray(one_list).mean(axis=0)\n",
    "    zero_avg = np.asarray(zero_list).mean(axis=0)\n",
    "    mean_diffs[guess] = np.max(abs(one_avg - zero_avg))\n",
    "    \n",
    "    print(\"Guessing %02x: %f\"%(guess, mean_diffs[guess]))\n",
    "    \n",
    "# ###################\n",
    "# END SOLUTION\n",
    "# ###################"
   ]
  },
  {
   "cell_type": "code",
   "execution_count": 10,
   "metadata": {},
   "outputs": [
    {
     "name": "stdout",
     "output_type": "stream",
     "text": [
      "2B : 0.004924\n",
      "2A : 0.003624\n",
      "4F : 0.003459\n",
      "BF : 0.003365\n",
      "B7 : 0.003280\n"
     ]
    }
   ],
   "source": [
    "sorted_list = np.argsort(mean_diffs)[::-1]\n",
    "for g in sorted_list[0:5]:\n",
    "    print('{:0X} : {:f}'.format(g, mean_diffs[g]))"
   ]
  },
  {
   "cell_type": "markdown",
   "metadata": {},
   "source": [
    "### Hint 1: General Program Flow\n",
    "\n",
    "You can use the following general program flow to help you implement the outer loop above:"
   ]
  },
  {
   "cell_type": "code",
   "execution_count": 11,
   "metadata": {},
   "outputs": [],
   "source": [
    "#Hint #1 - General Program Flow\n",
    "import numpy as np\n",
    "mean_diffs = np.zeros(256)\n",
    "\n",
    "guessed_byte = 0\n",
    "\n",
    "for guess in range(0, 256):\n",
    "    \n",
    "    one_list = []\n",
    "    zero_list = []\n",
    "    \n",
    "    for trace_index in range(numtraces):\n",
    "        #Inside here do the steps shown above\n",
    "        pass\n",
    "        \n",
    "    #Do extra steps to average one_list and zero_list        "
   ]
  },
  {
   "cell_type": "markdown",
   "metadata": {},
   "source": [
    "### Hint 2: Example of Two Different Key Guesses\n",
    "\n",
    "We aren't fully going to give it away (see `SOLN` notebook if you want that), but here is how you can generate two differences, for `0x2B` and `0xFF`. If you're totally stuck you can use the following code to base what should be inside the loops on."
   ]
  },
  {
   "cell_type": "code",
   "execution_count": 12,
   "metadata": {},
   "outputs": [
    {
     "name": "stdout",
     "output_type": "stream",
     "text": [
      "Max SAD for 0x2B: 0.004924482562989066\n",
      "Max SAD for 0xFF: 0.0030389402542778943\n"
     ]
    }
   ],
   "source": [
    "import numpy as np\n",
    "mean_diffs = np.zeros(256)\n",
    "\n",
    "### Code to do guess of byte 0 set to 0x2B\n",
    "guessed_byte = 0\n",
    "guess = 0x2B\n",
    "   \n",
    "one_list = []\n",
    "zero_list = []\n",
    "    \n",
    "for trace_index in range(numtraces):\n",
    "    hypothetical_leakage = aes_internal(guess, textin_array[trace_index][guessed_byte])\n",
    "\n",
    "    #Mask off the lowest bit - is it 0 or 1? Depending on that add trace to array\n",
    "    if hypothetical_leakage & 0x01:        \n",
    "        one_list.append(trace_array[trace_index])\n",
    "    else:\n",
    "        zero_list.append(trace_array[trace_index])\n",
    "            \n",
    "one_avg = np.asarray(one_list).mean(axis=0)\n",
    "zero_avg = np.asarray(zero_list).mean(axis=0)\n",
    "mean_diffs_2b = np.max(abs(one_avg - zero_avg))\n",
    "\n",
    "print(\"Max SAD for 0x2B: {:1}\".format(mean_diffs_2b))\n",
    "\n",
    "### Code to do guess of byte 0 set to 0xFF\n",
    "guessed_byte = 0\n",
    "guess = 0xFF\n",
    "    \n",
    "one_list = []\n",
    "zero_list = []\n",
    "    \n",
    "for trace_index in range(numtraces):\n",
    "    hypothetical_leakage = aes_internal(guess, textin_array[trace_index][guessed_byte])\n",
    "\n",
    "    #Mask off the lowest bit - is it 0 or 1? Depending on that add trace to array\n",
    "    if hypothetical_leakage & 0x01:        \n",
    "        one_list.append(trace_array[trace_index])\n",
    "    else:\n",
    "        zero_list.append(trace_array[trace_index])\n",
    "            \n",
    "one_avg = np.asarray(one_list).mean(axis=0)\n",
    "zero_avg = np.asarray(zero_list).mean(axis=0)\n",
    "mean_diffs_ff = np.max(abs(one_avg - zero_avg))\n",
    "\n",
    "print(\"Max SAD for 0xFF: {:1}\".format(mean_diffs_ff))"
   ]
  },
  {
   "cell_type": "markdown",
   "metadata": {},
   "source": [
    "## Ranking Guesses"
   ]
  },
  {
   "cell_type": "markdown",
   "metadata": {},
   "source": [
    "You'll also want to rank some of your guesses (we assume). This will help you identify the most likely value. The best way to do this is build a list of the maximum difference values for each key:\n",
    "\n",
    "    mean_diffs = [0]*256\n",
    "\n",
    "    for key_byte_guess_value in [0, 1, 2, 3, ... 253, 254, 255]:\n",
    "\n",
    "        *** CODE FROM BEFORE***\n",
    "        max_diff_value = maximum of ABS(one_avg - zero_avg)\n",
    "        mean_diffs[key_byte_guess_value] = max_diff_value\n",
    "        \n",
    "If you modify your previous code, it will generate a list of maximum differences in a list. This list will look like:\n",
    "\n",
    "    [0.002921, 0.001923, 0.005131, ..., 0.000984]\n",
    "    \n",
    "Where the *index* of the list is the value of the key guess. We can use `np.argsort` which generates a new list showing the *indicies* that would sort an original list (you should have learned about `argsort` in the previous lab too):\n",
    "\n",
    "So for example, run the following to see it in action on the list `[1.0, 0.2, 3.4, 0.01]`:"
   ]
  },
  {
   "cell_type": "code",
   "execution_count": 13,
   "metadata": {},
   "outputs": [
    {
     "data": {
      "text/plain": [
       "array([3, 1, 0, 2])"
      ]
     },
     "execution_count": 13,
     "metadata": {},
     "output_type": "execute_result"
    }
   ],
   "source": [
    "np.argsort([1.0, 0.2, 3.4, 0.01])"
   ]
  },
  {
   "cell_type": "markdown",
   "metadata": {},
   "source": [
    "This should return `[3, 1, 0, 2`] - that is the order of lowest to highest. To change from highest to lowest, remember you just add `[::-1]` at the end of it like `np.argsort([1.0, 0.2, 3.4, 0.01])[::-1]`.\n",
    "\n",
    "Try using the `np.argsort` function to output the most likely key values from your attack."
   ]
  },
  {
   "cell_type": "markdown",
   "metadata": {},
   "source": [
    "## Plotting Differences"
   ]
  },
  {
   "cell_type": "markdown",
   "metadata": {},
   "source": [
    "Before we move on - you should take a look at various plots of these differences. They will play in something called the *ghost peak* problem.\n",
    "\n",
    "We're going to now define a function called `calculate_diffs()` that implements our attacks (you can replace this with your own function or keep this one for now):"
   ]
  },
  {
   "cell_type": "code",
   "execution_count": 14,
   "metadata": {},
   "outputs": [],
   "source": [
    "def calculate_diffs(guess, byteindex=0, bitnum=0):\n",
    "    \"\"\"Perform a simple DPA on two traces, uses global `textin_array` and `trace_array` \"\"\"\n",
    "    \n",
    "    one_list = []\n",
    "    zero_list = []\n",
    "\n",
    "    for trace_index in range(numtraces):\n",
    "        hypothetical_leakage = aes_internal(guess, textin_array[trace_index][byteindex])\n",
    "\n",
    "        #Mask off the requested bit\n",
    "        if hypothetical_leakage & (1<<bitnum):\n",
    "            one_list.append(trace_array[trace_index])\n",
    "        else:\n",
    "            zero_list.append(trace_array[trace_index])\n",
    "\n",
    "    one_avg = np.asarray(one_list).mean(axis=0)\n",
    "    zero_avg = np.asarray(zero_list).mean(axis=0)\n",
    "    return abs(one_avg - zero_avg)"
   ]
  },
  {
   "cell_type": "markdown",
   "metadata": {},
   "source": [
    "Try plotting the difference between various bytes. For byte 0, remember `0x2B` is the correct value. Zoom in on the plots and see how the correct key should have a much larger difference.\n",
    "\n",
    "Sometimes we get *ghost peaks* which are incorrect peaks. So far we're assuming there is a single \"best\" solution for the key - we may need to get fancy and put a threshold whereby we have several candidates for the correct key. For now let's just plot a handful of examples:"
   ]
  },
  {
   "cell_type": "code",
   "execution_count": 15,
   "metadata": {},
   "outputs": [
    {
     "data": {
      "text/plain": [
       "[<matplotlib.lines.Line2D at 0x7f3509713e10>]"
      ]
     },
     "execution_count": 15,
     "metadata": {},
     "output_type": "execute_result"
    },
    {
     "data": {
      "application/vnd.jupyter.widget-view+json": {
       "model_id": "8c8eeed67cc74ea4a4e75402442599d8",
       "version_major": 2,
       "version_minor": 0
      },
      "image/png": "[encoded data removed]",
      "text/plain": [
       "Canvas(toolbar=Toolbar(toolitems=[('Home', 'Reset original view', 'home', 'home'), ('Back', 'Back to previous …"
      ]
     },
     "metadata": {},
     "output_type": "display_data"
    }
   ],
   "source": [
    "%matplotlib ipympl\n",
    "import matplotlib.pylab as plt\n",
    "\n",
    "plt.plot(calculate_diffs(0x2B), 'r')\n",
    "plt.plot(calculate_diffs(0x2A), 'g')\n",
    "plt.plot(calculate_diffs(0x96), 'b')"
   ]
  },
  {
   "cell_type": "markdown",
   "metadata": {},
   "source": [
    "Here is what it should look like:\n",
    "\n",
    "You'll notice when we rank the bytes we just use the maximum value of any peak. There's lots more you could learn from these graphs, such as the location of the peak, or if there are multiple peaks in the graph. But for now we're just going to keep with the "
   ]
  },
  {
   "cell_type": "markdown",
   "metadata": {},
   "source": [
    "## AES Guesser - All Bytes"
   ]
  },
  {
   "cell_type": "markdown",
   "metadata": {},
   "source": [
    "Alright - good job! You've got a single byte and some DPA plots up. Now let's move onward and guess *all* of the bytes.\n",
    "\n",
    "Doing this requires a little more effort than before. Taking your existing guessing function, you're going to wrap a larger loop around the outside of it like this:\n",
    "\n",
    "    for subkey in range(0,16):\n",
    "        #Rest of code from before!\n",
    "        "
   ]
  },
  {
   "cell_type": "code",
   "execution_count": 16,
   "metadata": {},
   "outputs": [
    {
     "name": "stderr",
     "output_type": "stream",
     "text": [
      "ipykernel_launcher:8: TqdmDeprecationWarning: Please use `tqdm.notebook.trange` instead of `tqdm.tnrange`\n"
     ]
    },
    {
     "data": {
      "application/vnd.jupyter.widget-view+json": {
       "model_id": "ee0a4b7f6baf45fabeae8ffacf6d2ead",
       "version_major": 2,
       "version_minor": 0
      },
      "text/plain": [
       "Attacking Subkey:   0%|          | 0/16 [00:00<?, ?it/s]"
      ]
     },
     "metadata": {},
     "output_type": "display_data"
    },
    {
     "name": "stdout",
     "output_type": "stream",
     "text": [
      "Subkey  0 - most likely 2B (actual 2B)\n",
      " Top 5 guesses: \n",
      "   2B - Diff = 0.004924\n",
      "   2A - Diff = 0.003624\n",
      "   4F - Diff = 0.003459\n",
      "   BF - Diff = 0.003365\n",
      "   B7 - Diff = 0.003280\n",
      "\n",
      "\n",
      "Subkey  1 - most likely 92 (actual 7E)\n",
      " Top 5 guesses: \n",
      "   92 - Diff = 0.007979\n",
      "   7E - Diff = 0.006866\n",
      "   9D - Diff = 0.006840\n",
      "   D1 - Diff = 0.006565\n",
      "   77 - Diff = 0.006330\n",
      "\n",
      "\n",
      "Subkey  2 - most likely 15 (actual 15)\n",
      " Top 5 guesses: \n",
      "   15 - Diff = 0.005081\n",
      "   14 - Diff = 0.004248\n",
      "   71 - Diff = 0.003413\n",
      "   A0 - Diff = 0.003312\n",
      "   E6 - Diff = 0.003230\n",
      "\n",
      "\n",
      "Subkey  3 - most likely 16 (actual 16)\n",
      " Top 5 guesses: \n",
      "   16 - Diff = 0.007838\n",
      "   17 - Diff = 0.004011\n",
      "   C3 - Diff = 0.003529\n",
      "   7D - Diff = 0.002852\n",
      "   FA - Diff = 0.002827\n",
      "\n",
      "\n",
      "Subkey  4 - most likely 28 (actual 28)\n",
      " Top 5 guesses: \n",
      "   28 - Diff = 0.004991\n",
      "   BC - Diff = 0.003753\n",
      "   4D - Diff = 0.003279\n",
      "   43 - Diff = 0.003268\n",
      "   4B - Diff = 0.003234\n",
      "\n",
      "\n",
      "Subkey  5 - most likely AE (actual AE)\n",
      " Top 5 guesses: \n",
      "   AE - Diff = 0.005372\n",
      "   AF - Diff = 0.003891\n",
      "   CA - Diff = 0.003330\n",
      "   7A - Diff = 0.002913\n",
      "   07 - Diff = 0.002851\n",
      "\n",
      "\n",
      "Subkey  6 - most likely 3E (actual D2)\n",
      " Top 5 guesses: \n",
      "   3E - Diff = 0.007620\n",
      "   18 - Diff = 0.007337\n",
      "   DB - Diff = 0.007272\n",
      "   31 - Diff = 0.007052\n",
      "   02 - Diff = 0.006981\n",
      "\n",
      "\n",
      "Subkey  7 - most likely A6 (actual A6)\n",
      " Top 5 guesses: \n",
      "   A6 - Diff = 0.004609\n",
      "   A7 - Diff = 0.003804\n",
      "   C3 - Diff = 0.003533\n",
      "   C2 - Diff = 0.003192\n",
      "   FE - Diff = 0.003148\n",
      "\n",
      "\n",
      "Subkey  8 - most likely AB (actual AB)\n",
      " Top 5 guesses: \n",
      "   AB - Diff = 0.005162\n",
      "   AA - Diff = 0.003476\n",
      "   7F - Diff = 0.003466\n",
      "   CF - Diff = 0.003405\n",
      "   CE - Diff = 0.003143\n",
      "\n",
      "\n",
      "Subkey  9 - most likely F7 (actual F7)\n",
      " Top 5 guesses: \n",
      "   F7 - Diff = 0.004915\n",
      "   93 - Diff = 0.003736\n",
      "   F6 - Diff = 0.003721\n",
      "   92 - Diff = 0.003610\n",
      "   05 - Diff = 0.002982\n",
      "\n",
      "\n",
      "Subkey 10 - most likely 15 (actual 15)\n",
      " Top 5 guesses: \n",
      "   15 - Diff = 0.007218\n",
      "   14 - Diff = 0.004265\n",
      "   A8 - Diff = 0.004010\n",
      "   7E - Diff = 0.003748\n",
      "   71 - Diff = 0.003723\n",
      "\n",
      "\n",
      "Subkey 11 - most likely 64 (actual 88)\n",
      " Top 5 guesses: \n",
      "   64 - Diff = 0.008961\n",
      "   43 - Diff = 0.007670\n",
      "   ED - Diff = 0.007380\n",
      "   1C - Diff = 0.006979\n",
      "   58 - Diff = 0.006945\n",
      "\n",
      "\n",
      "Subkey 12 - most likely 09 (actual 09)\n",
      " Top 5 guesses: \n",
      "   09 - Diff = 0.005063\n",
      "   08 - Diff = 0.003814\n",
      "   6D - Diff = 0.003616\n",
      "   62 - Diff = 0.003353\n",
      "   9C - Diff = 0.003272\n",
      "\n",
      "\n",
      "Subkey 13 - most likely CF (actual CF)\n",
      " Top 5 guesses: \n",
      "   CF - Diff = 0.005256\n",
      "   CE - Diff = 0.003406\n",
      "   AA - Diff = 0.003293\n",
      "   3D - Diff = 0.003065\n",
      "   1A - Diff = 0.002859\n",
      "\n",
      "\n",
      "Subkey 14 - most likely 4F (actual 4F)\n",
      " Top 5 guesses: \n",
      "   4F - Diff = 0.004972\n",
      "   4E - Diff = 0.003512\n",
      "   2B - Diff = 0.003325\n",
      "   2A - Diff = 0.002966\n",
      "   9B - Diff = 0.002915\n",
      "\n",
      "\n",
      "Subkey 15 - most likely 3C (actual 3C)\n",
      " Top 5 guesses: \n",
      "   3C - Diff = 0.005853\n",
      "   3D - Diff = 0.003345\n",
      "   59 - Diff = 0.003325\n",
      "   19 - Diff = 0.003183\n",
      "   CE - Diff = 0.003043\n",
      "\n",
      "\n"
     ]
    }
   ],
   "source": [
    "from tqdm import tnrange\n",
    "import numpy as np\n",
    "\n",
    "#Store your key_guess here, compare to known_key\n",
    "key_guess = []\n",
    "known_key = [0x2b, 0x7e, 0x15, 0x16, 0x28, 0xae, 0xd2, 0xa6, 0xab, 0xf7, 0x15, 0x88, 0x09, 0xcf, 0x4f, 0x3c]\n",
    "\n",
    "for subkey in tnrange(0, 16, desc=\"Attacking Subkey\"):\n",
    "    # ###################\n",
    "    # START SOLUTION\n",
    "    # ###################\n",
    "    max_diffs = [0]*256\n",
    "    full_diffs = [0]*256\n",
    "    for guess in range(0, 256):\n",
    "        full_diff_trace = calculate_diffs(guess, subkey)\n",
    "        max_diffs[guess] = np.max(full_diff_trace)\n",
    "        full_diffs[guess] = full_diff_trace\n",
    "        \n",
    "    #Get argument sort, as each index is the actual key guess.\n",
    "    sorted_args = np.argsort(max_diffs)[::-1]\n",
    "    \n",
    "    #Keep most likely\n",
    "    key_guess.append(sorted_args[0])\n",
    "    \n",
    "    #Print results\n",
    "    print(\"Subkey %2d - most likely %02X (actual %02X)\"%(subkey, key_guess[subkey], known_key[subkey]))\n",
    "    \n",
    "    #Print other top guesses\n",
    "    print(\" Top 5 guesses: \")\n",
    "    for i in range(0, 5):\n",
    "        g = sorted_args[i]\n",
    "        print(\"   %02X - Diff = %f\"%(g, max_diffs[g]))\n",
    "    \n",
    "    print(\"\\n\")\n",
    "    \n",
    "    # ###################\n",
    "    # END SOLUTION\n",
    "    # ###################"
   ]
  },
  {
   "cell_type": "markdown",
   "metadata": {},
   "source": [
    "🥳🥳🥳🥳🥳🥳🥳🥳🥳🥳🥳🥳🥳\n",
    "Congrats - you did it!!!!\n",
    "\n",
    "Hopefully the above worked - but we're going to go a little further to understand how to apply this in case it didn't work right away (or it almost worked)."
   ]
  },
  {
   "cell_type": "markdown",
   "metadata": {},
   "source": [
    "## Ghost Peaks"
   ]
  },
  {
   "cell_type": "markdown",
   "metadata": {},
   "source": [
    "Maybe the previous didn't actually recover the full key? No need to worry - there are a few reasons for this. One artifact of a DPA attack is you get another strong peak that isn't the correct key (which can be a ghost peak).\n",
    "\n",
    "We're going to get into more efficient attacks later, but for now, let's look at some solutions:\n",
    "\n",
    "* Increase the number of traces recorded.\n",
    "* Change the targetted bit (& combine solutions from multiple bits).\n",
    "* Window the input data.\n",
    "\n",
    "The first one is the brute-force option: go from 2500 to 5000 or even 10000 power traces. As you add more data, you may find the problem is reduced. But real ghost peaks may not disappear, so we need to move onto other solutions.\n",
    "\n",
    "Before we begin - we're going to give you a \"known good\" DPA attack script we're going to build on. This uses the `calculate_diffs()` function defined earlier.\n",
    "\n",
    "Run the following block (will take a bit of time):"
   ]
  },
  {
   "cell_type": "code",
   "execution_count": 17,
   "metadata": {},
   "outputs": [
    {
     "name": "stderr",
     "output_type": "stream",
     "text": [
      "ipykernel_launcher:13: TqdmDeprecationWarning: Please use `tqdm.notebook.trange` instead of `tqdm.tnrange`\n"
     ]
    },
    {
     "data": {
      "application/vnd.jupyter.widget-view+json": {
       "model_id": "fa68994945604290b21583082b5b5331",
       "version_major": 2,
       "version_minor": 0
      },
      "text/plain": [
       "Attacking Subkey:   0%|          | 0/16 [00:00<?, ?it/s]"
      ]
     },
     "metadata": {},
     "output_type": "display_data"
    },
    {
     "name": "stdout",
     "output_type": "stream",
     "text": [
      "Subkey  0 - most likely 2B (actual 2B)\n",
      " Top 5 guesses: \n",
      "   2B - Diff = 0.004924\n",
      "   2A - Diff = 0.003624\n",
      "   4F - Diff = 0.003459\n",
      "   BF - Diff = 0.003365\n",
      "   B7 - Diff = 0.003280\n",
      "\n",
      "\n",
      "Subkey  1 - most likely 92 (actual 7E)\n",
      " Top 5 guesses: \n",
      "   92 - Diff = 0.007979\n",
      "   7E - Diff = 0.006866\n",
      "   9D - Diff = 0.006840\n",
      "   D1 - Diff = 0.006565\n",
      "   77 - Diff = 0.006330\n",
      "\n",
      "\n",
      "Subkey  2 - most likely 15 (actual 15)\n",
      " Top 5 guesses: \n",
      "   15 - Diff = 0.005081\n",
      "   14 - Diff = 0.004248\n",
      "   71 - Diff = 0.003413\n",
      "   A0 - Diff = 0.003312\n",
      "   E6 - Diff = 0.003230\n",
      "\n",
      "\n",
      "Subkey  3 - most likely 16 (actual 16)\n",
      " Top 5 guesses: \n",
      "   16 - Diff = 0.007838\n",
      "   17 - Diff = 0.004011\n",
      "   C3 - Diff = 0.003529\n",
      "   7D - Diff = 0.002852\n",
      "   FA - Diff = 0.002827\n",
      "\n",
      "\n",
      "Subkey  4 - most likely 28 (actual 28)\n",
      " Top 5 guesses: \n",
      "   28 - Diff = 0.004991\n",
      "   BC - Diff = 0.003753\n",
      "   4D - Diff = 0.003279\n",
      "   43 - Diff = 0.003268\n",
      "   4B - Diff = 0.003234\n",
      "\n",
      "\n",
      "Subkey  5 - most likely AE (actual AE)\n",
      " Top 5 guesses: \n",
      "   AE - Diff = 0.005372\n",
      "   AF - Diff = 0.003891\n",
      "   CA - Diff = 0.003330\n",
      "   7A - Diff = 0.002913\n",
      "   07 - Diff = 0.002851\n",
      "\n",
      "\n",
      "Subkey  6 - most likely 3E (actual D2)\n",
      " Top 5 guesses: \n",
      "   3E - Diff = 0.007620\n",
      "   18 - Diff = 0.007337\n",
      "   DB - Diff = 0.007272\n",
      "   31 - Diff = 0.007052\n",
      "   02 - Diff = 0.006981\n",
      "\n",
      "\n",
      "Subkey  7 - most likely A6 (actual A6)\n",
      " Top 5 guesses: \n",
      "   A6 - Diff = 0.004609\n",
      "   A7 - Diff = 0.003804\n",
      "   C3 - Diff = 0.003533\n",
      "   C2 - Diff = 0.003192\n",
      "   FE - Diff = 0.003148\n",
      "\n",
      "\n",
      "Subkey  8 - most likely AB (actual AB)\n",
      " Top 5 guesses: \n",
      "   AB - Diff = 0.005162\n",
      "   AA - Diff = 0.003476\n",
      "   7F - Diff = 0.003466\n",
      "   CF - Diff = 0.003405\n",
      "   CE - Diff = 0.003143\n",
      "\n",
      "\n",
      "Subkey  9 - most likely F7 (actual F7)\n",
      " Top 5 guesses: \n",
      "   F7 - Diff = 0.004915\n",
      "   93 - Diff = 0.003736\n",
      "   F6 - Diff = 0.003721\n",
      "   92 - Diff = 0.003610\n",
      "   05 - Diff = 0.002982\n",
      "\n",
      "\n",
      "Subkey 10 - most likely 15 (actual 15)\n",
      " Top 5 guesses: \n",
      "   15 - Diff = 0.007218\n",
      "   14 - Diff = 0.004265\n",
      "   A8 - Diff = 0.004010\n",
      "   7E - Diff = 0.003748\n",
      "   71 - Diff = 0.003723\n",
      "\n",
      "\n",
      "Subkey 11 - most likely 64 (actual 88)\n",
      " Top 5 guesses: \n",
      "   64 - Diff = 0.008961\n",
      "   43 - Diff = 0.007670\n",
      "   ED - Diff = 0.007380\n",
      "   1C - Diff = 0.006979\n",
      "   58 - Diff = 0.006945\n",
      "\n",
      "\n",
      "Subkey 12 - most likely 09 (actual 09)\n",
      " Top 5 guesses: \n",
      "   09 - Diff = 0.005063\n",
      "   08 - Diff = 0.003814\n",
      "   6D - Diff = 0.003616\n",
      "   62 - Diff = 0.003353\n",
      "   9C - Diff = 0.003272\n",
      "\n",
      "\n",
      "Subkey 13 - most likely CF (actual CF)\n",
      " Top 5 guesses: \n",
      "   CF - Diff = 0.005256\n",
      "   CE - Diff = 0.003406\n",
      "   AA - Diff = 0.003293\n",
      "   3D - Diff = 0.003065\n",
      "   1A - Diff = 0.002859\n",
      "\n",
      "\n",
      "Subkey 14 - most likely 4F (actual 4F)\n",
      " Top 5 guesses: \n",
      "   4F - Diff = 0.004972\n",
      "   4E - Diff = 0.003512\n",
      "   2B - Diff = 0.003325\n",
      "   2A - Diff = 0.002966\n",
      "   9B - Diff = 0.002915\n",
      "\n",
      "\n",
      "Subkey 15 - most likely 3C (actual 3C)\n",
      " Top 5 guesses: \n",
      "   3C - Diff = 0.005853\n",
      "   3D - Diff = 0.003345\n",
      "   59 - Diff = 0.003325\n",
      "   19 - Diff = 0.003183\n",
      "   CE - Diff = 0.003043\n",
      "\n",
      "\n"
     ]
    }
   ],
   "source": [
    "from tqdm import tnrange\n",
    "import numpy as np\n",
    "\n",
    "#Store your key_guess here, compare to known_key\n",
    "key_guess = []\n",
    "known_key = [0x2b, 0x7e, 0x15, 0x16, 0x28, 0xae, 0xd2, 0xa6, 0xab, 0xf7, 0x15, 0x88, 0x09, 0xcf, 0x4f, 0x3c]\n",
    "\n",
    "#Which bit to target\n",
    "bitnum = 0\n",
    "\n",
    "full_diffs_list = []\n",
    "\n",
    "for subkey in tnrange(0, 16, desc=\"Attacking Subkey\"):\n",
    "    \n",
    "    max_diffs = [0]*256\n",
    "    full_diffs = [0]*256\n",
    "\n",
    "    for guess in range(0, 256):\n",
    "        full_diff_trace = calculate_diffs(guess, subkey, bitnum)\n",
    "        max_diffs[guess] = np.max(full_diff_trace)\n",
    "        full_diffs[guess] = full_diff_trace\n",
    "    \n",
    "    #Make copy of the list\n",
    "    full_diffs_list.append(full_diffs[:])\n",
    "    \n",
    "    #Get argument sort, as each index is the actual key guess.\n",
    "    sorted_args = np.argsort(max_diffs)[::-1]\n",
    "    \n",
    "    #Keep most likely\n",
    "    key_guess.append(sorted_args[0])\n",
    "    \n",
    "    #Print results\n",
    "    print(\"Subkey %2d - most likely %02X (actual %02X)\"%(subkey, sorted_args[0], known_key[subkey]))\n",
    "    \n",
    "    #Print other top guesses\n",
    "    print(\" Top 5 guesses: \")\n",
    "    for i in range(0, 5):\n",
    "        g = sorted_args[i]\n",
    "        print(\"   %02X - Diff = %f\"%(g, max_diffs[g]))\n",
    "    \n",
    "    print(\"\\n\")"
   ]
  },
  {
   "cell_type": "markdown",
   "metadata": {},
   "source": [
    "This block should now print some *next top guesses* - in this case just the next top 5 guesses, but you can extend this if you wish. It's also keeping a copy of all the *difference* traces (unlike before where it threw them away)."
   ]
  },
  {
   "cell_type": "markdown",
   "metadata": {},
   "source": [
    "### Plotting Peaks\n",
    "\n",
    "After it runs, select a subkey that is either wrong or has very close \"next best guesses\". For example, the following shows the output for Subkey 5 is actually wrong - the correct guess (`0xAE`) has been ranked as option 5.\n",
    "\n",
    "    Subkey  5 - most likely CB (actual AE)\n",
    "     Top 5 guesses: \n",
    "       CB - Diff = 0.003006\n",
    "       C5 - Diff = 0.002984\n",
    "       AE - Diff = 0.002739\n",
    "       3C - Diff = 0.002674\n",
    "       2F - Diff = 0.002511\n",
    "\n",
    "You can find the full diff in the `full_diffs_list` array. If you index this array it will give you every guess for a given subkey (for example `full_diffs_list[5]` is the 5th subkey guess outputs).\n",
    "\n",
    "Using `full_diffs_list[N]` to get your selected subkey, plot the correct key by plotting `full_diffs_list[N][0xCORRECT]` in green as the *last* (so it appears on top). Plot a few other highly ranked guesses before that. In my example, this would look like:\n",
    "\n",
    "    %matplotlib notebook\n",
    "    import matplotlib.pylab as plt\n",
    "\n",
    "    plt.plot(full_diffs_list[5][0xC5], 'r')\n",
    "    plt.plot(full_diffs_list[5][0xCB], 'r')\n",
    "    plt.plot(full_diffs_list[5][0xAE], 'g')"
   ]
  },
  {
   "cell_type": "code",
   "execution_count": 18,
   "metadata": {},
   "outputs": [
    {
     "data": {
      "text/plain": [
       "[<matplotlib.lines.Line2D at 0x7f3509628b50>]"
      ]
     },
     "execution_count": 18,
     "metadata": {},
     "output_type": "execute_result"
    },
    {
     "data": {
      "application/vnd.jupyter.widget-view+json": {
       "model_id": "eecd513bc7e74f8b872b915cea98f044",
       "version_major": 2,
       "version_minor": 0
      },
      "image/png": "[encoded data removed]",
      "text/plain": [
       "Canvas(toolbar=Toolbar(toolitems=[('Home', 'Reset original view', 'home', 'home'), ('Back', 'Back to previous …"
      ]
     },
     "metadata": {},
     "output_type": "display_data"
    }
   ],
   "source": [
    "%matplotlib ipympl\n",
    "import matplotlib.pylab as plt\n",
    "\n",
    "plt.plot(full_diffs_list[1][0x92], 'r')\n",
    "plt.plot(full_diffs_list[1][0x9D], 'r')\n",
    "plt.plot(full_diffs_list[1][0x7E], 'g')"
   ]
  },
  {
   "cell_type": "markdown",
   "metadata": {},
   "source": [
    "Zoom in on the window, and you should notice there is a location where the correct peak is *higher* than the incorrect peaks. If you want to plot all the traces (this will get slow!) for a given trace, we can do so as the following:"
   ]
  },
  {
   "cell_type": "code",
   "execution_count": 19,
   "metadata": {},
   "outputs": [
    {
     "data": {
      "application/vnd.jupyter.widget-view+json": {
       "model_id": "65394b8affc84caea10611a57d7a401d",
       "version_major": 2,
       "version_minor": 0
      },
      "image/png": "[encoded data removed]",
      "text/plain": [
       "Canvas(toolbar=Toolbar(toolitems=[('Home', 'Reset original view', 'home', 'home'), ('Back', 'Back to previous …"
      ]
     },
     "metadata": {},
     "output_type": "display_data"
    }
   ],
   "source": [
    "plt.figure()\n",
    "subkey = 1\n",
    "for guess in range(0, 256):\n",
    "    plt.plot(full_diffs_list[subkey][guess])\n",
    "plt.show()"
   ]
  },
  {
   "cell_type": "markdown",
   "metadata": {},
   "source": [
    "Depending on your hardware, the previous may show a single nice large spike, or multiple large spikes. If we have the ghost peak problem you've probably got multiple spikes. The incorrect peaks may trail behind the correct locations -- we can first plot the correct locations by looking at the known key. The following will do that:"
   ]
  },
  {
   "cell_type": "code",
   "execution_count": 20,
   "metadata": {},
   "outputs": [
    {
     "data": {
      "application/vnd.jupyter.widget-view+json": {
       "model_id": "0cb6497c163a48d09d26a725cc1ec05d",
       "version_major": 2,
       "version_minor": 0
      },
      "image/png": "[encoded data removed]",
      "text/plain": [
       "Canvas(toolbar=Toolbar(toolitems=[('Home', 'Reset original view', 'home', 'home'), ('Back', 'Back to previous …"
      ]
     },
     "metadata": {},
     "output_type": "display_data"
    }
   ],
   "source": [
    "plt.figure()\n",
    "for subkey in range(0, 16):\n",
    "    plt.plot(full_diffs_list[subkey][known_key[subkey]])\n",
    "plt.show()"
   ]
  },
  {
   "cell_type": "markdown",
   "metadata": {},
   "source": [
    "### Windowing Peaks\n",
    "\n",
    "The final trick here - see if there is some way to \"window\" the data that could be useful. For example, looking at the peaks you might notice that the correct peaks are always coming at 60 cycle offsets, with the first peak around sample 1100 (these will be different for your hardware).\n",
    "\n",
    "So we could modify the loop to only look at differences after this point:\n",
    "\n",
    "    for guess in range(0, 256):\n",
    "        full_diff_trace = calculate_diffs(guess, subkey, bitnum)\n",
    "        full_diff_trace = full_diff_trace[(1010 + subkey*60):]\n",
    "        max_diffs[guess] = np.max(full_diff_trace)\n",
    "        full_diffs[guess] = full_diff_trace\n",
    "        \n",
    "Copy the full DPA attack here - and try it out! See if you can get the correct key to come out for every byte."
   ]
  },
  {
   "cell_type": "code",
   "execution_count": 21,
   "metadata": {},
   "outputs": [
    {
     "name": "stderr",
     "output_type": "stream",
     "text": [
      "ipykernel_launcher:21: TqdmDeprecationWarning: Please use `tqdm.notebook.trange` instead of `tqdm.tnrange`\n"
     ]
    },
    {
     "data": {
      "application/vnd.jupyter.widget-view+json": {
       "model_id": "a2821dfc2a144fb397cd8c69c8d0a2a9",
       "version_major": 2,
       "version_minor": 0
      },
      "text/plain": [
       "Attacking Subkey:   0%|          | 0/16 [00:00<?, ?it/s]"
      ]
     },
     "metadata": {},
     "output_type": "display_data"
    },
    {
     "name": "stdout",
     "output_type": "stream",
     "text": [
      "Subkey  0 - most likely 2B (actual 2B)\n",
      " Top 5 guesses: \n",
      "   2B - Diff = 0.004924\n",
      "   53 - Diff = 0.003266\n",
      "   D4 - Diff = 0.003100\n",
      "   96 - Diff = 0.003021\n",
      "   15 - Diff = 0.003014\n",
      "\n",
      "\n",
      "Subkey  1 - most likely 92 (actual 7E)\n",
      " Top 5 guesses: \n",
      "   92 - Diff = 0.007979\n",
      "   7E - Diff = 0.006866\n",
      "   9D - Diff = 0.006840\n",
      "   D1 - Diff = 0.006565\n",
      "   77 - Diff = 0.006330\n",
      "\n",
      "\n",
      "Subkey  2 - most likely 15 (actual 15)\n",
      " Top 5 guesses: \n",
      "   15 - Diff = 0.004857\n",
      "   A0 - Diff = 0.003312\n",
      "   2F - Diff = 0.002649\n",
      "   C1 - Diff = 0.002550\n",
      "   7B - Diff = 0.002541\n",
      "\n",
      "\n",
      "Subkey  3 - most likely 16 (actual 16)\n",
      " Top 5 guesses: \n",
      "   16 - Diff = 0.007838\n",
      "   7D - Diff = 0.002852\n",
      "   DF - Diff = 0.002815\n",
      "   F8 - Diff = 0.002813\n",
      "   67 - Diff = 0.002750\n",
      "\n",
      "\n",
      "Subkey  4 - most likely 28 (actual 28)\n",
      " Top 5 guesses: \n",
      "   28 - Diff = 0.004012\n",
      "   9F - Diff = 0.002992\n",
      "   B1 - Diff = 0.002745\n",
      "   FC - Diff = 0.002681\n",
      "   56 - Diff = 0.002529\n",
      "\n",
      "\n",
      "Subkey  5 - most likely AE (actual AE)\n",
      " Top 5 guesses: \n",
      "   AE - Diff = 0.005372\n",
      "   07 - Diff = 0.002851\n",
      "   3D - Diff = 0.002641\n",
      "   42 - Diff = 0.002622\n",
      "   13 - Diff = 0.002574\n",
      "\n",
      "\n",
      "Subkey  6 - most likely 3E (actual D2)\n",
      " Top 5 guesses: \n",
      "   3E - Diff = 0.007620\n",
      "   18 - Diff = 0.007337\n",
      "   DB - Diff = 0.007272\n",
      "   31 - Diff = 0.007052\n",
      "   02 - Diff = 0.006981\n",
      "\n",
      "\n",
      "Subkey  7 - most likely A6 (actual A6)\n",
      " Top 5 guesses: \n",
      "   A6 - Diff = 0.004609\n",
      "   FE - Diff = 0.003148\n",
      "   4B - Diff = 0.002639\n",
      "   A9 - Diff = 0.002614\n",
      "   15 - Diff = 0.002595\n",
      "\n",
      "\n",
      "Subkey  8 - most likely AB (actual AB)\n",
      " Top 5 guesses: \n",
      "   AB - Diff = 0.004218\n",
      "   16 - Diff = 0.002645\n",
      "   58 - Diff = 0.002610\n",
      "   33 - Diff = 0.002593\n",
      "   A5 - Diff = 0.002419\n",
      "\n",
      "\n",
      "Subkey  9 - most likely F7 (actual F7)\n",
      " Top 5 guesses: \n",
      "   F7 - Diff = 0.004915\n",
      "   87 - Diff = 0.002762\n",
      "   37 - Diff = 0.002748\n",
      "   0D - Diff = 0.002704\n",
      "   D9 - Diff = 0.002683\n",
      "\n",
      "\n",
      "Subkey 10 - most likely 15 (actual 15)\n",
      " Top 5 guesses: \n",
      "   15 - Diff = 0.007218\n",
      "   A8 - Diff = 0.004010\n",
      "   7E - Diff = 0.003748\n",
      "   AC - Diff = 0.003073\n",
      "   8C - Diff = 0.002873\n",
      "\n",
      "\n",
      "Subkey 11 - most likely 64 (actual 88)\n",
      " Top 5 guesses: \n",
      "   64 - Diff = 0.008961\n",
      "   43 - Diff = 0.007670\n",
      "   ED - Diff = 0.007380\n",
      "   1C - Diff = 0.006979\n",
      "   58 - Diff = 0.006945\n",
      "\n",
      "\n",
      "Subkey 12 - most likely 09 (actual 09)\n",
      " Top 5 guesses: \n",
      "   09 - Diff = 0.004485\n",
      "   A7 - Diff = 0.002804\n",
      "   21 - Diff = 0.002774\n",
      "   B4 - Diff = 0.002608\n",
      "   9B - Diff = 0.002605\n",
      "\n",
      "\n",
      "Subkey 13 - most likely CF (actual CF)\n",
      " Top 5 guesses: \n",
      "   CF - Diff = 0.005256\n",
      "   72 - Diff = 0.002839\n",
      "   23 - Diff = 0.002752\n",
      "   56 - Diff = 0.002747\n",
      "   3D - Diff = 0.002717\n",
      "\n",
      "\n",
      "Subkey 14 - most likely 4F (actual 4F)\n",
      " Top 5 guesses: \n",
      "   4F - Diff = 0.004282\n",
      "   4B - Diff = 0.002513\n",
      "   76 - Diff = 0.002509\n",
      "   6A - Diff = 0.002496\n",
      "   01 - Diff = 0.002467\n",
      "\n",
      "\n",
      "Subkey 15 - most likely 3C (actual 3C)\n",
      " Top 5 guesses: \n",
      "   3C - Diff = 0.005853\n",
      "   35 - Diff = 0.002662\n",
      "   22 - Diff = 0.002647\n",
      "   13 - Diff = 0.002566\n",
      "   F6 - Diff = 0.002554\n",
      "\n",
      "\n"
     ]
    }
   ],
   "source": [
    "# ###################\n",
    "# Add your code here\n",
    "# ###################\n",
    "#raise NotImplementedError(\"Add Your Code Here\")\n",
    "    \n",
    "# ###################\n",
    "# START SOLUTION\n",
    "# ###################\n",
    "from tqdm import tnrange\n",
    "import numpy as np\n",
    "\n",
    "#Store your key_guess here, compare to known_key\n",
    "key_guess = []\n",
    "known_key = [0x2b, 0x7e, 0x15, 0x16, 0x28, 0xae, 0xd2, 0xa6, 0xab, 0xf7, 0x15, 0x88, 0x09, 0xcf, 0x4f, 0x3c]\n",
    "\n",
    "#Which bit to target\n",
    "bitnum = 0\n",
    "\n",
    "full_diffs_list = []\n",
    "\n",
    "for subkey in tnrange(0, 16, desc=\"Attacking Subkey\"):\n",
    "    \n",
    "    max_diffs = [0]*256\n",
    "    full_diffs = [0]*256\n",
    "\n",
    "    for guess in range(0, 256):\n",
    "        full_diff_trace = calculate_diffs(guess, subkey, bitnum)\n",
    "        full_diff_trace = full_diff_trace[(253 + subkey*32):]\n",
    "        max_diffs[guess] = np.max(full_diff_trace)\n",
    "        full_diffs[guess] = full_diff_trace\n",
    "    \n",
    "    #Make copy of the list\n",
    "    full_diffs_list.append(full_diffs[:])\n",
    "    \n",
    "    #Get argument sort, as each index is the actual key guess.\n",
    "    sorted_args = np.argsort(max_diffs)[::-1]\n",
    "    \n",
    "    #Keep most likely\n",
    "    key_guess.append(sorted_args[0])\n",
    "    \n",
    "    #Print results\n",
    "    print(\"Subkey %2d - most likely %02X (actual %02X)\"%(subkey, key_guess[subkey], known_key[subkey]))\n",
    "    \n",
    "    #Print other top guesses\n",
    "    print(\" Top 5 guesses: \")\n",
    "    for i in range(0, 5):\n",
    "        g = sorted_args[i]\n",
    "        print(\"   %02X - Diff = %f\"%(g, max_diffs[g]))\n",
    "    \n",
    "    print(\"\\n\")\n",
    "    \n",
    "# ###################\n",
    "# END SOLUTION\n",
    "# ###################"
   ]
  },
  {
   "cell_type": "markdown",
   "metadata": {},
   "source": [
    "### Attacking Other Bits"
   ]
  },
  {
   "cell_type": "markdown",
   "metadata": {},
   "source": [
    "So far we only looked at bit 0 $-$ but there are more bits involved here! You can first just try another bit that might be present, maybe they simply work better?\n",
    "\n",
    "But you can also combine multiple bits by creating a most likely solution that applies across *all* bits.\n",
    "\n",
    "The first one is easy to try out, as we defined the bit to attack in the previous script"
   ]
  },
  {
   "cell_type": "markdown",
   "metadata": {},
   "source": [
    "The second option is a little more advanced. You can give it a try $-$ but in practice, if you are trying to combine multiple bits, a more effective method called the CPA attack will be used."
   ]
  },
  {
   "cell_type": "markdown",
   "metadata": {},
   "source": [
    "## Conclusions & Next Steps"
   ]
  },
  {
   "cell_type": "markdown",
   "metadata": {},
   "source": [
    "You've now seen how a DPA attack can be performed using a basic Python script. We'll experience much more effective attacks once we look at the CPA attack.\n",
    "\n",
    "If you want to perform these attacks in practice, the Python code here isn't the most efficient! We'll look at faster options in later courses."
   ]
  },
  {
   "cell_type": "markdown",
   "metadata": {},
   "source": [
    "---\n",
    "<small>NO-FUN DISCLAIMER: This material is Copyright (C) NewAE Technology Inc., 2015-2020. ChipWhisperer is a trademark of NewAE Technology Inc., claimed in all jurisdictions, and registered in at least the United States of America, European Union, and Peoples Republic of China.\n",
    "\n",
    "Tutorials derived from our open-source work must be released under the associated open-source license, and notice of the source must be *clearly displayed*. Only original copyright holders may license or authorize other distribution - while NewAE Technology Inc. holds the copyright for many tutorials, the github repository includes community contributions which we cannot license under special terms and **must** be maintained as an open-source release. Please contact us for special permissions (where possible).\n",
    "\n",
    "THE SOFTWARE IS PROVIDED \"AS IS\", WITHOUT WARRANTY OF ANY KIND, EXPRESS OR IMPLIED, INCLUDING BUT NOT LIMITED TO THE WARRANTIES OF MERCHANTABILITY, FITNESS FOR A PARTICULAR PURPOSE AND NONINFRINGEMENT. IN NO EVENT SHALL THE AUTHORS OR COPYRIGHT HOLDERS BE LIABLE FOR ANY CLAIM, DAMAGES OR OTHER LIABILITY, WHETHER IN AN ACTION OF CONTRACT, TORT OR OTHERWISE, ARISING FROM, OUT OF OR IN CONNECTION WITH THE SOFTWARE OR THE USE OR OTHER DEALINGS IN THE SOFTWARE.</small>"
   ]
  },
  {
   "cell_type": "code",
   "execution_count": 22,
   "metadata": {},
   "outputs": [],
   "source": [
    "if PLATFORM != \"CWLITEXMEGA\":\n",
    "    assert key_guess == known_key, \"Failed to break key, expected vs got:\\n{}\\n{}\".format(known_key, key_guess)"
   ]
  },
  {
   "cell_type": "code",
   "execution_count": 23,
   "metadata": {},
   "outputs": [
    {
     "data": {
      "text/plain": [
       "True"
      ]
     },
     "execution_count": 23,
     "metadata": {},
     "output_type": "execute_result"
    }
   ],
   "source": [
    "target.dis()\n",
    "scope.dis()"
   ]
  }
 ],
 "metadata": {
  "interpreter": {
   "hash": "f22b91a595f7e6822ced407a33526d09b68224e5b5089926ec81819e3364718e"
  },
  "kernelspec": {
   "display_name": "Python 3.7.12 64-bit ('venv': venv)",
   "name": "python3"
  },
  "language_info": {
   "codemirror_mode": {
    "name": "ipython",
    "version": 3
   },
   "file_extension": ".py",
   "mimetype": "text/x-python",
   "name": "python",
   "nbconvert_exporter": "python",
   "pygments_lexer": "ipython3",
   "version": "3.7.12"
  }
 },
 "nbformat": 4,
 "nbformat_minor": 2
}
