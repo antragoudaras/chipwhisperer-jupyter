{
 "cells": [
  {
   "cell_type": "markdown",
   "metadata": {},
   "source": [
    "# Part 1, Topic 3, Lab A: DFA Attack Against Last MixColumns\n",
    "\n",
    "**SUMMARY:** *Our previous fault attacks have been very implementation specific, even requiring that the compiler lay things out in a specific way. While it wouldn't be that unexpected for them to work against another target, we can actually do a fault attack that's much easier in practice. All it requires is that we insert a single byte fault between two operations near the end of AES.*\n",
    "\n",
    "*In this lab, we'll be covering the theory behind the attack.*\n",
    "\n",
    "##  DFA Fault Theory\n",
    "\n",
    "There's a great article over at https://blog.quarkslab.com/differential-fault-analysis-on-white-box-aes-implementations.html, if you're interested in the actual analysis. If not, here's a quick TLDR that skips as much math as possible:\n",
    "\n",
    "Our goal is to insert faults between the last two MixColumn operations. As a reminder, here's a block diagram of AES:\n",
    "\n",
    "![](img/aes_operations.png)\n",
    "(source: http://www.iis.ee.ethz.ch/~kgf/acacia/fig/aes.png)\n",
    "\n",
    "This results in:\n",
    "\n",
    "1. 2 sets of ciphertext outputs with the same plaintext - one $O$ with no errors, and one faulted output $O^\\prime$\n",
    "1. XORing the outputs will result in the following system of equations:\n",
    "$$\\space \\\\\n",
    "O_0 + O_0^\\prime = S(Y_0) + S(2Z + Y_0) \\\\\n",
    "O_7 + O_7^\\prime = S(Y_1) + S(3Z + Y_1) \\\\\n",
    "O_{10} + O_{10}^\\prime = S(Y_2) + S(Z + Y_2) \\\\\n",
    "O_{13} + O_{13}^\\prime = S(Y_3) + S(Z + Y_3) \\\\\n",
    "$$\n",
    "1. Solving these equations will result in a set of $Y_n$ and $Z$. Here $Y_n$ is the non faulted output of Mix Columns and Add Round Key for a single column (aka the input to the final round). $Z$ is the faulted version of the first byte XORd with the non faulted version of the byte, so $aZ + Y_n$ is just the faulted version o $Y_n$. $S(x)$ is the SBox operation, $+$ is an XOR, and multiplications are done in $GF(2^8)$ (we've got a special `gmul()` function to do this for us).\n",
    "1. $Y_n$ is constant between faults with the same plaintext (it's only made up of non-faulted bytes so faults have no effect on it) - another fault is enough to narrow $Y_n$ down to one value per byte\n",
    "1. $Y_n$ can then be turned into 4 key bytes with the following equations:\n",
    "$$\\space\\\\\n",
    "\\begin{aligned}\n",
    "K_{10,0} &=S\\left(Y_{0}\\right)+O_{0} \\\\\n",
    "K_{10,7} &=S\\left(Y_{1}\\right)+ O_{7}\\\\\n",
    "K_{10,10} &=S\\left(Y_{2}\\right)+ O_{10}\\\\\n",
    "K_{10,13} &=S\\left(Y_{3}\\right)+O_{13}\n",
    "\\end{aligned}$$\n",
    "\n",
    "\n",
    "The first system of equations is non-linear with multiple solutions, so it's going to be much easier to just brute force it -  aka try every possible $Z$, $Y_0$, $Y_1$, $Y_2$, and $Y_3$ value in these equations, taking only the ones that work for all the equations. You can make this much faster by short circuiting - as soon as it fails one of these equations, there's no need to continue on from that point. For example, if you're going through the equations in the above sequence and the second one fails, there's no need to continue on with $Y_2$ and $Y_3$ for that particular combination of $Z$, $Y_0$, and $Y_1$.\n",
    "\n",
    "We can test this theory by stopping AES just before the 9th round mix columns and changing the 0th byte to a random value. ChipWhisperer includes an AES Cipher that we can use to do the encryption."
   ]
  },
  {
   "cell_type": "code",
   "execution_count": 1,
   "metadata": {},
   "outputs": [
    {
     "name": "stdout",
     "output_type": "stream",
     "text": [
      "CWbytearray(b'2b 7e 15 16 28 ae d2 a6 ab f7 15 88 09 cf 4f 3c a0 fa fe 17 88 54 2c b1 23 a3 39 39 2a 6c 76 05 f2 c2 95 f2 7a 96 b9 43 59 35 80 7a 73 59 f6 7f 3d 80 47 7d 47 16 fe 3e 1e 23 7e 44 6d 7a 88 3b ef 44 a5 41 a8 52 5b 7f b6 71 25 3b db 0b ad 00 d4 d1 c6 f8 7c 83 9d 87 ca f2 b8 bc 11 f9 15 bc 6d 88 a3 7a 11 0b 3e fd db f9 86 41 ca 00 93 fd 4e 54 f7 0e 5f 5f c9 f3 84 a6 4f b2 4e a6 dc 4f ea d2 73 21 b5 8d ba d2 31 2b f5 60 7f 8d 29 2f ac 77 66 f3 19 fa dc 21 28 d1 29 41 57 5c 00 6e d0 14 f9 a8 c9 ee 25 89 e1 3f 0c c8 b6 63 0c a6')\n"
     ]
    }
   ],
   "source": [
    "# get an AES cipher\n",
    "import chipwhisperer as cw\n",
    "from chipwhisperer.common.utils.aes_cipher import AESCipher, aes_tables\n",
    "import chipwhisperer.analyzer as cwa\n",
    "ktp = cw.ktp.Basic()\n",
    "key = list(ktp.next()[0])\n",
    "for i in range(10):\n",
    "    key.extend(cwa.aes_funcs.key_schedule_rounds(key[0:16], 0, i+1))\n",
    "   \n",
    "cipher = AESCipher(key)\n",
    "print(bytearray(key))"
   ]
  },
  {
   "cell_type": "markdown",
   "metadata": {},
   "source": [
    "Just to verify that our cipher works, let's use Pycryptodome to also do an encryption. We can then compare the results to make sure they match."
   ]
  },
  {
   "cell_type": "code",
   "execution_count": 2,
   "metadata": {},
   "outputs": [],
   "source": [
    "# verify that our cipher works\n",
    "from Crypto.Cipher import AES\n",
    "check_cipher = AES.new(ktp.next()[0], AES.MODE_ECB)\n",
    "\n",
    "#generate random plaintext\n",
    "pt = ktp.next()[1]\n",
    "\n",
    "#encrypt with both\n",
    "ct1 = cipher.cipher_block(list(pt))\n",
    "ct2 = check_cipher.encrypt(pt)\n",
    "\n",
    "# verify that outputs are the same\n",
    "assert bytearray(ct1) == bytearray(ct2)"
   ]
  },
  {
   "cell_type": "markdown",
   "metadata": {},
   "source": [
    "We can generate our glitch by doing the AES encryption, stopping at the 9th round mix columns, and changing a value, then completing the encryption. We also make a copy of the state before we insert the fault and complete AES on that as well."
   ]
  },
  {
   "cell_type": "code",
   "execution_count": 3,
   "metadata": {},
   "outputs": [],
   "source": [
    "import random\n",
    "\n",
    "def generate_glitch(pt, cipher):\n",
    "    # Do AES, but stop before the last Mix Columns\n",
    "    state = list(pt)\n",
    "    print(state)\n",
    "    # state = state+[16-len(state)]*(16-len(state))\n",
    "    # print(state)\n",
    "    cipher._add_round_key(state, 0)\n",
    "    for i in range(1, 9):\n",
    "        cipher._sub_bytes(state)\n",
    "        cipher._shift_rows(state)\n",
    "        cipher._mix_columns(state, False)\n",
    "        cipher._add_round_key(state, i)\n",
    "    cipher._sub_bytes(state)\n",
    "    cipher._shift_rows(state)\n",
    "\n",
    "    # Make a copy of the state and finish the rest of AES\n",
    "    x = list(state)\n",
    "    cipher._mix_columns(x, False)\n",
    "    cipher._add_round_key(x, 9)\n",
    "    cipher._sub_bytes(x)\n",
    "    cipher._shift_rows(x)\n",
    "    cipher._add_round_key(x, 10)\n",
    "\n",
    "    # Insert a fault and go through the rest of AES with the fault\n",
    "    random.seed()\n",
    "    fault = random.getrandbits(8)\n",
    "    if state[0] == fault:\n",
    "        fault += 1\n",
    "        fault = fault % 0xFF\n",
    "    \n",
    "    state[0] = fault\n",
    "    cipher._mix_columns(state, False)\n",
    "    cipher._add_round_key(state, 9)\n",
    "    cipher._sub_bytes(state)\n",
    "    cipher._shift_rows(state)\n",
    "    cipher._add_round_key(state, 10)\n",
    "    return state, x\n"
   ]
  },
  {
   "cell_type": "markdown",
   "metadata": {},
   "source": [
    "Let's generate some good and faulty output:"
   ]
  },
  {
   "cell_type": "code",
   "execution_count": 4,
   "metadata": {},
   "outputs": [
    {
     "name": "stdout",
     "output_type": "stream",
     "text": [
      "[233, 9, 70, 108, 101, 31, 250, 70, 187, 127, 215, 163, 48, 130, 179, 144]\n",
      "CWbytearray(b'99 74 ba 25 3e 25 ee 15 68 4e 7f 47 2c 91 89 aa') CWbytearray(b'38 74 ba 25 3e 25 ee d3 68 4e 5a 47 2c 40 89 aa')\n"
     ]
    }
   ],
   "source": [
    "# uncomment to generate a random plaintext\n",
    "#pt = ktp.next()[1] \n",
    "\n",
    "#get two outputs, a normal and a faulty one\n",
    "O_fault, O_good = generate_glitch(pt, cipher) \n",
    "\n",
    "#should be the same except for bytes 0, 7, 10, 13\n",
    "print(bytearray(O_fault), bytearray(O_good)) "
   ]
  },
  {
   "cell_type": "markdown",
   "metadata": {},
   "source": [
    "Here's our code to brute force the Y values, update our Y's with new Y values, and convert a Y value into a key. `gmul()` performs a multiply over $GF(2^8)$, and `check_Y()` checks that a given Y and Z fulfill the requirements of our system of equations."
   ]
  },
  {
   "cell_type": "code",
   "execution_count": 5,
   "metadata": {},
   "outputs": [],
   "source": [
    "from tqdm.notebook import trange\n",
    "def get_Y_guesses(state, x):\n",
    "    #GF(2^8) multiplication adapted from https://en.wikipedia.org/wiki/Finite_field_arithmetic#C_programming_example\n",
    "    def gmul(a, b): \n",
    "        p = 0\n",
    "        while a and b:\n",
    "            if b & 1:\n",
    "                p ^= a\n",
    "            if (a & 0x80):\n",
    "                a = (a << 1) ^ 0x11b;\n",
    "            else:\n",
    "                a <<= 1\n",
    "            b >>= 1\n",
    "        return p\n",
    "    \n",
    "    #check that Yn and Z fulfill requirements\n",
    "    def check_Y(Z, Yn, n):\n",
    "        lookup = [0, 7, 10, 13]\n",
    "        lhs = state[lookup[n]] ^ x[lookup[n]]\n",
    "        coeff = [2, 3, 1, 1]\n",
    "        rhs = aes_tables.sbox[Yn] ^ aes_tables.sbox[gmul(Z, coeff[n]) ^ Yn]\n",
    "        return lhs == rhs\n",
    "    guesses = []\n",
    "    \n",
    "    # brute force Z and Yn\n",
    "    for Z in trange(255):\n",
    "        for Y0 in range(255):\n",
    "            if check_Y(Z, Y0, 0):\n",
    "                for Y1 in range(255):\n",
    "                    if check_Y(Z, Y1, 1):\n",
    "                        for Y2 in range(255):\n",
    "                            if check_Y(Z, Y2, 2):\n",
    "                                for Y3 in range(255):\n",
    "                                    if check_Y(Z, Y3, 3):\n",
    "                                        guesses.append((Y0, Y1, Y2, Y3))\n",
    "    return guesses\n",
    "    \n",
    "def update_Y_guesses(Y_old, Y_new):\n",
    "    updated_Y = []\n",
    "    for Ys in Y_old:\n",
    "        if Ys in Y_new:\n",
    "            updated_Y.append(Ys)\n",
    "    return updated_Y\n",
    "\n",
    "def Y_to_key(x, Y):\n",
    "    return aes_tables.sbox[Y] ^ x"
   ]
  },
  {
   "cell_type": "markdown",
   "metadata": {},
   "source": [
    "We can brute force the Y values:"
   ]
  },
  {
   "cell_type": "code",
   "execution_count": 7,
   "metadata": {},
   "outputs": [
    {
     "data": {
      "application/vnd.jupyter.widget-view+json": {
       "model_id": "6f6afdf7ed4c490991c5ff75aa0170ea",
       "version_major": 2,
       "version_minor": 0
      },
      "text/plain": [
       "  0%|          | 0/255 [00:00<?, ?it/s]"
      ]
     },
     "metadata": {},
     "output_type": "display_data"
    },
    {
     "name": "stdout",
     "output_type": "stream",
     "text": [
      "[(102, 161, 4, 65), (102, 161, 4, 72), (102, 161, 13, 65), (102, 161, 13, 72), (102, 186, 4, 65), (102, 186, 4, 72), (102, 186, 13, 65), (102, 186, 13, 72), (116, 161, 4, 65), (116, 161, 4, 72), (116, 161, 13, 65), (116, 161, 13, 72), (116, 186, 4, 65), (116, 186, 4, 72), (116, 186, 13, 65), (116, 186, 13, 72), (142, 128, 49, 51), (142, 128, 49, 57), (142, 128, 59, 51), (142, 128, 59, 57), (142, 158, 49, 51), (142, 158, 49, 57), (142, 158, 59, 51), (142, 158, 59, 57), (154, 128, 49, 51), (154, 128, 49, 57), (154, 128, 59, 51), (154, 128, 59, 57), (154, 158, 49, 51), (154, 158, 49, 57), (154, 158, 59, 51), (154, 158, 59, 57), (164, 28, 143, 4), (164, 28, 143, 50), (164, 28, 185, 4), (164, 28, 185, 50), (164, 70, 143, 4), (164, 70, 143, 50), (164, 70, 185, 4), (164, 70, 185, 50), (200, 28, 143, 4), (200, 28, 143, 50), (200, 28, 185, 4), (200, 28, 185, 50), (200, 70, 143, 4), (200, 70, 143, 50), (200, 70, 185, 4), (200, 70, 185, 50), (39, 8, 2, 58), (39, 8, 2, 112), (39, 8, 72, 58), (39, 8, 72, 112), (39, 214, 2, 58), (39, 214, 2, 112), (39, 214, 72, 58), (39, 214, 72, 112), (179, 8, 2, 58), (179, 8, 2, 112), (179, 8, 72, 58), (179, 8, 72, 112), (179, 214, 2, 58), (179, 214, 2, 112), (179, 214, 72, 58), (179, 214, 72, 112), (120, 112, 63, 185), (120, 112, 63, 234), (120, 112, 108, 185), (120, 112, 108, 234), (120, 133, 63, 185), (120, 133, 63, 234), (120, 133, 108, 185), (120, 133, 108, 234), (222, 112, 63, 185), (222, 112, 63, 234), (222, 112, 108, 185), (222, 112, 108, 234), (222, 133, 63, 185), (222, 133, 63, 234), (222, 133, 108, 185), (222, 133, 108, 234), (62, 106, 134, 140), (62, 106, 134, 210), (62, 106, 216, 140), (62, 106, 216, 210), (62, 136, 134, 140), (62, 136, 134, 210), (62, 136, 216, 140), (62, 136, 216, 210), (130, 106, 134, 140), (130, 106, 134, 210), (130, 106, 216, 140), (130, 106, 216, 210), (130, 136, 134, 140), (130, 136, 134, 210), (130, 136, 216, 140), (130, 136, 216, 210), (101, 82, 174, 10), (101, 82, 174, 121), (101, 82, 221, 10), (101, 82, 221, 121), (101, 199, 174, 10), (101, 199, 174, 121), (101, 199, 221, 10), (101, 199, 221, 121), (131, 82, 174, 10), (131, 82, 174, 121), (131, 82, 221, 10), (131, 82, 221, 121), (131, 199, 174, 10), (131, 199, 174, 121), (131, 199, 221, 10), (131, 199, 221, 121), (121, 94, 169, 43), (121, 94, 169, 84), (121, 94, 214, 43), (121, 94, 214, 84), (121, 223, 169, 43), (121, 223, 169, 84), (121, 223, 214, 43), (121, 223, 214, 84), (135, 94, 169, 43), (135, 94, 169, 84), (135, 94, 214, 43), (135, 94, 214, 84), (135, 223, 169, 43), (135, 223, 169, 84), (135, 223, 214, 43), (135, 223, 214, 84), (59, 80, 23, 79), (59, 80, 23, 237), (59, 80, 181, 79), (59, 80, 181, 237), (59, 173, 23, 79), (59, 173, 23, 237), (59, 173, 181, 79), (59, 173, 181, 237), (100, 80, 23, 79), (100, 80, 23, 237), (100, 80, 181, 79), (100, 80, 181, 237), (100, 173, 23, 79), (100, 173, 23, 237), (100, 173, 181, 79), (100, 173, 181, 237), (177, 88, 7, 47), (177, 88, 7, 136), (177, 88, 160, 47), (177, 88, 160, 136), (177, 170, 7, 47), (177, 170, 7, 136), (177, 170, 160, 47), (177, 170, 160, 136), (228, 88, 7, 47), (228, 88, 7, 136), (228, 88, 160, 47), (228, 88, 160, 136), (228, 170, 7, 47), (228, 170, 7, 136), (228, 170, 160, 47), (228, 170, 160, 136), (28, 137, 51, 86), (28, 137, 51, 144), (28, 137, 245, 86), (28, 137, 245, 144), (28, 216, 51, 86), (28, 216, 51, 144), (28, 216, 245, 86), (28, 216, 245, 144), (139, 137, 51, 86), (139, 137, 51, 144), (139, 137, 245, 86), (139, 137, 245, 144), (139, 216, 51, 86), (139, 216, 51, 144), (139, 216, 245, 86), (139, 216, 245, 144), (53, 190, 114, 49), (53, 190, 188, 49), (53, 247, 114, 49), (53, 247, 188, 49), (178, 190, 114, 49), (178, 190, 188, 49), (178, 247, 114, 49), (178, 247, 188, 49), (91, 33, 44, 119), (91, 33, 44, 166), (91, 33, 253, 119), (91, 33, 253, 166), (91, 73, 44, 119), (91, 73, 44, 166), (91, 73, 253, 119), (91, 73, 253, 166), (226, 33, 44, 119), (226, 33, 44, 166), (226, 33, 253, 119), (226, 33, 253, 166), (226, 73, 44, 119), (226, 73, 44, 166), (226, 73, 253, 119), (226, 73, 253, 166), (10, 91, 81, 61), (10, 91, 81, 214), (10, 91, 186, 61), (10, 91, 186, 214), (10, 125, 81, 61), (10, 125, 81, 214), (10, 125, 186, 61), (10, 125, 186, 214), (199, 91, 81, 61), (199, 91, 81, 214), (199, 91, 186, 61), (199, 91, 186, 214), (199, 125, 81, 61), (199, 125, 81, 214), (199, 125, 186, 61), (199, 125, 186, 214), (22, 64, 10, 31), (22, 64, 10, 227), (22, 64, 246, 31), (22, 64, 246, 227), (22, 95, 10, 31), (22, 95, 10, 227), (22, 95, 246, 31), (22, 95, 246, 227), (245, 64, 10, 31), (245, 64, 10, 227), (245, 64, 246, 31), (245, 64, 246, 227), (245, 95, 10, 31), (245, 95, 10, 227), (245, 95, 246, 31), (245, 95, 246, 227)]\n"
     ]
    }
   ],
   "source": [
    "# calculate Y_n for the outputs\n",
    "Y_guesses = get_Y_guesses(O_fault, O_good) \n",
    "print(Y_guesses)"
   ]
  },
  {
   "cell_type": "markdown",
   "metadata": {},
   "source": [
    "Then generate a new fault, brute force Y values, and find the ones that match between the faults:"
   ]
  },
  {
   "cell_type": "code",
   "execution_count": 8,
   "metadata": {},
   "outputs": [
    {
     "name": "stdout",
     "output_type": "stream",
     "text": [
      "[233, 9, 70, 108, 101, 31, 250, 70, 187, 127, 215, 163, 48, 130, 179, 144]\n",
      "CWbytearray(b'e3 74 ba 25 3e 25 ee 81 68 4e 24 47 2c 2e 89 aa') CWbytearray(b'38 74 ba 25 3e 25 ee d3 68 4e 5a 47 2c 40 89 aa')\n"
     ]
    },
    {
     "data": {
      "application/vnd.jupyter.widget-view+json": {
       "model_id": "9d8d4407c7fe4bb3825a0381e1b53424",
       "version_major": 2,
       "version_minor": 0
      },
      "text/plain": [
       "  0%|          | 0/255 [00:00<?, ?it/s]"
      ]
     },
     "metadata": {},
     "output_type": "display_data"
    },
    {
     "name": "stdout",
     "output_type": "stream",
     "text": [
      "[(200, 70, 185, 50)]\n"
     ]
    }
   ],
   "source": [
    "#get a new fault with the same plaintext (O_good will be the same)\n",
    "O_fault, O_good = generate_glitch(pt, cipher) \n",
    "print(bytearray(O_fault), bytearray(O_good)) \n",
    "\n",
    "# update our Y values with ones that also work for the new fault\n",
    "Y_guesses = update_Y_guesses(Y_guesses, get_Y_guesses(O_fault, O_good)) \n",
    "\n",
    "#should be left with one Y guess per\n",
    "print(Y_guesses)"
   ]
  },
  {
   "cell_type": "markdown",
   "metadata": {},
   "source": [
    "We can then print the key bytes that we recovered, as well as the bytes for the actual last round key:"
   ]
  },
  {
   "cell_type": "code",
   "execution_count": 9,
   "metadata": {},
   "outputs": [
    {
     "name": "stdout",
     "output_type": "stream",
     "text": [
      "bytes recovered:  CWbytearray(b'd0 89 0c 63')\n",
      "key bytes:        CWbytearray(b'd0 89 0c 63')\n"
     ]
    }
   ],
   "source": [
    "#turn Y_n into key bytes\n",
    "lookup = [0, 7, 10, 13]\n",
    "print(\"bytes recovered: \", bytearray([Y_to_key(O_good[lookup[n]], Y_guesses[0][n]) for n in range(4)]))\n",
    "print(\"key bytes:       \", bytearray([key[160:][i] for i in lookup]))"
   ]
  },
  {
   "cell_type": "markdown",
   "metadata": {},
   "source": [
    "## Extending the Attack\n",
    "\n",
    "There's a lot of scenarios that we didn't cover at all here:\n",
    "\n",
    "1. We only attacked one column of AES (aka 4 key bytes). A full attack will need to attack the rest of the columns as well, with the output lookup needing to change for each column.\n",
    "    * If we fault a single column of the previous round MixColumns, this will actually turn into a single byte fault for each column in the next round! MixColumns will spread the fault to each byte in the column. Each byte in the column is then placed in a separate column by the next ShiftRows.\n",
    "1. We assumed the fault was inserted in the first byte of the column. If the glitch was inserted at another byte in that column, the system of equations we solved changes. For a real attack, we don't know which byte we glitched, so we'd need to account for that in the attack. Depending on the implementation, you might also glitch multiple bytes in the same column, which you'd have to discard.\n",
    "1. We only did AES128 here. If this was AES256, we'd need to do the attack again for the previous round as well.\n",
    "\n",
    "Let's try updating the attack to also work if we fault a random byte in the column. We can update our function that brute forces the Y values to also take a fault_byte argument. Z is the only part that changes (remember, Y doesn't depend on anything to do with the fault!), so we can update our coefficient table to take a fault_byte argument as well.\n",
    "\n",
    "## Attacking Other Bytes\n",
    "\n",
    "If we want to take the other bytes, we'll actually have to look a bit more into the math (or not, feel free to skip this section if you don't care where these updated coefficients are coming from). If the AES column state is:\n",
    "\n",
    "$$\\left(\\begin{array}{llll}\n",
    "A & E & I & M \\\\\n",
    "B & F & J & N \\\\\n",
    "C & G & K & O \\\\\n",
    "D & H & L & P\n",
    "\\end{array}\\right)$$\n",
    "\n",
    "then $Y_n$ looks like:\n",
    "\n",
    "$$\n",
    "Y_{0}=2 A+3 B+C+D+K_{9,0} \\\\\n",
    "Y_{1}=3 A+B+C+2 D+K_{9,3} \\\\\n",
    "Y_{2}=A+B+2 C+3 D+K_{9,2} \\\\\n",
    "Y_{3}=A+2 B+3 C+D+K_{9,1}\n",
    "$$\n",
    "\n",
    "For the byte A attack, we needed to make the coefficient the same as the one in front of A for those equations. For the other bytes, we just need use the coefficient for that byte. For example, for B, instead of `[2, 3, 1, 1]`, we need to use `[3, 1, 1, 2]`."
   ]
  },
  {
   "cell_type": "code",
   "execution_count": 10,
   "metadata": {},
   "outputs": [],
   "source": [
    "def get_Y_guesses(state, x, fault_byte):\n",
    "    #GF(2^8) multiplication adapted from https://en.wikipedia.org/wiki/Finite_field_arithmetic#C_programming_example\n",
    "    def gmul(a, b): \n",
    "        p = 0\n",
    "        while a and b:\n",
    "            if b & 1:\n",
    "                p ^= a\n",
    "            if (a & 0x80):\n",
    "                a = (a << 1) ^ 0x11b;\n",
    "            else:\n",
    "                a <<= 1\n",
    "            b >>= 1\n",
    "        return p\n",
    "    \n",
    "    #check that Yn and Z fulfill requirements\n",
    "    def check_Y(Z, Yn, n, fault_byte):\n",
    "        lookup = [0, 7, 10, 13]\n",
    "        lhs = state[lookup[n]] ^ x[lookup[n]]\n",
    "        coeff = [[2, 3, 1, 1], [3, 1, 1, 2], [1, 1, 2, 3], [1, 2, 3, 1]]\n",
    "        rhs = aes_tables.sbox[Yn] ^ aes_tables.sbox[gmul(Z, coeff[fault_byte][n]) ^ Yn]\n",
    "        return lhs == rhs\n",
    "    guesses = []\n",
    "    \n",
    "    # brute force Z and Yn\n",
    "    for Z in trange(255):\n",
    "        for Y0 in range(255):\n",
    "            if check_Y(Z, Y0, 0, fault_byte):\n",
    "                for Y1 in range(255):\n",
    "                    if check_Y(Z, Y1, 1, fault_byte):\n",
    "                        for Y2 in range(255):\n",
    "                            if check_Y(Z, Y2, 2, fault_byte):\n",
    "                                for Y3 in range(255):\n",
    "                                    if check_Y(Z, Y3, 3, fault_byte):\n",
    "                                        guesses.append((Y0, Y1, Y2, Y3, fault_byte))\n",
    "    return guesses"
   ]
  },
  {
   "cell_type": "code",
   "execution_count": 11,
   "metadata": {},
   "outputs": [],
   "source": [
    "def gmul(a, b): \n",
    "    p = 0\n",
    "    while a and b:\n",
    "        if b & 1:\n",
    "            p ^= a\n",
    "        if (a & 0x80):\n",
    "            a = (a << 1) ^ 0x11b;\n",
    "        else:\n",
    "            a <<= 1\n",
    "        b >>= 1\n",
    "    return p"
   ]
  },
  {
   "cell_type": "code",
   "execution_count": 12,
   "metadata": {},
   "outputs": [],
   "source": [
    "a = 0x60\n",
    "b = gmul(a, 2) ^ gmul(a, 3) ^ a ^ a"
   ]
  },
  {
   "cell_type": "code",
   "execution_count": 13,
   "metadata": {},
   "outputs": [
    {
     "data": {
      "text/plain": [
       "'0x60'"
      ]
     },
     "execution_count": 13,
     "metadata": {},
     "output_type": "execute_result"
    }
   ],
   "source": [
    "hex(b)"
   ]
  },
  {
   "cell_type": "markdown",
   "metadata": {},
   "source": [
    "We also need to update our glitch generation to randomly insert the glitch:"
   ]
  },
  {
   "cell_type": "code",
   "execution_count": 14,
   "metadata": {},
   "outputs": [],
   "source": [
    "def generate_glitch(pt, cipher):\n",
    "    # Do AES, but stop before the last mix columns\n",
    "    state = list(pt)\n",
    "    state = state+[16-len(state)]*(16-len(state))\n",
    "    cipher._add_round_key(state, 0)\n",
    "    for i in range(1, 9):\n",
    "        cipher._sub_bytes(state)\n",
    "        cipher._shift_rows(state)\n",
    "        cipher._mix_columns(state, False)\n",
    "        cipher._add_round_key(state, i)\n",
    "    cipher._sub_bytes(state)\n",
    "    cipher._shift_rows(state)\n",
    "\n",
    "    # make a copy of the state and run it through the rest of AES\n",
    "    x = list(state)\n",
    "    cipher._mix_columns(x, False)\n",
    "    cipher._add_round_key(x, 9)\n",
    "    cipher._sub_bytes(x)\n",
    "    cipher._shift_rows(x)\n",
    "    cipher._add_round_key(x, 10)\n",
    "\n",
    "    # insert a random fault byte in a random location\n",
    "    import random\n",
    "    random.seed()\n",
    "    fault = random.getrandbits(8)\n",
    "    fault_byte = random.getrandbits(2)\n",
    "    if state[fault_byte] == fault:\n",
    "        fault += 1\n",
    "        fault = fault % 0xFF\n",
    "    state[fault_byte] = fault\n",
    "\n",
    "    #and take the faulted one through AES as well\n",
    "    cipher._mix_columns(state, False)\n",
    "    cipher._add_round_key(state, 9)\n",
    "    cipher._sub_bytes(state)\n",
    "    cipher._shift_rows(state)\n",
    "    cipher._add_round_key(state, 10)\n",
    "    return state, x"
   ]
  },
  {
   "cell_type": "markdown",
   "metadata": {},
   "source": [
    "Then we can just repeat what we did before:"
   ]
  },
  {
   "cell_type": "code",
   "execution_count": 15,
   "metadata": {},
   "outputs": [
    {
     "name": "stdout",
     "output_type": "stream",
     "text": [
      "CWbytearray(b'dc fd 6b 78 05 86 63 6b 2e fd ed 85 12 49 f6 0a') CWbytearray(b'7a fd 6b 78 05 86 63 bf 2e fd 90 85 12 9a f6 0a')\n"
     ]
    }
   ],
   "source": [
    "#generate a random plaintext\n",
    "pt = ktp.next()[1] \n",
    "\n",
    "#get two outputs, a normal and a faulty one\n",
    "O_fault, O_good = generate_glitch(pt, cipher) \n",
    "\n",
    "#should be the same except for bytes 0, 7, 10, 13\n",
    "print(bytearray(O_fault), bytearray(O_good)) "
   ]
  },
  {
   "cell_type": "markdown",
   "metadata": {},
   "source": [
    "And do the Y value brute force for each byte in the column."
   ]
  },
  {
   "cell_type": "code",
   "execution_count": 16,
   "metadata": {},
   "outputs": [
    {
     "data": {
      "application/vnd.jupyter.widget-view+json": {
       "model_id": "15cdefa37ae8458185ca2bb38050e2a2",
       "version_major": 2,
       "version_minor": 0
      },
      "text/plain": [
       "  0%|          | 0/255 [00:00<?, ?it/s]"
      ]
     },
     "metadata": {},
     "output_type": "display_data"
    },
    {
     "data": {
      "application/vnd.jupyter.widget-view+json": {
       "model_id": "a0a6f099c79f4f5d909789d7fe9af1b7",
       "version_major": 2,
       "version_minor": 0
      },
      "text/plain": [
       "  0%|          | 0/255 [00:00<?, ?it/s]"
      ]
     },
     "metadata": {},
     "output_type": "display_data"
    },
    {
     "data": {
      "application/vnd.jupyter.widget-view+json": {
       "model_id": "bdd7dc92da304b61a543560b281965d3",
       "version_major": 2,
       "version_minor": 0
      },
      "text/plain": [
       "  0%|          | 0/255 [00:00<?, ?it/s]"
      ]
     },
     "metadata": {},
     "output_type": "display_data"
    },
    {
     "data": {
      "application/vnd.jupyter.widget-view+json": {
       "model_id": "67036bd9306541a3bb663289401a0c9e",
       "version_major": 2,
       "version_minor": 0
      },
      "text/plain": [
       "  0%|          | 0/255 [00:00<?, ?it/s]"
      ]
     },
     "metadata": {},
     "output_type": "display_data"
    },
    {
     "name": "stdout",
     "output_type": "stream",
     "text": [
      "[(222, 151, 132, 165, 0), (222, 151, 132, 181, 0), (222, 151, 148, 165, 0), (222, 151, 148, 181, 0), (222, 167, 132, 165, 0), (222, 167, 132, 181, 0), (222, 167, 148, 165, 0), (222, 167, 148, 181, 0), (254, 151, 132, 165, 0), (254, 151, 132, 181, 0), (254, 151, 148, 165, 0), (254, 151, 148, 181, 0), (254, 167, 132, 165, 0), (254, 167, 132, 181, 0), (254, 167, 148, 165, 0), (254, 167, 148, 181, 0), (26, 156, 97, 46, 0), (26, 156, 97, 59, 0), (26, 156, 116, 46, 0), (26, 156, 116, 59, 0), (26, 163, 97, 46, 0), (26, 163, 97, 59, 0), (26, 163, 116, 46, 0), (26, 163, 116, 59, 0), (48, 156, 97, 46, 0), (48, 156, 97, 59, 0), (48, 156, 116, 46, 0), (48, 156, 116, 59, 0), (48, 163, 97, 46, 0), (48, 163, 97, 59, 0), (48, 163, 116, 46, 0), (48, 163, 116, 59, 0), (147, 217, 169, 234, 0), (147, 217, 169, 253, 0), (147, 217, 190, 234, 0), (147, 217, 190, 253, 0), (147, 224, 169, 234, 0), (147, 224, 169, 253, 0), (147, 224, 190, 234, 0), (147, 224, 190, 253, 0), (189, 217, 169, 234, 0), (189, 217, 169, 253, 0), (189, 217, 190, 234, 0), (189, 217, 190, 253, 0), (189, 224, 169, 234, 0), (189, 224, 169, 253, 0), (189, 224, 190, 234, 0), (189, 224, 190, 253, 0), (152, 87, 196, 174, 0), (152, 87, 196, 178, 0), (152, 87, 216, 174, 0), (152, 87, 216, 178, 0), (152, 115, 196, 174, 0), (152, 115, 196, 178, 0), (152, 115, 216, 174, 0), (152, 115, 216, 178, 0), (160, 87, 196, 174, 0), (160, 87, 196, 178, 0), (160, 87, 216, 174, 0), (160, 87, 216, 178, 0), (160, 115, 196, 174, 0), (160, 115, 196, 178, 0), (160, 115, 216, 174, 0), (160, 115, 216, 178, 0), (73, 154, 104, 201, 0), (73, 154, 104, 215, 0), (73, 154, 118, 201, 0), (73, 154, 118, 215, 0), (73, 184, 104, 201, 0), (73, 184, 104, 215, 0), (73, 184, 118, 201, 0), (73, 184, 118, 215, 0), (117, 154, 104, 201, 0), (117, 154, 104, 215, 0), (117, 154, 118, 201, 0), (117, 154, 118, 215, 0), (117, 184, 104, 201, 0), (117, 184, 104, 215, 0), (117, 184, 118, 201, 0), (117, 184, 118, 215, 0), (175, 139, 89, 159, 0), (175, 139, 89, 191, 0), (175, 139, 121, 159, 0), (175, 139, 121, 191, 0), (175, 235, 89, 159, 0), (175, 235, 89, 191, 0), (175, 235, 121, 159, 0), (175, 235, 121, 191, 0), (239, 139, 89, 159, 0), (239, 139, 89, 191, 0), (239, 139, 121, 159, 0), (239, 139, 121, 191, 0), (239, 235, 89, 159, 0), (239, 235, 89, 191, 0), (239, 235, 121, 159, 0), (239, 235, 121, 191, 0), (183, 187, 79, 15, 0), (183, 187, 79, 41, 0), (183, 187, 105, 15, 0), (183, 187, 105, 41, 0), (183, 209, 79, 15, 0), (183, 209, 79, 41, 0), (183, 209, 105, 15, 0), (183, 209, 105, 41, 0), (251, 187, 79, 15, 0), (251, 187, 79, 41, 0), (251, 187, 105, 15, 0), (251, 187, 105, 41, 0), (251, 209, 79, 15, 0), (251, 209, 79, 41, 0), (251, 209, 105, 15, 0), (251, 209, 105, 41, 0), (47, 144, 66, 222, 0), (47, 144, 66, 236, 0), (47, 144, 112, 222, 0), (47, 144, 112, 236, 0), (47, 198, 66, 222, 0), (47, 198, 66, 236, 0), (47, 198, 112, 222, 0), (47, 198, 112, 236, 0), (75, 144, 66, 222, 0), (75, 144, 66, 236, 0), (75, 144, 112, 222, 0), (75, 144, 112, 236, 0), (75, 198, 66, 222, 0), (75, 198, 66, 236, 0), (75, 198, 112, 222, 0), (75, 198, 112, 236, 0), (182, 10, 6, 66, 0), (182, 10, 6, 125, 0), (182, 10, 57, 66, 0), (182, 10, 57, 125, 0), (182, 75, 6, 66, 0), (182, 75, 6, 125, 0), (182, 75, 57, 66, 0), (182, 75, 57, 125, 0), (200, 10, 6, 66, 0), (200, 10, 6, 125, 0), (200, 10, 57, 66, 0), (200, 10, 57, 125, 0), (200, 75, 6, 66, 0), (200, 75, 6, 125, 0), (200, 75, 57, 66, 0), (200, 75, 57, 125, 0), (236, 65, 63, 38, 0), (236, 65, 63, 166, 0), (236, 65, 191, 38, 0), (236, 65, 191, 166, 0), (236, 218, 63, 38, 0), (236, 218, 63, 166, 0), (236, 218, 191, 38, 0), (236, 218, 191, 166, 0), (247, 65, 63, 38, 0), (247, 65, 63, 166, 0), (247, 65, 191, 38, 0), (247, 65, 191, 166, 0), (247, 218, 63, 38, 0), (247, 218, 63, 166, 0), (247, 218, 191, 38, 0), (247, 218, 191, 166, 0), (252, 120, 40, 116, 0), (252, 120, 40, 248, 0), (252, 120, 164, 116, 0), (252, 120, 164, 248, 0), (252, 247, 40, 116, 0), (252, 247, 40, 248, 0), (252, 247, 164, 116, 0), (252, 247, 164, 248, 0), (0, 64, 71, 28, 0), (0, 64, 71, 146, 0), (0, 64, 201, 28, 0), (0, 64, 201, 146, 0), (0, 201, 71, 28, 0), (0, 201, 71, 146, 0), (0, 201, 201, 28, 0), (0, 201, 201, 146, 0), (7, 64, 71, 28, 0), (7, 64, 71, 146, 0), (7, 64, 201, 28, 0), (7, 64, 201, 146, 0), (7, 201, 71, 28, 0), (7, 201, 71, 146, 0), (7, 201, 201, 28, 0), (7, 201, 201, 146, 0), (25, 64, 71, 28, 0), (25, 64, 71, 146, 0), (25, 64, 201, 28, 0), (25, 64, 201, 146, 0), (25, 201, 71, 28, 0), (25, 201, 71, 146, 0), (25, 201, 201, 28, 0), (25, 201, 201, 146, 0), (30, 64, 71, 28, 0), (30, 64, 71, 146, 0), (30, 64, 201, 28, 0), (30, 64, 201, 146, 0), (30, 201, 71, 28, 0), (30, 201, 71, 146, 0), (30, 201, 201, 28, 0), (30, 201, 201, 146, 0), (76, 122, 77, 24, 0), (76, 122, 77, 138, 0), (76, 122, 223, 24, 0), (76, 122, 223, 138, 0), (76, 215, 77, 24, 0), (76, 215, 77, 138, 0), (76, 215, 223, 24, 0), (76, 215, 223, 138, 0), (115, 122, 77, 24, 0), (115, 122, 77, 138, 0), (115, 122, 223, 24, 0), (115, 122, 223, 138, 0), (115, 215, 77, 24, 0), (115, 215, 77, 138, 0), (115, 215, 223, 24, 0), (115, 215, 223, 138, 0), (8, 94, 80, 55, 0), (8, 94, 80, 164, 0), (8, 94, 195, 55, 0), (8, 94, 195, 164, 0), (8, 240, 80, 55, 0), (8, 240, 80, 164, 0), (8, 240, 195, 55, 0), (8, 240, 195, 164, 0), (53, 94, 80, 55, 0), (53, 94, 80, 164, 0), (53, 94, 195, 55, 0), (53, 94, 195, 164, 0), (53, 240, 80, 55, 0), (53, 240, 80, 164, 0), (53, 240, 195, 55, 0), (53, 240, 195, 164, 0), (13, 9, 7, 31, 0), (13, 9, 7, 130, 0), (13, 9, 154, 31, 0), (13, 9, 154, 130, 0), (13, 181, 7, 31, 0), (13, 181, 7, 130, 0), (13, 181, 154, 31, 0), (13, 181, 154, 130, 0), (44, 9, 7, 31, 0), (44, 9, 7, 130, 0), (44, 9, 154, 31, 0), (44, 9, 154, 130, 0), (44, 181, 7, 31, 0), (44, 181, 7, 130, 0), (44, 181, 154, 31, 0), (44, 181, 154, 130, 0), (77, 80, 48, 5, 0), (77, 80, 48, 154, 0), (77, 80, 175, 5, 0), (77, 80, 175, 154, 0), (77, 234, 48, 5, 0), (77, 234, 48, 154, 0), (77, 234, 175, 5, 0), (77, 234, 175, 154, 0), (104, 80, 48, 5, 0), (104, 80, 48, 154, 0), (104, 80, 175, 5, 0), (104, 80, 175, 154, 0), (104, 234, 48, 5, 0), (104, 234, 48, 154, 0), (104, 234, 175, 5, 0), (104, 234, 175, 154, 0), (60, 6, 2, 113, 0), (60, 6, 2, 208, 0), (60, 6, 163, 113, 0), (60, 6, 163, 208, 0), (60, 254, 2, 113, 0), (60, 254, 2, 208, 0), (60, 254, 163, 113, 0), (60, 254, 163, 208, 0), (101, 6, 2, 113, 0), (101, 6, 2, 208, 0), (101, 6, 163, 113, 0), (101, 6, 163, 208, 0), (101, 254, 2, 113, 0), (101, 254, 2, 208, 0), (101, 254, 163, 113, 0), (101, 254, 163, 208, 0), (144, 5, 3, 37, 0), (144, 5, 3, 131, 0), (144, 5, 165, 37, 0), (144, 5, 165, 131, 0), (144, 244, 3, 37, 0), (144, 244, 3, 131, 0), (144, 244, 165, 37, 0), (144, 244, 165, 131, 0), (199, 5, 3, 37, 0), (199, 5, 3, 131, 0), (199, 5, 165, 37, 0), (199, 5, 165, 131, 0), (199, 244, 3, 37, 0), (199, 244, 3, 131, 0), (199, 244, 165, 37, 0), (199, 244, 165, 131, 0), (154, 58, 22, 70, 0), (154, 58, 22, 242, 0), (154, 58, 162, 70, 0), (154, 58, 162, 242, 0), (154, 253, 22, 70, 0), (154, 253, 22, 242, 0), (154, 253, 162, 70, 0), (154, 253, 162, 242, 0), (233, 58, 22, 70, 0), (233, 58, 22, 242, 0), (233, 58, 162, 70, 0), (233, 58, 162, 242, 0), (233, 253, 22, 70, 0), (233, 253, 22, 242, 0), (233, 253, 162, 70, 0), (233, 253, 162, 242, 0), (149, 127, 99, 43, 0), (149, 127, 99, 148, 0), (149, 127, 220, 43, 0), (149, 127, 220, 148, 0), (149, 165, 99, 43, 0), (149, 165, 99, 148, 0), (149, 165, 220, 43, 0), (149, 165, 220, 148, 0), (240, 127, 99, 43, 0), (240, 127, 99, 148, 0), (240, 127, 220, 43, 0), (240, 127, 220, 148, 0), (240, 165, 99, 43, 0), (240, 165, 99, 148, 0), (240, 165, 220, 43, 0), (240, 165, 220, 148, 0), (123, 161, 83, 121, 0), (123, 161, 83, 188, 0), (123, 161, 150, 121, 0), (123, 161, 150, 188, 0), (123, 245, 83, 121, 0), (123, 245, 83, 188, 0), (123, 245, 150, 121, 0), (123, 245, 150, 188, 0), (234, 161, 83, 121, 0), (234, 161, 83, 188, 0), (234, 161, 150, 121, 0), (234, 161, 150, 188, 0), (234, 245, 83, 121, 0), (234, 245, 83, 188, 0), (234, 245, 150, 121, 0), (234, 245, 150, 188, 0), (5, 132, 124, 14, 0), (5, 132, 124, 193, 0), (5, 132, 179, 14, 0), (5, 132, 179, 193, 0), (5, 206, 124, 14, 0), (5, 206, 124, 193, 0), (5, 206, 179, 14, 0), (5, 206, 179, 193, 0), (128, 132, 124, 14, 0), (128, 132, 124, 193, 0), (128, 132, 179, 14, 0), (128, 132, 179, 193, 0), (128, 206, 124, 14, 0), (128, 206, 124, 193, 0), (128, 206, 179, 14, 0), (128, 206, 179, 193, 0), (20, 54, 18, 115, 0), (20, 54, 18, 167, 0), (20, 54, 198, 115, 0), (20, 54, 198, 167, 0), (20, 81, 18, 115, 0), (20, 81, 18, 167, 0), (20, 81, 198, 115, 0), (20, 81, 198, 167, 0), (167, 54, 18, 115, 0), (167, 54, 18, 167, 0), (167, 54, 198, 115, 0), (167, 54, 198, 167, 0), (167, 81, 18, 115, 0), (167, 81, 18, 167, 0), (167, 81, 198, 115, 0), (167, 81, 198, 167, 0), (118, 140, 84, 72, 0), (118, 140, 84, 145, 0), (118, 140, 141, 72, 0), (118, 140, 141, 145, 0), (118, 252, 84, 72, 0), (118, 252, 84, 145, 0), (118, 252, 141, 72, 0), (118, 252, 141, 145, 0), (223, 140, 84, 72, 0), (223, 140, 84, 145, 0), (223, 140, 141, 72, 0), (223, 140, 141, 145, 0), (223, 252, 84, 72, 0), (223, 252, 84, 145, 0), (223, 252, 141, 72, 0), (223, 252, 141, 145, 0), (79, 153, 119, 91, 0), (79, 153, 119, 187, 0), (79, 153, 151, 91, 0), (79, 153, 151, 187, 0), (79, 162, 119, 91, 0), (79, 162, 119, 187, 0), (79, 162, 151, 91, 0), (79, 162, 151, 187, 0), (148, 153, 119, 91, 0), (148, 153, 119, 187, 0), (148, 153, 151, 91, 0), (148, 153, 151, 187, 0), (148, 162, 119, 91, 0), (148, 162, 119, 187, 0), (148, 162, 151, 91, 0), (148, 162, 151, 187, 0), (102, 79, 36, 47, 0), (102, 79, 36, 199, 0), (102, 79, 204, 47, 0), (102, 79, 204, 199, 0), (102, 108, 36, 47, 0), (102, 108, 36, 199, 0), (102, 108, 204, 47, 0), (102, 108, 204, 199, 0), (173, 79, 36, 47, 0), (173, 79, 36, 199, 0), (173, 79, 204, 47, 0), (173, 79, 204, 199, 0), (173, 108, 36, 47, 0), (173, 108, 36, 199, 0), (173, 108, 204, 47, 0), (173, 108, 204, 199, 0), (56, 0, 0, 90, 0), (56, 0, 0, 179, 0), (56, 0, 38, 90, 0), (56, 0, 38, 179, 0), (56, 0, 207, 90, 0), (56, 0, 207, 179, 0), (56, 0, 233, 90, 0), (56, 0, 233, 179, 0), (56, 32, 0, 90, 0), (56, 32, 0, 179, 0), (56, 32, 38, 90, 0), (56, 32, 38, 179, 0), (56, 32, 207, 90, 0), (56, 32, 207, 179, 0), (56, 32, 233, 90, 0), (56, 32, 233, 179, 0), (56, 74, 0, 90, 0), (56, 74, 0, 179, 0), (56, 74, 38, 90, 0), (56, 74, 38, 179, 0), (56, 74, 207, 90, 0), (56, 74, 207, 179, 0), (56, 74, 233, 90, 0), (56, 74, 233, 179, 0), (56, 106, 0, 90, 0), (56, 106, 0, 179, 0), (56, 106, 38, 90, 0), (56, 106, 38, 179, 0), (56, 106, 207, 90, 0), (56, 106, 207, 179, 0), (56, 106, 233, 90, 0), (56, 106, 233, 179, 0), (241, 0, 0, 90, 0), (241, 0, 0, 179, 0), (241, 0, 38, 90, 0), (241, 0, 38, 179, 0), (241, 0, 207, 90, 0), (241, 0, 207, 179, 0), (241, 0, 233, 90, 0), (241, 0, 233, 179, 0), (241, 32, 0, 90, 0), (241, 32, 0, 179, 0), (241, 32, 38, 90, 0), (241, 32, 38, 179, 0), (241, 32, 207, 90, 0), (241, 32, 207, 179, 0), (241, 32, 233, 90, 0), (241, 32, 233, 179, 0), (241, 74, 0, 90, 0), (241, 74, 0, 179, 0), (241, 74, 38, 90, 0), (241, 74, 38, 179, 0), (241, 74, 207, 90, 0), (241, 74, 207, 179, 0), (241, 74, 233, 90, 0), (241, 74, 233, 179, 0), (241, 106, 0, 90, 0), (241, 106, 0, 179, 0), (241, 106, 38, 90, 0), (241, 106, 38, 179, 0), (241, 106, 207, 90, 0), (241, 106, 207, 179, 0), (241, 106, 233, 90, 0), (241, 106, 233, 179, 0), (4, 83, 49, 22, 0), (4, 83, 49, 231, 0), (4, 83, 192, 22, 0), (4, 83, 192, 231, 0), (4, 91, 49, 22, 0), (4, 91, 49, 231, 0), (4, 91, 192, 22, 0), (4, 91, 192, 231, 0), (253, 83, 49, 22, 0), (253, 83, 49, 231, 0), (253, 83, 192, 22, 0), (253, 83, 192, 231, 0), (253, 91, 49, 22, 0), (253, 91, 49, 231, 0), (253, 91, 192, 22, 0), (253, 91, 192, 231, 0), (43, 42, 26, 68, 0), (43, 42, 26, 177, 0), (43, 42, 239, 68, 0), (43, 42, 239, 177, 0), (43, 46, 26, 68, 0), (43, 46, 26, 177, 0), (43, 46, 239, 68, 0), (43, 46, 239, 177, 0), (218, 42, 26, 68, 0), (218, 42, 26, 177, 0), (218, 42, 239, 68, 0), (218, 42, 239, 177, 0), (218, 46, 26, 68, 0), (218, 46, 26, 177, 0), (218, 46, 239, 68, 0), (218, 46, 239, 177, 0), (105, 229, 81, 82, 0), (105, 229, 81, 169, 0), (105, 229, 170, 82, 0), (105, 229, 170, 169, 0), (105, 243, 81, 82, 0), (105, 243, 81, 169, 0), (105, 243, 170, 82, 0), (105, 243, 170, 169, 0), (132, 229, 81, 82, 0), (132, 229, 81, 169, 0), (132, 229, 170, 82, 0), (132, 229, 170, 169, 0), (132, 243, 81, 82, 0), (132, 243, 81, 169, 0), (132, 243, 170, 82, 0), (132, 243, 170, 169, 0), (98, 36, 28, 0, 0), (98, 36, 28, 105, 0), (98, 36, 28, 149, 0), (98, 36, 28, 252, 0), (98, 36, 224, 0, 0), (98, 36, 224, 105, 0), (98, 36, 224, 149, 0), (98, 36, 224, 252, 0), (98, 59, 28, 0, 0), (98, 59, 28, 105, 0), (98, 59, 28, 149, 0), (98, 59, 28, 252, 0), (98, 59, 224, 0, 0), (98, 59, 224, 105, 0), (98, 59, 224, 149, 0), (98, 59, 224, 252, 0), (129, 36, 28, 0, 0), (129, 36, 28, 105, 0), (129, 36, 28, 149, 0), (129, 36, 28, 252, 0), (129, 36, 224, 0, 0), (129, 36, 224, 105, 0), (129, 36, 224, 149, 0), (129, 36, 224, 252, 0), (129, 59, 28, 0, 0), (129, 59, 28, 105, 0), (129, 59, 28, 149, 0), (129, 59, 28, 252, 0), (129, 59, 224, 0, 0), (129, 59, 224, 105, 0), (129, 59, 224, 149, 0), (129, 59, 224, 252, 0), (76, 15, 97, 84, 1), (76, 15, 97, 126, 1), (76, 15, 116, 84, 1), (76, 15, 116, 126, 1), (76, 26, 97, 84, 1), (76, 26, 97, 126, 1), (76, 26, 116, 84, 1), (76, 26, 116, 126, 1), (115, 15, 97, 84, 1), (115, 15, 97, 126, 1), (115, 15, 116, 84, 1), (115, 15, 116, 126, 1), (115, 26, 97, 84, 1), (115, 26, 97, 126, 1), (115, 26, 116, 84, 1), (115, 26, 116, 126, 1), (149, 79, 208, 163, 1), (149, 79, 208, 229, 1), (149, 79, 243, 163, 1), (149, 79, 243, 229, 1), (149, 108, 208, 163, 1), (149, 108, 208, 229, 1), (149, 108, 243, 163, 1), (149, 108, 243, 229, 1), (240, 79, 208, 163, 1), (240, 79, 208, 229, 1), (240, 79, 243, 163, 1), (240, 79, 243, 229, 1), (240, 108, 208, 163, 1), (240, 108, 208, 229, 1), (240, 108, 243, 163, 1), (240, 108, 243, 229, 1), (32, 10, 19, 83, 1), (32, 10, 19, 209, 1), (32, 10, 82, 83, 1), (32, 10, 82, 209, 1), (32, 75, 19, 83, 1), (32, 75, 19, 209, 1), (32, 75, 82, 83, 1), (32, 75, 82, 209, 1), (227, 10, 19, 83, 1), (227, 10, 19, 209, 1), (227, 10, 82, 83, 1), (227, 10, 82, 209, 1), (227, 75, 19, 83, 1), (227, 75, 19, 209, 1), (227, 75, 82, 83, 1), (227, 75, 82, 209, 1), (57, 173, 59, 49, 1), (57, 173, 59, 155, 1), (57, 173, 110, 49, 1), (57, 173, 110, 155, 1), (57, 248, 59, 49, 1), (57, 248, 59, 155, 1), (57, 248, 110, 49, 1), (57, 248, 110, 155, 1), (198, 173, 59, 49, 1), (198, 173, 59, 155, 1), (198, 173, 110, 49, 1), (198, 173, 110, 155, 1), (198, 248, 59, 49, 1), (198, 248, 59, 155, 1), (198, 248, 110, 49, 1), (198, 248, 110, 155, 1), (61, 159, 27, 71, 1), (61, 159, 27, 143, 1), (61, 159, 127, 71, 1), (61, 159, 127, 143, 1), (61, 251, 27, 71, 1), (61, 251, 27, 143, 1), (61, 251, 127, 71, 1), (61, 251, 127, 143, 1), (145, 159, 27, 71, 1), (145, 159, 27, 143, 1), (145, 159, 127, 71, 1), (145, 159, 127, 143, 1), (145, 251, 27, 71, 1), (145, 251, 27, 143, 1), (145, 251, 127, 71, 1), (145, 251, 127, 143, 1), (17, 33, 8, 21, 1), (17, 33, 8, 207, 1), (17, 33, 101, 21, 1), (17, 33, 101, 207, 1), (17, 76, 8, 21, 1), (17, 76, 8, 207, 1), (17, 76, 101, 21, 1), (17, 76, 101, 207, 1), (166, 33, 8, 21, 1), (166, 33, 8, 207, 1), (166, 33, 101, 21, 1), (166, 33, 101, 207, 1), (166, 76, 8, 21, 1), (166, 76, 8, 207, 1), (166, 76, 101, 21, 1), (166, 76, 101, 207, 1), (126, 158, 39, 33, 1), (126, 158, 39, 195, 1), (126, 158, 86, 33, 1), (126, 158, 86, 195, 1), (126, 239, 39, 33, 1), (126, 239, 39, 195, 1), (126, 239, 86, 33, 1), (126, 239, 86, 195, 1), (237, 158, 39, 33, 1), (237, 158, 39, 195, 1), (237, 158, 86, 33, 1), (237, 158, 86, 195, 1), (237, 239, 39, 33, 1), (237, 239, 39, 195, 1), (237, 239, 86, 33, 1), (237, 239, 86, 195, 1), (23, 105, 80, 13, 1), (23, 105, 80, 48, 1), (23, 105, 195, 13, 1), (23, 105, 195, 48, 1), (23, 250, 80, 13, 1), (23, 250, 80, 48, 1), (23, 250, 195, 13, 1), (23, 250, 195, 48, 1), (185, 105, 80, 13, 1), (185, 105, 80, 48, 1), (185, 105, 195, 13, 1), (185, 105, 195, 48, 1), (185, 250, 80, 13, 1), (185, 250, 80, 48, 1), (185, 250, 195, 13, 1), (185, 250, 195, 48, 1), (69, 109, 120, 18, 1), (69, 109, 120, 67, 1), (69, 109, 221, 18, 1), (69, 109, 221, 67, 1), (69, 200, 120, 18, 1), (69, 200, 120, 67, 1), (69, 200, 221, 18, 1), (69, 200, 221, 67, 1), (177, 109, 120, 18, 1), (177, 109, 120, 67, 1), (177, 109, 221, 18, 1), (177, 109, 221, 67, 1), (177, 200, 120, 18, 1), (177, 200, 120, 67, 1), (177, 200, 221, 18, 1), (177, 200, 221, 67, 1), (89, 67, 50, 8, 1), (89, 67, 50, 77, 1), (89, 67, 157, 8, 1), (89, 67, 157, 77, 1), (89, 236, 50, 8, 1), (89, 236, 50, 77, 1), (89, 236, 157, 8, 1), (89, 236, 157, 77, 1), (179, 67, 50, 8, 1), (179, 67, 50, 77, 1), (179, 67, 157, 8, 1), (179, 67, 157, 77, 1), (179, 236, 50, 8, 1), (179, 236, 50, 77, 1), (179, 236, 157, 8, 1), (179, 236, 157, 77, 1), (144, 104, 85, 55, 1), (144, 104, 85, 164, 1), (144, 104, 145, 55, 1), (144, 104, 145, 164, 1), (144, 172, 85, 55, 1), (144, 172, 85, 164, 1), (144, 172, 145, 55, 1), (144, 172, 145, 164, 1), (199, 104, 85, 55, 1), (199, 104, 85, 164, 1), (199, 104, 145, 55, 1), (199, 104, 145, 164, 1), (199, 172, 85, 55, 1), (199, 172, 85, 164, 1), (199, 172, 145, 55, 1), (199, 172, 145, 164, 1), (12, 58, 69, 79, 1), (12, 58, 69, 218, 1), (12, 58, 130, 79, 1), (12, 58, 130, 218, 1), (12, 253, 69, 79, 1), (12, 253, 69, 218, 1), (12, 253, 130, 79, 1), (12, 253, 130, 218, 1), (94, 58, 69, 79, 1), (94, 58, 69, 218, 1), (94, 58, 130, 79, 1), (94, 58, 130, 218, 1), (94, 253, 69, 79, 1), (94, 253, 69, 218, 1), (94, 253, 130, 79, 1), (94, 253, 130, 218, 1), (33, 30, 43, 19, 1), (33, 30, 43, 190, 1), (33, 30, 240, 19, 1), (33, 30, 240, 190, 1), (33, 197, 43, 19, 1), (33, 197, 43, 190, 1), (33, 197, 240, 19, 1), (33, 197, 240, 190, 1), (87, 30, 43, 19, 1), (87, 30, 43, 190, 1), (87, 30, 240, 19, 1), (87, 30, 240, 190, 1), (87, 197, 43, 19, 1), (87, 197, 43, 190, 1), (87, 197, 240, 19, 1), (87, 197, 240, 190, 1), (192, 118, 26, 22, 1), (192, 118, 26, 231, 1), (192, 118, 239, 22, 1), (192, 118, 239, 231, 1), (192, 131, 26, 22, 1), (192, 131, 26, 231, 1), (192, 131, 239, 22, 1), (192, 131, 239, 231, 1), (196, 118, 26, 22, 1), (196, 118, 26, 231, 1), (196, 118, 239, 22, 1), (196, 118, 239, 231, 1), (196, 131, 26, 22, 1), (196, 131, 26, 231, 1), (196, 131, 239, 22, 1), (196, 131, 239, 231, 1), (203, 16, 114, 90, 1), (203, 16, 114, 179, 1), (203, 16, 139, 90, 1), (203, 16, 139, 179, 1), (203, 233, 114, 90, 1), (203, 233, 114, 179, 1), (203, 233, 139, 90, 1), (203, 233, 139, 179, 1), (219, 16, 114, 90, 1), (219, 16, 114, 179, 1), (219, 16, 139, 90, 1), (219, 16, 139, 179, 1), (219, 233, 114, 90, 1), (219, 233, 114, 179, 1), (219, 233, 139, 90, 1), (219, 233, 139, 179, 1), (192, 42, 1, 97, 2), (192, 42, 1, 109, 2), (192, 42, 9, 97, 2), (192, 42, 9, 109, 2), (192, 46, 1, 97, 2), (192, 46, 1, 109, 2), (192, 46, 9, 97, 2), (192, 46, 9, 109, 2), (196, 42, 1, 97, 2), (196, 42, 1, 109, 2), (196, 42, 9, 97, 2), (196, 42, 9, 109, 2), (196, 46, 1, 97, 2), (196, 46, 1, 109, 2), (196, 46, 9, 97, 2), (196, 46, 9, 109, 2), (70, 39, 79, 152, 2), (70, 39, 79, 173, 2), (70, 39, 105, 152, 2), (70, 39, 105, 173, 2), (70, 52, 79, 152, 2), (70, 52, 79, 173, 2), (70, 52, 105, 152, 2), (70, 52, 105, 173, 2), (85, 39, 79, 152, 2), (85, 39, 79, 173, 2), (85, 39, 105, 152, 2), (85, 39, 105, 173, 2), (85, 52, 79, 152, 2), (85, 52, 79, 173, 2), (85, 52, 105, 152, 2), (85, 52, 105, 173, 2), (140, 87, 186, 3, 2), (140, 87, 186, 111, 2), (140, 87, 242, 3, 2), (140, 87, 242, 111, 2), (140, 115, 186, 3, 2), (140, 115, 186, 111, 2), (140, 115, 242, 3, 2), (140, 115, 242, 111, 2), (168, 87, 186, 3, 2), (168, 87, 186, 111, 2), (168, 87, 242, 3, 2), (168, 87, 242, 111, 2), (168, 115, 186, 3, 2), (168, 115, 186, 111, 2), (168, 115, 242, 3, 2), (168, 115, 242, 111, 2), (80, 4, 144, 128, 2), (80, 4, 144, 233, 2), (80, 4, 222, 128, 2), (80, 4, 222, 233, 2), (80, 35, 144, 128, 2), (80, 35, 144, 233, 2), (80, 35, 222, 128, 2), (80, 35, 222, 233, 2), (119, 4, 144, 128, 2), (119, 4, 144, 233, 2), (119, 4, 222, 128, 2), (119, 4, 222, 233, 2), (119, 35, 144, 128, 2), (119, 35, 144, 233, 2), (119, 35, 222, 128, 2), (119, 35, 222, 233, 2), (47, 159, 42, 32, 2), (47, 159, 42, 140, 2), (47, 159, 226, 32, 2), (47, 159, 226, 140, 2), (47, 251, 42, 32, 2), (47, 251, 42, 140, 2), (47, 251, 226, 32, 2), (47, 251, 226, 140, 2), (75, 159, 42, 32, 2), (75, 159, 42, 140, 2), (75, 159, 226, 32, 2), (75, 159, 226, 140, 2), (75, 251, 42, 32, 2), (75, 251, 42, 140, 2), (75, 251, 226, 32, 2), (75, 251, 226, 140, 2), (39, 141, 20, 73, 2), (39, 141, 20, 200, 2), (39, 141, 234, 73, 2), (39, 141, 234, 200, 2), (39, 242, 20, 73, 2), (39, 242, 20, 200, 2), (39, 242, 234, 73, 2), (39, 242, 234, 200, 2), (88, 141, 20, 73, 2), (88, 141, 20, 200, 2), (88, 141, 234, 73, 2), (88, 141, 234, 200, 2), (88, 242, 20, 73, 2), (88, 242, 20, 200, 2), (88, 242, 234, 73, 2), (88, 242, 234, 200, 2), (65, 92, 232, 16, 2), (65, 92, 232, 142, 2), (65, 92, 245, 16, 2), (65, 92, 245, 142, 2), (65, 223, 232, 16, 2), (65, 223, 232, 142, 2), (65, 223, 245, 16, 2), (65, 223, 245, 142, 2), (194, 92, 232, 16, 2), (194, 92, 232, 142, 2), (194, 92, 245, 16, 2), (194, 92, 245, 142, 2), (194, 223, 232, 16, 2), (194, 223, 232, 142, 2), (194, 223, 245, 16, 2), (194, 223, 245, 142, 2), (68, 64, 53, 38, 2), (68, 64, 53, 166, 2), (68, 64, 60, 38, 2), (68, 64, 60, 166, 2), (68, 201, 53, 38, 2), (68, 201, 53, 166, 2), (68, 201, 60, 38, 2), (68, 201, 60, 166, 2), (205, 64, 53, 38, 2), (205, 64, 53, 166, 2), (205, 64, 60, 38, 2), (205, 64, 60, 166, 2), (205, 201, 53, 38, 2), (205, 201, 53, 166, 2), (205, 201, 60, 38, 2), (205, 201, 60, 166, 2), (66, 71, 106, 116, 2), (66, 71, 106, 248, 2), (66, 71, 107, 116, 2), (66, 71, 107, 248, 2), (66, 202, 106, 116, 2), (66, 202, 106, 248, 2), (66, 202, 107, 116, 2), (66, 202, 107, 248, 2), (207, 71, 106, 116, 2), (207, 71, 106, 248, 2), (207, 71, 107, 116, 2), (207, 71, 107, 248, 2), (207, 202, 106, 116, 2), (207, 202, 106, 248, 2), (207, 202, 107, 116, 2), (207, 202, 107, 248, 2), (11, 93, 173, 21, 2), (11, 93, 173, 207, 2), (11, 93, 200, 21, 2), (11, 93, 200, 207, 2), (11, 226, 173, 21, 2), (11, 226, 173, 207, 2), (11, 226, 200, 21, 2), (11, 226, 200, 207, 2), (180, 93, 173, 21, 2), (180, 93, 173, 207, 2), (180, 93, 200, 21, 2), (180, 93, 200, 207, 2), (180, 226, 173, 21, 2), (180, 226, 173, 207, 2), (180, 226, 200, 21, 2), (180, 226, 200, 207, 2), (79, 30, 44, 9, 2), (79, 30, 44, 127, 2), (79, 30, 129, 9, 2), (79, 30, 129, 127, 2), (79, 197, 44, 9, 2), (79, 197, 44, 127, 2), (79, 197, 129, 9, 2), (79, 197, 129, 127, 2), (148, 30, 44, 9, 2), (148, 30, 44, 127, 2), (148, 30, 129, 9, 2), (148, 30, 129, 127, 2), (148, 197, 44, 9, 2), (148, 197, 44, 127, 2), (148, 197, 129, 9, 2), (148, 197, 129, 127, 2), (89, 86, 124, 23, 2), (89, 86, 124, 50, 2), (89, 86, 179, 23, 2), (89, 86, 179, 50, 2), (89, 188, 124, 23, 2), (89, 188, 124, 50, 2), (89, 188, 179, 23, 2), (89, 188, 179, 50, 2), (179, 86, 124, 23, 2), (179, 86, 124, 50, 2), (179, 86, 179, 23, 2), (179, 86, 179, 50, 2), (179, 188, 124, 23, 2), (179, 188, 124, 50, 2), (179, 188, 179, 23, 2), (179, 188, 179, 50, 2), (99, 84, 69, 157, 2), (99, 84, 69, 180, 2), (99, 84, 130, 157, 2), (99, 84, 130, 180, 2), (99, 186, 69, 157, 2), (99, 186, 69, 180, 2), (99, 186, 130, 157, 2), (99, 186, 130, 180, 2), (141, 84, 69, 157, 2), (141, 84, 69, 180, 2), (141, 84, 130, 157, 2), (141, 84, 130, 180, 2), (141, 186, 69, 157, 2), (141, 186, 69, 180, 2), (141, 186, 130, 157, 2), (141, 186, 130, 180, 2), (4, 16, 0, 165, 2), (4, 16, 0, 181, 2), (4, 16, 38, 165, 2), (4, 16, 38, 181, 2), (4, 16, 207, 165, 2), (4, 16, 207, 181, 2), (4, 16, 233, 165, 2), (4, 16, 233, 181, 2), (4, 233, 0, 165, 2), (4, 233, 0, 181, 2), (4, 233, 38, 165, 2), (4, 233, 38, 181, 2), (4, 233, 207, 165, 2), (4, 233, 207, 181, 2), (4, 233, 233, 165, 2), (4, 233, 233, 181, 2), (253, 16, 0, 165, 2), (253, 16, 0, 181, 2), (253, 16, 38, 165, 2), (253, 16, 38, 181, 2), (253, 16, 207, 165, 2), (253, 16, 207, 181, 2), (253, 16, 233, 165, 2), (253, 16, 233, 181, 2), (253, 233, 0, 165, 2), (253, 233, 0, 181, 2), (253, 233, 38, 165, 2), (253, 233, 38, 181, 2), (253, 233, 207, 165, 2), (253, 233, 207, 181, 2), (253, 233, 233, 165, 2), (253, 233, 233, 181, 2), (190, 88, 237, 210, 3), (190, 88, 237, 211, 3), (190, 88, 238, 210, 3), (190, 88, 238, 211, 3), (190, 90, 237, 210, 3), (190, 90, 237, 211, 3), (190, 90, 238, 210, 3), (190, 90, 238, 211, 3), (191, 88, 237, 210, 3), (191, 88, 237, 211, 3), (191, 88, 238, 210, 3), (191, 88, 238, 211, 3), (191, 90, 237, 210, 3), (191, 90, 237, 211, 3), (191, 90, 238, 210, 3), (191, 90, 238, 211, 3), (203, 0, 16, 165, 3), (203, 0, 16, 181, 3), (203, 0, 32, 165, 3), (203, 0, 32, 181, 3), (203, 32, 16, 165, 3), (203, 32, 16, 181, 3), (203, 32, 32, 165, 3), (203, 32, 32, 181, 3), (203, 74, 16, 165, 3), (203, 74, 16, 181, 3), (203, 74, 32, 165, 3), (203, 74, 32, 181, 3), (203, 106, 16, 165, 3), (203, 106, 16, 181, 3), (203, 106, 32, 165, 3), (203, 106, 32, 181, 3), (219, 0, 16, 165, 3), (219, 0, 16, 181, 3), (219, 0, 32, 165, 3), (219, 0, 32, 181, 3), (219, 32, 16, 165, 3), (219, 32, 16, 181, 3), (219, 32, 32, 165, 3), (219, 32, 32, 181, 3), (219, 74, 16, 165, 3), (219, 74, 16, 181, 3), (219, 74, 32, 165, 3), (219, 74, 32, 181, 3), (219, 106, 16, 165, 3), (219, 106, 16, 181, 3), (219, 106, 32, 165, 3), (219, 106, 32, 181, 3), (13, 148, 177, 25, 3), (13, 148, 177, 56, 3), (13, 148, 210, 25, 3), (13, 148, 210, 56, 3), (13, 214, 177, 25, 3), (13, 214, 177, 56, 3), (13, 214, 210, 25, 3), (13, 214, 210, 56, 3), (44, 148, 177, 25, 3), (44, 148, 177, 56, 3), (44, 148, 210, 25, 3), (44, 148, 210, 56, 3), (44, 214, 177, 25, 3), (44, 214, 177, 56, 3), (44, 214, 210, 25, 3), (44, 214, 210, 56, 3), (77, 132, 13, 23, 3), (77, 132, 13, 50, 3), (77, 132, 98, 23, 3), (77, 132, 98, 50, 3), (77, 206, 13, 23, 3), (77, 206, 13, 50, 3), (77, 206, 98, 23, 3), (77, 206, 98, 50, 3), (104, 132, 13, 23, 3), (104, 132, 13, 50, 3), (104, 132, 98, 23, 3), (104, 132, 98, 50, 3), (104, 206, 13, 23, 3), (104, 206, 13, 50, 3), (104, 206, 98, 23, 3), (104, 206, 98, 50, 3), (91, 187, 138, 152, 3), (91, 187, 138, 173, 3), (91, 187, 213, 152, 3), (91, 187, 213, 173, 3), (91, 209, 138, 152, 3), (91, 209, 138, 173, 3), (91, 209, 213, 152, 3), (91, 209, 213, 173, 3), (110, 187, 138, 152, 3), (110, 187, 138, 173, 3), (110, 187, 213, 152, 3), (110, 187, 213, 173, 3), (110, 209, 138, 152, 3), (110, 209, 138, 173, 3), (110, 209, 213, 152, 3), (110, 209, 213, 173, 3), (67, 11, 12, 81, 3), (67, 11, 12, 106, 3), (67, 11, 65, 81, 3), (67, 11, 65, 106, 3), (67, 125, 12, 81, 3), (67, 125, 12, 106, 3), (67, 125, 65, 81, 3), (67, 125, 65, 106, 3), (120, 11, 12, 81, 3), (120, 11, 12, 106, 3), (120, 11, 65, 81, 3), (120, 11, 65, 106, 3), (120, 125, 12, 81, 3), (120, 125, 12, 106, 3), (120, 125, 65, 81, 3), (120, 125, 65, 106, 3), (151, 17, 28, 35, 3), (151, 17, 28, 119, 3), (151, 17, 224, 35, 3), (151, 17, 224, 119, 3), (151, 185, 28, 35, 3), (151, 185, 28, 119, 3), (151, 185, 224, 35, 3), (151, 185, 224, 119, 3), (195, 17, 28, 35, 3), (195, 17, 28, 119, 3), (195, 17, 224, 35, 3), (195, 17, 224, 119, 3), (195, 185, 28, 35, 3), (195, 185, 28, 119, 3), (195, 185, 224, 35, 3), (195, 185, 224, 119, 3), (55, 51, 92, 172, 3), (55, 51, 92, 246, 3), (55, 51, 178, 172, 3), (55, 51, 178, 246, 3), (55, 135, 92, 172, 3), (55, 135, 92, 246, 3), (55, 135, 178, 172, 3), (55, 135, 178, 246, 3), (109, 51, 92, 172, 3), (109, 51, 92, 246, 3), (109, 51, 178, 172, 3), (109, 51, 178, 246, 3), (109, 135, 92, 172, 3), (109, 135, 92, 246, 3), (109, 135, 178, 172, 3), (109, 135, 178, 246, 3), (114, 15, 77, 61, 3), (114, 15, 77, 186, 3), (114, 15, 223, 61, 3), (114, 15, 223, 186, 3), (114, 26, 77, 61, 3), (114, 26, 77, 186, 3), (114, 26, 223, 61, 3), (114, 26, 223, 186, 3), (245, 15, 77, 61, 3), (245, 15, 77, 186, 3), (245, 15, 223, 61, 3), (245, 15, 223, 186, 3), (245, 26, 77, 61, 3), (245, 26, 77, 186, 3), (245, 26, 223, 61, 3), (245, 26, 223, 186, 3), (127, 158, 85, 96, 3), (127, 158, 85, 213, 3), (127, 158, 145, 96, 3), (127, 158, 145, 213, 3), (127, 239, 85, 96, 3), (127, 239, 85, 213, 3), (127, 239, 145, 96, 3), (127, 239, 145, 213, 3), (202, 158, 85, 96, 3), (202, 158, 85, 213, 3), (202, 158, 145, 96, 3), (202, 158, 145, 213, 3), (202, 239, 85, 96, 3), (202, 239, 85, 213, 3), (202, 239, 145, 96, 3), (202, 239, 145, 213, 3), (11, 14, 111, 43, 3), (11, 14, 111, 148, 3), (11, 14, 181, 43, 3), (11, 14, 181, 148, 3), (11, 107, 111, 43, 3), (11, 107, 111, 148, 3), (11, 107, 181, 43, 3), (11, 107, 181, 148, 3), (180, 14, 111, 43, 3), (180, 14, 111, 148, 3), (180, 14, 181, 43, 3), (180, 14, 181, 148, 3), (180, 107, 111, 43, 3), (180, 107, 111, 148, 3), (180, 107, 181, 43, 3), (180, 107, 181, 148, 3), (31, 92, 149, 10, 3), (31, 92, 149, 198, 3), (31, 92, 218, 10, 3), (31, 92, 218, 198, 3), (31, 223, 149, 10, 3), (31, 223, 149, 198, 3), (31, 223, 218, 10, 3), (31, 223, 218, 198, 3), (211, 92, 149, 10, 3), (211, 92, 149, 198, 3), (211, 92, 218, 10, 3), (211, 92, 218, 198, 3), (211, 223, 149, 10, 3), (211, 223, 149, 198, 3), (211, 223, 218, 10, 3), (211, 223, 218, 198, 3), (43, 16, 1, 22, 3), (43, 16, 1, 231, 3), (43, 16, 9, 22, 3), (43, 16, 9, 231, 3), (43, 233, 1, 22, 3), (43, 233, 1, 231, 3), (43, 233, 9, 22, 3), (43, 233, 9, 231, 3), (218, 16, 1, 22, 3), (218, 16, 1, 231, 3), (218, 16, 9, 22, 3), (218, 16, 9, 231, 3), (218, 233, 1, 22, 3), (218, 233, 1, 231, 3), (218, 233, 9, 22, 3), (218, 233, 9, 231, 3), (72, 77, 212, 100, 3), (72, 77, 212, 150, 3), (72, 77, 217, 100, 3), (72, 77, 217, 150, 3), (72, 178, 212, 100, 3), (72, 178, 212, 150, 3), (72, 178, 217, 100, 3), (72, 178, 217, 150, 3), (186, 77, 212, 100, 3), (186, 77, 212, 150, 3), (186, 77, 217, 100, 3), (186, 77, 217, 150, 3), (186, 178, 212, 100, 3), (186, 178, 212, 150, 3), (186, 178, 217, 100, 3), (186, 178, 217, 150, 3), (14, 100, 196, 86, 3), (14, 100, 196, 171, 3), (14, 100, 216, 86, 3), (14, 100, 216, 171, 3), (14, 133, 196, 86, 3), (14, 133, 196, 171, 3), (14, 133, 216, 86, 3), (14, 133, 216, 171, 3), (243, 100, 196, 86, 3), (243, 100, 196, 171, 3), (243, 100, 216, 86, 3), (243, 100, 216, 171, 3), (243, 133, 196, 86, 3), (243, 133, 196, 171, 3), (243, 133, 216, 86, 3), (243, 133, 216, 171, 3)]\n"
     ]
    }
   ],
   "source": [
    "Y_guesses = []\n",
    "for fault_byte in range(4):\n",
    "    Y_guesses.extend(get_Y_guesses(O_fault, O_good, fault_byte))\n",
    "    \n",
    "print(Y_guesses)"
   ]
  },
  {
   "cell_type": "markdown",
   "metadata": {},
   "source": [
    "Our Y update function also has to change, since each fault could have a different byte (and we appended which byte was faulted to the Y values). We can also take the opportunity to print which bytes were faulted:"
   ]
  },
  {
   "cell_type": "code",
   "execution_count": 17,
   "metadata": {},
   "outputs": [],
   "source": [
    "def update_Y_guesses(Y_old, Y_new):\n",
    "    updated_Y = []\n",
    "    for Ys in Y_old:\n",
    "        for Ys_new in Y_new:\n",
    "            if Ys[:-1] == Ys_new[:-1]:\n",
    "                updated_Y.append(Ys[:-1])\n",
    "                print(\"Fault in bytes {} and {}\".format(Ys[-1], Ys_new[-1]))\n",
    "    return updated_Y"
   ]
  },
  {
   "cell_type": "markdown",
   "metadata": {},
   "source": [
    "The rest is pretty similar to before. Generate a new glitch, brute force Y values, then match them to the old Y values."
   ]
  },
  {
   "cell_type": "code",
   "execution_count": 18,
   "metadata": {},
   "outputs": [
    {
     "name": "stdout",
     "output_type": "stream",
     "text": [
      "CWbytearray(b'6d fd 6b 78 05 86 63 66 2e fd 4e 85 12 d7 f6 0a') CWbytearray(b'7a fd 6b 78 05 86 63 bf 2e fd 90 85 12 9a f6 0a')\n"
     ]
    },
    {
     "data": {
      "application/vnd.jupyter.widget-view+json": {
       "model_id": "d4843f429be646e5a9fa4a340d1db085",
       "version_major": 2,
       "version_minor": 0
      },
      "text/plain": [
       "  0%|          | 0/255 [00:00<?, ?it/s]"
      ]
     },
     "metadata": {},
     "output_type": "display_data"
    },
    {
     "data": {
      "application/vnd.jupyter.widget-view+json": {
       "model_id": "0014ba0773c74a01a9475be836302dcd",
       "version_major": 2,
       "version_minor": 0
      },
      "text/plain": [
       "  0%|          | 0/255 [00:00<?, ?it/s]"
      ]
     },
     "metadata": {},
     "output_type": "display_data"
    },
    {
     "data": {
      "application/vnd.jupyter.widget-view+json": {
       "model_id": "61db0c1e3df541cab0cc74d4a4301687",
       "version_major": 2,
       "version_minor": 0
      },
      "text/plain": [
       "  0%|          | 0/255 [00:00<?, ?it/s]"
      ]
     },
     "metadata": {},
     "output_type": "display_data"
    },
    {
     "data": {
      "application/vnd.jupyter.widget-view+json": {
       "model_id": "0bebea71faf641b0adb9e43ea7a97ff0",
       "version_major": 2,
       "version_minor": 0
      },
      "text/plain": [
       "  0%|          | 0/255 [00:00<?, ?it/s]"
      ]
     },
     "metadata": {},
     "output_type": "display_data"
    },
    {
     "name": "stdout",
     "output_type": "stream",
     "text": [
      "Fault in bytes 0 and 3\n",
      "[(98, 36, 28, 105)]\n"
     ]
    }
   ],
   "source": [
    "#get a new fault with the same plaintext (O_good will be the same)\n",
    "O_fault, O_good = generate_glitch(pt, cipher) \n",
    "print(bytearray(O_fault), bytearray(O_good)) \n",
    "\n",
    "new_Y = []\n",
    "for fault_byte in range(4):\n",
    "    new_Y.extend(get_Y_guesses(O_fault, O_good, fault_byte))\n",
    "# update our Y values with ones that also work for the new fault\n",
    "Y_guesses = update_Y_guesses(Y_guesses, new_Y) \n",
    "\n",
    "#should be left with one Y guess per\n",
    "print(Y_guesses) \n",
    "\n"
   ]
  },
  {
   "cell_type": "markdown",
   "metadata": {},
   "source": [
    "As you can see, only one combination of byte faults will result in a match: we only need 2 faults, even if we don't know which bytes were faulted!"
   ]
  },
  {
   "cell_type": "code",
   "execution_count": 19,
   "metadata": {},
   "outputs": [
    {
     "name": "stdout",
     "output_type": "stream",
     "text": [
      "bytes recovered:  CWbytearray(b'd0 89 0c 63')\n",
      "key bytes:        CWbytearray(b'd0 89 0c 63')\n"
     ]
    }
   ],
   "source": [
    "#turn Y_n into key bytes\n",
    "lookup = [0, 7, 10, 13]\n",
    "print(\"bytes recovered: \", bytearray([Y_to_key(O_good[lookup[n]], Y_guesses[0][n]) for n in range(4)]))\n",
    "print(\"key bytes:       \", bytearray([key[160:][i] for i in lookup]))"
   ]
  },
  {
   "cell_type": "markdown",
   "metadata": {},
   "source": [
    "Here's everything together. Try running this block a few times to get glitches with different combinations of bytes."
   ]
  },
  {
   "cell_type": "code",
   "execution_count": 22,
   "metadata": {},
   "outputs": [
    {
     "name": "stdout",
     "output_type": "stream",
     "text": [
      "CWbytearray(b'5d e6 69 41 80 00 35 38 4d 28 30 74 69 8f 70 f3') CWbytearray(b'e4 e6 69 41 80 00 35 fd 4d 28 23 74 69 88 70 f3')\n"
     ]
    },
    {
     "data": {
      "application/vnd.jupyter.widget-view+json": {
       "model_id": "e6b814ec0df544189809aae9a6eef2b3",
       "version_major": 2,
       "version_minor": 0
      },
      "text/plain": [
       "  0%|          | 0/255 [00:00<?, ?it/s]"
      ]
     },
     "metadata": {},
     "output_type": "display_data"
    },
    {
     "data": {
      "application/vnd.jupyter.widget-view+json": {
       "model_id": "85b0ade847c142c7970c39be0dbe0298",
       "version_major": 2,
       "version_minor": 0
      },
      "text/plain": [
       "  0%|          | 0/255 [00:00<?, ?it/s]"
      ]
     },
     "metadata": {},
     "output_type": "display_data"
    },
    {
     "data": {
      "application/vnd.jupyter.widget-view+json": {
       "model_id": "21f5e9ee6f714b1588eff0d6e2e3310c",
       "version_major": 2,
       "version_minor": 0
      },
      "text/plain": [
       "  0%|          | 0/255 [00:00<?, ?it/s]"
      ]
     },
     "metadata": {},
     "output_type": "display_data"
    },
    {
     "data": {
      "application/vnd.jupyter.widget-view+json": {
       "model_id": "3cd218b215ce40cd9c3eaba718209aaf",
       "version_major": 2,
       "version_minor": 0
      },
      "text/plain": [
       "  0%|          | 0/255 [00:00<?, ?it/s]"
      ]
     },
     "metadata": {},
     "output_type": "display_data"
    },
    {
     "name": "stdout",
     "output_type": "stream",
     "text": [
      "CWbytearray(b'e2 e6 69 41 80 00 35 92 4d 28 b6 74 69 81 70 f3') CWbytearray(b'e4 e6 69 41 80 00 35 fd 4d 28 23 74 69 88 70 f3')\n"
     ]
    },
    {
     "data": {
      "application/vnd.jupyter.widget-view+json": {
       "model_id": "09cd252fdf1244a5b2d92d8461d26af4",
       "version_major": 2,
       "version_minor": 0
      },
      "text/plain": [
       "  0%|          | 0/255 [00:00<?, ?it/s]"
      ]
     },
     "metadata": {},
     "output_type": "display_data"
    },
    {
     "data": {
      "application/vnd.jupyter.widget-view+json": {
       "model_id": "897246c5079247729e3c3794b5be77d8",
       "version_major": 2,
       "version_minor": 0
      },
      "text/plain": [
       "  0%|          | 0/255 [00:00<?, ?it/s]"
      ]
     },
     "metadata": {},
     "output_type": "display_data"
    },
    {
     "data": {
      "application/vnd.jupyter.widget-view+json": {
       "model_id": "706ee81c3c3b4569b3e853fb164c3fd1",
       "version_major": 2,
       "version_minor": 0
      },
      "text/plain": [
       "  0%|          | 0/255 [00:00<?, ?it/s]"
      ]
     },
     "metadata": {},
     "output_type": "display_data"
    },
    {
     "data": {
      "application/vnd.jupyter.widget-view+json": {
       "model_id": "ac86b97aff5c47bf81e68da0f1d38a44",
       "version_major": 2,
       "version_minor": 0
      },
      "text/plain": [
       "  0%|          | 0/255 [00:00<?, ?it/s]"
      ]
     },
     "metadata": {},
     "output_type": "display_data"
    },
    {
     "name": "stdout",
     "output_type": "stream",
     "text": [
      "Fault in bytes 2 and 1\n",
      "[(40, 202, 78, 60)]\n",
      "bytes recovered:  CWbytearray(b'd0 89 0c 63')\n",
      "key bytes:        CWbytearray(b'd0 89 0c 63')\n"
     ]
    }
   ],
   "source": [
    "#generate a random plaintext\n",
    "pt = ktp.next()[1] \n",
    "\n",
    "#get two outputs, a normal and a faulty one\n",
    "O_fault, O_good = generate_glitch(pt, cipher) \n",
    "\n",
    "#should be the same except for bytes 0, 7, 10, 13\n",
    "print(bytearray(O_fault), bytearray(O_good)) \n",
    "\n",
    "Y_guesses = []\n",
    "for fault_byte in range(4):\n",
    "    Y_guesses.extend(get_Y_guesses(O_fault, O_good, fault_byte))\n",
    "\n",
    "#get a new fault with the same plaintext (O_good will be the same)\n",
    "O_fault, O_good = generate_glitch(pt, cipher) \n",
    "print(bytearray(O_fault), bytearray(O_good)) \n",
    "\n",
    "new_Y = []\n",
    "for fault_byte in range(4):\n",
    "    new_Y.extend(get_Y_guesses(O_fault, O_good, fault_byte))\n",
    "# update our Y values with ones that also work for the new fault\n",
    "Y_guesses = update_Y_guesses(Y_guesses, new_Y) \n",
    "\n",
    "#should be left with one Y guess per\n",
    "print(Y_guesses)\n",
    "\n",
    "#turn Y_n into key bytes\n",
    "lookup = [0, 7, 10, 13]\n",
    "print(\"bytes recovered: \", bytearray([Y_to_key(O_good[lookup[n]], Y_guesses[0][n]) for n in range(4)]))\n",
    "print(\"key bytes:       \", bytearray([key[160:][i] for i in lookup]))"
   ]
  },
  {
   "cell_type": "markdown",
   "metadata": {},
   "source": [
    "## Conclusions and Next Steps\n",
    "\n",
    "Compared to our earlier attacks, this attack is much more applicable to real hardware. Really, the only requirement besides being able to repeat the encryption operation with the same plaintext, being able to observe the ciphertext, and being able to introduce a single byte fault in a column (or a multi byte fault in a single column if we fault the 8th round instead). Given these requirements, it's possible to fault any implementation of AES.\n",
    "\n",
    "In the next tutorial, we'll look at doing this attack on real hardware and utilizing a library to do the analysis."
   ]
  }
 ],
 "metadata": {
  "kernelspec": {
   "display_name": "Python 3",
   "language": "python",
   "name": "python3"
  },
  "language_info": {
   "codemirror_mode": {
    "name": "ipython",
    "version": 3
   },
   "file_extension": ".py",
   "mimetype": "text/x-python",
   "name": "python",
   "nbconvert_exporter": "python",
   "pygments_lexer": "ipython3",
   "version": "3.7.12"
  },
  "toc": {
   "base_numbering": 1,
   "nav_menu": {},
   "number_sections": true,
   "sideBar": true,
   "skip_h1_title": false,
   "title_cell": "Table of Contents",
   "title_sidebar": "Contents",
   "toc_cell": false,
   "toc_position": {},
   "toc_section_display": true,
   "toc_window_display": false
  }
 },
 "nbformat": 4,
 "nbformat_minor": 2
}
