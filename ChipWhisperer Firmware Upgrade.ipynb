{
 "cells": [
  {
   "cell_type": "markdown",
   "metadata": {},
   "source": [
    "## ChipWhispere Capture (Lite, Nano, Pro)"
   ]
  },
  {
   "cell_type": "code",
   "execution_count": 1,
   "metadata": {},
   "outputs": [
    {
     "name": "stderr",
     "output_type": "stream",
     "text": [
      "Your firmware is outdated - latest is 0.51. Suggested to update firmware, as you may experience errors\n",
      "See https://chipwhisperer.readthedocs.io/en/latest/api.html#firmware-update\n"
     ]
    },
    {
     "name": "stdout",
     "output_type": "stream",
     "text": [
      "Entering bootloader mode...\n",
      "Detected com port /dev/ttyACM0\n",
      "Loading cwlite firmware...\n",
      "Opened!\n",
      "Connecting...\n",
      "Connected!\n",
      "Erasing...\n",
      "Erased!\n",
      "Programming file SAM3U_CW1173.bin...\n",
      "Programmed!\n",
      "Verifying...\n",
      "Verify OK!\n",
      "Resetting...\n",
      "Upgrade successful\n"
     ]
    }
   ],
   "source": [
    "import chipwhisperer as cw\n",
    "scope = cw.scope()\n",
    "prog = cw.SAMFWLoader(scope)\n",
    "prog.auto_program()"
   ]
  },
  {
   "cell_type": "markdown",
   "metadata": {},
   "source": [
    "## CW305"
   ]
  },
  {
   "cell_type": "code",
   "execution_count": 1,
   "metadata": {},
   "outputs": [
    {
     "name": "stderr",
     "output_type": "stream",
     "text": [
      "WARNING:ChipWhisperer NAEUSB:Your firmware is outdated - latest is 0.52. Suggested to update firmware, as you may experience errors\n",
      "See https://chipwhisperer.readthedocs.io/en/latest/api.html#firmware-update\n",
      "WARNING:ChipWhisperer Target:No FPGA Bitstream file specified.\n"
     ]
    },
    {
     "name": "stdout",
     "output_type": "stream",
     "text": [
      "Entering bootloader mode...\n",
      "Detected com port /dev/ttyACM0\n",
      "Loading cw305 firmware...\n",
      "Opened!\n",
      "Connecting...\n",
      "Connected!\n",
      "Erasing...\n",
      "Erased!\n",
      "Programming file SAM3U_CW305.bin...\n",
      "Programmed!\n",
      "Verifying...\n",
      "Verify OK!\n",
      "Resetting...\n",
      "Upgrade successful\n"
     ]
    }
   ],
   "source": [
    "import chipwhisperer as cw\n",
    "target = cw.target(None, cw.targets.CW305)\n",
    "prog = cw.SAMFWLoader(target)\n",
    "prog.auto_program()"
   ]
  }
 ],
 "metadata": {
  "interpreter": {
   "hash": "f22b91a595f7e6822ced407a33526d09b68224e5b5089926ec81819e3364718e"
  },
  "kernelspec": {
   "display_name": "Python 3.7.12 64-bit ('venv': venv)",
   "name": "python3"
  },
  "language_info": {
   "codemirror_mode": {
    "name": "ipython",
    "version": 3
   },
   "file_extension": ".py",
   "mimetype": "text/x-python",
   "name": "python",
   "nbconvert_exporter": "python",
   "pygments_lexer": "ipython3",
   "version": "3.7.12"
  }
 },
 "nbformat": 4,
 "nbformat_minor": 4
}
