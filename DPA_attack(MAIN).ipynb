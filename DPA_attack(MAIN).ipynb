{
 "cells": [
  {
   "cell_type": "markdown",
   "metadata": {},
   "source": [
    "## DPA on Firmaware Implementation of AES"
   ]
  },
  {
   "cell_type": "markdown",
   "metadata": {},
   "source": [
    " Remember, this works due to the S-Box being present in the data flow that we are attacking.\n",
    "\n",
    "*We'll see how to use power analysis instead of an actual bit value. With this technique, the goal is to separate the traces by a bit in the result of the SBox output (it doesn't matter which one): if that bit is 1, its group of traces should, on average, have higher power consumption during the SBox operation than the other set.*\n",
    "\n",
    "*This is all based on the assumption that there is some consistent relationship between the value of bits on the data bus and the power consumption in the device (This works due to the S-Box being present in the data flow that we are attacking.).*\n",
    "\n",
    "**GOALS:**\n",
    "\n",
    "* Using a power measurement to 'validate' a possible device model.\n",
    "* Detecting the value of a single bit using power measurement.\n",
    "* Breaking AES using the classic DPA attack."
   ]
  },
  {
   "cell_type": "code",
   "execution_count": 1,
   "metadata": {},
   "outputs": [],
   "source": [
    "sbox = [\n",
    "    # 0    1    2    3    4    5    6    7    8    9    a    b    c    d    e    f \n",
    "    0x63,0x7c,0x77,0x7b,0xf2,0x6b,0x6f,0xc5,0x30,0x01,0x67,0x2b,0xfe,0xd7,0xab,0x76, # 0\n",
    "    0xca,0x82,0xc9,0x7d,0xfa,0x59,0x47,0xf0,0xad,0xd4,0xa2,0xaf,0x9c,0xa4,0x72,0xc0, # 1\n",
    "    0xb7,0xfd,0x93,0x26,0x36,0x3f,0xf7,0xcc,0x34,0xa5,0xe5,0xf1,0x71,0xd8,0x31,0x15, # 2\n",
    "    0x04,0xc7,0x23,0xc3,0x18,0x96,0x05,0x9a,0x07,0x12,0x80,0xe2,0xeb,0x27,0xb2,0x75, # 3\n",
    "    0x09,0x83,0x2c,0x1a,0x1b,0x6e,0x5a,0xa0,0x52,0x3b,0xd6,0xb3,0x29,0xe3,0x2f,0x84, # 4\n",
    "    0x53,0xd1,0x00,0xed,0x20,0xfc,0xb1,0x5b,0x6a,0xcb,0xbe,0x39,0x4a,0x4c,0x58,0xcf, # 5\n",
    "    0xd0,0xef,0xaa,0xfb,0x43,0x4d,0x33,0x85,0x45,0xf9,0x02,0x7f,0x50,0x3c,0x9f,0xa8, # 6\n",
    "    0x51,0xa3,0x40,0x8f,0x92,0x9d,0x38,0xf5,0xbc,0xb6,0xda,0x21,0x10,0xff,0xf3,0xd2, # 7\n",
    "    0xcd,0x0c,0x13,0xec,0x5f,0x97,0x44,0x17,0xc4,0xa7,0x7e,0x3d,0x64,0x5d,0x19,0x73, # 8\n",
    "    0x60,0x81,0x4f,0xdc,0x22,0x2a,0x90,0x88,0x46,0xee,0xb8,0x14,0xde,0x5e,0x0b,0xdb, # 9\n",
    "    0xe0,0x32,0x3a,0x0a,0x49,0x06,0x24,0x5c,0xc2,0xd3,0xac,0x62,0x91,0x95,0xe4,0x79, # a\n",
    "    0xe7,0xc8,0x37,0x6d,0x8d,0xd5,0x4e,0xa9,0x6c,0x56,0xf4,0xea,0x65,0x7a,0xae,0x08, # b\n",
    "    0xba,0x78,0x25,0x2e,0x1c,0xa6,0xb4,0xc6,0xe8,0xdd,0x74,0x1f,0x4b,0xbd,0x8b,0x8a, # c\n",
    "    0x70,0x3e,0xb5,0x66,0x48,0x03,0xf6,0x0e,0x61,0x35,0x57,0xb9,0x86,0xc1,0x1d,0x9e, # d\n",
    "    0xe1,0xf8,0x98,0x11,0x69,0xd9,0x8e,0x94,0x9b,0x1e,0x87,0xe9,0xce,0x55,0x28,0xdf, # e\n",
    "    0x8c,0xa1,0x89,0x0d,0xbf,0xe6,0x42,0x68,0x41,0x99,0x2d,0x0f,0xb0,0x54,0xbb,0x16  # f\n",
    "]\n",
    "\n",
    "def aes_internal(inputdata, key):\n",
    "    return sbox[inputdata ^ key]"
   ]
  },
  {
   "cell_type": "code",
   "execution_count": 2,
   "metadata": {},
   "outputs": [
    {
     "name": "stdout",
     "output_type": "stream",
     "text": [
      "✔️ OK to continue!\n"
     ]
    }
   ],
   "source": [
    "assert(aes_internal(0xAB, 0xEF) == 0x1B)\n",
    "assert(aes_internal(0x22, 0x01) == 0x26)\n",
    "print(\"✔️ OK to continue!\")"
   ]
  },
  {
   "cell_type": "code",
   "execution_count": 3,
   "metadata": {},
   "outputs": [],
   "source": [
    "SCOPETYPE = 'OPENADC'\n",
    "PLATFORM = 'CWLITEXMEGA'\n",
    "CRYPTO_TARGET = 'AVRCRYPTOLIB'\n",
    "SS_VER = 'SS_VER_1_1'"
   ]
  },
  {
   "cell_type": "code",
   "execution_count": 4,
   "metadata": {},
   "outputs": [
    {
     "name": "stdout",
     "output_type": "stream",
     "text": [
      "INFO: Found ChipWhisperer😍\n"
     ]
    }
   ],
   "source": [
    "%run 'Setup_Scripts/Setup_Generic.ipynb'"
   ]
  },
  {
   "cell_type": "code",
   "execution_count": 5,
   "metadata": {},
   "outputs": [
    {
     "name": "stdout",
     "output_type": "stream",
     "text": [
      "Building for platform CWLITEXMEGA with CRYPTO_TARGET=AVRCRYPTOLIB\n",
      "SS_VER set to SS_VER_1_1\n",
      "Blank crypto options, building for AES128\n",
      "rm -f -- simpleserial-aes-CWLITEXMEGA.hex\n",
      "rm -f -- simpleserial-aes-CWLITEXMEGA.eep\n",
      "rm -f -- simpleserial-aes-CWLITEXMEGA.cof\n",
      "rm -f -- simpleserial-aes-CWLITEXMEGA.elf\n",
      "rm -f -- simpleserial-aes-CWLITEXMEGA.map\n",
      "rm -f -- simpleserial-aes-CWLITEXMEGA.sym\n",
      "rm -f -- simpleserial-aes-CWLITEXMEGA.lss\n",
      "rm -f -- objdir-CWLITEXMEGA/*.o\n",
      "rm -f -- objdir-CWLITEXMEGA/*.lst\n",
      "rm -f -- simpleserial-aes.s simpleserial.s XMEGA_AES_driver.s uart.s usart_driver.s xmega_hal.s aes-independant.s aes_enc.s aes_keyschedule.s aes_sbox.s aes128_enc.s\n",
      "rm -f -- simpleserial-aes.d simpleserial.d XMEGA_AES_driver.d uart.d usart_driver.d xmega_hal.d aes-independant.d aes_enc.d aes_keyschedule.d aes_sbox.d aes128_enc.d\n",
      "rm -f -- simpleserial-aes.i simpleserial.i XMEGA_AES_driver.i uart.i usart_driver.i xmega_hal.i aes-independant.i aes_enc.i aes_keyschedule.i aes_sbox.i aes128_enc.i\n",
      ".\n",
      "Welcome to another exciting ChipWhisperer target build!!\n",
      "avr-gcc (GCC) 5.4.0\n",
      "Copyright (C) 2015 Free Software Foundation, Inc.\n",
      "This is free software; see the source for copying conditions.  There is NO\n",
      "warranty; not even for MERCHANTABILITY or FITNESS FOR A PARTICULAR PURPOSE.\n",
      "\n",
      ".\n",
      "Compiling C: simpleserial-aes.c\n",
      "avr-gcc -c -mmcu=atxmega128d3 -I. -DNO_EXTRA_OPTS -fpack-struct -gdwarf-2 -DSS_VER=SS_VER_1_1 -DHAL_TYPE=HAL_xmega -DPLATFORM=CWLITEXMEGA -DAVRCRYPTOLIB -DF_CPU=7372800UL -DSS_VER_2_0=2 -DSS_VER_2_1=3 -DSS_VER_1_1=1 -DSS_VER_1_0=0 -Os -funsigned-char -funsigned-bitfields -fshort-enums -Wall -Wstrict-prototypes -Wa,-adhlns=objdir-CWLITEXMEGA/simpleserial-aes.lst -I.././simpleserial/ -I.././hal -I.././hal/xmega -I.././crypto/ -I.././crypto/avrcryptolib//aes -I.././crypto/avrcryptolib//gf256mul -std=gnu99  -MMD -MP -MF .dep/simpleserial-aes.o.d simpleserial-aes.c -o objdir-CWLITEXMEGA/simpleserial-aes.o\n",
      ".\n",
      "Compiling C: .././simpleserial/simpleserial.c\n",
      "avr-gcc -c -mmcu=atxmega128d3 -I. -DNO_EXTRA_OPTS -fpack-struct -gdwarf-2 -DSS_VER=SS_VER_1_1 -DHAL_TYPE=HAL_xmega -DPLATFORM=CWLITEXMEGA -DAVRCRYPTOLIB -DF_CPU=7372800UL -DSS_VER_2_0=2 -DSS_VER_2_1=3 -DSS_VER_1_1=1 -DSS_VER_1_0=0 -Os -funsigned-char -funsigned-bitfields -fshort-enums -Wall -Wstrict-prototypes -Wa,-adhlns=objdir-CWLITEXMEGA/simpleserial.lst -I.././simpleserial/ -I.././hal -I.././hal/xmega -I.././crypto/ -I.././crypto/avrcryptolib//aes -I.././crypto/avrcryptolib//gf256mul -std=gnu99  -MMD -MP -MF .dep/simpleserial.o.d .././simpleserial/simpleserial.c -o objdir-CWLITEXMEGA/simpleserial.o\n",
      ".\n",
      "Compiling C: .././hal/xmega/XMEGA_AES_driver.c\n",
      "avr-gcc -c -mmcu=atxmega128d3 -I. -DNO_EXTRA_OPTS -fpack-struct -gdwarf-2 -DSS_VER=SS_VER_1_1 -DHAL_TYPE=HAL_xmega -DPLATFORM=CWLITEXMEGA -DAVRCRYPTOLIB -DF_CPU=7372800UL -DSS_VER_2_0=2 -DSS_VER_2_1=3 -DSS_VER_1_1=1 -DSS_VER_1_0=0 -Os -funsigned-char -funsigned-bitfields -fshort-enums -Wall -Wstrict-prototypes -Wa,-adhlns=objdir-CWLITEXMEGA/XMEGA_AES_driver.lst -I.././simpleserial/ -I.././hal -I.././hal/xmega -I.././crypto/ -I.././crypto/avrcryptolib//aes -I.././crypto/avrcryptolib//gf256mul -std=gnu99  -MMD -MP -MF .dep/XMEGA_AES_driver.o.d .././hal/xmega/XMEGA_AES_driver.c -o objdir-CWLITEXMEGA/XMEGA_AES_driver.o\n",
      ".\n",
      "Compiling C: .././hal/xmega/uart.c\n",
      "avr-gcc -c -mmcu=atxmega128d3 -I. -DNO_EXTRA_OPTS -fpack-struct -gdwarf-2 -DSS_VER=SS_VER_1_1 -DHAL_TYPE=HAL_xmega -DPLATFORM=CWLITEXMEGA -DAVRCRYPTOLIB -DF_CPU=7372800UL -DSS_VER_2_0=2 -DSS_VER_2_1=3 -DSS_VER_1_1=1 -DSS_VER_1_0=0 -Os -funsigned-char -funsigned-bitfields -fshort-enums -Wall -Wstrict-prototypes -Wa,-adhlns=objdir-CWLITEXMEGA/uart.lst -I.././simpleserial/ -I.././hal -I.././hal/xmega -I.././crypto/ -I.././crypto/avrcryptolib//aes -I.././crypto/avrcryptolib//gf256mul -std=gnu99  -MMD -MP -MF .dep/uart.o.d .././hal/xmega/uart.c -o objdir-CWLITEXMEGA/uart.o\n",
      ".\n",
      "Compiling C: .././hal/xmega/usart_driver.c\n",
      "avr-gcc -c -mmcu=atxmega128d3 -I. -DNO_EXTRA_OPTS -fpack-struct -gdwarf-2 -DSS_VER=SS_VER_1_1 -DHAL_TYPE=HAL_xmega -DPLATFORM=CWLITEXMEGA -DAVRCRYPTOLIB -DF_CPU=7372800UL -DSS_VER_2_0=2 -DSS_VER_2_1=3 -DSS_VER_1_1=1 -DSS_VER_1_0=0 -Os -funsigned-char -funsigned-bitfields -fshort-enums -Wall -Wstrict-prototypes -Wa,-adhlns=objdir-CWLITEXMEGA/usart_driver.lst -I.././simpleserial/ -I.././hal -I.././hal/xmega -I.././crypto/ -I.././crypto/avrcryptolib//aes -I.././crypto/avrcryptolib//gf256mul -std=gnu99  -MMD -MP -MF .dep/usart_driver.o.d .././hal/xmega/usart_driver.c -o objdir-CWLITEXMEGA/usart_driver.o\n",
      ".\n",
      "Compiling C: .././hal/xmega/xmega_hal.c\n",
      "avr-gcc -c -mmcu=atxmega128d3 -I. -DNO_EXTRA_OPTS -fpack-struct -gdwarf-2 -DSS_VER=SS_VER_1_1 -DHAL_TYPE=HAL_xmega -DPLATFORM=CWLITEXMEGA -DAVRCRYPTOLIB -DF_CPU=7372800UL -DSS_VER_2_0=2 -DSS_VER_2_1=3 -DSS_VER_1_1=1 -DSS_VER_1_0=0 -Os -funsigned-char -funsigned-bitfields -fshort-enums -Wall -Wstrict-prototypes -Wa,-adhlns=objdir-CWLITEXMEGA/xmega_hal.lst -I.././simpleserial/ -I.././hal -I.././hal/xmega -I.././crypto/ -I.././crypto/avrcryptolib//aes -I.././crypto/avrcryptolib//gf256mul -std=gnu99  -MMD -MP -MF .dep/xmega_hal.o.d .././hal/xmega/xmega_hal.c -o objdir-CWLITEXMEGA/xmega_hal.o\n",
      ".\n",
      "Compiling C: .././crypto/aes-independant.c\n",
      "avr-gcc -c -mmcu=atxmega128d3 -I. -DNO_EXTRA_OPTS -fpack-struct -gdwarf-2 -DSS_VER=SS_VER_1_1 -DHAL_TYPE=HAL_xmega -DPLATFORM=CWLITEXMEGA -DAVRCRYPTOLIB -DF_CPU=7372800UL -DSS_VER_2_0=2 -DSS_VER_2_1=3 -DSS_VER_1_1=1 -DSS_VER_1_0=0 -Os -funsigned-char -funsigned-bitfields -fshort-enums -Wall -Wstrict-prototypes -Wa,-adhlns=objdir-CWLITEXMEGA/aes-independant.lst -I.././simpleserial/ -I.././hal -I.././hal/xmega -I.././crypto/ -I.././crypto/avrcryptolib//aes -I.././crypto/avrcryptolib//gf256mul -std=gnu99  -MMD -MP -MF .dep/aes-independant.o.d .././crypto/aes-independant.c -o objdir-CWLITEXMEGA/aes-independant.o\n",
      ".\n",
      "Compiling C: .././crypto/avrcryptolib//aes/aes_enc.c\n",
      "avr-gcc -c -mmcu=atxmega128d3 -I. -DNO_EXTRA_OPTS -fpack-struct -gdwarf-2 -DSS_VER=SS_VER_1_1 -DHAL_TYPE=HAL_xmega -DPLATFORM=CWLITEXMEGA -DAVRCRYPTOLIB -DF_CPU=7372800UL -DSS_VER_2_0=2 -DSS_VER_2_1=3 -DSS_VER_1_1=1 -DSS_VER_1_0=0 -Os -funsigned-char -funsigned-bitfields -fshort-enums -Wall -Wstrict-prototypes -Wa,-adhlns=objdir-CWLITEXMEGA/aes_enc.lst -I.././simpleserial/ -I.././hal -I.././hal/xmega -I.././crypto/ -I.././crypto/avrcryptolib//aes -I.././crypto/avrcryptolib//gf256mul -std=gnu99  -MMD -MP -MF .dep/aes_enc.o.d .././crypto/avrcryptolib//aes/aes_enc.c -o objdir-CWLITEXMEGA/aes_enc.o\n",
      ".\n",
      "Compiling C: .././crypto/avrcryptolib//aes/aes_keyschedule.c\n",
      "avr-gcc -c -mmcu=atxmega128d3 -I. -DNO_EXTRA_OPTS -fpack-struct -gdwarf-2 -DSS_VER=SS_VER_1_1 -DHAL_TYPE=HAL_xmega -DPLATFORM=CWLITEXMEGA -DAVRCRYPTOLIB -DF_CPU=7372800UL -DSS_VER_2_0=2 -DSS_VER_2_1=3 -DSS_VER_1_1=1 -DSS_VER_1_0=0 -Os -funsigned-char -funsigned-bitfields -fshort-enums -Wall -Wstrict-prototypes -Wa,-adhlns=objdir-CWLITEXMEGA/aes_keyschedule.lst -I.././simpleserial/ -I.././hal -I.././hal/xmega -I.././crypto/ -I.././crypto/avrcryptolib//aes -I.././crypto/avrcryptolib//gf256mul -std=gnu99  -MMD -MP -MF .dep/aes_keyschedule.o.d .././crypto/avrcryptolib//aes/aes_keyschedule.c -o objdir-CWLITEXMEGA/aes_keyschedule.o\n",
      ".\n",
      "Compiling C: .././crypto/avrcryptolib//aes/aes_sbox.c\n",
      "avr-gcc -c -mmcu=atxmega128d3 -I. -DNO_EXTRA_OPTS -fpack-struct -gdwarf-2 -DSS_VER=SS_VER_1_1 -DHAL_TYPE=HAL_xmega -DPLATFORM=CWLITEXMEGA -DAVRCRYPTOLIB -DF_CPU=7372800UL -DSS_VER_2_0=2 -DSS_VER_2_1=3 -DSS_VER_1_1=1 -DSS_VER_1_0=0 -Os -funsigned-char -funsigned-bitfields -fshort-enums -Wall -Wstrict-prototypes -Wa,-adhlns=objdir-CWLITEXMEGA/aes_sbox.lst -I.././simpleserial/ -I.././hal -I.././hal/xmega -I.././crypto/ -I.././crypto/avrcryptolib//aes -I.././crypto/avrcryptolib//gf256mul -std=gnu99  -MMD -MP -MF .dep/aes_sbox.o.d .././crypto/avrcryptolib//aes/aes_sbox.c -o objdir-CWLITEXMEGA/aes_sbox.o\n",
      ".\n",
      "Compiling C: .././crypto/avrcryptolib//aes/aes128_enc.c\n",
      "avr-gcc -c -mmcu=atxmega128d3 -I. -DNO_EXTRA_OPTS -fpack-struct -gdwarf-2 -DSS_VER=SS_VER_1_1 -DHAL_TYPE=HAL_xmega -DPLATFORM=CWLITEXMEGA -DAVRCRYPTOLIB -DF_CPU=7372800UL -DSS_VER_2_0=2 -DSS_VER_2_1=3 -DSS_VER_1_1=1 -DSS_VER_1_0=0 -Os -funsigned-char -funsigned-bitfields -fshort-enums -Wall -Wstrict-prototypes -Wa,-adhlns=objdir-CWLITEXMEGA/aes128_enc.lst -I.././simpleserial/ -I.././hal -I.././hal/xmega -I.././crypto/ -I.././crypto/avrcryptolib//aes -I.././crypto/avrcryptolib//gf256mul -std=gnu99  -MMD -MP -MF .dep/aes128_enc.o.d .././crypto/avrcryptolib//aes/aes128_enc.c -o objdir-CWLITEXMEGA/aes128_enc.o\n",
      ".\n",
      "Assembling: .././crypto/avrcryptolib//gf256mul/gf256mul.S\n",
      "avr-gcc -c -mmcu=atxmega128d3 -I. -x assembler-with-cpp -DF_CPU=7372800 -Wa,-gstabs,-adhlns=objdir-CWLITEXMEGA/gf256mul.lst -I.././simpleserial/ -I.././hal -I.././hal/xmega -I.././crypto/ -I.././crypto/avrcryptolib//aes -I.././crypto/avrcryptolib//gf256mul .././crypto/avrcryptolib//gf256mul/gf256mul.S -o objdir-CWLITEXMEGA/gf256mul.o\n",
      ".\n",
      "Linking: simpleserial-aes-CWLITEXMEGA.elf\n",
      "avr-gcc -mmcu=atxmega128d3 -I. -DNO_EXTRA_OPTS -fpack-struct -gdwarf-2 -DSS_VER=SS_VER_1_1 -DHAL_TYPE=HAL_xmega -DPLATFORM=CWLITEXMEGA -DAVRCRYPTOLIB -DF_CPU=7372800UL -DSS_VER_2_0=2 -DSS_VER_2_1=3 -DSS_VER_1_1=1 -DSS_VER_1_0=0 -Os -funsigned-char -funsigned-bitfields -fshort-enums -Wall -Wstrict-prototypes -Wa,-adhlns=objdir-CWLITEXMEGA/simpleserial-aes.o -I.././simpleserial/ -I.././hal -I.././hal/xmega -I.././crypto/ -I.././crypto/avrcryptolib//aes -I.././crypto/avrcryptolib//gf256mul -std=gnu99  -MMD -MP -MF .dep/simpleserial-aes-CWLITEXMEGA.elf.d objdir-CWLITEXMEGA/simpleserial-aes.o objdir-CWLITEXMEGA/simpleserial.o objdir-CWLITEXMEGA/XMEGA_AES_driver.o objdir-CWLITEXMEGA/uart.o objdir-CWLITEXMEGA/usart_driver.o objdir-CWLITEXMEGA/xmega_hal.o objdir-CWLITEXMEGA/aes-independant.o objdir-CWLITEXMEGA/aes_enc.o objdir-CWLITEXMEGA/aes_keyschedule.o objdir-CWLITEXMEGA/aes_sbox.o objdir-CWLITEXMEGA/aes128_enc.o objdir-CWLITEXMEGA/gf256mul.o --output simpleserial-aes-CWLITEXMEGA.elf -Wl,-Map=simpleserial-aes-CWLITEXMEGA.map,--cref   -lm  \n",
      ".\n",
      "Creating load file for Flash: simpleserial-aes-CWLITEXMEGA.hex\n",
      "avr-objcopy -O ihex -R .eeprom -R .fuse -R .lock -R .signature simpleserial-aes-CWLITEXMEGA.elf simpleserial-aes-CWLITEXMEGA.hex\n",
      ".\n",
      "Creating load file for EEPROM: simpleserial-aes-CWLITEXMEGA.eep\n",
      "avr-objcopy -j .eeprom --set-section-flags=.eeprom=\"alloc,load\" \\\n",
      "--change-section-lma .eeprom=0 --no-change-warnings -O ihex simpleserial-aes-CWLITEXMEGA.elf simpleserial-aes-CWLITEXMEGA.eep || exit 0\n",
      ".\n",
      "Creating Extended Listing: simpleserial-aes-CWLITEXMEGA.lss\n",
      "avr-objdump -h -S -z simpleserial-aes-CWLITEXMEGA.elf > simpleserial-aes-CWLITEXMEGA.lss\n",
      ".\n",
      "Creating Symbol Table: simpleserial-aes-CWLITEXMEGA.sym\n",
      "avr-nm -n simpleserial-aes-CWLITEXMEGA.elf > simpleserial-aes-CWLITEXMEGA.sym\n",
      "Size after:\n",
      "   text\t   data\t    bss\t    dec\t    hex\tfilename\n",
      "   3728\t     34\t    274\t   4036\t    fc4\tsimpleserial-aes-CWLITEXMEGA.elf\n",
      "+--------------------------------------------------------\n",
      "+ Default target does full rebuild each time.\n",
      "+ Specify buildtarget == allquick == to avoid full rebuild\n",
      "+--------------------------------------------------------\n",
      "+--------------------------------------------------------\n",
      "+ Built for platform CW-Lite XMEGA with:\n",
      "+ CRYPTO_TARGET = AVRCRYPTOLIB\n",
      "+ CRYPTO_OPTIONS = AES128C\n",
      "+--------------------------------------------------------\n"
     ]
    }
   ],
   "source": [
    "%%bash -s \"$PLATFORM\" \"$CRYPTO_TARGET\" \"$SS_VER\"\n",
    "cd ../hardware/victims/firmware/simpleserial-aes\n",
    "make PLATFORM=$1 CRYPTO_TARGET=$2 SS_VER=$3"
   ]
  },
  {
   "cell_type": "code",
   "execution_count": 6,
   "metadata": {},
   "outputs": [],
   "source": [
    "fw_path = \"../hardware/victims/firmware/simpleserial-aes/simpleserial-aes-{}.hex\".format(PLATFORM)"
   ]
  },
  {
   "cell_type": "code",
   "execution_count": 7,
   "metadata": {},
   "outputs": [
    {
     "name": "stdout",
     "output_type": "stream",
     "text": [
      "XMEGA Programming flash...\n",
      "XMEGA Reading flash...\n",
      "Verified flash OK, 3761 bytes\n"
     ]
    }
   ],
   "source": [
    "cw.program_target(scope, prog, fw_path)"
   ]
  },
  {
   "cell_type": "markdown",
   "metadata": {},
   "source": [
    "### AES Power Watcher"
   ]
  },
  {
   "cell_type": "markdown",
   "metadata": {},
   "source": [
    "The next step is to send random data to the device, and observe the power consumption during the encryption.\n",
    "\n",
    "The idea is that we will use a capture loop like this:"
   ]
  },
  {
   "cell_type": "code",
   "execution_count": 8,
   "metadata": {},
   "outputs": [
    {
     "name": "stderr",
     "output_type": "stream",
     "text": [
      "Capturing traces: 100%|██████████| 5000/5000 [02:25<00:00, 34.28it/s]\n"
     ]
    }
   ],
   "source": [
    "from tqdm import trange\n",
    "import numpy as np\n",
    "import time\n",
    "\n",
    "ktp = cw.ktp.Basic()\n",
    "trace_array = []\n",
    "textin_array = []\n",
    "\n",
    "key, text = ktp.next()\n",
    "\n",
    "target.set_key(key)\n",
    "\n",
    "N = 5000\n",
    "for i in trange(N, desc='Capturing traces'):\n",
    "    scope.arm()\n",
    "    \n",
    "    target.simpleserial_write('p', text)\n",
    "    \n",
    "    ret = scope.capture()\n",
    "    if ret:\n",
    "        print(\"Target timed out!\")\n",
    "        continue\n",
    "    \n",
    "    response = target.simpleserial_read('r', 16)\n",
    "    \n",
    "    trace_array.append(scope.get_last_trace())\n",
    "    textin_array.append(text)\n",
    "    \n",
    "    key, text = ktp.next() "
   ]
  },
  {
   "cell_type": "code",
   "execution_count": 9,
   "metadata": {},
   "outputs": [
    {
     "name": "stdout",
     "output_type": "stream",
     "text": [
      "✔️ OK to continue!\n"
     ]
    }
   ],
   "source": [
    "assert(len(trace_array) == 5000)\n",
    "print(\"✔️ OK to continue!\")"
   ]
  },
  {
   "cell_type": "code",
   "execution_count": null,
   "metadata": {},
   "outputs": [],
   "source": [
    "%matplotlib ipympl\n",
    "import matplotlib.pylab as plt\n",
    "\n",
    "plt.figure()\n",
    "plt.plot(trace_array[0], 'red')\n",
    "plt.plot(trace_array[1], 'blue')\n",
    "plt.show()"
   ]
  },
  {
   "cell_type": "code",
   "execution_count": null,
   "metadata": {},
   "outputs": [],
   "source": [
    "print(textin_array[0])\n",
    "print(textin_array[1])"
   ]
  },
  {
   "cell_type": "code",
   "execution_count": 10,
   "metadata": {},
   "outputs": [
    {
     "name": "stdout",
     "output_type": "stream",
     "text": [
      "5000 5000\n"
     ]
    }
   ],
   "source": [
    "numtraces = np.shape(trace_array)[0] #total number of traces\n",
    "numpoints = np.shape(trace_array)[1] #samples per trace\n",
    "print(numtraces, numpoints)"
   ]
  },
  {
   "cell_type": "markdown",
   "metadata": {},
   "source": [
    "#### Guessing one byte (the first one) using a single bit and the SAD"
   ]
  },
  {
   "cell_type": "markdown",
   "metadata": {},
   "source": [
    "The attack now needs a way of splitting traces into two groups, depending on the state of a bit in our \"guessed\" value. We're going to start easy by guessing a single byte of the AES key at a time.\n",
    "\n"
   ]
  },
  {
   "cell_type": "markdown",
   "metadata": {},
   "source": [
    "The important thing here is the `axis=0`, which does an average so the resulting array is done across all traces (not just the average value of one trace, but the average of each point index *across all traces*).\n",
    "\n",
    "Let me tell you that the correct value of byte 0 is `0x2B`. \n",
    "What you should see is an output of the maximum value between the two average groups be higher for the `0x2B` value"
   ]
  },
  {
   "cell_type": "markdown",
   "metadata": {},
   "source": [
    "In digital image processing, the sum of absolute differences (SAD) is a measure of the similarity between image blocks. It is calculated by taking the absolute difference between each pixel in the original block and the corresponding pixel in the block being used for comparison. These differences are summed to create a simple metric of block similarity, the L1 norm of the difference image or Manhattan distance between two image blocks.\n",
    "\n",
    "The sum of absolute differences may be used for a variety of purposes, such as object recognition, the generation of disparity maps for stereo images, and motion estimation for video compression.\n",
    "[SAD](https://en.wikipedia.org/wiki/Sum_of_absolute_differences)"
   ]
  },
  {
   "cell_type": "code",
   "execution_count": 11,
   "metadata": {},
   "outputs": [
    {
     "name": "stdout",
     "output_type": "stream",
     "text": [
      "Guessing 0: 0.005372\n",
      "Guessing 1: 0.003755\n",
      "Guessing 2: 0.004078\n",
      "Guessing 3: 0.003136\n",
      "Guessing 4: 0.004529\n",
      "Guessing 5: 0.002539\n",
      "Guessing 6: 0.003717\n",
      "Guessing 7: 0.003006\n",
      "Guessing 8: 0.004569\n",
      "Guessing 9: 0.004286\n",
      "Guessing A: 0.003983\n",
      "Guessing B: 0.003505\n",
      "Guessing C: 0.003516\n",
      "Guessing D: 0.002618\n",
      "Guessing E: 0.002780\n",
      "Guessing F: 0.002187\n",
      "Guessing 10: 0.003018\n",
      "Guessing 11: 0.003354\n",
      "Guessing 12: 0.003346\n",
      "Guessing 13: 0.002663\n",
      "Guessing 14: 0.003725\n",
      "Guessing 15: 0.005335\n",
      "Guessing 16: 0.004001\n",
      "Guessing 17: 0.004050\n",
      "Guessing 18: 0.002163\n",
      "Guessing 19: 0.004816\n",
      "Guessing 1A: 0.002661\n",
      "Guessing 1B: 0.003220\n",
      "Guessing 1C: 0.004265\n",
      "Guessing 1D: 0.002995\n",
      "Guessing 1E: 0.003569\n",
      "Guessing 1F: 0.003574\n",
      "Guessing 20: 0.004783\n",
      "Guessing 21: 0.004728\n",
      "Guessing 22: 0.005242\n",
      "Guessing 23: 0.004562\n",
      "Guessing 24: 0.003605\n",
      "Guessing 25: 0.002218\n",
      "Guessing 26: 0.002553\n",
      "Guessing 27: 0.004319\n",
      "Guessing 28: 0.002870\n",
      "Guessing 29: 0.003404\n",
      "Guessing 2A: 0.004032\n",
      "Guessing 2B: 0.009126\n",
      "Guessing 2C: 0.002722\n",
      "Guessing 2D: 0.005638\n",
      "Guessing 2E: 0.002662\n",
      "Guessing 2F: 0.003302\n",
      "Guessing 30: 0.003234\n",
      "Guessing 31: 0.003586\n",
      "Guessing 32: 0.003593\n",
      "Guessing 33: 0.002495\n",
      "Guessing 34: 0.004772\n",
      "Guessing 35: 0.005047\n",
      "Guessing 36: 0.003586\n",
      "Guessing 37: 0.002584\n",
      "Guessing 38: 0.002688\n",
      "Guessing 39: 0.001820\n",
      "Guessing 3A: 0.002704\n",
      "Guessing 3B: 0.003509\n",
      "Guessing 3C: 0.003424\n",
      "Guessing 3D: 0.003917\n",
      "Guessing 3E: 0.003544\n",
      "Guessing 3F: 0.003537\n",
      "Guessing 40: 0.005442\n",
      "Guessing 41: 0.004405\n",
      "Guessing 42: 0.004898\n",
      "Guessing 43: 0.003691\n",
      "Guessing 44: 0.004535\n",
      "Guessing 45: 0.003901\n",
      "Guessing 46: 0.004300\n",
      "Guessing 47: 0.003713\n",
      "Guessing 48: 0.005087\n",
      "Guessing 49: 0.005355\n",
      "Guessing 4A: 0.005364\n",
      "Guessing 4B: 0.004257\n",
      "Guessing 4C: 0.004225\n",
      "Guessing 4D: 0.002477\n",
      "Guessing 4E: 0.004637\n",
      "Guessing 4F: 0.003524\n",
      "Guessing 50: 0.003033\n",
      "Guessing 51: 0.003180\n",
      "Guessing 52: 0.002529\n",
      "Guessing 53: 0.003450\n",
      "Guessing 54: 0.003731\n",
      "Guessing 55: 0.003162\n",
      "Guessing 56: 0.003006\n",
      "Guessing 57: 0.003833\n",
      "Guessing 58: 0.004384\n",
      "Guessing 59: 0.003541\n",
      "Guessing 5A: 0.003216\n",
      "Guessing 5B: 0.003190\n",
      "Guessing 5C: 0.004128\n",
      "Guessing 5D: 0.002857\n",
      "Guessing 5E: 0.002773\n",
      "Guessing 5F: 0.003387\n",
      "Guessing 60: 0.004888\n",
      "Guessing 61: 0.005011\n",
      "Guessing 62: 0.004898\n",
      "Guessing 63: 0.004171\n",
      "Guessing 64: 0.003797\n",
      "Guessing 65: 0.002809\n",
      "Guessing 66: 0.004802\n",
      "Guessing 67: 0.002544\n",
      "Guessing 68: 0.004121\n",
      "Guessing 69: 0.004964\n",
      "Guessing 6A: 0.004942\n",
      "Guessing 6B: 0.003389\n",
      "Guessing 6C: 0.003325\n",
      "Guessing 6D: 0.002943\n",
      "Guessing 6E: 0.003421\n",
      "Guessing 6F: 0.002774\n",
      "Guessing 70: 0.002294\n",
      "Guessing 71: 0.002715\n",
      "Guessing 72: 0.003561\n",
      "Guessing 73: 0.002324\n",
      "Guessing 74: 0.003600\n",
      "Guessing 75: 0.002791\n",
      "Guessing 76: 0.002691\n",
      "Guessing 77: 0.003315\n",
      "Guessing 78: 0.002080\n",
      "Guessing 79: 0.004731\n",
      "Guessing 7A: 0.003014\n",
      "Guessing 7B: 0.002772\n",
      "Guessing 7C: 0.003181\n",
      "Guessing 7D: 0.003136\n",
      "Guessing 7E: 0.003080\n",
      "Guessing 7F: 0.003179\n",
      "Guessing 80: 0.002709\n",
      "Guessing 81: 0.004239\n",
      "Guessing 82: 0.003710\n",
      "Guessing 83: 0.003302\n",
      "Guessing 84: 0.003561\n",
      "Guessing 85: 0.002864\n",
      "Guessing 86: 0.002017\n",
      "Guessing 87: 0.002890\n",
      "Guessing 88: 0.003114\n",
      "Guessing 89: 0.003254\n",
      "Guessing 8A: 0.003410\n",
      "Guessing 8B: 0.004234\n",
      "Guessing 8C: 0.003588\n",
      "Guessing 8D: 0.002905\n",
      "Guessing 8E: 0.003095\n",
      "Guessing 8F: 0.003916\n",
      "Guessing 90: 0.003755\n",
      "Guessing 91: 0.003352\n",
      "Guessing 92: 0.003565\n",
      "Guessing 93: 0.003752\n",
      "Guessing 94: 0.004652\n",
      "Guessing 95: 0.005302\n",
      "Guessing 96: 0.006482\n",
      "Guessing 97: 0.006197\n",
      "Guessing 98: 0.004276\n",
      "Guessing 99: 0.004355\n",
      "Guessing 9A: 0.002589\n",
      "Guessing 9B: 0.005331\n",
      "Guessing 9C: 0.003707\n",
      "Guessing 9D: 0.004562\n",
      "Guessing 9E: 0.004334\n",
      "Guessing 9F: 0.005036\n",
      "Guessing A0: 0.002845\n",
      "Guessing A1: 0.004092\n",
      "Guessing A2: 0.003323\n",
      "Guessing A3: 0.003641\n",
      "Guessing A4: 0.002236\n",
      "Guessing A5: 0.003424\n",
      "Guessing A6: 0.002914\n",
      "Guessing A7: 0.004192\n",
      "Guessing A8: 0.002790\n",
      "Guessing A9: 0.003914\n",
      "Guessing AA: 0.004426\n",
      "Guessing AB: 0.003149\n",
      "Guessing AC: 0.003419\n",
      "Guessing AD: 0.004231\n",
      "Guessing AE: 0.003313\n",
      "Guessing AF: 0.003702\n",
      "Guessing B0: 0.002804\n",
      "Guessing B1: 0.004343\n",
      "Guessing B2: 0.004687\n",
      "Guessing B3: 0.004740\n",
      "Guessing B4: 0.005091\n",
      "Guessing B5: 0.005558\n",
      "Guessing B6: 0.004626\n",
      "Guessing B7: 0.005801\n",
      "Guessing B8: 0.002708\n",
      "Guessing B9: 0.004981\n",
      "Guessing BA: 0.004266\n",
      "Guessing BB: 0.004212\n",
      "Guessing BC: 0.004452\n",
      "Guessing BD: 0.005245\n",
      "Guessing BE: 0.003646\n",
      "Guessing BF: 0.005648\n",
      "Guessing C0: 0.003295\n",
      "Guessing C1: 0.003442\n",
      "Guessing C2: 0.003794\n",
      "Guessing C3: 0.003179\n",
      "Guessing C4: 0.003877\n",
      "Guessing C5: 0.002543\n",
      "Guessing C6: 0.003316\n",
      "Guessing C7: 0.005691\n",
      "Guessing C8: 0.005043\n",
      "Guessing C9: 0.003552\n",
      "Guessing CA: 0.003218\n",
      "Guessing CB: 0.004381\n",
      "Guessing CC: 0.003375\n",
      "Guessing CD: 0.004437\n",
      "Guessing CE: 0.002670\n",
      "Guessing CF: 0.002364\n",
      "Guessing D0: 0.004670\n",
      "Guessing D1: 0.002727\n",
      "Guessing D2: 0.003108\n",
      "Guessing D3: 0.002410\n",
      "Guessing D4: 0.003433\n",
      "Guessing D5: 0.004641\n",
      "Guessing D6: 0.003137\n",
      "Guessing D7: 0.003698\n",
      "Guessing D8: 0.002640\n",
      "Guessing D9: 0.004833\n",
      "Guessing DA: 0.002767\n",
      "Guessing DB: 0.002097\n",
      "Guessing DC: 0.003971\n",
      "Guessing DD: 0.003912\n",
      "Guessing DE: 0.003771\n",
      "Guessing DF: 0.004546\n",
      "Guessing E0: 0.003662\n",
      "Guessing E1: 0.004122\n",
      "Guessing E2: 0.004026\n",
      "Guessing E3: 0.004342\n",
      "Guessing E4: 0.002736\n",
      "Guessing E5: 0.004309\n",
      "Guessing E6: 0.005641\n",
      "Guessing E7: 0.003288\n",
      "Guessing E8: 0.003940\n",
      "Guessing E9: 0.005046\n",
      "Guessing EA: 0.003502\n",
      "Guessing EB: 0.004243\n",
      "Guessing EC: 0.004705\n",
      "Guessing ED: 0.002451\n",
      "Guessing EE: 0.002934\n",
      "Guessing EF: 0.002870\n",
      "Guessing F0: 0.003299\n",
      "Guessing F1: 0.002634\n",
      "Guessing F2: 0.002586\n",
      "Guessing F3: 0.002750\n",
      "Guessing F4: 0.002491\n",
      "Guessing F5: 0.004413\n",
      "Guessing F6: 0.003406\n",
      "Guessing F7: 0.004036\n",
      "Guessing F8: 0.003574\n",
      "Guessing F9: 0.003217\n",
      "Guessing FA: 0.003814\n",
      "Guessing FB: 0.004873\n",
      "Guessing FC: 0.004236\n",
      "Guessing FD: 0.004183\n",
      "Guessing FE: 0.003606\n",
      "Guessing FF: 0.004725\n"
     ]
    }
   ],
   "source": [
    "import numpy as np\n",
    "mean_diffs = np.zeros(256)\n",
    "for guess in range(256):\n",
    "    one_list = []\n",
    "    zero_list = []\n",
    "\n",
    "    for trace_index in range(numtraces):\n",
    "        input_byte = textin_array[trace_index][0]\n",
    "\n",
    "        hypothetical_leakage = aes_internal(key=guess, inputdata=input_byte)\n",
    "\n",
    "        if hypothetical_leakage & 0x01:\n",
    "            one_list.append(trace_array[trace_index])\n",
    "        else:\n",
    "            zero_list.append(trace_array[trace_index])\n",
    "    one_avg = np.asarray(one_list).mean(axis=0)\n",
    "    zero_avg = np.asarray(zero_list).mean(axis=0)\n",
    "\n",
    "    mean_diffs[guess] = np.max(abs(one_avg - zero_avg))\n",
    "    print('Guessing {:0X}: {:f}'.format(guess, mean_diffs[guess]))"
   ]
  },
  {
   "cell_type": "code",
   "execution_count": 12,
   "metadata": {},
   "outputs": [
    {
     "name": "stdout",
     "output_type": "stream",
     "text": [
      "Guess 2B: 0.009126\n",
      "Guess 96: 0.006482\n",
      "Guess 97: 0.006197\n",
      "Guess B7: 0.005801\n",
      "Guess C7: 0.005691\n"
     ]
    }
   ],
   "source": [
    "sorted_list = np.argsort(mean_diffs)[::-1]\n",
    "\n",
    "for guess in sorted_list[0:5]:\n",
    "    print('Guess {:0X}: {:1f}'.format(guess, mean_diffs[guess]))"
   ]
  },
  {
   "cell_type": "code",
   "execution_count": 13,
   "metadata": {},
   "outputs": [
    {
     "data": {
      "text/plain": [
       "CWbytearray(b'2b 7e 15 16 28 ae d2 a6 ab f7 15 88 09 cf 4f 3c')"
      ]
     },
     "execution_count": 13,
     "metadata": {},
     "output_type": "execute_result"
    }
   ],
   "source": [
    "key"
   ]
  },
  {
   "cell_type": "markdown",
   "metadata": {},
   "source": [
    "### AES Guesser - All Bytes"
   ]
  },
  {
   "cell_type": "code",
   "execution_count": 14,
   "metadata": {},
   "outputs": [],
   "source": [
    "def calculate_diffs(guess, byteindex=0, bitnum=0):\n",
    "    \"\"\"Perform a simple DPA on two traces, uses global `textin_array` and `trace_array` \"\"\"\n",
    "    \n",
    "    one_list = []\n",
    "    zero_list = []\n",
    "\n",
    "    for trace_index in range(numtraces):\n",
    "        hypothetical_leakage = aes_internal(guess, textin_array[trace_index][byteindex])\n",
    "\n",
    "        #Mask off the requested bit\n",
    "        if hypothetical_leakage & (1<<bitnum):\n",
    "            one_list.append(trace_array[trace_index])\n",
    "        else:\n",
    "            zero_list.append(trace_array[trace_index])\n",
    "\n",
    "    one_avg = np.asarray(one_list).mean(axis=0)\n",
    "    zero_avg = np.asarray(zero_list).mean(axis=0)\n",
    "    return abs(one_avg - zero_avg)"
   ]
  },
  {
   "cell_type": "code",
   "execution_count": 15,
   "metadata": {},
   "outputs": [
    {
     "name": "stderr",
     "output_type": "stream",
     "text": [
      "Attacking Subkey:   6%|▋         | 1/16 [00:22<05:31, 22.08s/it]"
     ]
    },
    {
     "name": "stdout",
     "output_type": "stream",
     "text": [
      "Subkey 0 - most likely 2B (actual 2B)\n",
      "Top 5 guesses:\n",
      "2B - Diff = 0.009126\n",
      "96 - Diff = 0.006482\n",
      "97 - Diff = 0.006197\n",
      "B7 - Diff = 0.005801\n",
      "C7 - Diff = 0.005691\n"
     ]
    },
    {
     "name": "stderr",
     "output_type": "stream",
     "text": [
      "Attacking Subkey:  12%|█▎        | 2/16 [00:42<04:53, 20.96s/it]"
     ]
    },
    {
     "name": "stdout",
     "output_type": "stream",
     "text": [
      "Subkey 1 - most likely 7E (actual 7E)\n",
      "Top 5 guesses:\n",
      "7E - Diff = 0.013007\n",
      "92 - Diff = 0.009626\n",
      "E6 - Diff = 0.009289\n",
      "AE - Diff = 0.009138\n",
      "77 - Diff = 0.009085\n"
     ]
    },
    {
     "name": "stderr",
     "output_type": "stream",
     "text": [
      "Attacking Subkey:  19%|█▉        | 3/16 [00:59<04:10, 19.30s/it]"
     ]
    },
    {
     "name": "stdout",
     "output_type": "stream",
     "text": [
      "Subkey 2 - most likely 15 (actual 15)\n",
      "Top 5 guesses:\n",
      "15 - Diff = 0.009665\n",
      "83 - Diff = 0.005209\n",
      "A3 - Diff = 0.004983\n",
      "AF - Diff = 0.004965\n",
      "A1 - Diff = 0.004965\n"
     ]
    },
    {
     "name": "stderr",
     "output_type": "stream",
     "text": [
      "Attacking Subkey:  25%|██▌       | 4/16 [01:16<03:42, 18.54s/it]"
     ]
    },
    {
     "name": "stdout",
     "output_type": "stream",
     "text": [
      "Subkey 3 - most likely 16 (actual 16)\n",
      "Top 5 guesses:\n",
      "16 - Diff = 0.015792\n",
      "7D - Diff = 0.005743\n",
      "82 - Diff = 0.005700\n",
      "DF - Diff = 0.005673\n",
      "A2 - Diff = 0.005377\n"
     ]
    },
    {
     "name": "stderr",
     "output_type": "stream",
     "text": [
      "Attacking Subkey:  31%|███▏      | 5/16 [01:34<03:19, 18.18s/it]"
     ]
    },
    {
     "name": "stdout",
     "output_type": "stream",
     "text": [
      "Subkey 4 - most likely 28 (actual 28)\n",
      "Top 5 guesses:\n",
      "28 - Diff = 0.009564\n",
      "4B - Diff = 0.006653\n",
      "49 - Diff = 0.006496\n",
      "BC - Diff = 0.006272\n",
      "63 - Diff = 0.006248\n"
     ]
    },
    {
     "name": "stderr",
     "output_type": "stream",
     "text": [
      "Attacking Subkey:  38%|███▊      | 6/16 [01:51<02:59, 17.93s/it]"
     ]
    },
    {
     "name": "stdout",
     "output_type": "stream",
     "text": [
      "Subkey 5 - most likely AE (actual AE)\n",
      "Top 5 guesses:\n",
      "AE - Diff = 0.010200\n",
      "B1 - Diff = 0.005526\n",
      "42 - Diff = 0.005455\n",
      "7A - Diff = 0.005004\n",
      "C5 - Diff = 0.004956\n"
     ]
    },
    {
     "name": "stderr",
     "output_type": "stream",
     "text": [
      "Attacking Subkey:  44%|████▍     | 7/16 [02:12<02:48, 18.73s/it]"
     ]
    },
    {
     "name": "stdout",
     "output_type": "stream",
     "text": [
      "Subkey 6 - most likely 3E (actual D2)\n",
      "Top 5 guesses:\n",
      "3E - Diff = 0.010603\n",
      "D2 - Diff = 0.010042\n",
      "31 - Diff = 0.009903\n",
      "EC - Diff = 0.008821\n",
      "45 - Diff = 0.008588\n"
     ]
    },
    {
     "name": "stderr",
     "output_type": "stream",
     "text": [
      "Attacking Subkey:  50%|█████     | 8/16 [02:32<02:34, 19.27s/it]"
     ]
    },
    {
     "name": "stdout",
     "output_type": "stream",
     "text": [
      "Subkey 7 - most likely A6 (actual A6)\n",
      "Top 5 guesses:\n",
      "A6 - Diff = 0.009181\n",
      "10 - Diff = 0.005317\n",
      "42 - Diff = 0.005127\n",
      "8B - Diff = 0.004908\n",
      "94 - Diff = 0.004697\n"
     ]
    },
    {
     "name": "stderr",
     "output_type": "stream",
     "text": [
      "Attacking Subkey:  56%|█████▋    | 9/16 [02:50<02:11, 18.80s/it]"
     ]
    },
    {
     "name": "stdout",
     "output_type": "stream",
     "text": [
      "Subkey 8 - most likely AB (actual AB)\n",
      "Top 5 guesses:\n",
      "AB - Diff = 0.009110\n",
      "1F - Diff = 0.004786\n",
      "33 - Diff = 0.004662\n",
      "A2 - Diff = 0.004642\n",
      "8C - Diff = 0.004627\n"
     ]
    },
    {
     "name": "stderr",
     "output_type": "stream",
     "text": [
      "Attacking Subkey:  62%|██████▎   | 10/16 [03:08<01:50, 18.46s/it]"
     ]
    },
    {
     "name": "stdout",
     "output_type": "stream",
     "text": [
      "Subkey 9 - most likely F7 (actual F7)\n",
      "Top 5 guesses:\n",
      "F7 - Diff = 0.010778\n",
      "1B - Diff = 0.005403\n",
      "E7 - Diff = 0.005181\n",
      "5 - Diff = 0.005128\n",
      "35 - Diff = 0.005041\n"
     ]
    },
    {
     "name": "stderr",
     "output_type": "stream",
     "text": [
      "Attacking Subkey:  69%|██████▉   | 11/16 [03:26<01:32, 18.45s/it]"
     ]
    },
    {
     "name": "stdout",
     "output_type": "stream",
     "text": [
      "Subkey 10 - most likely 15 (actual 15)\n",
      "Top 5 guesses:\n",
      "15 - Diff = 0.015072\n",
      "7E - Diff = 0.007355\n",
      "A8 - Diff = 0.007032\n",
      "F9 - Diff = 0.006346\n",
      "76 - Diff = 0.005872\n"
     ]
    },
    {
     "name": "stderr",
     "output_type": "stream",
     "text": [
      "Attacking Subkey:  75%|███████▌  | 12/16 [03:44<01:12, 18.20s/it]"
     ]
    },
    {
     "name": "stdout",
     "output_type": "stream",
     "text": [
      "Subkey 11 - most likely 81 (actual 88)\n",
      "Top 5 guesses:\n",
      "81 - Diff = 0.009660\n",
      "ED - Diff = 0.009152\n",
      "88 - Diff = 0.009031\n",
      "64 - Diff = 0.009024\n",
      "27 - Diff = 0.008667\n"
     ]
    },
    {
     "name": "stderr",
     "output_type": "stream",
     "text": [
      "Attacking Subkey:  81%|████████▏ | 13/16 [04:01<00:53, 17.98s/it]"
     ]
    },
    {
     "name": "stdout",
     "output_type": "stream",
     "text": [
      "Subkey 12 - most likely 9 (actual 9)\n",
      "Top 5 guesses:\n",
      "9 - Diff = 0.009087\n",
      "6A - Diff = 0.006236\n",
      "9C - Diff = 0.006066\n",
      "D5 - Diff = 0.005951\n",
      "9D - Diff = 0.005784\n"
     ]
    },
    {
     "name": "stderr",
     "output_type": "stream",
     "text": [
      "Attacking Subkey:  88%|████████▊ | 14/16 [04:21<00:37, 18.54s/it]"
     ]
    },
    {
     "name": "stdout",
     "output_type": "stream",
     "text": [
      "Subkey 13 - most likely CF (actual CF)\n",
      "Top 5 guesses:\n",
      "CF - Diff = 0.009461\n",
      "E6 - Diff = 0.004802\n",
      "62 - Diff = 0.004567\n",
      "D6 - Diff = 0.004447\n",
      "7A - Diff = 0.004349\n"
     ]
    },
    {
     "name": "stderr",
     "output_type": "stream",
     "text": [
      "Attacking Subkey:  94%|█████████▍| 15/16 [04:41<00:19, 19.10s/it]"
     ]
    },
    {
     "name": "stdout",
     "output_type": "stream",
     "text": [
      "Subkey 14 - most likely 4F (actual 4F)\n",
      "Top 5 guesses:\n",
      "4F - Diff = 0.009482\n",
      "DF - Diff = 0.005699\n",
      "2C - Diff = 0.005426\n",
      "6A - Diff = 0.005270\n",
      "D1 - Diff = 0.005198\n"
     ]
    },
    {
     "name": "stderr",
     "output_type": "stream",
     "text": [
      "Attacking Subkey: 100%|██████████| 16/16 [05:00<00:00, 18.79s/it]"
     ]
    },
    {
     "name": "stdout",
     "output_type": "stream",
     "text": [
      "Subkey 15 - most likely 3C (actual 3C)\n",
      "Top 5 guesses:\n",
      "3C - Diff = 0.011212\n",
      "81 - Diff = 0.006498\n",
      "2 - Diff = 0.005247\n",
      "CB - Diff = 0.005224\n",
      "D0 - Diff = 0.005053\n"
     ]
    },
    {
     "name": "stderr",
     "output_type": "stream",
     "text": [
      "\n"
     ]
    }
   ],
   "source": [
    "from tqdm import trange\n",
    "import numpy as np\n",
    "\n",
    "#Store your key_guess here, compare to known_key\n",
    "key_guess = []\n",
    "known_key = [0x2b, 0x7e, 0x15, 0x16, 0x28, 0xae, 0xd2, 0xa6, 0xab, 0xf7, 0x15, 0x88, 0x09, 0xcf, 0x4f, 0x3c]\n",
    "\n",
    "full_diffs_list = []\n",
    "\n",
    "for subkey in trange(0, 16, desc=\"Attacking Subkey\"):\n",
    "    max_individual_diffs = [0] * 256\n",
    "    full_diffs = [0] * 256\n",
    "    for guess in range(256):\n",
    "        diffs = calculate_diffs(guess,byteindex=subkey, bitnum=0)\n",
    "        max_individual_diffs[guess] = np.max(diffs)\n",
    "        full_diffs[guess] = diffs\n",
    "\n",
    "    top_diffs = np.argsort(max_individual_diffs)[::-1]\n",
    "        \n",
    "    key_guess.append(top_diffs[0])\n",
    "\n",
    "    full_diffs_list.append(full_diffs[:])\n",
    "    print('Subkey {:d} - most likely {:X} (actual {:X})'.format(subkey, top_diffs[0], known_key[subkey]))\n",
    "\n",
    "    print(\"Top 5 guesses:\")\n",
    "    for g in top_diffs[0:5]:\n",
    "        print('{:0X} - Diff = {:f}'.format(g, max_individual_diffs[g])) \n",
    "        "
   ]
  },
  {
   "cell_type": "markdown",
   "metadata": {},
   "source": [
    "### Ghost Peaks\n",
    "Maybe the previous didn't actually recover the full key? No need to worry - there are a few reasons for this. One artifact of a DPA attack is you get another strong peak that isn't the correct key (which can be a ghost peak).\n",
    "\n",
    "We're going to get into more efficient attacks later, but for now, let's look at some solutions:\n",
    "\n",
    "* Increase the number of traces recorded.\n",
    "* Change the targetted bit (& combine solutions from multiple bits).\n",
    "\n",
    "The first one is the brute-force option: go from 2500 to 5000 or even 10000 power traces. As you add more data, you may find the problem is reduced. But real ghost peaks may not disappear, so we need to move onto other solutions.\n",
    "\n",
    "Before we begin - we're going to give you a \"known good\" DPA attack script we're going to build on. This uses the `calculate_diffs()` function defined earlier."
   ]
  },
  {
   "cell_type": "markdown",
   "metadata": {},
   "source": [
    "#### Combine Multiple Bits fir each key byte"
   ]
  },
  {
   "cell_type": "code",
   "execution_count": 23,
   "metadata": {},
   "outputs": [],
   "source": [
    "def calculate_diffs_ind(guess, byteindex=0):\n",
    "    \"\"\"Perform a simple DPA on two traces, uses global `textin_array` and `trace_array` \"\"\"\n",
    "    \n",
    "    \n",
    "    grouped_byte_traces = []\n",
    "    for bit in range(8):\n",
    "        grouped_bit_traces = [], []\n",
    "        for trace_index in range(numtraces):\n",
    "            hypothetical_leakage = aes_internal(guess, textin_array[trace_index][byteindex])\n",
    "\n",
    "            #Mask off the requested bit\n",
    "            if hypothetical_leakage & (1<<bit):\n",
    "                grouped_bit_traces[0].append(trace_array[trace_index])\n",
    "            else:\n",
    "                grouped_bit_traces[1].append(trace_array[trace_index])\n",
    "\n",
    "        grouped_byte_traces.append(grouped_bit_traces)\n",
    "    diffs = []\n",
    "    for i in range(8):\n",
    "        means = np.average(grouped_byte_traces[i][0], axis=0), np.average(grouped_byte_traces[i][1], axis=0)\n",
    "        diffs.append(abs(means[1] - means[0]))\n",
    "    \n",
    "    return np.array(diffs)"
   ]
  },
  {
   "cell_type": "code",
   "execution_count": 24,
   "metadata": {},
   "outputs": [],
   "source": [
    "def calculate_diffs_totaly(guess, byteindex=0):\n",
    "    \"\"\"Perform a simple DPA on two traces, uses global `textin_array` and `trace_array` \"\"\"\n",
    "    \n",
    "    grouped_byte_traces = []\n",
    "    for bit in range(8):\n",
    "        grouped_bit_traces = [], []\n",
    "        for trace_index in range(numtraces):\n",
    "            hypothetical_leakage = aes_internal(guess, textin_array[trace_index][byteindex])\n",
    "\n",
    "            #Mask off the requested bit\n",
    "            if hypothetical_leakage & (1<<bit):\n",
    "                grouped_bit_traces[0].append(trace_array[trace_index])\n",
    "            else:\n",
    "                grouped_bit_traces[1].append(trace_array[trace_index])\n",
    "\n",
    "        grouped_byte_traces.append(grouped_bit_traces)\n",
    "    diffs = []\n",
    "    for i in range(8):\n",
    "        means = np.average(grouped_byte_traces[i][0], axis=0), np.average(grouped_byte_traces[i][1], axis=0)\n",
    "        diffs.append(abs(means[1] - means[0]))\n",
    "    \n",
    "    diffs = np.average(diffs, axis=0)\n",
    "\n",
    "    return np.array(diffs)"
   ]
  },
  {
   "cell_type": "code",
   "execution_count": 25,
   "metadata": {},
   "outputs": [
    {
     "name": "stderr",
     "output_type": "stream",
     "text": [
      "Attacking Subkey:   6%|▋         | 1/16 [02:17<34:26, 137.78s/it]"
     ]
    },
    {
     "name": "stdout",
     "output_type": "stream",
     "text": [
      "Subkey 0 - most likely 2B (actual 2B)\n",
      "Top 5 guesses:\n",
      "2B - Diff = 0.011724\n",
      "2A - Diff = 0.004716\n",
      "22 - Diff = 0.003240\n",
      "FB - Diff = 0.003207\n",
      "40 - Diff = 0.003137\n"
     ]
    },
    {
     "name": "stderr",
     "output_type": "stream",
     "text": [
      "Attacking Subkey:  12%|█▎        | 2/16 [04:41<33:00, 141.45s/it]"
     ]
    },
    {
     "name": "stdout",
     "output_type": "stream",
     "text": [
      "Subkey 1 - most likely 7E (actual 7E)\n",
      "Top 5 guesses:\n",
      "7E - Diff = 0.012125\n",
      "8E - Diff = 0.005620\n",
      "AE - Diff = 0.005615\n",
      "4C - Diff = 0.005426\n",
      "68 - Diff = 0.005243\n"
     ]
    },
    {
     "name": "stderr",
     "output_type": "stream",
     "text": [
      "Attacking Subkey:  19%|█▉        | 3/16 [07:00<30:25, 140.39s/it]"
     ]
    },
    {
     "name": "stdout",
     "output_type": "stream",
     "text": [
      "Subkey 2 - most likely 15 (actual 15)\n",
      "Top 5 guesses:\n",
      "15 - Diff = 0.008247\n",
      "14 - Diff = 0.004608\n",
      "A1 - Diff = 0.002908\n",
      "5E - Diff = 0.002820\n",
      "83 - Diff = 0.002739\n"
     ]
    },
    {
     "name": "stderr",
     "output_type": "stream",
     "text": [
      "Attacking Subkey:  25%|██▌       | 4/16 [09:15<27:35, 137.98s/it]"
     ]
    },
    {
     "name": "stdout",
     "output_type": "stream",
     "text": [
      "Subkey 3 - most likely 16 (actual 16)\n",
      "Top 5 guesses:\n",
      "16 - Diff = 0.009201\n",
      "17 - Diff = 0.005000\n",
      "EC - Diff = 0.002889\n",
      "11 - Diff = 0.002839\n",
      "EA - Diff = 0.002832\n"
     ]
    },
    {
     "name": "stderr",
     "output_type": "stream",
     "text": [
      "Attacking Subkey:  31%|███▏      | 5/16 [11:33<25:18, 138.07s/it]"
     ]
    },
    {
     "name": "stdout",
     "output_type": "stream",
     "text": [
      "Subkey 4 - most likely 28 (actual 28)\n",
      "Top 5 guesses:\n",
      "28 - Diff = 0.009258\n",
      "29 - Diff = 0.004705\n",
      "43 - Diff = 0.003090\n",
      "2 - Diff = 0.003054\n",
      "42 - Diff = 0.003034\n"
     ]
    },
    {
     "name": "stderr",
     "output_type": "stream",
     "text": [
      "Attacking Subkey:  38%|███▊      | 6/16 [13:46<22:44, 136.48s/it]"
     ]
    },
    {
     "name": "stdout",
     "output_type": "stream",
     "text": [
      "Subkey 5 - most likely AE (actual AE)\n",
      "Top 5 guesses:\n",
      "AE - Diff = 0.009590\n",
      "AF - Diff = 0.004485\n",
      "4A - Diff = 0.002488\n",
      "8E - Diff = 0.002397\n",
      "5B - Diff = 0.002338\n"
     ]
    },
    {
     "name": "stderr",
     "output_type": "stream",
     "text": [
      "Attacking Subkey:  44%|████▍     | 7/16 [15:59<20:15, 135.09s/it]"
     ]
    },
    {
     "name": "stdout",
     "output_type": "stream",
     "text": [
      "Subkey 6 - most likely D2 (actual D2)\n",
      "Top 5 guesses:\n",
      "D2 - Diff = 0.011497\n",
      "2 - Diff = 0.005522\n",
      "14 - Diff = 0.005398\n",
      "65 - Diff = 0.005376\n",
      "C4 - Diff = 0.005073\n"
     ]
    },
    {
     "name": "stderr",
     "output_type": "stream",
     "text": [
      "Attacking Subkey:  50%|█████     | 8/16 [18:06<17:42, 132.79s/it]"
     ]
    },
    {
     "name": "stdout",
     "output_type": "stream",
     "text": [
      "Subkey 7 - most likely A6 (actual A6)\n",
      "Top 5 guesses:\n",
      "A6 - Diff = 0.008035\n",
      "A7 - Diff = 0.004575\n",
      "1A - Diff = 0.002415\n",
      "8F - Diff = 0.002399\n",
      "93 - Diff = 0.002281\n"
     ]
    },
    {
     "name": "stderr",
     "output_type": "stream",
     "text": [
      "Attacking Subkey:  56%|█████▋    | 9/16 [20:21<15:33, 133.37s/it]"
     ]
    },
    {
     "name": "stdout",
     "output_type": "stream",
     "text": [
      "Subkey 8 - most likely AB (actual AB)\n",
      "Top 5 guesses:\n",
      "AB - Diff = 0.005787\n",
      "AA - Diff = 0.004893\n",
      "B1 - Diff = 0.002271\n",
      "E0 - Diff = 0.002236\n",
      "7D - Diff = 0.002177\n"
     ]
    },
    {
     "name": "stderr",
     "output_type": "stream",
     "text": [
      "Attacking Subkey:  62%|██████▎   | 10/16 [22:37<13:24, 134.03s/it]"
     ]
    },
    {
     "name": "stdout",
     "output_type": "stream",
     "text": [
      "Subkey 9 - most likely F7 (actual F7)\n",
      "Top 5 guesses:\n",
      "F7 - Diff = 0.009309\n",
      "F6 - Diff = 0.004516\n",
      "2 - Diff = 0.002518\n",
      "A4 - Diff = 0.002246\n",
      "71 - Diff = 0.002208\n"
     ]
    },
    {
     "name": "stderr",
     "output_type": "stream",
     "text": [
      "Attacking Subkey:  69%|██████▉   | 11/16 [24:50<11:09, 133.81s/it]"
     ]
    },
    {
     "name": "stdout",
     "output_type": "stream",
     "text": [
      "Subkey 10 - most likely 15 (actual 15)\n",
      "Top 5 guesses:\n",
      "15 - Diff = 0.012953\n",
      "14 - Diff = 0.004700\n",
      "20 - Diff = 0.003531\n",
      "F1 - Diff = 0.003413\n",
      "8 - Diff = 0.003184\n"
     ]
    },
    {
     "name": "stderr",
     "output_type": "stream",
     "text": [
      "Attacking Subkey:  75%|███████▌  | 12/16 [27:09<09:01, 135.50s/it]"
     ]
    },
    {
     "name": "stdout",
     "output_type": "stream",
     "text": [
      "Subkey 11 - most likely 88 (actual 88)\n",
      "Top 5 guesses:\n",
      "88 - Diff = 0.011863\n",
      "58 - Diff = 0.005388\n",
      "4E - Diff = 0.005314\n",
      "B3 - Diff = 0.005137\n",
      "B2 - Diff = 0.005064\n"
     ]
    },
    {
     "name": "stderr",
     "output_type": "stream",
     "text": [
      "Attacking Subkey:  81%|████████▏ | 13/16 [29:19<06:41, 133.86s/it]"
     ]
    },
    {
     "name": "stdout",
     "output_type": "stream",
     "text": [
      "Subkey 12 - most likely 9 (actual 9)\n",
      "Top 5 guesses:\n",
      "9 - Diff = 0.005463\n",
      "8 - Diff = 0.004577\n",
      "9C - Diff = 0.003188\n",
      "9D - Diff = 0.003082\n",
      "4A - Diff = 0.002966\n"
     ]
    },
    {
     "name": "stderr",
     "output_type": "stream",
     "text": [
      "Attacking Subkey:  88%|████████▊ | 14/16 [31:27<04:24, 132.12s/it]"
     ]
    },
    {
     "name": "stdout",
     "output_type": "stream",
     "text": [
      "Subkey 13 - most likely CF (actual CF)\n",
      "Top 5 guesses:\n",
      "CF - Diff = 0.006228\n",
      "CE - Diff = 0.004728\n",
      "D6 - Diff = 0.002323\n",
      "D5 - Diff = 0.002154\n",
      "92 - Diff = 0.002095\n"
     ]
    },
    {
     "name": "stderr",
     "output_type": "stream",
     "text": [
      "Attacking Subkey:  94%|█████████▍| 15/16 [33:40<02:12, 132.21s/it]"
     ]
    },
    {
     "name": "stdout",
     "output_type": "stream",
     "text": [
      "Subkey 14 - most likely 4F (actual 4F)\n",
      "Top 5 guesses:\n",
      "4F - Diff = 0.008088\n",
      "4E - Diff = 0.004635\n",
      "B8 - Diff = 0.002548\n",
      "DA - Diff = 0.002530\n",
      "BA - Diff = 0.002448\n"
     ]
    },
    {
     "name": "stderr",
     "output_type": "stream",
     "text": [
      "Attacking Subkey: 100%|██████████| 16/16 [35:51<00:00, 134.48s/it]"
     ]
    },
    {
     "name": "stdout",
     "output_type": "stream",
     "text": [
      "Subkey 15 - most likely 3C (actual 3C)\n",
      "Top 5 guesses:\n",
      "3C - Diff = 0.009924\n",
      "3D - Diff = 0.004569\n",
      "FA - Diff = 0.002768\n",
      "21 - Diff = 0.002761\n",
      "60 - Diff = 0.002655\n"
     ]
    },
    {
     "name": "stderr",
     "output_type": "stream",
     "text": [
      "\n"
     ]
    }
   ],
   "source": [
    "from tqdm import trange\n",
    "import numpy as np\n",
    "\n",
    "#Store your key_guess here, then compare to known_key\n",
    "key_guess = []\n",
    "known_key = [0x2b, 0x7e, 0x15, 0x16, 0x28, 0xae, 0xd2, 0xa6, 0xab, 0xf7, 0x15, 0x88, 0x09, 0xcf, 0x4f, 0x3c]\n",
    "\n",
    "full_diffs_list = []\n",
    "\n",
    "for subkey in trange(0, 16, desc=\"Attacking Subkey\"):\n",
    "\n",
    "    max_individual_diffs = [0] * 256\n",
    "    full_diffs = [0] * 256\n",
    "    for guess in range(256):\n",
    "        diffs = calculate_diffs_totaly(guess,byteindex=subkey)\n",
    "        max_individual_diffs[guess] = np.max(diffs)\n",
    "        full_diffs[guess] = diffs\n",
    "\n",
    "    top_diffs = np.argsort(max_individual_diffs)[::-1]\n",
    "        \n",
    "    key_guess.append(top_diffs[0])\n",
    "\n",
    "    full_diffs_list.append(full_diffs[:])\n",
    "    print('Subkey {:d} - most likely {:X} (actual {:X})'.format(subkey, top_diffs[0], known_key[subkey]))\n",
    "\n",
    "    print(\"Top 5 guesses:\")\n",
    "    for g in top_diffs[0:5]:\n",
    "        print('{:0X} - Diff = {:f}'.format(g, max_individual_diffs[g])) \n",
    "        "
   ]
  },
  {
   "cell_type": "code",
   "execution_count": 26,
   "metadata": {},
   "outputs": [
    {
     "name": "stderr",
     "output_type": "stream",
     "text": [
      "Attacking Subkey:   6%|▋         | 1/16 [02:30<37:36, 150.41s/it]"
     ]
    },
    {
     "name": "stdout",
     "output_type": "stream",
     "text": [
      "Subkey 0 - most likely 2B (actual 2B)\n",
      "Top 5 guesses:\n",
      "2B - Diff = 0.018743\n",
      "A6 - Diff = 0.007993\n",
      "13 - Diff = 0.007376\n",
      "8C - Diff = 0.007250\n",
      "EC - Diff = 0.007208\n"
     ]
    },
    {
     "name": "stderr",
     "output_type": "stream",
     "text": [
      "Attacking Subkey:  12%|█▎        | 2/16 [05:01<35:09, 150.70s/it]"
     ]
    },
    {
     "name": "stdout",
     "output_type": "stream",
     "text": [
      "Subkey 1 - most likely 7E (actual 7E)\n",
      "Top 5 guesses:\n",
      "7E - Diff = 0.059478\n",
      "A5 - Diff = 0.011648\n",
      "F3 - Diff = 0.011409\n",
      "95 - Diff = 0.011376\n",
      "37 - Diff = 0.010943\n"
     ]
    },
    {
     "name": "stderr",
     "output_type": "stream",
     "text": [
      "Attacking Subkey:  19%|█▉        | 3/16 [07:35<33:00, 152.33s/it]"
     ]
    },
    {
     "name": "stdout",
     "output_type": "stream",
     "text": [
      "Subkey 2 - most likely 15 (actual 15)\n",
      "Top 5 guesses:\n",
      "15 - Diff = 0.014863\n",
      "CE - Diff = 0.006931\n",
      "2D - Diff = 0.006706\n",
      "25 - Diff = 0.006675\n",
      "DA - Diff = 0.006599\n"
     ]
    },
    {
     "name": "stderr",
     "output_type": "stream",
     "text": [
      "Attacking Subkey:  25%|██▌       | 4/16 [10:09<30:36, 153.05s/it]"
     ]
    },
    {
     "name": "stdout",
     "output_type": "stream",
     "text": [
      "Subkey 3 - most likely 16 (actual 16)\n",
      "Top 5 guesses:\n",
      "16 - Diff = 0.015792\n",
      "18 - Diff = 0.007735\n",
      "DB - Diff = 0.007169\n",
      "2A - Diff = 0.007084\n",
      "28 - Diff = 0.007066\n"
     ]
    },
    {
     "name": "stderr",
     "output_type": "stream",
     "text": [
      "Attacking Subkey:  31%|███▏      | 5/16 [12:44<28:11, 153.81s/it]"
     ]
    },
    {
     "name": "stdout",
     "output_type": "stream",
     "text": [
      "Subkey 4 - most likely 28 (actual 28)\n",
      "Top 5 guesses:\n",
      "28 - Diff = 0.011785\n",
      "2 - Diff = 0.008716\n",
      "EF - Diff = 0.008137\n",
      "A7 - Diff = 0.007808\n",
      "FD - Diff = 0.007487\n"
     ]
    },
    {
     "name": "stderr",
     "output_type": "stream",
     "text": [
      "Attacking Subkey:  38%|███▊      | 6/16 [15:21<25:47, 154.72s/it]"
     ]
    },
    {
     "name": "stdout",
     "output_type": "stream",
     "text": [
      "Subkey 5 - most likely AE (actual AE)\n",
      "Top 5 guesses:\n",
      "AE - Diff = 0.012798\n",
      "39 - Diff = 0.006433\n",
      "7E - Diff = 0.006098\n",
      "91 - Diff = 0.005884\n",
      "AF - Diff = 0.005698\n"
     ]
    },
    {
     "name": "stderr",
     "output_type": "stream",
     "text": [
      "Attacking Subkey:  44%|████▍     | 7/16 [17:51<22:58, 153.18s/it]"
     ]
    },
    {
     "name": "stdout",
     "output_type": "stream",
     "text": [
      "Subkey 6 - most likely D2 (actual D2)\n",
      "Top 5 guesses:\n",
      "D2 - Diff = 0.059122\n",
      "9B - Diff = 0.011899\n",
      "2 - Diff = 0.011046\n",
      "3E - Diff = 0.010603\n",
      "5F - Diff = 0.010562\n"
     ]
    },
    {
     "name": "stderr",
     "output_type": "stream",
     "text": [
      "Attacking Subkey:  50%|█████     | 8/16 [20:25<20:28, 153.60s/it]"
     ]
    },
    {
     "name": "stdout",
     "output_type": "stream",
     "text": [
      "Subkey 7 - most likely A6 (actual A6)\n",
      "Top 5 guesses:\n",
      "A6 - Diff = 0.012650\n",
      "31 - Diff = 0.006469\n",
      "A7 - Diff = 0.005705\n",
      "30 - Diff = 0.005686\n",
      "A9 - Diff = 0.005322\n"
     ]
    },
    {
     "name": "stderr",
     "output_type": "stream",
     "text": [
      "Attacking Subkey:  56%|█████▋    | 9/16 [22:59<17:54, 153.50s/it]"
     ]
    },
    {
     "name": "stdout",
     "output_type": "stream",
     "text": [
      "Subkey 8 - most likely AB (actual AB)\n",
      "Top 5 guesses:\n",
      "AB - Diff = 0.009110\n",
      "AA - Diff = 0.006177\n",
      "3C - Diff = 0.005928\n",
      "7E - Diff = 0.005660\n",
      "13 - Diff = 0.005658\n"
     ]
    },
    {
     "name": "stderr",
     "output_type": "stream",
     "text": [
      "Attacking Subkey:  62%|██████▎   | 10/16 [25:34<15:24, 154.12s/it]"
     ]
    },
    {
     "name": "stdout",
     "output_type": "stream",
     "text": [
      "Subkey 9 - most likely F7 (actual F7)\n",
      "Top 5 guesses:\n",
      "F7 - Diff = 0.012530\n",
      "27 - Diff = 0.006408\n",
      "60 - Diff = 0.006253\n",
      "1A - Diff = 0.005729\n",
      "F6 - Diff = 0.005474\n"
     ]
    },
    {
     "name": "stderr",
     "output_type": "stream",
     "text": [
      "Attacking Subkey:  69%|██████▉   | 11/16 [28:08<12:49, 153.98s/it]"
     ]
    },
    {
     "name": "stdout",
     "output_type": "stream",
     "text": [
      "Subkey 10 - most likely 15 (actual 15)\n",
      "Top 5 guesses:\n",
      "15 - Diff = 0.015886\n",
      "C5 - Diff = 0.008211\n",
      "61 - Diff = 0.007768\n",
      "2D - Diff = 0.007493\n",
      "7E - Diff = 0.007355\n"
     ]
    },
    {
     "name": "stderr",
     "output_type": "stream",
     "text": [
      "Attacking Subkey:  75%|███████▌  | 12/16 [30:40<10:13, 153.43s/it]"
     ]
    },
    {
     "name": "stdout",
     "output_type": "stream",
     "text": [
      "Subkey 11 - most likely 88 (actual 88)\n",
      "Top 5 guesses:\n",
      "88 - Diff = 0.059563\n",
      "53 - Diff = 0.011233\n",
      "5 - Diff = 0.010638\n",
      "B6 - Diff = 0.010420\n",
      "EA - Diff = 0.010396\n"
     ]
    },
    {
     "name": "stderr",
     "output_type": "stream",
     "text": [
      "Attacking Subkey:  81%|████████▏ | 13/16 [33:10<07:36, 152.27s/it]"
     ]
    },
    {
     "name": "stdout",
     "output_type": "stream",
     "text": [
      "Subkey 12 - most likely 9 (actual 9)\n",
      "Top 5 guesses:\n",
      "9 - Diff = 0.009087\n",
      "39 - Diff = 0.007700\n",
      "23 - Diff = 0.007471\n",
      "FC - Diff = 0.007411\n",
      "A - Diff = 0.007387\n"
     ]
    },
    {
     "name": "stderr",
     "output_type": "stream",
     "text": [
      "Attacking Subkey:  88%|████████▊ | 14/16 [35:50<05:09, 154.81s/it]"
     ]
    },
    {
     "name": "stdout",
     "output_type": "stream",
     "text": [
      "Subkey 13 - most likely CF (actual CF)\n",
      "Top 5 guesses:\n",
      "CF - Diff = 0.010582\n",
      "58 - Diff = 0.006316\n",
      "CE - Diff = 0.005786\n",
      "BF - Diff = 0.005292\n",
      "56 - Diff = 0.005278\n",
      "Subkey 14 - most likely 4F (actual 4F)\n",
      "Top 5 guesses:\n",
      "4F - Diff = 0.011785\n",
      "D8 - Diff = 0.006666\n",
      "4E - Diff = 0.006170\n",
      "C0 - Diff = 0.005858\n",
      "DF - Diff = 0.005699\n"
     ]
    },
    {
     "name": "stderr",
     "output_type": "stream",
     "text": [
      "Attacking Subkey: 100%|██████████| 16/16 [41:01<00:00, 153.82s/it]"
     ]
    },
    {
     "name": "stdout",
     "output_type": "stream",
     "text": [
      "Subkey 15 - most likely 3C (actual 3C)\n",
      "Top 5 guesses:\n",
      "3C - Diff = 0.015323\n",
      "B1 - Diff = 0.006947\n",
      "D1 - Diff = 0.006912\n",
      "A0 - Diff = 0.006541\n",
      "81 - Diff = 0.006498\n"
     ]
    },
    {
     "name": "stderr",
     "output_type": "stream",
     "text": [
      "\n"
     ]
    }
   ],
   "source": [
    "from tqdm import trange\n",
    "import numpy as np\n",
    "\n",
    "#Store your key_guess here, then compare to known_key\n",
    "key_guess = []\n",
    "known_key = [0x2b, 0x7e, 0x15, 0x16, 0x28, 0xae, 0xd2, 0xa6, 0xab, 0xf7, 0x15, 0x88, 0x09, 0xcf, 0x4f, 0x3c]\n",
    "\n",
    "full_diffs_list = []\n",
    "\n",
    "for subkey in trange(0, 16, desc=\"Attacking Subkey\"):\n",
    "\n",
    "    max_individual_diffs = [0] * 256\n",
    "    full_diffs = [0] * 256\n",
    "    for guess in range(256):\n",
    "        diffs = calculate_diffs_ind(guess,byteindex=subkey)\n",
    "        max_individual_diffs[guess] = np.max(diffs)\n",
    "        full_diffs[guess] = diffs\n",
    "\n",
    "    top_diffs = np.argsort(max_individual_diffs)[::-1]\n",
    "        \n",
    "    key_guess.append(top_diffs[0])\n",
    "\n",
    "    full_diffs_list.append(full_diffs[:])\n",
    "    print('Subkey {:d} - most likely {:X} (actual {:X})'.format(subkey, top_diffs[0], known_key[subkey]))\n",
    "\n",
    "    print(\"Top 5 guesses:\")\n",
    "    for g in top_diffs[0:5]:\n",
    "        print('{:0X} - Diff = {:f}'.format(g, max_individual_diffs[g])) \n",
    "        "
   ]
  }
 ],
 "metadata": {
  "interpreter": {
   "hash": "32418f85d113f99b04e03edad7bf751ad9f6786622ba07a0441eaf9578861fee"
  },
  "kernelspec": {
   "display_name": "Python 3.7.12 64-bit ('venv': venv)",
   "language": "python",
   "name": "python3"
  },
  "language_info": {
   "codemirror_mode": {
    "name": "ipython",
    "version": 3
   },
   "file_extension": ".py",
   "mimetype": "text/x-python",
   "name": "python",
   "nbconvert_exporter": "python",
   "pygments_lexer": "ipython3",
   "version": "3.7.12"
  },
  "orig_nbformat": 4
 },
 "nbformat": 4,
 "nbformat_minor": 2
}
