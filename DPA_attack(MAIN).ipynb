{
 "cells": [
  {
   "cell_type": "markdown",
   "metadata": {},
   "source": [
    "## DPA on Firmaware Implementation of AES"
   ]
  },
  {
   "cell_type": "markdown",
   "metadata": {},
   "source": [
    " Remember, this works due to the S-Box being present in the data flow that we are attacking.\n",
    "\n",
    "*We'll see how to use power analysis instead of an actual bit value. With this technique, the goal is to separate the traces by a bit in the result of the SBox output (it doesn't matter which one): if that bit is 1, its group of traces should, on average, have higher power consumption during the SBox operation than the other set.*\n",
    "\n",
    "*This is all based on the assumption that there is some consistent relationship between the value of bits on the data bus and the power consumption in the device (This works due to the S-Box being present in the data flow that we are attacking.).*\n",
    "\n",
    "**GOALS:**\n",
    "\n",
    "* Using a power measurement to 'validate' a possible device model.\n",
    "* Detecting the value of a single bit using power measurement.\n",
    "* Breaking AES using the classic DPA attack."
   ]
  },
  {
   "cell_type": "code",
   "execution_count": 1,
   "metadata": {},
   "outputs": [],
   "source": [
    "sbox = [\n",
    "    # 0    1    2    3    4    5    6    7    8    9    a    b    c    d    e    f \n",
    "    0x63,0x7c,0x77,0x7b,0xf2,0x6b,0x6f,0xc5,0x30,0x01,0x67,0x2b,0xfe,0xd7,0xab,0x76, # 0\n",
    "    0xca,0x82,0xc9,0x7d,0xfa,0x59,0x47,0xf0,0xad,0xd4,0xa2,0xaf,0x9c,0xa4,0x72,0xc0, # 1\n",
    "    0xb7,0xfd,0x93,0x26,0x36,0x3f,0xf7,0xcc,0x34,0xa5,0xe5,0xf1,0x71,0xd8,0x31,0x15, # 2\n",
    "    0x04,0xc7,0x23,0xc3,0x18,0x96,0x05,0x9a,0x07,0x12,0x80,0xe2,0xeb,0x27,0xb2,0x75, # 3\n",
    "    0x09,0x83,0x2c,0x1a,0x1b,0x6e,0x5a,0xa0,0x52,0x3b,0xd6,0xb3,0x29,0xe3,0x2f,0x84, # 4\n",
    "    0x53,0xd1,0x00,0xed,0x20,0xfc,0xb1,0x5b,0x6a,0xcb,0xbe,0x39,0x4a,0x4c,0x58,0xcf, # 5\n",
    "    0xd0,0xef,0xaa,0xfb,0x43,0x4d,0x33,0x85,0x45,0xf9,0x02,0x7f,0x50,0x3c,0x9f,0xa8, # 6\n",
    "    0x51,0xa3,0x40,0x8f,0x92,0x9d,0x38,0xf5,0xbc,0xb6,0xda,0x21,0x10,0xff,0xf3,0xd2, # 7\n",
    "    0xcd,0x0c,0x13,0xec,0x5f,0x97,0x44,0x17,0xc4,0xa7,0x7e,0x3d,0x64,0x5d,0x19,0x73, # 8\n",
    "    0x60,0x81,0x4f,0xdc,0x22,0x2a,0x90,0x88,0x46,0xee,0xb8,0x14,0xde,0x5e,0x0b,0xdb, # 9\n",
    "    0xe0,0x32,0x3a,0x0a,0x49,0x06,0x24,0x5c,0xc2,0xd3,0xac,0x62,0x91,0x95,0xe4,0x79, # a\n",
    "    0xe7,0xc8,0x37,0x6d,0x8d,0xd5,0x4e,0xa9,0x6c,0x56,0xf4,0xea,0x65,0x7a,0xae,0x08, # b\n",
    "    0xba,0x78,0x25,0x2e,0x1c,0xa6,0xb4,0xc6,0xe8,0xdd,0x74,0x1f,0x4b,0xbd,0x8b,0x8a, # c\n",
    "    0x70,0x3e,0xb5,0x66,0x48,0x03,0xf6,0x0e,0x61,0x35,0x57,0xb9,0x86,0xc1,0x1d,0x9e, # d\n",
    "    0xe1,0xf8,0x98,0x11,0x69,0xd9,0x8e,0x94,0x9b,0x1e,0x87,0xe9,0xce,0x55,0x28,0xdf, # e\n",
    "    0x8c,0xa1,0x89,0x0d,0xbf,0xe6,0x42,0x68,0x41,0x99,0x2d,0x0f,0xb0,0x54,0xbb,0x16  # f\n",
    "]\n",
    "\n",
    "def aes_internal(inputdata, key):\n",
    "    return sbox[inputdata ^ key]"
   ]
  },
  {
   "cell_type": "code",
   "execution_count": 2,
   "metadata": {},
   "outputs": [
    {
     "name": "stdout",
     "output_type": "stream",
     "text": [
      "✔️ OK to continue!\n"
     ]
    }
   ],
   "source": [
    "assert(aes_internal(0xAB, 0xEF) == 0x1B)\n",
    "assert(aes_internal(0x22, 0x01) == 0x26)\n",
    "print(\"✔️ OK to continue!\")"
   ]
  },
  {
   "cell_type": "code",
   "execution_count": 4,
   "metadata": {},
   "outputs": [],
   "source": [
    "SCOPETYPE = 'OPENADC'\n",
    "PLATFORM = 'CWLITEXMEGA'\n",
    "CRYPTO_TARGET = 'AVRCRYPTOLIB'\n",
    "SS_VER = 'SS_VER_1_1'"
   ]
  },
  {
   "cell_type": "code",
   "execution_count": 5,
   "metadata": {},
   "outputs": [
    {
     "name": "stdout",
     "output_type": "stream",
     "text": [
      "INFO: Found ChipWhisperer😍\n"
     ]
    }
   ],
   "source": [
    "%run 'Setup_Scripts/Setup_Generic.ipynb'"
   ]
  },
  {
   "cell_type": "code",
   "execution_count": 6,
   "metadata": {},
   "outputs": [
    {
     "name": "stdout",
     "output_type": "stream",
     "text": [
      "Building for platform CWLITEXMEGA with CRYPTO_TARGET=AVRCRYPTOLIB\n",
      "SS_VER set to SS_VER_1_1\n",
      "Blank crypto options, building for AES128\n",
      "rm -f -- simpleserial-aes-CWLITEXMEGA.hex\n",
      "rm -f -- simpleserial-aes-CWLITEXMEGA.eep\n",
      "rm -f -- simpleserial-aes-CWLITEXMEGA.cof\n",
      "rm -f -- simpleserial-aes-CWLITEXMEGA.elf\n",
      "rm -f -- simpleserial-aes-CWLITEXMEGA.map\n",
      "rm -f -- simpleserial-aes-CWLITEXMEGA.sym\n",
      "rm -f -- simpleserial-aes-CWLITEXMEGA.lss\n",
      "rm -f -- objdir-CWLITEXMEGA/*.o\n",
      "rm -f -- objdir-CWLITEXMEGA/*.lst\n",
      "rm -f -- simpleserial-aes.s simpleserial.s XMEGA_AES_driver.s uart.s usart_driver.s xmega_hal.s aes-independant.s aes_enc.s aes_keyschedule.s aes_sbox.s aes128_enc.s\n",
      "rm -f -- simpleserial-aes.d simpleserial.d XMEGA_AES_driver.d uart.d usart_driver.d xmega_hal.d aes-independant.d aes_enc.d aes_keyschedule.d aes_sbox.d aes128_enc.d\n",
      "rm -f -- simpleserial-aes.i simpleserial.i XMEGA_AES_driver.i uart.i usart_driver.i xmega_hal.i aes-independant.i aes_enc.i aes_keyschedule.i aes_sbox.i aes128_enc.i\n",
      ".\n",
      "Welcome to another exciting ChipWhisperer target build!!\n",
      "avr-gcc (GCC) 5.4.0\n",
      "Copyright (C) 2015 Free Software Foundation, Inc.\n",
      "This is free software; see the source for copying conditions.  There is NO\n",
      "warranty; not even for MERCHANTABILITY or FITNESS FOR A PARTICULAR PURPOSE.\n",
      "\n",
      ".\n",
      "Compiling C: simpleserial-aes.c\n",
      "avr-gcc -c -mmcu=atxmega128d3 -I. -DNO_EXTRA_OPTS -fpack-struct -gdwarf-2 -DSS_VER=SS_VER_1_1 -DHAL_TYPE=HAL_xmega -DPLATFORM=CWLITEXMEGA -DAVRCRYPTOLIB -DF_CPU=7372800UL -DSS_VER_2_0=2 -DSS_VER_2_1=3 -DSS_VER_1_1=1 -DSS_VER_1_0=0 -Os -funsigned-char -funsigned-bitfields -fshort-enums -Wall -Wstrict-prototypes -Wa,-adhlns=objdir-CWLITEXMEGA/simpleserial-aes.lst -I.././simpleserial/ -I.././hal -I.././hal/xmega -I.././crypto/ -I.././crypto/avrcryptolib//aes -I.././crypto/avrcryptolib//gf256mul -std=gnu99  -MMD -MP -MF .dep/simpleserial-aes.o.d simpleserial-aes.c -o objdir-CWLITEXMEGA/simpleserial-aes.o\n",
      ".\n",
      "Compiling C: .././simpleserial/simpleserial.c\n",
      "avr-gcc -c -mmcu=atxmega128d3 -I. -DNO_EXTRA_OPTS -fpack-struct -gdwarf-2 -DSS_VER=SS_VER_1_1 -DHAL_TYPE=HAL_xmega -DPLATFORM=CWLITEXMEGA -DAVRCRYPTOLIB -DF_CPU=7372800UL -DSS_VER_2_0=2 -DSS_VER_2_1=3 -DSS_VER_1_1=1 -DSS_VER_1_0=0 -Os -funsigned-char -funsigned-bitfields -fshort-enums -Wall -Wstrict-prototypes -Wa,-adhlns=objdir-CWLITEXMEGA/simpleserial.lst -I.././simpleserial/ -I.././hal -I.././hal/xmega -I.././crypto/ -I.././crypto/avrcryptolib//aes -I.././crypto/avrcryptolib//gf256mul -std=gnu99  -MMD -MP -MF .dep/simpleserial.o.d .././simpleserial/simpleserial.c -o objdir-CWLITEXMEGA/simpleserial.o\n",
      ".\n",
      "Compiling C: .././hal/xmega/XMEGA_AES_driver.c\n",
      "avr-gcc -c -mmcu=atxmega128d3 -I. -DNO_EXTRA_OPTS -fpack-struct -gdwarf-2 -DSS_VER=SS_VER_1_1 -DHAL_TYPE=HAL_xmega -DPLATFORM=CWLITEXMEGA -DAVRCRYPTOLIB -DF_CPU=7372800UL -DSS_VER_2_0=2 -DSS_VER_2_1=3 -DSS_VER_1_1=1 -DSS_VER_1_0=0 -Os -funsigned-char -funsigned-bitfields -fshort-enums -Wall -Wstrict-prototypes -Wa,-adhlns=objdir-CWLITEXMEGA/XMEGA_AES_driver.lst -I.././simpleserial/ -I.././hal -I.././hal/xmega -I.././crypto/ -I.././crypto/avrcryptolib//aes -I.././crypto/avrcryptolib//gf256mul -std=gnu99  -MMD -MP -MF .dep/XMEGA_AES_driver.o.d .././hal/xmega/XMEGA_AES_driver.c -o objdir-CWLITEXMEGA/XMEGA_AES_driver.o\n",
      ".\n",
      "Compiling C: .././hal/xmega/uart.c\n",
      "avr-gcc -c -mmcu=atxmega128d3 -I. -DNO_EXTRA_OPTS -fpack-struct -gdwarf-2 -DSS_VER=SS_VER_1_1 -DHAL_TYPE=HAL_xmega -DPLATFORM=CWLITEXMEGA -DAVRCRYPTOLIB -DF_CPU=7372800UL -DSS_VER_2_0=2 -DSS_VER_2_1=3 -DSS_VER_1_1=1 -DSS_VER_1_0=0 -Os -funsigned-char -funsigned-bitfields -fshort-enums -Wall -Wstrict-prototypes -Wa,-adhlns=objdir-CWLITEXMEGA/uart.lst -I.././simpleserial/ -I.././hal -I.././hal/xmega -I.././crypto/ -I.././crypto/avrcryptolib//aes -I.././crypto/avrcryptolib//gf256mul -std=gnu99  -MMD -MP -MF .dep/uart.o.d .././hal/xmega/uart.c -o objdir-CWLITEXMEGA/uart.o\n",
      ".\n",
      "Compiling C: .././hal/xmega/usart_driver.c\n",
      "avr-gcc -c -mmcu=atxmega128d3 -I. -DNO_EXTRA_OPTS -fpack-struct -gdwarf-2 -DSS_VER=SS_VER_1_1 -DHAL_TYPE=HAL_xmega -DPLATFORM=CWLITEXMEGA -DAVRCRYPTOLIB -DF_CPU=7372800UL -DSS_VER_2_0=2 -DSS_VER_2_1=3 -DSS_VER_1_1=1 -DSS_VER_1_0=0 -Os -funsigned-char -funsigned-bitfields -fshort-enums -Wall -Wstrict-prototypes -Wa,-adhlns=objdir-CWLITEXMEGA/usart_driver.lst -I.././simpleserial/ -I.././hal -I.././hal/xmega -I.././crypto/ -I.././crypto/avrcryptolib//aes -I.././crypto/avrcryptolib//gf256mul -std=gnu99  -MMD -MP -MF .dep/usart_driver.o.d .././hal/xmega/usart_driver.c -o objdir-CWLITEXMEGA/usart_driver.o\n",
      ".\n",
      "Compiling C: .././hal/xmega/xmega_hal.c\n",
      "avr-gcc -c -mmcu=atxmega128d3 -I. -DNO_EXTRA_OPTS -fpack-struct -gdwarf-2 -DSS_VER=SS_VER_1_1 -DHAL_TYPE=HAL_xmega -DPLATFORM=CWLITEXMEGA -DAVRCRYPTOLIB -DF_CPU=7372800UL -DSS_VER_2_0=2 -DSS_VER_2_1=3 -DSS_VER_1_1=1 -DSS_VER_1_0=0 -Os -funsigned-char -funsigned-bitfields -fshort-enums -Wall -Wstrict-prototypes -Wa,-adhlns=objdir-CWLITEXMEGA/xmega_hal.lst -I.././simpleserial/ -I.././hal -I.././hal/xmega -I.././crypto/ -I.././crypto/avrcryptolib//aes -I.././crypto/avrcryptolib//gf256mul -std=gnu99  -MMD -MP -MF .dep/xmega_hal.o.d .././hal/xmega/xmega_hal.c -o objdir-CWLITEXMEGA/xmega_hal.o\n",
      ".\n",
      "Compiling C: .././crypto/aes-independant.c\n",
      "avr-gcc -c -mmcu=atxmega128d3 -I. -DNO_EXTRA_OPTS -fpack-struct -gdwarf-2 -DSS_VER=SS_VER_1_1 -DHAL_TYPE=HAL_xmega -DPLATFORM=CWLITEXMEGA -DAVRCRYPTOLIB -DF_CPU=7372800UL -DSS_VER_2_0=2 -DSS_VER_2_1=3 -DSS_VER_1_1=1 -DSS_VER_1_0=0 -Os -funsigned-char -funsigned-bitfields -fshort-enums -Wall -Wstrict-prototypes -Wa,-adhlns=objdir-CWLITEXMEGA/aes-independant.lst -I.././simpleserial/ -I.././hal -I.././hal/xmega -I.././crypto/ -I.././crypto/avrcryptolib//aes -I.././crypto/avrcryptolib//gf256mul -std=gnu99  -MMD -MP -MF .dep/aes-independant.o.d .././crypto/aes-independant.c -o objdir-CWLITEXMEGA/aes-independant.o\n",
      ".\n",
      "Compiling C: .././crypto/avrcryptolib//aes/aes_enc.c\n",
      "avr-gcc -c -mmcu=atxmega128d3 -I. -DNO_EXTRA_OPTS -fpack-struct -gdwarf-2 -DSS_VER=SS_VER_1_1 -DHAL_TYPE=HAL_xmega -DPLATFORM=CWLITEXMEGA -DAVRCRYPTOLIB -DF_CPU=7372800UL -DSS_VER_2_0=2 -DSS_VER_2_1=3 -DSS_VER_1_1=1 -DSS_VER_1_0=0 -Os -funsigned-char -funsigned-bitfields -fshort-enums -Wall -Wstrict-prototypes -Wa,-adhlns=objdir-CWLITEXMEGA/aes_enc.lst -I.././simpleserial/ -I.././hal -I.././hal/xmega -I.././crypto/ -I.././crypto/avrcryptolib//aes -I.././crypto/avrcryptolib//gf256mul -std=gnu99  -MMD -MP -MF .dep/aes_enc.o.d .././crypto/avrcryptolib//aes/aes_enc.c -o objdir-CWLITEXMEGA/aes_enc.o\n",
      ".\n",
      "Compiling C: .././crypto/avrcryptolib//aes/aes_keyschedule.c\n",
      "avr-gcc -c -mmcu=atxmega128d3 -I. -DNO_EXTRA_OPTS -fpack-struct -gdwarf-2 -DSS_VER=SS_VER_1_1 -DHAL_TYPE=HAL_xmega -DPLATFORM=CWLITEXMEGA -DAVRCRYPTOLIB -DF_CPU=7372800UL -DSS_VER_2_0=2 -DSS_VER_2_1=3 -DSS_VER_1_1=1 -DSS_VER_1_0=0 -Os -funsigned-char -funsigned-bitfields -fshort-enums -Wall -Wstrict-prototypes -Wa,-adhlns=objdir-CWLITEXMEGA/aes_keyschedule.lst -I.././simpleserial/ -I.././hal -I.././hal/xmega -I.././crypto/ -I.././crypto/avrcryptolib//aes -I.././crypto/avrcryptolib//gf256mul -std=gnu99  -MMD -MP -MF .dep/aes_keyschedule.o.d .././crypto/avrcryptolib//aes/aes_keyschedule.c -o objdir-CWLITEXMEGA/aes_keyschedule.o\n",
      ".\n",
      "Compiling C: .././crypto/avrcryptolib//aes/aes_sbox.c\n",
      "avr-gcc -c -mmcu=atxmega128d3 -I. -DNO_EXTRA_OPTS -fpack-struct -gdwarf-2 -DSS_VER=SS_VER_1_1 -DHAL_TYPE=HAL_xmega -DPLATFORM=CWLITEXMEGA -DAVRCRYPTOLIB -DF_CPU=7372800UL -DSS_VER_2_0=2 -DSS_VER_2_1=3 -DSS_VER_1_1=1 -DSS_VER_1_0=0 -Os -funsigned-char -funsigned-bitfields -fshort-enums -Wall -Wstrict-prototypes -Wa,-adhlns=objdir-CWLITEXMEGA/aes_sbox.lst -I.././simpleserial/ -I.././hal -I.././hal/xmega -I.././crypto/ -I.././crypto/avrcryptolib//aes -I.././crypto/avrcryptolib//gf256mul -std=gnu99  -MMD -MP -MF .dep/aes_sbox.o.d .././crypto/avrcryptolib//aes/aes_sbox.c -o objdir-CWLITEXMEGA/aes_sbox.o\n",
      ".\n",
      "Compiling C: .././crypto/avrcryptolib//aes/aes128_enc.c\n",
      "avr-gcc -c -mmcu=atxmega128d3 -I. -DNO_EXTRA_OPTS -fpack-struct -gdwarf-2 -DSS_VER=SS_VER_1_1 -DHAL_TYPE=HAL_xmega -DPLATFORM=CWLITEXMEGA -DAVRCRYPTOLIB -DF_CPU=7372800UL -DSS_VER_2_0=2 -DSS_VER_2_1=3 -DSS_VER_1_1=1 -DSS_VER_1_0=0 -Os -funsigned-char -funsigned-bitfields -fshort-enums -Wall -Wstrict-prototypes -Wa,-adhlns=objdir-CWLITEXMEGA/aes128_enc.lst -I.././simpleserial/ -I.././hal -I.././hal/xmega -I.././crypto/ -I.././crypto/avrcryptolib//aes -I.././crypto/avrcryptolib//gf256mul -std=gnu99  -MMD -MP -MF .dep/aes128_enc.o.d .././crypto/avrcryptolib//aes/aes128_enc.c -o objdir-CWLITEXMEGA/aes128_enc.o\n",
      ".\n",
      "Assembling: .././crypto/avrcryptolib//gf256mul/gf256mul.S\n",
      "avr-gcc -c -mmcu=atxmega128d3 -I. -x assembler-with-cpp -DF_CPU=7372800 -Wa,-gstabs,-adhlns=objdir-CWLITEXMEGA/gf256mul.lst -I.././simpleserial/ -I.././hal -I.././hal/xmega -I.././crypto/ -I.././crypto/avrcryptolib//aes -I.././crypto/avrcryptolib//gf256mul .././crypto/avrcryptolib//gf256mul/gf256mul.S -o objdir-CWLITEXMEGA/gf256mul.o\n",
      ".\n",
      "Linking: simpleserial-aes-CWLITEXMEGA.elf\n",
      "avr-gcc -mmcu=atxmega128d3 -I. -DNO_EXTRA_OPTS -fpack-struct -gdwarf-2 -DSS_VER=SS_VER_1_1 -DHAL_TYPE=HAL_xmega -DPLATFORM=CWLITEXMEGA -DAVRCRYPTOLIB -DF_CPU=7372800UL -DSS_VER_2_0=2 -DSS_VER_2_1=3 -DSS_VER_1_1=1 -DSS_VER_1_0=0 -Os -funsigned-char -funsigned-bitfields -fshort-enums -Wall -Wstrict-prototypes -Wa,-adhlns=objdir-CWLITEXMEGA/simpleserial-aes.o -I.././simpleserial/ -I.././hal -I.././hal/xmega -I.././crypto/ -I.././crypto/avrcryptolib//aes -I.././crypto/avrcryptolib//gf256mul -std=gnu99  -MMD -MP -MF .dep/simpleserial-aes-CWLITEXMEGA.elf.d objdir-CWLITEXMEGA/simpleserial-aes.o objdir-CWLITEXMEGA/simpleserial.o objdir-CWLITEXMEGA/XMEGA_AES_driver.o objdir-CWLITEXMEGA/uart.o objdir-CWLITEXMEGA/usart_driver.o objdir-CWLITEXMEGA/xmega_hal.o objdir-CWLITEXMEGA/aes-independant.o objdir-CWLITEXMEGA/aes_enc.o objdir-CWLITEXMEGA/aes_keyschedule.o objdir-CWLITEXMEGA/aes_sbox.o objdir-CWLITEXMEGA/aes128_enc.o objdir-CWLITEXMEGA/gf256mul.o --output simpleserial-aes-CWLITEXMEGA.elf -Wl,-Map=simpleserial-aes-CWLITEXMEGA.map,--cref   -lm  \n",
      ".\n",
      "Creating load file for Flash: simpleserial-aes-CWLITEXMEGA.hex\n",
      "avr-objcopy -O ihex -R .eeprom -R .fuse -R .lock -R .signature simpleserial-aes-CWLITEXMEGA.elf simpleserial-aes-CWLITEXMEGA.hex\n",
      ".\n",
      "Creating load file for EEPROM: simpleserial-aes-CWLITEXMEGA.eep\n",
      "avr-objcopy -j .eeprom --set-section-flags=.eeprom=\"alloc,load\" \\\n",
      "--change-section-lma .eeprom=0 --no-change-warnings -O ihex simpleserial-aes-CWLITEXMEGA.elf simpleserial-aes-CWLITEXMEGA.eep || exit 0\n",
      ".\n",
      "Creating Extended Listing: simpleserial-aes-CWLITEXMEGA.lss\n",
      "avr-objdump -h -S -z simpleserial-aes-CWLITEXMEGA.elf > simpleserial-aes-CWLITEXMEGA.lss\n",
      ".\n",
      "Creating Symbol Table: simpleserial-aes-CWLITEXMEGA.sym\n",
      "avr-nm -n simpleserial-aes-CWLITEXMEGA.elf > simpleserial-aes-CWLITEXMEGA.sym\n",
      "Size after:\n",
      "   text\t   data\t    bss\t    dec\t    hex\tfilename\n",
      "   3728\t     34\t    274\t   4036\t    fc4\tsimpleserial-aes-CWLITEXMEGA.elf\n",
      "+--------------------------------------------------------\n",
      "+ Default target does full rebuild each time.\n",
      "+ Specify buildtarget == allquick == to avoid full rebuild\n",
      "+--------------------------------------------------------\n",
      "+--------------------------------------------------------\n",
      "+ Built for platform CW-Lite XMEGA with:\n",
      "+ CRYPTO_TARGET = AVRCRYPTOLIB\n",
      "+ CRYPTO_OPTIONS = AES128C\n",
      "+--------------------------------------------------------\n"
     ]
    }
   ],
   "source": [
    "%%bash -s \"$PLATFORM\" \"$CRYPTO_TARGET\" \"$SS_VER\"\n",
    "cd ../hardware/victims/firmware/simpleserial-aes\n",
    "make PLATFORM=$1 CRYPTO_TARGET=$2 SS_VER=$3"
   ]
  },
  {
   "cell_type": "code",
   "execution_count": 7,
   "metadata": {},
   "outputs": [],
   "source": [
    "fw_path = \"../hardware/victims/firmware/simpleserial-aes/simpleserial-aes-{}.hex\".format(PLATFORM)"
   ]
  },
  {
   "cell_type": "code",
   "execution_count": 8,
   "metadata": {},
   "outputs": [
    {
     "name": "stdout",
     "output_type": "stream",
     "text": [
      "XMEGA Programming flash...\n",
      "XMEGA Reading flash...\n",
      "Verified flash OK, 3761 bytes\n"
     ]
    }
   ],
   "source": [
    "cw.program_target(scope, prog, fw_path)"
   ]
  },
  {
   "cell_type": "markdown",
   "metadata": {},
   "source": [
    "### AES Power Watcher"
   ]
  },
  {
   "cell_type": "markdown",
   "metadata": {},
   "source": [
    "The next step is to send random data to the device, and observe the power consumption during the encryption.\n",
    "\n",
    "The idea is that we will use a capture loop like this:"
   ]
  },
  {
   "cell_type": "code",
   "execution_count": 9,
   "metadata": {},
   "outputs": [
    {
     "name": "stderr",
     "output_type": "stream",
     "text": [
      "Capturing traces: 100%|██████████| 5000/5000 [02:14<00:00, 37.27it/s]\n"
     ]
    }
   ],
   "source": [
    "from tqdm import trange\n",
    "import numpy as np\n",
    "import time\n",
    "\n",
    "ktp = cw.ktp.Basic()\n",
    "trace_array = []\n",
    "textin_array = []\n",
    "\n",
    "key, text = ktp.next()\n",
    "\n",
    "target.set_key(key)\n",
    "\n",
    "N = 5000\n",
    "for i in trange(N, desc='Capturing traces'):\n",
    "    scope.arm()\n",
    "    \n",
    "    target.simpleserial_write('p', text)\n",
    "    \n",
    "    ret = scope.capture()\n",
    "    if ret:\n",
    "        print(\"Target timed out!\")\n",
    "        continue\n",
    "    \n",
    "    response = target.simpleserial_read('r', 16)\n",
    "    \n",
    "    trace_array.append(scope.get_last_trace())\n",
    "    textin_array.append(text)\n",
    "    \n",
    "    key, text = ktp.next() "
   ]
  },
  {
   "cell_type": "code",
   "execution_count": 10,
   "metadata": {},
   "outputs": [
    {
     "name": "stdout",
     "output_type": "stream",
     "text": [
      "✔️ OK to continue!\n"
     ]
    }
   ],
   "source": [
    "assert(len(trace_array) == 5000)\n",
    "print(\"✔️ OK to continue!\")"
   ]
  },
  {
   "cell_type": "code",
   "execution_count": 11,
   "metadata": {},
   "outputs": [
    {
     "data": {
      "application/vnd.jupyter.widget-view+json": {
       "model_id": "11247d5285e74576987463a209fbcee8",
       "version_major": 2,
       "version_minor": 0
      },
      "image/png": "[encoded data removed]",
      "text/plain": [
       "Canvas(toolbar=Toolbar(toolitems=[('Home', 'Reset original view', 'home', 'home'), ('Back', 'Back to previous …"
      ]
     },
     "metadata": {},
     "output_type": "display_data"
    }
   ],
   "source": [
    "%matplotlib ipympl\n",
    "import matplotlib.pylab as plt\n",
    "\n",
    "plt.figure()\n",
    "plt.plot(trace_array[0], 'red')\n",
    "plt.plot(trace_array[1], 'blue')\n",
    "plt.show()"
   ]
  },
  {
   "cell_type": "code",
   "execution_count": 12,
   "metadata": {},
   "outputs": [
    {
     "name": "stdout",
     "output_type": "stream",
     "text": [
      "CWbytearray(b'70 40 ab 7c 9b 6a 00 92 29 11 76 2b 36 02 ee 72')\n",
      "CWbytearray(b'20 7d 80 46 b4 0a 08 90 92 fd 44 22 28 b9 48 ba')\n"
     ]
    }
   ],
   "source": [
    "print(textin_array[0])\n",
    "print(textin_array[1])"
   ]
  },
  {
   "cell_type": "code",
   "execution_count": 13,
   "metadata": {},
   "outputs": [
    {
     "name": "stdout",
     "output_type": "stream",
     "text": [
      "5000 5000\n"
     ]
    }
   ],
   "source": [
    "numtraces = np.shape(trace_array)[0] #total number of traces\n",
    "numpoints = np.shape(trace_array)[1] #samples per trace\n",
    "print(numtraces, numpoints)"
   ]
  },
  {
   "cell_type": "markdown",
   "metadata": {},
   "source": [
    "#### Guessing one byte (the first one) using a single bit and the SAD"
   ]
  },
  {
   "cell_type": "markdown",
   "metadata": {},
   "source": [
    "The attack now needs a way of splitting traces into two groups, depending on the state of a bit in our \"guessed\" value. We're going to start easy by guessing a single byte of the AES key at a time.\n",
    "\n"
   ]
  },
  {
   "cell_type": "markdown",
   "metadata": {},
   "source": [
    "The important thing here is the `axis=0`, which does an average so the resulting array is done across all traces (not just the average value of one trace, but the average of each point index *across all traces*).\n",
    "\n",
    "Let me tell you that the correct value of byte 0 is `0x2B`. \n",
    "What you should see is an output of the maximum value between the two average groups be higher for the `0x2B` value"
   ]
  },
  {
   "cell_type": "markdown",
   "metadata": {},
   "source": [
    "In digital image processing, the sum of absolute differences (SAD) is a measure of the similarity between image blocks. It is calculated by taking the absolute difference between each pixel in the original block and the corresponding pixel in the block being used for comparison. These differences are summed to create a simple metric of block similarity, the L1 norm of the difference image or Manhattan distance between two image blocks.\n",
    "\n",
    "The sum of absolute differences may be used for a variety of purposes, such as object recognition, the generation of disparity maps for stereo images, and motion estimation for video compression.\n",
    "[SAD](https://en.wikipedia.org/wiki/Sum_of_absolute_differences)"
   ]
  },
  {
   "cell_type": "code",
   "execution_count": 14,
   "metadata": {},
   "outputs": [
    {
     "name": "stdout",
     "output_type": "stream",
     "text": [
      "Guessing 0: 0.004616\n",
      "Guessing 1: 0.003608\n",
      "Guessing 2: 0.003661\n",
      "Guessing 3: 0.002804\n",
      "Guessing 4: 0.003664\n",
      "Guessing 5: 0.003710\n",
      "Guessing 6: 0.003665\n",
      "Guessing 7: 0.004485\n",
      "Guessing 8: 0.005142\n",
      "Guessing 9: 0.002516\n",
      "Guessing A: 0.004631\n",
      "Guessing B: 0.003374\n",
      "Guessing C: 0.004106\n",
      "Guessing D: 0.002883\n",
      "Guessing E: 0.003190\n",
      "Guessing F: 0.001862\n",
      "Guessing 10: 0.002521\n",
      "Guessing 11: 0.003081\n",
      "Guessing 12: 0.002686\n",
      "Guessing 13: 0.003695\n",
      "Guessing 14: 0.003887\n",
      "Guessing 15: 0.005390\n",
      "Guessing 16: 0.004189\n",
      "Guessing 17: 0.002885\n",
      "Guessing 18: 0.003052\n",
      "Guessing 19: 0.003943\n",
      "Guessing 1A: 0.003066\n",
      "Guessing 1B: 0.003665\n",
      "Guessing 1C: 0.003901\n",
      "Guessing 1D: 0.003833\n",
      "Guessing 1E: 0.004017\n",
      "Guessing 1F: 0.003841\n",
      "Guessing 20: 0.005378\n",
      "Guessing 21: 0.003953\n",
      "Guessing 22: 0.005442\n",
      "Guessing 23: 0.004572\n",
      "Guessing 24: 0.003101\n",
      "Guessing 25: 0.002378\n",
      "Guessing 26: 0.003511\n",
      "Guessing 27: 0.002793\n",
      "Guessing 28: 0.003351\n",
      "Guessing 29: 0.002374\n",
      "Guessing 2A: 0.004208\n",
      "Guessing 2B: 0.009403\n",
      "Guessing 2C: 0.003006\n",
      "Guessing 2D: 0.004552\n",
      "Guessing 2E: 0.004317\n",
      "Guessing 2F: 0.002920\n",
      "Guessing 30: 0.002745\n",
      "Guessing 31: 0.003086\n",
      "Guessing 32: 0.003361\n",
      "Guessing 33: 0.002506\n",
      "Guessing 34: 0.004380\n",
      "Guessing 35: 0.006079\n",
      "Guessing 36: 0.003014\n",
      "Guessing 37: 0.003006\n",
      "Guessing 38: 0.002617\n",
      "Guessing 39: 0.002258\n",
      "Guessing 3A: 0.002634\n",
      "Guessing 3B: 0.003814\n",
      "Guessing 3C: 0.004046\n",
      "Guessing 3D: 0.003361\n",
      "Guessing 3E: 0.004218\n",
      "Guessing 3F: 0.003961\n",
      "Guessing 40: 0.004936\n",
      "Guessing 41: 0.004194\n",
      "Guessing 42: 0.004968\n",
      "Guessing 43: 0.003736\n",
      "Guessing 44: 0.004672\n",
      "Guessing 45: 0.003126\n",
      "Guessing 46: 0.005170\n",
      "Guessing 47: 0.002536\n",
      "Guessing 48: 0.005562\n",
      "Guessing 49: 0.003948\n",
      "Guessing 4A: 0.006081\n",
      "Guessing 4B: 0.004285\n",
      "Guessing 4C: 0.004920\n",
      "Guessing 4D: 0.002985\n",
      "Guessing 4E: 0.004787\n",
      "Guessing 4F: 0.003410\n",
      "Guessing 50: 0.003507\n",
      "Guessing 51: 0.002944\n",
      "Guessing 52: 0.003710\n",
      "Guessing 53: 0.003596\n",
      "Guessing 54: 0.004512\n",
      "Guessing 55: 0.003828\n",
      "Guessing 56: 0.003972\n",
      "Guessing 57: 0.003079\n",
      "Guessing 58: 0.003007\n",
      "Guessing 59: 0.002795\n",
      "Guessing 5A: 0.003618\n",
      "Guessing 5B: 0.003379\n",
      "Guessing 5C: 0.004825\n",
      "Guessing 5D: 0.003041\n",
      "Guessing 5E: 0.003150\n",
      "Guessing 5F: 0.003916\n",
      "Guessing 60: 0.005548\n",
      "Guessing 61: 0.003519\n",
      "Guessing 62: 0.004696\n",
      "Guessing 63: 0.003807\n",
      "Guessing 64: 0.003844\n",
      "Guessing 65: 0.002991\n",
      "Guessing 66: 0.003908\n",
      "Guessing 67: 0.002325\n",
      "Guessing 68: 0.005167\n",
      "Guessing 69: 0.005324\n",
      "Guessing 6A: 0.005713\n",
      "Guessing 6B: 0.002898\n",
      "Guessing 6C: 0.004473\n",
      "Guessing 6D: 0.002936\n",
      "Guessing 6E: 0.003546\n",
      "Guessing 6F: 0.002342\n",
      "Guessing 70: 0.003985\n",
      "Guessing 71: 0.002478\n",
      "Guessing 72: 0.003584\n",
      "Guessing 73: 0.002342\n",
      "Guessing 74: 0.003418\n",
      "Guessing 75: 0.003967\n",
      "Guessing 76: 0.003940\n",
      "Guessing 77: 0.002689\n",
      "Guessing 78: 0.002385\n",
      "Guessing 79: 0.003817\n",
      "Guessing 7A: 0.002828\n",
      "Guessing 7B: 0.002443\n",
      "Guessing 7C: 0.003983\n",
      "Guessing 7D: 0.003794\n",
      "Guessing 7E: 0.003353\n",
      "Guessing 7F: 0.002710\n",
      "Guessing 80: 0.002546\n",
      "Guessing 81: 0.003770\n",
      "Guessing 82: 0.003911\n",
      "Guessing 83: 0.003987\n",
      "Guessing 84: 0.003548\n",
      "Guessing 85: 0.002545\n",
      "Guessing 86: 0.002264\n",
      "Guessing 87: 0.002711\n",
      "Guessing 88: 0.002949\n",
      "Guessing 89: 0.003473\n",
      "Guessing 8A: 0.003238\n",
      "Guessing 8B: 0.003995\n",
      "Guessing 8C: 0.003639\n",
      "Guessing 8D: 0.002841\n",
      "Guessing 8E: 0.003244\n",
      "Guessing 8F: 0.002866\n",
      "Guessing 90: 0.002230\n",
      "Guessing 91: 0.003877\n",
      "Guessing 92: 0.003269\n",
      "Guessing 93: 0.004631\n",
      "Guessing 94: 0.003885\n",
      "Guessing 95: 0.004868\n",
      "Guessing 96: 0.006052\n",
      "Guessing 97: 0.005045\n",
      "Guessing 98: 0.003309\n",
      "Guessing 99: 0.003905\n",
      "Guessing 9A: 0.003284\n",
      "Guessing 9B: 0.003834\n",
      "Guessing 9C: 0.003930\n",
      "Guessing 9D: 0.004153\n",
      "Guessing 9E: 0.004576\n",
      "Guessing 9F: 0.004924\n",
      "Guessing A0: 0.003280\n",
      "Guessing A1: 0.004136\n",
      "Guessing A2: 0.003674\n",
      "Guessing A3: 0.003667\n",
      "Guessing A4: 0.002175\n",
      "Guessing A5: 0.002908\n",
      "Guessing A6: 0.003142\n",
      "Guessing A7: 0.004290\n",
      "Guessing A8: 0.002859\n",
      "Guessing A9: 0.004281\n",
      "Guessing AA: 0.003749\n",
      "Guessing AB: 0.003727\n",
      "Guessing AC: 0.003478\n",
      "Guessing AD: 0.003806\n",
      "Guessing AE: 0.003044\n",
      "Guessing AF: 0.004198\n",
      "Guessing B0: 0.003915\n",
      "Guessing B1: 0.003710\n",
      "Guessing B2: 0.004515\n",
      "Guessing B3: 0.004170\n",
      "Guessing B4: 0.004257\n",
      "Guessing B5: 0.005095\n",
      "Guessing B6: 0.003889\n",
      "Guessing B7: 0.004665\n",
      "Guessing B8: 0.002827\n",
      "Guessing B9: 0.004944\n",
      "Guessing BA: 0.004696\n",
      "Guessing BB: 0.004582\n",
      "Guessing BC: 0.004467\n",
      "Guessing BD: 0.006054\n",
      "Guessing BE: 0.004030\n",
      "Guessing BF: 0.005778\n",
      "Guessing C0: 0.003326\n",
      "Guessing C1: 0.003416\n",
      "Guessing C2: 0.004107\n",
      "Guessing C3: 0.003952\n",
      "Guessing C4: 0.003608\n",
      "Guessing C5: 0.003288\n",
      "Guessing C6: 0.002575\n",
      "Guessing C7: 0.004938\n",
      "Guessing C8: 0.003873\n",
      "Guessing C9: 0.003759\n",
      "Guessing CA: 0.003308\n",
      "Guessing CB: 0.004078\n",
      "Guessing CC: 0.003348\n",
      "Guessing CD: 0.005254\n",
      "Guessing CE: 0.003255\n",
      "Guessing CF: 0.002210\n",
      "Guessing D0: 0.003847\n",
      "Guessing D1: 0.004158\n",
      "Guessing D2: 0.001840\n",
      "Guessing D3: 0.002740\n",
      "Guessing D4: 0.002687\n",
      "Guessing D5: 0.003895\n",
      "Guessing D6: 0.002041\n",
      "Guessing D7: 0.003457\n",
      "Guessing D8: 0.002469\n",
      "Guessing D9: 0.004378\n",
      "Guessing DA: 0.002599\n",
      "Guessing DB: 0.003415\n",
      "Guessing DC: 0.004164\n",
      "Guessing DD: 0.004150\n",
      "Guessing DE: 0.004507\n",
      "Guessing DF: 0.003332\n",
      "Guessing E0: 0.003773\n",
      "Guessing E1: 0.004167\n",
      "Guessing E2: 0.004132\n",
      "Guessing E3: 0.003811\n",
      "Guessing E4: 0.002243\n",
      "Guessing E5: 0.003780\n",
      "Guessing E6: 0.005551\n",
      "Guessing E7: 0.002792\n",
      "Guessing E8: 0.003310\n",
      "Guessing E9: 0.004979\n",
      "Guessing EA: 0.002908\n",
      "Guessing EB: 0.003800\n",
      "Guessing EC: 0.003968\n",
      "Guessing ED: 0.002722\n",
      "Guessing EE: 0.003387\n",
      "Guessing EF: 0.002509\n",
      "Guessing F0: 0.003321\n",
      "Guessing F1: 0.002686\n",
      "Guessing F2: 0.002113\n",
      "Guessing F3: 0.002957\n",
      "Guessing F4: 0.003159\n",
      "Guessing F5: 0.003476\n",
      "Guessing F6: 0.002975\n",
      "Guessing F7: 0.004023\n",
      "Guessing F8: 0.002407\n",
      "Guessing F9: 0.003103\n",
      "Guessing FA: 0.002591\n",
      "Guessing FB: 0.004316\n",
      "Guessing FC: 0.003907\n",
      "Guessing FD: 0.004569\n",
      "Guessing FE: 0.003374\n",
      "Guessing FF: 0.004010\n"
     ]
    }
   ],
   "source": [
    "import numpy as np\n",
    "mean_diffs = np.zeros(256)\n",
    "for guess in range(256):\n",
    "    one_list = []\n",
    "    zero_list = []\n",
    "\n",
    "    for trace_index in range(numtraces):\n",
    "        input_byte = textin_array[trace_index][0]\n",
    "\n",
    "        hypothetical_leakage = aes_internal(key=guess, inputdata=input_byte)\n",
    "\n",
    "        if hypothetical_leakage & 0x01:\n",
    "            one_list.append(trace_array[trace_index])\n",
    "        else:\n",
    "            zero_list.append(trace_array[trace_index])\n",
    "    one_avg = np.asarray(one_list).mean(axis=0)\n",
    "    zero_avg = np.asarray(zero_list).mean(axis=0)\n",
    "\n",
    "    mean_diffs[guess] = np.max(abs(one_avg - zero_avg))\n",
    "    print('Guessing {:0X}: {:f}'.format(guess, mean_diffs[guess]))"
   ]
  },
  {
   "cell_type": "code",
   "execution_count": 15,
   "metadata": {},
   "outputs": [
    {
     "name": "stdout",
     "output_type": "stream",
     "text": [
      "Guess 2B: 0.009403\n",
      "Guess 4A: 0.006081\n",
      "Guess 35: 0.006079\n",
      "Guess BD: 0.006054\n",
      "Guess 96: 0.006052\n"
     ]
    }
   ],
   "source": [
    "sorted_list = np.argsort(mean_diffs)[::-1]\n",
    "\n",
    "for guess in sorted_list[0:5]:\n",
    "    print('Guess {:0X}: {:1f}'.format(guess, mean_diffs[guess]))"
   ]
  },
  {
   "cell_type": "code",
   "execution_count": 16,
   "metadata": {},
   "outputs": [
    {
     "data": {
      "text/plain": [
       "CWbytearray(b'2b 7e 15 16 28 ae d2 a6 ab f7 15 88 09 cf 4f 3c')"
      ]
     },
     "execution_count": 16,
     "metadata": {},
     "output_type": "execute_result"
    }
   ],
   "source": [
    "key"
   ]
  },
  {
   "cell_type": "markdown",
   "metadata": {},
   "source": [
    "### AES Guesser - All Bytes"
   ]
  },
  {
   "cell_type": "code",
   "execution_count": 17,
   "metadata": {},
   "outputs": [],
   "source": [
    "def calculate_diffs(guess, byteindex=0, bitnum=0):\n",
    "    \"\"\"Perform a simple DPA on two traces, uses global `textin_array` and `trace_array` \"\"\"\n",
    "    \n",
    "    one_list = []\n",
    "    zero_list = []\n",
    "\n",
    "    for trace_index in range(numtraces):\n",
    "        hypothetical_leakage = aes_internal(guess, textin_array[trace_index][byteindex])\n",
    "\n",
    "        #Mask off the requested bit\n",
    "        if hypothetical_leakage & (1<<bitnum):\n",
    "            one_list.append(trace_array[trace_index])\n",
    "        else:\n",
    "            zero_list.append(trace_array[trace_index])\n",
    "\n",
    "    one_avg = np.asarray(one_list).mean(axis=0)\n",
    "    zero_avg = np.asarray(zero_list).mean(axis=0)\n",
    "    return abs(one_avg - zero_avg)"
   ]
  },
  {
   "cell_type": "code",
   "execution_count": 18,
   "metadata": {},
   "outputs": [
    {
     "name": "stderr",
     "output_type": "stream",
     "text": [
      "Attacking Subkey:   6%|▋         | 1/16 [00:19<04:50, 19.38s/it]"
     ]
    },
    {
     "name": "stdout",
     "output_type": "stream",
     "text": [
      "Subkey 0 - most likely 2B (actual 2B)\n",
      "Top 5 guesses:\n",
      "2B - Diff = 0.009403\n",
      "4A - Diff = 0.006081\n",
      "35 - Diff = 0.006079\n",
      "BD - Diff = 0.006054\n",
      "96 - Diff = 0.006052\n"
     ]
    },
    {
     "name": "stderr",
     "output_type": "stream",
     "text": [
      "Attacking Subkey:  12%|█▎        | 2/16 [00:36<04:14, 18.20s/it]"
     ]
    },
    {
     "name": "stdout",
     "output_type": "stream",
     "text": [
      "Subkey 1 - most likely 7E (actual 7E)\n",
      "Top 5 guesses:\n",
      "7E - Diff = 0.013735\n",
      "92 - Diff = 0.009957\n",
      "14 - Diff = 0.009018\n",
      "AE - Diff = 0.008973\n",
      "B4 - Diff = 0.008486\n"
     ]
    },
    {
     "name": "stderr",
     "output_type": "stream",
     "text": [
      "Attacking Subkey:  19%|█▉        | 3/16 [00:54<03:53, 17.97s/it]"
     ]
    },
    {
     "name": "stdout",
     "output_type": "stream",
     "text": [
      "Subkey 2 - most likely 15 (actual 15)\n",
      "Top 5 guesses:\n",
      "15 - Diff = 0.009844\n",
      "81 - Diff = 0.004935\n",
      "88 - Diff = 0.004822\n",
      "83 - Diff = 0.004794\n",
      "7E - Diff = 0.004770\n"
     ]
    },
    {
     "name": "stderr",
     "output_type": "stream",
     "text": [
      "Attacking Subkey:  25%|██▌       | 4/16 [01:12<03:37, 18.14s/it]"
     ]
    },
    {
     "name": "stdout",
     "output_type": "stream",
     "text": [
      "Subkey 3 - most likely 16 (actual 16)\n",
      "Top 5 guesses:\n",
      "16 - Diff = 0.016015\n",
      "7D - Diff = 0.005837\n",
      "53 - Diff = 0.005378\n",
      "A0 - Diff = 0.005308\n",
      "7B - Diff = 0.005165\n"
     ]
    },
    {
     "name": "stderr",
     "output_type": "stream",
     "text": [
      "Attacking Subkey:  31%|███▏      | 5/16 [01:29<03:15, 17.76s/it]"
     ]
    },
    {
     "name": "stdout",
     "output_type": "stream",
     "text": [
      "Subkey 4 - most likely 28 (actual 28)\n",
      "Top 5 guesses:\n",
      "28 - Diff = 0.009816\n",
      "B4 - Diff = 0.006740\n",
      "43 - Diff = 0.006682\n",
      "B0 - Diff = 0.006438\n",
      "41 - Diff = 0.006222\n"
     ]
    },
    {
     "name": "stderr",
     "output_type": "stream",
     "text": [
      "Attacking Subkey:  38%|███▊      | 6/16 [01:49<03:02, 18.25s/it]"
     ]
    },
    {
     "name": "stdout",
     "output_type": "stream",
     "text": [
      "Subkey 5 - most likely AE (actual AE)\n",
      "Top 5 guesses:\n",
      "AE - Diff = 0.011211\n",
      "37 - Diff = 0.006002\n",
      "B1 - Diff = 0.005335\n",
      "B6 - Diff = 0.004868\n",
      "1A - Diff = 0.004744\n"
     ]
    },
    {
     "name": "stderr",
     "output_type": "stream",
     "text": [
      "Attacking Subkey:  44%|████▍     | 7/16 [02:08<02:48, 18.70s/it]"
     ]
    },
    {
     "name": "stdout",
     "output_type": "stream",
     "text": [
      "Subkey 6 - most likely 3E (actual D2)\n",
      "Top 5 guesses:\n",
      "3E - Diff = 0.010703\n",
      "D2 - Diff = 0.010116\n",
      "2 - Diff = 0.009943\n",
      "31 - Diff = 0.009594\n",
      "18 - Diff = 0.008695\n"
     ]
    },
    {
     "name": "stderr",
     "output_type": "stream",
     "text": [
      "Attacking Subkey:  50%|█████     | 8/16 [02:26<02:27, 18.44s/it]"
     ]
    },
    {
     "name": "stdout",
     "output_type": "stream",
     "text": [
      "Subkey 7 - most likely A6 (actual A6)\n",
      "Top 5 guesses:\n",
      "A6 - Diff = 0.009944\n",
      "9C - Diff = 0.004940\n",
      "3F - Diff = 0.004826\n",
      "7C - Diff = 0.004756\n",
      "4A - Diff = 0.004625\n"
     ]
    },
    {
     "name": "stderr",
     "output_type": "stream",
     "text": [
      "Attacking Subkey:  56%|█████▋    | 9/16 [02:44<02:06, 18.13s/it]"
     ]
    },
    {
     "name": "stdout",
     "output_type": "stream",
     "text": [
      "Subkey 8 - most likely AB (actual AB)\n",
      "Top 5 guesses:\n",
      "AB - Diff = 0.009475\n",
      "3F - Diff = 0.004855\n",
      "AD - Diff = 0.004761\n",
      "1F - Diff = 0.004720\n",
      "B7 - Diff = 0.004452\n"
     ]
    },
    {
     "name": "stderr",
     "output_type": "stream",
     "text": [
      "Attacking Subkey:  62%|██████▎   | 10/16 [03:00<01:45, 17.63s/it]"
     ]
    },
    {
     "name": "stdout",
     "output_type": "stream",
     "text": [
      "Subkey 9 - most likely F7 (actual F7)\n",
      "Top 5 guesses:\n",
      "F7 - Diff = 0.010482\n",
      "6E - Diff = 0.006344\n",
      "5 - Diff = 0.004936\n",
      "3C - Diff = 0.004904\n",
      "4A - Diff = 0.004878\n"
     ]
    },
    {
     "name": "stderr",
     "output_type": "stream",
     "text": [
      "Attacking Subkey:  69%|██████▉   | 11/16 [03:19<01:30, 18.16s/it]"
     ]
    },
    {
     "name": "stdout",
     "output_type": "stream",
     "text": [
      "Subkey 10 - most likely 15 (actual 15)\n",
      "Top 5 guesses:\n",
      "15 - Diff = 0.014418\n",
      "7E - Diff = 0.007421\n",
      "A8 - Diff = 0.007049\n",
      "F9 - Diff = 0.006250\n",
      "87 - Diff = 0.005856\n"
     ]
    },
    {
     "name": "stderr",
     "output_type": "stream",
     "text": [
      "Attacking Subkey:  75%|███████▌  | 12/16 [03:38<01:13, 18.35s/it]"
     ]
    },
    {
     "name": "stdout",
     "output_type": "stream",
     "text": [
      "Subkey 11 - most likely 64 (actual 88)\n",
      "Top 5 guesses:\n",
      "64 - Diff = 0.009393\n",
      "42 - Diff = 0.009313\n",
      "88 - Diff = 0.008955\n",
      "B6 - Diff = 0.008714\n",
      "58 - Diff = 0.008604\n"
     ]
    },
    {
     "name": "stderr",
     "output_type": "stream",
     "text": [
      "Attacking Subkey:  81%|████████▏ | 13/16 [03:56<00:54, 18.04s/it]"
     ]
    },
    {
     "name": "stdout",
     "output_type": "stream",
     "text": [
      "Subkey 12 - most likely 9 (actual 9)\n",
      "Top 5 guesses:\n",
      "9 - Diff = 0.009826\n",
      "9D - Diff = 0.006282\n",
      "60 - Diff = 0.006272\n",
      "9C - Diff = 0.005900\n",
      "94 - Diff = 0.005828\n"
     ]
    },
    {
     "name": "stderr",
     "output_type": "stream",
     "text": [
      "Attacking Subkey:  88%|████████▊ | 14/16 [04:13<00:35, 17.93s/it]"
     ]
    },
    {
     "name": "stdout",
     "output_type": "stream",
     "text": [
      "Subkey 13 - most likely CF (actual CF)\n",
      "Top 5 guesses:\n",
      "CF - Diff = 0.009622\n",
      "BE - Diff = 0.005826\n",
      "7B - Diff = 0.005188\n",
      "24 - Diff = 0.004764\n",
      "22 - Diff = 0.004554\n"
     ]
    },
    {
     "name": "stderr",
     "output_type": "stream",
     "text": [
      "Attacking Subkey:  94%|█████████▍| 15/16 [04:30<00:17, 17.58s/it]"
     ]
    },
    {
     "name": "stdout",
     "output_type": "stream",
     "text": [
      "Subkey 14 - most likely 4F (actual 4F)\n",
      "Top 5 guesses:\n",
      "4F - Diff = 0.009517\n",
      "F2 - Diff = 0.005289\n",
      "FB - Diff = 0.005213\n",
      "DB - Diff = 0.005091\n",
      "26 - Diff = 0.005077\n"
     ]
    },
    {
     "name": "stderr",
     "output_type": "stream",
     "text": [
      "Attacking Subkey: 100%|██████████| 16/16 [04:47<00:00, 17.98s/it]"
     ]
    },
    {
     "name": "stdout",
     "output_type": "stream",
     "text": [
      "Subkey 15 - most likely 3C (actual 3C)\n",
      "Top 5 guesses:\n",
      "3C - Diff = 0.011519\n",
      "2 - Diff = 0.005241\n",
      "3A - Diff = 0.005181\n",
      "22 - Diff = 0.005041\n",
      "EC - Diff = 0.004953\n"
     ]
    },
    {
     "name": "stderr",
     "output_type": "stream",
     "text": [
      "\n"
     ]
    }
   ],
   "source": [
    "from tqdm import trange\n",
    "import numpy as np\n",
    "\n",
    "#Store your key_guess here, compare to known_key\n",
    "key_guess = []\n",
    "known_key = [0x2b, 0x7e, 0x15, 0x16, 0x28, 0xae, 0xd2, 0xa6, 0xab, 0xf7, 0x15, 0x88, 0x09, 0xcf, 0x4f, 0x3c]\n",
    "\n",
    "full_diffs_list = []\n",
    "\n",
    "for subkey in trange(0, 16, desc=\"Attacking Subkey\"):\n",
    "    max_individual_diffs = [0] * 256\n",
    "    full_diffs = [0] * 256\n",
    "    for guess in range(256):\n",
    "        diffs = calculate_diffs(guess,byteindex=subkey, bitnum=0)\n",
    "        max_individual_diffs[guess] = np.max(diffs)\n",
    "        full_diffs[guess] = diffs\n",
    "\n",
    "    top_diffs = np.argsort(max_individual_diffs)[::-1]\n",
    "        \n",
    "    key_guess.append(top_diffs[0])\n",
    "\n",
    "    full_diffs_list.append(full_diffs[:])\n",
    "    print('Subkey {:d} - most likely {:X} (actual {:X})'.format(subkey, top_diffs[0], known_key[subkey]))\n",
    "\n",
    "    print(\"Top 5 guesses:\")\n",
    "    for g in top_diffs[0:5]:\n",
    "        print('{:0X} - Diff = {:f}'.format(g, max_individual_diffs[g])) \n",
    "        "
   ]
  },
  {
   "cell_type": "markdown",
   "metadata": {},
   "source": [
    "### Ghost Peaks\n",
    "Maybe the previous didn't actually recover the full key? No need to worry - there are a few reasons for this. One artifact of a DPA attack is you get another strong peak that isn't the correct key (which can be a ghost peak).\n",
    "\n",
    "We're going to get into more efficient attacks later, but for now, let's look at some solutions:\n",
    "\n",
    "* Increase the number of traces recorded.\n",
    "* Change the targetted bit (& combine solutions from multiple bits).\n",
    "\n",
    "The first one is the brute-force option: go from 2500 to 5000 or even 10000 power traces. As you add more data, you may find the problem is reduced. But real ghost peaks may not disappear, so we need to move onto other solutions.\n",
    "\n",
    "Before we begin - we're going to give you a \"known good\" DPA attack script we're going to build on. This uses the `calculate_diffs()` function defined earlier."
   ]
  },
  {
   "cell_type": "markdown",
   "metadata": {},
   "source": [
    "#### Combine Multiple Bits fir each key byte"
   ]
  },
  {
   "cell_type": "code",
   "execution_count": 19,
   "metadata": {},
   "outputs": [],
   "source": [
    "def calculate_diffs(guess, byteindex=0):\n",
    "    \"\"\"Perform a simple DPA on two traces, uses global `textin_array` and `trace_array` \"\"\"\n",
    "    \n",
    "    \n",
    "    grouped_byte_traces = []\n",
    "    for bit in range(8):\n",
    "        grouped_bit_traces = [], []\n",
    "        for trace_index in range(numtraces):\n",
    "            hypothetical_leakage = aes_internal(guess, textin_array[trace_index][byteindex])\n",
    "\n",
    "            #Mask off the requested bit\n",
    "            if hypothetical_leakage & (1<<bit):\n",
    "                grouped_bit_traces[0].append(trace_array[trace_index])\n",
    "            else:\n",
    "                grouped_bit_traces[1].append(trace_array[trace_index])\n",
    "\n",
    "        grouped_byte_traces.append(grouped_bit_traces)\n",
    "    diffs = []\n",
    "    for i in range(8):\n",
    "        means = np.average(grouped_byte_traces[i][0], axis=0), np.average(grouped_byte_traces[i][1], axis=0)\n",
    "        diffs.append(abs(means[1] - means[0]))\n",
    "    \n",
    "    return np.array(diffs)"
   ]
  },
  {
   "cell_type": "code",
   "execution_count": 20,
   "metadata": {},
   "outputs": [
    {
     "name": "stderr",
     "output_type": "stream",
     "text": [
      "Attacking Subkey:   6%|▋         | 1/16 [02:05<31:28, 125.91s/it]"
     ]
    },
    {
     "name": "stdout",
     "output_type": "stream",
     "text": [
      "Subkey 0 - most likely 2B (actual 2B)\n",
      "Top 5 guesses:\n",
      "2B - Diff = 0.018562\n",
      "8C - Diff = 0.007552\n",
      "EC - Diff = 0.007477\n",
      "0 - Diff = 0.007337\n",
      "E4 - Diff = 0.007112\n"
     ]
    },
    {
     "name": "stderr",
     "output_type": "stream",
     "text": [
      "Attacking Subkey:  12%|█▎        | 2/16 [04:10<29:08, 124.91s/it]"
     ]
    },
    {
     "name": "stdout",
     "output_type": "stream",
     "text": [
      "Subkey 1 - most likely 7E (actual 7E)\n",
      "Top 5 guesses:\n",
      "7E - Diff = 0.058893\n",
      "40 - Diff = 0.011006\n",
      "37 - Diff = 0.010804\n",
      "BF - Diff = 0.010459\n",
      "F3 - Diff = 0.010383\n"
     ]
    },
    {
     "name": "stderr",
     "output_type": "stream",
     "text": [
      "Attacking Subkey:  19%|█▉        | 3/16 [06:14<26:59, 124.57s/it]"
     ]
    },
    {
     "name": "stdout",
     "output_type": "stream",
     "text": [
      "Subkey 2 - most likely 15 (actual 15)\n",
      "Top 5 guesses:\n",
      "15 - Diff = 0.015212\n",
      "82 - Diff = 0.006784\n",
      "2D - Diff = 0.006657\n",
      "25 - Diff = 0.006548\n",
      "C2 - Diff = 0.006514\n"
     ]
    },
    {
     "name": "stderr",
     "output_type": "stream",
     "text": [
      "Attacking Subkey:  25%|██▌       | 4/16 [08:18<24:53, 124.44s/it]"
     ]
    },
    {
     "name": "stdout",
     "output_type": "stream",
     "text": [
      "Subkey 3 - most likely 16 (actual 16)\n",
      "Top 5 guesses:\n",
      "16 - Diff = 0.016621\n",
      "8 - Diff = 0.007234\n",
      "C - Diff = 0.007039\n",
      "FB - Diff = 0.007034\n",
      "A7 - Diff = 0.006980\n"
     ]
    },
    {
     "name": "stderr",
     "output_type": "stream",
     "text": [
      "Attacking Subkey:  31%|███▏      | 5/16 [10:22<22:47, 124.36s/it]"
     ]
    },
    {
     "name": "stdout",
     "output_type": "stream",
     "text": [
      "Subkey 4 - most likely 28 (actual 28)\n",
      "Top 5 guesses:\n",
      "28 - Diff = 0.011131\n",
      "FD - Diff = 0.008061\n",
      "A7 - Diff = 0.007864\n",
      "FF - Diff = 0.007773\n",
      "85 - Diff = 0.007749\n"
     ]
    },
    {
     "name": "stderr",
     "output_type": "stream",
     "text": [
      "Attacking Subkey:  38%|███▊      | 6/16 [12:27<20:43, 124.36s/it]"
     ]
    },
    {
     "name": "stdout",
     "output_type": "stream",
     "text": [
      "Subkey 5 - most likely AE (actual AE)\n",
      "Top 5 guesses:\n",
      "AE - Diff = 0.012546\n",
      "39 - Diff = 0.006821\n",
      "38 - Diff = 0.005939\n",
      "DE - Diff = 0.005807\n",
      "7E - Diff = 0.005807\n"
     ]
    },
    {
     "name": "stderr",
     "output_type": "stream",
     "text": [
      "Attacking Subkey:  44%|████▍     | 7/16 [14:31<18:38, 124.32s/it]"
     ]
    },
    {
     "name": "stdout",
     "output_type": "stream",
     "text": [
      "Subkey 6 - most likely D2 (actual D2)\n",
      "Top 5 guesses:\n",
      "D2 - Diff = 0.058608\n",
      "9B - Diff = 0.011540\n",
      "9 - Diff = 0.011102\n",
      "3F - Diff = 0.010059\n",
      "3E - Diff = 0.010030\n"
     ]
    },
    {
     "name": "stderr",
     "output_type": "stream",
     "text": [
      "Attacking Subkey:  50%|█████     | 8/16 [16:40<16:46, 125.83s/it]"
     ]
    },
    {
     "name": "stdout",
     "output_type": "stream",
     "text": [
      "Subkey 7 - most likely A6 (actual A6)\n",
      "Top 5 guesses:\n",
      "A6 - Diff = 0.011732\n",
      "C2 - Diff = 0.006093\n",
      "31 - Diff = 0.006066\n",
      "A7 - Diff = 0.005955\n",
      "52 - Diff = 0.005726\n"
     ]
    },
    {
     "name": "stderr",
     "output_type": "stream",
     "text": [
      "Attacking Subkey:  56%|█████▋    | 9/16 [18:34<14:14, 122.06s/it]"
     ]
    },
    {
     "name": "stdout",
     "output_type": "stream",
     "text": [
      "Subkey 8 - most likely AB (actual AB)\n",
      "Top 5 guesses:\n",
      "AB - Diff = 0.009448\n",
      "3C - Diff = 0.006443\n",
      "6A - Diff = 0.005773\n",
      "93 - Diff = 0.005612\n",
      "79 - Diff = 0.005603\n"
     ]
    },
    {
     "name": "stderr",
     "output_type": "stream",
     "text": [
      "Attacking Subkey:  62%|██████▎   | 10/16 [20:29<12:00, 120.01s/it]"
     ]
    },
    {
     "name": "stdout",
     "output_type": "stream",
     "text": [
      "Subkey 9 - most likely F7 (actual F7)\n",
      "Top 5 guesses:\n",
      "F7 - Diff = 0.013327\n",
      "27 - Diff = 0.006913\n",
      "6E - Diff = 0.006619\n",
      "60 - Diff = 0.006291\n",
      "F6 - Diff = 0.005893\n"
     ]
    },
    {
     "name": "stderr",
     "output_type": "stream",
     "text": [
      "Attacking Subkey:  69%|██████▉   | 11/16 [22:31<10:02, 120.51s/it]"
     ]
    },
    {
     "name": "stdout",
     "output_type": "stream",
     "text": [
      "Subkey 10 - most likely 15 (actual 15)\n",
      "Top 5 guesses:\n",
      "15 - Diff = 0.015992\n",
      "3 - Diff = 0.008199\n",
      "C5 - Diff = 0.007827\n",
      "9C - Diff = 0.007607\n",
      "9 - Diff = 0.007593\n"
     ]
    },
    {
     "name": "stderr",
     "output_type": "stream",
     "text": [
      "Attacking Subkey:  75%|███████▌  | 12/16 [24:36<08:07, 121.89s/it]"
     ]
    },
    {
     "name": "stdout",
     "output_type": "stream",
     "text": [
      "Subkey 11 - most likely 88 (actual 88)\n",
      "Top 5 guesses:\n",
      "88 - Diff = 0.058256\n",
      "C1 - Diff = 0.011266\n",
      "5 - Diff = 0.010055\n",
      "78 - Diff = 0.010012\n",
      "49 - Diff = 0.009887\n"
     ]
    },
    {
     "name": "stderr",
     "output_type": "stream",
     "text": [
      "Attacking Subkey:  81%|████████▏ | 13/16 [26:41<06:08, 122.94s/it]"
     ]
    },
    {
     "name": "stdout",
     "output_type": "stream",
     "text": [
      "Subkey 12 - most likely 9 (actual 9)\n",
      "Top 5 guesses:\n",
      "9 - Diff = 0.009849\n",
      "31 - Diff = 0.007867\n",
      "21 - Diff = 0.007525\n",
      "2A - Diff = 0.007162\n",
      "C7 - Diff = 0.007155\n"
     ]
    },
    {
     "name": "stderr",
     "output_type": "stream",
     "text": [
      "Attacking Subkey:  88%|████████▊ | 14/16 [28:42<04:04, 122.20s/it]"
     ]
    },
    {
     "name": "stdout",
     "output_type": "stream",
     "text": [
      "Subkey 13 - most likely CF (actual CF)\n",
      "Top 5 guesses:\n",
      "CF - Diff = 0.010271\n",
      "58 - Diff = 0.006416\n",
      "D9 - Diff = 0.005804\n",
      "F6 - Diff = 0.005647\n",
      "CE - Diff = 0.005585\n"
     ]
    },
    {
     "name": "stderr",
     "output_type": "stream",
     "text": [
      "Attacking Subkey:  94%|█████████▍| 15/16 [30:47<02:03, 123.11s/it]"
     ]
    },
    {
     "name": "stdout",
     "output_type": "stream",
     "text": [
      "Subkey 14 - most likely 4F (actual 4F)\n",
      "Top 5 guesses:\n",
      "4F - Diff = 0.012265\n",
      "74 - Diff = 0.006452\n",
      "D8 - Diff = 0.006232\n",
      "4E - Diff = 0.005688\n",
      "B8 - Diff = 0.005452\n"
     ]
    },
    {
     "name": "stderr",
     "output_type": "stream",
     "text": [
      "Attacking Subkey: 100%|██████████| 16/16 [32:54<00:00, 123.42s/it]"
     ]
    },
    {
     "name": "stdout",
     "output_type": "stream",
     "text": [
      "Subkey 15 - most likely 3C (actual 3C)\n",
      "Top 5 guesses:\n",
      "3C - Diff = 0.014772\n",
      "D1 - Diff = 0.007600\n",
      "B1 - Diff = 0.007157\n",
      "F3 - Diff = 0.007133\n",
      "CC - Diff = 0.006583\n"
     ]
    },
    {
     "name": "stderr",
     "output_type": "stream",
     "text": [
      "\n"
     ]
    }
   ],
   "source": [
    "from tqdm import trange\n",
    "import numpy as np\n",
    "\n",
    "#Store your key_guess here, then compare to known_key\n",
    "key_guess = []\n",
    "known_key = [0x2b, 0x7e, 0x15, 0x16, 0x28, 0xae, 0xd2, 0xa6, 0xab, 0xf7, 0x15, 0x88, 0x09, 0xcf, 0x4f, 0x3c]\n",
    "\n",
    "full_diffs_list = []\n",
    "\n",
    "for subkey in trange(0, 16, desc=\"Attacking Subkey\"):\n",
    "\n",
    "    max_individual_diffs = [0] * 256\n",
    "    full_diffs = [0] * 256\n",
    "    for guess in range(256):\n",
    "        diffs = calculate_diffs(guess,byteindex=subkey)\n",
    "        max_individual_diffs[guess] = np.max(diffs)\n",
    "        full_diffs[guess] = diffs\n",
    "\n",
    "    top_diffs = np.argsort(max_individual_diffs)[::-1]\n",
    "        \n",
    "    key_guess.append(top_diffs[0])\n",
    "\n",
    "    full_diffs_list.append(full_diffs[:])\n",
    "    print('Subkey {:d} - most likely {:X} (actual {:X})'.format(subkey, top_diffs[0], known_key[subkey]))\n",
    "\n",
    "    print(\"Top 5 guesses:\")\n",
    "    for g in top_diffs[0:5]:\n",
    "        print('{:0X} - Diff = {:f}'.format(g, max_individual_diffs[g])) \n",
    "        "
   ]
  }
 ],
 "metadata": {
  "interpreter": {
   "hash": "32418f85d113f99b04e03edad7bf751ad9f6786622ba07a0441eaf9578861fee"
  },
  "kernelspec": {
   "display_name": "Python 3.7.12 64-bit ('venv': venv)",
   "language": "python",
   "name": "python3"
  },
  "language_info": {
   "codemirror_mode": {
    "name": "ipython",
    "version": 3
   },
   "file_extension": ".py",
   "mimetype": "text/x-python",
   "name": "python",
   "nbconvert_exporter": "python",
   "pygments_lexer": "ipython3",
   "version": "3.7.12"
  },
  "orig_nbformat": 4
 },
 "nbformat": 4,
 "nbformat_minor": 2
}
