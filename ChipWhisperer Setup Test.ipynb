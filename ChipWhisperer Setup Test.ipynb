{
 "cells": [
  {
   "cell_type": "markdown",
   "metadata": {},
   "source": [
    "# ChipWhisperer Setup Test"
   ]
  },
  {
   "cell_type": "markdown",
   "metadata": {},
   "source": [
    "The following notebook can be used to quickly perform a test of your ChipWhisperer capture setup.\n",
    "\n",
    "If you have downloaded the ChipWhisperer virtual machine, the only real test is if you can connect to the hardware. The VM includes all required tools such as Python modules, compilers, etc. If you are installing \"Bare metal\", you will need to ensure the compiler and similar are working to follow along with the tutorials."
   ]
  },
  {
   "cell_type": "markdown",
   "metadata": {},
   "source": [
    "## Jupyter Setup"
   ]
  },
  {
   "cell_type": "markdown",
   "metadata": {},
   "source": [
    "Presumably you've already got Jupyter running! So that's pretty good start. You can test that a few imports are working by running the following, you shouldn't get any exceptions:"
   ]
  },
  {
   "cell_type": "code",
   "execution_count": 1,
   "metadata": {},
   "outputs": [
    {
     "name": "stdout",
     "output_type": "stream",
     "text": [
      "Help on package chipwhisperer:\n",
      "\n",
      "NAME\n",
      "    chipwhisperer\n",
      "\n",
      "DESCRIPTION\n",
      "    .. module:: chipwhisperer\n",
      "       :platform: Unix, Windows\n",
      "       :synopsis: Test\n",
      "    \n",
      "    .. moduleauthor:: NewAE Technology Inc.\n",
      "    \n",
      "    Main module for ChipWhisperer.\n",
      "\n",
      "PACKAGE CONTENTS\n",
      "    analyzer (package)\n",
      "    capture (package)\n",
      "    common (package)\n",
      "    hardware (package)\n",
      "    logging\n",
      "\n",
      "SUBMODULES\n",
      "    key_text_patterns\n",
      "    ktp\n",
      "    programmers\n",
      "    project\n",
      "    scopes\n",
      "    targets\n",
      "    util\n",
      "\n",
      "FUNCTIONS\n",
      "    capture_trace(scope, target, plaintext, key=None, ack=True)\n",
      "        Capture a trace, sending plaintext and key\n",
      "        \n",
      "        Does all individual steps needed to capture a trace (arming the scope\n",
      "        sending the key/plaintext, getting the trace data back, etc.). Uses\n",
      "        target.output_len as the length of the expected target reponse for\n",
      "        simpleserial.\n",
      "        \n",
      "        Args:\n",
      "            scope (ScopeTemplate): Scope object to use for capture.\n",
      "            target (TargetTemplate): Target object to read/write text from.\n",
      "            plaintext (bytearray): Plaintext to send to the target. Should be\n",
      "                unencoded bytearray (will be converted to SimpleSerial when it's\n",
      "                sent). If None, don't send plaintext.\n",
      "            key (bytearray, optional): Key to send to target. Should be unencoded\n",
      "                bytearray. If None, don't send key. Defaults to None.\n",
      "            ack (bool, optional): Check for ack when reading response from target.\n",
      "                Defaults to True.\n",
      "        \n",
      "        Returns:\n",
      "            :class:`Trace <chipwhisperer.common.traces.Trace>` or None if capture\n",
      "            timed out.\n",
      "        \n",
      "        Raises:\n",
      "            Warning or OSError: Error during capture.\n",
      "        \n",
      "        Example:\n",
      "            Capturing a trace::\n",
      "        \n",
      "                import chipwhisperer as cw\n",
      "                scope = cw.scope()\n",
      "                scope.default_setup()\n",
      "                target = cw.target()\n",
      "                ktp = cw.ktp.Basic()\n",
      "                key, pt = ktp.new_pair()\n",
      "                trace = cw.capture_trace(scope, target, pt, key)\n",
      "        \n",
      "        .. versionadded:: 5.1\n",
      "            Added to simplify trace capture.\n",
      "        \n",
      "        .. versionchanged:: 5.2\n",
      "            Added ack parameter and use of target.output_len\n",
      "    \n",
      "    check_for_updates()\n",
      "        Check if current ChipWhisperer version is the latest.\n",
      "        \n",
      "        Checks pypi.\n",
      "        \n",
      "        .. versionadded:: 5.6.1\n",
      "    \n",
      "    create_project(filename, overwrite=False)\n",
      "        Create a new project with the path <filename>.\n",
      "        \n",
      "        If <overwrite> is False, raise an OSError if this path already exists.\n",
      "        \n",
      "        Args:\n",
      "           filename (str): File path to create project file at. Must end with .cwp\n",
      "           overwrite (bool, optional): Whether or not to overwrite an existing\n",
      "               project with <filename>. Raises an OSError if path already exists\n",
      "               and this is false. Defaults to false.\n",
      "        \n",
      "        Returns:\n",
      "           A chipwhisperer project object.\n",
      "        \n",
      "        Raises:\n",
      "           OSError: filename exists and overwrite is False.\n",
      "    \n",
      "    import_project(filename, file_type='zip', overwrite=False)\n",
      "        Import and open a project.\n",
      "        \n",
      "        Will import the **filename** by extracting to the current working\n",
      "        directory.\n",
      "        \n",
      "        Currently support file types:\n",
      "         * zip\n",
      "        \n",
      "        Args:\n",
      "            filename (str): The file name to import.\n",
      "            file_type (str): The type of file that is being imported.\n",
      "                Default is zip.\n",
      "            overwrite (bool): Whether or not to overwrite the project given as\n",
      "                the **import_as** project.\n",
      "        \n",
      "        .. versionadded:: 5.1\n",
      "            Add **import_project** function.\n",
      "    \n",
      "    open_project(filename)\n",
      "        Load an existing project from disk.\n",
      "        \n",
      "        Args:\n",
      "           filename (str): Path to project file.\n",
      "        \n",
      "        Returns:\n",
      "           A chipwhisperer project object.\n",
      "        \n",
      "        Raises:\n",
      "           OSError: filename does not exist.\n",
      "    \n",
      "    plot(*args, **kwargs)\n",
      "        Get a plotting object for use in Jupyter.\n",
      "        \n",
      "        Uses a Holoviews/Bokeh plot with a width of 800 and\n",
      "        a height of 600. You must have Holoviews and Bokeh\n",
      "        installed, as well as be working in a Jupyter\n",
      "        environment.\n",
      "        \n",
      "        args and kwargs are the same as a typical Holoviews plot.\n",
      "        \n",
      "        Plotting a trace in a Jupyter environment::\n",
      "        \n",
      "            import chipwhisperer as cw\n",
      "            scope = cw.scope()\n",
      "            ...\n",
      "            trace = cw.capture_trace(scope, target, text, key)\n",
      "            display(cw.plot(trace.wave))\n",
      "        \n",
      "        Returns:\n",
      "            A holoviews Curve object\n",
      "        \n",
      "        .. versionadded:: 5.4\n",
      "    \n",
      "    program_sam_firmware(serial_port=None, hardware_type=None, fw_path=None)\n",
      "        Program firmware onto an erased chipwhisperer scope or target\n",
      "        \n",
      "        See https://chipwhisperer.readthedocs.io/en/latest/firmware.html for more information\n",
      "        \n",
      "        .. versionadded:: 5.6.1\n",
      "            Improved programming interface\n",
      "    \n",
      "    program_target(scope, prog_type, fw_path, **kwargs)\n",
      "        Program the target using the programmer <type>\n",
      "        \n",
      "        Programmers can be found in the programmers submodule\n",
      "        \n",
      "        Args:\n",
      "           scope (ScopeTemplate): Connected scope object to use for programming\n",
      "           prog_type (Programmer): Programmer to use. See chipwhisperer.programmers\n",
      "               for available programmers\n",
      "           fw_path (str): Path to hex file to program\n",
      "        \n",
      "        .. versionadded:: 5.0.1\n",
      "            Simplified programming target\n",
      "    \n",
      "    scope(scope_type=None, name=None, **kwargs)\n",
      "        Create a scope object and connect to it.\n",
      "        \n",
      "        This function allows any type of scope to be created. By default, the\n",
      "        object created is based on the attached hardware (OpenADC for\n",
      "        CWLite/CW1200, CWNano for CWNano).\n",
      "        \n",
      "        Scope Types:\n",
      "         * :class:`scopes.OpenADC` (Pro and Lite)\n",
      "         * :class:`scopes.CWNano` (Nano)\n",
      "        \n",
      "        If multiple chipwhisperers are connected, the serial number of the one you\n",
      "        want to connect to can be specified by passing sn=<SERIAL_NUMBER>\n",
      "        \n",
      "        Args:\n",
      "            scope_type (ScopeTemplate, optional): Scope type to connect to. Types\n",
      "                can be found in chipwhisperer.scopes. If None, will try to detect\n",
      "                the type of ChipWhisperer connected. Defaults to None.\n",
      "            name (str, optional): model name of the ChipWhisperer that you want to\n",
      "                connect to. Alternative to specifying the serial number when\n",
      "                multiple ChipWhisperers, all of different type, are connected.\n",
      "                Defaults to None. Valid values:\n",
      "                * Lite\n",
      "                * Pro\n",
      "                * Husky\n",
      "            idProduct (int, optional): idProduct of the ChipWhisperer that you want to\n",
      "                connect to. Alternative to specifying the serial number when\n",
      "                multiple ChipWhisperers, all of different type, are connected.\n",
      "                Defaults to None. Valid values:\n",
      "                * 0xace2: CW-Lite\n",
      "                * 0xace3: CW-Pro\n",
      "                * 0xace5: CW-Husky\n",
      "            sn (str, optional): Serial number of ChipWhisperer that you want to\n",
      "                connect to. sn is required if more than one ChipWhisperer of the\n",
      "                same type is connected (i.e. two CWNano's or a CWLite and CWPro).\n",
      "                Defaults to None.\n",
      "            bitstream (str, optional): Path to bitstream to program. If None,\n",
      "                programs default bitstream. Optional, defaults to None. Ignored\n",
      "                on Nano.\n",
      "            force (bool, optional): If True, always erase and program\n",
      "                FPGA. If False, only erase and program FPGA if it\n",
      "                is currently blank. Defaults to False. Ignored on Nano.\n",
      "        \n",
      "        Returns:\n",
      "            Connected scope object.\n",
      "        \n",
      "        Raises:\n",
      "            OSError: Can be raised for issues connecting to the chipwhisperer, such\n",
      "                as not having permission to access the USB device or no ChipWhisperer\n",
      "                being connected.\n",
      "            Warning: Raised if multiple chipwhisperers are connected, but the type\n",
      "                and/or the serial numbers are not specified\n",
      "        \n",
      "        .. versionchanged:: 5.1\n",
      "            Added autodetection of scope_type\n",
      "        \n",
      "        .. versionchanged:: 5.5\n",
      "                Added idProduct, name, bitstream, and force parameters.\n",
      "    \n",
      "    target(scope, target_type=<class 'chipwhisperer.capture.targets.SimpleSerial.SimpleSerial'>, **kwargs)\n",
      "        Create a target object and connect to it.\n",
      "        \n",
      "        Args:\n",
      "           scope (ScopeTemplate): Scope object that we're connecting to the target\n",
      "               through.\n",
      "           target_type (TargetTemplate, optional): Target type to connect to.\n",
      "               Defaults to targets.SimpleSerial. Types can be found in\n",
      "               chipwhisperer.targets.\n",
      "           **kwargs: Additional keyword arguments to pass to target setup. Rarely\n",
      "               needed.\n",
      "        \n",
      "        Returns:\n",
      "            Connected target object specified by target_type.\n",
      "\n",
      "DATA\n",
      "    chipwhisperer_loggers = [<Logger ChipWhisperer NAEUSB (WARNING)>, <Log...\n",
      "    glitch_logger = <Logger ChipWhisperer Glitch (WARNING)>\n",
      "    logger = <Logger ChipWhisperer Glitch (WARNING)>\n",
      "    naeusb_logger = <Logger ChipWhisperer NAEUSB (WARNING)>\n",
      "    other_logger = <Logger ChipWhisperer Other (WARNING)>\n",
      "    scope_logger = <Logger ChipWhisperer Scope (WARNING)>\n",
      "    target_logger = <Logger ChipWhisperer Target (WARNING)>\n",
      "    tracewhisperer_logger = <Logger ChipWhisperer TraceWhisperer (WARNING)...\n",
      "\n",
      "VERSION\n",
      "    5.6.1\n",
      "\n",
      "FILE\n",
      "    /home/antragoudaras/hardware_security/chipwhisperer/software/chipwhisperer/__init__.py\n",
      "\n",
      "\n"
     ]
    }
   ],
   "source": [
    "import chipwhisperer\n",
    "help(chipwhisperer)"
   ]
  },
  {
   "cell_type": "markdown",
   "metadata": {},
   "source": [
    "The following should generate a plot - **NOTE: You may need to run this multiple times for some reason**"
   ]
  },
  {
   "cell_type": "code",
   "execution_count": 3,
   "metadata": {},
   "outputs": [
    {
     "data": {
      "text/plain": [
       "[<matplotlib.lines.Line2D at 0x7f1131ea1d10>]"
      ]
     },
     "execution_count": 3,
     "metadata": {},
     "output_type": "execute_result"
    },
    {
     "data": {
      "image/png": "[encoded data removed]",
      "text/plain": [
       "<Figure size 432x288 with 1 Axes>"
      ]
     },
     "metadata": {
      "needs_background": "light"
     },
     "output_type": "display_data"
    }
   ],
   "source": [
    "import matplotlib.pylab as plt\n",
    "plt.plot(range(0, 10))"
   ]
  },
  {
   "cell_type": "markdown",
   "metadata": {},
   "source": [
    "The following should generate an interactive plot"
   ]
  },
  {
   "cell_type": "code",
   "execution_count": 4,
   "metadata": {},
   "outputs": [
    {
     "data": {
      "text/plain": [
       "[<matplotlib.lines.Line2D at 0x7f112f215850>]"
      ]
     },
     "execution_count": 4,
     "metadata": {},
     "output_type": "execute_result"
    },
    {
     "data": {
      "application/vnd.jupyter.widget-view+json": {
       "model_id": "eaf12c39d40f44cfb3d6a8bfd19042a6",
       "version_major": 2,
       "version_minor": 0
      },
      "image/png": "[encoded data removed]",
      "text/plain": [
       "Canvas(toolbar=Toolbar(toolitems=[('Home', 'Reset original view', 'home', 'home'), ('Back', 'Back to previous …"
      ]
     },
     "metadata": {},
     "output_type": "display_data"
    }
   ],
   "source": [
    "%matplotlib ipympl\n",
    "import matplotlib.pylab as plt\n",
    "plt.plot(range(0, 10))"
   ]
  },
  {
   "cell_type": "markdown",
   "metadata": {},
   "source": [
    "## ChipWhisperer Hardware Test"
   ]
  },
  {
   "cell_type": "markdown",
   "metadata": {},
   "source": [
    "The following will connect to a ChipWhisperer. Just plug the Chipwhisperer main board in itself (black PCB or ChipWhisperer-Pro box), this isn't testing any of the attached target boards or similar. If the ChipWhisperer communication is up, everything else should \"just work\" when talking to various targets.\n",
    "\n",
    "This should result in some text that says ``INFO: Found ChipWhisperer😍``"
   ]
  },
  {
   "cell_type": "code",
   "execution_count": 2,
   "metadata": {},
   "outputs": [
    {
     "name": "stdout",
     "output_type": "stream",
     "text": [
      "INFO: Found ChipWhisperer😍\n"
     ]
    }
   ],
   "source": [
    "PLATFORM=\"NOTHING\"\n",
    "%run Setup_Scripts/Setup_Generic.ipynb"
   ]
  },
  {
   "cell_type": "markdown",
   "metadata": {},
   "source": [
    "We aren't going to use the hardware, so should disconnect from it so it is dropped by this Python kernel."
   ]
  },
  {
   "cell_type": "code",
   "execution_count": 3,
   "metadata": {},
   "outputs": [],
   "source": [
    "scope.dis()\n",
    "target.dis()"
   ]
  },
  {
   "cell_type": "markdown",
   "metadata": {},
   "source": [
    "## Bash / Command-Line Test"
   ]
  },
  {
   "cell_type": "markdown",
   "metadata": {},
   "source": [
    "The following will check you have a working bash or command-line interface. We'll be using this for running ``make`` and other such commands."
   ]
  },
  {
   "cell_type": "code",
   "execution_count": 7,
   "metadata": {},
   "outputs": [
    {
     "name": "stdout",
     "output_type": "stream",
     "text": [
      "0\\ -\\ Introduction\\ to\\ Jupyter\\ Notebooks.ipynb  Helper_Scripts\n",
      "1\\ -\\ Connecting\\ to\\ Hardware.ipynb\t\t  img\n",
      "archive\t\t\t\t\t\t  README.md\n",
      "ChipWhisperer\\ Firmware\\ Upgrade.ipynb\t\t  requirements.txt\n",
      "ChipWhisperer\\ Setup\\ Test.ipynb\t\t  Setup_Scripts\n",
      "ChipWhisperer\\ Updating.ipynb\t\t\t  Test_Notebook.ipynb\n",
      "courses\t\t\t\t\t\t  Test_Notebook.py\n",
      "demos\t\t\t\t\t\t  tests\n",
      "experiments\n"
     ]
    }
   ],
   "source": [
    "%%bash\n",
    "dir"
   ]
  },
  {
   "cell_type": "code",
   "execution_count": 8,
   "metadata": {},
   "outputs": [
    {
     "name": "stdout",
     "output_type": "stream",
     "text": [
      "0\\ -\\ Introduction\\ to\\ Jupyter\\ Notebooks.ipynb  Helper_Scripts\n",
      "1\\ -\\ Connecting\\ to\\ Hardware.ipynb\t\t  img\n",
      "archive\t\t\t\t\t\t  README.md\n",
      "ChipWhisperer\\ Firmware\\ Upgrade.ipynb\t\t  requirements.txt\n",
      "ChipWhisperer\\ Setup\\ Test.ipynb\t\t  Setup_Scripts\n",
      "ChipWhisperer\\ Updating.ipynb\t\t\t  Test_Notebook.ipynb\n",
      "courses\t\t\t\t\t\t  Test_Notebook.py\n",
      "demos\t\t\t\t\t\t  tests\n",
      "experiments\n"
     ]
    }
   ],
   "source": [
    "!dir"
   ]
  },
  {
   "cell_type": "markdown",
   "metadata": {},
   "source": [
    "**Remember that Jupyter allows running commands on your system - so exposing the web interface can be dangerous! This is one reason ChipWhisperer-Install on Windows uses a Token by default, and the VM forces you to set a password. Unless you have port forwarding your firewall should prevent access remotely, but if using this on a hostile network be sure you have not opened the port!**"
   ]
  },
  {
   "cell_type": "markdown",
   "metadata": {},
   "source": [
    "## Compiler Testing"
   ]
  },
  {
   "cell_type": "markdown",
   "metadata": {},
   "source": [
    "If you'll be building source code, you need a working Make system. First check you can run `make` - this should give you the normal output of "
   ]
  },
  {
   "cell_type": "code",
   "execution_count": 9,
   "metadata": {},
   "outputs": [
    {
     "name": "stdout",
     "output_type": "stream",
     "text": [
      "GNU Make 4.1\n",
      "Built for x86_64-pc-linux-gnu\n",
      "Copyright (C) 1988-2014 Free Software Foundation, Inc.\n",
      "License GPLv3+: GNU GPL version 3 or later <http://gnu.org/licenses/gpl.html>\n",
      "This is free software: you are free to change and redistribute it.\n",
      "There is NO WARRANTY, to the extent permitted by law.\n"
     ]
    }
   ],
   "source": [
    "!make --version"
   ]
  },
  {
   "cell_type": "markdown",
   "metadata": {},
   "source": [
    "If you are using any of the following, you will need the `arm-none-eabi-gcc` compiler:\n",
    "\n",
    "* ChipWhisperer-Lite 32-bit (with Arm Target).\n",
    "* ChipWhisperer UFO Board with any Arm target (such as STM32F3, STM32F0, etc).\n",
    "* ChipWhisperer-Nano\n",
    "\n",
    "You can easily check for the working compiler with the following, which sohuld print the version and build information:"
   ]
  },
  {
   "cell_type": "code",
   "execution_count": 10,
   "metadata": {},
   "outputs": [
    {
     "name": "stdout",
     "output_type": "stream",
     "text": [
      "Using built-in specs.\n",
      "COLLECT_GCC=arm-none-eabi-gcc\n",
      "COLLECT_LTO_WRAPPER=/usr/lib/gcc/arm-none-eabi/6.3.1/lto-wrapper\n",
      "Target: arm-none-eabi\n",
      "Configured with: ../src/configure --build=x86_64-linux-gnu --prefix=/usr --includedir='/usr/lib/include' --mandir='/usr/lib/share/man' --infodir='/usr/lib/share/info' --sysconfdir=/etc --localstatedir=/var --disable-silent-rules --libdir='/usr/lib/lib/x86_64-linux-gnu' --libexecdir='/usr/lib/lib/x86_64-linux-gnu' --disable-maintainer-mode --disable-dependency-tracking --mandir=/usr/share/man --enable-languages=c,c++,lto --enable-multilib --disable-decimal-float --disable-libffi --disable-libgomp --disable-libmudflap --disable-libquadmath --disable-libssp --disable-libstdcxx-pch --disable-nls --disable-shared --disable-threads --disable-tls --build=x86_64-linux-gnu --target=arm-none-eabi --with-system-zlib --with-gnu-as --with-gnu-ld --with-pkgversion=15:6.3.1+svn253039-1build1 --without-included-gettext --prefix=/usr/lib --infodir=/usr/share/doc/gcc-arm-none-eabi/info --htmldir=/usr/share/doc/gcc-arm-none-eabi/html --pdfdir=/usr/share/doc/gcc-arm-none-eabi/pdf --bindir=/usr/bin --libexecdir=/usr/lib --libdir=/usr/lib --disable-libstdc++-v3 --host=x86_64-linux-gnu --with-headers=no --without-newlib --with-multilib-list=rmprofile CFLAGS='-g -O2 -fdebug-prefix-map=/build/gcc-arm-none-eabi-iopiMw/gcc-arm-none-eabi-6.3.1+svn253039=. -fstack-protector-strong' CPPFLAGS='-Wdate-time -D_FORTIFY_SOURCE=2' CXXFLAGS='-g -O2 -fdebug-prefix-map=/build/gcc-arm-none-eabi-iopiMw/gcc-arm-none-eabi-6.3.1+svn253039=. -fstack-protector-strong' FCFLAGS='-g -O2 -fdebug-prefix-map=/build/gcc-arm-none-eabi-iopiMw/gcc-arm-none-eabi-6.3.1+svn253039=. -fstack-protector-strong' FFLAGS='-g -O2 -fdebug-prefix-map=/build/gcc-arm-none-eabi-iopiMw/gcc-arm-none-eabi-6.3.1+svn253039=. -fstack-protector-strong' GCJFLAGS='-g -O2 -fdebug-prefix-map=/build/gcc-arm-none-eabi-iopiMw/gcc-arm-none-eabi-6.3.1+svn253039=. -fstack-protector-strong' LDFLAGS='-Wl,-Bsymbolic-functions -Wl,-z,relro' OBJCFLAGS='-g -O2 -fdebug-prefix-map=/build/gcc-arm-none-eabi-iopiMw/gcc-arm-none-eabi-6.3.1+svn253039=. -fstack-protector-strong' OBJCXXFLAGS='-g -O2 -fdebug-prefix-map=/build/gcc-arm-none-eabi-iopiMw/gcc-arm-none-eabi-6.3.1+svn253039=. -fstack-protector-strong' INHIBIT_LIBC_CFLAGS=-DUSE_TM_CLONE_REGISTRY=0 AR_FOR_TARGET=arm-none-eabi-ar AS_FOR_TARGET=arm-none-eabi-as LD_FOR_TARGET=arm-none-eabi-ld NM_FOR_TARGET=arm-none-eabi-nm OBJDUMP_FOR_TARGET=arm-none-eabi-objdump RANLIB_FOR_TARGET=arm-none-eabi-ranlib READELF_FOR_TARGET=arm-none-eabi-readelf STRIP_FOR_TARGET=arm-none-eabi-strip\n",
      "Thread model: single\n",
      "gcc version 6.3.1 20170620 (15:6.3.1+svn253039-1build1) \n"
     ]
    }
   ],
   "source": [
    "!arm-none-eabi-gcc -v"
   ]
  },
  {
   "cell_type": "markdown",
   "metadata": {},
   "source": [
    "If you are using any of the following, you will need the `avr-gcc` compiler:\n",
    "\n",
    "* ChipWhisperer-Lite Classic (with XMEGA Target).\n",
    "* ChipWhisperer UFO Board with XMEGA or AVR Target.\n",
    "* ChipWhisperer-Lite 2-Part Version.\n",
    "\n",
    "You can easily check for the working compiler with the following, which should print the version and build information:"
   ]
  },
  {
   "cell_type": "code",
   "execution_count": 11,
   "metadata": {},
   "outputs": [
    {
     "name": "stdout",
     "output_type": "stream",
     "text": [
      "Using built-in specs.\n",
      "Reading specs from /usr/lib/gcc/avr/5.4.0/device-specs/specs-avr2\n",
      "COLLECT_GCC=avr-gcc\n",
      "COLLECT_LTO_WRAPPER=/usr/lib/gcc/avr/5.4.0/lto-wrapper\n",
      "Target: avr\n",
      "Configured with: ../gcc/configure -v --enable-languages=c,c++ --prefix=/usr/lib --infodir=/usr/share/info --mandir=/usr/share/man --bindir=/usr/bin --libexecdir=/usr/lib --libdir=/usr/lib --enable-shared --with-system-zlib --enable-long-long --enable-nls --without-included-gettext --disable-libssp --build=x86_64-linux-gnu --host=x86_64-linux-gnu --target=avr CFLAGS='-g -O2 -fdebug-prefix-map=/build/gcc-avr-n0nSsH/gcc-avr-5.4.0+Atmel3.6.0=. -fstack-protector-strong -Wformat ' CPPFLAGS='-Wdate-time -D_FORTIFY_SOURCE=2' CXXFLAGS='-g -O2 -fdebug-prefix-map=/build/gcc-avr-n0nSsH/gcc-avr-5.4.0+Atmel3.6.0=. -fstack-protector-strong -Wformat ' FCFLAGS='-g -O2 -fdebug-prefix-map=/build/gcc-avr-n0nSsH/gcc-avr-5.4.0+Atmel3.6.0=. -fstack-protector-strong' FFLAGS='-g -O2 -fdebug-prefix-map=/build/gcc-avr-n0nSsH/gcc-avr-5.4.0+Atmel3.6.0=. -fstack-protector-strong' GCJFLAGS='-g -O2 -fdebug-prefix-map=/build/gcc-avr-n0nSsH/gcc-avr-5.4.0+Atmel3.6.0=. -fstack-protector-strong' LDFLAGS='-Wl,-Bsymbolic-functions -Wl,-z,relro' OBJCFLAGS='-g -O2 -fdebug-prefix-map=/build/gcc-avr-n0nSsH/gcc-avr-5.4.0+Atmel3.6.0=. -fstack-protector-strong -Wformat ' OBJCXXFLAGS='-g -O2 -fdebug-prefix-map=/build/gcc-avr-n0nSsH/gcc-avr-5.4.0+Atmel3.6.0=. -fstack-protector-strong -Wformat '\n",
      "Thread model: single\n",
      "gcc version 5.4.0 (GCC) \n"
     ]
    }
   ],
   "source": [
    "!avr-gcc -v"
   ]
  },
  {
   "cell_type": "markdown",
   "metadata": {},
   "source": [
    "## Conclusions\n",
    "\n",
    "That's it! We've got a working ChipWhisperer system now. There are a few packages used in specific tutorials that could still be missing if you've done your own install, but the above should have validate all important system settings. Hopefully any of the \"important to setup\" stuff should have been shaken out already."
   ]
  }
 ],
 "metadata": {
  "interpreter": {
   "hash": "f22b91a595f7e6822ced407a33526d09b68224e5b5089926ec81819e3364718e"
  },
  "kernelspec": {
   "display_name": "Python 3.7.12 64-bit ('venv': venv)",
   "name": "python3"
  },
  "language_info": {
   "codemirror_mode": {
    "name": "ipython",
    "version": 3
   },
   "file_extension": ".py",
   "mimetype": "text/x-python",
   "name": "python",
   "nbconvert_exporter": "python",
   "pygments_lexer": "ipython3",
   "version": "3.7.12"
  }
 },
 "nbformat": 4,
 "nbformat_minor": 2
}
