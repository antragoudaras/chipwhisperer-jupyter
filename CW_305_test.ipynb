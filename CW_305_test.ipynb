{
 "cells": [
  {
   "cell_type": "code",
   "execution_count": 1,
   "metadata": {},
   "outputs": [],
   "source": [
    "import chipwhisperer as cw\n",
    "scope = cw.scope()"
   ]
  },
  {
   "cell_type": "code",
   "execution_count": 2,
   "metadata": {},
   "outputs": [],
   "source": [
    "target = cw.target(scope, cw.targets.CW305, fpga_id=\"35t\", force=False)"
   ]
  },
  {
   "cell_type": "code",
   "execution_count": 3,
   "metadata": {},
   "outputs": [],
   "source": [
    "target.vccint_set(1.0)"
   ]
  },
  {
   "cell_type": "code",
   "execution_count": 4,
   "metadata": {},
   "outputs": [],
   "source": [
    "target.pll.pll_enable_set(True)\n",
    "target.pll.pll_outsource_set('PLL0', 0)"
   ]
  },
  {
   "cell_type": "code",
   "execution_count": 5,
   "metadata": {},
   "outputs": [],
   "source": [
    "target.pll.pll_outfreq_set(freq=10E6, outnum=0)"
   ]
  },
  {
   "cell_type": "code",
   "execution_count": 6,
   "metadata": {},
   "outputs": [
    {
     "name": "stdout",
     "output_type": "stream",
     "text": [
      "10000000.0\n"
     ]
    }
   ],
   "source": [
    "print(target.pll.pll_outfreq_get(0))"
   ]
  },
  {
   "cell_type": "code",
   "execution_count": 7,
   "metadata": {},
   "outputs": [],
   "source": [
    "scope.gain.db = 25\n",
    "scope.adc.samples = 129\n",
    "scope.adc.offset = 0\n",
    "scope.adc.basic_mode = 'rising_edge'\n",
    "scope.clock.adc_src = 'extclk_x4'\n",
    "scope.io.hs2 = \"disabled\""
   ]
  },
  {
   "cell_type": "code",
   "execution_count": 8,
   "metadata": {},
   "outputs": [],
   "source": [
    "scope.clock.reset_adc()\n",
    "assert (scope.clock.adc_locked == True)"
   ]
  },
  {
   "cell_type": "code",
   "execution_count": 9,
   "metadata": {},
   "outputs": [],
   "source": [
    "proj = cw.create_project(\"passionayui.cwp\", overwrite=True)"
   ]
  },
  {
   "cell_type": "code",
   "execution_count": 10,
   "metadata": {},
   "outputs": [
    {
     "data": {
      "application/vnd.jupyter.widget-view+json": {
       "model_id": "44aaa34ae9654c1089feb99faa0a6941",
       "version_major": 2,
       "version_minor": 0
      },
      "text/plain": [
       "  0%|          | 0/5000 [00:00<?, ?it/s]"
      ]
     },
     "metadata": {},
     "output_type": "display_data"
    }
   ],
   "source": [
    "from tqdm.notebook import trange\n",
    "N_traces = 5000\n",
    "ktp = cw.ktp.Basic()\n",
    "ktp.fixed_key = False\n",
    "for k in range(10):\n",
    "    key = ktp.next()[0]\n",
    "\n",
    "for i in trange(N_traces):\n",
    "    text = ktp.next()[1]\n",
    "    trace = cw.capture_trace(scope, target, text, key)\n",
    "    if trace is None:\n",
    "        print(\"Timeout occured!!\")\n",
    "        continue\n",
    "    proj.traces.append(trace)\n",
    "proj.save()\n"
   ]
  },
  {
   "cell_type": "code",
   "execution_count": 11,
   "metadata": {},
   "outputs": [],
   "source": [
    "scope.dis()\n",
    "target.dis()"
   ]
  },
  {
   "cell_type": "code",
   "execution_count": 1,
   "metadata": {},
   "outputs": [],
   "source": [
    "import chipwhisperer as cw\n",
    "proj = cw.open_project(\"passionayui.cwp\")"
   ]
  },
  {
   "cell_type": "code",
   "execution_count": null,
   "metadata": {},
   "outputs": [],
   "source": [
    "import chipwhisperer.analyzer as cwa \n",
    "leak_model = cwa.leakage_models.last_round_state_diff\n",
    "attack = cwa.cpa(proj, leak_model)\n",
    "results = attack.run(cwa.get_jupyter_callback(attack), update_interval=1000)"
   ]
  },
  {
   "cell_type": "code",
   "execution_count": 2,
   "metadata": {},
   "outputs": [
    {
     "name": "stderr",
     "output_type": "stream",
     "text": [
      "2022-01-04 17:10:21,251 - lascar.session - INFO - Session Session: 5000 traces, 18 engines, batch_size=1000, leakage_shape=(129,)\n",
      "INFO:lascar.session:Session Session: 5000 traces, 18 engines, batch_size=1000, leakage_shape=(129,)\n",
      "Session |  0%||0 trc/5000 | (18 engines, batch_size=1000, leakage_shape=(129,)) |ETA:  --:--:--"
     ]
    },
    {
     "name": "stdout",
     "output_type": "stream",
     "text": [
      "========================================\n",
      "Debug:\n",
      "1000\n"
     ]
    },
    {
     "name": "stderr",
     "output_type": "stream",
     "text": [
      "Session |100%||5000 trc/5000 | (18 engines, batch_size=1000, leakage_shape=(129,)) |Time:  0:00:16\n"
     ]
    }
   ],
   "source": [
    "import chipwhisperer.common.api.lascar as cw_lascar\n",
    "from lascar import *\n",
    "cw_container = cw_lascar.CWContainer(proj, proj.textouts)\n",
    "guess_range = range(256)\n",
    "leakage = cw_lascar.lastround_HD_gen\n",
    "cpa_engines = [CpaEngine(\"cpa_%02d\" % i, leakage(i), guess_range) for i in range(16)]\n",
    "session = Session(cw_container, engines=cpa_engines).run(batch_size=1000)\n",
    "\n",
    "rec_key_10r = []\n",
    "for i in range(16):\n",
    "    results = cpa_engines[i].finalize()\n",
    "    guess = abs(results).max(1).argmax()\n",
    "    rec_key_10r.append(guess)\n",
    "\n"
   ]
  },
  {
   "cell_type": "code",
   "execution_count": 4,
   "metadata": {},
   "outputs": [],
   "source": [
    "from chipwhisperer.analyzer.utils.aes_funcs import key_schedule_rounds\n",
    "# rec_key_10r = results.key_guess() uncomment this if you use cwa.leakage_models instead of LASCAR\n",
    "rec_key = key_schedule_rounds(rec_key_10r, 10, 0)\n",
    "rec_key = bytearray(rec_key)\n",
    "assert (rec_key == bytearray(proj.keys[0]))"
   ]
  }
 ],
 "metadata": {
  "interpreter": {
   "hash": "32418f85d113f99b04e03edad7bf751ad9f6786622ba07a0441eaf9578861fee"
  },
  "kernelspec": {
   "display_name": "Python 3.7.12 64-bit ('venv': venv)",
   "language": "python",
   "name": "python3"
  },
  "language_info": {
   "codemirror_mode": {
    "name": "ipython",
    "version": 3
   },
   "file_extension": ".py",
   "mimetype": "text/x-python",
   "name": "python",
   "nbconvert_exporter": "python",
   "pygments_lexer": "ipython3",
   "version": "3.7.12"
  },
  "orig_nbformat": 4
 },
 "nbformat": 4,
 "nbformat_minor": 2
}
