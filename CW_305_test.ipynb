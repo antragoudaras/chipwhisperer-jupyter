{
 "cells": [
  {
   "cell_type": "code",
   "execution_count": 1,
   "metadata": {},
   "outputs": [],
   "source": [
    "import chipwhisperer as cw\n",
    "scope = cw.scope()\n",
    "scope.gain.db = 25\n",
    "scope.adc.samples = 129\n",
    "scope.adc.offset = 0\n",
    "scope.adc.basic_mode = \"rising_edge\"\n",
    "scope.trigger.triggers = \"tio4\"\n",
    "scope.io.tio1 = \"serial_rx\"\n",
    "scope.io.tio2 = \"serial_tx\"\n",
    "scope.io.hs2 = \"disabled\""
   ]
  },
  {
   "cell_type": "code",
   "execution_count": 3,
   "metadata": {},
   "outputs": [],
   "source": [
    "target = cw.target(scope, cw.targets.CW305, fpga_id=\"35t\", force=False)\n",
    "# path = \"../tragos_victims/vivado_workspace/Artix35t/Artix35t.runs/impl_1/cw305_top.bit\"\n",
    "# target = cw.target(scope, cw.targets.CW305, bsfile=path, force=False)"
   ]
  },
  {
   "cell_type": "code",
   "execution_count": null,
   "metadata": {},
   "outputs": [],
   "source": [
    "target.pll.pll_enable_set(True)\n",
    "target.pll.pll_outsource_set('PLL0', 0)\n",
    "target.pll.pll_outfreq_set(10E6,0)"
   ]
  },
  {
   "cell_type": "code",
   "execution_count": 4,
   "metadata": {},
   "outputs": [
    {
     "name": "stdout",
     "output_type": "stream",
     "text": [
      "True\n",
      "False\n",
      "True\n",
      "False\n"
     ]
    },
    {
     "data": {
      "text/plain": [
       "10000000.0"
      ]
     },
     "execution_count": 4,
     "metadata": {},
     "output_type": "execute_result"
    }
   ],
   "source": [
    "print(target.pll.pll_enable_get())\n",
    "print(target.pll.pll_outenable_get(0))\n",
    "print(target.pll.pll_outenable_get(1))\n",
    "print(target.pll.pll_outenable_get(2))\n",
    "target.pll.pll_outfreq_get(1)"
   ]
  },
  {
   "cell_type": "code",
   "execution_count": 5,
   "metadata": {},
   "outputs": [],
   "source": [
    "target.vccint_set(1.0)\n",
    "# we only need PLL1:\n",
    "target.pll.pll_enable_set(True)\n",
    "target.pll.pll_outenable_set(False, 0)\n",
    "target.pll.pll_outenable_set(True, 1)\n",
    "target.pll.pll_outenable_set(False, 2)\n",
    "\n",
    "# run at 10 MHz:\n",
    "target.pll.pll_outfreq_set(10E6, 1)\n",
    "\n",
    "# 1ms is plenty of idling time\n",
    "target.clkusbautooff = True\n",
    "target.clksleeptime = 1"
   ]
  },
  {
   "cell_type": "code",
   "execution_count": 6,
   "metadata": {},
   "outputs": [],
   "source": [
    "if scope._is_husky:\n",
    "    scope.clock.clkgen_freq = 40e6\n",
    "    scope.clock.clkgen_src = 'extclk'\n",
    "    scope.clock.adc_mul = 4\n",
    "    # if the target PLL frequency is changed, the above must also be changed accordingly\n",
    "else:\n",
    "    scope.clock.adc_src = \"extclk_x4\""
   ]
  },
  {
   "cell_type": "code",
   "execution_count": 7,
   "metadata": {},
   "outputs": [],
   "source": [
    "scope.clock.reset_adc()\n",
    "assert (scope.clock.adc_locked), \"ADC failed to lock\""
   ]
  },
  {
   "cell_type": "code",
   "execution_count": 8,
   "metadata": {},
   "outputs": [
    {
     "data": {
      "text/plain": [
       "cwlite Device\n",
       "sn         = 50203220313038543030393131313039\n",
       "fw_version = \n",
       "    major = 0\n",
       "    minor = 52\n",
       "    debug = 0\n",
       "gain = \n",
       "    mode = high\n",
       "    gain = 30\n",
       "    db   = 24.8359375\n",
       "adc = \n",
       "    state          = False\n",
       "    basic_mode     = rising_edge\n",
       "    timeout        = 2\n",
       "    offset         = 0\n",
       "    presamples     = 0\n",
       "    samples        = 129\n",
       "    decimate       = 1\n",
       "    trig_count     = 3030315\n",
       "    fifo_fill_mode = normal\n",
       "clock = \n",
       "    adc_src       = extclk_x4\n",
       "    adc_phase     = 0\n",
       "    adc_freq      = 40001403\n",
       "    adc_rate      = 40001403.0\n",
       "    adc_locked    = True\n",
       "    freq_ctr      = 10000339\n",
       "    freq_ctr_src  = extclk\n",
       "    clkgen_src    = system\n",
       "    extclk_freq   = 10000000\n",
       "    clkgen_mul    = 2\n",
       "    clkgen_div    = 1\n",
       "    clkgen_freq   = 192000000.0\n",
       "    clkgen_locked = True\n",
       "trigger = \n",
       "    triggers = tio4\n",
       "    module   = basic\n",
       "io = \n",
       "    tio1         = serial_rx\n",
       "    tio2         = serial_tx\n",
       "    tio3         = high_z\n",
       "    tio4         = high_z\n",
       "    pdid         = high_z\n",
       "    pdic         = high_z\n",
       "    nrst         = high_z\n",
       "    glitch_hp    = False\n",
       "    glitch_lp    = False\n",
       "    extclk_src   = hs1\n",
       "    hs2          = None\n",
       "    target_pwr   = True\n",
       "    tio_states   = (0, 1, 0, 0)\n",
       "    cdc_settings = bytearray(b'\\x01\\x00\\x00\\x00')\n",
       "glitch = \n",
       "    clk_src     = target\n",
       "    width       = 10.15625\n",
       "    width_fine  = 0\n",
       "    offset      = 10.15625\n",
       "    offset_fine = 0\n",
       "    trigger_src = manual\n",
       "    arm_timing  = after_scope\n",
       "    ext_offset  = 0\n",
       "    repeat      = 1\n",
       "    output      = clock_xor"
      ]
     },
     "execution_count": 8,
     "metadata": {},
     "output_type": "execute_result"
    }
   ],
   "source": [
    "scope"
   ]
  },
  {
   "cell_type": "code",
   "execution_count": 9,
   "metadata": {},
   "outputs": [],
   "source": [
    "proj = cw.create_project(\"passionayui.cwp\", overwrite=True)"
   ]
  },
  {
   "cell_type": "code",
   "execution_count": 10,
   "metadata": {},
   "outputs": [],
   "source": [
    "from tqdm.notebook import trange\n",
    "N_traces = 5000\n",
    "ktp = cw.ktp.Basic()\n",
    "ktp.fixed_key = False\n",
    "for k in range(10):\n",
    "    key = ktp.next_key()\n",
    "text = ktp.next_text()"
   ]
  },
  {
   "cell_type": "code",
   "execution_count": 11,
   "metadata": {},
   "outputs": [
    {
     "data": {
      "application/vnd.jupyter.widget-view+json": {
       "model_id": "9c678f88b77946379e04481e2137c34d",
       "version_major": 2,
       "version_minor": 0
      },
      "text/plain": [
       "  0%|          | 0/5000 [00:00<?, ?it/s]"
      ]
     },
     "metadata": {},
     "output_type": "display_data"
    }
   ],
   "source": [
    "for i in trange(N_traces):\n",
    "    trace = cw.capture_trace(scope, target, text, key)\n",
    "    proj.traces.append(trace)\n",
    "    text = ktp.next_text()"
   ]
  },
  {
   "cell_type": "code",
   "execution_count": 12,
   "metadata": {},
   "outputs": [],
   "source": [
    "proj.save()\n",
    "scope.dis()\n",
    "target.dis()"
   ]
  },
  {
   "cell_type": "code",
   "execution_count": 1,
   "metadata": {},
   "outputs": [],
   "source": [
    "import chipwhisperer as cw\n",
    "proj = cw.open_project(\"passionayui.cwp\")"
   ]
  },
  {
   "cell_type": "code",
   "execution_count": 2,
   "metadata": {},
   "outputs": [
    {
     "data": {
      "text/html": [
       "<style type=\"text/css\">\n",
       "#T_95f7e_row1_col0, #T_95f7e_row1_col1, #T_95f7e_row1_col2, #T_95f7e_row1_col3, #T_95f7e_row1_col4, #T_95f7e_row1_col5, #T_95f7e_row1_col6, #T_95f7e_row1_col7, #T_95f7e_row1_col8, #T_95f7e_row1_col9, #T_95f7e_row1_col10, #T_95f7e_row1_col11, #T_95f7e_row1_col12, #T_95f7e_row1_col13, #T_95f7e_row1_col14, #T_95f7e_row1_col15 {\n",
       "  color: red;\n",
       "}\n",
       "</style>\n",
       "<table id=\"T_95f7e_\">\n",
       "  <caption>Finished traces 4000 to 5000</caption>\n",
       "  <thead>\n",
       "    <tr>\n",
       "      <th class=\"blank level0\" >&nbsp;</th>\n",
       "      <th class=\"col_heading level0 col0\" >0</th>\n",
       "      <th class=\"col_heading level0 col1\" >1</th>\n",
       "      <th class=\"col_heading level0 col2\" >2</th>\n",
       "      <th class=\"col_heading level0 col3\" >3</th>\n",
       "      <th class=\"col_heading level0 col4\" >4</th>\n",
       "      <th class=\"col_heading level0 col5\" >5</th>\n",
       "      <th class=\"col_heading level0 col6\" >6</th>\n",
       "      <th class=\"col_heading level0 col7\" >7</th>\n",
       "      <th class=\"col_heading level0 col8\" >8</th>\n",
       "      <th class=\"col_heading level0 col9\" >9</th>\n",
       "      <th class=\"col_heading level0 col10\" >10</th>\n",
       "      <th class=\"col_heading level0 col11\" >11</th>\n",
       "      <th class=\"col_heading level0 col12\" >12</th>\n",
       "      <th class=\"col_heading level0 col13\" >13</th>\n",
       "      <th class=\"col_heading level0 col14\" >14</th>\n",
       "      <th class=\"col_heading level0 col15\" >15</th>\n",
       "    </tr>\n",
       "  </thead>\n",
       "  <tbody>\n",
       "    <tr>\n",
       "      <th id=\"T_95f7e_level0_row0\" class=\"row_heading level0 row0\" >PGE=</th>\n",
       "      <td id=\"T_95f7e_row0_col0\" class=\"data row0 col0\" >0</td>\n",
       "      <td id=\"T_95f7e_row0_col1\" class=\"data row0 col1\" >0</td>\n",
       "      <td id=\"T_95f7e_row0_col2\" class=\"data row0 col2\" >0</td>\n",
       "      <td id=\"T_95f7e_row0_col3\" class=\"data row0 col3\" >0</td>\n",
       "      <td id=\"T_95f7e_row0_col4\" class=\"data row0 col4\" >0</td>\n",
       "      <td id=\"T_95f7e_row0_col5\" class=\"data row0 col5\" >0</td>\n",
       "      <td id=\"T_95f7e_row0_col6\" class=\"data row0 col6\" >0</td>\n",
       "      <td id=\"T_95f7e_row0_col7\" class=\"data row0 col7\" >0</td>\n",
       "      <td id=\"T_95f7e_row0_col8\" class=\"data row0 col8\" >0</td>\n",
       "      <td id=\"T_95f7e_row0_col9\" class=\"data row0 col9\" >0</td>\n",
       "      <td id=\"T_95f7e_row0_col10\" class=\"data row0 col10\" >0</td>\n",
       "      <td id=\"T_95f7e_row0_col11\" class=\"data row0 col11\" >0</td>\n",
       "      <td id=\"T_95f7e_row0_col12\" class=\"data row0 col12\" >0</td>\n",
       "      <td id=\"T_95f7e_row0_col13\" class=\"data row0 col13\" >0</td>\n",
       "      <td id=\"T_95f7e_row0_col14\" class=\"data row0 col14\" >0</td>\n",
       "      <td id=\"T_95f7e_row0_col15\" class=\"data row0 col15\" >0</td>\n",
       "    </tr>\n",
       "    <tr>\n",
       "      <th id=\"T_95f7e_level0_row1\" class=\"row_heading level0 row1\" >0</th>\n",
       "      <td id=\"T_95f7e_row1_col0\" class=\"data row1 col0\" >C0<br>0.213</td>\n",
       "      <td id=\"T_95f7e_row1_col1\" class=\"data row1 col1\" >15<br>0.203</td>\n",
       "      <td id=\"T_95f7e_row1_col2\" class=\"data row1 col2\" >AC<br>0.220</td>\n",
       "      <td id=\"T_95f7e_row1_col3\" class=\"data row1 col3\" >61<br>0.183</td>\n",
       "      <td id=\"T_95f7e_row1_col4\" class=\"data row1 col4\" >DF<br>0.205</td>\n",
       "      <td id=\"T_95f7e_row1_col5\" class=\"data row1 col5\" >61<br>0.235</td>\n",
       "      <td id=\"T_95f7e_row1_col6\" class=\"data row1 col6\" >03<br>0.209</td>\n",
       "      <td id=\"T_95f7e_row1_col7\" class=\"data row1 col7\" >4D<br>0.194</td>\n",
       "      <td id=\"T_95f7e_row1_col8\" class=\"data row1 col8\" >CC<br>0.199</td>\n",
       "      <td id=\"T_95f7e_row1_col9\" class=\"data row1 col9\" >55<br>0.236</td>\n",
       "      <td id=\"T_95f7e_row1_col10\" class=\"data row1 col10\" >AE<br>0.201</td>\n",
       "      <td id=\"T_95f7e_row1_col11\" class=\"data row1 col11\" >3F<br>0.230</td>\n",
       "      <td id=\"T_95f7e_row1_col12\" class=\"data row1 col12\" >21<br>0.241</td>\n",
       "      <td id=\"T_95f7e_row1_col13\" class=\"data row1 col13\" >EA<br>0.193</td>\n",
       "      <td id=\"T_95f7e_row1_col14\" class=\"data row1 col14\" >85<br>0.193</td>\n",
       "      <td id=\"T_95f7e_row1_col15\" class=\"data row1 col15\" >58<br>0.262</td>\n",
       "    </tr>\n",
       "    <tr>\n",
       "      <th id=\"T_95f7e_level0_row2\" class=\"row_heading level0 row2\" >1</th>\n",
       "      <td id=\"T_95f7e_row2_col0\" class=\"data row2 col0\" >E1<br>0.064</td>\n",
       "      <td id=\"T_95f7e_row2_col1\" class=\"data row2 col1\" >F8<br>0.052</td>\n",
       "      <td id=\"T_95f7e_row2_col2\" class=\"data row2 col2\" >19<br>0.060</td>\n",
       "      <td id=\"T_95f7e_row2_col3\" class=\"data row2 col3\" >B5<br>0.059</td>\n",
       "      <td id=\"T_95f7e_row2_col4\" class=\"data row2 col4\" >D4<br>0.068</td>\n",
       "      <td id=\"T_95f7e_row2_col5\" class=\"data row2 col5\" >62<br>0.056</td>\n",
       "      <td id=\"T_95f7e_row2_col6\" class=\"data row2 col6\" >37<br>0.064</td>\n",
       "      <td id=\"T_95f7e_row2_col7\" class=\"data row2 col7\" >89<br>0.053</td>\n",
       "      <td id=\"T_95f7e_row2_col8\" class=\"data row2 col8\" >27<br>0.062</td>\n",
       "      <td id=\"T_95f7e_row2_col9\" class=\"data row2 col9\" >76<br>0.066</td>\n",
       "      <td id=\"T_95f7e_row2_col10\" class=\"data row2 col10\" >F3<br>0.058</td>\n",
       "      <td id=\"T_95f7e_row2_col11\" class=\"data row2 col11\" >69<br>0.059</td>\n",
       "      <td id=\"T_95f7e_row2_col12\" class=\"data row2 col12\" >01<br>0.068</td>\n",
       "      <td id=\"T_95f7e_row2_col13\" class=\"data row2 col13\" >47<br>0.056</td>\n",
       "      <td id=\"T_95f7e_row2_col14\" class=\"data row2 col14\" >0B<br>0.070</td>\n",
       "      <td id=\"T_95f7e_row2_col15\" class=\"data row2 col15\" >92<br>0.057</td>\n",
       "    </tr>\n",
       "    <tr>\n",
       "      <th id=\"T_95f7e_level0_row3\" class=\"row_heading level0 row3\" >2</th>\n",
       "      <td id=\"T_95f7e_row3_col0\" class=\"data row3 col0\" >53<br>0.062</td>\n",
       "      <td id=\"T_95f7e_row3_col1\" class=\"data row3 col1\" >D3<br>0.052</td>\n",
       "      <td id=\"T_95f7e_row3_col2\" class=\"data row3 col2\" >E8<br>0.060</td>\n",
       "      <td id=\"T_95f7e_row3_col3\" class=\"data row3 col3\" >3E<br>0.054</td>\n",
       "      <td id=\"T_95f7e_row3_col4\" class=\"data row3 col4\" >FC<br>0.063</td>\n",
       "      <td id=\"T_95f7e_row3_col5\" class=\"data row3 col5\" >F4<br>0.055</td>\n",
       "      <td id=\"T_95f7e_row3_col6\" class=\"data row3 col6\" >ED<br>0.061</td>\n",
       "      <td id=\"T_95f7e_row3_col7\" class=\"data row3 col7\" >05<br>0.053</td>\n",
       "      <td id=\"T_95f7e_row3_col8\" class=\"data row3 col8\" >A8<br>0.056</td>\n",
       "      <td id=\"T_95f7e_row3_col9\" class=\"data row3 col9\" >BD<br>0.059</td>\n",
       "      <td id=\"T_95f7e_row3_col10\" class=\"data row3 col10\" >AB<br>0.056</td>\n",
       "      <td id=\"T_95f7e_row3_col11\" class=\"data row3 col11\" >A4<br>0.055</td>\n",
       "      <td id=\"T_95f7e_row3_col12\" class=\"data row3 col12\" >09<br>0.062</td>\n",
       "      <td id=\"T_95f7e_row3_col13\" class=\"data row3 col13\" >BB<br>0.055</td>\n",
       "      <td id=\"T_95f7e_row3_col14\" class=\"data row3 col14\" >F6<br>0.061</td>\n",
       "      <td id=\"T_95f7e_row3_col15\" class=\"data row3 col15\" >6A<br>0.057</td>\n",
       "    </tr>\n",
       "    <tr>\n",
       "      <th id=\"T_95f7e_level0_row4\" class=\"row_heading level0 row4\" >3</th>\n",
       "      <td id=\"T_95f7e_row4_col0\" class=\"data row4 col0\" >A2<br>0.057</td>\n",
       "      <td id=\"T_95f7e_row4_col1\" class=\"data row4 col1\" >0C<br>0.051</td>\n",
       "      <td id=\"T_95f7e_row4_col2\" class=\"data row4 col2\" >D8<br>0.058</td>\n",
       "      <td id=\"T_95f7e_row4_col3\" class=\"data row4 col3\" >AD<br>0.054</td>\n",
       "      <td id=\"T_95f7e_row4_col4\" class=\"data row4 col4\" >79<br>0.063</td>\n",
       "      <td id=\"T_95f7e_row4_col5\" class=\"data row4 col5\" >D0<br>0.053</td>\n",
       "      <td id=\"T_95f7e_row4_col6\" class=\"data row4 col6\" >8D<br>0.061</td>\n",
       "      <td id=\"T_95f7e_row4_col7\" class=\"data row4 col7\" >30<br>0.052</td>\n",
       "      <td id=\"T_95f7e_row4_col8\" class=\"data row4 col8\" >ED<br>0.055</td>\n",
       "      <td id=\"T_95f7e_row4_col9\" class=\"data row4 col9\" >C2<br>0.058</td>\n",
       "      <td id=\"T_95f7e_row4_col10\" class=\"data row4 col10\" >30<br>0.054</td>\n",
       "      <td id=\"T_95f7e_row4_col11\" class=\"data row4 col11\" >F4<br>0.054</td>\n",
       "      <td id=\"T_95f7e_row4_col12\" class=\"data row4 col12\" >65<br>0.060</td>\n",
       "      <td id=\"T_95f7e_row4_col13\" class=\"data row4 col13\" >6A<br>0.054</td>\n",
       "      <td id=\"T_95f7e_row4_col14\" class=\"data row4 col14\" >33<br>0.056</td>\n",
       "      <td id=\"T_95f7e_row4_col15\" class=\"data row4 col15\" >AB<br>0.053</td>\n",
       "    </tr>\n",
       "    <tr>\n",
       "      <th id=\"T_95f7e_level0_row5\" class=\"row_heading level0 row5\" >4</th>\n",
       "      <td id=\"T_95f7e_row5_col0\" class=\"data row5 col0\" >6C<br>0.056</td>\n",
       "      <td id=\"T_95f7e_row5_col1\" class=\"data row5 col1\" >9D<br>0.050</td>\n",
       "      <td id=\"T_95f7e_row5_col2\" class=\"data row5 col2\" >B1<br>0.057</td>\n",
       "      <td id=\"T_95f7e_row5_col3\" class=\"data row5 col3\" >45<br>0.051</td>\n",
       "      <td id=\"T_95f7e_row5_col4\" class=\"data row5 col4\" >5A<br>0.061</td>\n",
       "      <td id=\"T_95f7e_row5_col5\" class=\"data row5 col5\" >67<br>0.051</td>\n",
       "      <td id=\"T_95f7e_row5_col6\" class=\"data row5 col6\" >E9<br>0.053</td>\n",
       "      <td id=\"T_95f7e_row5_col7\" class=\"data row5 col7\" >F1<br>0.051</td>\n",
       "      <td id=\"T_95f7e_row5_col8\" class=\"data row5 col8\" >70<br>0.055</td>\n",
       "      <td id=\"T_95f7e_row5_col9\" class=\"data row5 col9\" >06<br>0.057</td>\n",
       "      <td id=\"T_95f7e_row5_col10\" class=\"data row5 col10\" >46<br>0.054</td>\n",
       "      <td id=\"T_95f7e_row5_col11\" class=\"data row5 col11\" >B2<br>0.053</td>\n",
       "      <td id=\"T_95f7e_row5_col12\" class=\"data row5 col12\" >63<br>0.060</td>\n",
       "      <td id=\"T_95f7e_row5_col13\" class=\"data row5 col13\" >AE<br>0.053</td>\n",
       "      <td id=\"T_95f7e_row5_col14\" class=\"data row5 col14\" >21<br>0.055</td>\n",
       "      <td id=\"T_95f7e_row5_col15\" class=\"data row5 col15\" >BD<br>0.052</td>\n",
       "    </tr>\n",
       "  </tbody>\n",
       "</table>\n"
      ],
      "text/plain": [
       "<pandas.io.formats.style.Styler at 0x7fab70238c10>"
      ]
     },
     "metadata": {},
     "output_type": "display_data"
    }
   ],
   "source": [
    "import chipwhisperer.analyzer as cwa \n",
    "leak_model = cwa.leakage_models.last_round_state_diff\n",
    "attack = cwa.cpa(proj, leak_model)\n",
    "results = attack.run(cwa.get_jupyter_callback(attack), update_interval=1000)"
   ]
  },
  {
   "cell_type": "code",
   "execution_count": 2,
   "metadata": {},
   "outputs": [
    {
     "name": "stderr",
     "output_type": "stream",
     "text": [
      "2022-01-08 00:28:08,331 - lascar.session - INFO - Session Session: 5000 traces, 18 engines, batch_size=1000, leakage_shape=(129,)\n",
      "INFO:lascar.session:Session Session: 5000 traces, 18 engines, batch_size=1000, leakage_shape=(129,)\n",
      "Session |  0%||0 trc/5000 | (18 engines, batch_size=1000, leakage_shape=(129,)) |ETA:  --:--:--"
     ]
    },
    {
     "name": "stdout",
     "output_type": "stream",
     "text": [
      "========================================\n",
      "Debug:\n",
      "1000\n"
     ]
    },
    {
     "name": "stderr",
     "output_type": "stream",
     "text": [
      "Session |100%||5000 trc/5000 | (18 engines, batch_size=1000, leakage_shape=(129,)) |Time:  0:00:14\n"
     ]
    }
   ],
   "source": [
    "import chipwhisperer.common.api.lascar as cw_lascar\n",
    "from lascar import *\n",
    "cw_container = cw_lascar.CWContainer(proj, proj.textouts) #the attack only needs the cipherout, since we neeed to calculate the Hamming Distance between state10(cihper out) and state9(penultimate)\n",
    "guess_range = range(256)\n",
    "leakage = cw_lascar.lastround_HD_gen\n",
    "cpa_engines = [CpaEngine(\"cpa_%02d\" % i, leakage(i), guess_range) for i in range(16)]\n",
    "session = Session(cw_container, engines=cpa_engines).run(batch_size=1000)\n",
    "\n",
    "rec_key_10r = []\n",
    "for i in range(16):\n",
    "    results = cpa_engines[i].finalize()\n",
    "    guess = abs(results).max(1).argmax()\n",
    "    rec_key_10r.append(guess)\n",
    "\n"
   ]
  },
  {
   "cell_type": "code",
   "execution_count": 8,
   "metadata": {},
   "outputs": [
    {
     "name": "stdout",
     "output_type": "stream",
     "text": [
      "CWbytearray(b'05 42 7c 28 a5 f3 4d f6 8b d5 92 b7 ab 39 08 38')\n"
     ]
    }
   ],
   "source": [
    "from chipwhisperer.analyzer.utils.aes_funcs import key_schedule_rounds\n",
    "# rec_key_10r = results.key_guess() #uncomment this if you use cwa.leakage_models instead of LASCAR\n",
    "rec_key = key_schedule_rounds(rec_key_10r, 10, 0)\n",
    "rec_key = bytearray(rec_key)\n",
    "assert (rec_key == bytearray(proj.keys[0]))\n",
    "# print(bytearray(proj.keys[0]))"
   ]
  }
 ],
 "metadata": {
  "interpreter": {
   "hash": "32418f85d113f99b04e03edad7bf751ad9f6786622ba07a0441eaf9578861fee"
  },
  "kernelspec": {
   "display_name": "Python 3.7.12 64-bit ('venv': venv)",
   "language": "python",
   "name": "python3"
  },
  "language_info": {
   "codemirror_mode": {
    "name": "ipython",
    "version": 3
   },
   "file_extension": ".py",
   "mimetype": "text/x-python",
   "name": "python",
   "nbconvert_exporter": "python",
   "pygments_lexer": "ipython3",
   "version": "3.7.12"
  },
  "orig_nbformat": 4
 },
 "nbformat": 4,
 "nbformat_minor": 2
}
