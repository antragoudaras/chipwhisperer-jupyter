{
 "cells": [
  {
   "cell_type": "code",
   "execution_count": 1,
   "metadata": {},
   "outputs": [],
   "source": [
    "SCOPETYPE = 'OPENADC'\n",
    "PLATFORM = 'CWLITEXMEGA'"
   ]
  },
  {
   "cell_type": "code",
   "execution_count": 2,
   "metadata": {},
   "outputs": [
    {
     "name": "stdout",
     "output_type": "stream",
     "text": [
      "INFO: Found ChipWhisperer😍\n"
     ]
    }
   ],
   "source": [
    "%run \"../../Setup_Scripts/Setup_Generic.ipynb\""
   ]
  },
  {
   "cell_type": "code",
   "execution_count": 3,
   "metadata": {},
   "outputs": [
    {
     "name": "stdout",
     "output_type": "stream",
     "text": [
      "SS_VER set to SS_VER_1_1\n",
      "rm -f -- bootloader-aes256-CWLITEXMEGA.hex\n",
      "rm -f -- bootloader-aes256-CWLITEXMEGA.eep\n",
      "rm -f -- bootloader-aes256-CWLITEXMEGA.cof\n",
      "rm -f -- bootloader-aes256-CWLITEXMEGA.elf\n",
      "rm -f -- bootloader-aes256-CWLITEXMEGA.map\n",
      "rm -f -- bootloader-aes256-CWLITEXMEGA.sym\n",
      "rm -f -- bootloader-aes256-CWLITEXMEGA.lss\n",
      "rm -f -- objdir-CWLITEXMEGA/*.o\n",
      "rm -f -- objdir-CWLITEXMEGA/*.lst\n",
      "rm -f -- bootloader.s aes256.s crcccitt.s simpleserial.s XMEGA_AES_driver.s uart.s usart_driver.s xmega_hal.s\n",
      "rm -f -- bootloader.d aes256.d crcccitt.d simpleserial.d XMEGA_AES_driver.d uart.d usart_driver.d xmega_hal.d\n",
      "rm -f -- bootloader.i aes256.i crcccitt.i simpleserial.i XMEGA_AES_driver.i uart.i usart_driver.i xmega_hal.i\n",
      ".\n",
      "Welcome to another exciting ChipWhisperer target build!!\n",
      "avr-gcc (GCC) 5.4.0\n",
      "Copyright (C) 2015 Free Software Foundation, Inc.\n",
      "This is free software; see the source for copying conditions.  There is NO\n",
      "warranty; not even for MERCHANTABILITY or FITNESS FOR A PARTICULAR PURPOSE.\n",
      "\n",
      ".\n",
      "Compiling C: bootloader.c\n",
      "avr-gcc -c -mmcu=atxmega128d3 -I. -fpack-struct -gdwarf-2 -DSS_VER=SS_VER_1_1 -DHAL_TYPE=HAL_xmega -DPLATFORM=CWLITEXMEGA -DF_CPU=7372800UL -DSS_VER_2_0=2 -DSS_VER_2_1=3 -DSS_VER_1_1=1 -DSS_VER_1_0=0 -Os -funsigned-char -funsigned-bitfields -fshort-enums -Wall -Wstrict-prototypes -Wa,-adhlns=objdir-CWLITEXMEGA/bootloader.lst -I.././simpleserial/ -I.././hal -I.././hal/xmega -I.././crypto/ -std=gnu99  -MMD -MP -MF .dep/bootloader.o.d bootloader.c -o objdir-CWLITEXMEGA/bootloader.o\n",
      ".\n",
      "Compiling C: aes256.c\n",
      "avr-gcc -c -mmcu=atxmega128d3 -I. -fpack-struct -gdwarf-2 -DSS_VER=SS_VER_1_1 -DHAL_TYPE=HAL_xmega -DPLATFORM=CWLITEXMEGA -DF_CPU=7372800UL -DSS_VER_2_0=2 -DSS_VER_2_1=3 -DSS_VER_1_1=1 -DSS_VER_1_0=0 -Os -funsigned-char -funsigned-bitfields -fshort-enums -Wall -Wstrict-prototypes -Wa,-adhlns=objdir-CWLITEXMEGA/aes256.lst -I.././simpleserial/ -I.././hal -I.././hal/xmega -I.././crypto/ -std=gnu99  -MMD -MP -MF .dep/aes256.o.d aes256.c -o objdir-CWLITEXMEGA/aes256.o\n",
      ".\n",
      "Compiling C: crcccitt.c\n",
      "avr-gcc -c -mmcu=atxmega128d3 -I. -fpack-struct -gdwarf-2 -DSS_VER=SS_VER_1_1 -DHAL_TYPE=HAL_xmega -DPLATFORM=CWLITEXMEGA -DF_CPU=7372800UL -DSS_VER_2_0=2 -DSS_VER_2_1=3 -DSS_VER_1_1=1 -DSS_VER_1_0=0 -Os -funsigned-char -funsigned-bitfields -fshort-enums -Wall -Wstrict-prototypes -Wa,-adhlns=objdir-CWLITEXMEGA/crcccitt.lst -I.././simpleserial/ -I.././hal -I.././hal/xmega -I.././crypto/ -std=gnu99  -MMD -MP -MF .dep/crcccitt.o.d crcccitt.c -o objdir-CWLITEXMEGA/crcccitt.o\n",
      ".\n",
      "Compiling C: .././simpleserial/simpleserial.c\n",
      "avr-gcc -c -mmcu=atxmega128d3 -I. -fpack-struct -gdwarf-2 -DSS_VER=SS_VER_1_1 -DHAL_TYPE=HAL_xmega -DPLATFORM=CWLITEXMEGA -DF_CPU=7372800UL -DSS_VER_2_0=2 -DSS_VER_2_1=3 -DSS_VER_1_1=1 -DSS_VER_1_0=0 -Os -funsigned-char -funsigned-bitfields -fshort-enums -Wall -Wstrict-prototypes -Wa,-adhlns=objdir-CWLITEXMEGA/simpleserial.lst -I.././simpleserial/ -I.././hal -I.././hal/xmega -I.././crypto/ -std=gnu99  -MMD -MP -MF .dep/simpleserial.o.d .././simpleserial/simpleserial.c -o objdir-CWLITEXMEGA/simpleserial.o\n",
      ".\n",
      "Compiling C: .././hal/xmega/XMEGA_AES_driver.c\n",
      "avr-gcc -c -mmcu=atxmega128d3 -I. -fpack-struct -gdwarf-2 -DSS_VER=SS_VER_1_1 -DHAL_TYPE=HAL_xmega -DPLATFORM=CWLITEXMEGA -DF_CPU=7372800UL -DSS_VER_2_0=2 -DSS_VER_2_1=3 -DSS_VER_1_1=1 -DSS_VER_1_0=0 -Os -funsigned-char -funsigned-bitfields -fshort-enums -Wall -Wstrict-prototypes -Wa,-adhlns=objdir-CWLITEXMEGA/XMEGA_AES_driver.lst -I.././simpleserial/ -I.././hal -I.././hal/xmega -I.././crypto/ -std=gnu99  -MMD -MP -MF .dep/XMEGA_AES_driver.o.d .././hal/xmega/XMEGA_AES_driver.c -o objdir-CWLITEXMEGA/XMEGA_AES_driver.o\n",
      ".\n",
      "Compiling C: .././hal/xmega/uart.c\n",
      "avr-gcc -c -mmcu=atxmega128d3 -I. -fpack-struct -gdwarf-2 -DSS_VER=SS_VER_1_1 -DHAL_TYPE=HAL_xmega -DPLATFORM=CWLITEXMEGA -DF_CPU=7372800UL -DSS_VER_2_0=2 -DSS_VER_2_1=3 -DSS_VER_1_1=1 -DSS_VER_1_0=0 -Os -funsigned-char -funsigned-bitfields -fshort-enums -Wall -Wstrict-prototypes -Wa,-adhlns=objdir-CWLITEXMEGA/uart.lst -I.././simpleserial/ -I.././hal -I.././hal/xmega -I.././crypto/ -std=gnu99  -MMD -MP -MF .dep/uart.o.d .././hal/xmega/uart.c -o objdir-CWLITEXMEGA/uart.o\n",
      ".\n",
      "Compiling C: .././hal/xmega/usart_driver.c\n",
      "avr-gcc -c -mmcu=atxmega128d3 -I. -fpack-struct -gdwarf-2 -DSS_VER=SS_VER_1_1 -DHAL_TYPE=HAL_xmega -DPLATFORM=CWLITEXMEGA -DF_CPU=7372800UL -DSS_VER_2_0=2 -DSS_VER_2_1=3 -DSS_VER_1_1=1 -DSS_VER_1_0=0 -Os -funsigned-char -funsigned-bitfields -fshort-enums -Wall -Wstrict-prototypes -Wa,-adhlns=objdir-CWLITEXMEGA/usart_driver.lst -I.././simpleserial/ -I.././hal -I.././hal/xmega -I.././crypto/ -std=gnu99  -MMD -MP -MF .dep/usart_driver.o.d .././hal/xmega/usart_driver.c -o objdir-CWLITEXMEGA/usart_driver.o\n",
      ".\n",
      "Compiling C: .././hal/xmega/xmega_hal.c\n",
      "avr-gcc -c -mmcu=atxmega128d3 -I. -fpack-struct -gdwarf-2 -DSS_VER=SS_VER_1_1 -DHAL_TYPE=HAL_xmega -DPLATFORM=CWLITEXMEGA -DF_CPU=7372800UL -DSS_VER_2_0=2 -DSS_VER_2_1=3 -DSS_VER_1_1=1 -DSS_VER_1_0=0 -Os -funsigned-char -funsigned-bitfields -fshort-enums -Wall -Wstrict-prototypes -Wa,-adhlns=objdir-CWLITEXMEGA/xmega_hal.lst -I.././simpleserial/ -I.././hal -I.././hal/xmega -I.././crypto/ -std=gnu99  -MMD -MP -MF .dep/xmega_hal.o.d .././hal/xmega/xmega_hal.c -o objdir-CWLITEXMEGA/xmega_hal.o\n",
      ".\n",
      "Linking: bootloader-aes256-CWLITEXMEGA.elf\n",
      "avr-gcc -mmcu=atxmega128d3 -I. -fpack-struct -gdwarf-2 -DSS_VER=SS_VER_1_1 -DHAL_TYPE=HAL_xmega -DPLATFORM=CWLITEXMEGA -DF_CPU=7372800UL -DSS_VER_2_0=2 -DSS_VER_2_1=3 -DSS_VER_1_1=1 -DSS_VER_1_0=0 -Os -funsigned-char -funsigned-bitfields -fshort-enums -Wall -Wstrict-prototypes -Wa,-adhlns=objdir-CWLITEXMEGA/bootloader.o -I.././simpleserial/ -I.././hal -I.././hal/xmega -I.././crypto/ -std=gnu99  -MMD -MP -MF .dep/bootloader-aes256-CWLITEXMEGA.elf.d objdir-CWLITEXMEGA/bootloader.o objdir-CWLITEXMEGA/aes256.o objdir-CWLITEXMEGA/crcccitt.o objdir-CWLITEXMEGA/simpleserial.o objdir-CWLITEXMEGA/XMEGA_AES_driver.o objdir-CWLITEXMEGA/uart.o objdir-CWLITEXMEGA/usart_driver.o objdir-CWLITEXMEGA/xmega_hal.o --output bootloader-aes256-CWLITEXMEGA.elf -Wl,-Map=bootloader-aes256-CWLITEXMEGA.map,--cref   -lm  \n",
      ".\n",
      "Creating load file for Flash: bootloader-aes256-CWLITEXMEGA.hex\n",
      "avr-objcopy -O ihex -R .eeprom -R .fuse -R .lock -R .signature bootloader-aes256-CWLITEXMEGA.elf bootloader-aes256-CWLITEXMEGA.hex\n",
      ".\n",
      "Creating load file for EEPROM: bootloader-aes256-CWLITEXMEGA.eep\n",
      "avr-objcopy -j .eeprom --set-section-flags=.eeprom=\"alloc,load\" \\\n",
      "--change-section-lma .eeprom=0 --no-change-warnings -O ihex bootloader-aes256-CWLITEXMEGA.elf bootloader-aes256-CWLITEXMEGA.eep || exit 0\n",
      ".\n",
      "Creating Extended Listing: bootloader-aes256-CWLITEXMEGA.lss\n",
      "avr-objdump -h -S -z bootloader-aes256-CWLITEXMEGA.elf > bootloader-aes256-CWLITEXMEGA.lss\n",
      ".\n",
      "Creating Symbol Table: bootloader-aes256-CWLITEXMEGA.sym\n",
      "avr-nm -n bootloader-aes256-CWLITEXMEGA.elf > bootloader-aes256-CWLITEXMEGA.sym\n",
      "Size after:\n",
      "   text\t   data\t    bss\t    dec\t    hex\tfilename\n",
      "   4166\t     64\t   1127\t   5357\t   14ed\tbootloader-aes256-CWLITEXMEGA.elf\n",
      "+--------------------------------------------------------\n",
      "+ Default target does full rebuild each time.\n",
      "+ Specify buildtarget == allquick == to avoid full rebuild\n",
      "+--------------------------------------------------------\n",
      "+--------------------------------------------------------\n",
      "+ Built for platform CW-Lite XMEGA with:\n",
      "+ CRYPTO_TARGET = NONE\n",
      "+ CRYPTO_OPTIONS = NONE\n",
      "+--------------------------------------------------------\n"
     ]
    }
   ],
   "source": [
    "%%bash -s \"$PLATFORM\"\n",
    "cd ../../../hardware/victims/firmware/bootloader-aes256/\n",
    "make PLATFORM=$1 CRYPTO_TARGET=NONE"
   ]
  },
  {
   "cell_type": "code",
   "execution_count": 4,
   "metadata": {},
   "outputs": [
    {
     "name": "stdout",
     "output_type": "stream",
     "text": [
      "XMEGA Programming flash...\n",
      "XMEGA Reading flash...\n",
      "Verified flash OK, 4229 bytes\n"
     ]
    }
   ],
   "source": [
    "fw_path = \"../../../hardware/victims/firmware/bootloader-aes256/bootloader-aes256-{}.hex\".format(PLATFORM)\n",
    "cw.program_target(scope, prog, fw_path)"
   ]
  },
  {
   "cell_type": "code",
   "execution_count": 5,
   "metadata": {},
   "outputs": [],
   "source": [
    "# Class Crc\n",
    "#############################################################\n",
    "# These CRC routines are copy-pasted from pycrc, which are:\n",
    "# Copyright (c) 2006-2013 Thomas Pircher <tehpeh@gmx.net>\n",
    "#\n",
    "class Crc(object):\n",
    "    \"\"\"\n",
    "    A base class for CRC routines.\n",
    "    \"\"\"\n",
    "\n",
    "    def __init__(self, width, poly):\n",
    "        \"\"\"The Crc constructor.\n",
    "\n",
    "        The parameters are as follows:\n",
    "            width\n",
    "            poly\n",
    "            reflect_in\n",
    "            xor_in\n",
    "            reflect_out\n",
    "            xor_out\n",
    "        \"\"\"\n",
    "        self.Width = width\n",
    "        self.Poly = poly\n",
    "\n",
    "\n",
    "        self.MSB_Mask = 0x1 << (self.Width - 1)\n",
    "        self.Mask = ((self.MSB_Mask - 1) << 1) | 1\n",
    "\n",
    "        self.XorIn = 0x0000\n",
    "        self.XorOut = 0x0000\n",
    "\n",
    "        self.DirectInit = self.XorIn\n",
    "        self.NonDirectInit = self.__get_nondirect_init(self.XorIn)\n",
    "        if self.Width < 8:\n",
    "            self.CrcShift = 8 - self.Width\n",
    "        else:\n",
    "            self.CrcShift = 0\n",
    "\n",
    "    def __get_nondirect_init(self, init):\n",
    "        \"\"\"\n",
    "        return the non-direct init if the direct algorithm has been selected.\n",
    "        \"\"\"\n",
    "        crc = init\n",
    "        for i in range(self.Width):\n",
    "            bit = crc & 0x01\n",
    "            if bit:\n",
    "                crc ^= self.Poly\n",
    "            crc >>= 1\n",
    "            if bit:\n",
    "                crc |= self.MSB_Mask\n",
    "        return crc & self.Mask\n",
    "\n",
    "\n",
    "    def bit_by_bit(self, in_data):\n",
    "        \"\"\"\n",
    "        Classic simple and slow CRC implementation.  This function iterates bit\n",
    "        by bit over the augmented input message and returns the calculated CRC\n",
    "        value at the end.\n",
    "        \"\"\"\n",
    "        # If the input data is a string, convert to bytes.\n",
    "        if isinstance(in_data, str):\n",
    "            in_data = [ord(c) for c in in_data]\n",
    "\n",
    "        register = self.NonDirectInit\n",
    "        for octet in in_data:\n",
    "            for i in range(8):\n",
    "                topbit = register & self.MSB_Mask\n",
    "                register = ((register << 1) & self.Mask) | ((octet >> (7 - i)) & 0x01)\n",
    "                if topbit:\n",
    "                    register ^= self.Poly\n",
    "\n",
    "        for i in range(self.Width):\n",
    "            topbit = register & self.MSB_Mask\n",
    "            register = ((register << 1) & self.Mask)\n",
    "            if topbit:\n",
    "                register ^= self.Poly\n",
    "\n",
    "        return register ^ self.XorOut\n",
    "    \n",
    "bl_crc = Crc(width = 16, poly=0x1021)"
   ]
  },
  {
   "cell_type": "code",
   "execution_count": 6,
   "metadata": {},
   "outputs": [
    {
     "data": {
      "text/plain": [
       "'0x12'"
      ]
     },
     "execution_count": 6,
     "metadata": {},
     "output_type": "execute_result"
    }
   ],
   "source": [
    "hex((bl_crc.bit_by_bit([0x10]) >> 8) & 0xFF)"
   ]
  },
  {
   "cell_type": "code",
   "execution_count": 7,
   "metadata": {},
   "outputs": [],
   "source": [
    "import time"
   ]
  },
  {
   "cell_type": "code",
   "execution_count": 8,
   "metadata": {},
   "outputs": [],
   "source": [
    "ktp = cw.ktp.Basic()"
   ]
  },
  {
   "cell_type": "code",
   "execution_count": 14,
   "metadata": {},
   "outputs": [
    {
     "name": "stdout",
     "output_type": "stream",
     "text": [
      "Response A4\n"
     ]
    }
   ],
   "source": [
    "okay = 0\n",
    "while not okay:\n",
    "    target.write('\\0xxxxxxxxxxxxxxxxxx')\n",
    "    time.sleep(0.005)\n",
    "    response = target.read()\n",
    "    if ord(response[0]) != 0xA4:\n",
    "        okay = 1\n",
    "target.read()\n",
    "\n",
    "msg = [0x00]\n",
    "key, text = ktp.new_pair()\n",
    "msg.extend(text)\n",
    "crc = bl_crc.bit_by_bit(text)\n",
    "msg.append(crc >> 8)\n",
    "msg.append(crc & 0xFF)\n",
    "\n",
    "target.write(msg)\n",
    "time.sleep(0.01)\n",
    "response = target.read()\n",
    "# print(response)\n",
    "if(response):\n",
    "    print(\"Response {:X}\".format(ord(response[0])))\n",
    "\n"
   ]
  }
 ],
 "metadata": {
  "interpreter": {
   "hash": "32418f85d113f99b04e03edad7bf751ad9f6786622ba07a0441eaf9578861fee"
  },
  "kernelspec": {
   "display_name": "Python 3.7.12 64-bit ('venv': venv)",
   "language": "python",
   "name": "python3"
  },
  "language_info": {
   "codemirror_mode": {
    "name": "ipython",
    "version": 3
   },
   "file_extension": ".py",
   "mimetype": "text/x-python",
   "name": "python",
   "nbconvert_exporter": "python",
   "pygments_lexer": "ipython3",
   "version": "3.7.12"
  },
  "orig_nbformat": 4
 },
 "nbformat": 4,
 "nbformat_minor": 2
}
