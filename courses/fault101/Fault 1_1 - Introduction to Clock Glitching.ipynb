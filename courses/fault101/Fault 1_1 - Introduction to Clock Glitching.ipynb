{
 "cells": [
  {
   "cell_type": "markdown",
   "metadata": {},
   "source": [
    "# Part 1, Topic 1: Introduction to Clock Glitching (MAIN)"
   ]
  },
  {
   "cell_type": "markdown",
   "metadata": {},
   "source": [
    "---\n",
    "NOTE: This lab references some (commercial) training material on [ChipWhisperer.io](https://www.ChipWhisperer.io). You can freely execute and use the lab per the open-source license (including using it in your own courses if you distribute similarly), but you must maintain notice about this source location. Consider joining our training course to enjoy the full experience.\n",
    "\n",
    "---"
   ]
  },
  {
   "cell_type": "markdown",
   "metadata": {},
   "source": [
    "**SUMMARY:** *Microcontrollers and FPGAs have a number of operating conditions that must be met in order for the device to work properly. Outside of these conditions, devices will begin to malfunction, with more extreme violations causing the device to stop entirely or even become damaged. By going outside these operating conditions for very small amounts of time, we can cause a varitey of temporary malfunctions*\n",
    "\n",
    "*In this lab, we'll explore clock glitching, which inserts short glitches into a device's clock. This will be used to get a target that's summing numbers in a loop to arrive at the wrong result.*\n",
    "\n",
    "**LEARNING OUTCOMES:**\n",
    "\n",
    "* Understand effects of clock glitching\n",
    "* Exploring ChipWhisperer's glitch module\n",
    "* Using clock glitching to disrupt a target's algorithm"
   ]
  },
  {
   "cell_type": "markdown",
   "metadata": {},
   "source": [
    "## Clock Glitching Theory\n",
    "\n",
    "Digital hardware devices almost always expect some form of reliable clock. We can manipulate the clock being presented to the device to cause unintended behaviour. We'll be concentrating on microcontrollers here, however other digital devices (e.g. hardware encryption accelerators) can also have faults injected using this technique.\n",
    "\n",
    "Consider a microcontroller first. The following figure is an excerpt from the Atmel AVR ATMega328P datasheet:\n",
    "\n",
    "![A2_1](img/Mcu-unglitched.png)\n",
    "\n",
    "Rather than loading each instruction from FLASH and performing the entire execution, the system has a pipeline to speed up the execution process. This means that an instruction is being decoded while the next one is being retrieved, as the following diagram shows:\n",
    "\n",
    "![A2_2](img/Clock-normal.png)\n",
    "\n",
    "But if we modify the clock, we could have a situation where the system doesn't have enough time to actually perform an instruction. Consider the following, where Execute #1 is effectively skipped. Before the system has time to actually execute it another clock edge comes, causing the microcontroller to start execution of the next instruction:\n",
    "\n",
    "![A2_3](img/Clock-glitched.png)\n",
    "\n",
    "This causes the microcontroller to skip an instruction. Such attacks can be immensely powerful in practice. Consider for example the following code from `linux-util-2.24`:\n",
    "\n",
    "```C\n",
    "/*\n",
    " *   auth.c -- PAM authorization code, common between chsh and chfn\n",
    " *   (c) 2012 by Cody Maloney <cmaloney@theoreticalchaos.com>\n",
    " *\n",
    " *   this program is free software.  you can redistribute it and\n",
    " *   modify it under the terms of the gnu general public license.\n",
    " *   there is no warranty.\n",
    " *\n",
    " */\n",
    "\n",
    "#include \"auth.h\"\n",
    "#include \"pamfail.h\"\n",
    "\n",
    "int auth_pam(const char *service_name, uid_t uid, const char *username)\n",
    "{\n",
    "    if (uid != 0) {\n",
    "        pam_handle_t *pamh = NULL;\n",
    "        struct pam_conv conv = { misc_conv, NULL };\n",
    "        int retcode;\n",
    "\n",
    "        retcode = pam_start(service_name, username, &conv, &pamh);\n",
    "        if (pam_fail_check(pamh, retcode))\n",
    "            return FALSE;\n",
    "\n",
    "        retcode = pam_authenticate(pamh, 0);\n",
    "        if (pam_fail_check(pamh, retcode))\n",
    "            return FALSE;\n",
    "\n",
    "        retcode = pam_acct_mgmt(pamh, 0);\n",
    "        if (retcode == PAM_NEW_AUTHTOK_REQD)\n",
    "            retcode =\n",
    "                pam_chauthtok(pamh, PAM_CHANGE_EXPIRED_AUTHTOK);\n",
    "        if (pam_fail_check(pamh, retcode))\n",
    "            return FALSE;\n",
    "\n",
    "        retcode = pam_setcred(pamh, 0);\n",
    "        if (pam_fail_check(pamh, retcode))\n",
    "            return FALSE;\n",
    "\n",
    "        pam_end(pamh, 0);\n",
    "        /* no need to establish a session; this isn't a\n",
    "         * session-oriented activity...  */\n",
    "    }\n",
    "    return TRUE;\n",
    "}\n",
    "```\n",
    "\n",
    "This is the login code for the Linux OS. Note that if we could skip the check of `if (uid != 0)` and simply branch to the end, we could avoid having to enter a password. This is the power of glitch attacks - not that we are breaking encryption, but simply bypassing the entire authentication module! \n",
    "\n",
    "### Glitch Hardware\n",
    "\n",
    "The ChipWhisperer Glitch system uses the same synchronous methodology as its Side Channel Analysis (SCA) capture. A system clock (which can come from either the ChipWhisperer or the Device Under Test (DUT)) is used to generate the glitches. These glitches are then inserted back into the clock, although it's possible to use the glitches alone for other purposes (i.e. for voltage glitching, EM glitching).\n",
    "\n",
    "The generation of glitches is done with two variable phase shift modules, configured as follows:\n",
    "\n",
    "![A2_4](img/Glitchgen-phaseshift.png)\n",
    "\n",
    "The enable line is used to determine when glitches are inserted. Glitches can be inserted continuously (useful for development) or triggered by some event. The following figure shows how the glitch can be muxd to output to the Device Under Test (DUT).\n",
    "\n",
    "![A2_5](img/Glitchgen-mux.png)\n",
    "\n",
    "### Hardware Support\n",
    "\n",
    "The phase shift blocks use the Digital Clock Manager (DCM) blocks within the FPGA. These blocks have limited support for run-time configuration of parameters such as phase delay and frequency generation, and for maximum performance the configuration must be fixed at design time. The Xilinx-provided run-time adjustment can shift the phase only by about +/- 5nS in 30pS increments (exact values vary with operating conditions).\n",
    "\n",
    "For most operating conditions this is insufficient - if attacking a target at 7.37MHz the clock cycle would have a period of 136nS. In order to provide a larger adjustment range, an advanced FPGA feature called Partial Reconfiguration (PR) is used. The PR system requires special partial bitstreams which contain modifications to the FPGA bitstream. These are stored as two files inside a \"firmware\" zip which contains both the FPGA bitstream along with a file called `glitchwidth.p` and a file called `glitchoffset.p`. If a lone bitstream is being loaded into the FPGA (i.e. not from the zip-file), the partial reconfiguration system is disabled, as loading incorrect partial reconfiguration files could damage the FPGA. This damage is mostly theoretical, more likely the FPGA will fail to function correctly.\n",
    "\n",
    "If in the course of following this tutorial you find the FPGA appears to stop responding (i.e. certain features no longer work correctly), it could be the partial reconfiguration data is incorrect.\n",
    "\n",
    "We'll look at how to interface with these features later in the tutorial."
   ]
  },
  {
   "cell_type": "code",
   "execution_count": 1,
   "metadata": {},
   "outputs": [],
   "source": [
    "SCOPETYPE = 'OPENADC'\n",
    "PLATFORM = 'CWLITEXMEGA'\n",
    "SS_VER = 'SS_VER_1_1'"
   ]
  },
  {
   "cell_type": "code",
   "execution_count": 2,
   "metadata": {},
   "outputs": [],
   "source": [
    "import chipwhisperer as cw\n",
    "\n",
    "scope = cw.scope()\n",
    "if SS_VER == 'SS_VER_1_1':\n",
    "    target_type = cw.targets.SimpleSerial\n",
    "target = cw.target(scope, target_type)\n",
    "if PLATFORM == 'CWLITEXMEGA':\n",
    "    prog = cw.programmers.XMEGAProgrammer"
   ]
  },
  {
   "cell_type": "code",
   "execution_count": 3,
   "metadata": {},
   "outputs": [],
   "source": [
    "import time\n",
    "time.sleep(0.05)\n",
    "scope.default_setup()\n",
    "def reset_target(scope):\n",
    "    if PLATFORM == \"CW303\" or PLATFORM == \"CWLITEXMEGA\":\n",
    "        scope.io.pdic = 'low'\n",
    "        time.sleep(0.1)\n",
    "        scope.io.pdic = 'high_z' #XMEGA doesn't like pdic driven high\n",
    "        time.sleep(0.1) #xmega needs more startup time\n",
    "    else:  \n",
    "        scope.io.nrst = 'low'\n",
    "        time.sleep(0.05)\n",
    "        scope.io.nrst = 'high_z'\n",
    "        time.sleep(0.05)"
   ]
  },
  {
   "cell_type": "code",
   "execution_count": 4,
   "metadata": {},
   "outputs": [
    {
     "name": "stdout",
     "output_type": "stream",
     "text": [
      "SS_VER set to SS_VER_1_1\n",
      "rm -f -- simpleserial-glitch-CWLITEXMEGA.hex\n",
      "rm -f -- simpleserial-glitch-CWLITEXMEGA.eep\n",
      "rm -f -- simpleserial-glitch-CWLITEXMEGA.cof\n",
      "rm -f -- simpleserial-glitch-CWLITEXMEGA.elf\n",
      "rm -f -- simpleserial-glitch-CWLITEXMEGA.map\n",
      "rm -f -- simpleserial-glitch-CWLITEXMEGA.sym\n",
      "rm -f -- simpleserial-glitch-CWLITEXMEGA.lss\n",
      "rm -f -- objdir-CWLITEXMEGA/*.o\n",
      "rm -f -- objdir-CWLITEXMEGA/*.lst\n",
      "rm -f -- simpleserial-glitch.s simpleserial.s XMEGA_AES_driver.s uart.s usart_driver.s xmega_hal.s\n",
      "rm -f -- simpleserial-glitch.d simpleserial.d XMEGA_AES_driver.d uart.d usart_driver.d xmega_hal.d\n",
      "rm -f -- simpleserial-glitch.i simpleserial.i XMEGA_AES_driver.i uart.i usart_driver.i xmega_hal.i\n",
      ".\n",
      "Welcome to another exciting ChipWhisperer target build!!\n",
      "avr-gcc (GCC) 5.4.0\n",
      "Copyright (C) 2015 Free Software Foundation, Inc.\n",
      "This is free software; see the source for copying conditions.  There is NO\n",
      "warranty; not even for MERCHANTABILITY or FITNESS FOR A PARTICULAR PURPOSE.\n",
      "\n",
      ".\n",
      "Compiling C: simpleserial-glitch.c\n",
      "avr-gcc -c -mmcu=atxmega128d3 -I. -fpack-struct -gdwarf-2 -DSS_VER=SS_VER_1_1 -DHAL_TYPE=HAL_xmega -DPLATFORM=CWLITEXMEGA -DF_CPU=7372800UL -DSS_VER_2_0=2 -DSS_VER_2_1=3 -DSS_VER_1_1=1 -DSS_VER_1_0=0 -Os -funsigned-char -funsigned-bitfields -fshort-enums -Wall -Wstrict-prototypes -Wa,-adhlns=objdir-CWLITEXMEGA/simpleserial-glitch.lst -I.././simpleserial/ -I.././hal -I.././hal/xmega -I.././crypto/ -std=gnu99  -MMD -MP -MF .dep/simpleserial-glitch.o.d simpleserial-glitch.c -o objdir-CWLITEXMEGA/simpleserial-glitch.o\n",
      ".\n",
      "Compiling C: .././simpleserial/simpleserial.c\n",
      "avr-gcc -c -mmcu=atxmega128d3 -I. -fpack-struct -gdwarf-2 -DSS_VER=SS_VER_1_1 -DHAL_TYPE=HAL_xmega -DPLATFORM=CWLITEXMEGA -DF_CPU=7372800UL -DSS_VER_2_0=2 -DSS_VER_2_1=3 -DSS_VER_1_1=1 -DSS_VER_1_0=0 -Os -funsigned-char -funsigned-bitfields -fshort-enums -Wall -Wstrict-prototypes -Wa,-adhlns=objdir-CWLITEXMEGA/simpleserial.lst -I.././simpleserial/ -I.././hal -I.././hal/xmega -I.././crypto/ -std=gnu99  -MMD -MP -MF .dep/simpleserial.o.d .././simpleserial/simpleserial.c -o objdir-CWLITEXMEGA/simpleserial.o\n",
      ".\n",
      "Compiling C: .././hal/xmega/XMEGA_AES_driver.c\n",
      "avr-gcc -c -mmcu=atxmega128d3 -I. -fpack-struct -gdwarf-2 -DSS_VER=SS_VER_1_1 -DHAL_TYPE=HAL_xmega -DPLATFORM=CWLITEXMEGA -DF_CPU=7372800UL -DSS_VER_2_0=2 -DSS_VER_2_1=3 -DSS_VER_1_1=1 -DSS_VER_1_0=0 -Os -funsigned-char -funsigned-bitfields -fshort-enums -Wall -Wstrict-prototypes -Wa,-adhlns=objdir-CWLITEXMEGA/XMEGA_AES_driver.lst -I.././simpleserial/ -I.././hal -I.././hal/xmega -I.././crypto/ -std=gnu99  -MMD -MP -MF .dep/XMEGA_AES_driver.o.d .././hal/xmega/XMEGA_AES_driver.c -o objdir-CWLITEXMEGA/XMEGA_AES_driver.o\n",
      ".\n",
      "Compiling C: .././hal/xmega/uart.c\n",
      "avr-gcc -c -mmcu=atxmega128d3 -I. -fpack-struct -gdwarf-2 -DSS_VER=SS_VER_1_1 -DHAL_TYPE=HAL_xmega -DPLATFORM=CWLITEXMEGA -DF_CPU=7372800UL -DSS_VER_2_0=2 -DSS_VER_2_1=3 -DSS_VER_1_1=1 -DSS_VER_1_0=0 -Os -funsigned-char -funsigned-bitfields -fshort-enums -Wall -Wstrict-prototypes -Wa,-adhlns=objdir-CWLITEXMEGA/uart.lst -I.././simpleserial/ -I.././hal -I.././hal/xmega -I.././crypto/ -std=gnu99  -MMD -MP -MF .dep/uart.o.d .././hal/xmega/uart.c -o objdir-CWLITEXMEGA/uart.o\n",
      ".\n",
      "Compiling C: .././hal/xmega/usart_driver.c\n",
      "avr-gcc -c -mmcu=atxmega128d3 -I. -fpack-struct -gdwarf-2 -DSS_VER=SS_VER_1_1 -DHAL_TYPE=HAL_xmega -DPLATFORM=CWLITEXMEGA -DF_CPU=7372800UL -DSS_VER_2_0=2 -DSS_VER_2_1=3 -DSS_VER_1_1=1 -DSS_VER_1_0=0 -Os -funsigned-char -funsigned-bitfields -fshort-enums -Wall -Wstrict-prototypes -Wa,-adhlns=objdir-CWLITEXMEGA/usart_driver.lst -I.././simpleserial/ -I.././hal -I.././hal/xmega -I.././crypto/ -std=gnu99  -MMD -MP -MF .dep/usart_driver.o.d .././hal/xmega/usart_driver.c -o objdir-CWLITEXMEGA/usart_driver.o\n",
      ".\n",
      "Compiling C: .././hal/xmega/xmega_hal.c\n",
      "avr-gcc -c -mmcu=atxmega128d3 -I. -fpack-struct -gdwarf-2 -DSS_VER=SS_VER_1_1 -DHAL_TYPE=HAL_xmega -DPLATFORM=CWLITEXMEGA -DF_CPU=7372800UL -DSS_VER_2_0=2 -DSS_VER_2_1=3 -DSS_VER_1_1=1 -DSS_VER_1_0=0 -Os -funsigned-char -funsigned-bitfields -fshort-enums -Wall -Wstrict-prototypes -Wa,-adhlns=objdir-CWLITEXMEGA/xmega_hal.lst -I.././simpleserial/ -I.././hal -I.././hal/xmega -I.././crypto/ -std=gnu99  -MMD -MP -MF .dep/xmega_hal.o.d .././hal/xmega/xmega_hal.c -o objdir-CWLITEXMEGA/xmega_hal.o\n",
      ".\n",
      "Linking: simpleserial-glitch-CWLITEXMEGA.elf\n",
      "avr-gcc -mmcu=atxmega128d3 -I. -fpack-struct -gdwarf-2 -DSS_VER=SS_VER_1_1 -DHAL_TYPE=HAL_xmega -DPLATFORM=CWLITEXMEGA -DF_CPU=7372800UL -DSS_VER_2_0=2 -DSS_VER_2_1=3 -DSS_VER_1_1=1 -DSS_VER_1_0=0 -Os -funsigned-char -funsigned-bitfields -fshort-enums -Wall -Wstrict-prototypes -Wa,-adhlns=objdir-CWLITEXMEGA/simpleserial-glitch.o -I.././simpleserial/ -I.././hal -I.././hal/xmega -I.././crypto/ -std=gnu99  -MMD -MP -MF .dep/simpleserial-glitch-CWLITEXMEGA.elf.d objdir-CWLITEXMEGA/simpleserial-glitch.o objdir-CWLITEXMEGA/simpleserial.o objdir-CWLITEXMEGA/XMEGA_AES_driver.o objdir-CWLITEXMEGA/uart.o objdir-CWLITEXMEGA/usart_driver.o objdir-CWLITEXMEGA/xmega_hal.o --output simpleserial-glitch-CWLITEXMEGA.elf -Wl,-Map=simpleserial-glitch-CWLITEXMEGA.map,--cref   -lm  \n",
      ".\n",
      "Creating load file for Flash: simpleserial-glitch-CWLITEXMEGA.hex\n",
      "avr-objcopy -O ihex -R .eeprom -R .fuse -R .lock -R .signature simpleserial-glitch-CWLITEXMEGA.elf simpleserial-glitch-CWLITEXMEGA.hex\n",
      ".\n",
      "Creating load file for EEPROM: simpleserial-glitch-CWLITEXMEGA.eep\n",
      "avr-objcopy -j .eeprom --set-section-flags=.eeprom=\"alloc,load\" \\\n",
      "--change-section-lma .eeprom=0 --no-change-warnings -O ihex simpleserial-glitch-CWLITEXMEGA.elf simpleserial-glitch-CWLITEXMEGA.eep || exit 0\n",
      ".\n",
      "Creating Extended Listing: simpleserial-glitch-CWLITEXMEGA.lss\n",
      "avr-objdump -h -S -z simpleserial-glitch-CWLITEXMEGA.elf > simpleserial-glitch-CWLITEXMEGA.lss\n",
      ".\n",
      "Creating Symbol Table: simpleserial-glitch-CWLITEXMEGA.sym\n",
      "avr-nm -n simpleserial-glitch-CWLITEXMEGA.elf > simpleserial-glitch-CWLITEXMEGA.sym\n",
      "Size after:\n",
      "   text\t   data\t    bss\t    dec\t    hex\tfilename\n",
      "   2538\t     22\t     98\t   2658\t    a62\tsimpleserial-glitch-CWLITEXMEGA.elf\n",
      "+--------------------------------------------------------\n",
      "+ Default target does full rebuild each time.\n",
      "+ Specify buildtarget == allquick == to avoid full rebuild\n",
      "+--------------------------------------------------------\n",
      "+--------------------------------------------------------\n",
      "+ Built for platform CW-Lite XMEGA with:\n",
      "+ CRYPTO_TARGET = NONE\n",
      "+ CRYPTO_OPTIONS = \n",
      "+--------------------------------------------------------\n"
     ]
    }
   ],
   "source": [
    "%%bash -s \"$PLATFORM\" \"$SS_VER\"\n",
    "cd ../../../hardware/victims/firmware/simpleserial-glitch\n",
    "make PLATFORM=$1 CRYPTO_TARGET=NONE SS_VER=$2"
   ]
  },
  {
   "cell_type": "code",
   "execution_count": 6,
   "metadata": {},
   "outputs": [
    {
     "name": "stdout",
     "output_type": "stream",
     "text": [
      "XMEGA Programming flash...\n",
      "XMEGA Reading flash...\n",
      "Verified flash OK, 2559 bytes\n"
     ]
    }
   ],
   "source": [
    "fw_path = \"../../../hardware/victims/firmware/simpleserial-glitch/simpleserial-glitch-{}.hex\".format(PLATFORM)\n",
    "cw.program_target(scope, prog, fw_path)"
   ]
  },
  {
   "cell_type": "markdown",
   "metadata": {},
   "source": [
    "We'll probably crash the target a few times while we're trying some glitching. Create a function to reset the target:"
   ]
  },
  {
   "cell_type": "code",
   "execution_count": 7,
   "metadata": {},
   "outputs": [],
   "source": [
    "if PLATFORM == \"CWLITEXMEGA\":\n",
    "    def reboot_flush():            \n",
    "        scope.io.pdic = False\n",
    "        time.sleep(0.1)\n",
    "        scope.io.pdic = \"high_z\"\n",
    "        time.sleep(0.1)\n",
    "        #Flush garbage too\n",
    "        target.flush()\n",
    "else:\n",
    "    def reboot_flush():            \n",
    "        scope.io.nrst = False\n",
    "        time.sleep(0.05)\n",
    "        scope.io.nrst = \"high_z\"\n",
    "        time.sleep(0.05)\n",
    "        #Flush garbage too\n",
    "        target.flush()"
   ]
  },
  {
   "cell_type": "markdown",
   "metadata": {},
   "source": [
    "## Communication\n",
    "\n",
    "For this lab, we'll be introducing a new method: `target.simpleserial_read_witherrors()`. We're expecting a simpleserial response back; however, glitch will often cause the target to crash and return an invalid string. This method will handle all that for us. It'll also tell us whether the response was valid and what the error return code was. Use as follows:"
   ]
  },
  {
   "cell_type": "code",
   "execution_count": 8,
   "metadata": {},
   "outputs": [
    {
     "name": "stdout",
     "output_type": "stream",
     "text": [
      "{'valid': True, 'payload': CWbytearray(b'c4 09 00 00'), 'full_response': 'rC4090000\\n', 'rv': 0}\n"
     ]
    }
   ],
   "source": [
    "#Do glitch loop\n",
    "target.simpleserial_write(\"g\", bytearray([]))\n",
    "\n",
    "val = target.simpleserial_read_witherrors('r', 4, glitch_timeout=10)#For loop check\n",
    "valid = val['valid']\n",
    "if valid:\n",
    "    response = val['payload']\n",
    "    raw_serial = val['full_response']\n",
    "    error_code = val['rv']\n",
    "\n",
    "#print(bytearray(val['full_response'].encode('latin-1')))\n",
    "\n",
    "print(val)"
   ]
  },
  {
   "cell_type": "markdown",
   "metadata": {},
   "source": [
    "## Target Firmware\n",
    "\n",
    "For this lab, our goal is to get the following code to preduce an incorrect result:\n",
    "\n",
    "```C\n",
    "uint8_t glitch_loop(uint8_t* in)\n",
    "{\n",
    "    volatile uint16_t i, j;\n",
    "    volatile uint32_t cnt;\n",
    "    cnt = 0;\n",
    "    trigger_high();\n",
    "    for(i=0; i<50; i++){\n",
    "        for(j=0; j<50; j++){\n",
    "            cnt++;\n",
    "        }\n",
    "    }\n",
    "    trigger_low();\n",
    "    simpleserial_put('r', 4, (uint8_t*)&cnt);\n",
    "    return (cnt != 2500);\n",
    "}\n",
    "```\n",
    "\n",
    "As you can see, we've got a simple loop. This is a really good place to start glitching for 2 reasons:\n",
    "\n",
    "1. We've got a really long portion of time with a lot of instructions to glitch. In contrast, with the Linux example we're be trying to target a single instruction.\n",
    "\n",
    "1. For some glitching scenarios, we're looking for a pretty specific glitch effect. In the Linux example, we might be banking on the glitch causing the target to skip an instruction instead of corrupting the comparison since that's a lot more likely to get us where we want in the code path. For this simple loop calculation, pretty much any malfunction will show up in the result.\n",
    "\n",
    "## Glitch Module\n",
    "\n",
    "All the settings/methods for the glitch module can be accessed under `scope.glitch`. As usual, documentation for the settings and methods can be accessed on [ReadtheDocs](https://chipwhisperer.readthedocs.io/en/latest/api.html) or with the python `help` command:"
   ]
  },
  {
   "cell_type": "code",
   "execution_count": 9,
   "metadata": {},
   "outputs": [
    {
     "name": "stdout",
     "output_type": "stream",
     "text": [
      "Help on GlitchSettings in module chipwhisperer.capture.scopes.cwhardware.ChipWhispererGlitch object:\n",
      "\n",
      "class GlitchSettings(chipwhisperer.common.utils.util.DisableNewAttr)\n",
      " |  GlitchSettings(cwglitch)\n",
      " |  \n",
      " |  Provides an ability to disable setting new attributes in a class, useful to prevent typos.\n",
      " |  \n",
      " |  Usage:\n",
      " |  1. Make a class that inherits this class:\n",
      " |  >>> class MyClass(DisableNewAttr):\n",
      " |  >>>     # Your class definition here\n",
      " |  \n",
      " |  2. After setting up all attributes that your object needs, call disable_newattr():\n",
      " |  >>>     def __init__(self):\n",
      " |  >>>         self.my_attr = 123\n",
      " |  >>>         self.disable_newattr()\n",
      " |  \n",
      " |  3. Subclasses raise an AttributeError when trying to make a new attribute:\n",
      " |  >>> obj = MyClass()\n",
      " |  >>> #obj.my_new_attr = 456   <-- Raises AttributeError\n",
      " |  \n",
      " |  Method resolution order:\n",
      " |      GlitchSettings\n",
      " |      chipwhisperer.common.utils.util.DisableNewAttr\n",
      " |      builtins.object\n",
      " |  \n",
      " |  Methods defined here:\n",
      " |  \n",
      " |  __init__(self, cwglitch)\n",
      " |      Initialize self.  See help(type(self)) for accurate signature.\n",
      " |  \n",
      " |  __repr__(self)\n",
      " |      Return repr(self).\n",
      " |  \n",
      " |  __str__(self)\n",
      " |      Return str(self).\n",
      " |  \n",
      " |  manualTrigger(self)\n",
      " |  \n",
      " |  manual_trigger(self)\n",
      " |      Manually trigger the glitch output.\n",
      " |      \n",
      " |      This trigger is most useful in Manual trigger mode, where this is the\n",
      " |      only way to cause a glitch.\n",
      " |  \n",
      " |  readStatus(self)\n",
      " |      Read the status of the two glitch DCMs.\n",
      " |      \n",
      " |      Returns:\n",
      " |          A tuple with 4 elements::\n",
      " |      \n",
      " |           * phase1: Phase shift of DCM1 (N/A for Husky),\n",
      " |           * phase2: Phase shift of DCM2 (N/A for Husky),\n",
      " |           * lock1: Whether DCM1 is locked,\n",
      " |           * lock2: Whether DCM2 is locked\n",
      " |  \n",
      " |  resetDCMs(self, keepPhase=True)\n",
      " |      Reset the two glitch DCMs.\n",
      " |      \n",
      " |      This is automatically run after changing the glitch width or offset,\n",
      " |      so this function is typically not necessary.\n",
      " |  \n",
      " |  ----------------------------------------------------------------------\n",
      " |  Data descriptors defined here:\n",
      " |  \n",
      " |  arm_timing\n",
      " |      When to arm the glitch in single-shot mode.\n",
      " |      \n",
      " |      If the glitch module is in \"ext_single\" trigger mode, it must be armed\n",
      " |      when the scope is armed. There are two timings for this event:\n",
      " |      \n",
      " |       * \"no_glitch\": The glitch module is not armed. Gives a moderate speedup to capture.\n",
      " |       * \"before_scope\": The glitch module is armed first.\n",
      " |       * \"after_scope\": The scope is armed first. This is the default.\n",
      " |      \n",
      " |      This setting may be helpful if trigger events are happening very early.\n",
      " |      \n",
      " |      If the glitch module is not in external trigger single-shot mode, this\n",
      " |      setting has no effect.\n",
      " |      \n",
      " |      :Getter: Return the current arm timing (\"before_scope\" or \"after_scope\")\n",
      " |      \n",
      " |      :Setter: Change the arm timing\n",
      " |      \n",
      " |      Raises:\n",
      " |         ValueError: if value not listed above\n",
      " |  \n",
      " |  clk_src\n",
      " |      The clock signal that the glitch DCM is using as input.\n",
      " |      \n",
      " |      This DCM can be clocked from three different sources:\n",
      " |       * \"target\": The HS1 clock from the target device\n",
      " |       * \"clkgen\": The CLKGEN DCM output (not recommended for Husky)\n",
      " |       * \"pll\": Husky's on-board PLL clock (Husky only)\n",
      " |      \n",
      " |      :Getter:\n",
      " |         Return the clock signal currently in use\n",
      " |      \n",
      " |      :Setter:\n",
      " |         Change the glitch clock source\n",
      " |      \n",
      " |      Raises:\n",
      " |         ValueError: New value not one of \"target\", \"clkgen\" or \"pll\"\n",
      " |  \n",
      " |  enabled\n",
      " |      Whether the Xilinx MMCMs used to generate glitches are powered on or not.\n",
      " |      7-series MMCMs are power hungry. In the Husky FPGA, MMCMs are estimated to\n",
      " |      consume half of the FPGA's power. If you run into temperature issues and don't\n",
      " |      require glitching, you can power down these MMCMs.\n",
      " |  \n",
      " |  ext_offset\n",
      " |      How long the glitch module waits between a trigger and a glitch.\n",
      " |      \n",
      " |      After the glitch module is triggered, it waits for a number of clock\n",
      " |      cycles before generating glitch pulses. This delay allows the glitch to\n",
      " |      be inserted at a precise moment during the target's execution to glitch\n",
      " |      specific instructions.\n",
      " |      \n",
      " |      Has no effect when trigger_src = 'manual' or 'continuous'.\n",
      " |      \n",
      " |      .. note::\n",
      " |          It is possible to get more precise offsets by clocking the\n",
      " |          glitch module faster than the target board.\n",
      " |      \n",
      " |      This offset must be in the range [0, 2**32).\n",
      " |      \n",
      " |      :Getter: Return the current external trigger offset.\n",
      " |      \n",
      " |      :Setter: Set the external trigger offset.\n",
      " |      \n",
      " |      Raises:\n",
      " |         TypeError: if offset not an integer\n",
      " |         ValueError: if offset outside of range [0, 2**32)\n",
      " |  \n",
      " |  mmcm_locked\n",
      " |      Whether the Xilinx MMCMs used to generate glitches are locked or not.\n",
      " |  \n",
      " |  offset\n",
      " |      The offset from a rising clock edge to a glitch pulse rising edge,\n",
      " |      as a percentage of one period.\n",
      " |      \n",
      " |      A pulse may begin anywhere from -49.8% to 49.8% away from a rising\n",
      " |      edge, allowing glitches to be swept over the entire clock cycle.\n",
      " |      \n",
      " |      N/A for Husky.\n",
      " |      \n",
      " |      .. warning:: very large negative offset <-45 may result in double glitches\n",
      " |      \n",
      " |      :Getter: Return a float with the current glitch offset.\n",
      " |      \n",
      " |      :Setter: Set the glitch offset. The new value is rounded to the nearest\n",
      " |          possible offset.\n",
      " |      \n",
      " |      \n",
      " |      Raises:\n",
      " |         TypeError: offset not an integer\n",
      " |         UserWarning: value outside range [-50, 50] (value is rounded)\n",
      " |  \n",
      " |  offset_fine\n",
      " |      The fine adjustment value on the glitch offset.\n",
      " |      \n",
      " |      This is a dimensionless number that makes small adjustments to the\n",
      " |      glitch pulses' offset. Valid range is [-255, 255].\n",
      " |      \n",
      " |      .. warning:: This value is write-only. Reads will always return 0.\n",
      " |      \n",
      " |      :Getter: Returns 0\n",
      " |      \n",
      " |      :Setter: Update the glitch fine offset\n",
      " |      \n",
      " |      Raises:\n",
      " |         TypeError: if offset not an integer\n",
      " |         ValueError: if offset is outside of [-255, 255]\n",
      " |  \n",
      " |  output\n",
      " |      The type of output produced by the glitch module.\n",
      " |      \n",
      " |      There are 5 ways that the glitch module can combine the clock with its\n",
      " |      glitch pulses:\n",
      " |      \n",
      " |       * \"clock_only\": Output only the original input clock.\n",
      " |       * \"glitch_only\": Output only the glitch pulses - do not use the clock.\n",
      " |       * \"clock_or\": Output is high if either the clock or glitch are high.\n",
      " |       * \"clock_xor\": Output is high if clock and glitch are different.\n",
      " |       * \"enable_only\": Output is high for glitch.repeat cycles.\n",
      " |      \n",
      " |      Some of these settings are only useful in certain scenarios:\n",
      " |       * Clock glitching: \"clock_or\" or \"clock_xor\"\n",
      " |       * Voltage glitching: \"glitch_only\" or \"enable_only\"\n",
      " |      \n",
      " |      :Getter: Return the current glitch output mode (one of above strings)\n",
      " |      \n",
      " |      :Setter: Change the glitch output mode.\n",
      " |      \n",
      " |      Raises:\n",
      " |         ValueError: if value not in above strings\n",
      " |  \n",
      " |  phase_shift_steps\n",
      " |      The number of phase shift steps per target clock period.\n",
      " |      Husky only.\n",
      " |      To change, modify clock.pll.update_fpga_vco()\n",
      " |      \n",
      " |      :Getter: Returns the number of steps.\n",
      " |  \n",
      " |  repeat\n",
      " |      The number of glitch pulses to generate per trigger.\n",
      " |      \n",
      " |      When the glitch module is triggered, it produces a number of pulses\n",
      " |      that can be combined with the clock signal. This setting allows for\n",
      " |      the glitch module to produce stronger glitches (especially during\n",
      " |      voltage glitching).\n",
      " |      \n",
      " |      Repeat counter must be in the range [1, 8192].\n",
      " |      \n",
      " |      :Getter: Return the current repeat value (integer)\n",
      " |      \n",
      " |      :Setter: Set the repeat counter\n",
      " |      \n",
      " |      Raises:\n",
      " |         TypeError: if value not an integer\n",
      " |         ValueError: if value outside [1, 8192]\n",
      " |  \n",
      " |  trigger_src\n",
      " |      The trigger signal for the glitch pulses.\n",
      " |      \n",
      " |      The glitch module can use four different types of triggers:\n",
      " |       * \"continuous\": Constantly trigger glitches\n",
      " |       * \"manual\": Only trigger glitches through API calls\n",
      " |       * \"ext_single\": Use the trigger module. One glitch per scope arm.\n",
      " |       * \"ext_continuous\": Use the trigger module. Many glitches per arm.\n",
      " |      \n",
      " |       .. warning:: calling :code:`scope.arm()` in manual gitch mode will cause a glitch to trigger.\n",
      " |      \n",
      " |      :Getter: Return the current trigger source.\n",
      " |      \n",
      " |      :Setter: Change the trigger source.\n",
      " |      \n",
      " |      Raises:\n",
      " |         ValueError: value not listed above.\n",
      " |  \n",
      " |  width\n",
      " |      The width of a single glitch pulse\n",
      " |      \n",
      " |      For CW-Husky, width is expressed as the number of phase shift steps.\n",
      " |      \n",
      " |      For other capture hardware, width is expressed as a percentage of one\n",
      " |      period.\n",
      " |      \n",
      " |      One pulse can range from -49.8% to roughly 49.8% of a period. The\n",
      " |      system may not be reliable at 0%. Note that negative widths are allowed;\n",
      " |      these act as if they are positive widths on the other half of the\n",
      " |      clock cycle.\n",
      " |      \n",
      " |      :Getter: Return a float with the current glitch width.\n",
      " |      \n",
      " |      :Setter: Update the glitch pulse width. The value will be adjusted to\n",
      " |          the closest possible glitch width.\n",
      " |      \n",
      " |      Raises:\n",
      " |         UserWarning: Width outside of [-49.8, 49.8]. The value is rounded\n",
      " |             to one of these\n",
      " |  \n",
      " |  width_fine\n",
      " |      The fine adjustment value on the glitch width.\n",
      " |      \n",
      " |      This is a dimensionless number that makes small adjustments to the\n",
      " |      glitch pulses' width. Valid range is [-255, 255]. N/A for Husky.\n",
      " |      \n",
      " |      .. warning:: This value is write-only. Reads will always return 0.\n",
      " |      \n",
      " |      :Getter: Returns 0\n",
      " |      \n",
      " |      :Setter: Update the glitch fine width\n",
      " |      \n",
      " |      Raises:\n",
      " |         TypeError: offset not an integer\n",
      " |         ValueError: offset is outside of [-255, 255]\n",
      " |  \n",
      " |  ----------------------------------------------------------------------\n",
      " |  Methods inherited from chipwhisperer.common.utils.util.DisableNewAttr:\n",
      " |  \n",
      " |  __setattr__(self, name, value)\n",
      " |      Implement setattr(self, name, value).\n",
      " |  \n",
      " |  disable_newattr(self)\n",
      " |  \n",
      " |  enable_newattr(self)\n",
      " |  \n",
      " |  ----------------------------------------------------------------------\n",
      " |  Data descriptors inherited from chipwhisperer.common.utils.util.DisableNewAttr:\n",
      " |  \n",
      " |  __dict__\n",
      " |      dictionary for instance variables (if defined)\n",
      " |  \n",
      " |  __weakref__\n",
      " |      list of weak references to the object (if defined)\n",
      "\n"
     ]
    }
   ],
   "source": [
    "help(scope.glitch)"
   ]
  },
  {
   "cell_type": "code",
   "execution_count": 10,
   "metadata": {},
   "outputs": [
    {
     "data": {
      "text/plain": [
       "clk_src     = target\n",
       "width       = 10.15625\n",
       "width_fine  = 0\n",
       "offset      = 10.15625\n",
       "offset_fine = 0\n",
       "trigger_src = manual\n",
       "arm_timing  = after_scope\n",
       "ext_offset  = 0\n",
       "repeat      = 1\n",
       "output      = clock_xor"
      ]
     },
     "execution_count": 10,
     "metadata": {},
     "output_type": "execute_result"
    }
   ],
   "source": [
    "scope.glitch"
   ]
  },
  {
   "cell_type": "markdown",
   "metadata": {},
   "source": [
    "Some of the important settings we'll want to look at here are:\n",
    "\n",
    "* clk_src\n",
    "> The clock signal that the glitch DCM is using as input. Can be set to \"target\" or \"clkgen\" In this case, we'll be providing the clock to the target, so we'll want this set to \"clkgen\"\n",
    "* offset\n",
    "> Where in the output clock to place the glitch. Can be in the range `[-50, 50]`. Often, we'll want to try many offsets when trying to glitch a target.\n",
    "* width\n",
    "> How wide to make the glitch. Can be in the range `[-50, 50]`, though there is no reason to use widths < 0. Wider glitches more easily cause glitches, but are also more likely to crash the target, meaning we'll often want to try a range of widths when attacking a target.\n",
    "* output\n",
    "> The output produced by the glitch module. For clock glitching, clock_xor is often the most useful option.\n",
    "* ext_offset\n",
    "> The number of clock cycles after the trigger to put the glitch. \n",
    "* repeat\n",
    "> The number of clock cycles to repeat the glitch for. Higher values increase the number of instructions that can be glitched, but often increase the risk of crashing the target.\n",
    "* trigger_src\n",
    "> How to trigger the glitch. For this tutorial, we want to automatically trigger the glitch from the trigger pin only after arming the ChipWhipserer, so we'll use `ext_single`\n",
    "\n",
    "In addition, we'll need to tell ChipWhipserer to use the glitch module's output as a clock source for the target by setting `scope.io.hs2 = \"glitch\"`. We'll also setup a large `repeat` to make glitching easier. Finally, we'll also use a `namedtuple` to make looping through parameters simpler.\n",
    "\n",
    "## CW Glitch Controller\n",
    "\n",
    "To make creating a glitch loop easier, ChipWhisperer includes a glitch controller. We'll start of by initializing with different potential results of the attack. You define these to be whatever you want, but typically \"success\", \"reset\", and \"normal\" will be sufficient. We also need to tell it what glitch parameters we want to scan through, in this case width and offset:"
   ]
  },
  {
   "cell_type": "code",
   "execution_count": 12,
   "metadata": {},
   "outputs": [],
   "source": [
    "import chipwhisperer.common.results.glitch as glitch\n",
    "gc = glitch.GlitchController(groups=[\"success\", \"reset\", \"normal\"], parameters=[\"width\", \"offset\"])"
   ]
  },
  {
   "cell_type": "markdown",
   "metadata": {},
   "source": [
    "One of the niceties of the glitch controller is that it can display our current settings. This will update in real time as we use the glitch controller!"
   ]
  },
  {
   "cell_type": "code",
   "execution_count": 13,
   "metadata": {},
   "outputs": [
    {
     "data": {
      "application/vnd.jupyter.widget-view+json": {
       "model_id": "95321d7790974007ab67dfc0eb0d9e9f",
       "version_major": 2,
       "version_minor": 0
      },
      "text/plain": [
       "IntText(value=0, description='success count:', disabled=True)"
      ]
     },
     "metadata": {},
     "output_type": "display_data"
    },
    {
     "data": {
      "application/vnd.jupyter.widget-view+json": {
       "model_id": "be54c81e3f7643d9a619d9ebaaa831b3",
       "version_major": 2,
       "version_minor": 0
      },
      "text/plain": [
       "IntText(value=0, description='reset count:', disabled=True)"
      ]
     },
     "metadata": {},
     "output_type": "display_data"
    },
    {
     "data": {
      "application/vnd.jupyter.widget-view+json": {
       "model_id": "dae31974bb5e42f188b6c59dfd27b57b",
       "version_major": 2,
       "version_minor": 0
      },
      "text/plain": [
       "IntText(value=0, description='normal count:', disabled=True)"
      ]
     },
     "metadata": {},
     "output_type": "display_data"
    },
    {
     "data": {
      "application/vnd.jupyter.widget-view+json": {
       "model_id": "1d40ddf3828a4f949d1c55285b0a4f49",
       "version_major": 2,
       "version_minor": 0
      },
      "text/plain": [
       "FloatSlider(value=0.0, continuous_update=False, description='width setting:', disabled=True, max=10.0, readout…"
      ]
     },
     "metadata": {},
     "output_type": "display_data"
    },
    {
     "data": {
      "application/vnd.jupyter.widget-view+json": {
       "model_id": "d7177a4b01be4cf0a83ccc595c79f4d0",
       "version_major": 2,
       "version_minor": 0
      },
      "text/plain": [
       "FloatSlider(value=0.0, continuous_update=False, description='offset setting:', disabled=True, max=10.0, readou…"
      ]
     },
     "metadata": {},
     "output_type": "display_data"
    }
   ],
   "source": [
    "gc.display_stats()"
   ]
  },
  {
   "cell_type": "markdown",
   "metadata": {},
   "source": [
    "We can also make a settings map that can also update in realtime as well:"
   ]
  },
  {
   "cell_type": "code",
   "execution_count": 14,
   "metadata": {},
   "outputs": [
    {
     "data": {
      "application/vnd.jupyter.widget-view+json": {
       "model_id": "a4c7c9ff64fe4db39544ef8ab39bf260",
       "version_major": 2,
       "version_minor": 0
      },
      "image/png": "[encoded data removed]",
      "text/plain": [
       "Canvas(toolbar=Toolbar(toolitems=[('Home', 'Reset original view', 'home', 'home'), ('Back', 'Back to previous …"
      ]
     },
     "metadata": {},
     "output_type": "display_data"
    }
   ],
   "source": [
    "%matplotlib ipympl\n",
    "import matplotlib.pylab as plt\n",
    "fig = plt.figure()"
   ]
  },
  {
   "cell_type": "code",
   "execution_count": 15,
   "metadata": {},
   "outputs": [],
   "source": [
    "## to update the plot:\n",
    "plt.plot(-5, 5, '.')\n",
    "fig.canvas.draw()"
   ]
  },
  {
   "cell_type": "markdown",
   "metadata": {},
   "source": [
    "You can set ranges for each glitch setting:"
   ]
  },
  {
   "cell_type": "code",
   "execution_count": 16,
   "metadata": {},
   "outputs": [],
   "source": [
    "gc.set_range(\"width\", -5, 5)\n",
    "gc.set_range(\"offset\", -5, 5)"
   ]
  },
  {
   "cell_type": "markdown",
   "metadata": {},
   "source": [
    "Each setting moves from min to max based on the global step:"
   ]
  },
  {
   "cell_type": "code",
   "execution_count": 17,
   "metadata": {},
   "outputs": [],
   "source": [
    "gc.set_global_step([5.0, 2.5])"
   ]
  },
  {
   "cell_type": "markdown",
   "metadata": {},
   "source": [
    "We can print out all the glitch settings to see how this looks:"
   ]
  },
  {
   "cell_type": "code",
   "execution_count": 18,
   "metadata": {},
   "outputs": [
    {
     "name": "stdout",
     "output_type": "stream",
     "text": [
      "-------------------------------------\n",
      "Offset: -5\n",
      "Width: -5\n",
      "-------------------------------------\n",
      "-------------------------------------\n",
      "Offset: 0.0\n",
      "Width: -5\n",
      "-------------------------------------\n",
      "-------------------------------------\n",
      "Offset: 5.0\n",
      "Width: -5\n",
      "-------------------------------------\n",
      "-------------------------------------\n",
      "Offset: -5\n",
      "Width: 0.0\n",
      "-------------------------------------\n",
      "-------------------------------------\n",
      "Offset: 0.0\n",
      "Width: 0.0\n",
      "-------------------------------------\n",
      "-------------------------------------\n",
      "Offset: 5.0\n",
      "Width: 0.0\n",
      "-------------------------------------\n",
      "-------------------------------------\n",
      "Offset: -5\n",
      "Width: 5.0\n",
      "-------------------------------------\n",
      "-------------------------------------\n",
      "Offset: 0.0\n",
      "Width: 5.0\n",
      "-------------------------------------\n",
      "-------------------------------------\n",
      "Offset: 5.0\n",
      "Width: 5.0\n",
      "-------------------------------------\n",
      "-------------------------------------\n",
      "Offset: -5\n",
      "Width: -5\n",
      "-------------------------------------\n",
      "-------------------------------------\n",
      "Offset: -2.5\n",
      "Width: -5\n",
      "-------------------------------------\n",
      "-------------------------------------\n",
      "Offset: 0.0\n",
      "Width: -5\n",
      "-------------------------------------\n",
      "-------------------------------------\n",
      "Offset: 2.5\n",
      "Width: -5\n",
      "-------------------------------------\n",
      "-------------------------------------\n",
      "Offset: 5.0\n",
      "Width: -5\n",
      "-------------------------------------\n",
      "-------------------------------------\n",
      "Offset: -5\n",
      "Width: -2.5\n",
      "-------------------------------------\n",
      "-------------------------------------\n",
      "Offset: -2.5\n",
      "Width: -2.5\n",
      "-------------------------------------\n",
      "-------------------------------------\n",
      "Offset: 0.0\n",
      "Width: -2.5\n",
      "-------------------------------------\n",
      "-------------------------------------\n",
      "Offset: 2.5\n",
      "Width: -2.5\n",
      "-------------------------------------\n",
      "-------------------------------------\n",
      "Offset: 5.0\n",
      "Width: -2.5\n",
      "-------------------------------------\n",
      "-------------------------------------\n",
      "Offset: -5\n",
      "Width: 0.0\n",
      "-------------------------------------\n",
      "-------------------------------------\n",
      "Offset: -2.5\n",
      "Width: 0.0\n",
      "-------------------------------------\n",
      "-------------------------------------\n",
      "Offset: 0.0\n",
      "Width: 0.0\n",
      "-------------------------------------\n",
      "-------------------------------------\n",
      "Offset: 2.5\n",
      "Width: 0.0\n",
      "-------------------------------------\n",
      "-------------------------------------\n",
      "Offset: 5.0\n",
      "Width: 0.0\n",
      "-------------------------------------\n",
      "-------------------------------------\n",
      "Offset: -5\n",
      "Width: 2.5\n",
      "-------------------------------------\n",
      "-------------------------------------\n",
      "Offset: -2.5\n",
      "Width: 2.5\n",
      "-------------------------------------\n",
      "-------------------------------------\n",
      "Offset: 0.0\n",
      "Width: 2.5\n",
      "-------------------------------------\n",
      "-------------------------------------\n",
      "Offset: 2.5\n",
      "Width: 2.5\n",
      "-------------------------------------\n",
      "-------------------------------------\n",
      "Offset: 5.0\n",
      "Width: 2.5\n",
      "-------------------------------------\n",
      "-------------------------------------\n",
      "Offset: -5\n",
      "Width: 5.0\n",
      "-------------------------------------\n",
      "-------------------------------------\n",
      "Offset: -2.5\n",
      "Width: 5.0\n",
      "-------------------------------------\n",
      "-------------------------------------\n",
      "Offset: 0.0\n",
      "Width: 5.0\n",
      "-------------------------------------\n",
      "-------------------------------------\n",
      "Offset: 2.5\n",
      "Width: 5.0\n",
      "-------------------------------------\n",
      "-------------------------------------\n",
      "Offset: 5.0\n",
      "Width: 5.0\n",
      "-------------------------------------\n"
     ]
    }
   ],
   "source": [
    "for glitch_setting in gc.glitch_values():\n",
    "    print('-------------------------------------')\n",
    "    print(\"Offset: {}\".format(glitch_setting[1]))\n",
    "    print(\"Width: {}\".format(glitch_setting[0]))\n",
    "    print('-------------------------------------')"
   ]
  },
  {
   "cell_type": "markdown",
   "metadata": {},
   "source": [
    "You can tell the glitch controller when you've reached a particular result state like so:"
   ]
  },
  {
   "cell_type": "code",
   "execution_count": null,
   "metadata": {},
   "outputs": [],
   "source": [
    "#gc.add(\"reset\", (scope.glitch.width, scope.glitch.offset))\n",
    "#gc.add(\"success\", (scope.glitch.width, scope.glitch.offset))"
   ]
  },
  {
   "cell_type": "markdown",
   "metadata": {},
   "source": [
    "We'll start off with the following settings. It's usually best to use \"clock_xor\" with clock glitching, which will insert a glitch if the clock is high or the clock is low."
   ]
  },
  {
   "cell_type": "code",
   "execution_count": 20,
   "metadata": {},
   "outputs": [
    {
     "name": "stdout",
     "output_type": "stream",
     "text": [
      "clk_src     = clkgen\n",
      "width       = 10.15625\n",
      "width_fine  = 0\n",
      "offset      = 10.15625\n",
      "offset_fine = 0\n",
      "trigger_src = ext_single\n",
      "arm_timing  = after_scope\n",
      "ext_offset  = 0\n",
      "repeat      = 1\n",
      "output      = clock_xor\n",
      "\n"
     ]
    }
   ],
   "source": [
    "#Basic setup\n",
    "scope.glitch.clk_src = \"clkgen\" # set glitch input clock\n",
    "scope.glitch.output = \"clock_xor\" # glitch_out = clk ^ glitch\n",
    "scope.glitch.trigger_src = \"ext_single\" # glitch only after scope.arm() called\n",
    "\n",
    "scope.io.hs2 = \"glitch\"  # output glitch_out on the clock line\n",
    "print(scope.glitch)"
   ]
  },
  {
   "cell_type": "markdown",
   "metadata": {},
   "source": [
    "Should have all you need to construct your glitch loop. We'll get you started, but the rest is up to you! Also, some stuff to keep in mind:\n",
    "\n",
    "* You'll need to detect crashes, successful glitches, and normal returns from the target. Don't be afraid to experiment with the loop: you can always restart it and rerun the code.\n",
    "* You can cover a larger set of glitch settings by starting with large glitch controller steps to get idea where some interesting locations are, then repeating the glitch loop with small steps in interesting areas. Where there's one successful glitch, there's probably more!\n",
    "* You can speed up your glitch campaign substantially by only plotting crashes and successes, since they're typically much rarer than normal behaviour in the target"
   ]
  },
  {
   "cell_type": "code",
   "execution_count": 21,
   "metadata": {},
   "outputs": [
    {
     "data": {
      "application/vnd.jupyter.widget-view+json": {
       "model_id": "7f40c4d8f9f349d4852fe4d0113a7ed7",
       "version_major": 2,
       "version_minor": 0
      },
      "text/plain": [
       "IntText(value=0, description='success count:', disabled=True)"
      ]
     },
     "metadata": {},
     "output_type": "display_data"
    },
    {
     "data": {
      "application/vnd.jupyter.widget-view+json": {
       "model_id": "1180c466cc7445589f34eb5d264dc28a",
       "version_major": 2,
       "version_minor": 0
      },
      "text/plain": [
       "IntText(value=0, description='reset count:', disabled=True)"
      ]
     },
     "metadata": {},
     "output_type": "display_data"
    },
    {
     "data": {
      "application/vnd.jupyter.widget-view+json": {
       "model_id": "1ec1de78fe364de59018ce97867e8b49",
       "version_major": 2,
       "version_minor": 0
      },
      "text/plain": [
       "IntText(value=0, description='normal count:', disabled=True)"
      ]
     },
     "metadata": {},
     "output_type": "display_data"
    },
    {
     "data": {
      "application/vnd.jupyter.widget-view+json": {
       "model_id": "3ae78dbc7fb44da2b99e7c5f0e693d68",
       "version_major": 2,
       "version_minor": 0
      },
      "text/plain": [
       "FloatSlider(value=-5.0, continuous_update=False, description='width setting:', disabled=True, max=5.0, min=-5.…"
      ]
     },
     "metadata": {},
     "output_type": "display_data"
    },
    {
     "data": {
      "application/vnd.jupyter.widget-view+json": {
       "model_id": "c858f8e8e4704ef8b85fadfe1ae6d074",
       "version_major": 2,
       "version_minor": 0
      },
      "text/plain": [
       "FloatSlider(value=-5.0, continuous_update=False, description='offset setting:', disabled=True, max=5.0, min=-5…"
      ]
     },
     "metadata": {},
     "output_type": "display_data"
    }
   ],
   "source": [
    "gc.display_stats()"
   ]
  },
  {
   "cell_type": "code",
   "execution_count": 27,
   "metadata": {},
   "outputs": [
    {
     "name": "stderr",
     "output_type": "stream",
     "text": [
      "WARNING:ChipWhisperer Glitch:Partial reconfiguration for width = 0 may not work\n",
      "WARNING:ChipWhisperer Glitch:Partial reconfiguration for width = 0 may not work\n",
      "WARNING:ChipWhisperer Glitch:Partial reconfiguration for width = 0 may not work\n",
      "WARNING:ChipWhisperer Glitch:Partial reconfiguration for width = 0 may not work\n",
      "WARNING:ChipWhisperer Glitch:Partial reconfiguration for width = 0 may not work\n",
      "WARNING:ChipWhisperer Glitch:Partial reconfiguration for width = 0 may not work\n",
      "WARNING:ChipWhisperer Glitch:Partial reconfiguration for offset = 0 may not work\n",
      "WARNING:ChipWhisperer Glitch:Partial reconfiguration for width = 0 may not work\n",
      "WARNING:ChipWhisperer Glitch:Partial reconfiguration for offset = 0 may not work\n",
      "WARNING:ChipWhisperer Glitch:Partial reconfiguration for width = 0 may not work\n",
      "WARNING:ChipWhisperer Glitch:Partial reconfiguration for width = 0 may not work\n",
      "WARNING:ChipWhisperer Glitch:Partial reconfiguration for width = 0 may not work\n",
      "WARNING:ChipWhisperer Glitch:Partial reconfiguration for offset = 0 may not work\n",
      "WARNING:ChipWhisperer Glitch:Partial reconfiguration for offset = 0 may not work\n",
      "WARNING:ChipWhisperer Glitch:Partial reconfiguration for offset = 0 may not work\n",
      "WARNING:ChipWhisperer Glitch:Partial reconfiguration for offset = 0 may not work\n",
      "WARNING:ChipWhisperer Glitch:Partial reconfiguration for offset = 0 may not work\n",
      "WARNING:ChipWhisperer Glitch:Partial reconfiguration for offset = 0 may not work\n",
      "WARNING:ChipWhisperer Glitch:Partial reconfiguration for width = 0 may not work\n",
      "WARNING:ChipWhisperer Glitch:Partial reconfiguration for width = 0 may not work\n",
      "WARNING:ChipWhisperer Glitch:Partial reconfiguration for width = 0 may not work\n",
      "WARNING:ChipWhisperer Glitch:Partial reconfiguration for width = 0 may not work\n",
      "WARNING:ChipWhisperer Glitch:Partial reconfiguration for width = 0 may not work\n",
      "WARNING:ChipWhisperer Glitch:Partial reconfiguration for width = 0 may not work\n",
      "WARNING:ChipWhisperer Glitch:Partial reconfiguration for width = 0 may not work\n",
      "WARNING:ChipWhisperer Glitch:Partial reconfiguration for width = 0 may not work\n",
      "WARNING:ChipWhisperer Glitch:Partial reconfiguration for width = 0 may not work\n",
      "WARNING:ChipWhisperer Glitch:Partial reconfiguration for width = 0 may not work\n",
      "WARNING:ChipWhisperer Glitch:Partial reconfiguration for width = 0 may not work\n",
      "WARNING:ChipWhisperer Glitch:Partial reconfiguration for width = 0 may not work\n",
      "WARNING:ChipWhisperer Glitch:Partial reconfiguration for offset = 0 may not work\n",
      "WARNING:ChipWhisperer Glitch:Partial reconfiguration for width = 0 may not work\n",
      "WARNING:ChipWhisperer Glitch:Partial reconfiguration for offset = 0 may not work\n",
      "WARNING:ChipWhisperer Glitch:Partial reconfiguration for width = 0 may not work\n",
      "WARNING:ChipWhisperer Glitch:Partial reconfiguration for width = 0 may not work\n",
      "WARNING:ChipWhisperer Glitch:Partial reconfiguration for width = 0 may not work\n",
      "WARNING:ChipWhisperer Glitch:Partial reconfiguration for width = 0 may not work\n",
      "WARNING:ChipWhisperer Glitch:Partial reconfiguration for width = 0 may not work\n"
     ]
    },
    {
     "name": "stdout",
     "output_type": "stream",
     "text": [
      "Trigger still high!\n"
     ]
    },
    {
     "name": "stderr",
     "output_type": "stream",
     "text": [
      "WARNING:ChipWhisperer Glitch:Partial reconfiguration for offset = 0 may not work\n",
      "WARNING:ChipWhisperer Glitch:Partial reconfiguration for offset = 0 may not work\n",
      "WARNING:ChipWhisperer Glitch:Partial reconfiguration for offset = 0 may not work\n",
      "WARNING:ChipWhisperer Glitch:Partial reconfiguration for offset = 0 may not work\n"
     ]
    },
    {
     "name": "stdout",
     "output_type": "stream",
     "text": [
      "Trigger still high!\n",
      "Trigger still high!\n",
      "Trigger still high!\n"
     ]
    },
    {
     "name": "stderr",
     "output_type": "stream",
     "text": [
      "WARNING:ChipWhisperer Glitch:Partial reconfiguration for offset = 0 may not work\n",
      "WARNING:ChipWhisperer Glitch:Partial reconfiguration for offset = 0 may not work\n"
     ]
    },
    {
     "name": "stdout",
     "output_type": "stream",
     "text": [
      "Trigger still high!\n"
     ]
    },
    {
     "name": "stderr",
     "output_type": "stream",
     "text": [
      "WARNING:ChipWhisperer Glitch:Partial reconfiguration for offset = 0 may not work\n",
      "WARNING:ChipWhisperer Glitch:Partial reconfiguration for offset = 0 may not work\n",
      "WARNING:ChipWhisperer Glitch:Partial reconfiguration for offset = 0 may not work\n",
      "WARNING:ChipWhisperer Glitch:Partial reconfiguration for offset = 0 may not work\n",
      "WARNING:ChipWhisperer Glitch:Partial reconfiguration for offset = 0 may not work\n",
      "WARNING:ChipWhisperer Glitch:Partial reconfiguration for offset = 0 may not work\n",
      "WARNING:ChipWhisperer Glitch:Partial reconfiguration for width = 0 may not work\n",
      "WARNING:ChipWhisperer Glitch:Partial reconfiguration for width = 0 may not work\n",
      "WARNING:ChipWhisperer Glitch:Partial reconfiguration for width = 0 may not work\n",
      "WARNING:ChipWhisperer Glitch:Partial reconfiguration for width = 0 may not work\n",
      "WARNING:ChipWhisperer Glitch:Partial reconfiguration for width = 0 may not work\n",
      "WARNING:ChipWhisperer Glitch:Partial reconfiguration for width = 0 may not work\n",
      "WARNING:ChipWhisperer Glitch:Partial reconfiguration for width = 0 may not work\n",
      "WARNING:ChipWhisperer Glitch:Partial reconfiguration for width = 0 may not work\n",
      "WARNING:ChipWhisperer Glitch:Partial reconfiguration for width = 0 may not work\n",
      "WARNING:ChipWhisperer Glitch:Partial reconfiguration for width = 0 may not work\n",
      "WARNING:ChipWhisperer Glitch:Partial reconfiguration for width = 0 may not work\n",
      "WARNING:ChipWhisperer Glitch:Partial reconfiguration for width = 0 may not work\n",
      "WARNING:ChipWhisperer Glitch:Partial reconfiguration for width = 0 may not work\n",
      "WARNING:ChipWhisperer Glitch:Partial reconfiguration for width = 0 may not work\n",
      "WARNING:ChipWhisperer Glitch:Partial reconfiguration for width = 0 may not work\n",
      "WARNING:ChipWhisperer Glitch:Partial reconfiguration for width = 0 may not work\n",
      "WARNING:ChipWhisperer Glitch:Partial reconfiguration for width = 0 may not work\n",
      "WARNING:ChipWhisperer Glitch:Partial reconfiguration for width = 0 may not work\n",
      "WARNING:ChipWhisperer Glitch:Partial reconfiguration for width = 0 may not work\n",
      "WARNING:ChipWhisperer Glitch:Partial reconfiguration for width = 0 may not work\n",
      "WARNING:ChipWhisperer Glitch:Partial reconfiguration for width = 0 may not work\n",
      "WARNING:ChipWhisperer Glitch:Partial reconfiguration for width = 0 may not work\n",
      "WARNING:ChipWhisperer Glitch:Partial reconfiguration for width = 0 may not work\n",
      "WARNING:ChipWhisperer Glitch:Partial reconfiguration for width = 0 may not work\n",
      "WARNING:ChipWhisperer Glitch:Partial reconfiguration for width = 0 may not work\n",
      "WARNING:ChipWhisperer Glitch:Partial reconfiguration for width = 0 may not work\n",
      "WARNING:ChipWhisperer Glitch:Partial reconfiguration for width = 0 may not work\n",
      "WARNING:ChipWhisperer Glitch:Partial reconfiguration for width = 0 may not work\n",
      "WARNING:ChipWhisperer Glitch:Partial reconfiguration for width = 0 may not work\n",
      "WARNING:ChipWhisperer Glitch:Partial reconfiguration for width = 0 may not work\n",
      "WARNING:ChipWhisperer Glitch:Partial reconfiguration for offset = 0 may not work\n",
      "WARNING:ChipWhisperer Glitch:Partial reconfiguration for width = 0 may not work\n",
      "WARNING:ChipWhisperer Glitch:Partial reconfiguration for offset = 0 may not work\n",
      "WARNING:ChipWhisperer Glitch:Partial reconfiguration for width = 0 may not work\n",
      "WARNING:ChipWhisperer Glitch:Partial reconfiguration for width = 0 may not work\n",
      "WARNING:ChipWhisperer Glitch:Partial reconfiguration for width = 0 may not work\n",
      "WARNING:ChipWhisperer Glitch:Partial reconfiguration for width = 0 may not work\n",
      "WARNING:ChipWhisperer Glitch:Partial reconfiguration for width = 0 may not work\n",
      "WARNING:ChipWhisperer Glitch:Partial reconfiguration for width = 0 may not work\n",
      "WARNING:ChipWhisperer Glitch:Partial reconfiguration for width = 0 may not work\n",
      "WARNING:ChipWhisperer Glitch:Partial reconfiguration for width = 0 may not work\n",
      "WARNING:ChipWhisperer Glitch:Partial reconfiguration for width = 0 may not work\n",
      "WARNING:ChipWhisperer Glitch:Partial reconfiguration for width = 0 may not work\n",
      "WARNING:ChipWhisperer Glitch:Partial reconfiguration for width = 0 may not work\n",
      "WARNING:ChipWhisperer Glitch:Partial reconfiguration for offset = 0 may not work\n",
      "WARNING:ChipWhisperer Glitch:Partial reconfiguration for offset = 0 may not work\n"
     ]
    },
    {
     "name": "stdout",
     "output_type": "stream",
     "text": [
      "Trigger still high!\n",
      "Trigger still high!\n",
      "Trigger still high!\n",
      "Trigger still high!\n"
     ]
    },
    {
     "name": "stderr",
     "output_type": "stream",
     "text": [
      "WARNING:ChipWhisperer Glitch:Partial reconfiguration for offset = 0 may not work\n",
      "WARNING:ChipWhisperer Glitch:Partial reconfiguration for offset = 0 may not work\n"
     ]
    },
    {
     "name": "stdout",
     "output_type": "stream",
     "text": [
      "Trigger still high!\n",
      "Trigger still high!\n",
      "Trigger still high!\n"
     ]
    },
    {
     "name": "stderr",
     "output_type": "stream",
     "text": [
      "WARNING:ChipWhisperer Glitch:Partial reconfiguration for offset = 0 may not work\n",
      "WARNING:ChipWhisperer Glitch:Partial reconfiguration for offset = 0 may not work\n"
     ]
    },
    {
     "name": "stdout",
     "output_type": "stream",
     "text": [
      "Trigger still high!\n",
      "Trigger still high!\n",
      "Trigger still high!\n",
      "Trigger still high!\n",
      "Trigger still high!\n",
      "Trigger still high!\n",
      "Trigger still high!\n",
      "Trigger still high!\n"
     ]
    },
    {
     "name": "stderr",
     "output_type": "stream",
     "text": [
      "WARNING:ChipWhisperer Glitch:Partial reconfiguration for offset = 0 may not work\n",
      "WARNING:ChipWhisperer Glitch:Partial reconfiguration for offset = 0 may not work\n"
     ]
    },
    {
     "name": "stdout",
     "output_type": "stream",
     "text": [
      "Trigger still high!\n",
      "Trigger still high!\n",
      "Trigger still high!\n",
      "Trigger still high!\n",
      "Trigger still high!\n",
      "Trigger still high!\n"
     ]
    },
    {
     "name": "stderr",
     "output_type": "stream",
     "text": [
      "WARNING:ChipWhisperer Glitch:Partial reconfiguration for offset = 0 may not work\n",
      "WARNING:ChipWhisperer Glitch:Partial reconfiguration for offset = 0 may not work\n"
     ]
    },
    {
     "name": "stdout",
     "output_type": "stream",
     "text": [
      "Trigger still high!\n",
      "Trigger still high!\n",
      "Trigger still high!\n",
      "Trigger still high!\n",
      "Trigger still high!\n"
     ]
    },
    {
     "name": "stderr",
     "output_type": "stream",
     "text": [
      "WARNING:ChipWhisperer Glitch:Partial reconfiguration for offset = 0 may not work\n",
      "WARNING:ChipWhisperer Glitch:Partial reconfiguration for offset = 0 may not work\n"
     ]
    },
    {
     "name": "stdout",
     "output_type": "stream",
     "text": [
      "Trigger still high!\n",
      "Trigger still high!\n",
      "Trigger still high!\n",
      "Trigger still high!\n",
      "Trigger still high!\n",
      "Trigger still high!\n"
     ]
    },
    {
     "name": "stderr",
     "output_type": "stream",
     "text": [
      "WARNING:ChipWhisperer Glitch:Partial reconfiguration for offset = 0 may not work\n",
      "WARNING:ChipWhisperer Glitch:Partial reconfiguration for offset = 0 may not work\n"
     ]
    },
    {
     "name": "stdout",
     "output_type": "stream",
     "text": [
      "Trigger still high!\n",
      "Trigger still high!\n",
      "Trigger still high!\n",
      "Trigger still high!\n",
      "Trigger still high!\n"
     ]
    },
    {
     "name": "stderr",
     "output_type": "stream",
     "text": [
      "WARNING:ChipWhisperer Glitch:Partial reconfiguration for offset = 0 may not work\n",
      "WARNING:ChipWhisperer Glitch:Partial reconfiguration for offset = 0 may not work\n"
     ]
    },
    {
     "name": "stdout",
     "output_type": "stream",
     "text": [
      "Trigger still high!\n"
     ]
    },
    {
     "name": "stderr",
     "output_type": "stream",
     "text": [
      "WARNING:ChipWhisperer Glitch:Partial reconfiguration for offset = 0 may not work\n",
      "WARNING:ChipWhisperer Glitch:Partial reconfiguration for offset = 0 may not work\n",
      "WARNING:ChipWhisperer Glitch:Partial reconfiguration for offset = 0 may not work\n",
      "WARNING:ChipWhisperer Glitch:Partial reconfiguration for offset = 0 may not work\n",
      "WARNING:ChipWhisperer Glitch:Partial reconfiguration for offset = 0 may not work\n",
      "WARNING:ChipWhisperer Glitch:Partial reconfiguration for offset = 0 may not work\n",
      "WARNING:ChipWhisperer Glitch:Partial reconfiguration for offset = 0 may not work\n",
      "WARNING:ChipWhisperer Glitch:Partial reconfiguration for offset = 0 may not work\n",
      "WARNING:ChipWhisperer Glitch:Partial reconfiguration for offset = 0 may not work\n",
      "WARNING:ChipWhisperer Glitch:Partial reconfiguration for offset = 0 may not work\n",
      "WARNING:ChipWhisperer Glitch:Partial reconfiguration for offset = 0 may not work\n",
      "WARNING:ChipWhisperer Glitch:Partial reconfiguration for offset = 0 may not work\n",
      "WARNING:ChipWhisperer Glitch:Partial reconfiguration for offset = 0 may not work\n",
      "WARNING:ChipWhisperer Glitch:Partial reconfiguration for offset = 0 may not work\n"
     ]
    },
    {
     "name": "stdout",
     "output_type": "stream",
     "text": [
      "Done Glitching !\n"
     ]
    }
   ],
   "source": [
    "import chipwhisperer.common.results.glitch as glitch\n",
    "from tqdm.notebook import trange\n",
    "import struct\n",
    "\n",
    "scope.glitch.ext_offset = 2\n",
    "\n",
    "gc.set_range(\"width\", 0, 15)\n",
    "gc.set_range(\"offset\", -15, 5)\n",
    "gc.set_global_step([5, 2.5, 1])\n",
    "scope.glitch.repeat = 10\n",
    "\n",
    "scope.adc.timeout = 0.1\n",
    "\n",
    "reboot_flush()\n",
    "\n",
    "for glitch_setting in gc.glitch_values():\n",
    "    \n",
    "    # optional: you can speed up the loop by checking if the trigger never went low\n",
    "    #           (the target never called trigger_low();) via scope.adc.state\n",
    "    scope.glitch.offset = glitch_setting[1]\n",
    "    scope.glitch.width = glitch_setting[0]\n",
    "\n",
    "    if scope.adc.state:\n",
    "        # can detect crash here (fast) before timing out (slow)\n",
    "        print(\"Trigger still high!\")\n",
    "        gc.add(\"reset\", (scope.glitch.width, scope.glitch.offset))\n",
    "        plt.plot(lwid, loff, 'xr', alpha=1)\n",
    "        fig.canvas.draw()\n",
    "\n",
    "        #Device is slow to boot?\n",
    "        reboot_flush()\n",
    "\n",
    "    scope.arm()\n",
    "    \n",
    "    target.simpleserial_write(\"g\", bytearray([]))\n",
    "    \n",
    "    ret = scope.capture()\n",
    "    \n",
    "    val = target.simpleserial_read_witherrors('r', 4, glitch_timeout=10)#For loop check\n",
    "    loff = scope.glitch.offset\n",
    "    lwid = scope.glitch.width\n",
    "    # ###################\n",
    "    # Add your code here\n",
    "    # ###################\n",
    "    \n",
    "    if ret: #here the trigger never went high - sometimes the target is still crashed from a previous glitch\n",
    "        print('Timeout - no trigger')\n",
    "        gc.add(\"reset\", (scope.glitch.width, scope.glitch.offset))\n",
    "        plt.plot(scope.glitch.width, scope.glitch.offset, 'xr', alpha=1)\n",
    "        fig.canvas.draw()\n",
    "\n",
    "        #Device is slow to boot?\n",
    "        reboot_flush()\n",
    "    else:\n",
    "        if val['valid'] is False:\n",
    "            gc.add(\"reset\", (scope.glitch.width, scope.glitch.offset))\n",
    "            plt.plot(scope.glitch.width, scope.glitch.offset, 'xr', alpha=1)\n",
    "            fig.canvas.draw()\n",
    "        else:\n",
    "            if val['payload'] is None:\n",
    "                print(\"None! payload: {}\".format(val['payload']))\n",
    "                continue\n",
    "            gcnt = struct.unpack(\"<I\", val['payload'])[0]\n",
    "            \n",
    "            if gcnt == 2500: #normal response\n",
    "                gc.add(\"normal\", (scope.glitch.width, scope.glitch.offset))\n",
    "            else: #glitch!!!\n",
    "                gc.add(\"success\", (scope.glitch.width, scope.glitch.offset))\n",
    "                \n",
    "print(\"Done Glitching !\")"
   ]
  },
  {
   "cell_type": "markdown",
   "metadata": {},
   "source": [
    "### Plotting Glitch Results\n",
    "\n",
    "One thing you can do to speed up your glitch acquisition is avoid plotting glitch results while you're trying to glitch the target. That being said, it's still often helpful to plot this data at some point to get a visual reference for good glitch spots. ChipWhisperer has built in functionality for plotting the results of a glitch campagin. Simply call the the following:"
   ]
  },
  {
   "cell_type": "code",
   "execution_count": 28,
   "metadata": {},
   "outputs": [
    {
     "data": {
      "application/vnd.jupyter.widget-view+json": {
       "model_id": "6c8fe68d02344351b06f7134a8118b04",
       "version_major": 2,
       "version_minor": 0
      },
      "image/png": "[encoded data removed]",
      "text/plain": [
       "Canvas(toolbar=Toolbar(toolitems=[('Home', 'Reset original view', 'home', 'home'), ('Back', 'Back to previous …"
      ]
     },
     "metadata": {},
     "output_type": "display_data"
    }
   ],
   "source": [
    "%matplotlib ipympl\n",
    "gc.results.plot_2d(plotdots={\"success\":\"+g\", \"reset\":\"xr\", \"normal\":None})"
   ]
  },
  {
   "cell_type": "markdown",
   "metadata": {},
   "source": [
    "Make sure you write down those glitch settings, since we'll be using for the rest of the glitching labs! In fact, we'll be using a lot of the general code structure here for the rest of the labs, with the only big changes being:\n",
    "\n",
    "### Repeat\n",
    "\n",
    "This lab used a pretty large repeat value. Like the name suggests, this setting controls how many times the glitch is repeated (i.e. a repeat value of 5 will place glitches in 5 consecutive clock cycles). Consider that each glitch inserted has a chance to both cause a glitch or crash the device. This was pretty advantageous for this lab since we had a lot of different spots we wanted to place a glitch - using a high repeat value increased our chance for a crash, but also increased our chance for a successful glitch. For an attack where we're targeting a single instruction, we don't really increase our glitch chance at all, but still have the increased crash risk. Worse yet, a successful glitch in a wrong spot may also cause a crash! It is for that reason that it's often better to use a low repeat value when targeting a single instruction.\n",
    "\n",
    "### Ext Offset\n",
    "\n",
    "The ext offset setting controls a delay between the trigger firing and the glitch being inserted. Like repeat, it's based on whole clock cycles, meaning an ext offset of 10 will insert a glitch 10 cycles after the trigger fires. We didn't have to worry about this setting for this lab since the large repeat value was able to take us into the area we wanted. This won't be true for many applications, where you'll have to try glitches at a large variety of ext_offsets.\n",
    "\n",
    "### Success, Reset, and Normal\n",
    "\n",
    "These three result states are usually enough to describe most glitch results. What constitues a success, however, will change based on what firmware you're attacking. For example, if we were attacking the Linux authentication, we might base success on a check to see whether or not we're root."
   ]
  },
  {
   "cell_type": "code",
   "execution_count": 29,
   "metadata": {},
   "outputs": [
    {
     "data": {
      "text/plain": [
       "True"
      ]
     },
     "execution_count": 29,
     "metadata": {},
     "output_type": "execute_result"
    }
   ],
   "source": [
    "target.dis()\n",
    "scope.dis()"
   ]
  }
 ],
 "metadata": {
  "kernelspec": {
   "display_name": "Python 3",
   "language": "python",
   "name": "python3"
  },
  "language_info": {
   "codemirror_mode": {
    "name": "ipython",
    "version": 3
   },
   "file_extension": ".py",
   "mimetype": "text/x-python",
   "name": "python",
   "nbconvert_exporter": "python",
   "pygments_lexer": "ipython3",
   "version": "3.7.12"
  }
 },
 "nbformat": 4,
 "nbformat_minor": 2
}
