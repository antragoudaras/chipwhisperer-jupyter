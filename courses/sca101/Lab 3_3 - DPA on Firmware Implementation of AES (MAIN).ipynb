{
 "cells": [
  {
   "cell_type": "markdown",
   "metadata": {},
   "source": [
    "# Part 3, Topic 3: DPA on Firmware Implementation of AES"
   ]
  },
  {
   "cell_type": "markdown",
   "metadata": {},
   "source": [
    "---\n",
    "NOTE: This lab references some (commercial) training material on [ChipWhisperer.io](https://www.ChipWhisperer.io). You can freely execute and use the lab per the open-source license (including using it in your own courses if you distribute similarly), but you must maintain notice about this source location. Consider joining our training course to enjoy the full experience.\n",
    "\n",
    "---"
   ]
  },
  {
   "cell_type": "markdown",
   "metadata": {},
   "source": [
    "**SUMMARY:** *In the previous lab, you saw how a single bit of information can be used to recover an entire byte of the AES key. Remember, this works due to the S-Box being present in the data flow that we are attacking.*\n",
    "\n",
    "*Next, we'll see how to use power analysis instead of an actual bit value. With this technique, the goal is to separate the traces by a bit in the result of the SBox output (it doesn't matter which one): if that bit is 1, its group of traces should, on average, have higher power consumption during the SBox operation than the other set.*\n",
    "\n",
    "*This is all based on the assumption we discussed in the slides and saw in earlier labs: there is some consistent relationship between the value of bits on the data bus and the power consumption in the device.*\n",
    "\n",
    "**LEARNING OUTCOMES:**\n",
    "\n",
    "* Using a power measurement to 'validate' a possible device model.\n",
    "* Detecting the value of a single bit using power measurement.\n",
    "* Breaking AES using the classic DPA attack.\n"
   ]
  },
  {
   "cell_type": "markdown",
   "metadata": {},
   "source": [
    "## Prerequisites"
   ]
  },
  {
   "cell_type": "markdown",
   "metadata": {},
   "source": [
    "Hold up! Before you continue, check you've done the following tutorials:\n",
    "\n",
    "* ☑ Jupyter Notebook Intro (you should be OK with plotting & running blocks).\n",
    "* ☑ SCA101 Intro (you should have an idea of how to get hardware-specific versions running).\n",
    "* ☑ Breaking AES Using a Single Bit (we'll build on your previous work)."
   ]
  },
  {
   "cell_type": "markdown",
   "metadata": {},
   "source": [
    "## AES Model"
   ]
  },
  {
   "cell_type": "markdown",
   "metadata": {},
   "source": [
    "No need to remember the complex model from before - we can instead just jump right into the AES model! Copy your AES model you developed in the previous lab below & run it:"
   ]
  },
  {
   "cell_type": "code",
   "execution_count": 1,
   "metadata": {},
   "outputs": [],
   "source": [
    "sbox = [\n",
    "    # 0    1    2    3    4    5    6    7    8    9    a    b    c    d    e    f \n",
    "    0x63,0x7c,0x77,0x7b,0xf2,0x6b,0x6f,0xc5,0x30,0x01,0x67,0x2b,0xfe,0xd7,0xab,0x76, # 0\n",
    "    0xca,0x82,0xc9,0x7d,0xfa,0x59,0x47,0xf0,0xad,0xd4,0xa2,0xaf,0x9c,0xa4,0x72,0xc0, # 1\n",
    "    0xb7,0xfd,0x93,0x26,0x36,0x3f,0xf7,0xcc,0x34,0xa5,0xe5,0xf1,0x71,0xd8,0x31,0x15, # 2\n",
    "    0x04,0xc7,0x23,0xc3,0x18,0x96,0x05,0x9a,0x07,0x12,0x80,0xe2,0xeb,0x27,0xb2,0x75, # 3\n",
    "    0x09,0x83,0x2c,0x1a,0x1b,0x6e,0x5a,0xa0,0x52,0x3b,0xd6,0xb3,0x29,0xe3,0x2f,0x84, # 4\n",
    "    0x53,0xd1,0x00,0xed,0x20,0xfc,0xb1,0x5b,0x6a,0xcb,0xbe,0x39,0x4a,0x4c,0x58,0xcf, # 5\n",
    "    0xd0,0xef,0xaa,0xfb,0x43,0x4d,0x33,0x85,0x45,0xf9,0x02,0x7f,0x50,0x3c,0x9f,0xa8, # 6\n",
    "    0x51,0xa3,0x40,0x8f,0x92,0x9d,0x38,0xf5,0xbc,0xb6,0xda,0x21,0x10,0xff,0xf3,0xd2, # 7\n",
    "    0xcd,0x0c,0x13,0xec,0x5f,0x97,0x44,0x17,0xc4,0xa7,0x7e,0x3d,0x64,0x5d,0x19,0x73, # 8\n",
    "    0x60,0x81,0x4f,0xdc,0x22,0x2a,0x90,0x88,0x46,0xee,0xb8,0x14,0xde,0x5e,0x0b,0xdb, # 9\n",
    "    0xe0,0x32,0x3a,0x0a,0x49,0x06,0x24,0x5c,0xc2,0xd3,0xac,0x62,0x91,0x95,0xe4,0x79, # a\n",
    "    0xe7,0xc8,0x37,0x6d,0x8d,0xd5,0x4e,0xa9,0x6c,0x56,0xf4,0xea,0x65,0x7a,0xae,0x08, # b\n",
    "    0xba,0x78,0x25,0x2e,0x1c,0xa6,0xb4,0xc6,0xe8,0xdd,0x74,0x1f,0x4b,0xbd,0x8b,0x8a, # c\n",
    "    0x70,0x3e,0xb5,0x66,0x48,0x03,0xf6,0x0e,0x61,0x35,0x57,0xb9,0x86,0xc1,0x1d,0x9e, # d\n",
    "    0xe1,0xf8,0x98,0x11,0x69,0xd9,0x8e,0x94,0x9b,0x1e,0x87,0xe9,0xce,0x55,0x28,0xdf, # e\n",
    "    0x8c,0xa1,0x89,0x0d,0xbf,0xe6,0x42,0x68,0x41,0x99,0x2d,0x0f,0xb0,0x54,0xbb,0x16  # f\n",
    "]\n",
    "\n",
    "def aes_internal(inputdata, key):\n",
    "    return sbox[inputdata ^ key]"
   ]
  },
  {
   "cell_type": "markdown",
   "metadata": {},
   "source": [
    "You can verify the model works by running the following blocks, just like last time:"
   ]
  },
  {
   "cell_type": "code",
   "execution_count": 2,
   "metadata": {},
   "outputs": [
    {
     "name": "stdout",
     "output_type": "stream",
     "text": [
      "✔️ OK to continue!\n"
     ]
    }
   ],
   "source": [
    "#Simple test vectors - if you get the check-mark printed all OK.\n",
    "assert(aes_internal(0xAB, 0xEF) == 0x1B)\n",
    "assert(aes_internal(0x22, 0x01) == 0x26)\n",
    "print(\"✔️ OK to continue!\")"
   ]
  },
  {
   "cell_type": "markdown",
   "metadata": {},
   "source": [
    "## AES Power Watcher"
   ]
  },
  {
   "cell_type": "markdown",
   "metadata": {},
   "source": [
    "The next step is to send random data to the device, and observe the power consumption during the encryption.\n",
    "\n",
    "The idea is that we will use a capture loop like this:\n",
    "\n",
    "    print(scope)\n",
    "    for i in trange(N, desc='Capturing traces'):\n",
    "        key, text = ktp.next()  # manual creation of a key, text pair can be substituted here\n",
    "\n",
    "        trace = cw.capture_trace(scope, target, text, key)\n",
    "        if trace is None:\n",
    "            continue\n",
    "        traces.append(trace)\n",
    "        plot.send(trace)\n",
    "\n",
    "    #Convert traces to numpy arrays\n",
    "    trace_array = np.asarray([trace.wave for trace in traces])\n",
    "    textin_array = np.asarray([trace.textin for trace in traces])\n",
    "    known_keys = np.asarray([trace.key for trace in traces])  # for fixed key, these keys are all the same\n",
    "\n",
    "Depending what you are using, you can complete this either by:\n",
    "\n",
    "* Capturing new traces from a physical device.\n",
    "* Reading pre-recorded data from a file.\n",
    "\n",
    "You get to choose your adventure - see the two notebooks with the same name of this, but called `(SIMULATED)` or `(HARDWARE)` to continue. Inside those notebooks you should get some code to copy into the following section, which will define the capture function.\n",
    "\n",
    "Be sure you get the `\"✔️ OK to continue!\"` print once you run the next cell, otherwise things will fail later on!"
   ]
  },
  {
   "cell_type": "markdown",
   "metadata": {},
   "source": [
    "#### Hardware Setup"
   ]
  },
  {
   "cell_type": "code",
   "execution_count": 3,
   "metadata": {},
   "outputs": [],
   "source": [
    "SCOPETYPE = 'OPENADC'\n",
    "PLATFORM = 'CWLITEXMEGA'\n",
    "CRYPTO_TARGET = 'AVRCRYPTOLIB'\n",
    "SS_VER = 'SS_VER_1_1'"
   ]
  },
  {
   "cell_type": "code",
   "execution_count": 4,
   "metadata": {},
   "outputs": [
    {
     "name": "stdout",
     "output_type": "stream",
     "text": [
      "INFO: Found ChipWhisperer😍\n"
     ]
    }
   ],
   "source": [
    "%run \"../../Setup_Scripts/Setup_Generic.ipynb\""
   ]
  },
  {
   "cell_type": "code",
   "execution_count": 5,
   "metadata": {},
   "outputs": [
    {
     "name": "stdout",
     "output_type": "stream",
     "text": [
      "Building for platform CWLITEXMEGA with CRYPTO_TARGET=AVRCRYPTOLIB\n",
      "SS_VER set to SS_VER_1_1\n",
      "Blank crypto options, building for AES128\n",
      "rm -f -- simpleserial-aes-CWLITEXMEGA.hex\n",
      "rm -f -- simpleserial-aes-CWLITEXMEGA.eep\n",
      "rm -f -- simpleserial-aes-CWLITEXMEGA.cof\n",
      "rm -f -- simpleserial-aes-CWLITEXMEGA.elf\n",
      "rm -f -- simpleserial-aes-CWLITEXMEGA.map\n",
      "rm -f -- simpleserial-aes-CWLITEXMEGA.sym\n",
      "rm -f -- simpleserial-aes-CWLITEXMEGA.lss\n",
      "rm -f -- objdir-CWLITEXMEGA/*.o\n",
      "rm -f -- objdir-CWLITEXMEGA/*.lst\n",
      "rm -f -- simpleserial-aes.s simpleserial.s XMEGA_AES_driver.s uart.s usart_driver.s xmega_hal.s aes-independant.s aes_enc.s aes_keyschedule.s aes_sbox.s aes128_enc.s\n",
      "rm -f -- simpleserial-aes.d simpleserial.d XMEGA_AES_driver.d uart.d usart_driver.d xmega_hal.d aes-independant.d aes_enc.d aes_keyschedule.d aes_sbox.d aes128_enc.d\n",
      "rm -f -- simpleserial-aes.i simpleserial.i XMEGA_AES_driver.i uart.i usart_driver.i xmega_hal.i aes-independant.i aes_enc.i aes_keyschedule.i aes_sbox.i aes128_enc.i\n",
      ".\n",
      "Welcome to another exciting ChipWhisperer target build!!\n",
      "avr-gcc (GCC) 5.4.0\n",
      "Copyright (C) 2015 Free Software Foundation, Inc.\n",
      "This is free software; see the source for copying conditions.  There is NO\n",
      "warranty; not even for MERCHANTABILITY or FITNESS FOR A PARTICULAR PURPOSE.\n",
      "\n",
      ".\n",
      "Compiling C: simpleserial-aes.c\n",
      "avr-gcc -c -mmcu=atxmega128d3 -I. -DNO_EXTRA_OPTS -fpack-struct -gdwarf-2 -DSS_VER=SS_VER_1_1 -DHAL_TYPE=HAL_xmega -DPLATFORM=CWLITEXMEGA -DAVRCRYPTOLIB -DF_CPU=7372800UL -DSS_VER_2_0=2 -DSS_VER_2_1=3 -DSS_VER_1_1=1 -DSS_VER_1_0=0 -Os -funsigned-char -funsigned-bitfields -fshort-enums -Wall -Wstrict-prototypes -Wa,-adhlns=objdir-CWLITEXMEGA/simpleserial-aes.lst -I.././simpleserial/ -I.././hal -I.././hal/xmega -I.././crypto/ -I.././crypto/avrcryptolib//aes -I.././crypto/avrcryptolib//gf256mul -std=gnu99  -MMD -MP -MF .dep/simpleserial-aes.o.d simpleserial-aes.c -o objdir-CWLITEXMEGA/simpleserial-aes.o\n",
      ".\n",
      "Compiling C: .././simpleserial/simpleserial.c\n",
      "avr-gcc -c -mmcu=atxmega128d3 -I. -DNO_EXTRA_OPTS -fpack-struct -gdwarf-2 -DSS_VER=SS_VER_1_1 -DHAL_TYPE=HAL_xmega -DPLATFORM=CWLITEXMEGA -DAVRCRYPTOLIB -DF_CPU=7372800UL -DSS_VER_2_0=2 -DSS_VER_2_1=3 -DSS_VER_1_1=1 -DSS_VER_1_0=0 -Os -funsigned-char -funsigned-bitfields -fshort-enums -Wall -Wstrict-prototypes -Wa,-adhlns=objdir-CWLITEXMEGA/simpleserial.lst -I.././simpleserial/ -I.././hal -I.././hal/xmega -I.././crypto/ -I.././crypto/avrcryptolib//aes -I.././crypto/avrcryptolib//gf256mul -std=gnu99  -MMD -MP -MF .dep/simpleserial.o.d .././simpleserial/simpleserial.c -o objdir-CWLITEXMEGA/simpleserial.o\n",
      ".\n",
      "Compiling C: .././hal/xmega/XMEGA_AES_driver.c\n",
      "avr-gcc -c -mmcu=atxmega128d3 -I. -DNO_EXTRA_OPTS -fpack-struct -gdwarf-2 -DSS_VER=SS_VER_1_1 -DHAL_TYPE=HAL_xmega -DPLATFORM=CWLITEXMEGA -DAVRCRYPTOLIB -DF_CPU=7372800UL -DSS_VER_2_0=2 -DSS_VER_2_1=3 -DSS_VER_1_1=1 -DSS_VER_1_0=0 -Os -funsigned-char -funsigned-bitfields -fshort-enums -Wall -Wstrict-prototypes -Wa,-adhlns=objdir-CWLITEXMEGA/XMEGA_AES_driver.lst -I.././simpleserial/ -I.././hal -I.././hal/xmega -I.././crypto/ -I.././crypto/avrcryptolib//aes -I.././crypto/avrcryptolib//gf256mul -std=gnu99  -MMD -MP -MF .dep/XMEGA_AES_driver.o.d .././hal/xmega/XMEGA_AES_driver.c -o objdir-CWLITEXMEGA/XMEGA_AES_driver.o\n",
      ".\n",
      "Compiling C: .././hal/xmega/uart.c\n",
      "avr-gcc -c -mmcu=atxmega128d3 -I. -DNO_EXTRA_OPTS -fpack-struct -gdwarf-2 -DSS_VER=SS_VER_1_1 -DHAL_TYPE=HAL_xmega -DPLATFORM=CWLITEXMEGA -DAVRCRYPTOLIB -DF_CPU=7372800UL -DSS_VER_2_0=2 -DSS_VER_2_1=3 -DSS_VER_1_1=1 -DSS_VER_1_0=0 -Os -funsigned-char -funsigned-bitfields -fshort-enums -Wall -Wstrict-prototypes -Wa,-adhlns=objdir-CWLITEXMEGA/uart.lst -I.././simpleserial/ -I.././hal -I.././hal/xmega -I.././crypto/ -I.././crypto/avrcryptolib//aes -I.././crypto/avrcryptolib//gf256mul -std=gnu99  -MMD -MP -MF .dep/uart.o.d .././hal/xmega/uart.c -o objdir-CWLITEXMEGA/uart.o\n",
      ".\n",
      "Compiling C: .././hal/xmega/usart_driver.c\n",
      "avr-gcc -c -mmcu=atxmega128d3 -I. -DNO_EXTRA_OPTS -fpack-struct -gdwarf-2 -DSS_VER=SS_VER_1_1 -DHAL_TYPE=HAL_xmega -DPLATFORM=CWLITEXMEGA -DAVRCRYPTOLIB -DF_CPU=7372800UL -DSS_VER_2_0=2 -DSS_VER_2_1=3 -DSS_VER_1_1=1 -DSS_VER_1_0=0 -Os -funsigned-char -funsigned-bitfields -fshort-enums -Wall -Wstrict-prototypes -Wa,-adhlns=objdir-CWLITEXMEGA/usart_driver.lst -I.././simpleserial/ -I.././hal -I.././hal/xmega -I.././crypto/ -I.././crypto/avrcryptolib//aes -I.././crypto/avrcryptolib//gf256mul -std=gnu99  -MMD -MP -MF .dep/usart_driver.o.d .././hal/xmega/usart_driver.c -o objdir-CWLITEXMEGA/usart_driver.o\n",
      ".\n",
      "Compiling C: .././hal/xmega/xmega_hal.c\n",
      "avr-gcc -c -mmcu=atxmega128d3 -I. -DNO_EXTRA_OPTS -fpack-struct -gdwarf-2 -DSS_VER=SS_VER_1_1 -DHAL_TYPE=HAL_xmega -DPLATFORM=CWLITEXMEGA -DAVRCRYPTOLIB -DF_CPU=7372800UL -DSS_VER_2_0=2 -DSS_VER_2_1=3 -DSS_VER_1_1=1 -DSS_VER_1_0=0 -Os -funsigned-char -funsigned-bitfields -fshort-enums -Wall -Wstrict-prototypes -Wa,-adhlns=objdir-CWLITEXMEGA/xmega_hal.lst -I.././simpleserial/ -I.././hal -I.././hal/xmega -I.././crypto/ -I.././crypto/avrcryptolib//aes -I.././crypto/avrcryptolib//gf256mul -std=gnu99  -MMD -MP -MF .dep/xmega_hal.o.d .././hal/xmega/xmega_hal.c -o objdir-CWLITEXMEGA/xmega_hal.o\n",
      ".\n",
      "Compiling C: .././crypto/aes-independant.c\n",
      "avr-gcc -c -mmcu=atxmega128d3 -I. -DNO_EXTRA_OPTS -fpack-struct -gdwarf-2 -DSS_VER=SS_VER_1_1 -DHAL_TYPE=HAL_xmega -DPLATFORM=CWLITEXMEGA -DAVRCRYPTOLIB -DF_CPU=7372800UL -DSS_VER_2_0=2 -DSS_VER_2_1=3 -DSS_VER_1_1=1 -DSS_VER_1_0=0 -Os -funsigned-char -funsigned-bitfields -fshort-enums -Wall -Wstrict-prototypes -Wa,-adhlns=objdir-CWLITEXMEGA/aes-independant.lst -I.././simpleserial/ -I.././hal -I.././hal/xmega -I.././crypto/ -I.././crypto/avrcryptolib//aes -I.././crypto/avrcryptolib//gf256mul -std=gnu99  -MMD -MP -MF .dep/aes-independant.o.d .././crypto/aes-independant.c -o objdir-CWLITEXMEGA/aes-independant.o\n",
      ".\n",
      "Compiling C: .././crypto/avrcryptolib//aes/aes_enc.c\n",
      "avr-gcc -c -mmcu=atxmega128d3 -I. -DNO_EXTRA_OPTS -fpack-struct -gdwarf-2 -DSS_VER=SS_VER_1_1 -DHAL_TYPE=HAL_xmega -DPLATFORM=CWLITEXMEGA -DAVRCRYPTOLIB -DF_CPU=7372800UL -DSS_VER_2_0=2 -DSS_VER_2_1=3 -DSS_VER_1_1=1 -DSS_VER_1_0=0 -Os -funsigned-char -funsigned-bitfields -fshort-enums -Wall -Wstrict-prototypes -Wa,-adhlns=objdir-CWLITEXMEGA/aes_enc.lst -I.././simpleserial/ -I.././hal -I.././hal/xmega -I.././crypto/ -I.././crypto/avrcryptolib//aes -I.././crypto/avrcryptolib//gf256mul -std=gnu99  -MMD -MP -MF .dep/aes_enc.o.d .././crypto/avrcryptolib//aes/aes_enc.c -o objdir-CWLITEXMEGA/aes_enc.o\n",
      ".\n",
      "Compiling C: .././crypto/avrcryptolib//aes/aes_keyschedule.c\n",
      "avr-gcc -c -mmcu=atxmega128d3 -I. -DNO_EXTRA_OPTS -fpack-struct -gdwarf-2 -DSS_VER=SS_VER_1_1 -DHAL_TYPE=HAL_xmega -DPLATFORM=CWLITEXMEGA -DAVRCRYPTOLIB -DF_CPU=7372800UL -DSS_VER_2_0=2 -DSS_VER_2_1=3 -DSS_VER_1_1=1 -DSS_VER_1_0=0 -Os -funsigned-char -funsigned-bitfields -fshort-enums -Wall -Wstrict-prototypes -Wa,-adhlns=objdir-CWLITEXMEGA/aes_keyschedule.lst -I.././simpleserial/ -I.././hal -I.././hal/xmega -I.././crypto/ -I.././crypto/avrcryptolib//aes -I.././crypto/avrcryptolib//gf256mul -std=gnu99  -MMD -MP -MF .dep/aes_keyschedule.o.d .././crypto/avrcryptolib//aes/aes_keyschedule.c -o objdir-CWLITEXMEGA/aes_keyschedule.o\n",
      ".\n",
      "Compiling C: .././crypto/avrcryptolib//aes/aes_sbox.c\n",
      "avr-gcc -c -mmcu=atxmega128d3 -I. -DNO_EXTRA_OPTS -fpack-struct -gdwarf-2 -DSS_VER=SS_VER_1_1 -DHAL_TYPE=HAL_xmega -DPLATFORM=CWLITEXMEGA -DAVRCRYPTOLIB -DF_CPU=7372800UL -DSS_VER_2_0=2 -DSS_VER_2_1=3 -DSS_VER_1_1=1 -DSS_VER_1_0=0 -Os -funsigned-char -funsigned-bitfields -fshort-enums -Wall -Wstrict-prototypes -Wa,-adhlns=objdir-CWLITEXMEGA/aes_sbox.lst -I.././simpleserial/ -I.././hal -I.././hal/xmega -I.././crypto/ -I.././crypto/avrcryptolib//aes -I.././crypto/avrcryptolib//gf256mul -std=gnu99  -MMD -MP -MF .dep/aes_sbox.o.d .././crypto/avrcryptolib//aes/aes_sbox.c -o objdir-CWLITEXMEGA/aes_sbox.o\n",
      ".\n",
      "Compiling C: .././crypto/avrcryptolib//aes/aes128_enc.c\n",
      "avr-gcc -c -mmcu=atxmega128d3 -I. -DNO_EXTRA_OPTS -fpack-struct -gdwarf-2 -DSS_VER=SS_VER_1_1 -DHAL_TYPE=HAL_xmega -DPLATFORM=CWLITEXMEGA -DAVRCRYPTOLIB -DF_CPU=7372800UL -DSS_VER_2_0=2 -DSS_VER_2_1=3 -DSS_VER_1_1=1 -DSS_VER_1_0=0 -Os -funsigned-char -funsigned-bitfields -fshort-enums -Wall -Wstrict-prototypes -Wa,-adhlns=objdir-CWLITEXMEGA/aes128_enc.lst -I.././simpleserial/ -I.././hal -I.././hal/xmega -I.././crypto/ -I.././crypto/avrcryptolib//aes -I.././crypto/avrcryptolib//gf256mul -std=gnu99  -MMD -MP -MF .dep/aes128_enc.o.d .././crypto/avrcryptolib//aes/aes128_enc.c -o objdir-CWLITEXMEGA/aes128_enc.o\n",
      ".\n",
      "Assembling: .././crypto/avrcryptolib//gf256mul/gf256mul.S\n",
      "avr-gcc -c -mmcu=atxmega128d3 -I. -x assembler-with-cpp -DF_CPU=7372800 -Wa,-gstabs,-adhlns=objdir-CWLITEXMEGA/gf256mul.lst -I.././simpleserial/ -I.././hal -I.././hal/xmega -I.././crypto/ -I.././crypto/avrcryptolib//aes -I.././crypto/avrcryptolib//gf256mul .././crypto/avrcryptolib//gf256mul/gf256mul.S -o objdir-CWLITEXMEGA/gf256mul.o\n",
      ".\n",
      "Linking: simpleserial-aes-CWLITEXMEGA.elf\n",
      "avr-gcc -mmcu=atxmega128d3 -I. -DNO_EXTRA_OPTS -fpack-struct -gdwarf-2 -DSS_VER=SS_VER_1_1 -DHAL_TYPE=HAL_xmega -DPLATFORM=CWLITEXMEGA -DAVRCRYPTOLIB -DF_CPU=7372800UL -DSS_VER_2_0=2 -DSS_VER_2_1=3 -DSS_VER_1_1=1 -DSS_VER_1_0=0 -Os -funsigned-char -funsigned-bitfields -fshort-enums -Wall -Wstrict-prototypes -Wa,-adhlns=objdir-CWLITEXMEGA/simpleserial-aes.o -I.././simpleserial/ -I.././hal -I.././hal/xmega -I.././crypto/ -I.././crypto/avrcryptolib//aes -I.././crypto/avrcryptolib//gf256mul -std=gnu99  -MMD -MP -MF .dep/simpleserial-aes-CWLITEXMEGA.elf.d objdir-CWLITEXMEGA/simpleserial-aes.o objdir-CWLITEXMEGA/simpleserial.o objdir-CWLITEXMEGA/XMEGA_AES_driver.o objdir-CWLITEXMEGA/uart.o objdir-CWLITEXMEGA/usart_driver.o objdir-CWLITEXMEGA/xmega_hal.o objdir-CWLITEXMEGA/aes-independant.o objdir-CWLITEXMEGA/aes_enc.o objdir-CWLITEXMEGA/aes_keyschedule.o objdir-CWLITEXMEGA/aes_sbox.o objdir-CWLITEXMEGA/aes128_enc.o objdir-CWLITEXMEGA/gf256mul.o --output simpleserial-aes-CWLITEXMEGA.elf -Wl,-Map=simpleserial-aes-CWLITEXMEGA.map,--cref   -lm  \n",
      ".\n",
      "Creating load file for Flash: simpleserial-aes-CWLITEXMEGA.hex\n",
      "avr-objcopy -O ihex -R .eeprom -R .fuse -R .lock -R .signature simpleserial-aes-CWLITEXMEGA.elf simpleserial-aes-CWLITEXMEGA.hex\n",
      ".\n",
      "Creating load file for EEPROM: simpleserial-aes-CWLITEXMEGA.eep\n",
      "avr-objcopy -j .eeprom --set-section-flags=.eeprom=\"alloc,load\" \\\n",
      "--change-section-lma .eeprom=0 --no-change-warnings -O ihex simpleserial-aes-CWLITEXMEGA.elf simpleserial-aes-CWLITEXMEGA.eep || exit 0\n",
      ".\n",
      "Creating Extended Listing: simpleserial-aes-CWLITEXMEGA.lss\n",
      "avr-objdump -h -S -z simpleserial-aes-CWLITEXMEGA.elf > simpleserial-aes-CWLITEXMEGA.lss\n",
      ".\n",
      "Creating Symbol Table: simpleserial-aes-CWLITEXMEGA.sym\n",
      "avr-nm -n simpleserial-aes-CWLITEXMEGA.elf > simpleserial-aes-CWLITEXMEGA.sym\n",
      "Size after:\n",
      "   text\t   data\t    bss\t    dec\t    hex\tfilename\n",
      "   3728\t     34\t    274\t   4036\t    fc4\tsimpleserial-aes-CWLITEXMEGA.elf\n",
      "+--------------------------------------------------------\n",
      "+ Default target does full rebuild each time.\n",
      "+ Specify buildtarget == allquick == to avoid full rebuild\n",
      "+--------------------------------------------------------\n",
      "+--------------------------------------------------------\n",
      "+ Built for platform CW-Lite XMEGA with:\n",
      "+ CRYPTO_TARGET = AVRCRYPTOLIB\n",
      "+ CRYPTO_OPTIONS = AES128C\n",
      "+--------------------------------------------------------\n"
     ]
    }
   ],
   "source": [
    "%%bash -s \"$PLATFORM\" \"$CRYPTO_TARGET\" \"$SS_VER\"\n",
    "cd ../../../hardware/victims/firmware/simpleserial-aes\n",
    "make PLATFORM=$1 CRYPTO_TARGET=$2 SS_VER=$3"
   ]
  },
  {
   "cell_type": "code",
   "execution_count": 6,
   "metadata": {},
   "outputs": [
    {
     "name": "stdout",
     "output_type": "stream",
     "text": [
      "XMEGA Programming flash...\n",
      "XMEGA Reading flash...\n",
      "Verified flash OK, 3761 bytes\n"
     ]
    }
   ],
   "source": [
    "cw.program_target(scope, prog, \"../../../hardware/victims/firmware/simpleserial-aes/simpleserial-aes-{}.hex\".format(PLATFORM))"
   ]
  },
  {
   "cell_type": "markdown",
   "metadata": {},
   "source": [
    "For this tutorial, we'll need to capture around 2500 traces:"
   ]
  },
  {
   "cell_type": "code",
   "execution_count": 7,
   "metadata": {},
   "outputs": [
    {
     "name": "stderr",
     "output_type": "stream",
     "text": [
      "Capturing traces: 100%|██████████| 5000/5000 [02:32<00:00, 32.86it/s]\n"
     ]
    }
   ],
   "source": [
    "from tqdm import trange\n",
    "import numpy as np\n",
    "import time\n",
    "\n",
    "ktp = cw.ktp.Basic()\n",
    "trace_array = []\n",
    "textin_array = []\n",
    "\n",
    "key, text = ktp.next()\n",
    "\n",
    "target.set_key(key)\n",
    "\n",
    "N = 5000\n",
    "for i in trange(N, desc='Capturing traces'):\n",
    "    scope.arm()\n",
    "    \n",
    "    target.simpleserial_write('p', text)\n",
    "    \n",
    "    ret = scope.capture()\n",
    "    if ret:\n",
    "        print(\"Target timed out!\")\n",
    "        continue\n",
    "    \n",
    "    response = target.simpleserial_read('r', 16)\n",
    "    \n",
    "    trace_array.append(scope.get_last_trace())\n",
    "    textin_array.append(text)\n",
    "    \n",
    "    key, text = ktp.next() "
   ]
  },
  {
   "cell_type": "code",
   "execution_count": 8,
   "metadata": {},
   "outputs": [
    {
     "name": "stdout",
     "output_type": "stream",
     "text": [
      "✔️ OK to continue!\n"
     ]
    }
   ],
   "source": [
    "assert(len(trace_array) == 5000)\n",
    "print(\"✔️ OK to continue!\")"
   ]
  },
  {
   "cell_type": "markdown",
   "metadata": {},
   "source": [
    "What's this data look like? Try plotting a trace or two here:"
   ]
  },
  {
   "cell_type": "code",
   "execution_count": 9,
   "metadata": {},
   "outputs": [
    {
     "data": {
      "application/vnd.jupyter.widget-view+json": {
       "model_id": "97cb1aa2834846a19a1855cf1c038c60",
       "version_major": 2,
       "version_minor": 0
      },
      "image/png": "[encoded data removed]",
      "text/plain": [
       "Canvas(toolbar=Toolbar(toolitems=[('Home', 'Reset original view', 'home', 'home'), ('Back', 'Back to previous …"
      ]
     },
     "metadata": {},
     "output_type": "display_data"
    }
   ],
   "source": [
    "%matplotlib ipympl\n",
    "import matplotlib.pylab as plt\n",
    "\n",
    "plt.figure()\n",
    "plt.plot(trace_array[0], 'red')\n",
    "plt.plot(trace_array[1], 'blue')\n",
    "plt.show()"
   ]
  },
  {
   "cell_type": "markdown",
   "metadata": {},
   "source": [
    "OK interesting - so we've got data! And what about the format of the input data?"
   ]
  },
  {
   "cell_type": "code",
   "execution_count": 10,
   "metadata": {},
   "outputs": [
    {
     "name": "stdout",
     "output_type": "stream",
     "text": [
      "CWbytearray(b'9e a9 37 01 06 2b 21 5c a1 9b 0e 47 d9 8d e5 03')\n",
      "CWbytearray(b'9d 9d a6 23 d8 34 d6 60 bf de c9 0b 03 f0 9e 66')\n"
     ]
    }
   ],
   "source": [
    "print(textin_array[0])\n",
    "print(textin_array[1])"
   ]
  },
  {
   "cell_type": "markdown",
   "metadata": {},
   "source": [
    "## AES Guesser - One Byte"
   ]
  },
  {
   "cell_type": "markdown",
   "metadata": {},
   "source": [
    "The attack now needs a way of splitting traces into two groups, depending on the state of a bit in our \"guessed\" value. We're going to start easy by guessing a single byte of the AES key at a time.\n",
    "\n",
    "To start with - define the number of traces & number of points in each trace. You can use the following example code, just run this block:"
   ]
  },
  {
   "cell_type": "code",
   "execution_count": 11,
   "metadata": {},
   "outputs": [
    {
     "name": "stdout",
     "output_type": "stream",
     "text": [
      "5000 5000\n"
     ]
    }
   ],
   "source": [
    "numtraces = np.shape(trace_array)[0] #total number of traces\n",
    "numpoints = np.shape(trace_array)[1] #samples per trace\n",
    "print(numtraces, numpoints)"
   ]
  },
  {
   "cell_type": "markdown",
   "metadata": {},
   "source": [
    "If you remember from the slides - our algorithm looks like this:    \n",
    "\n",
    "    for key_byte_guess_value in [0, 1, 2, 3, ... 253, 254, 255]:\n",
    "        \n",
    "        one_list = empty list\n",
    "        zero_list = empty list\n",
    "        \n",
    "        for trace_index in [0, 1, 2, 3, ..., numtraces]:\n",
    "        \n",
    "            input_byte = textin_array[trace_index][byte_to_attack]\n",
    "            \n",
    "            #Get a hypothetical leakage list - use aes_internal(guess, input_byte)          \n",
    "\n",
    "            if hypothetical_leakage bit 0 is 1:\n",
    "                append trace_array[trace_index] to one_list\n",
    "            else:\n",
    "                append trace_array[trace_index] to zero_list\n",
    "                \n",
    "        one_avg = average of one_list\n",
    "        zero_avg = average of zero_list\n",
    "\n",
    "        max_diff_value = maximum of ABS(one_avg - zero_avg)\n",
    "        \n",
    "To get the average of your `one_list` and `zero_list` you can use numpy:\n",
    "\n",
    "    import numpy as np\n",
    "    avg_one_list = np.asarray(one_list).mean(axis=0)\n",
    "\n",
    "The important thing here is the `axis=0`, which does an average so the resulting array is done across all traces (not just the average value of one trace, but the average of each point index *across all traces*).\n",
    "\n",
    "To help you do some testing - let me tell you that the correct value of byte 0 is `0x2B`. You can use this to validate that your solution is working on the first byte. If you get stuck - see some hints below (but give it a try first).\n",
    "\n",
    "What you should see is an output of the maximum value between the two average groups be higher for the `0x2B` value. For example, priting the maximum SAD value from an example loop looks like this for me:\n",
    "\n",
    "    Guessing 28: 0.001397\n",
    "    Guessing 29: 0.000927\n",
    "    Guessing 2a: 0.001953\n",
    "    Guessing 2b: 0.005278\n",
    "    Guessing 2c: 0.000919\n",
    "    Guessing 2d: 0.002510\n",
    "    Guessing 2e: 0.001241\n",
    "    Guessing 2f: 0.001242\n",
    "\n",
    "Note the value of `0.005278` for `0x2B` - this is higher than the others which range from `0.000927` to `0.002510`."
   ]
  },
  {
   "cell_type": "code",
   "execution_count": 12,
   "metadata": {},
   "outputs": [
    {
     "name": "stdout",
     "output_type": "stream",
     "text": [
      "Guessing 0: 0.002567\n",
      "Guessing 1: 0.001541\n",
      "Guessing 2: 0.002328\n",
      "Guessing 3: 0.001831\n",
      "Guessing 4: 0.001997\n",
      "Guessing 5: 0.002098\n",
      "Guessing 6: 0.001975\n",
      "Guessing 7: 0.001786\n",
      "Guessing 8: 0.002534\n",
      "Guessing 9: 0.001825\n",
      "Guessing A: 0.002046\n",
      "Guessing B: 0.002058\n",
      "Guessing C: 0.001877\n",
      "Guessing D: 0.001565\n",
      "Guessing E: 0.002191\n",
      "Guessing F: 0.001703\n",
      "Guessing 10: 0.002066\n",
      "Guessing 11: 0.002750\n",
      "Guessing 12: 0.001873\n",
      "Guessing 13: 0.001735\n",
      "Guessing 14: 0.001878\n",
      "Guessing 15: 0.003595\n",
      "Guessing 16: 0.001717\n",
      "Guessing 17: 0.001854\n",
      "Guessing 18: 0.002149\n",
      "Guessing 19: 0.002297\n",
      "Guessing 1A: 0.001930\n",
      "Guessing 1B: 0.001735\n",
      "Guessing 1C: 0.001873\n",
      "Guessing 1D: 0.002596\n",
      "Guessing 1E: 0.002048\n",
      "Guessing 1F: 0.001792\n",
      "Guessing 20: 0.002426\n",
      "Guessing 21: 0.002662\n",
      "Guessing 22: 0.002039\n",
      "Guessing 23: 0.002275\n",
      "Guessing 24: 0.001579\n",
      "Guessing 25: 0.001518\n",
      "Guessing 26: 0.001904\n",
      "Guessing 27: 0.002011\n",
      "Guessing 28: 0.001925\n",
      "Guessing 29: 0.001412\n",
      "Guessing 2A: 0.003987\n",
      "Guessing 2B: 0.004561\n",
      "Guessing 2C: 0.002032\n",
      "Guessing 2D: 0.002362\n",
      "Guessing 2E: 0.002057\n",
      "Guessing 2F: 0.002374\n",
      "Guessing 30: 0.001998\n",
      "Guessing 31: 0.002206\n",
      "Guessing 32: 0.002796\n",
      "Guessing 33: 0.001723\n",
      "Guessing 34: 0.002214\n",
      "Guessing 35: 0.002807\n",
      "Guessing 36: 0.001901\n",
      "Guessing 37: 0.002072\n",
      "Guessing 38: 0.002120\n",
      "Guessing 39: 0.002120\n",
      "Guessing 3A: 0.002008\n",
      "Guessing 3B: 0.001878\n",
      "Guessing 3C: 0.002136\n",
      "Guessing 3D: 0.002066\n",
      "Guessing 3E: 0.002041\n",
      "Guessing 3F: 0.002124\n",
      "Guessing 40: 0.002916\n",
      "Guessing 41: 0.002131\n",
      "Guessing 42: 0.002751\n",
      "Guessing 43: 0.002263\n",
      "Guessing 44: 0.001997\n",
      "Guessing 45: 0.002474\n",
      "Guessing 46: 0.002235\n",
      "Guessing 47: 0.001657\n",
      "Guessing 48: 0.002348\n",
      "Guessing 49: 0.002140\n",
      "Guessing 4A: 0.002901\n",
      "Guessing 4B: 0.002228\n",
      "Guessing 4C: 0.001927\n",
      "Guessing 4D: 0.001655\n",
      "Guessing 4E: 0.002759\n",
      "Guessing 4F: 0.003050\n",
      "Guessing 50: 0.001662\n",
      "Guessing 51: 0.002153\n",
      "Guessing 52: 0.002552\n",
      "Guessing 53: 0.002392\n",
      "Guessing 54: 0.001625\n",
      "Guessing 55: 0.001925\n",
      "Guessing 56: 0.002149\n",
      "Guessing 57: 0.001959\n",
      "Guessing 58: 0.002461\n",
      "Guessing 59: 0.001843\n",
      "Guessing 5A: 0.001582\n",
      "Guessing 5B: 0.002019\n",
      "Guessing 5C: 0.002393\n",
      "Guessing 5D: 0.001940\n",
      "Guessing 5E: 0.002202\n",
      "Guessing 5F: 0.001660\n",
      "Guessing 60: 0.002627\n",
      "Guessing 61: 0.002414\n",
      "Guessing 62: 0.001834\n",
      "Guessing 63: 0.001986\n",
      "Guessing 64: 0.001846\n",
      "Guessing 65: 0.001877\n",
      "Guessing 66: 0.002043\n",
      "Guessing 67: 0.002638\n",
      "Guessing 68: 0.003123\n",
      "Guessing 69: 0.002697\n",
      "Guessing 6A: 0.002224\n",
      "Guessing 6B: 0.002206\n",
      "Guessing 6C: 0.001942\n",
      "Guessing 6D: 0.002046\n",
      "Guessing 6E: 0.002085\n",
      "Guessing 6F: 0.001646\n",
      "Guessing 70: 0.001939\n",
      "Guessing 71: 0.002122\n",
      "Guessing 72: 0.001793\n",
      "Guessing 73: 0.002339\n",
      "Guessing 74: 0.001493\n",
      "Guessing 75: 0.001803\n",
      "Guessing 76: 0.001869\n",
      "Guessing 77: 0.002024\n",
      "Guessing 78: 0.002091\n",
      "Guessing 79: 0.001408\n",
      "Guessing 7A: 0.002244\n",
      "Guessing 7B: 0.001925\n",
      "Guessing 7C: 0.001925\n",
      "Guessing 7D: 0.002313\n",
      "Guessing 7E: 0.001680\n",
      "Guessing 7F: 0.002553\n",
      "Guessing 80: 0.001326\n",
      "Guessing 81: 0.002327\n",
      "Guessing 82: 0.002116\n",
      "Guessing 83: 0.001873\n",
      "Guessing 84: 0.002634\n",
      "Guessing 85: 0.002583\n",
      "Guessing 86: 0.001716\n",
      "Guessing 87: 0.001932\n",
      "Guessing 88: 0.001612\n",
      "Guessing 89: 0.001708\n",
      "Guessing 8A: 0.001845\n",
      "Guessing 8B: 0.002052\n",
      "Guessing 8C: 0.002533\n",
      "Guessing 8D: 0.002374\n",
      "Guessing 8E: 0.001797\n",
      "Guessing 8F: 0.001729\n",
      "Guessing 90: 0.001558\n",
      "Guessing 91: 0.002057\n",
      "Guessing 92: 0.002206\n",
      "Guessing 93: 0.002109\n",
      "Guessing 94: 0.002367\n",
      "Guessing 95: 0.002027\n",
      "Guessing 96: 0.003115\n",
      "Guessing 97: 0.002525\n",
      "Guessing 98: 0.001805\n",
      "Guessing 99: 0.001928\n",
      "Guessing 9A: 0.002335\n",
      "Guessing 9B: 0.002237\n",
      "Guessing 9C: 0.001786\n",
      "Guessing 9D: 0.002706\n",
      "Guessing 9E: 0.002337\n",
      "Guessing 9F: 0.002928\n",
      "Guessing A0: 0.001925\n",
      "Guessing A1: 0.002101\n",
      "Guessing A2: 0.001776\n",
      "Guessing A3: 0.001760\n",
      "Guessing A4: 0.001996\n",
      "Guessing A5: 0.002095\n",
      "Guessing A6: 0.002381\n",
      "Guessing A7: 0.002571\n",
      "Guessing A8: 0.001700\n",
      "Guessing A9: 0.002076\n",
      "Guessing AA: 0.002130\n",
      "Guessing AB: 0.002070\n",
      "Guessing AC: 0.001719\n",
      "Guessing AD: 0.001898\n",
      "Guessing AE: 0.001735\n",
      "Guessing AF: 0.001739\n",
      "Guessing B0: 0.001934\n",
      "Guessing B1: 0.002256\n",
      "Guessing B2: 0.003341\n",
      "Guessing B3: 0.002259\n",
      "Guessing B4: 0.002494\n",
      "Guessing B5: 0.002928\n",
      "Guessing B6: 0.002200\n",
      "Guessing B7: 0.002769\n",
      "Guessing B8: 0.002288\n",
      "Guessing B9: 0.002416\n",
      "Guessing BA: 0.002082\n",
      "Guessing BB: 0.002857\n",
      "Guessing BC: 0.002242\n",
      "Guessing BD: 0.002780\n",
      "Guessing BE: 0.002022\n",
      "Guessing BF: 0.002918\n",
      "Guessing C0: 0.002246\n",
      "Guessing C1: 0.002169\n",
      "Guessing C2: 0.001660\n",
      "Guessing C3: 0.002071\n",
      "Guessing C4: 0.001933\n",
      "Guessing C5: 0.001881\n",
      "Guessing C6: 0.002378\n",
      "Guessing C7: 0.002309\n",
      "Guessing C8: 0.002326\n",
      "Guessing C9: 0.002361\n",
      "Guessing CA: 0.001936\n",
      "Guessing CB: 0.002030\n",
      "Guessing CC: 0.002321\n",
      "Guessing CD: 0.002408\n",
      "Guessing CE: 0.001732\n",
      "Guessing CF: 0.002575\n",
      "Guessing D0: 0.002017\n",
      "Guessing D1: 0.001740\n",
      "Guessing D2: 0.001966\n",
      "Guessing D3: 0.001948\n",
      "Guessing D4: 0.001647\n",
      "Guessing D5: 0.002183\n",
      "Guessing D6: 0.002142\n",
      "Guessing D7: 0.001629\n",
      "Guessing D8: 0.002422\n",
      "Guessing D9: 0.002975\n",
      "Guessing DA: 0.001746\n",
      "Guessing DB: 0.001881\n",
      "Guessing DC: 0.001441\n",
      "Guessing DD: 0.001935\n",
      "Guessing DE: 0.001921\n",
      "Guessing DF: 0.002149\n",
      "Guessing E0: 0.001772\n",
      "Guessing E1: 0.001698\n",
      "Guessing E2: 0.001593\n",
      "Guessing E3: 0.002027\n",
      "Guessing E4: 0.001941\n",
      "Guessing E5: 0.001974\n",
      "Guessing E6: 0.002136\n",
      "Guessing E7: 0.002153\n",
      "Guessing E8: 0.001958\n",
      "Guessing E9: 0.002416\n",
      "Guessing EA: 0.002207\n",
      "Guessing EB: 0.002491\n",
      "Guessing EC: 0.002189\n",
      "Guessing ED: 0.002093\n",
      "Guessing EE: 0.001566\n",
      "Guessing EF: 0.002069\n",
      "Guessing F0: 0.002265\n",
      "Guessing F1: 0.001548\n",
      "Guessing F2: 0.001534\n",
      "Guessing F3: 0.002290\n",
      "Guessing F4: 0.001371\n",
      "Guessing F5: 0.002071\n",
      "Guessing F6: 0.001739\n",
      "Guessing F7: 0.001935\n",
      "Guessing F8: 0.001711\n",
      "Guessing F9: 0.001510\n",
      "Guessing FA: 0.002200\n",
      "Guessing FB: 0.002178\n",
      "Guessing FC: 0.001571\n",
      "Guessing FD: 0.002344\n",
      "Guessing FE: 0.003423\n",
      "Guessing FF: 0.002835\n"
     ]
    }
   ],
   "source": [
    "import numpy as np\n",
    "mean_diffs = np.zeros(256)\n",
    "for guess in range(256):\n",
    "    one_list = []\n",
    "    zero_list = []\n",
    "\n",
    "    for trace_index in range(numtraces):\n",
    "        input_byte = textin_array[trace_index][0]\n",
    "\n",
    "        hypothetical_leakage = aes_internal(key=guess, inputdata=input_byte)\n",
    "\n",
    "        if hypothetical_leakage & 0x01:\n",
    "            one_list.append(trace_array[trace_index])\n",
    "        else:\n",
    "            zero_list.append(trace_array[trace_index])\n",
    "    one_avg = np.asarray(one_list).mean(axis=0)\n",
    "    zero_avg = np.asarray(zero_list).mean(axis=0)\n",
    "\n",
    "    mean_diffs[guess] = np.max(abs(one_avg - zero_avg))\n",
    "    print('Guessing {:0X}: {:f}'.format(guess, mean_diffs[guess]))"
   ]
  },
  {
   "cell_type": "code",
   "execution_count": 13,
   "metadata": {},
   "outputs": [
    {
     "name": "stdout",
     "output_type": "stream",
     "text": [
      "Guess 2B: 0.004561\n",
      "Guess 2A: 0.003987\n",
      "Guess 15: 0.003595\n",
      "Guess FE: 0.003423\n",
      "Guess B2: 0.003341\n",
      "Guess 68: 0.003123\n",
      "Guess 96: 0.003115\n",
      "Guess 4F: 0.003050\n",
      "Guess D9: 0.002975\n",
      "Guess B5: 0.002928\n",
      "Guess 9F: 0.002928\n",
      "Guess BF: 0.002918\n",
      "Guess 40: 0.002916\n",
      "Guess 4A: 0.002901\n",
      "Guess BB: 0.002857\n",
      "Guess FF: 0.002835\n",
      "Guess 35: 0.002807\n",
      "Guess 32: 0.002796\n",
      "Guess BD: 0.002780\n",
      "Guess B7: 0.002769\n"
     ]
    }
   ],
   "source": [
    "sorted_list = np.argsort(mean_diffs)[::-1]\n",
    "\n",
    "for guess in sorted_list[0:20]:\n",
    "    print('Guess {:0X}: {:1f}'.format(guess, mean_diffs[guess]))"
   ]
  },
  {
   "cell_type": "markdown",
   "metadata": {},
   "source": [
    "### Hint 1: General Program Flow\n",
    "\n",
    "You can use the following general program flow to help you implement the outer loop above:"
   ]
  },
  {
   "cell_type": "code",
   "execution_count": 14,
   "metadata": {},
   "outputs": [],
   "source": [
    "#Hint #1 - General Program Flow\n",
    "import numpy as np\n",
    "mean_diffs = np.zeros(256)\n",
    "\n",
    "guessed_byte = 0\n",
    "\n",
    "for guess in range(0, 256):\n",
    "    \n",
    "    one_list = []\n",
    "    zero_list = []\n",
    "    \n",
    "    for trace_index in range(numtraces):\n",
    "        #Inside here do the steps shown above\n",
    "        pass\n",
    "        \n",
    "    #Do extra steps to average one_list and zero_list        "
   ]
  },
  {
   "cell_type": "markdown",
   "metadata": {},
   "source": [
    "### Hint 2: Example of Two Different Key Guesses\n",
    "\n",
    "We aren't fully going to give it away (see `SOLN` notebook if you want that), but here is how you can generate two differences, for `0x2B` and `0xFF`. If you're totally stuck you can use the following code to base what should be inside the loops on."
   ]
  },
  {
   "cell_type": "code",
   "execution_count": 15,
   "metadata": {},
   "outputs": [
    {
     "name": "stdout",
     "output_type": "stream",
     "text": [
      "Max SAD for 0x2B: 0.0045612229266706605\n",
      "Max SAD for 0xFF: 0.002834902493968061\n"
     ]
    }
   ],
   "source": [
    "import numpy as np\n",
    "mean_diffs = np.zeros(256)\n",
    "\n",
    "### Code to do guess of byte 0 set to 0x2B\n",
    "guessed_byte = 0\n",
    "guess = 0x2B\n",
    "   \n",
    "one_list = []\n",
    "zero_list = []\n",
    "    \n",
    "for trace_index in range(numtraces):\n",
    "    hypothetical_leakage = aes_internal(guess, textin_array[trace_index][guessed_byte])\n",
    "\n",
    "    #Mask off the lowest bit - is it 0 or 1? Depending on that add trace to array\n",
    "    if hypothetical_leakage & 0x01:        \n",
    "        one_list.append(trace_array[trace_index])\n",
    "    else:\n",
    "        zero_list.append(trace_array[trace_index])\n",
    "            \n",
    "one_avg = np.asarray(one_list).mean(axis=0)\n",
    "zero_avg = np.asarray(zero_list).mean(axis=0)\n",
    "mean_diffs_2b = np.max(abs(one_avg - zero_avg))\n",
    "\n",
    "print(\"Max SAD for 0x2B: {:1}\".format(mean_diffs_2b))\n",
    "\n",
    "### Code to do guess of byte 0 set to 0xFF\n",
    "guessed_byte = 0\n",
    "guess = 0xFF\n",
    "    \n",
    "one_list = []\n",
    "zero_list = []\n",
    "    \n",
    "for trace_index in range(numtraces):\n",
    "    hypothetical_leakage = aes_internal(guess, textin_array[trace_index][guessed_byte])\n",
    "\n",
    "    #Mask off the lowest bit - is it 0 or 1? Depending on that add trace to array\n",
    "    if hypothetical_leakage & 0x01:        \n",
    "        one_list.append(trace_array[trace_index])\n",
    "    else:\n",
    "        zero_list.append(trace_array[trace_index])\n",
    "            \n",
    "one_avg = np.asarray(one_list).mean(axis=0)\n",
    "zero_avg = np.asarray(zero_list).mean(axis=0)\n",
    "mean_diffs_ff = np.max(abs(one_avg - zero_avg))\n",
    "\n",
    "print(\"Max SAD for 0xFF: {:1}\".format(mean_diffs_ff))"
   ]
  },
  {
   "cell_type": "markdown",
   "metadata": {},
   "source": [
    "## Ranking Guesses"
   ]
  },
  {
   "cell_type": "markdown",
   "metadata": {},
   "source": [
    "You'll also want to rank some of your guesses (we assume). This will help you identify the most likely value. The best way to do this is build a list of the maximum difference values for each key:\n",
    "\n",
    "    mean_diffs = [0]*256\n",
    "\n",
    "    for key_byte_guess_value in [0, 1, 2, 3, ... 253, 254, 255]:\n",
    "\n",
    "        *** CODE FROM BEFORE***\n",
    "        max_diff_value = maximum of ABS(one_avg - zero_avg)\n",
    "        mean_diffs[key_byte_guess_value] = max_diff_value\n",
    "        \n",
    "If you modify your previous code, it will generate a list of maximum differences in a list. This list will look like:\n",
    "\n",
    "    [0.002921, 0.001923, 0.005131, ..., 0.000984]\n",
    "    \n",
    "Where the *index* of the list is the value of the key guess. We can use `np.argsort` which generates a new list showing the *indicies* that would sort an original list (you should have learned about `argsort` in the previous lab too):\n",
    "\n",
    "So for example, run the following to see it in action on the list `[1.0, 0.2, 3.4, 0.01]`:"
   ]
  },
  {
   "cell_type": "code",
   "execution_count": 16,
   "metadata": {},
   "outputs": [
    {
     "data": {
      "text/plain": [
       "array([3, 1, 0, 2])"
      ]
     },
     "execution_count": 16,
     "metadata": {},
     "output_type": "execute_result"
    }
   ],
   "source": [
    "np.argsort([1.0, 0.2, 3.4, 0.01])"
   ]
  },
  {
   "cell_type": "markdown",
   "metadata": {},
   "source": [
    "This should return `[3, 1, 0, 2`] - that is the order of lowest to highest. To change from highest to lowest, remember you just add `[::-1]` at the end of it like `np.argsort([1.0, 0.2, 3.4, 0.01])[::-1]`.\n",
    "\n",
    "Try using the `np.argsort` function to output the most likely key values from your attack."
   ]
  },
  {
   "cell_type": "markdown",
   "metadata": {},
   "source": [
    "## Plotting Differences"
   ]
  },
  {
   "cell_type": "markdown",
   "metadata": {},
   "source": [
    "Before we move on - you should take a look at various plots of these differences. They will play in something called the *ghost peak* problem.\n",
    "\n",
    "We're going to now define a function called `calculate_diffs()` that implements our attacks (you can replace this with your own function or keep this one for now):"
   ]
  },
  {
   "cell_type": "code",
   "execution_count": 17,
   "metadata": {},
   "outputs": [],
   "source": [
    "def calculate_diffs(guess, byteindex=0, bitnum=0):\n",
    "    \"\"\"Perform a simple DPA on two traces, uses global `textin_array` and `trace_array` \"\"\"\n",
    "    \n",
    "    one_list = []\n",
    "    zero_list = []\n",
    "\n",
    "    for trace_index in range(numtraces):\n",
    "        hypothetical_leakage = aes_internal(guess, textin_array[trace_index][byteindex])\n",
    "\n",
    "        #Mask off the requested bit\n",
    "        if hypothetical_leakage & (1<<bitnum):\n",
    "            one_list.append(trace_array[trace_index])\n",
    "        else:\n",
    "            zero_list.append(trace_array[trace_index])\n",
    "\n",
    "    one_avg = np.asarray(one_list).mean(axis=0)\n",
    "    zero_avg = np.asarray(zero_list).mean(axis=0)\n",
    "    return abs(one_avg - zero_avg)"
   ]
  },
  {
   "cell_type": "markdown",
   "metadata": {},
   "source": [
    "Try plotting the difference between various bytes. For byte 0, remember `0x2B` is the correct value. Zoom in on the plots and see how the correct key should have a much larger difference.\n",
    "\n",
    "Sometimes we get *ghost peaks* which are incorrect peaks. So far we're assuming there is a single \"best\" solution for the key - we may need to get fancy and put a threshold whereby we have several candidates for the correct key. For now let's just plot a handful of examples:"
   ]
  },
  {
   "cell_type": "code",
   "execution_count": 18,
   "metadata": {},
   "outputs": [
    {
     "data": {
      "text/plain": [
       "[<matplotlib.lines.Line2D at 0x7f0100a2edd0>]"
      ]
     },
     "execution_count": 18,
     "metadata": {},
     "output_type": "execute_result"
    },
    {
     "data": {
      "application/vnd.jupyter.widget-view+json": {
       "model_id": "32d7cf2242f24ea3907473620b5be2a0",
       "version_major": 2,
       "version_minor": 0
      },
      "image/png": "[encoded data removed]",
      "text/plain": [
       "Canvas(toolbar=Toolbar(toolitems=[('Home', 'Reset original view', 'home', 'home'), ('Back', 'Back to previous …"
      ]
     },
     "metadata": {},
     "output_type": "display_data"
    }
   ],
   "source": [
    "%matplotlib ipympl\n",
    "import matplotlib.pylab as plt\n",
    "\n",
    "plt.plot(calculate_diffs(0x2B), 'r')\n",
    "plt.plot(calculate_diffs(0x2C), 'g')\n",
    "plt.plot(calculate_diffs(0x2D), 'b')"
   ]
  },
  {
   "cell_type": "markdown",
   "metadata": {},
   "source": [
    "Here is what it should look like:\n",
    "\n",
    "You'll notice when we rank the bytes we just use the maximum value of any peak. There's lots more you could learn from these graphs, such as the location of the peak, or if there are multiple peaks in the graph. But for now we're just going to keep with the "
   ]
  },
  {
   "cell_type": "markdown",
   "metadata": {},
   "source": [
    "## AES Guesser - All Bytes"
   ]
  },
  {
   "cell_type": "markdown",
   "metadata": {},
   "source": [
    "Alright - good job! You've got a single byte and some DPA plots up. Now let's move onward and guess *all* of the bytes.\n",
    "\n",
    "Doing this requires a little more effort than before. Taking your existing guessing function, you're going to wrap a larger loop around the outside of it like this:\n",
    "\n",
    "    for subkey in range(0,16):\n",
    "        #Rest of code from before!\n",
    "        "
   ]
  },
  {
   "cell_type": "code",
   "execution_count": 19,
   "metadata": {},
   "outputs": [
    {
     "name": "stderr",
     "output_type": "stream",
     "text": [
      "Attacking Subkey:   6%|▋         | 1/16 [00:13<03:29, 13.96s/it]"
     ]
    },
    {
     "name": "stdout",
     "output_type": "stream",
     "text": [
      "Subkey 0 - most likely 2B (actual 2B)\n",
      "Top 5 guesses:\n",
      "2B - Diff = 0.004561\n",
      "2A - Diff = 0.003987\n",
      "15 - Diff = 0.003595\n",
      "FE - Diff = 0.003423\n",
      "B2 - Diff = 0.003341\n"
     ]
    },
    {
     "name": "stderr",
     "output_type": "stream",
     "text": [
      "Attacking Subkey:  12%|█▎        | 2/16 [00:27<03:13, 13.79s/it]"
     ]
    },
    {
     "name": "stdout",
     "output_type": "stream",
     "text": [
      "Subkey 1 - most likely 92 (actual 7E)\n",
      "Top 5 guesses:\n",
      "92 - Diff = 0.008009\n",
      "77 - Diff = 0.007445\n",
      "7E - Diff = 0.007078\n",
      "AE - Diff = 0.006873\n",
      "40 - Diff = 0.006842\n"
     ]
    },
    {
     "name": "stderr",
     "output_type": "stream",
     "text": [
      "Attacking Subkey:  19%|█▉        | 3/16 [00:41<02:59, 13.83s/it]"
     ]
    },
    {
     "name": "stdout",
     "output_type": "stream",
     "text": [
      "Subkey 2 - most likely 15 (actual 15)\n",
      "Top 5 guesses:\n",
      "15 - Diff = 0.005080\n",
      "70 - Diff = 0.003805\n",
      "14 - Diff = 0.003791\n",
      "71 - Diff = 0.003040\n",
      "F9 - Diff = 0.003037\n"
     ]
    },
    {
     "name": "stderr",
     "output_type": "stream",
     "text": [
      "Attacking Subkey:  25%|██▌       | 4/16 [00:55<02:45, 13.79s/it]"
     ]
    },
    {
     "name": "stdout",
     "output_type": "stream",
     "text": [
      "Subkey 3 - most likely 16 (actual 16)\n",
      "Top 5 guesses:\n",
      "16 - Diff = 0.007964\n",
      "17 - Diff = 0.003816\n",
      "72 - Diff = 0.003191\n",
      "7D - Diff = 0.003156\n",
      "73 - Diff = 0.002952\n"
     ]
    },
    {
     "name": "stderr",
     "output_type": "stream",
     "text": [
      "Attacking Subkey:  31%|███▏      | 5/16 [01:08<02:31, 13.77s/it]"
     ]
    },
    {
     "name": "stdout",
     "output_type": "stream",
     "text": [
      "Subkey 4 - most likely 28 (actual 28)\n",
      "Top 5 guesses:\n",
      "28 - Diff = 0.005353\n",
      "29 - Diff = 0.003823\n",
      "9C - Diff = 0.003401\n",
      "94 - Diff = 0.003246\n",
      "4D - Diff = 0.003208\n"
     ]
    },
    {
     "name": "stderr",
     "output_type": "stream",
     "text": [
      "Attacking Subkey:  38%|███▊      | 6/16 [01:22<02:17, 13.76s/it]"
     ]
    },
    {
     "name": "stdout",
     "output_type": "stream",
     "text": [
      "Subkey 5 - most likely AE (actual AE)\n",
      "Top 5 guesses:\n",
      "AE - Diff = 0.004883\n",
      "CB - Diff = 0.003593\n",
      "AF - Diff = 0.003497\n",
      "CA - Diff = 0.003001\n",
      "37 - Diff = 0.002902\n"
     ]
    },
    {
     "name": "stderr",
     "output_type": "stream",
     "text": [
      "Attacking Subkey:  44%|████▍     | 7/16 [01:36<02:04, 13.81s/it]"
     ]
    },
    {
     "name": "stdout",
     "output_type": "stream",
     "text": [
      "Subkey 6 - most likely 3E (actual D2)\n",
      "Top 5 guesses:\n",
      "3E - Diff = 0.007436\n",
      "18 - Diff = 0.006429\n",
      "7D - Diff = 0.006372\n",
      "B7 - Diff = 0.006303\n",
      "29 - Diff = 0.006264\n"
     ]
    },
    {
     "name": "stderr",
     "output_type": "stream",
     "text": [
      "Attacking Subkey:  50%|█████     | 8/16 [01:50<01:50, 13.83s/it]"
     ]
    },
    {
     "name": "stdout",
     "output_type": "stream",
     "text": [
      "Subkey 7 - most likely A6 (actual A6)\n",
      "Top 5 guesses:\n",
      "A6 - Diff = 0.005002\n",
      "C3 - Diff = 0.003671\n",
      "C2 - Diff = 0.003374\n",
      "A7 - Diff = 0.003253\n",
      "40 - Diff = 0.003182\n"
     ]
    },
    {
     "name": "stderr",
     "output_type": "stream",
     "text": [
      "Attacking Subkey:  56%|█████▋    | 9/16 [02:04<01:37, 13.88s/it]"
     ]
    },
    {
     "name": "stdout",
     "output_type": "stream",
     "text": [
      "Subkey 8 - most likely AB (actual AB)\n",
      "Top 5 guesses:\n",
      "AB - Diff = 0.004956\n",
      "AA - Diff = 0.003324\n",
      "7F - Diff = 0.003284\n",
      "7E - Diff = 0.003219\n",
      "CF - Diff = 0.002979\n"
     ]
    },
    {
     "name": "stderr",
     "output_type": "stream",
     "text": [
      "Attacking Subkey:  62%|██████▎   | 10/16 [02:18<01:23, 13.84s/it]"
     ]
    },
    {
     "name": "stdout",
     "output_type": "stream",
     "text": [
      "Subkey 9 - most likely F7 (actual F7)\n",
      "Top 5 guesses:\n",
      "F7 - Diff = 0.005361\n",
      "F6 - Diff = 0.003233\n",
      "92 - Diff = 0.003207\n",
      "23 - Diff = 0.003085\n",
      "5 - Diff = 0.002963\n"
     ]
    },
    {
     "name": "stderr",
     "output_type": "stream",
     "text": [
      "Attacking Subkey:  69%|██████▉   | 11/16 [02:32<01:09, 13.82s/it]"
     ]
    },
    {
     "name": "stdout",
     "output_type": "stream",
     "text": [
      "Subkey 10 - most likely 15 (actual 15)\n",
      "Top 5 guesses:\n",
      "15 - Diff = 0.007696\n",
      "7E - Diff = 0.003799\n",
      "14 - Diff = 0.003705\n",
      "A8 - Diff = 0.003562\n",
      "70 - Diff = 0.003468\n"
     ]
    },
    {
     "name": "stderr",
     "output_type": "stream",
     "text": [
      "Attacking Subkey:  75%|███████▌  | 12/16 [02:45<00:55, 13.82s/it]"
     ]
    },
    {
     "name": "stdout",
     "output_type": "stream",
     "text": [
      "Subkey 11 - most likely 64 (actual 88)\n",
      "Top 5 guesses:\n",
      "64 - Diff = 0.008737\n",
      "6B - Diff = 0.007228\n",
      "D1 - Diff = 0.006957\n",
      "42 - Diff = 0.006864\n",
      "58 - Diff = 0.006731\n"
     ]
    },
    {
     "name": "stderr",
     "output_type": "stream",
     "text": [
      "Attacking Subkey:  81%|████████▏ | 13/16 [02:59<00:41, 13.79s/it]"
     ]
    },
    {
     "name": "stdout",
     "output_type": "stream",
     "text": [
      "Subkey 12 - most likely 9 (actual 9)\n",
      "Top 5 guesses:\n",
      "9 - Diff = 0.004988\n",
      "8 - Diff = 0.003670\n",
      "95 - Diff = 0.003419\n",
      "6D - Diff = 0.003360\n",
      "6C - Diff = 0.003169\n"
     ]
    },
    {
     "name": "stderr",
     "output_type": "stream",
     "text": [
      "Attacking Subkey:  88%|████████▊ | 14/16 [03:13<00:27, 13.79s/it]"
     ]
    },
    {
     "name": "stdout",
     "output_type": "stream",
     "text": [
      "Subkey 13 - most likely CF (actual CF)\n",
      "Top 5 guesses:\n",
      "CF - Diff = 0.005164\n",
      "AB - Diff = 0.003809\n",
      "CE - Diff = 0.003589\n",
      "AA - Diff = 0.003494\n",
      "23 - Diff = 0.003196\n"
     ]
    },
    {
     "name": "stderr",
     "output_type": "stream",
     "text": [
      "Attacking Subkey:  94%|█████████▍| 15/16 [03:27<00:13, 13.81s/it]"
     ]
    },
    {
     "name": "stdout",
     "output_type": "stream",
     "text": [
      "Subkey 14 - most likely 4F (actual 4F)\n",
      "Top 5 guesses:\n",
      "4F - Diff = 0.004709\n",
      "4E - Diff = 0.003946\n",
      "9A - Diff = 0.003120\n",
      "2B - Diff = 0.003002\n",
      "2A - Diff = 0.002900\n"
     ]
    },
    {
     "name": "stderr",
     "output_type": "stream",
     "text": [
      "Attacking Subkey: 100%|██████████| 16/16 [03:40<00:00, 13.81s/it]"
     ]
    },
    {
     "name": "stdout",
     "output_type": "stream",
     "text": [
      "Subkey 15 - most likely 3C (actual 3C)\n",
      "Top 5 guesses:\n",
      "3C - Diff = 0.006392\n",
      "3D - Diff = 0.003616\n",
      "59 - Diff = 0.003209\n",
      "58 - Diff = 0.003084\n",
      "9B - Diff = 0.002897\n"
     ]
    },
    {
     "name": "stderr",
     "output_type": "stream",
     "text": [
      "\n"
     ]
    }
   ],
   "source": [
    "from tqdm import trange\n",
    "import numpy as np\n",
    "\n",
    "#Store your key_guess here, compare to known_key\n",
    "key_guess = []\n",
    "known_key = [0x2b, 0x7e, 0x15, 0x16, 0x28, 0xae, 0xd2, 0xa6, 0xab, 0xf7, 0x15, 0x88, 0x09, 0xcf, 0x4f, 0x3c]\n",
    "\n",
    "for subkey in trange(0, 16, desc=\"Attacking Subkey\"):\n",
    "    # ###################\n",
    "    # Add your code here\n",
    "    # ###################\n",
    "    max_individual_diffs = [0] * 256\n",
    "    for guess in range(256):\n",
    "        diffs = calculate_diffs(guess,byteindex=subkey)\n",
    "        max_individual_diffs[guess] = np.max(diffs)\n",
    "\n",
    "    top_diffs = np.argsort(max_individual_diffs)[::-1]\n",
    "        \n",
    "    key_guess.append(top_diffs[0])\n",
    "\n",
    "    print('Subkey {:d} - most likely {:X} (actual {:X})'.format(subkey, top_diffs[0], known_key[subkey]))\n",
    "\n",
    "    print(\"Top 5 guesses:\")\n",
    "    for g in top_diffs[0:5]:\n",
    "        print('{:0X} - Diff = {:f}'.format(g, max_individual_diffs[g])) \n",
    "        "
   ]
  },
  {
   "cell_type": "markdown",
   "metadata": {},
   "source": [
    "🥳🥳🥳🥳🥳🥳🥳🥳🥳🥳🥳🥳🥳\n",
    "Congrats - you did it!!!!\n",
    "\n",
    "Hopefully the above worked - but we're going to go a little further to understand how to apply this in case it didn't work right away (or it almost worked)."
   ]
  },
  {
   "cell_type": "markdown",
   "metadata": {},
   "source": [
    "## Ghost Peaks"
   ]
  },
  {
   "cell_type": "markdown",
   "metadata": {},
   "source": [
    "Maybe the previous didn't actually recover the full key? No need to worry - there are a few reasons for this. One artifact of a DPA attack is you get another strong peak that isn't the correct key (which can be a ghost peak).\n",
    "\n",
    "We're going to get into more efficient attacks later, but for now, let's look at some solutions:\n",
    "\n",
    "* Increase the number of traces recorded.\n",
    "* Change the targetted bit (& combine solutions from multiple bits).\n",
    "* Window the input data.\n",
    "\n",
    "The first one is the brute-force option: go from 2500 to 5000 or even 10000 power traces. As you add more data, you may find the problem is reduced. But real ghost peaks may not disappear, so we need to move onto other solutions.\n",
    "\n",
    "Before we begin - we're going to give you a \"known good\" DPA attack script we're going to build on. This uses the `calculate_diffs()` function defined earlier.\n",
    "\n",
    "Run the following block (will take a bit of time):"
   ]
  },
  {
   "cell_type": "code",
   "execution_count": 20,
   "metadata": {},
   "outputs": [
    {
     "name": "stderr",
     "output_type": "stream",
     "text": [
      "Testing bitnum:   0%|          | 0/8 [00:13<?, ?it/s]\n",
      "Attacking Subkey:   6%|▋         | 1/16 [00:13<03:27, 13.81s/it]"
     ]
    },
    {
     "name": "stdout",
     "output_type": "stream",
     "text": [
      "Subkey  0 - most likely 2B (actual 2B)\n",
      " Top 5 guesses: \n",
      "   2B - Diff = 0.004561\n",
      "   2A - Diff = 0.003987\n",
      "   15 - Diff = 0.003595\n",
      "   FE - Diff = 0.003423\n",
      "   B2 - Diff = 0.003341\n",
      "\n",
      "\n"
     ]
    },
    {
     "name": "stderr",
     "output_type": "stream",
     "text": []
    },
    {
     "name": "stdout",
     "output_type": "stream",
     "text": [
      "Subkey  1 - most likely 92 (actual 7E)\n",
      " Top 5 guesses: \n",
      "   92 - Diff = 0.008009\n",
      "   77 - Diff = 0.007445\n",
      "   7E - Diff = 0.007078\n",
      "   AE - Diff = 0.006873\n",
      "   40 - Diff = 0.006842\n",
      "Bitnum 0 failed for subkey 1\n"
     ]
    },
    {
     "name": "stderr",
     "output_type": "stream",
     "text": []
    },
    {
     "name": "stdout",
     "output_type": "stream",
     "text": [
      "Subkey  1 - most likely A5 (actual 7E)\n",
      " Top 5 guesses: \n",
      "   A5 - Diff = 0.008337\n",
      "   D0 - Diff = 0.006637\n",
      "   3F - Diff = 0.006620\n",
      "   F9 - Diff = 0.006587\n",
      "   C5 - Diff = 0.006551\n",
      "Bitnum 1 failed for subkey 1\n"
     ]
    },
    {
     "name": "stderr",
     "output_type": "stream",
     "text": []
    },
    {
     "name": "stdout",
     "output_type": "stream",
     "text": [
      "Subkey  1 - most likely F3 (actual 7E)\n",
      " Top 5 guesses: \n",
      "   F3 - Diff = 0.007615\n",
      "   AE - Diff = 0.007079\n",
      "   4B - Diff = 0.006597\n",
      "   C3 - Diff = 0.006415\n",
      "   96 - Diff = 0.006337\n",
      "Bitnum 2 failed for subkey 1\n"
     ]
    },
    {
     "name": "stderr",
     "output_type": "stream",
     "text": [
      "Testing bitnum:  38%|███▊      | 3/8 [00:55<01:31, 18.36s/it]\n",
      "Attacking Subkey:  12%|█▎        | 2/16 [01:08<08:53, 38.09s/it]"
     ]
    },
    {
     "name": "stdout",
     "output_type": "stream",
     "text": [
      "Subkey  1 - most likely 7E (actual 7E)\n",
      " Top 5 guesses: \n",
      "   7E - Diff = 0.045681\n",
      "   BF - Diff = 0.007539\n",
      "   E8 - Diff = 0.006828\n",
      "   B8 - Diff = 0.006631\n",
      "   01 - Diff = 0.006457\n",
      "\n",
      "\n"
     ]
    },
    {
     "name": "stderr",
     "output_type": "stream",
     "text": [
      "Testing bitnum:   0%|          | 0/8 [00:13<?, ?it/s]\n",
      "Attacking Subkey:  19%|█▉        | 3/16 [01:22<05:51, 27.00s/it]"
     ]
    },
    {
     "name": "stdout",
     "output_type": "stream",
     "text": [
      "Subkey  2 - most likely 15 (actual 15)\n",
      " Top 5 guesses: \n",
      "   15 - Diff = 0.005080\n",
      "   70 - Diff = 0.003805\n",
      "   14 - Diff = 0.003791\n",
      "   71 - Diff = 0.003040\n",
      "   F9 - Diff = 0.003037\n",
      "\n",
      "\n"
     ]
    },
    {
     "name": "stderr",
     "output_type": "stream",
     "text": [
      "Testing bitnum:   0%|          | 0/8 [00:13<?, ?it/s]\n",
      "Attacking Subkey:  25%|██▌       | 4/16 [01:36<04:21, 21.78s/it]"
     ]
    },
    {
     "name": "stdout",
     "output_type": "stream",
     "text": [
      "Subkey  3 - most likely 16 (actual 16)\n",
      " Top 5 guesses: \n",
      "   16 - Diff = 0.007964\n",
      "   17 - Diff = 0.003816\n",
      "   72 - Diff = 0.003191\n",
      "   7D - Diff = 0.003156\n",
      "   73 - Diff = 0.002952\n",
      "\n",
      "\n"
     ]
    },
    {
     "name": "stderr",
     "output_type": "stream",
     "text": [
      "Testing bitnum:   0%|          | 0/8 [00:13<?, ?it/s]\n",
      "Attacking Subkey:  31%|███▏      | 5/16 [01:50<03:27, 18.86s/it]"
     ]
    },
    {
     "name": "stdout",
     "output_type": "stream",
     "text": [
      "Subkey  4 - most likely 28 (actual 28)\n",
      " Top 5 guesses: \n",
      "   28 - Diff = 0.005353\n",
      "   29 - Diff = 0.003823\n",
      "   9C - Diff = 0.003401\n",
      "   94 - Diff = 0.003246\n",
      "   4D - Diff = 0.003208\n",
      "\n",
      "\n"
     ]
    },
    {
     "name": "stderr",
     "output_type": "stream",
     "text": [
      "Testing bitnum:   0%|          | 0/8 [00:14<?, ?it/s]\n",
      "Attacking Subkey:  38%|███▊      | 6/16 [02:04<02:52, 17.22s/it]"
     ]
    },
    {
     "name": "stdout",
     "output_type": "stream",
     "text": [
      "Subkey  5 - most likely AE (actual AE)\n",
      " Top 5 guesses: \n",
      "   AE - Diff = 0.004883\n",
      "   CB - Diff = 0.003593\n",
      "   AF - Diff = 0.003497\n",
      "   CA - Diff = 0.003001\n",
      "   37 - Diff = 0.002902\n",
      "\n",
      "\n"
     ]
    },
    {
     "name": "stderr",
     "output_type": "stream",
     "text": []
    },
    {
     "name": "stdout",
     "output_type": "stream",
     "text": [
      "Subkey  6 - most likely 3E (actual D2)\n",
      " Top 5 guesses: \n",
      "   3E - Diff = 0.007436\n",
      "   18 - Diff = 0.006429\n",
      "   7D - Diff = 0.006372\n",
      "   B7 - Diff = 0.006303\n",
      "   29 - Diff = 0.006264\n",
      "Bitnum 0 failed for subkey 6\n"
     ]
    },
    {
     "name": "stderr",
     "output_type": "stream",
     "text": []
    },
    {
     "name": "stdout",
     "output_type": "stream",
     "text": [
      "Subkey  6 - most likely 09 (actual D2)\n",
      " Top 5 guesses: \n",
      "   09 - Diff = 0.006934\n",
      "   90 - Diff = 0.006542\n",
      "   6F - Diff = 0.006311\n",
      "   66 - Diff = 0.006186\n",
      "   69 - Diff = 0.006159\n",
      "Bitnum 1 failed for subkey 6\n"
     ]
    },
    {
     "name": "stderr",
     "output_type": "stream",
     "text": []
    },
    {
     "name": "stdout",
     "output_type": "stream",
     "text": [
      "Subkey  6 - most likely 02 (actual D2)\n",
      " Top 5 guesses: \n",
      "   02 - Diff = 0.007239\n",
      "   1F - Diff = 0.006885\n",
      "   E7 - Diff = 0.006633\n",
      "   5A - Diff = 0.006530\n",
      "   6E - Diff = 0.006109\n",
      "Bitnum 2 failed for subkey 6\n"
     ]
    },
    {
     "name": "stderr",
     "output_type": "stream",
     "text": [
      "Testing bitnum:  38%|███▊      | 3/8 [00:54<01:31, 18.29s/it]\n",
      "Attacking Subkey:  44%|████▍     | 7/16 [02:59<04:25, 29.53s/it]"
     ]
    },
    {
     "name": "stdout",
     "output_type": "stream",
     "text": [
      "Subkey  6 - most likely D2 (actual D2)\n",
      " Top 5 guesses: \n",
      "   D2 - Diff = 0.044721\n",
      "   13 - Diff = 0.007276\n",
      "   14 - Diff = 0.007036\n",
      "   44 - Diff = 0.007019\n",
      "   5D - Diff = 0.006749\n",
      "\n",
      "\n"
     ]
    },
    {
     "name": "stderr",
     "output_type": "stream",
     "text": [
      "Testing bitnum:   0%|          | 0/8 [00:13<?, ?it/s]\n",
      "Attacking Subkey:  50%|█████     | 8/16 [03:12<03:16, 24.51s/it]"
     ]
    },
    {
     "name": "stdout",
     "output_type": "stream",
     "text": [
      "Subkey  7 - most likely A6 (actual A6)\n",
      " Top 5 guesses: \n",
      "   A6 - Diff = 0.005002\n",
      "   C3 - Diff = 0.003671\n",
      "   C2 - Diff = 0.003374\n",
      "   A7 - Diff = 0.003253\n",
      "   40 - Diff = 0.003182\n",
      "\n",
      "\n"
     ]
    },
    {
     "name": "stderr",
     "output_type": "stream",
     "text": [
      "Testing bitnum:   0%|          | 0/8 [00:13<?, ?it/s]\n",
      "Attacking Subkey:  56%|█████▋    | 9/16 [03:26<02:28, 21.15s/it]"
     ]
    },
    {
     "name": "stdout",
     "output_type": "stream",
     "text": [
      "Subkey  8 - most likely AB (actual AB)\n",
      " Top 5 guesses: \n",
      "   AB - Diff = 0.004956\n",
      "   AA - Diff = 0.003324\n",
      "   7F - Diff = 0.003284\n",
      "   7E - Diff = 0.003219\n",
      "   CF - Diff = 0.002979\n",
      "\n",
      "\n"
     ]
    },
    {
     "name": "stderr",
     "output_type": "stream",
     "text": [
      "Testing bitnum:   0%|          | 0/8 [00:13<?, ?it/s]\n",
      "Attacking Subkey:  62%|██████▎   | 10/16 [03:40<01:53, 18.85s/it]"
     ]
    },
    {
     "name": "stdout",
     "output_type": "stream",
     "text": [
      "Subkey  9 - most likely F7 (actual F7)\n",
      " Top 5 guesses: \n",
      "   F7 - Diff = 0.005361\n",
      "   F6 - Diff = 0.003233\n",
      "   92 - Diff = 0.003207\n",
      "   23 - Diff = 0.003085\n",
      "   05 - Diff = 0.002963\n",
      "\n",
      "\n"
     ]
    },
    {
     "name": "stderr",
     "output_type": "stream",
     "text": [
      "Testing bitnum:   0%|          | 0/8 [00:13<?, ?it/s]\n",
      "Attacking Subkey:  69%|██████▉   | 11/16 [03:54<01:26, 17.32s/it]"
     ]
    },
    {
     "name": "stdout",
     "output_type": "stream",
     "text": [
      "Subkey 10 - most likely 15 (actual 15)\n",
      " Top 5 guesses: \n",
      "   15 - Diff = 0.007696\n",
      "   7E - Diff = 0.003799\n",
      "   14 - Diff = 0.003705\n",
      "   A8 - Diff = 0.003562\n",
      "   70 - Diff = 0.003468\n",
      "\n",
      "\n"
     ]
    },
    {
     "name": "stderr",
     "output_type": "stream",
     "text": []
    },
    {
     "name": "stdout",
     "output_type": "stream",
     "text": [
      "Subkey 11 - most likely 64 (actual 88)\n",
      " Top 5 guesses: \n",
      "   64 - Diff = 0.008737\n",
      "   6B - Diff = 0.007228\n",
      "   D1 - Diff = 0.006957\n",
      "   42 - Diff = 0.006864\n",
      "   58 - Diff = 0.006731\n",
      "Bitnum 0 failed for subkey 11\n"
     ]
    },
    {
     "name": "stderr",
     "output_type": "stream",
     "text": []
    },
    {
     "name": "stdout",
     "output_type": "stream",
     "text": [
      "Subkey 11 - most likely 53 (actual 88)\n",
      " Top 5 guesses: \n",
      "   53 - Diff = 0.008512\n",
      "   C9 - Diff = 0.007374\n",
      "   84 - Diff = 0.006680\n",
      "   7E - Diff = 0.006520\n",
      "   33 - Diff = 0.006177\n",
      "Bitnum 1 failed for subkey 11\n"
     ]
    },
    {
     "name": "stderr",
     "output_type": "stream",
     "text": []
    },
    {
     "name": "stdout",
     "output_type": "stream",
     "text": [
      "Subkey 11 - most likely 58 (actual 88)\n",
      " Top 5 guesses: \n",
      "   58 - Diff = 0.007169\n",
      "   30 - Diff = 0.006926\n",
      "   B7 - Diff = 0.006878\n",
      "   45 - Diff = 0.006734\n",
      "   BD - Diff = 0.006651\n",
      "Bitnum 2 failed for subkey 11\n"
     ]
    },
    {
     "name": "stderr",
     "output_type": "stream",
     "text": [
      "Testing bitnum:  38%|███▊      | 3/8 [00:55<01:32, 18.41s/it]\n",
      "Attacking Subkey:  75%|███████▌  | 12/16 [04:49<01:55, 28.85s/it]"
     ]
    },
    {
     "name": "stdout",
     "output_type": "stream",
     "text": [
      "Subkey 11 - most likely 88 (actual 88)\n",
      " Top 5 guesses: \n",
      "   88 - Diff = 0.045684\n",
      "   7B - Diff = 0.008734\n",
      "   4E - Diff = 0.007029\n",
      "   07 - Diff = 0.006471\n",
      "   1E - Diff = 0.006266\n",
      "\n",
      "\n"
     ]
    },
    {
     "name": "stderr",
     "output_type": "stream",
     "text": [
      "Testing bitnum:   0%|          | 0/8 [00:13<?, ?it/s]\n",
      "Attacking Subkey:  81%|████████▏ | 13/16 [05:03<01:12, 24.26s/it]"
     ]
    },
    {
     "name": "stdout",
     "output_type": "stream",
     "text": [
      "Subkey 12 - most likely 09 (actual 09)\n",
      " Top 5 guesses: \n",
      "   09 - Diff = 0.004988\n",
      "   08 - Diff = 0.003670\n",
      "   95 - Diff = 0.003419\n",
      "   6D - Diff = 0.003360\n",
      "   6C - Diff = 0.003169\n",
      "\n",
      "\n"
     ]
    },
    {
     "name": "stderr",
     "output_type": "stream",
     "text": [
      "Testing bitnum:   0%|          | 0/8 [00:13<?, ?it/s]\n",
      "Attacking Subkey:  88%|████████▊ | 14/16 [05:16<00:42, 21.10s/it]"
     ]
    },
    {
     "name": "stdout",
     "output_type": "stream",
     "text": [
      "Subkey 13 - most likely CF (actual CF)\n",
      " Top 5 guesses: \n",
      "   CF - Diff = 0.005164\n",
      "   AB - Diff = 0.003809\n",
      "   CE - Diff = 0.003589\n",
      "   AA - Diff = 0.003494\n",
      "   23 - Diff = 0.003196\n",
      "\n",
      "\n"
     ]
    },
    {
     "name": "stderr",
     "output_type": "stream",
     "text": [
      "Testing bitnum:   0%|          | 0/8 [00:13<?, ?it/s]\n",
      "Attacking Subkey:  94%|█████████▍| 15/16 [05:30<00:18, 18.87s/it]"
     ]
    },
    {
     "name": "stdout",
     "output_type": "stream",
     "text": [
      "Subkey 14 - most likely 4F (actual 4F)\n",
      " Top 5 guesses: \n",
      "   4F - Diff = 0.004709\n",
      "   4E - Diff = 0.003946\n",
      "   9A - Diff = 0.003120\n",
      "   2B - Diff = 0.003002\n",
      "   2A - Diff = 0.002900\n",
      "\n",
      "\n"
     ]
    },
    {
     "name": "stderr",
     "output_type": "stream",
     "text": [
      "Testing bitnum:   0%|          | 0/8 [00:13<?, ?it/s]\n",
      "Attacking Subkey: 100%|██████████| 16/16 [05:44<00:00, 21.52s/it]"
     ]
    },
    {
     "name": "stdout",
     "output_type": "stream",
     "text": [
      "Subkey 15 - most likely 3C (actual 3C)\n",
      " Top 5 guesses: \n",
      "   3C - Diff = 0.006392\n",
      "   3D - Diff = 0.003616\n",
      "   59 - Diff = 0.003209\n",
      "   58 - Diff = 0.003084\n",
      "   9B - Diff = 0.002897\n",
      "\n",
      "\n"
     ]
    },
    {
     "name": "stderr",
     "output_type": "stream",
     "text": [
      "\n"
     ]
    }
   ],
   "source": [
    "from tqdm import trange\n",
    "import numpy as np\n",
    "\n",
    "#Store your key_guess here, compare to known_key\n",
    "key_guess = []\n",
    "known_key = [0x2b, 0x7e, 0x15, 0x16, 0x28, 0xae, 0xd2, 0xa6, 0xab, 0xf7, 0x15, 0x88, 0x09, 0xcf, 0x4f, 0x3c]\n",
    "\n",
    "#Which bit to target\n",
    "bitnum = 0\n",
    "\n",
    "full_diffs_list = []\n",
    "\n",
    "for subkey in trange(0, 16, desc=\"Attacking Subkey\"):\n",
    "    \n",
    "    max_diffs = [0]*256\n",
    "    full_diffs = [0]*256\n",
    "\n",
    "    for bitnum in trange(8, desc='Testing bitnum'):\n",
    "        for guess in range(0, 256):\n",
    "            full_diff_trace = calculate_diffs(guess, subkey, bitnum)\n",
    "            max_diffs[guess] = np.max(full_diff_trace)\n",
    "            full_diffs[guess] = full_diff_trace\n",
    "    \n",
    "        #Get argument sort, as each index is the actual key guess.\n",
    "        sorted_args = np.argsort(max_diffs)[::-1]\n",
    "    \n",
    "        #Keep most likely\n",
    "        key_guess.append(sorted_args[0])\n",
    "    \n",
    "        #Print results\n",
    "        print(\"Subkey %2d - most likely %02X (actual %02X)\"%(subkey, sorted_args[0], known_key[subkey]))\n",
    "    \n",
    "        #Print other top guesses\n",
    "        print(\" Top 5 guesses: \")\n",
    "        for i in range(0, 5):\n",
    "            g = sorted_args[i]\n",
    "            print(\"   %02X - Diff = %f\"%(g, max_diffs[g]))\n",
    "        if(key_guess[subkey] == known_key[subkey]):\n",
    "            #Make copy of the list\n",
    "            full_diffs_list.append(full_diffs[:])\n",
    "            break\n",
    "        else:\n",
    "            if(bitnum < 7):\n",
    "                key_guess.pop()\n",
    "            print('Bitnum {:d} failed for subkey {:d}'.format(bitnum, subkey))\n",
    "    print(\"\\n\")"
   ]
  },
  {
   "cell_type": "code",
   "execution_count": 21,
   "metadata": {},
   "outputs": [
    {
     "name": "stdout",
     "output_type": "stream",
     "text": [
      "[43, 126, 21, 22, 40, 174, 210, 166, 171, 247, 21, 136, 9, 207, 79, 60]\n",
      "[43, 126, 21, 22, 40, 174, 210, 166, 171, 247, 21, 136, 9, 207, 79, 60]\n"
     ]
    }
   ],
   "source": [
    "print(key_guess)\n",
    "print(known_key)"
   ]
  },
  {
   "cell_type": "markdown",
   "metadata": {},
   "source": [
    "This block should now print some *next top guesses* - in this case just the next top 5 guesses, but you can extend this if you wish. It's also keeping a copy of all the *difference* traces (unlike before where it threw them away)."
   ]
  },
  {
   "cell_type": "markdown",
   "metadata": {},
   "source": [
    "### Plotting Peaks\n",
    "\n",
    "After it runs, select a subkey that is either wrong or has very close \"next best guesses\". For example, the following shows the output for Subkey 5 is actually wrong - the correct guess (`0xAE`) has been ranked as option 5.\n",
    "\n",
    "    Subkey  5 - most likely CB (actual AE)\n",
    "     Top 5 guesses: \n",
    "       CB - Diff = 0.003006\n",
    "       C5 - Diff = 0.002984\n",
    "       AE - Diff = 0.002739\n",
    "       3C - Diff = 0.002674\n",
    "       2F - Diff = 0.002511\n",
    "\n",
    "You can find the full diff in the `full_diffs_list` array. If you index this array it will give you every guess for a given subkey (for example `full_diffs_list[5]` is the 5th subkey guess outputs).\n",
    "\n",
    "Using `full_diffs_list[N]` to get your selected subkey, plot the correct key by plotting `full_diffs_list[N][0xCORRECT]` in green as the *last* (so it appears on top). Plot a few other highly ranked guesses before that. In my example, this would look like:\n",
    "\n",
    "    %matplotlib notebook\n",
    "    import matplotlib.pylab as plt\n",
    "\n",
    "    plt.plot(full_diffs_list[5][0xC5], 'r')\n",
    "    plt.plot(full_diffs_list[5][0xCB], 'r')\n",
    "    plt.plot(full_diffs_list[5][0xAE], 'g')"
   ]
  },
  {
   "cell_type": "code",
   "execution_count": 22,
   "metadata": {},
   "outputs": [
    {
     "name": "stdout",
     "output_type": "stream",
     "text": [
      "Warning: Cannot change to a different GUI toolkit: notebook. Using ipympl instead.\n"
     ]
    },
    {
     "data": {
      "text/plain": [
       "[<matplotlib.lines.Line2D at 0x7f010091af90>]"
      ]
     },
     "execution_count": 22,
     "metadata": {},
     "output_type": "execute_result"
    },
    {
     "data": {
      "application/vnd.jupyter.widget-view+json": {
       "model_id": "8f64e78aab58434081a1f4803d48e215",
       "version_major": 2,
       "version_minor": 0
      },
      "image/png": "[encoded data removed]",
      "text/plain": [
       "Canvas(toolbar=Toolbar(toolitems=[('Home', 'Reset original view', 'home', 'home'), ('Back', 'Back to previous …"
      ]
     },
     "metadata": {},
     "output_type": "display_data"
    }
   ],
   "source": [
    "%matplotlib notebook\n",
    "import matplotlib.pylab as plt\n",
    "\n",
    "plt.plot(full_diffs_list[5][0xC5], 'r')\n",
    "plt.plot(full_diffs_list[5][0xCB], 'r')\n",
    "plt.plot(full_diffs_list[5][0xAE], 'g')"
   ]
  },
  {
   "cell_type": "markdown",
   "metadata": {},
   "source": [
    "Zoom in on the window, and you should notice there is a location where the correct peak is *higher* than the incorrect peaks. If you want to plot all the traces (this will get slow!) for a given trace, we can do so as the following:"
   ]
  },
  {
   "cell_type": "code",
   "execution_count": 23,
   "metadata": {},
   "outputs": [
    {
     "data": {
      "application/vnd.jupyter.widget-view+json": {
       "model_id": "328290f597e94ca7b5af86a021c5431c",
       "version_major": 2,
       "version_minor": 0
      },
      "image/png": "[encoded data removed]",
      "text/plain": [
       "Canvas(toolbar=Toolbar(toolitems=[('Home', 'Reset original view', 'home', 'home'), ('Back', 'Back to previous …"
      ]
     },
     "metadata": {},
     "output_type": "display_data"
    }
   ],
   "source": [
    "plt.figure()\n",
    "subkey = 0\n",
    "for guess in range(0, 256):\n",
    "    plt.plot(full_diffs_list[subkey][guess])\n",
    "plt.show()"
   ]
  },
  {
   "cell_type": "markdown",
   "metadata": {},
   "source": [
    "Depending on your hardware, the previous may show a single nice large spike, or multiple large spikes. If we have the ghost peak problem you've probably got multiple spikes. The incorrect peaks may trail behind the correct locations -- we can first plot the correct locations by looking at the known key. The following will do that:"
   ]
  },
  {
   "cell_type": "code",
   "execution_count": 24,
   "metadata": {},
   "outputs": [
    {
     "data": {
      "application/vnd.jupyter.widget-view+json": {
       "model_id": "ef0e323b9dea43148b0e6458d4a0ba63",
       "version_major": 2,
       "version_minor": 0
      },
      "image/png": "[encoded data removed]",
      "text/plain": [
       "Canvas(toolbar=Toolbar(toolitems=[('Home', 'Reset original view', 'home', 'home'), ('Back', 'Back to previous …"
      ]
     },
     "metadata": {},
     "output_type": "display_data"
    }
   ],
   "source": [
    "plt.figure()\n",
    "for subkey in range(0, 16):\n",
    "    plt.plot(full_diffs_list[subkey][known_key[subkey]])\n",
    "plt.show()"
   ]
  },
  {
   "cell_type": "markdown",
   "metadata": {},
   "source": [
    "### Windowing Peaks\n",
    "\n",
    "The final trick here - see if there is some way to \"window\" the data that could be useful. For example, looking at the peaks you might notice that the correct peaks are always coming at 60 cycle offsets, with the first peak around sample 1100 (these will be different for your hardware).\n",
    "\n",
    "So we could modify the loop to only look at differences after this point:\n",
    "\n",
    "    for guess in range(0, 256):\n",
    "        full_diff_trace = calculate_diffs(guess, subkey, bitnum)\n",
    "        full_diff_trace = full_diff_trace[(1010 + subkey*60):]\n",
    "        max_diffs[guess] = np.max(full_diff_trace)\n",
    "        full_diffs[guess] = full_diff_trace\n",
    "        \n",
    "Copy the full DPA attack here - and try it out! See if you can get the correct key to come out for every byte."
   ]
  },
  {
   "cell_type": "code",
   "execution_count": 25,
   "metadata": {},
   "outputs": [
    {
     "data": {
      "text/plain": [
       "True"
      ]
     },
     "execution_count": 25,
     "metadata": {},
     "output_type": "execute_result"
    }
   ],
   "source": [
    "target.dis()\n",
    "scope.dis()"
   ]
  },
  {
   "cell_type": "markdown",
   "metadata": {},
   "source": [
    "### Attacking Other Bits"
   ]
  },
  {
   "cell_type": "markdown",
   "metadata": {},
   "source": [
    "So far we only looked at bit 0 $-$ but there are more bits involved here! You can first just try another bit that might be present, maybe they simply work better?\n",
    "\n",
    "But you can also combine multiple bits by creating a most likely solution that applies across *all* bits.\n",
    "\n",
    "The first one is easy to try out, as we defined the bit to attack in the previous script"
   ]
  },
  {
   "cell_type": "markdown",
   "metadata": {},
   "source": [
    "The second option is a little more advanced. You can give it a try $-$ but in practice, if you are trying to combine multiple bits, a more effective method called the CPA attack will be used."
   ]
  },
  {
   "cell_type": "markdown",
   "metadata": {},
   "source": [
    "## Conclusions & Next Steps"
   ]
  },
  {
   "cell_type": "markdown",
   "metadata": {},
   "source": [
    "You've now seen how a DPA attack can be performed using a basic Python script. We'll experience much more effective attacks once we look at the CPA attack.\n",
    "\n",
    "If you want to perform these attacks in practice, the Python code here isn't the most efficient! We'll look at faster options in later courses."
   ]
  },
  {
   "cell_type": "markdown",
   "metadata": {},
   "source": [
    "---\n",
    "<small>NO-FUN DISCLAIMER: This material is Copyright (C) NewAE Technology Inc., 2015-2020. ChipWhisperer is a trademark of NewAE Technology Inc., claimed in all jurisdictions, and registered in at least the United States of America, European Union, and Peoples Republic of China.\n",
    "\n",
    "Tutorials derived from our open-source work must be released under the associated open-source license, and notice of the source must be *clearly displayed*. Only original copyright holders may license or authorize other distribution - while NewAE Technology Inc. holds the copyright for many tutorials, the github repository includes community contributions which we cannot license under special terms and **must** be maintained as an open-source release. Please contact us for special permissions (where possible).\n",
    "\n",
    "THE SOFTWARE IS PROVIDED \"AS IS\", WITHOUT WARRANTY OF ANY KIND, EXPRESS OR IMPLIED, INCLUDING BUT NOT LIMITED TO THE WARRANTIES OF MERCHANTABILITY, FITNESS FOR A PARTICULAR PURPOSE AND NONINFRINGEMENT. IN NO EVENT SHALL THE AUTHORS OR COPYRIGHT HOLDERS BE LIABLE FOR ANY CLAIM, DAMAGES OR OTHER LIABILITY, WHETHER IN AN ACTION OF CONTRACT, TORT OR OTHERWISE, ARISING FROM, OUT OF OR IN CONNECTION WITH THE SOFTWARE OR THE USE OR OTHER DEALINGS IN THE SOFTWARE.</small>"
   ]
  }
 ],
 "metadata": {
  "interpreter": {
   "hash": "f22b91a595f7e6822ced407a33526d09b68224e5b5089926ec81819e3364718e"
  },
  "kernelspec": {
   "display_name": "Python 3.7.12 64-bit ('venv': venv)",
   "name": "python3"
  },
  "language_info": {
   "codemirror_mode": {
    "name": "ipython",
    "version": 3
   },
   "file_extension": ".py",
   "mimetype": "text/x-python",
   "name": "python",
   "nbconvert_exporter": "python",
   "pygments_lexer": "ipython3",
   "version": "3.7.12"
  }
 },
 "nbformat": 4,
 "nbformat_minor": 2
}
