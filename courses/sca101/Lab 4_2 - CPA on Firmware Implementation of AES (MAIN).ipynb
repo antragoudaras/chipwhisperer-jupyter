{
 "cells": [
  {
   "cell_type": "markdown",
   "metadata": {},
   "source": [
    "# Part 4, Topic 2: CPA on Firmware Implementation of AES"
   ]
  },
  {
   "cell_type": "markdown",
   "metadata": {},
   "source": [
    "**SUMMARY**: *By now, you'll have used a DPA attack to break AES. While this method has its place in side channel attacks, it often requires a large number of traces to break AES and can suffer from additional issues like ghost peaks.*\n",
    "\n",
    "*We've also learned in the previous lab that there is a very linear relationship between the hamming weight of the SBox output and the power consumption at that point. Instead of checking average power consumption over many traces to see if a guessed subkey is correct (via maximum SDA of of one_list zero list (which have trace_array inside them) as we done before in the DPA attack), we can instead check if our guessed subkey also has this linear relationship with the device's power consumption across a set of traces. Like with DPA, we'll need to repeat this measurement at each point in time along the power trace.*\n",
    "\n",
    "*To get an objective measurement of how linear this relationship is, we'll be developing some code to calculate the Pearson correlation coefficient.*\n",
    "\n",
    "**LEARNING OUTCOMES:**\n",
    "* Developing an algorithm based on a mathematical description\n",
    "* Verify that correlation can be used to break a single byte of AES\n",
    "* Extend the single byte attack to the rest of the key"
   ]
  },
  {
   "cell_type": "markdown",
   "metadata": {},
   "source": [
    "## Prerequisites"
   ]
  },
  {
   "cell_type": "markdown",
   "metadata": {},
   "source": [
    "This notebook will build upon previous ones. Make sure you've completed the following tutorials and their prerequisites:\n",
    "\n",
    "* ☑ Part 3 notebooks (you should be comfortable with running an attack on AES)\n",
    "* ☑ Power and Hamming Weight Relationship (we'll be using information from this tutorial)"
   ]
  },
  {
   "cell_type": "markdown",
   "metadata": {},
   "source": [
    "## AES Trace Capture"
   ]
  },
  {
   "cell_type": "markdown",
   "metadata": {},
   "source": [
    "Our first step will be to send some plaintext to the target device and observe its power consumption during the encryption. The capture loop will be the same as in the DPA attack. This time, however, we'll only need 50 traces to recover the key, a major improvement over the last attack!\n",
    "\n",
    "Depending what you are using, you can complete this either by:\n",
    "\n",
    "* Capturing new traces from a physical device.\n",
    "* Reading pre-recorded data from a file.\n",
    "\n",
    "You get to choose your adventure - see the two notebooks with the same name of this, but called `(SIMULATED)` or `(HARDWARE)` to continue. Inside those notebooks you should get some code to copy into the following section, which will define the capture function.\n",
    "\n",
    "Be sure you get the `\"✔️ OK to continue!\"` print once you run the cell afterwards, otherwise things will fail later on!"
   ]
  },
  {
   "cell_type": "code",
   "execution_count": 1,
   "metadata": {},
   "outputs": [],
   "source": [
    "SCOPETYPE = 'OPENADC'\n",
    "PLATFORM = 'CWLITEXMEGA'\n",
    "CRYPTO_TARGET = 'TINYAES128C'\n",
    "SS_VER = 'SS_VER_1_1'"
   ]
  },
  {
   "cell_type": "code",
   "execution_count": 2,
   "metadata": {},
   "outputs": [
    {
     "name": "stdout",
     "output_type": "stream",
     "text": [
      "INFO: Found ChipWhisperer😍\n",
      "Building for platform CWLITEXMEGA with CRYPTO_TARGET=TINYAES128C\n",
      "SS_VER set to SS_VER_1_1\n",
      "Blank crypto options, building for AES128\n",
      "rm -f -- simpleserial-aes-CWLITEXMEGA.hex\n",
      "rm -f -- simpleserial-aes-CWLITEXMEGA.eep\n",
      "rm -f -- simpleserial-aes-CWLITEXMEGA.cof\n",
      "rm -f -- simpleserial-aes-CWLITEXMEGA.elf\n",
      "rm -f -- simpleserial-aes-CWLITEXMEGA.map\n",
      "rm -f -- simpleserial-aes-CWLITEXMEGA.sym\n",
      "rm -f -- simpleserial-aes-CWLITEXMEGA.lss\n",
      "rm -f -- objdir-CWLITEXMEGA/*.o\n",
      "rm -f -- objdir-CWLITEXMEGA/*.lst\n",
      "rm -f -- simpleserial-aes.s simpleserial.s XMEGA_AES_driver.s uart.s usart_driver.s xmega_hal.s aes.s aes-independant.s\n",
      "rm -f -- simpleserial-aes.d simpleserial.d XMEGA_AES_driver.d uart.d usart_driver.d xmega_hal.d aes.d aes-independant.d\n",
      "rm -f -- simpleserial-aes.i simpleserial.i XMEGA_AES_driver.i uart.i usart_driver.i xmega_hal.i aes.i aes-independant.i\n",
      ".\n",
      "Welcome to another exciting ChipWhisperer target build!!\n",
      "avr-gcc (GCC) 5.4.0\n",
      "Copyright (C) 2015 Free Software Foundation, Inc.\n",
      "This is free software; see the source for copying conditions.  There is NO\n",
      "warranty; not even for MERCHANTABILITY or FITNESS FOR A PARTICULAR PURPOSE.\n",
      "\n",
      ".\n",
      "Compiling C: simpleserial-aes.c\n",
      "avr-gcc -c -mmcu=atxmega128d3 -I. -DNO_EXTRA_OPTS -fpack-struct -gdwarf-2 -DSS_VER=SS_VER_1_1 -DHAL_TYPE=HAL_xmega -DPLATFORM=CWLITEXMEGA -DTINYAES128C -DF_CPU=7372800UL -DSS_VER_2_0=2 -DSS_VER_2_1=3 -DSS_VER_1_1=1 -DSS_VER_1_0=0 -Os -funsigned-char -funsigned-bitfields -fshort-enums -Wall -Wstrict-prototypes -Wa,-adhlns=objdir-CWLITEXMEGA/simpleserial-aes.lst -I.././simpleserial/ -I.././hal -I.././hal/xmega -I.././crypto/ -I.././crypto/tiny-AES128-C -std=gnu99  -MMD -MP -MF .dep/simpleserial-aes.o.d simpleserial-aes.c -o objdir-CWLITEXMEGA/simpleserial-aes.o\n",
      ".\n",
      "Compiling C: .././simpleserial/simpleserial.c\n",
      "avr-gcc -c -mmcu=atxmega128d3 -I. -DNO_EXTRA_OPTS -fpack-struct -gdwarf-2 -DSS_VER=SS_VER_1_1 -DHAL_TYPE=HAL_xmega -DPLATFORM=CWLITEXMEGA -DTINYAES128C -DF_CPU=7372800UL -DSS_VER_2_0=2 -DSS_VER_2_1=3 -DSS_VER_1_1=1 -DSS_VER_1_0=0 -Os -funsigned-char -funsigned-bitfields -fshort-enums -Wall -Wstrict-prototypes -Wa,-adhlns=objdir-CWLITEXMEGA/simpleserial.lst -I.././simpleserial/ -I.././hal -I.././hal/xmega -I.././crypto/ -I.././crypto/tiny-AES128-C -std=gnu99  -MMD -MP -MF .dep/simpleserial.o.d .././simpleserial/simpleserial.c -o objdir-CWLITEXMEGA/simpleserial.o\n",
      ".\n",
      "Compiling C: .././hal/xmega/XMEGA_AES_driver.c\n",
      "avr-gcc -c -mmcu=atxmega128d3 -I. -DNO_EXTRA_OPTS -fpack-struct -gdwarf-2 -DSS_VER=SS_VER_1_1 -DHAL_TYPE=HAL_xmega -DPLATFORM=CWLITEXMEGA -DTINYAES128C -DF_CPU=7372800UL -DSS_VER_2_0=2 -DSS_VER_2_1=3 -DSS_VER_1_1=1 -DSS_VER_1_0=0 -Os -funsigned-char -funsigned-bitfields -fshort-enums -Wall -Wstrict-prototypes -Wa,-adhlns=objdir-CWLITEXMEGA/XMEGA_AES_driver.lst -I.././simpleserial/ -I.././hal -I.././hal/xmega -I.././crypto/ -I.././crypto/tiny-AES128-C -std=gnu99  -MMD -MP -MF .dep/XMEGA_AES_driver.o.d .././hal/xmega/XMEGA_AES_driver.c -o objdir-CWLITEXMEGA/XMEGA_AES_driver.o\n",
      ".\n",
      "Compiling C: .././hal/xmega/uart.c\n",
      "avr-gcc -c -mmcu=atxmega128d3 -I. -DNO_EXTRA_OPTS -fpack-struct -gdwarf-2 -DSS_VER=SS_VER_1_1 -DHAL_TYPE=HAL_xmega -DPLATFORM=CWLITEXMEGA -DTINYAES128C -DF_CPU=7372800UL -DSS_VER_2_0=2 -DSS_VER_2_1=3 -DSS_VER_1_1=1 -DSS_VER_1_0=0 -Os -funsigned-char -funsigned-bitfields -fshort-enums -Wall -Wstrict-prototypes -Wa,-adhlns=objdir-CWLITEXMEGA/uart.lst -I.././simpleserial/ -I.././hal -I.././hal/xmega -I.././crypto/ -I.././crypto/tiny-AES128-C -std=gnu99  -MMD -MP -MF .dep/uart.o.d .././hal/xmega/uart.c -o objdir-CWLITEXMEGA/uart.o\n",
      ".\n",
      "Compiling C: .././hal/xmega/usart_driver.c\n",
      "avr-gcc -c -mmcu=atxmega128d3 -I. -DNO_EXTRA_OPTS -fpack-struct -gdwarf-2 -DSS_VER=SS_VER_1_1 -DHAL_TYPE=HAL_xmega -DPLATFORM=CWLITEXMEGA -DTINYAES128C -DF_CPU=7372800UL -DSS_VER_2_0=2 -DSS_VER_2_1=3 -DSS_VER_1_1=1 -DSS_VER_1_0=0 -Os -funsigned-char -funsigned-bitfields -fshort-enums -Wall -Wstrict-prototypes -Wa,-adhlns=objdir-CWLITEXMEGA/usart_driver.lst -I.././simpleserial/ -I.././hal -I.././hal/xmega -I.././crypto/ -I.././crypto/tiny-AES128-C -std=gnu99  -MMD -MP -MF .dep/usart_driver.o.d .././hal/xmega/usart_driver.c -o objdir-CWLITEXMEGA/usart_driver.o\n",
      ".\n",
      "Compiling C: .././hal/xmega/xmega_hal.c\n",
      "avr-gcc -c -mmcu=atxmega128d3 -I. -DNO_EXTRA_OPTS -fpack-struct -gdwarf-2 -DSS_VER=SS_VER_1_1 -DHAL_TYPE=HAL_xmega -DPLATFORM=CWLITEXMEGA -DTINYAES128C -DF_CPU=7372800UL -DSS_VER_2_0=2 -DSS_VER_2_1=3 -DSS_VER_1_1=1 -DSS_VER_1_0=0 -Os -funsigned-char -funsigned-bitfields -fshort-enums -Wall -Wstrict-prototypes -Wa,-adhlns=objdir-CWLITEXMEGA/xmega_hal.lst -I.././simpleserial/ -I.././hal -I.././hal/xmega -I.././crypto/ -I.././crypto/tiny-AES128-C -std=gnu99  -MMD -MP -MF .dep/xmega_hal.o.d .././hal/xmega/xmega_hal.c -o objdir-CWLITEXMEGA/xmega_hal.o\n",
      ".\n",
      "Compiling C: .././crypto/tiny-AES128-C/aes.c\n",
      "avr-gcc -c -mmcu=atxmega128d3 -I. -DNO_EXTRA_OPTS -fpack-struct -gdwarf-2 -DSS_VER=SS_VER_1_1 -DHAL_TYPE=HAL_xmega -DPLATFORM=CWLITEXMEGA -DTINYAES128C -DF_CPU=7372800UL -DSS_VER_2_0=2 -DSS_VER_2_1=3 -DSS_VER_1_1=1 -DSS_VER_1_0=0 -Os -funsigned-char -funsigned-bitfields -fshort-enums -Wall -Wstrict-prototypes -Wa,-adhlns=objdir-CWLITEXMEGA/aes.lst -I.././simpleserial/ -I.././hal -I.././hal/xmega -I.././crypto/ -I.././crypto/tiny-AES128-C -std=gnu99  -MMD -MP -MF .dep/aes.o.d .././crypto/tiny-AES128-C/aes.c -o objdir-CWLITEXMEGA/aes.o\n",
      ".\n",
      "Compiling C: .././crypto/aes-independant.c\n",
      "avr-gcc -c -mmcu=atxmega128d3 -I. -DNO_EXTRA_OPTS -fpack-struct -gdwarf-2 -DSS_VER=SS_VER_1_1 -DHAL_TYPE=HAL_xmega -DPLATFORM=CWLITEXMEGA -DTINYAES128C -DF_CPU=7372800UL -DSS_VER_2_0=2 -DSS_VER_2_1=3 -DSS_VER_1_1=1 -DSS_VER_1_0=0 -Os -funsigned-char -funsigned-bitfields -fshort-enums -Wall -Wstrict-prototypes -Wa,-adhlns=objdir-CWLITEXMEGA/aes-independant.lst -I.././simpleserial/ -I.././hal -I.././hal/xmega -I.././crypto/ -I.././crypto/tiny-AES128-C -std=gnu99  -MMD -MP -MF .dep/aes-independant.o.d .././crypto/aes-independant.c -o objdir-CWLITEXMEGA/aes-independant.o\n",
      ".\n",
      "Linking: simpleserial-aes-CWLITEXMEGA.elf\n",
      "avr-gcc -mmcu=atxmega128d3 -I. -DNO_EXTRA_OPTS -fpack-struct -gdwarf-2 -DSS_VER=SS_VER_1_1 -DHAL_TYPE=HAL_xmega -DPLATFORM=CWLITEXMEGA -DTINYAES128C -DF_CPU=7372800UL -DSS_VER_2_0=2 -DSS_VER_2_1=3 -DSS_VER_1_1=1 -DSS_VER_1_0=0 -Os -funsigned-char -funsigned-bitfields -fshort-enums -Wall -Wstrict-prototypes -Wa,-adhlns=objdir-CWLITEXMEGA/simpleserial-aes.o -I.././simpleserial/ -I.././hal -I.././hal/xmega -I.././crypto/ -I.././crypto/tiny-AES128-C -std=gnu99  -MMD -MP -MF .dep/simpleserial-aes-CWLITEXMEGA.elf.d objdir-CWLITEXMEGA/simpleserial-aes.o objdir-CWLITEXMEGA/simpleserial.o objdir-CWLITEXMEGA/XMEGA_AES_driver.o objdir-CWLITEXMEGA/uart.o objdir-CWLITEXMEGA/usart_driver.o objdir-CWLITEXMEGA/xmega_hal.o objdir-CWLITEXMEGA/aes.o objdir-CWLITEXMEGA/aes-independant.o --output simpleserial-aes-CWLITEXMEGA.elf -Wl,-Map=simpleserial-aes-CWLITEXMEGA.map,--cref   -lm  \n",
      ".\n",
      "Creating load file for Flash: simpleserial-aes-CWLITEXMEGA.hex\n",
      "avr-objcopy -O ihex -R .eeprom -R .fuse -R .lock -R .signature simpleserial-aes-CWLITEXMEGA.elf simpleserial-aes-CWLITEXMEGA.hex\n",
      ".\n",
      "Creating load file for EEPROM: simpleserial-aes-CWLITEXMEGA.eep\n",
      "avr-objcopy -j .eeprom --set-section-flags=.eeprom=\"alloc,load\" \\\n",
      "--change-section-lma .eeprom=0 --no-change-warnings -O ihex simpleserial-aes-CWLITEXMEGA.elf simpleserial-aes-CWLITEXMEGA.eep || exit 0\n",
      ".\n",
      "Creating Extended Listing: simpleserial-aes-CWLITEXMEGA.lss\n",
      "avr-objdump -h -S -z simpleserial-aes-CWLITEXMEGA.elf > simpleserial-aes-CWLITEXMEGA.lss\n",
      ".\n",
      "Creating Symbol Table: simpleserial-aes-CWLITEXMEGA.sym\n",
      "avr-nm -n simpleserial-aes-CWLITEXMEGA.elf > simpleserial-aes-CWLITEXMEGA.sym\n",
      "Size after:\n",
      "   text\t   data\t    bss\t    dec\t    hex\tfilename\n",
      "   3706\t    558\t    310\t   4574\t   11de\tsimpleserial-aes-CWLITEXMEGA.elf\n",
      "+--------------------------------------------------------\n",
      "+ Default target does full rebuild each time.\n",
      "+ Specify buildtarget == allquick == to avoid full rebuild\n",
      "+--------------------------------------------------------\n",
      "+--------------------------------------------------------\n",
      "+ Built for platform CW-Lite XMEGA with:\n",
      "+ CRYPTO_TARGET = TINYAES128C\n",
      "+ CRYPTO_OPTIONS = AES128C\n",
      "+--------------------------------------------------------\n",
      "XMEGA Programming flash...\n",
      "XMEGA Reading flash...\n",
      "Verified flash OK, 4263 bytes\n"
     ]
    },
    {
     "data": {
      "application/vnd.jupyter.widget-view+json": {
       "model_id": "ff53144f33864d39a3e036b67c50b618",
       "version_major": 2,
       "version_minor": 0
      },
      "text/plain": [
       "Capturing traces:   0%|          | 0/75 [00:00<?, ?it/s]"
      ]
     },
     "metadata": {},
     "output_type": "display_data"
    }
   ],
   "source": [
    "%run \"Lab 4_2 - CPA on Firmware Implementation of AES (HARDWARE).ipynb\""
   ]
  },
  {
   "cell_type": "code",
   "execution_count": 3,
   "metadata": {},
   "outputs": [
    {
     "name": "stdout",
     "output_type": "stream",
     "text": [
      "✔️ OK to continue!\n"
     ]
    }
   ],
   "source": [
    "assert len(trace_array) == 75\n",
    "print(\"✔️ OK to continue!\")"
   ]
  },
  {
   "cell_type": "markdown",
   "metadata": {},
   "source": [
    "Again, let's quickly plot a trace to make sure everything looks as expected:"
   ]
  },
  {
   "cell_type": "code",
   "execution_count": 4,
   "metadata": {},
   "outputs": [
    {
     "data": {
      "application/vnd.jupyter.widget-view+json": {
       "model_id": "6e0f589e133b4eaa9f058d4fbff6d65d",
       "version_major": 2,
       "version_minor": 0
      },
      "image/png": "[encoded data removed]",
      "text/plain": [
       "Canvas(toolbar=Toolbar(toolitems=[('Home', 'Reset original view', 'home', 'home'), ('Back', 'Back to previous …"
      ]
     },
     "metadata": {},
     "output_type": "display_data"
    }
   ],
   "source": [
    "%matplotlib ipympl\n",
    "import matplotlib.pylab as plt\n",
    "\n",
    "plt.plot(trace_array[0], color='red')\n",
    "plt.plot(trace_array[1], color='green')\n",
    "plt.show()"
   ]
  },
  {
   "cell_type": "markdown",
   "metadata": {},
   "source": [
    "## AES Model and Hamming Weight"
   ]
  },
  {
   "cell_type": "markdown",
   "metadata": {},
   "source": [
    "Like with the previous tutorial, we'll need to be able to easily grab what the sbox output will be for a given plaintext and key, as well as get the hamming weight of numbers between 0 and 255:"
   ]
  },
  {
   "cell_type": "code",
   "execution_count": 5,
   "metadata": {},
   "outputs": [],
   "source": [
    "sbox = [\n",
    "    # 0    1    2    3    4    5    6    7    8    9    a    b    c    d    e    f \n",
    "    0x63,0x7c,0x77,0x7b,0xf2,0x6b,0x6f,0xc5,0x30,0x01,0x67,0x2b,0xfe,0xd7,0xab,0x76, # 0\n",
    "    0xca,0x82,0xc9,0x7d,0xfa,0x59,0x47,0xf0,0xad,0xd4,0xa2,0xaf,0x9c,0xa4,0x72,0xc0, # 1\n",
    "    0xb7,0xfd,0x93,0x26,0x36,0x3f,0xf7,0xcc,0x34,0xa5,0xe5,0xf1,0x71,0xd8,0x31,0x15, # 2\n",
    "    0x04,0xc7,0x23,0xc3,0x18,0x96,0x05,0x9a,0x07,0x12,0x80,0xe2,0xeb,0x27,0xb2,0x75, # 3\n",
    "    0x09,0x83,0x2c,0x1a,0x1b,0x6e,0x5a,0xa0,0x52,0x3b,0xd6,0xb3,0x29,0xe3,0x2f,0x84, # 4\n",
    "    0x53,0xd1,0x00,0xed,0x20,0xfc,0xb1,0x5b,0x6a,0xcb,0xbe,0x39,0x4a,0x4c,0x58,0xcf, # 5\n",
    "    0xd0,0xef,0xaa,0xfb,0x43,0x4d,0x33,0x85,0x45,0xf9,0x02,0x7f,0x50,0x3c,0x9f,0xa8, # 6\n",
    "    0x51,0xa3,0x40,0x8f,0x92,0x9d,0x38,0xf5,0xbc,0xb6,0xda,0x21,0x10,0xff,0xf3,0xd2, # 7\n",
    "    0xcd,0x0c,0x13,0xec,0x5f,0x97,0x44,0x17,0xc4,0xa7,0x7e,0x3d,0x64,0x5d,0x19,0x73, # 8\n",
    "    0x60,0x81,0x4f,0xdc,0x22,0x2a,0x90,0x88,0x46,0xee,0xb8,0x14,0xde,0x5e,0x0b,0xdb, # 9\n",
    "    0xe0,0x32,0x3a,0x0a,0x49,0x06,0x24,0x5c,0xc2,0xd3,0xac,0x62,0x91,0x95,0xe4,0x79, # a\n",
    "    0xe7,0xc8,0x37,0x6d,0x8d,0xd5,0x4e,0xa9,0x6c,0x56,0xf4,0xea,0x65,0x7a,0xae,0x08, # b\n",
    "    0xba,0x78,0x25,0x2e,0x1c,0xa6,0xb4,0xc6,0xe8,0xdd,0x74,0x1f,0x4b,0xbd,0x8b,0x8a, # c\n",
    "    0x70,0x3e,0xb5,0x66,0x48,0x03,0xf6,0x0e,0x61,0x35,0x57,0xb9,0x86,0xc1,0x1d,0x9e, # d\n",
    "    0xe1,0xf8,0x98,0x11,0x69,0xd9,0x8e,0x94,0x9b,0x1e,0x87,0xe9,0xce,0x55,0x28,0xdf, # e\n",
    "    0x8c,0xa1,0x89,0x0d,0xbf,0xe6,0x42,0x68,0x41,0x99,0x2d,0x0f,0xb0,0x54,0xbb,0x16  # f\n",
    "]\n",
    "\n",
    "def aes_internal(inputdata, key):\n",
    "    return sbox[inputdata ^ key]"
   ]
  },
  {
   "cell_type": "code",
   "execution_count": 6,
   "metadata": {},
   "outputs": [],
   "source": [
    "HW = [bin(num).count(\"1\") for num in range(256)]"
   ]
  },
  {
   "cell_type": "markdown",
   "metadata": {},
   "source": [
    "Verify that your model is correct:"
   ]
  },
  {
   "cell_type": "code",
   "execution_count": 7,
   "metadata": {},
   "outputs": [
    {
     "name": "stdout",
     "output_type": "stream",
     "text": [
      "✔️ OK to continue!\n"
     ]
    }
   ],
   "source": [
    "assert HW[aes_internal(0xA1, 0x79)] == 3\n",
    "assert HW[aes_internal(0x22, 0xB1)] == 5\n",
    "print(\"✔️ OK to continue!\")"
   ]
  },
  {
   "cell_type": "markdown",
   "metadata": {},
   "source": [
    "## Developing our Correlation Algorithm "
   ]
  },
  {
   "cell_type": "markdown",
   "metadata": {},
   "source": [
    "As we discussed earlier, we'll be testing how good our guess is using a measurement called the Pearson correlation coefficient, which measures the linear correlation between two datasets. \n",
    "\n",
    "The actual algorithm is as follows for datasets $X$ and $Y$ of length $N$, with means of $\\bar{X}$ and $\\bar{Y}$, respectively:\n",
    "\n",
    "$$r = \\frac{cov(X, Y)}{\\sigma_X \\sigma_Y}$$\n",
    "\n",
    "$cov(X, Y)$ is the covariance of `X` and `Y` and can be calculated as follows:\n",
    "\n",
    "$$cov(X, Y) = \\sum_{n=1}^{N}[(Y_n - \\bar{Y})(X_n - \\bar{X})]$$\n",
    "\n",
    "$\\sigma_X$ and $\\sigma_Y$ are the standard deviation of the two datasets. This value can be calculated with the following equation:\n",
    "\n",
    "$$\\sigma_X = \\sqrt{\\sum_{n=1}^{N}(X_n - \\bar{X})^2}$$\n",
    "\n",
    "As you can see, the calulation is actually broken down pretty nicely into some smaller chunks that we can implement with some simple functions. While we could use a library to calculate all this stuff for us, being able to implement a mathematical algorithm in code is a useful skill to develop. \n",
    "\n",
    "To start, build the following functions:\n",
    "\n",
    "1. `mean(X)` to calculate the mean of a dataset (the mean being `X_bar` that will be used elsewhere).\n",
    "1. `std_dev(X, X_bar)` to calculate the standard deviation of a dataset. We'll need to reuse the mean for the covariance, so it makes more sense to calculate it once and pass it in to each function\n",
    "1. `cov(X, X_bar, Y, Y_bar)` to calculate the covariance of two datasets. Again, we can just pass in the means we calculate for std_dev here.\n",
    "\n",
    "**HINT: You can use `np.sum(X, axis=0)` to replace all of the $\\sum$ from earlier. The argument `axis=0` will sum across columns, allowing us to use a single `mean`, `std_dev`, and `cov` call for the entire power trace**"
   ]
  },
  {
   "cell_type": "code",
   "execution_count": 8,
   "metadata": {},
   "outputs": [],
   "source": [
    "import numpy as np\n",
    "def mean(X):\n",
    "    return (np.average(X, axis=0))\n",
    "def std_dev(X, X_bar):\n",
    "    return np.sqrt(np.sum((X-X_bar)**2, axis=0))\n",
    "\n",
    "def cov(X, X_bar, Y, Y_bar):\n",
    "    return np.sum((Y-Y_bar)*(X-X_bar), axis=0)"
   ]
  },
  {
   "cell_type": "code",
   "execution_count": 9,
   "metadata": {},
   "outputs": [
    {
     "name": "stdout",
     "output_type": "stream",
     "text": [
      "(75, 5000)\n",
      "(5000,)\n",
      "(5000,)\n"
     ]
    }
   ],
   "source": [
    "X_bar = mean(trace_array)\n",
    "print(np.shape(trace_array))\n",
    "print(np.shape(X_bar))\n",
    "s = std_dev(trace_array, X_bar)\n",
    "print(np.shape(s))"
   ]
  },
  {
   "cell_type": "markdown",
   "metadata": {},
   "source": [
    "Let's quickly check to make sure everything's as expected. The following blocks will run some test vectors on your functions, confirm you get the correct answer:"
   ]
  },
  {
   "cell_type": "code",
   "execution_count": 10,
   "metadata": {},
   "outputs": [],
   "source": [
    "a = np.array([[5, 3, 4, 4, 5, 6],\n",
    "             [27, 2, 3, 4, 12, 6],\n",
    "              [1, 3, 5, 4, 5, 6],\n",
    "              [1, 2, 3, 4, 5, 6],\n",
    "             ]).transpose()\n",
    "\n",
    "a_bar = mean(a)\n",
    "\n",
    "b = np.array([[5, 4, 3, 2, 1, 3]]).transpose()\n",
    "b_bar = mean(b)\n",
    "\n",
    "\n",
    "o_a = std_dev(a, a_bar)\n",
    "o_b = std_dev(b, b_bar)\n",
    "\n",
    "ab_cov = cov(a, a_bar, b, b_bar)\n",
    "\n",
    "# print(ab_cov)\n",
    "# print('----------------------------')\n",
    "# print(b-b_bar)\n",
    "# print('----------------------------')\n",
    "# print(np.sum((a-a_bar)*(b-b_bar), axis=0))\n",
    "\n",
    "# print(a_bar)\n",
    "# print(np.shape(a))\n",
    "# print(np.shape(b))\n",
    "# print(np.shape(a_bar))\n",
    "# print(np.shape(b_bar))\n",
    "# print(np.shape(o_a))\n",
    "# print(np.shape(o_b))\n",
    "# print(np.shape(ab_cov))\n",
    "\n",
    "# print(np.shape(a), np.shape(a_bar))\n",
    "# print(np.shape(a), np.shape(a_bar), np.shape(b), np.shape(b_bar))\n",
    "# print(np.shape(ab_cov))\n",
    "\n",
    "# print(ab_cov)"
   ]
  },
  {
   "cell_type": "code",
   "execution_count": 11,
   "metadata": {},
   "outputs": [
    {
     "name": "stdout",
     "output_type": "stream",
     "text": [
      "✔️ OK to continue!\n"
     ]
    }
   ],
   "source": [
    "assert (a_bar == np.array([4.5, 9., 4., 3.5])).all()\n",
    "assert (b_bar == np.array([3.])).all()\n",
    "assert (o_a[3] > 4.1833001 and o_a[3] < 4.1833002)\n",
    "assert (o_b[0] > 3.162277 and o_b[0] < 3.162278)\n",
    "assert (ab_cov == np.array([-1., 28., -9., -10.])).all()\n",
    "print(\"✔️ OK to continue!\")"
   ]
  },
  {
   "cell_type": "markdown",
   "metadata": {},
   "source": [
    "Now that we've got all the building blocks to our correlation function, let's see if we can put everything together and break a single byte of AES. In order to do this, let's take a closer look at what we're trying to do and the data we've got."
   ]
  },
  {
   "cell_type": "markdown",
   "metadata": {},
   "source": [
    "## Correlation Data"
   ]
  },
  {
   "cell_type": "markdown",
   "metadata": {},
   "source": [
    "Remember that the general correlation formula for two datasets $X$  and $Y$ is:\n",
    "\n",
    "$$r = \\frac{cov(X, Y)}{\\sigma_X \\sigma_Y}$$\n",
    "\n",
    "We are going to be correlateing between a power measurment (`trace_array`) and Hamming weight of a key guess. First let's look at our power trace array:"
   ]
  },
  {
   "cell_type": "code",
   "execution_count": 12,
   "metadata": {},
   "outputs": [
    {
     "name": "stdout",
     "output_type": "stream",
     "text": [
      "[[0.12402344 0.13769531 0.13964844 ... 0.12792969 0.1640625  0.15429688]\n",
      " [0.12695312 0.14453125 0.14257812 ... 0.11621094 0.15722656 0.14160156]\n",
      " [0.125      0.14257812 0.14257812 ... 0.12207031 0.16894531 0.15917969]\n",
      " ...\n",
      " [0.12988281 0.140625   0.14746094 ... 0.11523438 0.15722656 0.16015625]\n",
      " [0.10546875 0.13476562 0.13964844 ... 0.12890625 0.16699219 0.15917969]\n",
      " [0.12304688 0.14453125 0.14453125 ... 0.12597656 0.16992188 0.15917969]]\n"
     ]
    }
   ],
   "source": [
    "print(trace_array)"
   ]
  },
  {
   "cell_type": "markdown",
   "metadata": {},
   "source": [
    "You should have something like the following:\n",
    "```python\n",
    "[\n",
    "    [point_0, point_1, point_2, ...], # trace 0\n",
    "    [point_0, point_1, point_2, ...], # trace 1\n",
    "    [point_0, point_1, point_2, ...], # trace 2\n",
    "    ...\n",
    "]\n",
    "```\n",
    "\n",
    "where the rows of the array are the different traces we captured and the columns of the array are the different points in those traces. The columns here will be one of the two datasets for our correlation equation. The other dataset will be the hamming weight of the SBox output, for a given *key guess* `key` of the byte we are looking at:\n",
    "\n",
    "```python\n",
    "[\n",
    "      [HW[aes_internal(plaintext0[0], key[0])], # trace 0\n",
    "      [HW[aes_internal(plaintext1[0], key[0])], # trace 1\n",
    "      [HW[aes_internal(plaintext2[0], key[0])], # trace 2\n",
    "      ...\n",
    "]\n",
    "```\n",
    "\n",
    "which we'll shorten to:\n",
    "\n",
    "```python\n",
    "[\n",
    "      [hw], # trace 1\n",
    "      [hw], # trace 2\n",
    "      [hw], # trace 3\n",
    "      ...\n",
    "]\n",
    "```\n",
    "\n",
    "Like with the DPA attack, we don't know where the encryption is occurring, meaning we have to repeat the correlation calculation for each column in the trace array, with the largest correlation being our best guess for where the SBox output is happening. We obviously also don't know the key (that's the thing we're trying to find!), so we'll also need to repeat the best correlation calculation for each possible value of `key[0]` (0 to 255). The key with the highest absolute correlation is our best guess for the value of the key byte."
   ]
  },
  {
   "cell_type": "markdown",
   "metadata": {},
   "source": [
    "## Correlation Attack Implementaiton"
   ]
  },
  {
   "cell_type": "markdown",
   "metadata": {},
   "source": [
    "The correlation attack is basically to calculate this:\n",
    "\n",
    "$$r = \\frac{cov(X, Y)}{\\sigma_X \\sigma_Y}$$\n",
    "\n",
    "Where:\n",
    "\n",
    "* $X$ is a power trace sample point\n",
    "* $Y$ is an internal state guess\n",
    "\n",
    "Remember you already defined (and tested) the functions that generate `cov(X,Y)`, and also the `std_dev(X)` ($\\sigma_X$). The actual API for those functions requires to to pass in the `mean()` as well as a seperate argument (passed in for computational efficiency, since it is re-used).\n",
    "\n",
    "### Hint: Using Vectors\n",
    "\n",
    "We should mention a few way to improve your work.\n",
    "\n",
    "A really nice feature of numpy is that we can do the correlation calculations across the entire trace at once (mean, std_dev, cov). That means there's no need to do:\n",
    "\n",
    "```python\n",
    "t_bar = []\n",
    "for point_num in range(len(trace_array[0])):\n",
    "    t_bar.append(mean(trace_array[:,point_num]))\n",
    "    # and so on...\n",
    "\n",
    "t_bar = np.array(t_bar)\n",
    "```\n",
    "\n",
    "when we can do\n",
    "\n",
    "```python\n",
    "t_bar = mean(trace_array)\n",
    "```\n",
    "\n",
    "and get the same thing back. The only caveat being that we need to make sure that the columns and rows of our arrays are the right way around (i.e. make sure your hamming weight array has 1 column and 50 rows and not the other way around). If you find it easier to construct and array one way and not the other, you can use the `.transpose()` method to swap the rows and columns.\n",
    "\n",
    "### Finding Largest Correlation\n",
    "\n",
    "Once you've got all your correlations for a particular key guess, you want to find the largest absolute correlation. We're taking the absolute value of the correlation here since we only care that the relation between hamming weight and the power trace is linear, not that the slope is positive or negative. `max(abs(correlations))` will do that for you.\n",
    "\n",
    "### Enumerating Guesses\n",
    "\n",
    "Perform this for every possible value of the key byte (aka 0 to 255) and the one with the largest correlation is your best guess for the key. It's up to you how you want to extract this information from your loop, but one way of doing it is to stick the best guess for each of your key guesses in an array. Once you've gone through all the key guesses, you can extract the best guess with `np.argmax(maxcpa)` and the correlation of that guess with `max(maxcpa)`.\n",
    "\n",
    "### Equation to Python\n",
    "\n",
    "We can take the earlier equation and plug in some of our Python variable names to give you a good starting point. We are using:\n",
    "\n",
    "* $r$ = `cpaoutput`\n",
    "* $X$ = `t` or `trace_array` (the average of it called `t_bar`).\n",
    "* $Y$ = `hws` (the mean of it called `hws_bar`).\n",
    "\n",
    "Our equation now looks something like this:\n",
    "\n",
    "$$cpaoutput = \\frac{cov(X, Y)}{\\sigma_X \\sigma_Y}$$\n",
    "\n",
    "This should almost directly convert to Python code!"
   ]
  },
  {
   "cell_type": "code",
   "execution_count": 13,
   "metadata": {},
   "outputs": [
    {
     "data": {
      "application/vnd.jupyter.widget-view+json": {
       "model_id": "8ecf84dc5d424bea8a8f61cc26859d95",
       "version_major": 2,
       "version_minor": 0
      },
      "text/plain": [
       "Attacking first byte:   0%|          | 0/256 [00:00<?, ?it/s]"
      ]
     },
     "metadata": {},
     "output_type": "display_data"
    },
    {
     "name": "stdout",
     "output_type": "stream",
     "text": [
      "Key guess:  0x2b\n",
      "Correlation:  0.8123980048053906\n"
     ]
    }
   ],
   "source": [
    "maxcpa = [0] * 256\n",
    "t_bar = mean(trace_array)\n",
    "o_t = std_dev(trace_array, t_bar)\n",
    "\n",
    "guessed_byte = 0\n",
    "\n",
    "for kguess in trange(0, 256, desc='Attacking first byte'):\n",
    "    hws = np.array([[HW[aes_internal(text[guessed_byte], kguess)] for text in textin_array]]).transpose()\n",
    "    hws_bar = mean(hws)\n",
    "    o_hw = std_dev(hws,hws_bar)\n",
    "    correlation = cov(X=trace_array, X_bar=t_bar, Y=hws, Y_bar=hws_bar)\n",
    "    cpaoutput = correlation / (o_hw * o_t)\n",
    "    maxcpa[kguess] = max(abs(cpaoutput))\n",
    "\n",
    "guess = np.argmax(maxcpa)\n",
    "guess_corr = max(maxcpa)\n",
    "\n",
    "print(\"Key guess: \", hex(guess))\n",
    "print(\"Correlation: \", guess_corr)\n",
    "# print(np.shape(cpaoutput))\n",
    "# print(np.shape(correlation))\n",
    "# print(np.shape(o_hw*o_t))\n",
    "# print(np.shape(trace_array-t_bar))\n",
    "# print(np.shape(hws-hws_bar))\n",
    "# print(np.shape(np.sum((trace_array-t_bar)*(hws-hws_bar), axis=0)))"
   ]
  },
  {
   "cell_type": "markdown",
   "metadata": {},
   "source": [
    "Let's make sure we've recovered the byte correctly:"
   ]
  },
  {
   "cell_type": "code",
   "execution_count": 14,
   "metadata": {},
   "outputs": [
    {
     "name": "stdout",
     "output_type": "stream",
     "text": [
      "✔️ OK to continue!\n"
     ]
    }
   ],
   "source": [
    "assert guess == 0x2b\n",
    "print(\"✔️ OK to continue!\")"
   ]
  },
  {
   "cell_type": "markdown",
   "metadata": {},
   "source": [
    "To break the rest of the key, simply repeat the attack for the rest of the bytes of the key. Don't forget to update your code from above to use the correct byte of the plaintext!"
   ]
  },
  {
   "cell_type": "code",
   "execution_count": 15,
   "metadata": {},
   "outputs": [
    {
     "data": {
      "application/vnd.jupyter.widget-view+json": {
       "model_id": "a5606bf9b6d54f26aa6375f93b485a8f",
       "version_major": 2,
       "version_minor": 0
      },
      "text/plain": [
       "Attacking full key:   0%|          | 0/16 [00:00<?, ?it/s]"
      ]
     },
     "metadata": {},
     "output_type": "display_data"
    },
    {
     "name": "stdout",
     "output_type": "stream",
     "text": [
      "Best Key Guess: 2B 7E 15 16 28 AE D2 A6 AB F7 15 88 09 CF 4F 3C \n",
      " [0.8123980048053906, 0.8481858398152499, 0.7827074408871303, 0.8406870181751872, 0.7550733493089904, 0.8611171104226923, 0.8208954067203161, 0.7738256782931032, 0.7693031150690096, 0.8124769398399108, 0.7690395353849807, 0.8104528560452477, 0.7513578728485211, 0.81459653905324, 0.765832457175442, 0.8522057462083136]\n"
     ]
    }
   ],
   "source": [
    "guess = [0] * 16\n",
    "guess_corr = [0] * 16\n",
    "t_bar = mean(trace_array)\n",
    "o_t = std_dev(trace_array, t_bar)\n",
    "\n",
    "for bnum in trange(0, 16, desc='Attacking full key'):\n",
    "    maxcpa = [0] * 256\n",
    "    for kguess in range(0, 256):\n",
    "        hws = np.array([[HW[aes_internal(text[bnum], kguess)] for text in textin_array]]).transpose()\n",
    "        hws_bar = mean(hws)\n",
    "        o_hw = std_dev(hws,hws_bar)\n",
    "        correlation = cov(X=trace_array, X_bar=t_bar, Y=hws, Y_bar=hws_bar)\n",
    "        cpaoutput = correlation / (o_hw * o_t)\n",
    "        maxcpa[kguess] = max(abs(cpaoutput))\n",
    "\n",
    "    guess[bnum] = np.argmax(maxcpa)\n",
    "    guess_corr[bnum] = max(maxcpa)\n",
    "\n",
    "print('Best Key Guess: ', end='')\n",
    "for b in guess:\n",
    "    print('{:02X} '.format(b), end='')\n",
    "print('\\n', guess_corr)\n",
    "# print(np.shape(cpaoutput))\n",
    "# print(np.shape(correlation))\n",
    "# print(np.shape(o_hw*o_t))\n",
    "# print(np.shape(trace_array-t_bar))\n",
    "# print(np.shape(hws-hws_bar))\n",
    "# print(np.shape(np.sum((trace_array-t_bar)*(hws-hws_bar), axis=0)))"
   ]
  },
  {
   "cell_type": "markdown",
   "metadata": {},
   "source": [
    "With one final check to make sure you've got the correct key:"
   ]
  },
  {
   "cell_type": "code",
   "execution_count": 16,
   "metadata": {},
   "outputs": [
    {
     "name": "stdout",
     "output_type": "stream",
     "text": [
      "✔️ OK to continue!\n"
     ]
    }
   ],
   "source": [
    "for bnum in range(16):\n",
    "    assert guess[bnum] == key[bnum], \\\n",
    "    \"Byte {} failed, expected {:02X} got {:02X}\".format(bnum, key[bnum], guess[bnum])\n",
    "print(\"✔️ OK to continue!\")"
   ]
  },
  {
   "cell_type": "markdown",
   "metadata": {},
   "source": [
    "We're done! There's actually a lot of room to expand on this attack:\n",
    "\n",
    "1. Currently, the loop needs to go through all the traces before it can return a correlation. This isn't too bad for a short attack, for a much longer one (think 10k+ traces) we won't get any feedback from the attack until it's finished. Also, if we didn't capture enough traces for the attack, the entire analysis calculation needs to be repeated! Instead of using the original correlation equation, we can instead use an equivalent \"online\" version that can be easily updated with more traces: $$r_{i,j} = \\frac{D\\sum_{d=1}^{D}h_{d,i}t_{d,j}-\\sum_{d=1}^{D}h_{d,i}\\sum_{d=1}^{D}t_{d,j}}{\\sqrt{((\\sum_{d=1}^Dh_{d,i})^2-D\\sum_{d=1}^Dh_{d,i}^2)-((\\sum_{d=1}^Dt_{d,j})^2-D\\sum_{d=1}^Dh_{d,j}^2)}}$$\n",
    "where\n",
    "\n",
    "| **Equation** | **Python Variable** | **Value**  | \n",
    "|--------------|---------------------|------------|\n",
    "|  d           |       tnum          | trace number |\n",
    "|  i           |       kguess        | subkey guess |\n",
    "| j | j index trace point | sample point in trace |\n",
    "| h | hypint | guess for power consumption | \n",
    "| t | traces | traces | \n",
    "\n",
    "2. There's a lot more we can learn from the attack other than the key. For example, we could plot how far away the correct key guess is from the top spot (called the partial guessing entropy or PGE) vs. how many traces we used, giving us a better idea of how many traces we needed to actually recover the correct key. We also might want to plot how correlation for a given key guess changes over time.\n",
    "\n",
    "This \"online\" correlation equation is the one that the subject of the next tutorial, ChipWhisperer Analyzer, actually uses. It also provides functions and methods for gathering and plotting some interesting statistics."
   ]
  },
  {
   "cell_type": "markdown",
   "metadata": {},
   "source": [
    "---\n",
    "<small>NO-FUN DISCLAIMER: This material is Copyright (C) NewAE Technology Inc., 2015-2020. ChipWhisperer is a trademark of NewAE Technology Inc., claimed in all jurisdictions, and registered in at least the United States of America, European Union, and Peoples Republic of China.\n",
    "\n",
    "Tutorials derived from our open-source work must be released under the associated open-source license, and notice of the source must be *clearly displayed*. Only original copyright holders may license or authorize other distribution - while NewAE Technology Inc. holds the copyright for many tutorials, the github repository includes community contributions which we cannot license under special terms and **must** be maintained as an open-source release. Please contact us for special permissions (where possible).\n",
    "\n",
    "THE SOFTWARE IS PROVIDED \"AS IS\", WITHOUT WARRANTY OF ANY KIND, EXPRESS OR IMPLIED, INCLUDING BUT NOT LIMITED TO THE WARRANTIES OF MERCHANTABILITY, FITNESS FOR A PARTICULAR PURPOSE AND NONINFRINGEMENT. IN NO EVENT SHALL THE AUTHORS OR COPYRIGHT HOLDERS BE LIABLE FOR ANY CLAIM, DAMAGES OR OTHER LIABILITY, WHETHER IN AN ACTION OF CONTRACT, TORT OR OTHERWISE, ARISING FROM, OUT OF OR IN CONNECTION WITH THE SOFTWARE OR THE USE OR OTHER DEALINGS IN THE SOFTWARE.</small>"
   ]
  }
 ],
 "metadata": {
  "interpreter": {
   "hash": "f22b91a595f7e6822ced407a33526d09b68224e5b5089926ec81819e3364718e"
  },
  "kernelspec": {
   "display_name": "Python 3.7.12 64-bit ('venv': venv)",
   "name": "python3"
  },
  "language_info": {
   "codemirror_mode": {
    "name": "ipython",
    "version": 3
   },
   "file_extension": ".py",
   "mimetype": "text/x-python",
   "name": "python",
   "nbconvert_exporter": "python",
   "pygments_lexer": "ipython3",
   "version": "3.7.12"
  }
 },
 "nbformat": 4,
 "nbformat_minor": 2
}
