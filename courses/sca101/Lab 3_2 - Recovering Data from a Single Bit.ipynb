{
 "cells": [
  {
   "cell_type": "markdown",
   "metadata": {},
   "source": [
    "# Part 3, Topic 2: Recovering AES Key from a Single Bit of Data"
   ]
  },
  {
   "cell_type": "markdown",
   "metadata": {},
   "source": [
    "---\n",
    "NOTE: This lab references some (commercial) training material on [ChipWhisperer.io](https://www.ChipWhisperer.io). You can freely execute and use the lab per the open-source license (including using it in your own courses if you distribute similarly), but you must maintain notice about this source location. Consider joining our training course to enjoy the full experience.\n",
    "\n",
    "---"
   ]
  },
  {
   "cell_type": "markdown",
   "metadata": {},
   "source": [
    "Let's do a basic demo to recover a single bit of data from an internal state of an AES implementation, and see how far we can take our attack.\n",
    "\n",
    "\n",
    "**SUMMARY:** *This lab will take you through the associated information about how to recover an AES key from a single \"bit\" of leakage. We already saw how power analysis can be used to understand device leakage, but how does that mean we can recover cryptographic information?*\n",
    "\n",
    "**LEARNING OUTCOMES:**\n",
    "\n",
    "* Understand some basics of the AES algorithm.\n",
    "* See how a single bit of leakage can translate to a full key reveal.\n",
    "* See how to sort and ranking lists.\n"
   ]
  },
  {
   "cell_type": "markdown",
   "metadata": {},
   "source": [
    "## 1. AES Refresher"
   ]
  },
  {
   "cell_type": "markdown",
   "metadata": {},
   "source": [
    "You'll be an expert at AES (or recognizing AES figures) by the end of this course! Remember that the input data flow for AES is something like this:\n",
    "\n",
    "![aes-input-sbox](img/aesinput.png)\n",
    "\n",
    "Where the input data is XOR'd with a key byte, and then passed through an S-Box. First, let's build our AES model. I'm going to make your life slightly easier by giving you the S-Box data:"
   ]
  },
  {
   "cell_type": "code",
   "execution_count": 1,
   "metadata": {},
   "outputs": [],
   "source": [
    "sbox = [\n",
    "    # 0    1    2    3    4    5    6    7    8    9    a    b    c    d    e    f \n",
    "    0x63,0x7c,0x77,0x7b,0xf2,0x6b,0x6f,0xc5,0x30,0x01,0x67,0x2b,0xfe,0xd7,0xab,0x76, # 0\n",
    "    0xca,0x82,0xc9,0x7d,0xfa,0x59,0x47,0xf0,0xad,0xd4,0xa2,0xaf,0x9c,0xa4,0x72,0xc0, # 1\n",
    "    0xb7,0xfd,0x93,0x26,0x36,0x3f,0xf7,0xcc,0x34,0xa5,0xe5,0xf1,0x71,0xd8,0x31,0x15, # 2\n",
    "    0x04,0xc7,0x23,0xc3,0x18,0x96,0x05,0x9a,0x07,0x12,0x80,0xe2,0xeb,0x27,0xb2,0x75, # 3\n",
    "    0x09,0x83,0x2c,0x1a,0x1b,0x6e,0x5a,0xa0,0x52,0x3b,0xd6,0xb3,0x29,0xe3,0x2f,0x84, # 4\n",
    "    0x53,0xd1,0x00,0xed,0x20,0xfc,0xb1,0x5b,0x6a,0xcb,0xbe,0x39,0x4a,0x4c,0x58,0xcf, # 5\n",
    "    0xd0,0xef,0xaa,0xfb,0x43,0x4d,0x33,0x85,0x45,0xf9,0x02,0x7f,0x50,0x3c,0x9f,0xa8, # 6\n",
    "    0x51,0xa3,0x40,0x8f,0x92,0x9d,0x38,0xf5,0xbc,0xb6,0xda,0x21,0x10,0xff,0xf3,0xd2, # 7\n",
    "    0xcd,0x0c,0x13,0xec,0x5f,0x97,0x44,0x17,0xc4,0xa7,0x7e,0x3d,0x64,0x5d,0x19,0x73, # 8\n",
    "    0x60,0x81,0x4f,0xdc,0x22,0x2a,0x90,0x88,0x46,0xee,0xb8,0x14,0xde,0x5e,0x0b,0xdb, # 9\n",
    "    0xe0,0x32,0x3a,0x0a,0x49,0x06,0x24,0x5c,0xc2,0xd3,0xac,0x62,0x91,0x95,0xe4,0x79, # a\n",
    "    0xe7,0xc8,0x37,0x6d,0x8d,0xd5,0x4e,0xa9,0x6c,0x56,0xf4,0xea,0x65,0x7a,0xae,0x08, # b\n",
    "    0xba,0x78,0x25,0x2e,0x1c,0xa6,0xb4,0xc6,0xe8,0xdd,0x74,0x1f,0x4b,0xbd,0x8b,0x8a, # c\n",
    "    0x70,0x3e,0xb5,0x66,0x48,0x03,0xf6,0x0e,0x61,0x35,0x57,0xb9,0x86,0xc1,0x1d,0x9e, # d\n",
    "    0xe1,0xf8,0x98,0x11,0x69,0xd9,0x8e,0x94,0x9b,0x1e,0x87,0xe9,0xce,0x55,0x28,0xdf, # e\n",
    "    0x8c,0xa1,0x89,0x0d,0xbf,0xe6,0x42,0x68,0x41,0x99,0x2d,0x0f,0xb0,0x54,0xbb,0x16  # f\n",
    "]"
   ]
  },
  {
   "cell_type": "markdown",
   "metadata": {},
   "source": [
    "Alright - that should be enough for you to build a simple function that XORs a secret key value with the input data, and then performs a lookup in the above table. Before you continue, modify the following code block to implement the correct function:\n",
    "\n",
    "### 1.1 `aes_internal()`"
   ]
  },
  {
   "cell_type": "code",
   "execution_count": 2,
   "metadata": {},
   "outputs": [],
   "source": [
    "def aes_internal(inputdata, key):\n",
    "    return sbox[inputdata ^ key]"
   ]
  },
  {
   "cell_type": "markdown",
   "metadata": {},
   "source": [
    "With that working - go ahead and run the following test vectors. If the values are not as expected, check your implementation. If the following executes without error, then go onto the next part."
   ]
  },
  {
   "cell_type": "code",
   "execution_count": 3,
   "metadata": {},
   "outputs": [
    {
     "name": "stdout",
     "output_type": "stream",
     "text": [
      "✔️ OK to continue!\n"
     ]
    }
   ],
   "source": [
    "#Simple test vectors - if you get the check-mark printed all OK.\n",
    "assert(aes_internal(0xAB, 0xEF) == 0x1B)\n",
    "assert(aes_internal(0x22, 0x01) == 0x26)\n",
    "print(\"✔️ OK to continue!\")"
   ]
  },
  {
   "cell_type": "markdown",
   "metadata": {},
   "source": [
    "Finally - we'll make a new function which doesn't expose the key. The following function has some hard-coded key. You can change this key byte if you'd like, and see it recovered at a later step!\n",
    "\n",
    "## 1.2 `aes_secret()`"
   ]
  },
  {
   "cell_type": "code",
   "execution_count": 4,
   "metadata": {},
   "outputs": [],
   "source": [
    "def aes_secret(inputdata) :\n",
    "    secret_key = 0xEF\n",
    "    return aes_internal(inputdata, secret_key) "
   ]
  },
  {
   "cell_type": "markdown",
   "metadata": {},
   "source": [
    "At this point, we can get the value of some internal part of the AES algorithm. For our first attack, we're going to assume that we can't observe this entire value. Let's just observe a single bit of the value - imagine that someone put a probe down inside the chip to get this. We can do this by simply throwing away all the other data besides a single bit, and only expose that single bit to the observer.\n",
    "\n",
    "Let's build the watcher now."
   ]
  },
  {
   "cell_type": "markdown",
   "metadata": {},
   "source": [
    "## 2. AES Watcher"
   ]
  },
  {
   "cell_type": "markdown",
   "metadata": {},
   "source": [
    "The watcher is going to observe a single bit of data. We'll need to build lists of input we feed to the algorithm (we're just going to send in 1000 random bytes that get 'encrypted'), as well as lists to hold our observation. In case you're still picking up Python, here are a few handy little things you might need in this section:"
   ]
  },
  {
   "cell_type": "code",
   "execution_count": 5,
   "metadata": {},
   "outputs": [],
   "source": [
    "##Some Python hints/useful functions:\n",
    "\n",
    "# You can use this function to generate the random data\n",
    "import random\n",
    "random.randint(0, 255)\n",
    "\n",
    "# List comprehension can be used to shovel data through a function\n",
    "def somefunc(a):\n",
    "    return a + 4\n",
    "input_data = [1,2,5,6]\n",
    "output_data = [somefunc(a) for a in input_data]\n",
    "\n",
    "# You can use this while ignoring the index variable too\n",
    "output_data = [somefunc(random.randint(0,255)) for _ in range(0, 1000)]"
   ]
  },
  {
   "cell_type": "markdown",
   "metadata": {},
   "source": [
    "Your first objective is to build a list of data you are encrypted with aes_secret(). This should be a 1000-item random number which ranges from 0 to 255. Call it `input_data`. For example if you print the `input_data` list it could look like `[2, 49, 0, 212, 94, 255, ... , 7]`, where there are 1000 elements in total. Fill in the following code to make a list of the 1000 random values in the correct range (see hints above if you need some Python syntax). \n",
    "\n",
    "### 2.1 Generation of `input_data`"
   ]
  },
  {
   "cell_type": "code",
   "execution_count": 6,
   "metadata": {},
   "outputs": [],
   "source": [
    "input_data = [random.randint(0,255) for _ in range(1000)]\n",
    "# print(input_data)"
   ]
  },
  {
   "cell_type": "code",
   "execution_count": 7,
   "metadata": {},
   "outputs": [
    {
     "name": "stdout",
     "output_type": "stream",
     "text": [
      "✔️ OK to continue!\n"
     ]
    }
   ],
   "source": [
    "#Simple test vectors - if you get the check-mark printed all OK.\n",
    "assert(len(input_data) == 1000)\n",
    "assert(max(input_data) == 0xFF) #Possibly not true for random variables (re-run if you get an error)\n",
    "assert(min(input_data) == 0x00) #Possibly not true for random variables (re-run if you get an error)\n",
    "print(\"✔️ OK to continue!\")"
   ]
  },
  {
   "cell_type": "markdown",
   "metadata": {},
   "source": [
    "Now, feed all those inputs through the `aes_secret` function. Because this is a secret function we are only going to observe a single bit of output (the 'leakage'). The following will perform the encryptions and mask off all but the lowest bit for you, and build a new array called `leaked_data` which contains just the 1 or 0 status of the lowest bit.\n",
    "\n",
    "### 2.2 Definition of `leaked_data`"
   ]
  },
  {
   "cell_type": "code",
   "execution_count": 24,
   "metadata": {},
   "outputs": [],
   "source": [
    "leaked_data = [aes_secret(a) for a in input_data]\n",
    "# print(leaked_data)"
   ]
  },
  {
   "cell_type": "code",
   "execution_count": 9,
   "metadata": {},
   "outputs": [],
   "source": [
    "def get_bit_leaked_data(data, bitshift = 0):\n",
    "    if (data & (1<<bitshift)):\n",
    "        return 1\n",
    "    else:\n",
    "        return 0"
   ]
  },
  {
   "cell_type": "code",
   "execution_count": 25,
   "metadata": {},
   "outputs": [],
   "source": [
    "random_select = random.randint(0,7)\n",
    "leaked_data = [get_bit_leaked_data(a, random_select) for a in leaked_data]"
   ]
  },
  {
   "cell_type": "markdown",
   "metadata": {},
   "source": [
    "If you run the following too cells, it will then print some of the data so you can see the sequence of 1 and 0."
   ]
  },
  {
   "cell_type": "code",
   "execution_count": 26,
   "metadata": {},
   "outputs": [
    {
     "name": "stdout",
     "output_type": "stream",
     "text": [
      "(1000,)\n"
     ]
    }
   ],
   "source": [
    "import numpy as np\n",
    "print(np.shape(leaked_data))"
   ]
  },
  {
   "cell_type": "markdown",
   "metadata": {},
   "source": [
    "You can also plot for example the patterns of 1's and 0's - this gets pretty squashed, so let's just look at a few hundred transitions:"
   ]
  },
  {
   "cell_type": "code",
   "execution_count": 12,
   "metadata": {},
   "outputs": [
    {
     "data": {
      "image/png": "[encoded data removed]",
      "text/plain": [
       "<Figure size 432x288 with 1 Axes>"
      ]
     },
     "metadata": {
      "needs_background": "light"
     },
     "output_type": "display_data"
    }
   ],
   "source": [
    "import matplotlib.pylab as plt\n",
    "plt.plot(leaked_data[:200])\n",
    "plt.show()"
   ]
  },
  {
   "cell_type": "markdown",
   "metadata": {},
   "source": [
    "Do you think we'll be able to get something useful out of this? Let's attack it to find out."
   ]
  },
  {
   "cell_type": "markdown",
   "metadata": {},
   "source": [
    "## 3. AES Guesser"
   ]
  },
  {
   "cell_type": "markdown",
   "metadata": {},
   "source": [
    "The attack is pretty simple. Let's just use our model of the device (we know what the encryption does after all, just not the secret key). And we'll feed in the observed data for each possible value of the key. And then we can observe how many (if any) of the keys result in the observation and simulation matching each other. If the observation and simulation match, this suggets our simulation is running in the same \"setup\" as the implementation we are attacking!\n",
    "\n",
    "First, build a function to count the number of elements in a list that match between two lists (that is - same value of the element at the same list index). An easy way is to just iterate through the number of elements in the list and count the number that are the same. Fill in the following - there is already some bounds checking code to get you started.\n",
    "\n",
    "### 3.1 `num_same()`"
   ]
  },
  {
   "cell_type": "code",
   "execution_count": 13,
   "metadata": {},
   "outputs": [],
   "source": [
    "def num_same(a, b):\n",
    "\n",
    "    if len(a) != len(b):\n",
    "        raise ValueError(\"Arrays must be same length!\")\n",
    "\n",
    "    if max(a) != max(b):\n",
    "        raise ValueError(\"Arrays max() should be the same!\")\n",
    "    \n",
    "    #Count how many list items match up\n",
    "    same = 0\n",
    "    for i in range(len(a)):\n",
    "        if a[i] == b[i]:\n",
    "            same += 1\n",
    "    return same"
   ]
  },
  {
   "cell_type": "code",
   "execution_count": 14,
   "metadata": {},
   "outputs": [
    {
     "name": "stdout",
     "output_type": "stream",
     "text": [
      "✔️ OK to continue!\n"
     ]
    }
   ],
   "source": [
    "#Simple test vectors - if you get the check-mark printed all OK.\n",
    "assert(num_same([0,1,0,1,1,1,1,0], [0,1,0,1,1,1,1,0]) == 8)\n",
    "assert(num_same([1,1,1,0,0,0,0,0], [0,1,0,1,1,1,1,0]) == 2)\n",
    "assert(num_same([1, 0], [0, 1]) == 0)\n",
    "print(\"✔️ OK to continue!\")"
   ]
  },
  {
   "cell_type": "markdown",
   "metadata": {},
   "source": [
    "The next block is the most important. You'll need to \"apply\" the leakage function - that is for each known input byte, pass it through the `aes_internal(input_data, key_guess)` function. The value of `key_guess` is just integers in `[0x00, 0x01,...,0xFF]` - aka every possible value of the key byte. We'll compare the number of matching bits between our observed (leaked) data bit and the hypothetical data bit.\n",
    "\n",
    "### 3.2 Guessing Loop"
   ]
  },
  {
   "cell_type": "code",
   "execution_count": 15,
   "metadata": {},
   "outputs": [
    {
     "name": "stdout",
     "output_type": "stream",
     "text": [
      "Guess 00:  486 bits same\n",
      "Guess 01:  498 bits same\n",
      "Guess 02:  449 bits same\n",
      "Guess 03:  505 bits same\n",
      "Guess 04:  563 bits same\n",
      "Guess 05:  474 bits same\n",
      "Guess 06:  504 bits same\n",
      "Guess 07:  483 bits same\n",
      "Guess 08:  498 bits same\n",
      "Guess 09:  496 bits same\n",
      "Guess 0A:  515 bits same\n",
      "Guess 0B:  534 bits same\n",
      "Guess 0C:  490 bits same\n",
      "Guess 0D:  480 bits same\n",
      "Guess 0E:  488 bits same\n",
      "Guess 0F:  466 bits same\n",
      "Guess 10:  533 bits same\n",
      "Guess 11:  519 bits same\n",
      "Guess 12:  525 bits same\n",
      "Guess 13:  483 bits same\n",
      "Guess 14:  511 bits same\n",
      "Guess 15:  513 bits same\n",
      "Guess 16:  468 bits same\n",
      "Guess 17:  444 bits same\n",
      "Guess 18:  496 bits same\n",
      "Guess 19:  543 bits same\n",
      "Guess 1A:  448 bits same\n",
      "Guess 1B:  521 bits same\n",
      "Guess 1C:  537 bits same\n",
      "Guess 1D:  519 bits same\n",
      "Guess 1E:  581 bits same\n",
      "Guess 1F:  544 bits same\n",
      "Guess 20:  445 bits same\n",
      "Guess 21:  454 bits same\n",
      "Guess 22:  555 bits same\n",
      "Guess 23:  588 bits same\n",
      "Guess 24:  493 bits same\n",
      "Guess 25:  488 bits same\n",
      "Guess 26:  532 bits same\n",
      "Guess 27:  491 bits same\n",
      "Guess 28:  562 bits same\n",
      "Guess 29:  499 bits same\n",
      "Guess 2A:  527 bits same\n",
      "Guess 2B:  473 bits same\n",
      "Guess 2C:  451 bits same\n",
      "Guess 2D:  468 bits same\n",
      "Guess 2E:  546 bits same\n",
      "Guess 2F:  437 bits same\n",
      "Guess 30:  451 bits same\n",
      "Guess 31:  504 bits same\n",
      "Guess 32:  473 bits same\n",
      "Guess 33:  480 bits same\n",
      "Guess 34:  429 bits same\n",
      "Guess 35:  481 bits same\n",
      "Guess 36:  492 bits same\n",
      "Guess 37:  510 bits same\n",
      "Guess 38:  463 bits same\n",
      "Guess 39:  468 bits same\n",
      "Guess 3A:  528 bits same\n",
      "Guess 3B:  501 bits same\n",
      "Guess 3C:  516 bits same\n",
      "Guess 3D:  477 bits same\n",
      "Guess 3E:  502 bits same\n",
      "Guess 3F:  478 bits same\n",
      "Guess 40:  552 bits same\n",
      "Guess 41:  551 bits same\n",
      "Guess 42:  500 bits same\n",
      "Guess 43:  456 bits same\n",
      "Guess 44:  528 bits same\n",
      "Guess 45:  556 bits same\n",
      "Guess 46:  511 bits same\n",
      "Guess 47:  487 bits same\n",
      "Guess 48:  479 bits same\n",
      "Guess 49:  552 bits same\n",
      "Guess 4A:  527 bits same\n",
      "Guess 4B:  540 bits same\n",
      "Guess 4C:  548 bits same\n",
      "Guess 4D:  469 bits same\n",
      "Guess 4E:  466 bits same\n",
      "Guess 4F:  462 bits same\n",
      "Guess 50:  474 bits same\n",
      "Guess 51:  482 bits same\n",
      "Guess 52:  480 bits same\n",
      "Guess 53:  467 bits same\n",
      "Guess 54:  484 bits same\n",
      "Guess 55:  468 bits same\n",
      "Guess 56:  524 bits same\n",
      "Guess 57:  481 bits same\n",
      "Guess 58:  509 bits same\n",
      "Guess 59:  533 bits same\n",
      "Guess 5A:  520 bits same\n",
      "Guess 5B:  509 bits same\n",
      "Guess 5C:  487 bits same\n",
      "Guess 5D:  555 bits same\n",
      "Guess 5E:  470 bits same\n",
      "Guess 5F:  479 bits same\n",
      "Guess 60:  511 bits same\n",
      "Guess 61:  496 bits same\n",
      "Guess 62:  443 bits same\n",
      "Guess 63:  493 bits same\n",
      "Guess 64:  468 bits same\n",
      "Guess 65:  512 bits same\n",
      "Guess 66:  545 bits same\n",
      "Guess 67:  503 bits same\n",
      "Guess 68:  462 bits same\n",
      "Guess 69:  443 bits same\n",
      "Guess 6A:  469 bits same\n",
      "Guess 6B:  499 bits same\n",
      "Guess 6C:  568 bits same\n",
      "Guess 6D:  517 bits same\n",
      "Guess 6E:  554 bits same\n",
      "Guess 6F:  533 bits same\n",
      "Guess 70:  479 bits same\n",
      "Guess 71:  465 bits same\n",
      "Guess 72:  477 bits same\n",
      "Guess 73:  455 bits same\n",
      "Guess 74:  516 bits same\n",
      "Guess 75:  489 bits same\n",
      "Guess 76:  482 bits same\n",
      "Guess 77:  503 bits same\n",
      "Guess 78:  538 bits same\n",
      "Guess 79:  459 bits same\n",
      "Guess 7A:  496 bits same\n",
      "Guess 7B:  448 bits same\n",
      "Guess 7C:  498 bits same\n",
      "Guess 7D:  533 bits same\n",
      "Guess 7E:  506 bits same\n",
      "Guess 7F:  514 bits same\n",
      "Guess 80:  543 bits same\n",
      "Guess 81:  434 bits same\n",
      "Guess 82:  421 bits same\n",
      "Guess 83:  496 bits same\n",
      "Guess 84:  507 bits same\n",
      "Guess 85:  480 bits same\n",
      "Guess 86:  489 bits same\n",
      "Guess 87:  536 bits same\n",
      "Guess 88:  484 bits same\n",
      "Guess 89:  502 bits same\n",
      "Guess 8A:  451 bits same\n",
      "Guess 8B:  546 bits same\n",
      "Guess 8C:  549 bits same\n",
      "Guess 8D:  576 bits same\n",
      "Guess 8E:  469 bits same\n",
      "Guess 8F:  453 bits same\n",
      "Guess 90:  472 bits same\n",
      "Guess 91:  548 bits same\n",
      "Guess 92:  479 bits same\n",
      "Guess 93:  472 bits same\n",
      "Guess 94:  530 bits same\n",
      "Guess 95:  491 bits same\n",
      "Guess 96:  504 bits same\n",
      "Guess 97:  503 bits same\n",
      "Guess 98:  519 bits same\n",
      "Guess 99:  449 bits same\n",
      "Guess 9A:  477 bits same\n",
      "Guess 9B:  514 bits same\n",
      "Guess 9C:  541 bits same\n",
      "Guess 9D:  485 bits same\n",
      "Guess 9E:  434 bits same\n",
      "Guess 9F:  484 bits same\n",
      "Guess A0:  479 bits same\n",
      "Guess A1:  514 bits same\n",
      "Guess A2:  457 bits same\n",
      "Guess A3:  464 bits same\n",
      "Guess A4:  530 bits same\n",
      "Guess A5:  441 bits same\n",
      "Guess A6:  523 bits same\n",
      "Guess A7:  509 bits same\n",
      "Guess A8:  455 bits same\n",
      "Guess A9:  517 bits same\n",
      "Guess AA:  515 bits same\n",
      "Guess AB:  565 bits same\n",
      "Guess AC:  475 bits same\n",
      "Guess AD:  543 bits same\n",
      "Guess AE:  474 bits same\n",
      "Guess AF:  508 bits same\n",
      "Guess B0:  502 bits same\n",
      "Guess B1:  478 bits same\n",
      "Guess B2:  526 bits same\n",
      "Guess B3:  502 bits same\n",
      "Guess B4:  494 bits same\n",
      "Guess B5:  535 bits same\n",
      "Guess B6:  475 bits same\n",
      "Guess B7:  541 bits same\n",
      "Guess B8:  523 bits same\n",
      "Guess B9:  511 bits same\n",
      "Guess BA:  531 bits same\n",
      "Guess BB:  562 bits same\n",
      "Guess BC:  461 bits same\n",
      "Guess BD:  529 bits same\n",
      "Guess BE:  482 bits same\n",
      "Guess BF:  509 bits same\n",
      "Guess C0:  501 bits same\n",
      "Guess C1:  490 bits same\n",
      "Guess C2:  513 bits same\n",
      "Guess C3:  481 bits same\n",
      "Guess C4:  471 bits same\n",
      "Guess C5:  526 bits same\n",
      "Guess C6:  524 bits same\n",
      "Guess C7:  508 bits same\n",
      "Guess C8:  499 bits same\n",
      "Guess C9:  522 bits same\n",
      "Guess CA:  455 bits same\n",
      "Guess CB:  451 bits same\n",
      "Guess CC:  544 bits same\n",
      "Guess CD:  517 bits same\n",
      "Guess CE:  457 bits same\n",
      "Guess CF:  521 bits same\n",
      "Guess D0:  478 bits same\n",
      "Guess D1:  459 bits same\n",
      "Guess D2:  541 bits same\n",
      "Guess D3:  545 bits same\n",
      "Guess D4:  487 bits same\n",
      "Guess D5:  476 bits same\n",
      "Guess D6:  452 bits same\n",
      "Guess D7:  537 bits same\n",
      "Guess D8:  535 bits same\n",
      "Guess D9:  547 bits same\n",
      "Guess DA:  479 bits same\n",
      "Guess DB:  465 bits same\n",
      "Guess DC:  490 bits same\n",
      "Guess DD:  491 bits same\n",
      "Guess DE:  460 bits same\n",
      "Guess DF:  460 bits same\n",
      "Guess E0:  496 bits same\n",
      "Guess E1:  488 bits same\n",
      "Guess E2:  542 bits same\n",
      "Guess E3:  491 bits same\n",
      "Guess E4:  540 bits same\n",
      "Guess E5:  538 bits same\n",
      "Guess E6:  476 bits same\n",
      "Guess E7:  494 bits same\n",
      "Guess E8:  484 bits same\n",
      "Guess E9:  434 bits same\n",
      "Guess EA:  485 bits same\n",
      "Guess EB:  446 bits same\n",
      "Guess EC:  473 bits same\n",
      "Guess ED:  532 bits same\n",
      "Guess EE:  530 bits same\n",
      "Guess EF: 1000 bits same\n",
      "Guess F0:  522 bits same\n",
      "Guess F1:  444 bits same\n",
      "Guess F2:  481 bits same\n",
      "Guess F3:  478 bits same\n",
      "Guess F4:  522 bits same\n",
      "Guess F5:  464 bits same\n",
      "Guess F6:  468 bits same\n",
      "Guess F7:  538 bits same\n",
      "Guess F8:  428 bits same\n",
      "Guess F9:  541 bits same\n",
      "Guess FA:  465 bits same\n",
      "Guess FB:  546 bits same\n",
      "Guess FC:  485 bits same\n",
      "Guess FD:  453 bits same\n",
      "Guess FE:  546 bits same\n",
      "Guess FF:  464 bits same\n"
     ]
    }
   ],
   "source": [
    "for guess in range(0, 256):   \n",
    "    \n",
    "    #Get a hypothetical leakage list - use aes_internal(guess, input_byte) and mask off to only get value of lowest bit\n",
    "    hypothetical_leakage = [aes_internal(key=guess, inputdata=input_byte) for input_byte in input_data]\n",
    "    hypothetical_leakage = [get_bit_leaked_data(a, bitshift=random_select) for a in hypothetical_leakage]\n",
    "    #Use our function\n",
    "    same_count = num_same(hypothetical_leakage, leaked_data)   \n",
    "    \n",
    "    #Print for debug\n",
    "    print(\"Guess {:02X}: {:4d} bits same\".format(guess, same_count))"
   ]
  },
  {
   "cell_type": "markdown",
   "metadata": {},
   "source": [
    "If your key guess is wrong, about half of the guesses should be wrong. Looking through the list, you'll see that most of the \"bits same\" numbers will be around 500. But scroll down to the correct key value (should be `0xEF` if you haven't changed it earlier). With any luck, that number should be fully correct - 1000 matching bits. This is only possible if the internal \"secret key\" byte matches the observed key."
   ]
  },
  {
   "cell_type": "markdown",
   "metadata": {},
   "source": [
    "### 3.3 `argsort` background\n",
    "\n",
    "Now a handy thing to do will be to sort based on the values by number of correct bits so we don't have to look through that list. An easy way to do this is with `numpy.argsort` - this returns the indicies that would sort the list. To start small, take the following for example:"
   ]
  },
  {
   "cell_type": "code",
   "execution_count": 16,
   "metadata": {},
   "outputs": [
    {
     "data": {
      "text/plain": [
       "array([0, 3, 4, 1, 2])"
      ]
     },
     "execution_count": 16,
     "metadata": {},
     "output_type": "execute_result"
    }
   ],
   "source": [
    "import numpy as np\n",
    "\n",
    "count_list = [2, 7, 24, 4, 5]\n",
    "\n",
    "np.argsort(count_list)"
   ]
  },
  {
   "cell_type": "markdown",
   "metadata": {},
   "source": [
    "This should return `[0, 3, 4, 1, 2]` - you can cast the above to `list()` type if you want to get rid of the `array()` type around it.\n",
    "\n",
    "Inspecting the above, notice that this is the position of each from lowest to highest. We can reverse this to give us a highest to lowest sort instead:"
   ]
  },
  {
   "cell_type": "code",
   "execution_count": 17,
   "metadata": {},
   "outputs": [
    {
     "data": {
      "text/plain": [
       "array([2, 1, 4, 3, 0])"
      ]
     },
     "execution_count": 17,
     "metadata": {},
     "output_type": "execute_result"
    }
   ],
   "source": [
    "import numpy as np\n",
    "\n",
    "count_list = [2, 7, 24, 4, 5]\n",
    "\n",
    "np.argsort(count_list)[::-1]"
   ]
  },
  {
   "cell_type": "markdown",
   "metadata": {},
   "source": [
    "Taking your previous code, simply make a new list which contains the number of elements which are the same, where the list index is the *key guess*. As a rough outline, see the following (you'll need to add back in your hypothetical code):\n",
    "\n",
    "### 3.4 Guessing loop with sort"
   ]
  },
  {
   "cell_type": "code",
   "execution_count": 18,
   "metadata": {},
   "outputs": [
    {
     "name": "stdout",
     "output_type": "stream",
     "text": [
      "Key Guess EF = 1000 matches\n",
      "Key Guess 23 =  588 matches\n",
      "Key Guess 1E =  581 matches\n",
      "Key Guess 8D =  576 matches\n",
      "Key Guess 6C =  568 matches\n"
     ]
    }
   ],
   "source": [
    "import numpy as np\n",
    "\n",
    "guess_list = [0] * 256\n",
    "for guess in range(0, 256):   \n",
    "    \n",
    "    #Get a hypothetical leakage list - use aes_internal(guess, input_byte) and mask off to only get value of lowest bit\n",
    "    hypothetical_leakage = [aes_internal(key=guess, inputdata=input_byte) for input_byte in input_data]\n",
    "    hypothetical_leakage = [get_bit_leaked_data(a, bitshift=random_select) for a in hypothetical_leakage]\n",
    "    #Use our function\n",
    "    same_count = num_same(hypothetical_leakage, leaked_data)   \n",
    "    \n",
    "    #Track the number of correct bits\n",
    "    guess_list[guess] = same_count\n",
    "\n",
    "#Use np.argsort to generate a list of indicies from low to high, then [::-1] to reverse the list to get high to low.\n",
    "sorted_list = np.argsort(guess_list)[::-1]\n",
    "\n",
    "#Print top 5 only\n",
    "for guess in sorted_list[0:5]:\n",
    "        print(\"Key Guess {:02X} = {:4d} matches\".format(guess, guess_list[guess]))"
   ]
  },
  {
   "cell_type": "markdown",
   "metadata": {},
   "source": [
    "In this case we know that bit '0' was the leakage. What if we didn't know that? Imagine putting our needle down onto the internal bus, but we aren't sure what bit we touched.\n",
    "\n",
    "Luckily we can easily test that. To do so, we'll need to adjust our leakage function to take in a bit number that is leaking. First, define a function which returns the value of a bit being 1 or 0:\n",
    "\n",
    "### 3.5 `get_bit()`"
   ]
  },
  {
   "cell_type": "code",
   "execution_count": 19,
   "metadata": {},
   "outputs": [],
   "source": [
    "def get_bit(data, bit):\n",
    "    if data & (1<<bit):\n",
    "        return 1\n",
    "    else:\n",
    "        return 0"
   ]
  },
  {
   "cell_type": "code",
   "execution_count": 20,
   "metadata": {},
   "outputs": [
    {
     "name": "stdout",
     "output_type": "stream",
     "text": [
      "✔️ OK to continue!\n"
     ]
    }
   ],
   "source": [
    "assert(get_bit(0xAA, 7) == 1)\n",
    "assert(get_bit(0xAA, 0) == 0)\n",
    "assert(get_bit(0x00, 7) == 0)\n",
    "print(\"✔️ OK to continue!\")"
   ]
  },
  {
   "cell_type": "markdown",
   "metadata": {},
   "source": [
    "Now let's make a slightly fancier leakage function with it:"
   ]
  },
  {
   "cell_type": "code",
   "execution_count": 21,
   "metadata": {},
   "outputs": [],
   "source": [
    "def aes_leakage_guess(keyguess, inputdata, bit):\n",
    "    return get_bit(aes_internal(inputdata, keyguess), bit)"
   ]
  },
  {
   "cell_type": "code",
   "execution_count": 22,
   "metadata": {},
   "outputs": [
    {
     "name": "stdout",
     "output_type": "stream",
     "text": [
      "✔️ OK to continue!\n"
     ]
    }
   ],
   "source": [
    "assert(aes_leakage_guess(0xAB, 0x22, 4) == 0)\n",
    "assert(aes_leakage_guess(0xAB, 0x22, 3) == 0)\n",
    "assert(aes_leakage_guess(0xAB, 0x22, 2) == 1)\n",
    "assert(aes_leakage_guess(0xAB, 0x22, 1) == 1)\n",
    "assert(aes_leakage_guess(0xAB, 0x22, 0) == 1)\n",
    "print(\"✔️ OK to continue!\")"
   ]
  },
  {
   "cell_type": "markdown",
   "metadata": {},
   "source": [
    "Finally, finish off this loop by adding your leakage function into it. Running the loop should print results for each bit option - hopefully you see that only the matching bit shows the full number of matches. If you want to try a different leaky bit, you'll then need to go back up to the actual secret observation to make the leak happen from a different bit. But you can see the following code makes no assumptions about 'bit 0' being the leaky one - it will work with any other bit leaking now.\n",
    "\n",
    "### 3.6 Bitwise Guessing Loop"
   ]
  },
  {
   "cell_type": "code",
   "execution_count": 27,
   "metadata": {},
   "outputs": [
    {
     "name": "stdout",
     "output_type": "stream",
     "text": [
      "Checking bit 0\n",
      "Key Guess 9E = 0572 matches\n",
      "Key Guess E4 = 0571 matches\n",
      "Key Guess 16 = 0570 matches\n",
      "Key Guess 0B = 0568 matches\n",
      "Key Guess C9 = 0566 matches\n",
      "Checking bit 1\n",
      "Key Guess FF = 0586 matches\n",
      "Key Guess 66 = 0570 matches\n",
      "Key Guess 53 = 0569 matches\n",
      "Key Guess 64 = 0569 matches\n",
      "Key Guess B0 = 0566 matches\n",
      "Checking bit 2\n",
      "Key Guess 99 = 0586 matches\n",
      "Key Guess 1D = 0582 matches\n",
      "Key Guess E7 = 0575 matches\n",
      "Key Guess 7D = 0571 matches\n",
      "Key Guess E8 = 0570 matches\n",
      "Checking bit 3\n",
      "Key Guess 76 = 0605 matches\n",
      "Key Guess 08 = 0590 matches\n",
      "Key Guess 60 = 0589 matches\n",
      "Key Guess 26 = 0578 matches\n",
      "Key Guess 94 = 0574 matches\n",
      "Checking bit 4\n",
      "Key Guess 3E = 0583 matches\n",
      "Key Guess CF = 0580 matches\n",
      "Key Guess 98 = 0578 matches\n",
      "Key Guess BA = 0572 matches\n",
      "Key Guess 1B = 0572 matches\n",
      "Checking bit 5\n",
      "Key Guess EF = 1000 matches\n",
      "Key Guess 8C = 0584 matches\n",
      "Key Guess 46 = 0563 matches\n",
      "Key Guess 97 = 0562 matches\n",
      "Key Guess 36 = 0562 matches\n",
      "Checking bit 6\n",
      "Key Guess 41 = 0595 matches\n",
      "Key Guess E5 = 0583 matches\n",
      "Key Guess B3 = 0574 matches\n",
      "Key Guess A5 = 0564 matches\n",
      "Key Guess EE = 0563 matches\n",
      "Checking bit 7\n",
      "Key Guess F0 = 0570 matches\n",
      "Key Guess FF = 0568 matches\n",
      "Key Guess D5 = 0567 matches\n",
      "Key Guess B3 = 0566 matches\n",
      "Key Guess 24 = 0566 matches\n"
     ]
    }
   ],
   "source": [
    "for bit_guess in range(0, 8):\n",
    "    guess_list = [0] * 256\n",
    "    print(\"Checking bit {:d}\".format(bit_guess))\n",
    "    for guess in range(0, 256):\n",
    "\n",
    "        #Get a hypothetical leakage for guessed bit (ensure returns 1/0 only)\n",
    "        #Use bit_guess as the bit number, guess as the key guess, and data from input_data\n",
    "        hypothetical_leakage = [aes_leakage_guess(keyguess=guess, inputdata=input_byte, bit=bit_guess) for input_byte in input_data]\n",
    "\n",
    "        #Use our function\n",
    "        same_count = num_same(hypothetical_leakage, leaked_data)   \n",
    "\n",
    "        #Track the number of correct bits\n",
    "        guess_list[guess] = same_count\n",
    "\n",
    "    sorted_list = np.argsort(guess_list)[::-1]\n",
    "\n",
    "    #Print top 5 only\n",
    "    for guess in sorted_list[0:5]:\n",
    "            print(\"Key Guess {:02X} = {:04d} matches\".format(guess, guess_list[guess]))"
   ]
  },
  {
   "cell_type": "markdown",
   "metadata": {},
   "source": [
    "🥳🥳🥳🥳🥳🥳🥳🥳🥳🥳🥳🥳🥳\n",
    "Congrats - you did it!!!!\n",
    "\n",
    "This all assumed you get some way to observe the value of the bit - in our next act, we'll see how power analysis gives us the ability to observe a given bit."
   ]
  },
  {
   "cell_type": "markdown",
   "metadata": {},
   "source": [
    "## 4. Bonus: Adding Noise and Plotting Success Rates\n",
    "\n",
    "Are you not satisified by your attack? Why not see what happens when you add some noise into the equation?\n",
    "\n",
    "Remember this simple leakage from earlier:\n",
    "\n",
    "```python\n",
    "    leaked_data = [(aes_secret(a) & 0x01) for a in input_data]\n",
    "```\n",
    "\n",
    "This relied on another function `aes_secret()`, which we could define as such to return incorrect responses sometimes:\n",
    "\n",
    "```python\n",
    "    import random\n",
    "    def aes_secret(inputdata):\n",
    "        secret_key = 0xEF\n",
    "        correct = aes_internal(secret_key, inputdata)\n",
    "        \n",
    "        if random.randint(0, 100) < 10:\n",
    "            return correct\n",
    "        else\n",
    "            return 0 \n",
    "        \n",
    "```\n",
    "\n",
    "What happens now? While it should take more guesses to get the correct byte out. In fact, we could even make a plot of the percentage of returned wrong results, and how many observations it took to get the correct answer.\n",
    "\n",
    "The end result should look something like this:\n",
    "\n",
    "<img src=\"img/traces_wrong.png\" alt=\"Noisy Observations\" width=\"450\"/>\n",
    "\n",
    "Give it a try. If you get stuck of course you can check out the solution lab too - this one is a little trickier, we really threw you in the deep end here. Don't feel bad looking for a ⛑️.\n",
    "\n",
    "You'll notice the data is pretty noisy too. You might want to average several attempts. And you can also set the leakage to be a tiny amount of information only - it will require more observations to recover the data, but the data is fundamentally there still."
   ]
  },
  {
   "cell_type": "code",
   "execution_count": 28,
   "metadata": {},
   "outputs": [
    {
     "name": "stdout",
     "output_type": "stream",
     "text": [
      "Found key at 20 % correct data with 215 encryptions\n",
      "126\n",
      "Found key at 25 % correct data with 196 encryptions\n",
      "120\n",
      "Found key at 30 % correct data with 110 encryptions\n",
      "72\n",
      "Found key at 35 % correct data with 32 encryptions\n",
      "23\n",
      "Found key at 40 % correct data with 43 encryptions\n",
      "28\n",
      "Found key at 45 % correct data with 31 encryptions\n",
      "23\n",
      "Found key at 50 % correct data with 27 encryptions\n",
      "20\n",
      "Found key at 55 % correct data with 28 encryptions\n",
      "20\n",
      "Found key at 60 % correct data with 17 encryptions\n",
      "14\n",
      "Found key at 65 % correct data with 28 encryptions\n",
      "22\n",
      "Found key at 70 % correct data with 15 encryptions\n",
      "12\n",
      "Found key at 75 % correct data with 8 encryptions\n",
      "8\n",
      "Found key at 80 % correct data with 17 encryptions\n",
      "15\n",
      "Found key at 85 % correct data with 8 encryptions\n",
      "8\n",
      "Found key at 90 % correct data with 8 encryptions\n",
      "8\n",
      "Found key at 95 % correct data with 8 encryptions\n",
      "8\n",
      "Found key at 100 % correct data with 8 encryptions\n",
      "8\n"
     ]
    }
   ],
   "source": [
    "import random\n",
    "\n",
    "def aes_secret_noisy(inputdata, num_correct):\n",
    "    secret_key = 0xEF\n",
    "    correct = aes_internal(inputdata=inputdata, key=secret_key)\n",
    "\n",
    "    if random.randint(0, 100) <= num_correct:\n",
    "        return correct\n",
    "    else:\n",
    "        return 0\n",
    "def num_same(a, b):\n",
    "\n",
    "    if len(a) != len(b):\n",
    "        raise ValueError(\"Arrays must be same length!\")\n",
    "    \n",
    "    #Count how many list items match up\n",
    "    same = 0\n",
    "    for i in range(len(a)):\n",
    "        if a[i] == b[i]:\n",
    "            same += 1\n",
    "    return same\n",
    "#set the percentage to correct observations\n",
    "chances_to_try = range(20, 105, 5)\n",
    "traces_used = []\n",
    "shift_bit = 0x00\n",
    "for chance_correct in chances_to_try:\n",
    "    leaked_data = [aes_secret_noisy(a, chance_correct) for a in input_data]\n",
    "    leaked_data = [get_bit_leaked_data(x, shift_bit) for x in leaked_data]\n",
    "    #Try for number of traces\n",
    "    for traces in range(1, len(input_data), 1):\n",
    "        guess_list = [0] * 256\n",
    "\n",
    "        for guess in range(0, 256):\n",
    "            hypothetical_leakage = [aes_internal(key=guess, inputdata=input_byte) for input_byte in input_data[0:traces]]\n",
    "            hypothetical_leakage = [get_bit_leaked_data(x, shift_bit) for x in hypothetical_leakage]\n",
    "            same_count = num_same(hypothetical_leakage, leaked_data[0:traces])\n",
    "\n",
    "            guess_list[guess] = same_count\n",
    "        sorted_list = np.argsort(guess_list)[::-1]\n",
    "\n",
    "        if sorted_list[0] == 0xEF:\n",
    "            print(\"Found key at %d %% correct data with %d encryptions\"%(chance_correct, traces))\n",
    "            print(guess_list[sorted_list[0]])\n",
    "            traces_used.append(traces)\n",
    "            break\n",
    "    if sorted_list[0] != 0xEF:\n",
    "        raise ValueError(\"Failed to find answer for %d %% - need more traces\"%(chance_correct))\n"
   ]
  },
  {
   "cell_type": "code",
   "execution_count": 29,
   "metadata": {},
   "outputs": [
    {
     "data": {
      "text/plain": [
       "Text(0, 0.5, 'Encryptions To Recover Key')"
      ]
     },
     "execution_count": 29,
     "metadata": {},
     "output_type": "execute_result"
    },
    {
     "data": {
      "image/png": "[encoded data removed]",
      "text/plain": [
       "<Figure size 900x450 with 1 Axes>"
      ]
     },
     "metadata": {
      "needs_background": "light"
     },
     "output_type": "display_data"
    }
   ],
   "source": [
    "import matplotlib.pylab as plt\n",
    "\n",
    "plt.figure(figsize=(6,3), dpi=150)\n",
    "plt.plot(chances_to_try, traces_used)\n",
    "plt.title('Guesses for Single Bit Observation')\n",
    "plt.xlabel('% Chance of Correct Observation')\n",
    "plt.ylabel('Encryptions To Recover Key')"
   ]
  },
  {
   "cell_type": "code",
   "execution_count": 30,
   "metadata": {},
   "outputs": [
    {
     "name": "stdout",
     "output_type": "stream",
     "text": [
      "1000\n"
     ]
    }
   ],
   "source": [
    "print(len(input_data))"
   ]
  },
  {
   "cell_type": "markdown",
   "metadata": {},
   "source": [
    "---\n",
    "<small>NO-FUN DISCLAIMER: This material is Copyright (C) NewAE Technology Inc., 2015-2020. ChipWhisperer is a trademark of NewAE Technology Inc., claimed in all jurisdictions, and registered in at least the United States of America, European Union, and Peoples Republic of China.\n",
    "\n",
    "Tutorials derived from our open-source work must be released under the associated open-source license, and notice of the source must be *clearly displayed*. Only original copyright holders may license or authorize other distribution - while NewAE Technology Inc. holds the copyright for many tutorials, the github repository includes community contributions which we cannot license under special terms and **must** be maintained as an open-source release. Please contact us for special permissions (where possible).\n",
    "\n",
    "THE SOFTWARE IS PROVIDED \"AS IS\", WITHOUT WARRANTY OF ANY KIND, EXPRESS OR IMPLIED, INCLUDING BUT NOT LIMITED TO THE WARRANTIES OF MERCHANTABILITY, FITNESS FOR A PARTICULAR PURPOSE AND NONINFRINGEMENT. IN NO EVENT SHALL THE AUTHORS OR COPYRIGHT HOLDERS BE LIABLE FOR ANY CLAIM, DAMAGES OR OTHER LIABILITY, WHETHER IN AN ACTION OF CONTRACT, TORT OR OTHERWISE, ARISING FROM, OUT OF OR IN CONNECTION WITH THE SOFTWARE OR THE USE OR OTHER DEALINGS IN THE SOFTWARE.</small>"
   ]
  }
 ],
 "metadata": {
  "interpreter": {
   "hash": "f22b91a595f7e6822ced407a33526d09b68224e5b5089926ec81819e3364718e"
  },
  "kernelspec": {
   "display_name": "Python 3.7.12 64-bit ('venv': venv)",
   "name": "python3"
  },
  "language_info": {
   "codemirror_mode": {
    "name": "ipython",
    "version": 3
   },
   "file_extension": ".py",
   "mimetype": "text/x-python",
   "name": "python",
   "nbconvert_exporter": "python",
   "pygments_lexer": "ipython3",
   "version": "3.7.12"
  }
 },
 "nbformat": 4,
 "nbformat_minor": 2
}
