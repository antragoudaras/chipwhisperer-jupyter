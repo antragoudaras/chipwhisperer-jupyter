{
 "cells": [
  {
   "cell_type": "code",
   "execution_count": null,
   "metadata": {},
   "outputs": [],
   "source": [
    "import chipwhisperer as cw\n",
    "proj = cw.create_project(\"projects/manual_capture_AES.cwp\", overwrite=True)"
   ]
  },
  {
   "cell_type": "code",
   "execution_count": null,
   "metadata": {},
   "outputs": [],
   "source": [
    "from tqdm.notebook import trange\n",
    "from Crypto.Cipher import AES\n",
    "import random\n",
    "\n",
    "N = 5000\n",
    "ktp = cw.ktp.Basic()\n",
    "ktp.fixed_key = False\n",
    "\n",
    "for i in range(random.randint(1, 10)):\n",
    "    key = ktp.next_key()\n",
    "text = ktp.next_text()\n",
    "\n",
    "cipher = AES.new(bytes(key), AES.MODE_ECB)\n",
    "\n",
    "target.fpga_write(target.REG_CRYPT_KEY, key[::-1])\n",
    "\n",
    "for i in trange(N, desc='Capturing Traces from the Artix-FPGA'):\n",
    "    scope.arm()\n",
    "    \n",
    "    target.fpga_write(target.REG_CRYPT_TEXTIN, text[::-1])\n",
    "\n",
    "    target.fpga_write(target.REG_USER_LED, [0x01])\n",
    "    #trigger the encryption\n",
    "    target.usb_trigger_toggle()\n",
    "\n",
    "    ret = scope.capture()\n",
    "    if ret:\n",
    "        print(\"Timeout occured boubouna\")\n",
    "        continue\n",
    "    output = target.fpga_read(target.REG_CRYPT_CIPHEROUT, 16)\n",
    "    output = output[::-1]\n",
    "    assert (list(output) == list(cipher.encrypt(bytes(text)))), \"Incorrect encryption result!\\nGot {}\\nExp {}\".format(bytearray(output), bytearray(cipher.encrypt(bytes(text))))\n",
    "    wave = scope.get_last_trace()\n",
    "    trace = cw.Trace(wave, text, output, key)\n",
    "    proj.traces.append(trace)\n",
    "    text = ktp.next_text()\n",
    "#encryption finished turn of the LED\n",
    "target.fpga_write(target.REG_USER_LED, [0])\n",
    "proj.save()"
   ]
  }
 ],
 "metadata": {
  "interpreter": {
   "hash": "32418f85d113f99b04e03edad7bf751ad9f6786622ba07a0441eaf9578861fee"
  },
  "kernelspec": {
   "display_name": "Python 3.7.12 64-bit ('venv': venv)",
   "language": "python",
   "name": "python3"
  },
  "language_info": {
   "name": "python",
   "version": "3.7.12"
  },
  "orig_nbformat": 4
 },
 "nbformat": 4,
 "nbformat_minor": 2
}
