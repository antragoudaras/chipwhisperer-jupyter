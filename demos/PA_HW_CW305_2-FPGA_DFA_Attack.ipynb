{
 "cells": [
  {
   "cell_type": "markdown",
   "metadata": {},
   "source": [
    "# DFA AES Attack"
   ]
  },
  {
   "cell_type": "code",
   "execution_count": 1,
   "metadata": {},
   "outputs": [],
   "source": [
    "import chipwhisperer as cw\n",
    "\n",
    "scope = cw.scope()\n",
    "scope.gain.db = 25\n",
    "scope.adc.samples = 129\n",
    "scope.adc.offset = 0\n",
    "scope.adc.basic_mode = \"rising_edge\"\n",
    "scope.clock.clkgen_freq = 10E6\n",
    "scope.clock.adc_src = \"clkgen_x4\"\n",
    "scope.trigger.triggers = \"tio4\"\n",
    "scope.io.tio1 = \"serial_rx\"\n",
    "scope.io.tio2 = \"serial_tx\"\n",
    "scope.io.hs2 = \"clkgen\""
   ]
  },
  {
   "cell_type": "code",
   "execution_count": 2,
   "metadata": {},
   "outputs": [],
   "source": [
    "target = cw.target(scope, cw.targets.CW305, fpga_id='35t', force=False)\n",
    "# target = cw.target(scope, cw.targets.CW305, fpga_id='100t', force=True)"
   ]
  },
  {
   "cell_type": "markdown",
   "metadata": {},
   "source": [
    " **make sure the DIP switches on the CW305 board are set as follows**:\n",
    "- J16 = 1 `route/drive the Artix target from chipwhisperer-lite board clock`\n",
    "- K16 = 0 `disable return clock from PLLs being outputed to the ChipWhisperer's HS-In channel`"
   ]
  },
  {
   "cell_type": "code",
   "execution_count": 3,
   "metadata": {},
   "outputs": [],
   "source": [
    "target.vccint_set(1.0)\n",
    "# disabe all PLLs\n",
    "target.pll.pll_enable_set(False)\n",
    "target.pll.pll_outenable_set(False, 0)\n",
    "target.pll.pll_outenable_set(False, 1)\n",
    "target.pll.pll_outenable_set(False, 2)\n",
    "\n",
    "\n",
    "# 1ms is plenty of idling time\n",
    "target.clkusbautooff = False\n",
    "target.clksleeptime = 1"
   ]
  },
  {
   "cell_type": "code",
   "execution_count": 4,
   "metadata": {},
   "outputs": [],
   "source": [
    "# ensure ADC is locked:\n",
    "scope.clock.reset_adc()\n",
    "assert (scope.clock.adc_locked), \"ADC failed to lock\""
   ]
  },
  {
   "cell_type": "code",
   "execution_count": 5,
   "metadata": {},
   "outputs": [],
   "source": [
    "target.usb_clk_setenabled(1)"
   ]
  },
  {
   "cell_type": "code",
   "execution_count": 6,
   "metadata": {},
   "outputs": [
    {
     "name": "stdout",
     "output_type": "stream",
     "text": [
      "clk_src     = clkgen\n",
      "width       = 10.15625\n",
      "width_fine  = 0\n",
      "offset      = 10.15625\n",
      "offset_fine = 0\n",
      "trigger_src = ext_single\n",
      "arm_timing  = after_scope\n",
      "ext_offset  = 0\n",
      "repeat      = 1\n",
      "output      = clock_xor\n",
      "\n"
     ]
    }
   ],
   "source": [
    "#Basic setup\n",
    "scope.glitch.clk_src = \"clkgen\" # set glitch input clock\n",
    "scope.glitch.output = \"clock_xor\" # glitch_out = clk ^ glitch\n",
    "scope.glitch.trigger_src = \"ext_single\" # glitch only after scope.arm() called\n",
    "scope.glitch.width = 10\n",
    "scope.io.hs2 = \"glitch\"  # output glitch_out on the clock line\n",
    "scope.io.glitch_lp = False\n",
    "print(scope.glitch)"
   ]
  },
  {
   "cell_type": "code",
   "execution_count": 7,
   "metadata": {
    "scrolled": false
   },
   "outputs": [
    {
     "data": {
      "application/vnd.jupyter.widget-view+json": {
       "model_id": "f678dc21c5a849aabf7f63f3fcfbb718",
       "version_major": 2,
       "version_minor": 0
      },
      "text/plain": [
       "IntText(value=0, description='column0 count:', disabled=True)"
      ]
     },
     "metadata": {},
     "output_type": "display_data"
    },
    {
     "data": {
      "application/vnd.jupyter.widget-view+json": {
       "model_id": "87a2e2ee21d04259af4158367b7ef498",
       "version_major": 2,
       "version_minor": 0
      },
      "text/plain": [
       "IntText(value=0, description='column1 count:', disabled=True)"
      ]
     },
     "metadata": {},
     "output_type": "display_data"
    },
    {
     "data": {
      "application/vnd.jupyter.widget-view+json": {
       "model_id": "207c64f2f249438c947b0d9e43adb26d",
       "version_major": 2,
       "version_minor": 0
      },
      "text/plain": [
       "IntText(value=0, description='column2 count:', disabled=True)"
      ]
     },
     "metadata": {},
     "output_type": "display_data"
    },
    {
     "data": {
      "application/vnd.jupyter.widget-view+json": {
       "model_id": "c24bda577a334fc9b35209fdad3c54db",
       "version_major": 2,
       "version_minor": 0
      },
      "text/plain": [
       "IntText(value=0, description='column3 count:', disabled=True)"
      ]
     },
     "metadata": {},
     "output_type": "display_data"
    },
    {
     "data": {
      "application/vnd.jupyter.widget-view+json": {
       "model_id": "723bf1d4714d4802b63bdd2bd4995611",
       "version_major": 2,
       "version_minor": 0
      },
      "text/plain": [
       "IntText(value=0, description='other count:', disabled=True)"
      ]
     },
     "metadata": {},
     "output_type": "display_data"
    },
    {
     "data": {
      "application/vnd.jupyter.widget-view+json": {
       "model_id": "96ecd87b3df948faa85fbe0ceb7e836c",
       "version_major": 2,
       "version_minor": 0
      },
      "text/plain": [
       "IntText(value=0, description='reset count:', disabled=True)"
      ]
     },
     "metadata": {},
     "output_type": "display_data"
    },
    {
     "data": {
      "application/vnd.jupyter.widget-view+json": {
       "model_id": "da188fa0b1754aec8ed402540bd1c704",
       "version_major": 2,
       "version_minor": 0
      },
      "text/plain": [
       "IntText(value=0, description='normal count:', disabled=True)"
      ]
     },
     "metadata": {},
     "output_type": "display_data"
    },
    {
     "data": {
      "application/vnd.jupyter.widget-view+json": {
       "model_id": "d93be38e09a64bca91a28f9a7dfdc4d0",
       "version_major": 2,
       "version_minor": 0
      },
      "text/plain": [
       "FloatSlider(value=1.0, continuous_update=False, description='width setting:', disabled=True, max=2.0, min=1.0,…"
      ]
     },
     "metadata": {},
     "output_type": "display_data"
    },
    {
     "data": {
      "application/vnd.jupyter.widget-view+json": {
       "model_id": "3c44718207f848a9b25f6e039704877c",
       "version_major": 2,
       "version_minor": 0
      },
      "text/plain": [
       "FloatSlider(value=-6.0, continuous_update=False, description='offset setting:', disabled=True, max=-5.0, min=-…"
      ]
     },
     "metadata": {},
     "output_type": "display_data"
    },
    {
     "data": {
      "application/vnd.jupyter.widget-view+json": {
       "model_id": "9c67eec4b7ea4dbc8abdb0ffc6af3172",
       "version_major": 2,
       "version_minor": 0
      },
      "text/plain": [
       "FloatSlider(value=0.0, continuous_update=False, description='ext_offset setting:', disabled=True, max=10.0, re…"
      ]
     },
     "metadata": {},
     "output_type": "display_data"
    },
    {
     "data": {
      "application/vnd.jupyter.widget-view+json": {
       "model_id": "f2e0adc11c204d7b91ad18738b5224b9",
       "version_major": 2,
       "version_minor": 0
      },
      "text/plain": [
       "FloatSlider(value=-5.0, continuous_update=False, description='N setting:', disabled=True, max=5.0, min=-5.0, r…"
      ]
     },
     "metadata": {},
     "output_type": "display_data"
    }
   ],
   "source": [
    "import chipwhisperer.common.results.glitch as glitch\n",
    "#gc = glitch.GlitchController(groups=[\"success\", \"reset\", \"normal\"], parameters=[\"width\", \"offset\"])\n",
    "gc = glitch.GlitchController(groups=[\"column0\", \"column1\", \"column2\", \"column3\", \"other\", \\\n",
    "                                     \"reset\", \"normal\"], parameters=[\"width\", \"offset\", \"ext_offset\", \"N\"])\n",
    "\n",
    "gc.set_range(\"width\", 1, 2)\n",
    "gc.set_range(\"offset\", -6, -5)\n",
    "gc.set_range(\"ext_offset\", 0, 10)\n",
    "gc.set_range(\"N\", -5, 5)\n",
    "gc.set_global_step([0.4])\n",
    "\n",
    "gc.display_stats()"
   ]
  },
  {
   "cell_type": "code",
   "execution_count": 8,
   "metadata": {},
   "outputs": [
    {
     "name": "stdout",
     "output_type": "stream",
     "text": [
      "1977202\n"
     ]
    }
   ],
   "source": [
    "print(scope.adc.trig_count)"
   ]
  },
  {
   "cell_type": "code",
   "execution_count": 9,
   "metadata": {},
   "outputs": [],
   "source": [
    "scope.glitch.repeat = 1"
   ]
  },
  {
   "cell_type": "code",
   "execution_count": 10,
   "metadata": {},
   "outputs": [],
   "source": [
    "scope.glitch.output = \"clock_xor\""
   ]
  },
  {
   "cell_type": "code",
   "execution_count": 11,
   "metadata": {},
   "outputs": [],
   "source": [
    "target.vccint_set(1.00)"
   ]
  },
  {
   "cell_type": "code",
   "execution_count": 12,
   "metadata": {},
   "outputs": [],
   "source": [
    "outputs = []\n",
    "results = []\n",
    "obf = []"
   ]
  },
  {
   "cell_type": "code",
   "execution_count": 13,
   "metadata": {},
   "outputs": [],
   "source": [
    "scope.clock.clkgen_freq = 10E6"
   ]
  },
  {
   "cell_type": "code",
   "execution_count": 14,
   "metadata": {},
   "outputs": [],
   "source": [
    "from Crypto.Cipher import AES\n",
    "\n",
    "ktp = cw.ktp.Basic()\n",
    "key, text = ktp.next()  # manual creation of a key, text pair can be substituted here\n",
    "# initialize cipher to verify DUT result:\n",
    "cipher = AES.new(bytes(key), AES.MODE_ECB)\n",
    "\n",
    "goldciph = list(cipher.encrypt(bytes(text)))"
   ]
  },
  {
   "cell_type": "code",
   "execution_count": 15,
   "metadata": {},
   "outputs": [
    {
     "name": "stdout",
     "output_type": "stream",
     "text": [
      "-5.859375 1.171875 3 -2 3\n",
      "-5.859375 1.171875 3 0 3\n",
      "-5.859375 1.171875 3 0 3\n",
      "-5.859375 1.171875 3 1 3\n",
      "-5.859375 1.171875 3 7 3\n",
      "-5.859375 1.171875 3 -4 3\n",
      "-5.859375 1.171875 3 -3 3\n",
      "-5.859375 1.171875 3 2 3\n",
      "-5.859375 1.171875 3 3 3\n",
      "-5.859375 1.171875 3 5 3\n",
      "-5.859375 1.171875 3 7 3\n",
      "-5.859375 1.171875 3 10 3\n",
      "-5.859375 1.171875 3 1 3\n",
      "-5.859375 1.171875 3 4 3\n",
      "-5.859375 1.171875 3 9 3\n",
      "-5.859375 1.171875 3 10 3\n",
      "-5.46875 1.171875 3 -12 3\n",
      "-5.46875 1.171875 3 -11 3\n",
      "-5.46875 1.171875 3 -8 3\n",
      "-5.46875 1.171875 3 -10 3\n",
      "-5.46875 1.171875 3 -12 3\n",
      "-5.46875 1.171875 3 -11 3\n",
      "-5.46875 1.171875 3 -10 3\n",
      "-5.859375 1.5625 3 0 3\n",
      "-5.859375 1.5625 3 4 3\n",
      "-5.859375 1.5625 3 5 3\n",
      "-5.859375 1.5625 3 6 3\n",
      "-5.859375 1.5625 3 7 3\n",
      "-5.859375 1.5625 3 9 3\n",
      "-5.859375 1.5625 3 -2 3\n",
      "-5.859375 1.5625 3 1 3\n",
      "-5.859375 1.5625 3 6 3\n",
      "-5.859375 1.5625 3 7 3\n",
      "-5.859375 1.5625 3 9 3\n",
      "-5.859375 1.5625 3 10 3\n",
      "-5.859375 1.5625 3 -5 3\n",
      "-5.859375 1.5625 3 3 3\n",
      "-5.859375 1.5625 3 4 3\n",
      "-5.859375 1.5625 3 6 3\n",
      "-5.859375 1.5625 3 7 3\n",
      "-5.46875 1.5625 3 -10 3\n",
      "-5.46875 1.5625 3 -7 3\n",
      "-5.46875 1.5625 3 -11 3\n",
      "-5.46875 1.5625 3 -10 3\n",
      "-5.46875 1.5625 3 -3 3\n",
      "-5.46875 1.5625 3 -9 3\n",
      "-5.859375 1.953125 3 3 3\n",
      "-5.859375 1.953125 3 5 3\n",
      "-5.859375 1.953125 3 9 3\n",
      "-5.859375 1.953125 3 10 3\n",
      "-5.859375 1.953125 3 11 3\n",
      "-5.859375 1.953125 3 -5 3\n",
      "-5.859375 1.953125 3 3 3\n",
      "-5.859375 1.953125 3 4 3\n",
      "-5.859375 1.953125 3 6 3\n",
      "-5.859375 1.953125 3 8 3\n",
      "-5.859375 1.953125 3 11 3\n",
      "-5.859375 1.953125 3 -3 3\n",
      "-5.859375 1.953125 3 2 3\n",
      "-5.859375 1.953125 3 5 3\n",
      "-5.859375 1.953125 3 6 3\n",
      "-5.46875 1.953125 3 -10 3\n",
      "-5.46875 1.953125 3 -12 3\n",
      "-5.46875 1.953125 3 -10 3\n",
      "-5.46875 1.953125 3 -7 3\n"
     ]
    }
   ],
   "source": [
    "from tqdm import tnrange\n",
    "import numpy as np\n",
    "import time\n",
    "from Crypto.Cipher import AES\n",
    "\n",
    "\n",
    "project_file = \"projects/Tutorial_HW_CW305_DFA.cwp\"\n",
    "project = cw.create_project(project_file, overwrite=True)\n",
    "traces = []\n",
    "textin = []\n",
    "keys = []\n",
    "\n",
    "\n",
    "\n",
    "#check if a single column is glitched\n",
    "\n",
    "# 1. check if a single column is fully glitched\n",
    "# 2. check if that single column is the only glitch\n",
    "def check_column_glitch(glitched_ct, gold_ct, full_glitch=False):\n",
    "    column_lookup = [[0, 13, 10, 7], [4, 1, 14, 11], [8, 5, 2, 15], [12, 9, 6, 3]] #shift rows\n",
    "    all_glitched = True\n",
    "    for col in range(4):\n",
    "        all_glitched = True\n",
    "        for byte in column_lookup[col]:\n",
    "            if glitched_ct[byte] == gold_ct[byte]:\n",
    "                all_glitched = False\n",
    "        if all_glitched:\n",
    "            break\n",
    "    if (not all_glitched and (col == 3)):\n",
    "        return None\n",
    "    for i in range(4):\n",
    "        if i == col:\n",
    "            continue\n",
    "        for byte in column_lookup[i]:\n",
    "            if glitched_ct[byte] != gold_ct[byte]:\n",
    "                return None\n",
    "    return col\n",
    "\n",
    "def check_glitch(glitched_ct, gold_ct):\n",
    "    column_lookup = [[0, 13, 10, 7], [4, 1, 14, 11], [8, 5, 2, 15], [12, 9, 6, 3]] #shift rows\n",
    "scope.adc.timeout = 0.1\n",
    "\n",
    "class DelayedKeyboardInterrupt:\n",
    "    def __enter__(self):\n",
    "        self.signal_received = False\n",
    "        self.old_handler = signal.signal(signal.SIGINT, self.handler)\n",
    "\n",
    "    def handler(self, sig, frame):\n",
    "        self.signal_received = (sig, frame)\n",
    "        logging.debug('SIGINT received. Delaying KeyboardInterrupt.')\n",
    "\n",
    "    def __exit__(self, type, value, traceback):\n",
    "        signal.signal(signal.SIGINT, self.old_handler)\n",
    "        if self.signal_received:\n",
    "            self.old_handler(*self.signal_received)\n",
    "    \n",
    "import logging, signal\n",
    "logging.getLogger().setLevel(logging.ERROR)\n",
    "for glitch_setting in gc.glitch_values():\n",
    "    with DelayedKeyboardInterrupt():\n",
    "        # run aux stuff that should come before trace here\n",
    "        scope.glitch.offset = glitch_setting[1]\n",
    "        scope.glitch.width = glitch_setting[0]\n",
    "        scope.glitch.ext_offset = glitch_setting[2]\n",
    "        scope.glitch.offset_fine = glitch_setting[3] / 0.4\n",
    "\n",
    "        ret = cw.capture_trace(scope, target, text, key)\n",
    "        if not ret:\n",
    "            gc.add(\"reset\", (scope.glitch.width, scope.glitch.offset, scope.glitch.ext_offset, glitch_setting[3]))\n",
    "            continue\n",
    "\n",
    "        if (list(ret.textout) == goldciph):\n",
    "            gc.add(\"normal\", (scope.glitch.width, scope.glitch.offset, scope.glitch.ext_offset, glitch_setting[3]))\n",
    "            continue\n",
    "        else:\n",
    "            pass\n",
    "            #print(list(ret.textout))\n",
    "            #print(goldciph)\n",
    "            #print(scope.glitch.offset, scope.glitch.width, scope.glitch.ext_offset)\n",
    "        #trace += scope.getLastTrace()\n",
    "        #check for a glitch in each column of AES\n",
    "        column_glitches = []\n",
    "        for column in range(4):\n",
    "            if check_column_glitch(ret.textout, goldciph, column):\n",
    "                column_glitches.append(column)\n",
    "\n",
    "\n",
    "\n",
    "        traces.append(ret.wave)\n",
    "        project.traces.append(ret)\n",
    "        outputs.append(list(ret.textout))\n",
    "        #We're looking for single column glitches here\n",
    "        x = check_column_glitch(ret.textout, goldciph)\n",
    "        if not (x is None):\n",
    "            gc.add(\"column{}\".format(x), (scope.glitch.width, scope.glitch.offset, scope.glitch.ext_offset, glitch_setting[3]))\n",
    "            obf.append(list(ret.textout))\n",
    "            print(scope.glitch.offset, scope.glitch.width, scope.glitch.ext_offset, scope.glitch.offset_fine, x)\n",
    "\n",
    "        else:\n",
    "            gc.add(\"other\", (scope.glitch.width, scope.glitch.offset, scope.glitch.ext_offset, glitch_setting[3]))"
   ]
  },
  {
   "cell_type": "code",
   "execution_count": 16,
   "metadata": {},
   "outputs": [],
   "source": [
    "project.save()"
   ]
  },
  {
   "cell_type": "code",
   "execution_count": 17,
   "metadata": {},
   "outputs": [],
   "source": [
    "# import phoenixAES\n",
    "# r10=phoenixAES.crack_bytes(obf, goldciph, encrypt=True, verbose=1)"
   ]
  },
  {
   "cell_type": "code",
   "execution_count": 18,
   "metadata": {},
   "outputs": [
    {
     "name": "stdout",
     "output_type": "stream",
     "text": [
      "f5866f12f27d691da6b685142d4b6d5b: group 0\n",
      "6dfc6f129e7d69a3a6b6b96d2dadb05b: group 1\n",
      "6d862a12f23269a364b6b9142dad6dca: group 2\n",
      "6d866f5af27dbfa3a6a7b91409ad6d5b: group 3\n",
      "f5866f12f27d691da6b685142d4b6d5b: group 0\n",
      "6dfc6f129e7d69a3a6b6b96d2dadb05b: group 1\n",
      "6d862a12f23269a364b6b9142dad6dca: group 2\n",
      "6d866f5af27dbfa3a6a7b91409ad6d5b: group 3\n",
      "c8866f12f27d6949a6b6b7142dbd6d5b: group 0\n",
      "6de96f129a7d69a3a6b6b9912dad875b: group 1\n",
      "6d86f012f28f69a3fdb6b9142dad6d49: group 2\n",
      "6d866f81f27d87a3a63eb914c2ad6d5b: group 3\n",
      "c8866f12f27d6949a6b6b7142dbd6d5b: group 0\n",
      "6de96f129a7d69a3a6b6b9912dad875b: group 1\n",
      "6d86f012f28f69a3fdb6b9142dad6d49: group 2\n",
      "6d866f81f27d87a3a63eb914c2ad6d5b: group 3\n",
      "1c866f12f27d69cca6b691142d386d5b: group 0\n",
      "6de96f12bc7d69a3a6b6b9302dadc75b: group 1\n",
      "6d867d12f28369a363b6b9142dad6da6: group 2\n",
      "6d866f34f27d79a3a680b914b2ad6d5b: group 3\n",
      "c8866f12f27d6949a6b6b7142dbd6d5b: group 0\n",
      "6de96f129a7d69a3a6b6b9912dad875b: group 1\n",
      "6d86f012f28f69a3fdb6b9142dad6d49: group 2\n",
      "6d866f81f27d87a3a63eb914c2ad6d5b: group 3\n",
      "25866f12f27d6918a6b65c142dfc6d5b: group 0\n",
      "6d7b6f12657d69a3a6b6b9be2dade85b: group 1\n",
      "6d86eb12f20e69a3f5b6b9142dad6dd0: group 2\n",
      "6d866f6ef27d55a3a668b9144fad6d5b: group 3\n",
      "f5866f12f27d691da6b685142d4b6d5b: group 0\n",
      "6dfc6f129e7d69a3a6b6b96d2dadb05b: group 1\n",
      "6d862a12f23269a364b6b9142dad6dca: group 2\n",
      "6d866f5af27dbfa3a6a7b91409ad6d5b: group 3\n",
      "1c866f12f27d69cca6b691142d386d5b: group 0\n",
      "6de96f12bc7d69a3a6b6b9302dadc75b: group 1\n",
      "6d867d12f28369a363b6b9142dad6da6: group 2\n",
      "6d866f34f27d79a3a680b914b2ad6d5b: group 3\n",
      "f5866f12f27d691da6b685142d4b6d5b: group 0\n",
      "6dfc6f129e7d69a3a6b6b96d2dadb05b: group 1\n",
      "6d862a12f23269a364b6b9142dad6dca: group 2\n",
      "6d866f5af27dbfa3a6a7b91409ad6d5b: group 3\n",
      "c8866f12f27d6949a6b6b7142dbd6d5b: group 0\n",
      "6de96f129a7d69a3a6b6b9912dad875b: group 1\n",
      "6d86f012f28f69a3fdb6b9142dad6d49: group 2\n",
      "6d866f81f27d87a3a63eb914c2ad6d5b: group 3\n",
      "7c866f12f27d69aea6b6a1142d0a6d5b: group 0\n",
      "6d126f12617d69a3a6b6b9402dade95b: group 1\n",
      "6d863612f2cc69a3deb6b9142dad6da0: group 2\n",
      "6d866f4ff27d88a3a6d5b914daad6d5b: group 3\n",
      "f5866f12f27d691da6b685142d4b6d5b: group 0\n",
      "6dfc6f129e7d69a3a6b6b96d2dadb05b: group 1\n",
      "6d862a12f23269a364b6b9142dad6dca: group 2\n",
      "6d866f5af27dbfa3a6a7b91409ad6d5b: group 3\n",
      "c8866f12f27d6949a6b6b7142dbd6d5b: group 0\n",
      "6de96f129a7d69a3a6b6b9912dad875b: group 1\n",
      "6d86f012f28f69a3fdb6b9142dad6d49: group 2\n",
      "6d866f81f27d87a3a63eb914c2ad6d5b: group 3\n",
      "11866f12f27d6902a6b62b142daf6d5b: group 0\n",
      "6de76f12327d69a3a6b6b9172dad2b5b: group 1\n",
      "6d86b412f24469a3e0b6b9142dad6d0b: group 2\n",
      "6d866fb2f27d19a3a6cab91436ad6d5b: group 3\n",
      "c8866f12f27d6949a6b6b7142dbd6d5b: group 0\n",
      "6de96f129a7d69a3a6b6b9912dad875b: group 1\n",
      "6d86f012f28f69a3fdb6b9142dad6d49: group 2\n",
      "6d866f81f27d87a3a63eb914c2ad6d5b: group 3\n",
      "c8866f12f27d6949a6b6b7142dbd6d5b: group 0\n",
      "6de96f129a7d69a3a6b6b9912dad875b: group 1\n",
      "6d86f012f28f69a3fdb6b9142dad6d49: group 2\n",
      "6d866f81f27d87a3a63eb914c2ad6d5b: group 3\n",
      "c8866f12f27d6949a6b6b7142dbd6d5b: group 0\n",
      "6de96f129a7d69a3a6b6b9912dad875b: group 1\n",
      "6d86f012f28f69a3fdb6b9142dad6d49: group 2\n",
      "6d866f81f27d87a3a63eb914c2ad6d5b: group 3\n",
      "c8866f12f27d6949a6b6b7142dbd6d5b: group 0\n",
      "6de96f129a7d69a3a6b6b9912dad875b: group 1\n",
      "6d86f012f28f69a3fdb6b9142dad6d49: group 2\n",
      "6d866f81f27d87a3a63eb914c2ad6d5b: group 3\n",
      "f5866f12f27d691da6b685142d4b6d5b: group 0\n",
      "6dfc6f129e7d69a3a6b6b96d2dadb05b: group 1\n",
      "6d862a12f23269a364b6b9142dad6dca: group 2\n",
      "6d866f5af27dbfa3a6a7b91409ad6d5b: group 3\n",
      "80866f12f27d698fa6b6d7142d2f6d5b: group 0\n",
      "6d8d6f12477d69a3a6b6b9bb2dadcc5b: group 1\n",
      "6d866712f21769a3e1b6b9142dad6da5: group 2\n",
      "6d866f79f27da6a3a6e1b9149aad6d5b: group 3\n",
      "25866f12f27d6918a6b65c142dfc6d5b: group 0\n",
      "6d7b6f12657d69a3a6b6b9be2dade85b: group 1\n",
      "6d86eb12f20e69a3f5b6b9142dad6dd0: group 2\n",
      "6d866f6ef27d55a3a668b9144fad6d5b: group 3\n",
      "69866f12f27d6958a6b6fd142d196d5b: group 0\n",
      "6da96f12377d69a3a6b6b9202dadc15b: group 1\n",
      "6d864312f28b69a3dbb6b9142dad6db3: group 2\n",
      "6d866fcff27deea3a62fb914f7ad6d5b: group 3\n",
      "69866f12f27d6958a6b6fd142d196d5b: group 0\n",
      "6da96f12377d69a3a6b6b9202dadc15b: group 1\n",
      "6d864312f28b69a3dbb6b9142dad6db3: group 2\n",
      "6d866fcff27deea3a62fb914f7ad6d5b: group 3\n",
      "0b866f12f27d692aa6b61e142d7b6d5b: group 0\n",
      "6d1d6f12ed7d69a3a6b6b9e82dadc45b: group 1\n",
      "6d865b12f23369a309b6b9142dad6d25: group 2\n",
      "6d866fe4f27dd7a3a619b914c5ad6d5b: group 3\n",
      "db866f12f27d696fa6b673142d8c6d5b: group 0\n",
      "6d9d6f12107d69a3a6b6b99c2dadad5b: group 1\n",
      "6d86b112f2d769a382b6b9142dad6d0f: group 2\n",
      "6d866fe7f27dfca3a692b914b7ad6d5b: group 3\n",
      "cd866f12f27d6946a6b669142dbd6d5b: group 0\n",
      "6dba6f12dd7d69a3a6b6b9d82dadf15b: group 1\n",
      "6d86a312f2fb69a336b6b9142dad6d7f: group 2\n",
      "6d866fa9f27d95a3a6d5b91496ad6d5b: group 3\n",
      "cd866f12f27d6946a6b669142dbd6d5b: group 0\n",
      "6dba6f12dd7d69a3a6b6b9d82dadf15b: group 1\n",
      "6d86a312f2fb69a336b6b9142dad6d7f: group 2\n",
      "6d866fa9f27d95a3a6d5b91496ad6d5b: group 3\n",
      "dd866f12f27d69eba6b6e8142d876d5b: group 0\n",
      "6dd86f12677d69a3a6b6b9522dad1c5b: group 1\n",
      "6d861512f2cc69a30eb6b9142dad6d47: group 2\n",
      "6d866f80f27d66a3a6e6b914a0ad6d5b: group 3\n",
      "dd866f12f27d69eba6b6e8142d876d5b: group 0\n",
      "6dd86f12677d69a3a6b6b9522dad1c5b: group 1\n",
      "6d861512f2cc69a30eb6b9142dad6d47: group 2\n",
      "6d866f80f27d66a3a6e6b914a0ad6d5b: group 3\n",
      "dd866f12f27d69eba6b6e8142d876d5b: group 0\n",
      "6dd86f12677d69a3a6b6b9522dad1c5b: group 1\n",
      "6d861512f2cc69a30eb6b9142dad6d47: group 2\n",
      "6d866f80f27d66a3a6e6b914a0ad6d5b: group 3\n",
      "75866f12f27d69a1a6b689142dae6d5b: group 0\n",
      "6dad6f12f37d69a3a6b6b9002dad0a5b: group 1\n",
      "6d86c312f22069a344b6b9142dad6d16: group 2\n",
      "6d866f47f27df3a3a684b91419ad6d5b: group 3\n",
      "75866f12f27d69a1a6b689142dae6d5b: group 0\n",
      "6dad6f12f37d69a3a6b6b9002dad0a5b: group 1\n",
      "6d86c312f22069a344b6b9142dad6d16: group 2\n",
      "6d866f47f27df3a3a684b91419ad6d5b: group 3\n",
      "75866f12f27d69a1a6b689142dae6d5b: group 0\n",
      "6dad6f12f37d69a3a6b6b9002dad0a5b: group 1\n",
      "6d86c312f22069a344b6b9142dad6d16: group 2\n",
      "6d866f47f27df3a3a684b91419ad6d5b: group 3\n",
      "dd866f12f27d69eba6b6e8142d876d5b: group 0\n",
      "6dd86f12677d69a3a6b6b9522dad1c5b: group 1\n",
      "6d861512f2cc69a30eb6b9142dad6d47: group 2\n",
      "6d866f80f27d66a3a6e6b914a0ad6d5b: group 3\n",
      "dd866f12f27d69eba6b6e8142d876d5b: group 0\n",
      "6dd86f12677d69a3a6b6b9522dad1c5b: group 1\n",
      "6d861512f2cc69a30eb6b9142dad6d47: group 2\n",
      "6d866f80f27d66a3a6e6b914a0ad6d5b: group 3\n",
      "7e866f12f27d6907a6b614142dd56d5b: group 0\n",
      "Round key bytes recovered:\n",
      "D0............89....0C....63....\n",
      "6d3c6f12c27d69a3a6b6b9d52dad265b: group 1\n",
      "Round key bytes recovered:\n",
      "D014....C9....89....0CC8..630C..\n",
      "6d86e712f25569a334b6b9142dad6dfe: group 2\n",
      "Round key bytes recovered:\n",
      "D014F9..C9EE..89E1..0CC8..630CA6\n",
      "6d866f04f27d52a3a6f9b91477ad6d5b: group 3\n",
      "Round key bytes recovered:\n",
      "D014F9A8C9EE2589E13F0CC8B6630CA6\n",
      "Last round key #N found:\n",
      "D014F9A8C9EE2589E13F0CC8B6630CA6\n"
     ]
    }
   ],
   "source": [
    "import phoenixAES\n",
    "outputs2=phoenixAES.convert_r8faults_bytes(outputs, goldciph, encrypt=True)\n",
    "r10=phoenixAES.crack_bytes(outputs2, goldciph, encrypt=True, verbose=2)"
   ]
  },
  {
   "cell_type": "code",
   "execution_count": 19,
   "metadata": {},
   "outputs": [
    {
     "name": "stdout",
     "output_type": "stream",
     "text": [
      "AES Key:\n",
      "2b7e151628aed2a6abf7158809cf4f3c\n"
     ]
    }
   ],
   "source": [
    "if r10 is not None:\n",
    "    from chipwhisperer.analyzer.attacks.models.aes.key_schedule import key_schedule_rounds\n",
    "    recv_key = key_schedule_rounds(bytearray.fromhex(r10), 10, 0)\n",
    "    print(\"AES Key:\")\n",
    "    print(''.join(\"%02x\" % x for x in recv_key))\n",
    "else:\n",
    "    print(\"Sorry, no key found, try another campain, maybe with different parameters...\")"
   ]
  },
  {
   "cell_type": "code",
   "execution_count": 20,
   "metadata": {},
   "outputs": [
    {
     "data": {
      "text/plain": [
       "CWbytearray(b'd0 14 f9 a8 c9 ee 25 89 e1 3f 0c c8 b6 63 0c a6')"
      ]
     },
     "execution_count": 20,
     "metadata": {},
     "output_type": "execute_result"
    }
   ],
   "source": [
    "bytearray(key_schedule_rounds(key, 0, 10))"
   ]
  },
  {
   "cell_type": "code",
   "execution_count": 21,
   "metadata": {},
   "outputs": [
    {
     "data": {
      "text/plain": [
       "CWbytearray(b'2b 7e 15 16 28 ae d2 a6 ab f7 15 88 09 cf 4f 3c')"
      ]
     },
     "execution_count": 21,
     "metadata": {},
     "output_type": "execute_result"
    }
   ],
   "source": [
    "bytearray(key)"
   ]
  },
  {
   "cell_type": "code",
   "execution_count": 22,
   "metadata": {},
   "outputs": [],
   "source": [
    "key = list(key)\n",
    "assert (recv_key == key), \"Failed to recover encryption key\\nGot:      {}\\nExpected: {}\".format(recv_key, key)"
   ]
  },
  {
   "cell_type": "code",
   "execution_count": 23,
   "metadata": {},
   "outputs": [],
   "source": [
    "scope.dis()\n",
    "target.dis()"
   ]
  }
 ],
 "metadata": {
  "kernelspec": {
   "display_name": "Python 3",
   "language": "python",
   "name": "python3"
  },
  "language_info": {
   "codemirror_mode": {
    "name": "ipython",
    "version": 3
   },
   "file_extension": ".py",
   "mimetype": "text/x-python",
   "name": "python",
   "nbconvert_exporter": "python",
   "pygments_lexer": "ipython3",
   "version": "3.7.12"
  }
 },
 "nbformat": 4,
 "nbformat_minor": 4
}
