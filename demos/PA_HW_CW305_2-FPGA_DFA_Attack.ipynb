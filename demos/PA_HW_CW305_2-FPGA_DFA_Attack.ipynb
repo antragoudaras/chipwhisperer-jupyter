{
 "cells": [
  {
   "cell_type": "markdown",
   "metadata": {},
   "source": [
    "# DFA AES Attack"
   ]
  },
  {
   "cell_type": "code",
   "execution_count": 1,
   "metadata": {},
   "outputs": [],
   "source": [
    "import chipwhisperer as cw\n",
    "\n",
    "scope = cw.scope()\n",
    "scope.gain.db = 25\n",
    "scope.adc.samples = 129\n",
    "scope.adc.offset = 0\n",
    "scope.adc.basic_mode = \"rising_edge\"\n",
    "scope.clock.clkgen_freq = 10E6\n",
    "scope.clock.adc_src = \"clkgen_x4\"\n",
    "scope.trigger.triggers = \"tio4\"\n",
    "scope.io.tio1 = \"serial_rx\"\n",
    "scope.io.tio2 = \"serial_tx\"\n",
    "scope.io.hs2 = \"clkgen\""
   ]
  },
  {
   "cell_type": "code",
   "execution_count": 2,
   "metadata": {},
   "outputs": [],
   "source": [
    "target = cw.target(scope, cw.targets.CW305, fpga_id='35t', force=False)\n",
    "# target = cw.target(scope, cw.targets.CW305, fpga_id='100t', force=True)"
   ]
  },
  {
   "cell_type": "markdown",
   "metadata": {},
   "source": [
    " **make sure the DIP switches on the CW305 board are set as follows**:\n",
    "- J16 = 1 `route/drive the Artix target from chipwhisperer-lite board clock`\n",
    "- K16 = 0 `disable return clock from PLLs being outputed to the ChipWhisperer's HS-In channel`"
   ]
  },
  {
   "cell_type": "code",
   "execution_count": 3,
   "metadata": {},
   "outputs": [],
   "source": [
    "target.vccint_set(1.0)\n",
    "# disabe all PLLs\n",
    "target.pll.pll_enable_set(False)\n",
    "target.pll.pll_outenable_set(False, 0)\n",
    "target.pll.pll_outenable_set(False, 1)\n",
    "target.pll.pll_outenable_set(False, 2)\n",
    "\n",
    "\n",
    "# 1ms is plenty of idling time\n",
    "target.clkusbautooff = False\n",
    "target.clksleeptime = 1"
   ]
  },
  {
   "cell_type": "code",
   "execution_count": 4,
   "metadata": {},
   "outputs": [],
   "source": [
    "# ensure ADC is locked:\n",
    "scope.clock.reset_adc()\n",
    "assert (scope.clock.adc_locked), \"ADC failed to lock\""
   ]
  },
  {
   "cell_type": "code",
   "execution_count": 5,
   "metadata": {},
   "outputs": [],
   "source": [
    "target.usb_clk_setenabled(1)"
   ]
  },
  {
   "cell_type": "code",
   "execution_count": 6,
   "metadata": {},
   "outputs": [
    {
     "name": "stdout",
     "output_type": "stream",
     "text": [
      "clk_src     = clkgen\n",
      "width       = 10.15625\n",
      "width_fine  = 0\n",
      "offset      = 10.15625\n",
      "offset_fine = 0\n",
      "trigger_src = ext_single\n",
      "arm_timing  = after_scope\n",
      "ext_offset  = 0\n",
      "repeat      = 1\n",
      "output      = clock_xor\n",
      "\n"
     ]
    }
   ],
   "source": [
    "#Basic setup\n",
    "scope.glitch.clk_src = \"clkgen\" # set glitch input clock\n",
    "scope.glitch.output = \"clock_xor\" # glitch_out = clk ^ glitch\n",
    "scope.glitch.trigger_src = \"ext_single\" # glitch only after scope.arm() called\n",
    "scope.glitch.width = 10\n",
    "scope.io.hs2 = \"glitch\"  # output glitch_out on the clock line\n",
    "scope.io.glitch_lp = False\n",
    "print(scope.glitch)"
   ]
  },
  {
   "cell_type": "code",
   "execution_count": 7,
   "metadata": {
    "scrolled": false
   },
   "outputs": [
    {
     "data": {
      "application/vnd.jupyter.widget-view+json": {
       "model_id": "65a3fef556264d42ad3adba2c3e1b10a",
       "version_major": 2,
       "version_minor": 0
      },
      "text/plain": [
       "IntText(value=0, description='column0 count:', disabled=True)"
      ]
     },
     "metadata": {},
     "output_type": "display_data"
    },
    {
     "data": {
      "application/vnd.jupyter.widget-view+json": {
       "model_id": "1b546c17b82a4ff7bf49471b16c1568e",
       "version_major": 2,
       "version_minor": 0
      },
      "text/plain": [
       "IntText(value=0, description='column1 count:', disabled=True)"
      ]
     },
     "metadata": {},
     "output_type": "display_data"
    },
    {
     "data": {
      "application/vnd.jupyter.widget-view+json": {
       "model_id": "962a07321b8f4444a271d2923e754438",
       "version_major": 2,
       "version_minor": 0
      },
      "text/plain": [
       "IntText(value=0, description='column2 count:', disabled=True)"
      ]
     },
     "metadata": {},
     "output_type": "display_data"
    },
    {
     "data": {
      "application/vnd.jupyter.widget-view+json": {
       "model_id": "fc2d2d72f7ba44e5ba09a3d7ab1efb5e",
       "version_major": 2,
       "version_minor": 0
      },
      "text/plain": [
       "IntText(value=0, description='column3 count:', disabled=True)"
      ]
     },
     "metadata": {},
     "output_type": "display_data"
    },
    {
     "data": {
      "application/vnd.jupyter.widget-view+json": {
       "model_id": "dc1aee2c4f234ba7a222221381fc91c0",
       "version_major": 2,
       "version_minor": 0
      },
      "text/plain": [
       "IntText(value=0, description='other count:', disabled=True)"
      ]
     },
     "metadata": {},
     "output_type": "display_data"
    },
    {
     "data": {
      "application/vnd.jupyter.widget-view+json": {
       "model_id": "ec93ebbd9fde4f2ba1f746e8fee1116d",
       "version_major": 2,
       "version_minor": 0
      },
      "text/plain": [
       "IntText(value=0, description='reset count:', disabled=True)"
      ]
     },
     "metadata": {},
     "output_type": "display_data"
    },
    {
     "data": {
      "application/vnd.jupyter.widget-view+json": {
       "model_id": "022549557f9e477d9f390201b2315f6a",
       "version_major": 2,
       "version_minor": 0
      },
      "text/plain": [
       "IntText(value=0, description='normal count:', disabled=True)"
      ]
     },
     "metadata": {},
     "output_type": "display_data"
    },
    {
     "data": {
      "application/vnd.jupyter.widget-view+json": {
       "model_id": "a2551d3da6474ccfbe0fe9f12fc52623",
       "version_major": 2,
       "version_minor": 0
      },
      "text/plain": [
       "FloatSlider(value=1.0, continuous_update=False, description='width setting:', disabled=True, max=2.0, min=1.0,…"
      ]
     },
     "metadata": {},
     "output_type": "display_data"
    },
    {
     "data": {
      "application/vnd.jupyter.widget-view+json": {
       "model_id": "886e3d5e47d34262a738d0f2dfe76604",
       "version_major": 2,
       "version_minor": 0
      },
      "text/plain": [
       "FloatSlider(value=-6.0, continuous_update=False, description='offset setting:', disabled=True, max=-5.0, min=-…"
      ]
     },
     "metadata": {},
     "output_type": "display_data"
    },
    {
     "data": {
      "application/vnd.jupyter.widget-view+json": {
       "model_id": "cece750081ac42feaee5bb6294c3b579",
       "version_major": 2,
       "version_minor": 0
      },
      "text/plain": [
       "FloatSlider(value=0.0, continuous_update=False, description='ext_offset setting:', disabled=True, max=10.0, re…"
      ]
     },
     "metadata": {},
     "output_type": "display_data"
    },
    {
     "data": {
      "application/vnd.jupyter.widget-view+json": {
       "model_id": "4ddf10e6a7744ba8ab6d1375daf35b5f",
       "version_major": 2,
       "version_minor": 0
      },
      "text/plain": [
       "FloatSlider(value=-5.0, continuous_update=False, description='N setting:', disabled=True, max=5.0, min=-5.0, r…"
      ]
     },
     "metadata": {},
     "output_type": "display_data"
    }
   ],
   "source": [
    "import chipwhisperer.common.results.glitch as glitch\n",
    "#gc = glitch.GlitchController(groups=[\"success\", \"reset\", \"normal\"], parameters=[\"width\", \"offset\"])\n",
    "gc = glitch.GlitchController(groups=[\"column0\", \"column1\", \"column2\", \"column3\", \"other\", \\\n",
    "                                     \"reset\", \"normal\"], parameters=[\"width\", \"offset\", \"ext_offset\", \"N\"])\n",
    "\n",
    "gc.set_range(\"width\", 1, 2)\n",
    "gc.set_range(\"offset\", -6, -5)\n",
    "gc.set_range(\"ext_offset\", 0, 10)\n",
    "gc.set_range(\"N\", -5, 5)\n",
    "gc.set_global_step([0.4])\n",
    "\n",
    "gc.display_stats()"
   ]
  },
  {
   "cell_type": "code",
   "execution_count": 8,
   "metadata": {},
   "outputs": [
    {
     "name": "stdout",
     "output_type": "stream",
     "text": [
      "3633288\n"
     ]
    }
   ],
   "source": [
    "print(scope.adc.trig_count)"
   ]
  },
  {
   "cell_type": "code",
   "execution_count": 9,
   "metadata": {},
   "outputs": [],
   "source": [
    "scope.glitch.repeat = 1"
   ]
  },
  {
   "cell_type": "code",
   "execution_count": 10,
   "metadata": {},
   "outputs": [],
   "source": [
    "scope.glitch.output = \"clock_xor\""
   ]
  },
  {
   "cell_type": "code",
   "execution_count": 11,
   "metadata": {},
   "outputs": [],
   "source": [
    "target.vccint_set(1.00)"
   ]
  },
  {
   "cell_type": "code",
   "execution_count": 12,
   "metadata": {},
   "outputs": [],
   "source": [
    "outputs = []\n",
    "results = []\n",
    "obf = []"
   ]
  },
  {
   "cell_type": "code",
   "execution_count": 13,
   "metadata": {},
   "outputs": [],
   "source": [
    "scope.clock.clkgen_freq = 10E6"
   ]
  },
  {
   "cell_type": "code",
   "execution_count": 14,
   "metadata": {},
   "outputs": [],
   "source": [
    "from Crypto.Cipher import AES\n",
    "\n",
    "ktp = cw.ktp.Basic()\n",
    "key, text = ktp.next()  # manual creation of a key, text pair can be substituted here\n",
    "# initialize cipher to verify DUT result:\n",
    "cipher = AES.new(bytes(key), AES.MODE_ECB)\n",
    "\n",
    "goldciph = list(cipher.encrypt(bytes(text)))"
   ]
  },
  {
   "cell_type": "code",
   "execution_count": 15,
   "metadata": {},
   "outputs": [
    {
     "name": "stdout",
     "output_type": "stream",
     "text": [
      "1.171875 -5.859375 3 4.6000000000000005 1\n",
      "1.171875 -5.859375 3 4.2 1\n",
      "1.171875 -5.46875 3 -3.3999999999999995 1\n",
      "1.171875 -5.46875 3 -1.4 1\n",
      "1.171875 -5.46875 3 -0.5999999999999999 1\n",
      "1.171875 -5.46875 3 -4.6 1\n",
      "1.171875 -5.46875 3 -3.7999999999999994 1\n",
      "1.171875 -5.46875 3 -2.9999999999999996 1\n",
      "1.171875 -5.46875 3 -0.19999999999999984 1\n",
      "1.171875 -5.46875 3 -4.6 1\n",
      "1.171875 -5.46875 3 -2.1999999999999997 1\n",
      "1.171875 -5.46875 3 0.20000000000000018 1\n",
      "1.171875 -5.46875 4 2.6 0\n",
      "1.171875 -5.46875 4 3.0 0\n",
      "1.171875 -5.46875 4 4.6000000000000005 0\n",
      "1.171875 -5.46875 4 3.0 0\n",
      "1.171875 -5.46875 4 3.4 0\n",
      "1.171875 -5.46875 4 4.6000000000000005 0\n",
      "1.171875 -5.078125 4 -4.6 0\n",
      "1.171875 -5.078125 4 -5 0\n",
      "1.171875 -5.078125 4 -4.6 0\n",
      "1.171875 -5.078125 4 -4.199999999999999 0\n",
      "1.171875 -5.078125 4 -3.7999999999999994 0\n",
      "1.171875 -5.078125 4 -3.3999999999999995 0\n",
      "1.171875 -5.078125 4 -2.5999999999999996 0\n",
      "1.171875 -5.078125 4 -1.7999999999999998 0\n",
      "1.171875 -5.078125 4 -0.9999999999999999 0\n",
      "1.171875 -5.078125 4 0.20000000000000018 0\n",
      "1.171875 -5.078125 5 1.8000000000000003 1\n",
      "1.5625 -5.859375 3 4.6000000000000005 1\n",
      "1.5625 -5.859375 3 3.8 1\n",
      "1.5625 -5.859375 3 4.6000000000000005 1\n",
      "1.5625 -5.46875 3 -2.5999999999999996 1\n",
      "1.5625 -5.46875 3 0.20000000000000018 1\n",
      "1.5625 -5.46875 3 -4.6 1\n",
      "1.5625 -5.46875 3 -3.3999999999999995 1\n",
      "1.5625 -5.46875 3 -2.9999999999999996 1\n",
      "1.5625 -5.46875 3 -2.1999999999999997 1\n",
      "1.5625 -5.46875 3 -0.19999999999999984 1\n",
      "1.5625 -5.46875 3 0.20000000000000018 1\n",
      "1.5625 -5.46875 3 1.0000000000000002 1\n",
      "1.5625 -5.46875 3 2.6 1\n",
      "1.5625 -5.46875 3 -3.7999999999999994 1\n",
      "1.5625 -5.46875 3 -1.7999999999999998 1\n",
      "1.5625 -5.46875 3 0.6000000000000002 1\n",
      "1.5625 -5.46875 4 1.4000000000000004 0\n",
      "1.5625 -5.46875 4 4.6000000000000005 0\n",
      "1.5625 -5.46875 4 3.0 0\n",
      "1.5625 -5.46875 4 4.2 0\n",
      "1.5625 -5.078125 4 -5 0\n",
      "1.5625 -5.078125 4 -4.199999999999999 0\n",
      "1.5625 -5.078125 4 -3.7999999999999994 0\n",
      "1.5625 -5.078125 4 -3.3999999999999995 0\n",
      "1.5625 -5.078125 4 -2.9999999999999996 0\n",
      "1.5625 -5.078125 4 -1.7999999999999998 0\n",
      "1.5625 -5.078125 4 -1.4 0\n",
      "1.5625 -5.078125 4 -4.199999999999999 0\n",
      "1.5625 -5.078125 4 -3.3999999999999995 0\n",
      "1.5625 -5.078125 4 -2.9999999999999996 0\n",
      "1.5625 -5.078125 4 -2.5999999999999996 0\n",
      "1.5625 -5.078125 4 -0.9999999999999999 0\n",
      "1.5625 -5.078125 4 -0.19999999999999984 0\n",
      "1.5625 -5.078125 5 3.4 1\n",
      "1.5625 -5.078125 5 4.6000000000000005 1\n",
      "1.953125 -5.859375 3 3.8 1\n",
      "1.953125 -5.46875 3 -1.4 1\n",
      "1.953125 -5.46875 3 0.20000000000000018 1\n",
      "1.953125 -5.46875 3 0.6000000000000002 1\n",
      "1.953125 -5.46875 3 1.0000000000000002 1\n",
      "1.953125 -5.46875 3 -3.3999999999999995 1\n",
      "1.953125 -5.46875 3 -2.9999999999999996 1\n",
      "1.953125 -5.46875 3 -0.9999999999999999 1\n",
      "1.953125 -5.46875 3 -0.5999999999999999 1\n",
      "1.953125 -5.46875 3 -3.3999999999999995 1\n",
      "1.953125 -5.46875 3 -2.1999999999999997 1\n",
      "1.953125 -5.46875 3 -1.4 1\n",
      "1.953125 -5.46875 3 -0.9999999999999999 1\n",
      "1.953125 -5.46875 3 -0.5999999999999999 1\n",
      "1.953125 -5.46875 3 0.20000000000000018 1\n",
      "1.953125 -5.46875 4 3.0 0\n",
      "1.953125 -5.46875 4 3.8 0\n",
      "1.953125 -5.46875 4 1.8000000000000003 0\n",
      "1.953125 -5.078125 4 -5 0\n",
      "1.953125 -5.078125 4 -2.1999999999999997 0\n",
      "1.953125 -5.078125 4 -1.4 0\n",
      "1.953125 -5.078125 4 -3.7999999999999994 0\n",
      "1.953125 -5.078125 4 0.20000000000000018 0\n",
      "1.953125 -5.078125 4 1.0000000000000002 0\n",
      "1.953125 -5.078125 4 1.8000000000000003 0\n"
     ]
    }
   ],
   "source": [
    "from tqdm import tnrange\n",
    "import numpy as np\n",
    "import time\n",
    "from Crypto.Cipher import AES\n",
    "\n",
    "\n",
    "project_file = \"projects/Tutorial_HW_CW305_DFA.cwp\"\n",
    "project = cw.create_project(project_file, overwrite=True)\n",
    "traces = []\n",
    "textin = []\n",
    "keys = []\n",
    "\n",
    "\n",
    "def check_column_glitch(glitched_ct, gold_ct, column):\n",
    "    column_lookup = [[0, 13, 10, 7], [4, 1, 14, 11], [8, 5, 2, 15], [12, 9, 6, 3]] #shift rows\n",
    "    for byte in column_lookup[column]:\n",
    "        if glitched_ct[byte] == gold_ct[byte]:\n",
    "            return False\n",
    "    return True\n",
    "scope.adc.timeout = 0.1\n",
    "\n",
    "class DelayedKeyboardInterrupt:\n",
    "    def __enter__(self):\n",
    "        self.signal_received = False\n",
    "        self.old_handler = signal.signal(signal.SIGINT, self.handler)\n",
    "\n",
    "    def handler(self, sig, frame):\n",
    "        self.signal_received = (sig, frame)\n",
    "        logging.debug('SIGINT received. Delaying KeyboardInterrupt.')\n",
    "\n",
    "    def __exit__(self, type, value, traceback):\n",
    "        signal.signal(signal.SIGINT, self.old_handler)\n",
    "        if self.signal_received:\n",
    "            self.old_handler(*self.signal_received)\n",
    "    \n",
    "import logging, signal\n",
    "logging.getLogger().setLevel(logging.ERROR)\n",
    "for glitch_setting in gc.glitch_values():\n",
    "    with DelayedKeyboardInterrupt():\n",
    "        # run aux stuff that should come before trace here\n",
    "        scope.glitch.offset = glitch_setting[1]\n",
    "        scope.glitch.width = glitch_setting[0]\n",
    "        scope.glitch.ext_offset = glitch_setting[2]\n",
    "        scope.glitch.offset_fine = glitch_setting[3] / 0.4\n",
    "\n",
    "        ret = cw.capture_trace(scope, target, text, key)\n",
    "        if not ret:\n",
    "            gc.add(\"reset\", (scope.glitch.width, scope.glitch.offset, scope.glitch.ext_offset, glitch_setting[3]))\n",
    "            continue\n",
    "\n",
    "        if (list(ret.textout) == goldciph):\n",
    "            gc.add(\"normal\", (scope.glitch.width, scope.glitch.offset, scope.glitch.ext_offset, glitch_setting[3]))\n",
    "            continue\n",
    "        else:\n",
    "            pass\n",
    "            #print(list(ret.textout))\n",
    "            #print(goldciph)\n",
    "            #print(scope.glitch.offset, scope.glitch.width, scope.glitch.ext_offset)\n",
    "        #trace += scope.getLastTrace()\n",
    "        #check for a glitch in each column of AES\n",
    "        traces.append(ret.wave)\n",
    "        project.traces.append(ret)\n",
    "        outputs.append(list(ret.textout))\n",
    "        column_glitches = []\n",
    "        for column in range(4):\n",
    "            if check_column_glitch(ret.textout, goldciph, column):\n",
    "                column_glitches.append(column)\n",
    "        #We're looking for single column glitches here\n",
    "        if len(column_glitches) == 1:\n",
    "            gc.add(\"column{}\".format(column_glitches[0]), (scope.glitch.width, scope.glitch.offset, scope.glitch.ext_offset, glitch_setting[3]))\n",
    "            obf.append(ret.textout)\n",
    "            print(scope.glitch.width, scope.glitch.offset, scope.glitch.ext_offset, glitch_setting[3], column_glitches[0])\n",
    "            \n",
    "        else:\n",
    "            gc.add(\"other\", (scope.glitch.width, scope.glitch.offset, scope.glitch.ext_offset, glitch_setting[3]))"
   ]
  },
  {
   "cell_type": "code",
   "execution_count": 16,
   "metadata": {},
   "outputs": [],
   "source": [
    "project.save()"
   ]
  },
  {
   "cell_type": "code",
   "execution_count": 17,
   "metadata": {},
   "outputs": [
    {
     "name": "stdout",
     "output_type": "stream",
     "text": [
      "22ad61fb53701ce48d8b202b9ba752df: group None\n",
      "22ad61fb53701ce40b8b202b9ba752df: group None\n",
      "22ad615053701c4f968b208042a75274: group 1\n",
      "22ad61fb53701ce48d8b202b9ba752df: group None\n",
      "22ad61fb53701ce48d8b202b9ba752df: group None\n",
      "22ad61fb53701ce48d8b202b9ba752df: group None\n",
      "22ad615053701c4f968b20809ba75274: group None\n",
      "22ad615053701c4f968b20809ba75274: group None\n",
      "22ad61fb53701ce40b8b202b9ba752df: group None\n",
      "22ad615053701c4f968b20809ba75274: group None\n",
      "22ad615053701c4f968b20809ba75274: group None\n",
      "22ad615053701c4f968b20809ba75274: group None\n",
      "0483615050701c0f4148a619afd98663: group None\n",
      "1483615094701c0f7a48a618afd98672: group None\n",
      "0483615050701c0f4748a619afd98673: group None\n",
      "0c836150d0701c0f4948a60927d98663: group None\n",
      "0483615010701c0f7a48a618afd98673: group None\n",
      "5c836150d4701c0f52480e1823d98672: group None\n",
      "0c836150d0701c0f4b48a60927d98663: group None\n",
      "0c836150d0701c0f4d48a601278b8663: group None\n",
      "1483615014701c0f7a48a618afd98673: group None\n",
      "0c836150d0701c0f4b48a61927d98673: group None\n",
      "0c836150d0701c0f4b48a619a7d98673: group None\n",
      "0c836150d0701c0f4948a6c8278b8663: group None\n",
      "1683615094701c0f5a480e18add9867a: group None\n",
      "0c836150d0701cc74948a609278b8663: group None\n",
      "0c836150d0701cc74948a609a7d98663: group None\n",
      "5683615474701c0f52480e1821d9867a: group None\n",
      "00b24150101010079600208242848755: group None\n",
      "22ad61fb53701ce4968b202bdba752df: group None\n",
      "22ad61fb53701ce48d8b202b9ba752df: group None\n",
      "22ad615053701c4f968b20809ba75274: group None\n",
      "22ad61fb53701ce48d8b202b9ba752df: group None\n",
      "22ad61fb53701ce48d8b202b9ba752df: group None\n",
      "22ad61fb53701ce48d8b202b9ba752df: group None\n",
      "22ad61fb53701ce48d8b202b9ba752df: group None\n",
      "22ad61fb53701ce40b8b202b9ba752df: group None\n",
      "22ad615053701c4f968b20809ba75274: group None\n",
      "22ad61fb53701ce42b8b202bbba752df: group None\n",
      "22ad61fb53701ce42b8b202bbba752df: group None\n",
      "22ad615053701c4f968b20809ba75274: group None\n",
      "22ad61fb53701ce48d8b202b9ba752df: group None\n",
      "22ad615053701c4f968b20809ba75274: group None\n",
      "22ad61fb53701ce48d8b202b9ba752df: group None\n",
      "22ad61fb53701ce40b8b202b9ba752df: group None\n",
      "0c836150d0701c0f4948a601278b8663: group None\n",
      "0c186150d0701cc74948a688278b8663: group None\n",
      "5e836150d4701c0f52480e1825d9867a: group None\n",
      "0c186150d0701c0f4948a688278b8663: group None\n",
      "0c836150d0701c0f4948a60927d98663: group None\n",
      "1483615090701c0f7c48a618afd98672: group None\n",
      "0c836150d0701c0f4948a601a78b8663: group None\n",
      "0c836150d0701c0f4948a60927d98663: group None\n",
      "0c836150d0701c0f4948a60927d98663: group None\n",
      "5683615474701c0f52480e1825d9867a: group None\n",
      "5e8361509c701c0f52480e1821d9867a: group None\n",
      "0c836150d0701c0f4948a60927d98663: group None\n",
      "0c836150d0701c0f4948a60927d98663: group None\n",
      "0c836150d0701c0f4b48a60927d98663: group None\n",
      "0c836150d4701c0f4b48a61927d98673: group None\n",
      "0c836150d0701c0f4948a60927d98663: group None\n",
      "5e836150d0701c0f56480e1825d9867a: group None\n",
      "00b24150101010079600208242848755: group None\n",
      "00b24150103010079600208242848755: group None\n",
      "22ad615053701c4f968b208042a75274: group 1\n",
      "22ad61fb53701ce48d8b202b9ba752df: group None\n",
      "22ad61fb53701ce48d8b202b9ba752df: group None\n",
      "22ad61fb53701ce48d8b202b9ba752df: group None\n",
      "22ad61fb53701ce48d8b202b9ba752df: group None\n",
      "22ad61fb53701ce48d8b202b9ba752df: group None\n",
      "22ad61fb53701ce40b8b202b9ba752df: group None\n",
      "22ad61fb53701ce48d8b202b9ba752df: group None\n",
      "22ad615053701c4f968b20809ba75274: group None\n",
      "22ad615053701c4f968b20809ba75274: group None\n",
      "22ad61fb53701ce40b8b202b9ba752df: group None\n",
      "22ad615053701c4f968b20809ba75274: group None\n",
      "22ad615053701c4f968b20809ba75274: group None\n",
      "22ad61fb53701ce48d8b202b9ba752df: group None\n",
      "22ad61fb53701ce4d68b202b9ba752df: group None\n",
      "0c836150d0701c0f4b48a60927d98663: group None\n",
      "1483615094701c0f7a480e18abd98672: group None\n",
      "0483615050701c0fc548a688af8b8663: group None\n",
      "0c186150d0701c0f4948a688278b8663: group None\n",
      "5c836150d4701c0f7248a61827d98672: group None\n",
      "0c836150d0701c0f4948a601a7d98663: group None\n",
      "0483615050701c0f4148a601af8b8663: group None\n",
      "5e836154d4701c0f72480e1821d9867a: group None\n",
      "1c836150d0701c0f7248a618a7d98672: group None\n",
      "5c836150d4701c0f52480e1823d9867a: group None\n"
     ]
    }
   ],
   "source": [
    "import phoenixAES\n",
    "r10=phoenixAES.crack_bytes(obf, goldciph, encrypt=True, verbose=2)"
   ]
  },
  {
   "cell_type": "code",
   "execution_count": 18,
   "metadata": {},
   "outputs": [
    {
     "name": "stdout",
     "output_type": "stream",
     "text": [
      "acb3615015701c1c968b9b5b42c28674: group 0\n",
      "224e6150e1701c4f968b203942a7a674: group 1\n",
      "22b3005015321c4ff08b205b42a78620: group 2\n",
      "22b3611615707c4f963f205b3ca78674: group 3\n",
      "acb3615015701c1c968b9b5b42c28674: group 0\n",
      "224e6150e1701c4f968b203942a7a674: group 1\n",
      "22b3005015321c4ff08b205b42a78620: group 2\n",
      "22b3611615707c4f963f205b3ca78674: group 3\n",
      "bab3615015701ccf968bc25b42208674: group 0\n",
      "2241615009701c4f968b20c842a72174: group 1\n",
      "22b3565015e51c4f858b205b42a786c7: group 2\n",
      "22b361c01570f64f96dc205b2ea78674: group 3\n",
      "20b3615015701cb4968bc45b42fb8674: group 0\n",
      "22bb61505e701c4f968b205a42a70c74: group 1\n",
      "22b33f5015821c4f4e8b205b42a786d9: group 2\n",
      "22b361001570714f9613205b6ca78674: group 3\n",
      "bab3615015701ccf968bc25b42208674: group 0\n",
      "2241615009701c4f968b20c842a72174: group 1\n",
      "22b3565015e51c4f858b205b42a786c7: group 2\n",
      "22b361c01570f64f96dc205b2ea78674: group 3\n",
      "bab3615015701ccf968bc25b42208674: group 0\n",
      "2241615009701c4f968b20c842a72174: group 1\n",
      "22b3565015e51c4f858b205b42a786c7: group 2\n",
      "22b361c01570f64f96dc205b2ea78674: group 3\n",
      "3eb3615015701c08968be55b42338674: group 0\n",
      "2252615032701c4f968b202b42a71b74: group 1\n",
      "22b35550158c1c4fdf8b205b42a7861c: group 2\n",
      "22b361a31570394f96a0205bc1a78674: group 3\n",
      "20b3615015701cb4968bc45b42fb8674: group 0\n",
      "22bb61505e701c4f968b205a42a70c74: group 1\n",
      "22b33f5015821c4f4e8b205b42a786d9: group 2\n",
      "22b361001570714f9613205b6ca78674: group 3\n",
      "20b3615015701cb4968bc45b42fb8674: group 0\n",
      "22bb61505e701c4f968b205a42a70c74: group 1\n",
      "22b33f5015821c4f4e8b205b42a786d9: group 2\n",
      "22b361001570714f9613205b6ca78674: group 3\n",
      "9cb3615015701c37968b405b424a8674: group 0\n",
      "223b6150c0701c4f968b202142a72374: group 1\n",
      "22b3bc5015571c4fdc8b205b42a78600: group 2\n",
      "22b3616a1570ae4f96f8205b79a78674: group 3\n",
      "20b3615015701cb4968bc45b42fb8674: group 0\n",
      "22bb61505e701c4f968b205a42a70c74: group 1\n",
      "22b33f5015821c4f4e8b205b42a786d9: group 2\n",
      "22b361001570714f9613205b6ca78674: group 3\n",
      "4fb3615015701ca7968b385b42408674: group 0\n",
      "223e615059701c4f968b201542a7ee74: group 1\n",
      "22b34250157f1c4fa38b205b42a78658: group 2\n",
      "22b3611315704a4f9691205bfda78674: group 3\n",
      "20b3615015701cb4968bc45b42fb8674: group 0\n",
      "22bb61505e701c4f968b205a42a70c74: group 1\n",
      "22b33f5015821c4f4e8b205b42a786d9: group 2\n",
      "22b361001570714f9613205b6ca78674: group 3\n",
      "7bb3615015701ca7968b865b425a8674: group 0\n",
      "22766150c3701c4f968b200d42a75474: group 1\n",
      "22b3dd5015f71c4f028b205b42a7861b: group 2\n",
      "22b3610b1570494f969c205bd3a78674: group 3\n",
      "20b3615015701cb4968bc45b42fb8674: group 0\n",
      "22bb61505e701c4f968b205a42a70c74: group 1\n",
      "22b33f5015821c4f4e8b205b42a786d9: group 2\n",
      "22b361001570714f9613205b6ca78674: group 3\n",
      "20b3615015701cb4968bc45b42fb8674: group 0\n",
      "22bb61505e701c4f968b205a42a70c74: group 1\n",
      "22b33f5015821c4f4e8b205b42a786d9: group 2\n",
      "22b361001570714f9613205b6ca78674: group 3\n",
      "9cb3615015701c37968b405b424a8674: group 0\n",
      "223b6150c0701c4f968b202142a72374: group 1\n",
      "22b3bc5015571c4fdc8b205b42a78600: group 2\n",
      "22b3616a1570ae4f96f8205b79a78674: group 3\n",
      "bab3615015701ccf968bc25b42208674: group 0\n",
      "2241615009701c4f968b20c842a72174: group 1\n",
      "22b3565015e51c4f858b205b42a786c7: group 2\n",
      "22b361c01570f64f96dc205b2ea78674: group 3\n",
      "20b3615015701cb4968bc45b42fb8674: group 0\n",
      "22bb61505e701c4f968b205a42a70c74: group 1\n",
      "22b33f5015821c4f4e8b205b42a786d9: group 2\n",
      "22b361001570714f9613205b6ca78674: group 3\n",
      "20b3615015701cb4968bc45b42fb8674: group 0\n",
      "22bb61505e701c4f968b205a42a70c74: group 1\n",
      "22b33f5015821c4f4e8b205b42a786d9: group 2\n",
      "22b361001570714f9613205b6ca78674: group 3\n",
      "20b3615015701cb4968bc45b42fb8674: group 0\n",
      "22bb61505e701c4f968b205a42a70c74: group 1\n",
      "22b33f5015821c4f4e8b205b42a786d9: group 2\n",
      "22b361001570714f9613205b6ca78674: group 3\n",
      "58b3615015701c59968bdb5b42b28674: group 0\n",
      "22bd61506c701c4f968b207242a76374: group 1\n",
      "22b3295015fc1c4fcc8b205b42a78689: group 2\n",
      "22b361d61570eb4f96be205bc0a78674: group 3\n",
      "d8b3615015701c11968bf35b42688674: group 0\n",
      "226761508c701c4f968b206242a70074: group 1\n",
      "22b3845015b41c4f758b205b42a78642: group 2\n",
      "22b361841570634f96a2205b88a78674: group 3\n",
      "d8b3615015701c11968bf35b42688674: group 0\n",
      "226761508c701c4f968b206242a70074: group 1\n",
      "22b3845015b41c4f758b205b42a78642: group 2\n",
      "22b361841570634f96a2205b88a78674: group 3\n",
      "d8b3615015701c11968bf35b42688674: group 0\n",
      "226761508c701c4f968b206242a70074: group 1\n",
      "22b3845015b41c4f758b205b42a78642: group 2\n",
      "22b361841570634f96a2205b88a78674: group 3\n",
      "d8b3615015701c11968bf35b42688674: group 0\n",
      "226761508c701c4f968b206242a70074: group 1\n",
      "22b3845015b41c4f758b205b42a78642: group 2\n",
      "22b361841570634f96a2205b88a78674: group 3\n",
      "2eb3615015701c4a968bb95b42928674: group 0\n",
      "220061500b701c4f968b202742a72474: group 1\n",
      "22b37e5015a91c4f518b205b42a786e4: group 2\n",
      "22b361b21570994f96cd205b2ba78674: group 3\n",
      "18b3615015701ca5968b585b42358674: group 0\n",
      "22ca6150c3701c4f968b205642a7a674: group 1\n",
      "22b3ed5015cb1c4f848b205b42a786bb: group 2\n",
      "22b361fa1570504f9606205b5fa78674: group 3\n",
      "7cb3615015701c12968beb5b42958674: group 0\n",
      "223d615005701c4f968b208242a7b674: group 1\n",
      "22b3bd5015f41c4fa58b205b42a78641: group 2\n",
      "22b361c51570624f9662205bb8a78674: group 3\n",
      "7cb3615015701c12968beb5b42958674: group 0\n",
      "223d615005701c4f968b208242a7b674: group 1\n",
      "22b3bd5015f41c4fa58b205b42a78641: group 2\n",
      "22b361c51570624f9662205bb8a78674: group 3\n",
      "d8b3615015701c11968bf35b42688674: group 0\n",
      "226761508c701c4f968b206242a70074: group 1\n",
      "22b3845015b41c4f758b205b42a78642: group 2\n",
      "22b361841570634f96a2205b88a78674: group 3\n",
      "d8b3615015701c11968bf35b42688674: group 0\n",
      "226761508c701c4f968b206242a70074: group 1\n",
      "22b3845015b41c4f758b205b42a78642: group 2\n",
      "22b361841570634f96a2205b88a78674: group 3\n",
      "d8b3615015701c11968bf35b42688674: group 0\n",
      "226761508c701c4f968b206242a70074: group 1\n",
      "22b3845015b41c4f758b205b42a78642: group 2\n",
      "22b361841570634f96a2205b88a78674: group 3\n",
      "d8b3615015701c11968bf35b42688674: group 0\n",
      "226761508c701c4f968b206242a70074: group 1\n",
      "22b3845015b41c4f758b205b42a78642: group 2\n",
      "22b361841570634f96a2205b88a78674: group 3\n",
      "18b3615015701ca5968b585b42358674: group 0\n",
      "22ca6150c3701c4f968b205642a7a674: group 1\n",
      "22b3ed5015cb1c4f848b205b42a786bb: group 2\n",
      "22b361fa1570504f9606205b5fa78674: group 3\n",
      "d8b3615015701c11968bf35b42688674: group 0\n",
      "226761508c701c4f968b206242a70074: group 1\n",
      "22b3845015b41c4f758b205b42a78642: group 2\n",
      "22b361841570634f96a2205b88a78674: group 3\n",
      "d8b3615015701c11968bf35b42688674: group 0\n",
      "226761508c701c4f968b206242a70074: group 1\n",
      "22b3845015b41c4f758b205b42a78642: group 2\n",
      "22b361841570634f96a2205b88a78674: group 3\n",
      "58b3615015701c11968b8e5b428a8674: group 0\n",
      "22c7615052701c4f968b205542a78c74: group 1\n",
      "22b36f50156d1c4fb18b205b42a7862b: group 2\n",
      "22b3618f1570c24f9676205b21a78674: group 3\n",
      "d8b3615015701c11968bf35b42688674: group 0\n",
      "226761508c701c4f968b206242a70074: group 1\n",
      "22b3845015b41c4f758b205b42a78642: group 2\n",
      "22b361841570634f96a2205b88a78674: group 3\n",
      "18b3615015701ca5968b585b42358674: group 0\n",
      "22ca6150c3701c4f968b205642a7a674: group 1\n",
      "22b3ed5015cb1c4f848b205b42a786bb: group 2\n",
      "22b361fa1570504f9606205b5fa78674: group 3\n",
      "18b3615015701ca5968b585b42358674: group 0\n",
      "22ca6150c3701c4f968b205642a7a674: group 1\n",
      "22b3ed5015cb1c4f848b205b42a786bb: group 2\n",
      "22b361fa1570504f9606205b5fa78674: group 3\n",
      "94b3615015701cdf968be75b42f18674: group 0\n",
      "2260615090701c4f968b205c42a76874: group 1\n",
      "22b3b25015481c4f4c8b205b42a78615: group 2\n",
      "22b361c715703c4f9680205bfaa78674: group 3\n",
      "42b3615015701cfb968b185b429e8674: group 0\n",
      "Round key bytes recovered:\n",
      "D0............89....0C....63....\n",
      "2270615027701c4f968b201042a77874: group 1\n",
      "Round key bytes recovered:\n",
      "D014....C9....89....0CC8..630C..\n",
      "22b3165015b51c4f9f8b205b42a78634: group 2\n",
      "Round key bytes recovered:\n",
      "D014F9..C9EE..89E1..0CC8..630CA6\n",
      "22b361681570404f96a1205bada78674: group 3\n",
      "Round key bytes recovered:\n",
      "D014F9A8C9EE2589E13F0CC8B6630CA6\n",
      "Last round key #N found:\n",
      "D014F9A8C9EE2589E13F0CC8B6630CA6\n"
     ]
    }
   ],
   "source": [
    "import phoenixAES\n",
    "outputs2=phoenixAES.convert_r8faults_bytes(outputs, goldciph, encrypt=True)\n",
    "r10=phoenixAES.crack_bytes(outputs2, goldciph, encrypt=True, verbose=2)"
   ]
  },
  {
   "cell_type": "code",
   "execution_count": 19,
   "metadata": {},
   "outputs": [
    {
     "name": "stdout",
     "output_type": "stream",
     "text": [
      "AES Key:\n",
      "2b7e151628aed2a6abf7158809cf4f3c\n"
     ]
    }
   ],
   "source": [
    "if r10 is not None:\n",
    "    from chipwhisperer.analyzer.attacks.models.aes.key_schedule import key_schedule_rounds\n",
    "    recv_key = key_schedule_rounds(bytearray.fromhex(r10), 10, 0)\n",
    "    print(\"AES Key:\")\n",
    "    print(''.join(\"%02x\" % x for x in recv_key))\n",
    "else:\n",
    "    print(\"Sorry, no key found, try another campain, maybe with different parameters...\")"
   ]
  },
  {
   "cell_type": "code",
   "execution_count": 20,
   "metadata": {},
   "outputs": [
    {
     "data": {
      "text/plain": [
       "CWbytearray(b'd0 14 f9 a8 c9 ee 25 89 e1 3f 0c c8 b6 63 0c a6')"
      ]
     },
     "execution_count": 20,
     "metadata": {},
     "output_type": "execute_result"
    }
   ],
   "source": [
    "bytearray(key_schedule_rounds(key, 0, 10))"
   ]
  },
  {
   "cell_type": "code",
   "execution_count": 21,
   "metadata": {},
   "outputs": [
    {
     "data": {
      "text/plain": [
       "CWbytearray(b'2b 7e 15 16 28 ae d2 a6 ab f7 15 88 09 cf 4f 3c')"
      ]
     },
     "execution_count": 21,
     "metadata": {},
     "output_type": "execute_result"
    }
   ],
   "source": [
    "bytearray(key)"
   ]
  },
  {
   "cell_type": "code",
   "execution_count": 22,
   "metadata": {},
   "outputs": [],
   "source": [
    "key = list(key)\n",
    "assert (recv_key == key), \"Failed to recover encryption key\\nGot:      {}\\nExpected: {}\".format(recv_key, key)"
   ]
  },
  {
   "cell_type": "code",
   "execution_count": 23,
   "metadata": {},
   "outputs": [],
   "source": [
    "scope.dis()\n",
    "target.dis()"
   ]
  }
 ],
 "metadata": {
  "kernelspec": {
   "display_name": "Python 3",
   "language": "python",
   "name": "python3"
  },
  "language_info": {
   "codemirror_mode": {
    "name": "ipython",
    "version": 3
   },
   "file_extension": ".py",
   "mimetype": "text/x-python",
   "name": "python",
   "nbconvert_exporter": "python",
   "pygments_lexer": "ipython3",
   "version": "3.7.12"
  }
 },
 "nbformat": 4,
 "nbformat_minor": 4
}
