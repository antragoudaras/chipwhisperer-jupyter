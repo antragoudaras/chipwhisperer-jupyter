{
 "cells": [
  {
   "cell_type": "markdown",
   "metadata": {},
   "source": [
    "# Breaking Hardware AES on CW305 FPGA"
   ]
  },
  {
   "cell_type": "markdown",
   "metadata": {},
   "source": [
    "This tutorial is a continuation from [Tutorial CW305-1 Building a Project](http://wiki.newae.com/Tutorial_CW305-1_Building_a_Project). Here, we'll use our hardware setup to find a fixed secret key that the Artix FPGA is using for AES encryption. This tutorial relies on previous knowledge from [Using_CW-Analyzer_for_CPA_Attack](PA_CPA_1-Using_CW-Analyzer_for_CPA_Attack.ipynb), so make sure you understand how that attack works."
   ]
  },
  {
   "cell_type": "markdown",
   "metadata": {},
   "source": [
    "## Background Theory\n",
    "During this tutorial, we'll be working with a hardware AES implementation. This type of attack can be much more difficult than a software AES attack. In the software AES attacks, we needed hundreds or thousands of clock cycles to capture the algorithm's full execution. In contrast, a hardware AES implementation may have a variety of speeds. Depending on the performance of the hardware, a whole spectrum of execution speeds can be achieved by executing many operations in a single clock cycle. It is theoretically possible to execute the entire AES encryption in a single cycle, given enough hardware space and provided that the clock is not too fast. Most hardware accelerators are designed to complete one round or one large part of a round in a single cycle.\n",
    "\n",
    "This fast execution may cause problems with a regular CPA attack. In software, we found that it was easy to search for the outputs of the s-boxes because these values would need to be loaded from memory onto a high-capacitance data bus. This is not necessarily true on an FPGA, where the output of the s-boxes may be directly fed into the next stage of the algorithm. In general, we may need some more knowledge of the hardware implementation to successfully complete an attack.\n",
    "\n",
    "In our case, let's suppose that every round of AES is completed in a single clock cycle. Recall the execution of AES:\n",
    "\n",
    "<img src=\"./img/aes_operations.png\" width=\"250\">\n",
    "\n",
    "Here, every blue block is executed in one clock cycle. This means that an excellent candidate for a CPA attack is the difference between the input and output of the final round. It is likely that this state is stored in a port that is updated every round, so we expect that the Hamming distance between the round input and output is the most important factor on the power consumption. Also, the last round is the easiest to attack because it has no MixColumns operation. We'll use this Hamming distance as the target in our CPA attack."
   ]
  },
  {
   "cell_type": "markdown",
   "metadata": {},
   "source": [
    "## Capture Notes\n",
    "\n",
    "Most of the capture settings used below are similar to the standard ChipWhisperer scope settings. However, there are a couple of interesting points:\n",
    "\n",
    "- We're only capturing 129 samples (the minimum allowed), and the encryption is completed in less than 60 samples with an x4 ADC clock. This makes sense - as we mentioned above, our AES implementation is computing each round in a single clock cycle.\n",
    "- We're using EXTCLK x4 for our ADC clock. This means that the FPGA is outputting a clock signal, and we aren't driving it.\n",
    "\n",
    "Other than these, the last interesting setting is the number of traces. By default, the capture software is ready to capture 5000 traces - many more than were required for software AES! It is difficult for us to measure the small power spikes from the Hamming distance on the last round: these signals are dwarfed by noise and the other operations on the chip. To deal with this small signal level, we need to capture many more traces."
   ]
  },
  {
   "cell_type": "markdown",
   "metadata": {},
   "source": [
    "## Capture Setup"
   ]
  },
  {
   "cell_type": "markdown",
   "metadata": {},
   "source": [
    "Setup is somewhat similar to other targets, except that we are using an external clock (driven from the FPGA). We'll also do the rest of the setup manually:"
   ]
  },
  {
   "cell_type": "code",
   "execution_count": 1,
   "metadata": {},
   "outputs": [],
   "source": [
    "import chipwhisperer as cw\n",
    "scope = cw.scope()\n",
    "scope.gain.db = 25\n",
    "scope.adc.samples = 129\n",
    "scope.adc.offset = 0\n",
    "scope.adc.basic_mode = \"rising_edge\"\n",
    "scope.trigger.triggers = \"tio4\"\n",
    "scope.io.tio1 = \"serial_rx\"\n",
    "scope.io.tio2 = \"serial_tx\"\n",
    "scope.io.hs2 = \"disabled\""
   ]
  },
  {
   "cell_type": "markdown",
   "metadata": {},
   "source": [
    "Before setting the ADC clock, we connect to the CW305 board. Here we'll need to specify our bitstream file to load as well as the usual scope and target_type arguments.\n",
    "\n",
    "Pick the correct bitfile for your CW305 board (e.g. either '35t' or '100t'). By setting `force=False`, the bitfile will only be programmed if the FPGA is uninitialized (e.g. after powering up). Change to `force=True` to always program the FPGA (e.g. if you have generated a new bitfile)."
   ]
  },
  {
   "cell_type": "code",
   "execution_count": 2,
   "metadata": {},
   "outputs": [],
   "source": [
    "target = cw.target(scope, cw.targets.CW305, fpga_id='35t', force=False)\n",
    "# target = cw.target(scope, cw.targets.CW305, fpga_id='100t', force=False)"
   ]
  },
  {
   "cell_type": "markdown",
   "metadata": {},
   "source": [
    "Next we set all the PLLs. We enable CW305's PLL1; this clock will feed both the target and the CW ADC. As explained [here](http://wiki.newae.com/Tutorial_CW305-1_Building_a_Project#Capture_Setup), **make sure the DIP switches on the CW305 board are set as follows**:\n",
    "- J16 = 0\n",
    "- K16 = 1"
   ]
  },
  {
   "cell_type": "code",
   "execution_count": 6,
   "metadata": {},
   "outputs": [],
   "source": [
    "target.vccint_set(1.0)\n",
    "# we only need PLL1:\n",
    "target.pll.pll_enable_set(True)\n",
    "target.pll.pll_outenable_set(False, 0)\n",
    "target.pll.pll_outenable_set(True, 1)\n",
    "target.pll.pll_outenable_set(False, 2)\n",
    "\n",
    "# run at 10 MHz:\n",
    "target.pll.pll_outfreq_set(10E6, 1)\n",
    "\n",
    "# 1ms is plenty of idling time\n",
    "target.clkusbautooff = True\n",
    "target.clksleeptime = 1"
   ]
  },
  {
   "cell_type": "markdown",
   "metadata": {},
   "source": [
    "CW-Husky requires a different setup when the ADC clock is driven by the target:"
   ]
  },
  {
   "cell_type": "code",
   "execution_count": 7,
   "metadata": {},
   "outputs": [],
   "source": [
    "if scope._is_husky:\n",
    "    scope.clock.clkgen_freq = 40e6\n",
    "    scope.clock.clkgen_src = 'extclk'\n",
    "    scope.clock.adc_mul = 4\n",
    "    # if the target PLL frequency is changed, the above must also be changed accordingly\n",
    "else:\n",
    "    scope.clock.adc_src = \"extclk_x4\""
   ]
  },
  {
   "cell_type": "markdown",
   "metadata": {},
   "source": [
    "Ensure the ADC clock is locked:"
   ]
  },
  {
   "cell_type": "code",
   "execution_count": 8,
   "metadata": {},
   "outputs": [],
   "source": [
    "scope.clock.reset_adc()\n",
    "assert (scope.clock.adc_locked), \"ADC failed to lock\""
   ]
  },
  {
   "cell_type": "markdown",
   "metadata": {},
   "source": [
    "Occasionally the ADC will fail to lock on the first try; when that happens, the above assertion will fail (and on the CW-Lite, the red LED will be on). Simply re-running the above cell again should fix things."
   ]
  },
  {
   "cell_type": "code",
   "execution_count": 9,
   "metadata": {},
   "outputs": [
    {
     "data": {
      "text/plain": [
       "cwlite Device\n",
       "sn         = 50203220313038543030393131313039\n",
       "fw_version = \n",
       "    major = 0\n",
       "    minor = 52\n",
       "    debug = 0\n",
       "gain = \n",
       "    mode = high\n",
       "    gain = 30\n",
       "    db   = 24.8359375\n",
       "adc = \n",
       "    state          = False\n",
       "    basic_mode     = rising_edge\n",
       "    timeout        = 2\n",
       "    offset         = 0\n",
       "    presamples     = 0\n",
       "    samples        = 129\n",
       "    decimate       = 1\n",
       "    trig_count     = 1001222\n",
       "    fifo_fill_mode = normal\n",
       "clock = \n",
       "    adc_src       = extclk_x4\n",
       "    adc_phase     = 0\n",
       "    adc_freq      = 40001392\n",
       "    adc_rate      = 40001392.0\n",
       "    adc_locked    = True\n",
       "    freq_ctr      = 10000350\n",
       "    freq_ctr_src  = extclk\n",
       "    clkgen_src    = system\n",
       "    extclk_freq   = 10000000\n",
       "    clkgen_mul    = 2\n",
       "    clkgen_div    = 1\n",
       "    clkgen_freq   = 192000000.0\n",
       "    clkgen_locked = True\n",
       "trigger = \n",
       "    triggers = tio4\n",
       "    module   = basic\n",
       "io = \n",
       "    tio1         = serial_rx\n",
       "    tio2         = serial_tx\n",
       "    tio3         = high_z\n",
       "    tio4         = high_z\n",
       "    pdid         = high_z\n",
       "    pdic         = high_z\n",
       "    nrst         = high_z\n",
       "    glitch_hp    = False\n",
       "    glitch_lp    = False\n",
       "    extclk_src   = hs1\n",
       "    hs2          = None\n",
       "    target_pwr   = True\n",
       "    tio_states   = (0, 1, 0, 0)\n",
       "    cdc_settings = bytearray(b'\\x01\\x00\\x00\\x00')\n",
       "glitch = \n",
       "    clk_src     = target\n",
       "    width       = 10.15625\n",
       "    width_fine  = 0\n",
       "    offset      = 10.15625\n",
       "    offset_fine = 0\n",
       "    trigger_src = manual\n",
       "    arm_timing  = after_scope\n",
       "    ext_offset  = 0\n",
       "    repeat      = 1\n",
       "    output      = clock_xor"
      ]
     },
     "execution_count": 9,
     "metadata": {},
     "output_type": "execute_result"
    }
   ],
   "source": [
    "scope"
   ]
  },
  {
   "cell_type": "markdown",
   "metadata": {},
   "source": [
    "## Trace Capture\n",
    "Below is the capture loop. The main body of the loop loads some new plaintext, arms the scope, sends the key and plaintext, then finally records and appends our new trace to the `traces[]` list.\n",
    "\n",
    "Because we're capturing 5000 traces, this takes a bit longer than the attacks against software AES implementations.\n",
    "\n",
    "Note that the encryption result is read from the target and compared to the expected results, as a sanity check."
   ]
  },
  {
   "cell_type": "code",
   "execution_count": 7,
   "metadata": {},
   "outputs": [
    {
     "data": {
      "application/vnd.jupyter.widget-view+json": {
       "model_id": "edc295b8d4da4d7c9ae153b5bbd0d1e9",
       "version_major": 2,
       "version_minor": 0
      },
      "text/plain": [
       "Capturing Traces from the Artix-FPGA:   0%|          | 0/5000 [00:00<?, ?it/s]"
      ]
     },
     "metadata": {},
     "output_type": "display_data"
    }
   ],
   "source": [
    "%run \"manual_FPGA_capture.ipynb\""
   ]
  },
  {
   "cell_type": "code",
   "execution_count": 10,
   "metadata": {},
   "outputs": [],
   "source": [
    "project_file = \"projects/Tutorial_HW_CW305_AES.cwp\"\n",
    "project = cw.create_project(project_file, overwrite=True)"
   ]
  },
  {
   "cell_type": "code",
   "execution_count": 11,
   "metadata": {},
   "outputs": [
    {
     "data": {
      "application/vnd.jupyter.widget-view+json": {
       "model_id": "8de3646ba4554fb9b3237143d3e7d9bf",
       "version_major": 2,
       "version_minor": 0
      },
      "text/plain": [
       "Capturing traces:   0%|          | 0/5000 [00:00<?, ?it/s]"
      ]
     },
     "metadata": {},
     "output_type": "display_data"
    }
   ],
   "source": [
    "from tqdm.notebook import trange\n",
    "import numpy as np\n",
    "import time\n",
    "from Crypto.Cipher import AES\n",
    "\n",
    "ktp = cw.ktp.Basic()\n",
    "\n",
    "traces = []\n",
    "textin = []\n",
    "keys = []\n",
    "N = 5000  # Number of traces\n",
    "\n",
    "# initialize cipher to verify DUT result:\n",
    "key, text = ktp.next()\n",
    "cipher = AES.new(bytes(key), AES.MODE_ECB)\n",
    "\n",
    "for i in trange(N, desc='Capturing traces'):\n",
    "    # run aux stuff that should come before trace here\n",
    "\n",
    "    key, text = ktp.next()  # manual creation of a key, text pair can be substituted here\n",
    "    textin.append(text)\n",
    "    keys.append(key)\n",
    "    \n",
    "    ret = cw.capture_trace(scope, target, text, key)\n",
    "    if not ret:\n",
    "        print(\"Failed capture\")\n",
    "        continue\n",
    "\n",
    "    assert (list(ret.textout) == list(cipher.encrypt(bytes(text)))), \"Incorrect encryption result!\\nGot {}\\nExp {}\\n\".format(ret.textout, list(cipher.encrypt(bytes(text))))\n",
    "    #trace += scope.getLastTrace()\n",
    "        \n",
    "    traces.append(ret.wave)\n",
    "    project.traces.append(ret)"
   ]
  },
  {
   "cell_type": "markdown",
   "metadata": {},
   "source": [
    "This shows how a captured trace can be plotted:"
   ]
  },
  {
   "cell_type": "code",
   "execution_count": 12,
   "metadata": {},
   "outputs": [
    {
     "data": {
      "text/html": [
       "\n",
       "    <div class=\"bk-root\">\n",
       "        <a href=\"https://bokeh.org\" target=\"_blank\" class=\"bk-logo bk-logo-small bk-logo-notebook\"></a>\n",
       "        <span id=\"1002\">Loading BokehJS ...</span>\n",
       "    </div>"
      ]
     },
     "metadata": {},
     "output_type": "display_data"
    },
    {
     "data": {
      "application/javascript": "\n(function(root) {\n  function now() {\n    return new Date();\n  }\n\n  const force = true;\n\n  if (typeof root._bokeh_onload_callbacks === \"undefined\" || force === true) {\n    root._bokeh_onload_callbacks = [];\n    root._bokeh_is_loading = undefined;\n  }\n\n  const JS_MIME_TYPE = 'application/javascript';\n  const HTML_MIME_TYPE = 'text/html';\n  const EXEC_MIME_TYPE = 'application/vnd.bokehjs_exec.v0+json';\n  const CLASS_NAME = 'output_bokeh rendered_html';\n\n  /**\n   * Render data to the DOM node\n   */\n  function render(props, node) {\n    const script = document.createElement(\"script\");\n    node.appendChild(script);\n  }\n\n  /**\n   * Handle when an output is cleared or removed\n   */\n  function handleClearOutput(event, handle) {\n    const cell = handle.cell;\n\n    const id = cell.output_area._bokeh_element_id;\n    const server_id = cell.output_area._bokeh_server_id;\n    // Clean up Bokeh references\n    if (id != null && id in Bokeh.index) {\n      Bokeh.index[id].model.document.clear();\n      delete Bokeh.index[id];\n    }\n\n    if (server_id !== undefined) {\n      // Clean up Bokeh references\n      const cmd_clean = \"from bokeh.io.state import curstate; print(curstate().uuid_to_server['\" + server_id + \"'].get_sessions()[0].document.roots[0]._id)\";\n      cell.notebook.kernel.execute(cmd_clean, {\n        iopub: {\n          output: function(msg) {\n            const id = msg.content.text.trim();\n            if (id in Bokeh.index) {\n              Bokeh.index[id].model.document.clear();\n              delete Bokeh.index[id];\n            }\n          }\n        }\n      });\n      // Destroy server and session\n      const cmd_destroy = \"import bokeh.io.notebook as ion; ion.destroy_server('\" + server_id + \"')\";\n      cell.notebook.kernel.execute(cmd_destroy);\n    }\n  }\n\n  /**\n   * Handle when a new output is added\n   */\n  function handleAddOutput(event, handle) {\n    const output_area = handle.output_area;\n    const output = handle.output;\n\n    // limit handleAddOutput to display_data with EXEC_MIME_TYPE content only\n    if ((output.output_type != \"display_data\") || (!Object.prototype.hasOwnProperty.call(output.data, EXEC_MIME_TYPE))) {\n      return\n    }\n\n    const toinsert = output_area.element.find(\".\" + CLASS_NAME.split(' ')[0]);\n\n    if (output.metadata[EXEC_MIME_TYPE][\"id\"] !== undefined) {\n      toinsert[toinsert.length - 1].firstChild.textContent = output.data[JS_MIME_TYPE];\n      // store reference to embed id on output_area\n      output_area._bokeh_element_id = output.metadata[EXEC_MIME_TYPE][\"id\"];\n    }\n    if (output.metadata[EXEC_MIME_TYPE][\"server_id\"] !== undefined) {\n      const bk_div = document.createElement(\"div\");\n      bk_div.innerHTML = output.data[HTML_MIME_TYPE];\n      const script_attrs = bk_div.children[0].attributes;\n      for (let i = 0; i < script_attrs.length; i++) {\n        toinsert[toinsert.length - 1].firstChild.setAttribute(script_attrs[i].name, script_attrs[i].value);\n        toinsert[toinsert.length - 1].firstChild.textContent = bk_div.children[0].textContent\n      }\n      // store reference to server id on output_area\n      output_area._bokeh_server_id = output.metadata[EXEC_MIME_TYPE][\"server_id\"];\n    }\n  }\n\n  function register_renderer(events, OutputArea) {\n\n    function append_mime(data, metadata, element) {\n      // create a DOM node to render to\n      const toinsert = this.create_output_subarea(\n        metadata,\n        CLASS_NAME,\n        EXEC_MIME_TYPE\n      );\n      this.keyboard_manager.register_events(toinsert);\n      // Render to node\n      const props = {data: data, metadata: metadata[EXEC_MIME_TYPE]};\n      render(props, toinsert[toinsert.length - 1]);\n      element.append(toinsert);\n      return toinsert\n    }\n\n    /* Handle when an output is cleared or removed */\n    events.on('clear_output.CodeCell', handleClearOutput);\n    events.on('delete.Cell', handleClearOutput);\n\n    /* Handle when a new output is added */\n    events.on('output_added.OutputArea', handleAddOutput);\n\n    /**\n     * Register the mime type and append_mime function with output_area\n     */\n    OutputArea.prototype.register_mime_type(EXEC_MIME_TYPE, append_mime, {\n      /* Is output safe? */\n      safe: true,\n      /* Index of renderer in `output_area.display_order` */\n      index: 0\n    });\n  }\n\n  // register the mime type if in Jupyter Notebook environment and previously unregistered\n  if (root.Jupyter !== undefined) {\n    const events = require('base/js/events');\n    const OutputArea = require('notebook/js/outputarea').OutputArea;\n\n    if (OutputArea.prototype.mime_types().indexOf(EXEC_MIME_TYPE) == -1) {\n      register_renderer(events, OutputArea);\n    }\n  }\n\n  \n  if (typeof (root._bokeh_timeout) === \"undefined\" || force === true) {\n    root._bokeh_timeout = Date.now() + 5000;\n    root._bokeh_failed_load = false;\n  }\n\n  const NB_LOAD_WARNING = {'data': {'text/html':\n     \"<div style='background-color: #fdd'>\\n\"+\n     \"<p>\\n\"+\n     \"BokehJS does not appear to have successfully loaded. If loading BokehJS from CDN, this \\n\"+\n     \"may be due to a slow or bad network connection. Possible fixes:\\n\"+\n     \"</p>\\n\"+\n     \"<ul>\\n\"+\n     \"<li>re-rerun `output_notebook()` to attempt to load from CDN again, or</li>\\n\"+\n     \"<li>use INLINE resources instead, as so:</li>\\n\"+\n     \"</ul>\\n\"+\n     \"<code>\\n\"+\n     \"from bokeh.resources import INLINE\\n\"+\n     \"output_notebook(resources=INLINE)\\n\"+\n     \"</code>\\n\"+\n     \"</div>\"}};\n\n  function display_loaded() {\n    const el = document.getElementById(\"1002\");\n    if (el != null) {\n      el.textContent = \"BokehJS is loading...\";\n    }\n    if (root.Bokeh !== undefined) {\n      if (el != null) {\n        el.textContent = \"BokehJS \" + root.Bokeh.version + \" successfully loaded.\";\n      }\n    } else if (Date.now() < root._bokeh_timeout) {\n      setTimeout(display_loaded, 100)\n    }\n  }\n\n\n  function run_callbacks() {\n    try {\n      root._bokeh_onload_callbacks.forEach(function(callback) {\n        if (callback != null)\n          callback();\n      });\n    } finally {\n      delete root._bokeh_onload_callbacks\n    }\n    console.debug(\"Bokeh: all callbacks have finished\");\n  }\n\n  function load_libs(css_urls, js_urls, callback) {\n    if (css_urls == null) css_urls = [];\n    if (js_urls == null) js_urls = [];\n\n    root._bokeh_onload_callbacks.push(callback);\n    if (root._bokeh_is_loading > 0) {\n      console.debug(\"Bokeh: BokehJS is being loaded, scheduling callback at\", now());\n      return null;\n    }\n    if (js_urls == null || js_urls.length === 0) {\n      run_callbacks();\n      return null;\n    }\n    console.debug(\"Bokeh: BokehJS not loaded, scheduling load and callback at\", now());\n    root._bokeh_is_loading = css_urls.length + js_urls.length;\n\n    function on_load() {\n      root._bokeh_is_loading--;\n      if (root._bokeh_is_loading === 0) {\n        console.debug(\"Bokeh: all BokehJS libraries/stylesheets loaded\");\n        run_callbacks()\n      }\n    }\n\n    function on_error(url) {\n      console.error(\"failed to load \" + url);\n    }\n\n    for (let i = 0; i < css_urls.length; i++) {\n      const url = css_urls[i];\n      const element = document.createElement(\"link\");\n      element.onload = on_load;\n      element.onerror = on_error.bind(null, url);\n      element.rel = \"stylesheet\";\n      element.type = \"text/css\";\n      element.href = url;\n      console.debug(\"Bokeh: injecting link tag for BokehJS stylesheet: \", url);\n      document.body.appendChild(element);\n    }\n\n    for (let i = 0; i < js_urls.length; i++) {\n      const url = js_urls[i];\n      const element = document.createElement('script');\n      element.onload = on_load;\n      element.onerror = on_error.bind(null, url);\n      element.async = false;\n      element.src = url;\n      console.debug(\"Bokeh: injecting script tag for BokehJS library: \", url);\n      document.head.appendChild(element);\n    }\n  };\n\n  function inject_raw_css(css) {\n    const element = document.createElement(\"style\");\n    element.appendChild(document.createTextNode(css));\n    document.body.appendChild(element);\n  }\n\n  \n  const js_urls = [\"https://cdn.bokeh.org/bokeh/release/bokeh-2.4.1.min.js\", \"https://cdn.bokeh.org/bokeh/release/bokeh-gl-2.4.1.min.js\", \"https://cdn.bokeh.org/bokeh/release/bokeh-widgets-2.4.1.min.js\", \"https://cdn.bokeh.org/bokeh/release/bokeh-tables-2.4.1.min.js\", \"https://cdn.bokeh.org/bokeh/release/bokeh-mathjax-2.4.1.min.js\"];\n  const css_urls = [];\n  \n\n  const inline_js = [\n    function(Bokeh) {\n      Bokeh.set_log_level(\"info\");\n    },\n    function(Bokeh) {\n    \n    \n    }\n  ];\n\n  function run_inline_js() {\n    \n    if (root.Bokeh !== undefined || force === true) {\n      \n    for (let i = 0; i < inline_js.length; i++) {\n      inline_js[i].call(root, root.Bokeh);\n    }\n    if (force === true) {\n        display_loaded();\n      }} else if (Date.now() < root._bokeh_timeout) {\n      setTimeout(run_inline_js, 100);\n    } else if (!root._bokeh_failed_load) {\n      console.log(\"Bokeh: BokehJS failed to load within specified timeout.\");\n      root._bokeh_failed_load = true;\n    } else if (force !== true) {\n      const cell = $(document.getElementById(\"1002\")).parents('.cell').data().cell;\n      cell.output_area.append_execute_result(NB_LOAD_WARNING)\n    }\n\n  }\n\n  if (root._bokeh_is_loading === 0) {\n    console.debug(\"Bokeh: BokehJS loaded, going straight to plotting\");\n    run_inline_js();\n  } else {\n    load_libs(css_urls, js_urls, function() {\n      console.debug(\"Bokeh: BokehJS plotting callback run at\", now());\n      run_inline_js();\n    });\n  }\n}(window));",
      "application/vnd.bokehjs_load.v0+json": ""
     },
     "metadata": {},
     "output_type": "display_data"
    },
    {
     "data": {
      "text/html": [
       "\n",
       "\n",
       "\n",
       "\n",
       "\n",
       "\n",
       "  <div class=\"bk-root\" id=\"cfaa0752-9579-4c25-98ee-a53dd03f1da7\" data-root-id=\"1003\"></div>\n"
      ]
     },
     "metadata": {},
     "output_type": "display_data"
    },
    {
     "data": {
      "application/javascript": "(function(root) {\n  function embed_document(root) {\n    \n  const docs_json = {\"b50f1886-7ea4-4ab9-89da-1b1f8aed427f\":{\"defs\":[],\"roots\":{\"references\":[{\"attributes\":{\"below\":[{\"id\":\"1012\"}],\"center\":[{\"id\":\"1015\"},{\"id\":\"1019\"}],\"left\":[{\"id\":\"1016\"}],\"renderers\":[{\"id\":\"1038\"}],\"title\":{\"id\":\"1040\"},\"toolbar\":{\"id\":\"1027\"},\"width\":800,\"x_range\":{\"id\":\"1004\"},\"x_scale\":{\"id\":\"1008\"},\"y_range\":{\"id\":\"1006\"},\"y_scale\":{\"id\":\"1010\"}},\"id\":\"1003\",\"subtype\":\"Figure\",\"type\":\"Plot\"},{\"attributes\":{\"source\":{\"id\":\"1034\"}},\"id\":\"1039\",\"type\":\"CDSView\"},{\"attributes\":{\"axis\":{\"id\":\"1012\"},\"coordinates\":null,\"group\":null,\"ticker\":null},\"id\":\"1015\",\"type\":\"Grid\"},{\"attributes\":{\"data\":{\"x\":[0,1,2,3,4,5,6,7,8,9,10,11,12,13,14,15,16,17,18,19,20,21,22,23,24,25,26,27,28,29,30,31,32,33,34,35,36,37,38,39,40,41,42,43,44,45,46,47,48,49,50,51,52,53,54,55,56,57,58,59,60,61,62,63,64,65,66,67,68,69,70,71,72,73,74,75,76,77,78,79,80,81,82,83,84,85,86,87,88,89,90,91,92,93,94,95,96,97,98,99,100,101,102,103,104,105,106,107,108,109,110,111,112,113,114,115,116,117,118,119,120,121,122,123,124,125,126,127,128],\"y\":{\"__ndarray__\":\"AAAAAACAoT8AAAAAAACkvwAAAAAAAJ6/AAAAAAAAfL8AAAAAAACbPwAAAAAAoMW/AAAAAACAxb8AAAAAAIC4vwAAAAAAAJS/AAAAAABAyb8AAAAAAGDIvwAAAAAAwLq/AAAAAAAAkL8AAAAAACDLvwAAAAAAAMq/AAAAAACAu78AAAAAAACSvwAAAAAAYMe/AAAAAADgxb8AAAAAAAC1vwAAAAAAAGi/AAAAAACgyb8AAAAAACDIvwAAAAAAQLi/AAAAAAAAiL8AAAAAAIDJvwAAAAAA4Me/AAAAAACAuL8AAAAAAACEvwAAAAAAQMe/AAAAAADgxb8AAAAAAMC1vwAAAAAAAFC/AAAAAABAxr8AAAAAAMDFvwAAAAAAwLS/AAAAAAAAYD8AAAAAAGDGvwAAAAAAQMa/AAAAAAAAtb8AAAAAAAB0PwAAAAAA4Me/AAAAAABgx78AAAAAAIC1vwAAAAAAAHA/AAAAAABAw78AAAAAAGDBvwAAAAAAAKy/AAAAAAAAkj8AAAAAAIDEvwAAAAAAYMW/AAAAAADAs78AAAAAAABwPwAAAAAAAJ2/AAAAAAAAgL8AAAAAAACXPwAAAAAAALA/AAAAAAAAhD8AAAAAAACAPwAAAAAAAJ4/AAAAAAAAsT8AAAAAAAB0PwAAAAAAAGA/AAAAAAAAnT8AAAAAAACwPwAAAAAAAHQ/AAAAAAAAdD8AAAAAAACfPwAAAAAAgK8/AAAAAAAAYD8AAAAAAABoPwAAAAAAAJw/AAAAAAAArT8AAAAAAABoPwAAAAAAAHw/AAAAAAAAmj8AAAAAAICuPwAAAAAAAIo/AAAAAAAAiD8AAAAAAICgPwAAAAAAgLA/AAAAAAAAeL8AAAAAAAB4vwAAAAAAAJk/AAAAAACArD8AAAAAAABQvwAAAAAAAIA/AAAAAAAAnT8AAAAAAACuPwAAAAAAAHS/AAAAAAAAAAAAAAAAAACXPwAAAAAAgKs/AAAAAAAAhD8AAAAAAACMPwAAAAAAAKA/AAAAAAAArz8AAAAAAAB0PwAAAAAAAHA/AAAAAAAAnD8AAAAAAICuPwAAAAAAAIa/AAAAAAAAhL8AAAAAAACVPwAAAAAAgKo/AAAAAAAAjr8AAAAAAACEvwAAAAAAAJM/AAAAAAAAqj8AAAAAAACCvwAAAAAAAHS/AAAAAAAAkj8AAAAAAICqPwAAAAAAAFC/AAAAAAAAcD8AAAAAAACXPwAAAAAAAKw/AAAAAAAAcL8AAAAAAABovwAAAAAAAJU/AAAAAACArD8AAAAAAACAvwAAAAAAAHy/AAAAAAAAkj8AAAAAAACqPwAAAAAAAIy/AAAAAAAAdL8AAAAAAACUPwAAAAAAgKk/\",\"dtype\":\"float64\",\"order\":\"little\",\"shape\":[129]}},\"selected\":{\"id\":\"1049\"},\"selection_policy\":{\"id\":\"1048\"}},\"id\":\"1034\",\"type\":\"ColumnDataSource\"},{\"attributes\":{},\"id\":\"1025\",\"type\":\"HelpTool\"},{\"attributes\":{\"line_alpha\":0.1,\"line_color\":\"red\",\"x\":{\"field\":\"x\"},\"y\":{\"field\":\"y\"}},\"id\":\"1036\",\"type\":\"Line\"},{\"attributes\":{},\"id\":\"1049\",\"type\":\"Selection\"},{\"attributes\":{\"bottom_units\":\"screen\",\"coordinates\":null,\"fill_alpha\":0.5,\"fill_color\":\"lightgrey\",\"group\":null,\"left_units\":\"screen\",\"level\":\"overlay\",\"line_alpha\":1.0,\"line_color\":\"black\",\"line_dash\":[4,4],\"line_width\":2,\"right_units\":\"screen\",\"syncable\":false,\"top_units\":\"screen\"},\"id\":\"1026\",\"type\":\"BoxAnnotation\"},{\"attributes\":{},\"id\":\"1004\",\"type\":\"DataRange1d\"},{\"attributes\":{},\"id\":\"1013\",\"type\":\"BasicTicker\"},{\"attributes\":{},\"id\":\"1017\",\"type\":\"BasicTicker\"},{\"attributes\":{},\"id\":\"1044\",\"type\":\"AllLabels\"},{\"attributes\":{},\"id\":\"1006\",\"type\":\"DataRange1d\"},{\"attributes\":{\"axis\":{\"id\":\"1016\"},\"coordinates\":null,\"dimension\":1,\"group\":null,\"ticker\":null},\"id\":\"1019\",\"type\":\"Grid\"},{\"attributes\":{\"coordinates\":null,\"formatter\":{\"id\":\"1043\"},\"group\":null,\"major_label_policy\":{\"id\":\"1044\"},\"ticker\":{\"id\":\"1017\"}},\"id\":\"1016\",\"type\":\"LinearAxis\"},{\"attributes\":{},\"id\":\"1046\",\"type\":\"BasicTickFormatter\"},{\"attributes\":{\"coordinates\":null,\"data_source\":{\"id\":\"1034\"},\"glyph\":{\"id\":\"1035\"},\"group\":null,\"hover_glyph\":null,\"muted_glyph\":{\"id\":\"1037\"},\"nonselection_glyph\":{\"id\":\"1036\"},\"view\":{\"id\":\"1039\"}},\"id\":\"1038\",\"type\":\"GlyphRenderer\"},{\"attributes\":{},\"id\":\"1047\",\"type\":\"AllLabels\"},{\"attributes\":{},\"id\":\"1010\",\"type\":\"LinearScale\"},{\"attributes\":{},\"id\":\"1043\",\"type\":\"BasicTickFormatter\"},{\"attributes\":{},\"id\":\"1048\",\"type\":\"UnionRenderers\"},{\"attributes\":{\"coordinates\":null,\"formatter\":{\"id\":\"1046\"},\"group\":null,\"major_label_policy\":{\"id\":\"1047\"},\"ticker\":{\"id\":\"1013\"}},\"id\":\"1012\",\"type\":\"LinearAxis\"},{\"attributes\":{\"line_alpha\":0.2,\"line_color\":\"red\",\"x\":{\"field\":\"x\"},\"y\":{\"field\":\"y\"}},\"id\":\"1037\",\"type\":\"Line\"},{\"attributes\":{\"tools\":[{\"id\":\"1020\"},{\"id\":\"1021\"},{\"id\":\"1022\"},{\"id\":\"1023\"},{\"id\":\"1024\"},{\"id\":\"1025\"}]},\"id\":\"1027\",\"type\":\"Toolbar\"},{\"attributes\":{\"line_color\":\"red\",\"x\":{\"field\":\"x\"},\"y\":{\"field\":\"y\"}},\"id\":\"1035\",\"type\":\"Line\"},{\"attributes\":{},\"id\":\"1020\",\"type\":\"PanTool\"},{\"attributes\":{},\"id\":\"1021\",\"type\":\"WheelZoomTool\"},{\"attributes\":{},\"id\":\"1008\",\"type\":\"LinearScale\"},{\"attributes\":{\"overlay\":{\"id\":\"1026\"}},\"id\":\"1022\",\"type\":\"BoxZoomTool\"},{\"attributes\":{},\"id\":\"1023\",\"type\":\"SaveTool\"},{\"attributes\":{},\"id\":\"1024\",\"type\":\"ResetTool\"},{\"attributes\":{\"coordinates\":null,\"group\":null},\"id\":\"1040\",\"type\":\"Title\"}],\"root_ids\":[\"1003\"]},\"title\":\"Bokeh Application\",\"version\":\"2.4.1\"}};\n  const render_items = [{\"docid\":\"b50f1886-7ea4-4ab9-89da-1b1f8aed427f\",\"root_ids\":[\"1003\"],\"roots\":{\"1003\":\"cfaa0752-9579-4c25-98ee-a53dd03f1da7\"}}];\n  root.Bokeh.embed.embed_items_notebook(docs_json, render_items);\n\n  }\n  if (root.Bokeh !== undefined) {\n    embed_document(root);\n  } else {\n    let attempts = 0;\n    const timer = setInterval(function(root) {\n      if (root.Bokeh !== undefined) {\n        clearInterval(timer);\n        embed_document(root);\n      } else {\n        attempts++;\n        if (attempts > 100) {\n          clearInterval(timer);\n          console.log(\"Bokeh: ERROR: Unable to run BokehJS code because BokehJS library is missing\");\n        }\n      }\n    }, 10, root)\n  }\n})(window);",
      "application/vnd.bokehjs_exec.v0+json": ""
     },
     "metadata": {
      "application/vnd.bokehjs_exec.v0+json": {
       "id": "1003"
      }
     },
     "output_type": "display_data"
    }
   ],
   "source": [
    "from bokeh.plotting import figure, show\n",
    "from bokeh.io import output_notebook\n",
    "\n",
    "output_notebook()\n",
    "p = figure(plot_width=800)\n",
    "\n",
    "xrange = range(len(project.waves[0]))\n",
    "p.line(xrange, project.waves[0], line_color=\"red\")\n",
    "show(p)"
   ]
  },
  {
   "cell_type": "markdown",
   "metadata": {},
   "source": [
    "Finally we save our traces and disconnect. By saving the traces, the attack can be repeated in the future without having to repeat the trace acquisition steps above."
   ]
  },
  {
   "cell_type": "code",
   "execution_count": 14,
   "metadata": {},
   "outputs": [
    {
     "name": "stderr",
     "output_type": "stream",
     "text": [
      "ERROR:ChipWhisperer Scope:Scope already disconnected!\n"
     ]
    }
   ],
   "source": [
    "project.save()\n",
    "scope.dis()\n",
    "target.dis()"
   ]
  },
  {
   "cell_type": "markdown",
   "metadata": {},
   "source": [
    "## Attack\n",
    "Now we re-open our saved project and specify the attack parameters. For this hardware AES implementation, we use a different leakage model and attack than what is used for the software AES implementations.\n",
    "\n",
    "Note that this attack requires only the ciphertext, not the plaintext."
   ]
  },
  {
   "cell_type": "code",
   "execution_count": 1,
   "metadata": {},
   "outputs": [],
   "source": [
    "import chipwhisperer as cw\n",
    "import chipwhisperer.analyzer as cwa\n",
    "project_file = \"projects/Tutorial_HW_CW305_AES\"\n",
    "# project_file = \"projects/manual_capture_AES\"\n",
    "project = cw.open_project(project_file)"
   ]
  },
  {
   "cell_type": "code",
   "execution_count": 2,
   "metadata": {},
   "outputs": [],
   "source": [
    "attack = cwa.cpa(project, cwa.leakage_models.last_round_state_diff)\n",
    "cb = cwa.get_jupyter_callback(attack)"
   ]
  },
  {
   "cell_type": "markdown",
   "metadata": {},
   "source": [
    "This runs the attack:"
   ]
  },
  {
   "cell_type": "code",
   "execution_count": 3,
   "metadata": {},
   "outputs": [
    {
     "data": {
      "text/html": [
       "<style type=\"text/css\">\n",
       "#T_793ca_row1_col0, #T_793ca_row1_col1, #T_793ca_row1_col2, #T_793ca_row1_col3, #T_793ca_row1_col4, #T_793ca_row1_col5, #T_793ca_row1_col6, #T_793ca_row1_col7, #T_793ca_row1_col8, #T_793ca_row1_col9, #T_793ca_row1_col10, #T_793ca_row1_col11, #T_793ca_row1_col12, #T_793ca_row1_col13, #T_793ca_row1_col14, #T_793ca_row1_col15 {\n",
       "  color: red;\n",
       "}\n",
       "</style>\n",
       "<table id=\"T_793ca_\">\n",
       "  <caption>Finished traces 4000 to 5000</caption>\n",
       "  <thead>\n",
       "    <tr>\n",
       "      <th class=\"blank level0\" >&nbsp;</th>\n",
       "      <th class=\"col_heading level0 col0\" >0</th>\n",
       "      <th class=\"col_heading level0 col1\" >1</th>\n",
       "      <th class=\"col_heading level0 col2\" >2</th>\n",
       "      <th class=\"col_heading level0 col3\" >3</th>\n",
       "      <th class=\"col_heading level0 col4\" >4</th>\n",
       "      <th class=\"col_heading level0 col5\" >5</th>\n",
       "      <th class=\"col_heading level0 col6\" >6</th>\n",
       "      <th class=\"col_heading level0 col7\" >7</th>\n",
       "      <th class=\"col_heading level0 col8\" >8</th>\n",
       "      <th class=\"col_heading level0 col9\" >9</th>\n",
       "      <th class=\"col_heading level0 col10\" >10</th>\n",
       "      <th class=\"col_heading level0 col11\" >11</th>\n",
       "      <th class=\"col_heading level0 col12\" >12</th>\n",
       "      <th class=\"col_heading level0 col13\" >13</th>\n",
       "      <th class=\"col_heading level0 col14\" >14</th>\n",
       "      <th class=\"col_heading level0 col15\" >15</th>\n",
       "    </tr>\n",
       "  </thead>\n",
       "  <tbody>\n",
       "    <tr>\n",
       "      <th id=\"T_793ca_level0_row0\" class=\"row_heading level0 row0\" >PGE=</th>\n",
       "      <td id=\"T_793ca_row0_col0\" class=\"data row0 col0\" >0</td>\n",
       "      <td id=\"T_793ca_row0_col1\" class=\"data row0 col1\" >0</td>\n",
       "      <td id=\"T_793ca_row0_col2\" class=\"data row0 col2\" >0</td>\n",
       "      <td id=\"T_793ca_row0_col3\" class=\"data row0 col3\" >0</td>\n",
       "      <td id=\"T_793ca_row0_col4\" class=\"data row0 col4\" >0</td>\n",
       "      <td id=\"T_793ca_row0_col5\" class=\"data row0 col5\" >0</td>\n",
       "      <td id=\"T_793ca_row0_col6\" class=\"data row0 col6\" >0</td>\n",
       "      <td id=\"T_793ca_row0_col7\" class=\"data row0 col7\" >0</td>\n",
       "      <td id=\"T_793ca_row0_col8\" class=\"data row0 col8\" >0</td>\n",
       "      <td id=\"T_793ca_row0_col9\" class=\"data row0 col9\" >0</td>\n",
       "      <td id=\"T_793ca_row0_col10\" class=\"data row0 col10\" >0</td>\n",
       "      <td id=\"T_793ca_row0_col11\" class=\"data row0 col11\" >0</td>\n",
       "      <td id=\"T_793ca_row0_col12\" class=\"data row0 col12\" >0</td>\n",
       "      <td id=\"T_793ca_row0_col13\" class=\"data row0 col13\" >0</td>\n",
       "      <td id=\"T_793ca_row0_col14\" class=\"data row0 col14\" >0</td>\n",
       "      <td id=\"T_793ca_row0_col15\" class=\"data row0 col15\" >0</td>\n",
       "    </tr>\n",
       "    <tr>\n",
       "      <th id=\"T_793ca_level0_row1\" class=\"row_heading level0 row1\" >0</th>\n",
       "      <td id=\"T_793ca_row1_col0\" class=\"data row1 col0\" >D0<br>0.195</td>\n",
       "      <td id=\"T_793ca_row1_col1\" class=\"data row1 col1\" >14<br>0.218</td>\n",
       "      <td id=\"T_793ca_row1_col2\" class=\"data row1 col2\" >F9<br>0.237</td>\n",
       "      <td id=\"T_793ca_row1_col3\" class=\"data row1 col3\" >A8<br>0.175</td>\n",
       "      <td id=\"T_793ca_row1_col4\" class=\"data row1 col4\" >C9<br>0.202</td>\n",
       "      <td id=\"T_793ca_row1_col5\" class=\"data row1 col5\" >EE<br>0.220</td>\n",
       "      <td id=\"T_793ca_row1_col6\" class=\"data row1 col6\" >25<br>0.196</td>\n",
       "      <td id=\"T_793ca_row1_col7\" class=\"data row1 col7\" >89<br>0.202</td>\n",
       "      <td id=\"T_793ca_row1_col8\" class=\"data row1 col8\" >E1<br>0.208</td>\n",
       "      <td id=\"T_793ca_row1_col9\" class=\"data row1 col9\" >3F<br>0.230</td>\n",
       "      <td id=\"T_793ca_row1_col10\" class=\"data row1 col10\" >0C<br>0.193</td>\n",
       "      <td id=\"T_793ca_row1_col11\" class=\"data row1 col11\" >C8<br>0.214</td>\n",
       "      <td id=\"T_793ca_row1_col12\" class=\"data row1 col12\" >B6<br>0.250</td>\n",
       "      <td id=\"T_793ca_row1_col13\" class=\"data row1 col13\" >63<br>0.209</td>\n",
       "      <td id=\"T_793ca_row1_col14\" class=\"data row1 col14\" >0C<br>0.221</td>\n",
       "      <td id=\"T_793ca_row1_col15\" class=\"data row1 col15\" >A6<br>0.245</td>\n",
       "    </tr>\n",
       "    <tr>\n",
       "      <th id=\"T_793ca_level0_row2\" class=\"row_heading level0 row2\" >1</th>\n",
       "      <td id=\"T_793ca_row2_col0\" class=\"data row2 col0\" >7C<br>0.057</td>\n",
       "      <td id=\"T_793ca_row2_col1\" class=\"data row2 col1\" >03<br>0.057</td>\n",
       "      <td id=\"T_793ca_row2_col2\" class=\"data row2 col2\" >00<br>0.061</td>\n",
       "      <td id=\"T_793ca_row2_col3\" class=\"data row2 col3\" >19<br>0.051</td>\n",
       "      <td id=\"T_793ca_row2_col4\" class=\"data row2 col4\" >C8<br>0.060</td>\n",
       "      <td id=\"T_793ca_row2_col5\" class=\"data row2 col5\" >67<br>0.058</td>\n",
       "      <td id=\"T_793ca_row2_col6\" class=\"data row2 col6\" >91<br>0.051</td>\n",
       "      <td id=\"T_793ca_row2_col7\" class=\"data row2 col7\" >E8<br>0.057</td>\n",
       "      <td id=\"T_793ca_row2_col8\" class=\"data row2 col8\" >DF<br>0.063</td>\n",
       "      <td id=\"T_793ca_row2_col9\" class=\"data row2 col9\" >36<br>0.053</td>\n",
       "      <td id=\"T_793ca_row2_col10\" class=\"data row2 col10\" >8A<br>0.059</td>\n",
       "      <td id=\"T_793ca_row2_col11\" class=\"data row2 col11\" >73<br>0.056</td>\n",
       "      <td id=\"T_793ca_row2_col12\" class=\"data row2 col12\" >C9<br>0.070</td>\n",
       "      <td id=\"T_793ca_row2_col13\" class=\"data row2 col13\" >9C<br>0.060</td>\n",
       "      <td id=\"T_793ca_row2_col14\" class=\"data row2 col14\" >C4<br>0.057</td>\n",
       "      <td id=\"T_793ca_row2_col15\" class=\"data row2 col15\" >DE<br>0.059</td>\n",
       "    </tr>\n",
       "    <tr>\n",
       "      <th id=\"T_793ca_level0_row3\" class=\"row_heading level0 row3\" >2</th>\n",
       "      <td id=\"T_793ca_row3_col0\" class=\"data row3 col0\" >DC<br>0.053</td>\n",
       "      <td id=\"T_793ca_row3_col1\" class=\"data row3 col1\" >08<br>0.055</td>\n",
       "      <td id=\"T_793ca_row3_col2\" class=\"data row3 col2\" >78<br>0.057</td>\n",
       "      <td id=\"T_793ca_row3_col3\" class=\"data row3 col3\" >36<br>0.051</td>\n",
       "      <td id=\"T_793ca_row3_col4\" class=\"data row3 col4\" >48<br>0.057</td>\n",
       "      <td id=\"T_793ca_row3_col5\" class=\"data row3 col5\" >CD<br>0.058</td>\n",
       "      <td id=\"T_793ca_row3_col6\" class=\"data row3 col6\" >3C<br>0.049</td>\n",
       "      <td id=\"T_793ca_row3_col7\" class=\"data row3 col7\" >D7<br>0.057</td>\n",
       "      <td id=\"T_793ca_row3_col8\" class=\"data row3 col8\" >2A<br>0.060</td>\n",
       "      <td id=\"T_793ca_row3_col9\" class=\"data row3 col9\" >BB<br>0.052</td>\n",
       "      <td id=\"T_793ca_row3_col10\" class=\"data row3 col10\" >EB<br>0.057</td>\n",
       "      <td id=\"T_793ca_row3_col11\" class=\"data row3 col11\" >DA<br>0.054</td>\n",
       "      <td id=\"T_793ca_row3_col12\" class=\"data row3 col12\" >8B<br>0.063</td>\n",
       "      <td id=\"T_793ca_row3_col13\" class=\"data row3 col13\" >B5<br>0.053</td>\n",
       "      <td id=\"T_793ca_row3_col14\" class=\"data row3 col14\" >74<br>0.054</td>\n",
       "      <td id=\"T_793ca_row3_col15\" class=\"data row3 col15\" >66<br>0.056</td>\n",
       "    </tr>\n",
       "    <tr>\n",
       "      <th id=\"T_793ca_level0_row4\" class=\"row_heading level0 row4\" >3</th>\n",
       "      <td id=\"T_793ca_row4_col0\" class=\"data row4 col0\" >F8<br>0.051</td>\n",
       "      <td id=\"T_793ca_row4_col1\" class=\"data row4 col1\" >64<br>0.055</td>\n",
       "      <td id=\"T_793ca_row4_col2\" class=\"data row4 col2\" >02<br>0.056</td>\n",
       "      <td id=\"T_793ca_row4_col3\" class=\"data row4 col3\" >14<br>0.050</td>\n",
       "      <td id=\"T_793ca_row4_col4\" class=\"data row4 col4\" >E3<br>0.052</td>\n",
       "      <td id=\"T_793ca_row4_col5\" class=\"data row4 col5\" >24<br>0.057</td>\n",
       "      <td id=\"T_793ca_row4_col6\" class=\"data row4 col6\" >2A<br>0.049</td>\n",
       "      <td id=\"T_793ca_row4_col7\" class=\"data row4 col7\" >F9<br>0.057</td>\n",
       "      <td id=\"T_793ca_row4_col8\" class=\"data row4 col8\" >04<br>0.054</td>\n",
       "      <td id=\"T_793ca_row4_col9\" class=\"data row4 col9\" >56<br>0.051</td>\n",
       "      <td id=\"T_793ca_row4_col10\" class=\"data row4 col10\" >3A<br>0.052</td>\n",
       "      <td id=\"T_793ca_row4_col11\" class=\"data row4 col11\" >90<br>0.053</td>\n",
       "      <td id=\"T_793ca_row4_col12\" class=\"data row4 col12\" >E6<br>0.063</td>\n",
       "      <td id=\"T_793ca_row4_col13\" class=\"data row4 col13\" >87<br>0.053</td>\n",
       "      <td id=\"T_793ca_row4_col14\" class=\"data row4 col14\" >73<br>0.053</td>\n",
       "      <td id=\"T_793ca_row4_col15\" class=\"data row4 col15\" >CC<br>0.053</td>\n",
       "    </tr>\n",
       "    <tr>\n",
       "      <th id=\"T_793ca_level0_row5\" class=\"row_heading level0 row5\" >4</th>\n",
       "      <td id=\"T_793ca_row5_col0\" class=\"data row5 col0\" >50<br>0.051</td>\n",
       "      <td id=\"T_793ca_row5_col1\" class=\"data row5 col1\" >83<br>0.054</td>\n",
       "      <td id=\"T_793ca_row5_col2\" class=\"data row5 col2\" >C4<br>0.055</td>\n",
       "      <td id=\"T_793ca_row5_col3\" class=\"data row5 col3\" >70<br>0.049</td>\n",
       "      <td id=\"T_793ca_row5_col4\" class=\"data row5 col4\" >7E<br>0.052</td>\n",
       "      <td id=\"T_793ca_row5_col5\" class=\"data row5 col5\" >F7<br>0.054</td>\n",
       "      <td id=\"T_793ca_row5_col6\" class=\"data row5 col6\" >03<br>0.048</td>\n",
       "      <td id=\"T_793ca_row5_col7\" class=\"data row5 col7\" >B1<br>0.054</td>\n",
       "      <td id=\"T_793ca_row5_col8\" class=\"data row5 col8\" >82<br>0.054</td>\n",
       "      <td id=\"T_793ca_row5_col9\" class=\"data row5 col9\" >B2<br>0.051</td>\n",
       "      <td id=\"T_793ca_row5_col10\" class=\"data row5 col10\" >1F<br>0.050</td>\n",
       "      <td id=\"T_793ca_row5_col11\" class=\"data row5 col11\" >5A<br>0.051</td>\n",
       "      <td id=\"T_793ca_row5_col12\" class=\"data row5 col12\" >A5<br>0.058</td>\n",
       "      <td id=\"T_793ca_row5_col13\" class=\"data row5 col13\" >50<br>0.052</td>\n",
       "      <td id=\"T_793ca_row5_col14\" class=\"data row5 col14\" >90<br>0.053</td>\n",
       "      <td id=\"T_793ca_row5_col15\" class=\"data row5 col15\" >53<br>0.053</td>\n",
       "    </tr>\n",
       "  </tbody>\n",
       "</table>\n"
      ],
      "text/plain": [
       "<pandas.io.formats.style.Styler at 0x7f1aa8892e10>"
      ]
     },
     "metadata": {},
     "output_type": "display_data"
    }
   ],
   "source": [
    "attack_results = attack.run(cb, update_interval=1000)"
   ]
  },
  {
   "cell_type": "markdown",
   "metadata": {},
   "source": [
    "The attack results can be saved for later viewing or processing without having to repeat the attack:"
   ]
  },
  {
   "cell_type": "code",
   "execution_count": 4,
   "metadata": {},
   "outputs": [],
   "source": [
    "import pickle\n",
    "pickle_file = project_file + \".results.pickle\"\n",
    "pickle.dump(attack_results, open(pickle_file, \"wb\"))"
   ]
  },
  {
   "cell_type": "markdown",
   "metadata": {},
   "source": [
    "You may notice that we didn't get the expected key from this attack, but still got a good difference in correlation between the best guess and the next best guess. This is because we actually recovered the key from the last round of AES. We'll need to use analyzer to get the actual AES key: "
   ]
  },
  {
   "cell_type": "code",
   "execution_count": 1,
   "metadata": {},
   "outputs": [
    {
     "name": "stdout",
     "output_type": "stream",
     "text": [
      "<class 'chipwhisperer.analyzer.attacks._stats.Results'>\n"
     ]
    }
   ],
   "source": [
    "import pickle\n",
    "attack_results = pickle.load(open(\"projects/Tutorial_HW_CW305_AES.results\" + \".pickle\", \"rb\"))\n",
    "print(type(attack_results))"
   ]
  },
  {
   "cell_type": "code",
   "execution_count": 1,
   "metadata": {},
   "outputs": [
    {
     "name": "stdout",
     "output_type": "stream",
     "text": [
      "<class 'chipwhisperer.analyzer.attacks._stats.Results'>\n"
     ]
    }
   ],
   "source": [
    "import pickle\n",
    "attack_results = pickle.load(open(\"projects/manual_capture_AES.results\" + \".pickle\", \"rb\"))\n",
    "print(type(attack_results))"
   ]
  },
  {
   "cell_type": "code",
   "execution_count": 2,
   "metadata": {},
   "outputs": [
    {
     "name": "stdout",
     "output_type": "stream",
     "text": [
      "0x2b\n",
      "0x7e\n",
      "0x15\n",
      "0x16\n",
      "0x28\n",
      "0xae\n",
      "0xd2\n",
      "0xa6\n",
      "0xab\n",
      "0xf7\n",
      "0x15\n",
      "0x88\n",
      "0x9\n",
      "0xcf\n",
      "0x4f\n",
      "0x3c\n"
     ]
    }
   ],
   "source": [
    "from chipwhisperer.analyzer.attacks.models.aes.key_schedule import key_schedule_rounds\n",
    "# recv_lastroundkey = [kguess[0][0] for kguess in attack_results.find_maximums()]\n",
    "recv_lastroundkey = attack_results.key_guess()\n",
    "recv_key = key_schedule_rounds(recv_lastroundkey, 10, 0)\n",
    "for subkey in recv_key:\n",
    "    print(hex(subkey))"
   ]
  },
  {
   "cell_type": "markdown",
   "metadata": {},
   "source": [
    "## Tests\n",
    "Check that the key obtained by the attack is the key that was used.\n",
    "This attack targets the last round key, so we have to roll it back to compare against the key we provided."
   ]
  },
  {
   "cell_type": "code",
   "execution_count": 6,
   "metadata": {},
   "outputs": [],
   "source": [
    "key = list(project.keys[0])\n",
    "assert (recv_key == key), \"Failed to recover encryption key\\nGot:      {}\\nExpected: {}\".format(recv_key, key)"
   ]
  }
 ],
 "metadata": {
  "kernelspec": {
   "display_name": "Python 3",
   "language": "python",
   "name": "python3"
  },
  "language_info": {
   "codemirror_mode": {
    "name": "ipython",
    "version": 3
   },
   "file_extension": ".py",
   "mimetype": "text/x-python",
   "name": "python",
   "nbconvert_exporter": "python",
   "pygments_lexer": "ipython3",
   "version": "3.7.12"
  }
 },
 "nbformat": 4,
 "nbformat_minor": 4
}
